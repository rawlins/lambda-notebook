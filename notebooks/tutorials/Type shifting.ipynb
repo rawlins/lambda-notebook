{
 "cells": [
  {
   "cell_type": "markdown",
   "metadata": {},
   "source": [
    "# Introduction to type shifting in ILNB\n",
    "### Notebook author: Kyle Rawlins\n",
    "\n",
    "This notebook goes through the basics of how to do type-shifting in the lambda notebook.  Basically, you add a unary rule to the composition system, designate it as a typeshift, and enable type-shifting.  Currently, type-shifting is purely as a last resort.  (If you need to simulate other cases, it is best right now just to use unary rules or extra lexical entries.)\n",
    "\n",
    "In general, I highly recommend that type-shifting be implemented via *combinators*.  A combinator is simply any function that has no free variables.  To build a typeshifting combinator, simply take the typeshift and use the shifted type as a further lambda term.  This strategy will make your life much easier, as it relies only on functional application to do its work.  The alternative, which may be helpful in certain special cases (not documented here) would be to write python code that performs the shift.\n",
    "\n",
    "For example, here is a standard way of defining a type-lifting rule from Partee:\n",
    "\n",
    " * lift: $x \\rightarrow \\lambda f_{<e,t>} : f(x)$\n",
    " \n",
    "The combinator for this typeshift is:"
   ]
  },
  {
   "cell_type": "code",
   "execution_count": null,
   "metadata": {},
   "outputs": [],
   "source": [
    "%%lamb\n",
    "gqlift = L x_e : L f_<e,t> : f(x)"
   ]
  },
  {
   "cell_type": "markdown",
   "metadata": {},
   "source": [
    "A combinator like this can be defined as a ILNB meta-language expression, and conveniently also can be called to perform the type-shift, like any python callable."
   ]
  },
  {
   "cell_type": "code",
   "execution_count": null,
   "metadata": {},
   "outputs": [],
   "source": [
    "%lamb thecat = Iota x_e : Cat_<e,t>(x)\n",
    "gqlift(thecat).reduce_all()"
   ]
  },
  {
   "cell_type": "markdown",
   "metadata": {},
   "source": [
    "(All of the combinators I discuss here are of fixed type.  For flexibly typed combinators, see the examples in the \"Variable free binding\" notebook.)"
   ]
  },
  {
   "cell_type": "markdown",
   "metadata": {},
   "source": [
    "### Predicate Modification (PM via type-shifting\n",
    "\n",
    "The normal PM rule is already implemented in the lambda notebook via a combinator.  This means it is a good candidate for a type-shift."
   ]
  },
  {
   "cell_type": "code",
   "execution_count": null,
   "metadata": {},
   "outputs": [],
   "source": [
    "%%lamb\n",
    "||gray|| = L x_e : Gray(x)\n",
    "||cat|| = L x_e : Cat(x)"
   ]
  },
  {
   "cell_type": "code",
   "execution_count": null,
   "metadata": {},
   "outputs": [],
   "source": [
    "(gray * cat).tree()"
   ]
  },
  {
   "cell_type": "code",
   "execution_count": null,
   "metadata": {},
   "outputs": [],
   "source": [
    "pm_combinator = te(\"L f_<e,t> : L g_<e,t> : L x_e : f(x) & g(x)\")\n",
    "pm_combinator"
   ]
  },
  {
   "cell_type": "markdown",
   "metadata": {},
   "source": [
    "The following code creates a composition system with the PM-shift instead of the regular PM operation.\n",
    "\n",
    "Note the neat trick whereby the combinator can be used directly as the typeshift function.  You won't always want to do this, but it is very clean when it works.  It works because though the combinator is a TypedExpr, `__call__` is defined and so it can be treated like any other python function with one argument (exactly what the factory is looking for).  The reduction step is applied by the object constructed from this factory, and can be disabled with a keyword argument."
   ]
  },
  {
   "cell_type": "code",
   "execution_count": null,
   "metadata": {},
   "outputs": [],
   "source": [
    "system = lang.td_system.copy()\n",
    "system.add_rule(lang.unary_factory(pm_combinator, \"PM-shift\", typeshift=True)) # add this as a typeshift\n",
    "system.remove_rule(\"PM\") # remove ordinary PM\n",
    "system.typeshift = True # enable typeshifts in the composition system\n",
    "lang.set_system(system) # set the new system as the default\n",
    "system"
   ]
  },
  {
   "cell_type": "code",
   "execution_count": null,
   "metadata": {},
   "outputs": [],
   "source": [
    "r = (gray * cat)\n",
    "r"
   ]
  },
  {
   "cell_type": "code",
   "execution_count": null,
   "metadata": {},
   "outputs": [],
   "source": [
    "r.tree()"
   ]
  },
  {
   "cell_type": "markdown",
   "metadata": {},
   "source": [
    "### Quantifiers in object position\n",
    "\n",
    "The \"standard\" approach to quantifiers in object position is to assume that a type mismatch can trigger QR.  However, an alternative is to type-shift the DP to a type where it can take a transitive predicate and ignore the external argument position.\n",
    "\n",
    "This would need to be generalized for n-ary predicates."
   ]
  },
  {
   "cell_type": "code",
   "execution_count": null,
   "metadata": {},
   "outputs": [],
   "source": [
    "%%lamb\n",
    "||every|| = L f_<e,t> : L g_<e,t> : Forall x_e : f(x) >> g(x)\n",
    "||doctor|| = L x_e : Doctor(x)\n",
    "||someone|| = L f_<e,t> : Exists x_e : Human(x) & f(x)\n",
    "||saw|| = L x_e : L y_e : Saw(y,x)\n",
    "||alfonso|| = Alfonso_e"
   ]
  },
  {
   "cell_type": "code",
   "execution_count": null,
   "metadata": {},
   "outputs": [],
   "source": [
    "((every * doctor) * (saw * alfonso)).tree()"
   ]
  },
  {
   "cell_type": "code",
   "execution_count": null,
   "metadata": {},
   "outputs": [],
   "source": [
    "(saw * (every * doctor))"
   ]
  },
  {
   "cell_type": "markdown",
   "metadata": {},
   "source": [
    "The following combinator shifts a GQ type into something that can handle a transitive verb."
   ]
  },
  {
   "cell_type": "code",
   "execution_count": null,
   "metadata": {},
   "outputs": [],
   "source": [
    "gq_lift_combinator = %te L f_<<e,t>,t> : L g_<e,<e,t>> : L x_e : f(L y_e : g(y)(x))\n",
    "gq_lift_combinator"
   ]
  },
  {
   "cell_type": "code",
   "execution_count": null,
   "metadata": {},
   "outputs": [],
   "source": [
    "gq_lift_combinator(someone.content).reduce_all()"
   ]
  },
  {
   "cell_type": "code",
   "execution_count": null,
   "metadata": {},
   "outputs": [],
   "source": []
  },
  {
   "cell_type": "code",
   "execution_count": null,
   "metadata": {},
   "outputs": [],
   "source": [
    "system = lang.td_system.copy()\n",
    "system.add_rule(lang.unary_factory(gq_lift_combinator, \"gq-lift-trans\", typeshift=True))\n",
    "system.typeshift = True\n",
    "lang.set_system(system)\n",
    "system"
   ]
  },
  {
   "cell_type": "code",
   "execution_count": null,
   "metadata": {},
   "outputs": [],
   "source": [
    "(alfonso * (saw * someone))"
   ]
  },
  {
   "cell_type": "code",
   "execution_count": null,
   "metadata": {},
   "outputs": [],
   "source": [
    "(someone * (saw * (every * doctor)))"
   ]
  },
  {
   "cell_type": "code",
   "execution_count": null,
   "metadata": {},
   "outputs": [],
   "source": [
    "r = ((every * doctor) * (saw * someone))\n",
    "r"
   ]
  },
  {
   "cell_type": "code",
   "execution_count": null,
   "metadata": {},
   "outputs": [],
   "source": [
    "r.tree()"
   ]
  },
  {
   "cell_type": "markdown",
   "metadata": {},
   "source": [
    "This so far produces only surface scope readings when there are multiple quantifiers.\n",
    "\n",
    "Following work in CCG, one might imagine that composition needn't match constituency; if the subject shifts and composes with the verb before the object we can get the other scoping.  (In CCG this is implemented using a function composition operation, not a type-shift.)"
   ]
  },
  {
   "cell_type": "code",
   "execution_count": null,
   "metadata": {},
   "outputs": [],
   "source": [
    "r = (someone * (saw * (every * doctor)))\n",
    "r"
   ]
  },
  {
   "cell_type": "markdown",
   "metadata": {},
   "source": [
    "Someone interested in constituency might find this unsatisfying.  How could this be resolved using a type-shift?  One idea (due to Hendriks) is to build scope-taking shifts that operate on verb meanings.  This is not necessarily more satisfying.."
   ]
  },
  {
   "cell_type": "code",
   "execution_count": null,
   "metadata": {},
   "outputs": [],
   "source": [
    "surface_shift_comb = te(\"L v_<e,<e,t>> : L f_<<e,t>,t> : L g_<<e,t>,t> : g(L y_e : f(L x_e : (v(x)(y))))\")\n",
    "inverse_shift_comb = te(\"L v_<e,<e,t>> : L f_<<e,t>,t> : L g_<<e,t>,t> : f(L x_e : g(L y_e : (v(x)(y))))\")\n",
    "\n",
    "inverse_shift_comb(saw.content).reduce_all()"
   ]
  },
  {
   "cell_type": "code",
   "execution_count": null,
   "metadata": {},
   "outputs": [],
   "source": [
    "system = lang.td_system.copy()\n",
    "system.add_rule(lang.unary_factory(surface_shift_comb, \"surface\", typeshift=True))\n",
    "system.add_rule(lang.unary_factory(inverse_shift_comb, \"inverse\", typeshift=True))\n",
    "system.typeshift = True\n",
    "lang.set_system(system)\n",
    "system"
   ]
  },
  {
   "cell_type": "code",
   "execution_count": null,
   "metadata": {},
   "outputs": [],
   "source": [
    "r = (someone * ((every * doctor) * saw))\n",
    "r"
   ]
  },
  {
   "cell_type": "code",
   "execution_count": null,
   "metadata": {},
   "outputs": [],
   "source": [
    "r[1].tree()"
   ]
  },
  {
   "cell_type": "markdown",
   "metadata": {},
   "source": [
    "A final strategy would be to provide an even higher object type-lift that implements inverse scope.  This is effectively the combinator for Hendriks' inverse scope shifter with the order of arguments reversed."
   ]
  },
  {
   "cell_type": "code",
   "execution_count": null,
   "metadata": {},
   "outputs": [],
   "source": [
    "gq_lift_combinator = te(\"L f_<<e,t>,t> : L g_<e,<e,t>> : L x_e : f(L y_e : g(y)(x))\")\n",
    "gq_lift_combinator2 = te(\"L f_<<e,t>,t> : L g_<e,<e,t>> : L h_<<e,t>,t> : f(L y_e : h(L x_e : g(y)(x)))\")\n",
    "\n",
    "gq_lift_combinator2.type"
   ]
  },
  {
   "cell_type": "code",
   "execution_count": null,
   "metadata": {},
   "outputs": [],
   "source": [
    "system = lang.td_system.copy()\n",
    "system.add_rule(lang.unary_factory(gq_lift_combinator, \"gq-lift-trans\", typeshift=True))\n",
    "system.add_rule(lang.unary_factory(gq_lift_combinator2, \"gq-lift2-trans\", typeshift=True))\n",
    "system.typeshift = True\n",
    "lang.set_system(system)\n",
    "system"
   ]
  },
  {
   "cell_type": "code",
   "execution_count": null,
   "metadata": {},
   "outputs": [],
   "source": [
    "r = (someone * ((every * doctor) * saw))\n",
    "r"
   ]
  },
  {
   "cell_type": "code",
   "execution_count": null,
   "metadata": {},
   "outputs": [],
   "source": [
    "r.tree()"
   ]
  },
  {
   "cell_type": "markdown",
   "metadata": {},
   "source": [
    "### Partee's type-shifts\n",
    "\n",
    "(needs to be added)"
   ]
  }
 ],
 "metadata": {
  "kernelspec": {
   "display_name": "Lambda Notebook (Python 3)",
   "language": "python",
   "name": "lambda-notebook"
  },
  "language_info": {
   "codemirror_mode": {
    "name": "ipython",
    "version": 3
   },
   "file_extension": ".py",
   "mimetype": "text/x-python",
   "name": "python",
   "nbconvert_exporter": "python",
   "pygments_lexer": "ipython3",
   "version": "3.9.18"
  }
 },
 "nbformat": 4,
 "nbformat_minor": 4
}
