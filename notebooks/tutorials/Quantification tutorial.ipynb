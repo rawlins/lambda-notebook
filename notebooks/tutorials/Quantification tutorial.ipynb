{
 "cells": [
  {
   "cell_type": "markdown",
   "metadata": {},
   "source": [
    "## Quantifiers and scope tutorial\n",
    "\n",
    "### Kyle Rawlins  11/16/18, updated 10/27/2021\n",
    "\n",
    "This notebook walks through several basic techniques for handling quantifier scope, together with how to implement them in the Lambda Notebook."
   ]
  },
  {
   "cell_type": "markdown",
   "metadata": {},
   "source": [
    "### Quantifiers in object position\n"
   ]
  },
  {
   "cell_type": "code",
   "execution_count": null,
   "metadata": {},
   "outputs": [],
   "source": [
    "%%lamb\n",
    "||every|| = L f_<e,t> : L g_<e,t> : Forall x_e : f(x) >> g(x)\n",
    "||doctor|| = L x_e : Doctor(x)\n",
    "||someone|| = L f_<e,t> : Exists x_e : Human(x) & f(x)\n",
    "||saw|| = L x_e : L y_e : Saw(y,x)\n",
    "||alfonso|| = Alfonso_e"
   ]
  },
  {
   "cell_type": "code",
   "execution_count": null,
   "metadata": {},
   "outputs": [],
   "source": [
    "((every * doctor) * (saw * alfonso)).tree()"
   ]
  },
  {
   "cell_type": "code",
   "execution_count": null,
   "metadata": {},
   "outputs": [],
   "source": [
    "(saw * (every * doctor))"
   ]
  },
  {
   "cell_type": "markdown",
   "metadata": {},
   "source": [
    "### Quantifiers in object position via QR\n",
    "\n",
    "The \"standard\" approach is to move an object position quantified DP so it scopes over its immediate TP.  The lambda notebook doesn't automate QR yet (feel free to submit a pull request...).  However, it is easy to construct the trees \"by hand\".  This notebook does so by bottom-up composition. We will need traces and binders.  A version of Predicate Abstraction (PA) is already present as a composition operation in the default system."
   ]
  },
  {
   "cell_type": "code",
   "execution_count": null,
   "metadata": {},
   "outputs": [],
   "source": [
    "trace = lang.Trace(2)\n",
    "trace"
   ]
  },
  {
   "cell_type": "code",
   "execution_count": null,
   "metadata": {},
   "outputs": [],
   "source": [
    "binder = lang.Binder(2)\n",
    "binder"
   ]
  },
  {
   "cell_type": "code",
   "execution_count": null,
   "metadata": {},
   "outputs": [],
   "source": [
    "lang.get_system()"
   ]
  },
  {
   "cell_type": "code",
   "execution_count": null,
   "metadata": {},
   "outputs": [],
   "source": [
    "# use svgling to at least produce some nice diagrams -- some day this can be auto-generated!\n",
    "import svgling, svgling.figure\n",
    "qrtree2 = (\"TP\", (\"DP\", (\"D\", \"every\"), (\"NP\", (\"N\", \"doctor\"))),\n",
    "                      (\"TP\", \"3\", (\"TP\", (\"DP\", (\"D\", \"Alfonso\")),\n",
    "                                   (\"VP\", (\"V\", \"saw\"), (\"DP\", \"t(3)\")))))\n",
    "out2 = svgling.draw_tree(qrtree2)\n",
    "out2.movement_arrow((1,1,1,1), (0,))\n",
    "out2.box_constituent((0,))\n",
    "out2 = svgling.figure.Caption(out2, \"Object position QR, referential subject\")\n",
    "out2"
   ]
  },
  {
   "cell_type": "code",
   "execution_count": null,
   "metadata": {},
   "outputs": [],
   "source": [
    "(every * doctor) * (binder * (alfonso * (saw * trace)))"
   ]
  },
  {
   "cell_type": "code",
   "execution_count": null,
   "metadata": {},
   "outputs": [],
   "source": [
    "((every * doctor) * (binder * (alfonso * (saw * trace)))).tree()"
   ]
  },
  {
   "cell_type": "code",
   "execution_count": null,
   "metadata": {},
   "outputs": [],
   "source": [
    "import svgling, svgling.figure\n",
    "qrtree2 = (\"TP\", (\"DP\", (\"D\", \"every\"), (\"NP\", (\"N\", \"doctor\"))),\n",
    "                      (\"TP\", \"3\", (\"TP\", (\"DP\", (\"D\", \"someone\")),\n",
    "                                   (\"VP\", (\"V\", \"saw\"), (\"DP\", \"t(3)\")))))\n",
    "out2 = svgling.draw_tree(qrtree2)\n",
    "out2.movement_arrow((1,1,1,1), (0,))\n",
    "out2.box_constituent((0,))\n",
    "out2 = svgling.figure.Caption(out2, \"Object position QR, quantificational subject\")\n",
    "out2"
   ]
  },
  {
   "cell_type": "code",
   "execution_count": null,
   "metadata": {},
   "outputs": [],
   "source": [
    "(every * doctor) * (binder * (someone * (saw * trace)))"
   ]
  },
  {
   "cell_type": "markdown",
   "metadata": {},
   "source": [
    "To get surface scope, you need to also move the subject (after moving the object).  This results in a second trace / binding operator."
   ]
  },
  {
   "cell_type": "code",
   "execution_count": null,
   "metadata": {},
   "outputs": [],
   "source": [
    "import svgling, svgling.figure\n",
    "qrtree3 = (\"TP\", (\"DP\", (\"D\", \"every\"), (\"NP\", (\"N\", \"cat\"))),\n",
    "           (\"TP\", \"5\", (\"TP\", (\"DP\", (\"D\", \"someone\")),\n",
    "                     (\"TP\", \"2\", (\"TP\", (\"DP\", \"t(5)\"), (\"VP\", (\"V\", \"likes\"), (\"DP\", \"t(2)\")))))))\n",
    "out3 = svgling.draw_tree(qrtree3)\n",
    "out3.movement_arrow((1,1,1,1,0), (0,))\n",
    "out3.box_constituent((0,))\n",
    "out3.movement_arrow((1,1,1,1,1,1), (1,1,0))\n",
    "out3.box_constituent((1,1,0))\n",
    "out3 = svgling.figure.Caption(out3, \"QR object then subject\")\n",
    "out3"
   ]
  },
  {
   "cell_type": "code",
   "execution_count": null,
   "metadata": {},
   "outputs": [],
   "source": [
    "(someone * (lang.Binder(5) * ((every * doctor) * (binder * (lang.Trace(5) * (saw * trace))))))"
   ]
  },
  {
   "cell_type": "markdown",
   "metadata": {},
   "source": [
    "Here's another example illustrating the other QR order that is possible, where first the subject QRs and then the object. This is equivalent to interpreting the subject in situ."
   ]
  },
  {
   "cell_type": "code",
   "execution_count": null,
   "metadata": {},
   "outputs": [],
   "source": [
    "%%lamb\n",
    "||every|| = L f_<e,t> : L g_<e,t> : Forall x_e : f(x) >> g(x)\n",
    "||cat|| = L x_e : Cat(x)\n",
    "||dog|| = L x_e : Dog(x)\n",
    "||some|| = L f_<e,t> : L g_<e,t> : Exists x_e : f(x) & g(x)\n",
    "||likes|| = L x_e : L y_e : Likes(y,x)"
   ]
  },
  {
   "cell_type": "code",
   "execution_count": null,
   "metadata": {},
   "outputs": [],
   "source": [
    "import svgling, svgling.figure\n",
    "qrtree3 = (\"TP\", (\"DP\", (\"D\", \"every\"), (\"NP\", (\"N\", \"cat\"))),\n",
    "           (\"TP\", \"1\", (\"TP\", (\"DP\", (\"D\", \"some\"), (\"NP\", (\"N\", \"dog\"))),\n",
    "                     (\"TP\", \"3\", (\"TP\", (\"DP\", \"t(3)\"), (\"VP\", (\"V\", \"likes\"), (\"DP\", \"t(1)\")))))))\n",
    "out3 = svgling.draw_tree(qrtree3)\n",
    "out3.movement_arrow((1,1,1,1,1,1), (0,))\n",
    "out3.box_constituent((0,))\n",
    "#out3.movement_arrow((1,1,1,1,1,1), (1,1,0))\n",
    "out3.movement_arrow((1,1,1,1,0), (1,1,0))\n",
    "out3.box_constituent((1,1,0))\n",
    "out3 = svgling.figure.Caption(out3, \"QR subject then object\")\n",
    "out3"
   ]
  },
  {
   "cell_type": "code",
   "execution_count": null,
   "metadata": {},
   "outputs": [],
   "source": [
    "(every * cat) * (lang.Binder(1) * ((some * dog) * (lang.Binder(3) *  (lang.Trace(1) * (likes * lang.Trace(3))))))"
   ]
  },
  {
   "cell_type": "code",
   "execution_count": null,
   "metadata": {},
   "outputs": [],
   "source": [
    "((every * cat) * (lang.Binder(1) * ((some * dog) * (lang.Binder(3) *  (lang.Trace(3) * (likes * lang.Trace(1))))))).tree()"
   ]
  },
  {
   "cell_type": "markdown",
   "metadata": {},
   "source": [
    "Summary figure showing a complete QR process. This figure is adapted directly from the svgling gallery (https://nbviewer.org/github/rawlins/svgling/blob/master/svgling%20Gallery.ipynb)."
   ]
  },
  {
   "cell_type": "code",
   "execution_count": null,
   "metadata": {},
   "outputs": [],
   "source": [
    "import svgling, svgling.figure\n",
    "qrtree0 = (\"TP\", (\"DP\", (\"D\", \"every\"), (\"NP\", (\"N\", \"cat\"))),\n",
    "                                   (\"VP\", (\"V\", \"likes\"), (\"DP\", (\"D\", \"some\"), (\"NP\", (\"N\", \"dog\")))))\n",
    "out0 = svgling.figure.Caption(svgling.draw_tree(qrtree0), \"LF input (= Surface Structure)\")\n",
    "\n",
    "qrtree1 = (\"TP\", (\"DP(1)\", (\"D\", \"every\"), (\"NP\", (\"N\", \"cat\"))),\n",
    "                                   (\"VP\", (\"V\", \"likes\"), (\"DP(3)\", (\"D\", \"some\"), (\"NP\", (\"N\", \"dog\")))))\n",
    "out1 = svgling.draw_tree(qrtree1)\n",
    "out1.box_constituent((0,))\n",
    "out1.box_constituent((1,1))\n",
    "out1 = svgling.figure.Caption(out1, \"Step 1: free indexing of DPs (1 of 2 indexings)\")\n",
    "\n",
    "qrtree2 = (\"TP\", (\"DP\", (\"D\", \"some\"), (\"NP\", (\"N\", \"dog\"))),\n",
    "                      (\"TP\", \"3\", (\"TP\", (\"DP(1)\", (\"D\", \"every\"), (\"NP\", (\"N\", \"cat\"))),\n",
    "                                   (\"VP\", (\"V\", \"likes\"), (\"DP\", \"t(3)\")))))\n",
    "out2 = svgling.draw_tree(qrtree2)\n",
    "out2.movement_arrow((1,1,1,1), (0,))\n",
    "out2.box_constituent((0,))\n",
    "out2.box_constituent((1,1,0))\n",
    "out2 = svgling.figure.Caption(out2, \"Step 2: QR an indexed DP (choosing the object)\")\n",
    "\n",
    "qrtree3 = (\"TP\", (\"DP\", (\"D\", \"every\"), (\"NP\", (\"N\", \"cat\"))),\n",
    "           (\"TP\", \"1\", (\"TP\", (\"DP\", (\"D\", \"some\"), (\"NP\", (\"N\", \"dog\"))),\n",
    "                     (\"TP\", \"3\", (\"TP\", (\"DP\", \"t(1)\"), (\"VP\", (\"V\", \"likes\"), (\"DP\", \"t(3)\")))))))\n",
    "out3 = svgling.draw_tree(qrtree3)\n",
    "out3.movement_arrow((1,1,1,1,0), (0,))\n",
    "out3.box_constituent((0,))\n",
    "out3.movement_arrow((1,1,1,1,1,1), (1,1,0))\n",
    "out3.box_constituent((1,1,0))\n",
    "out3 = svgling.figure.Caption(out3, \"Step 3: QR an indexed DP (choosing the subject).\")\n",
    "\n",
    "svgling.figure.Caption(svgling.figure.RowByRow(svgling.figure.SideBySide(out0, out1), svgling.figure.SideBySide(out2,out3)), \"Trees illustrating a QR (Quantifier Raising) derivation in the Heim & Kratzer 1998 style\")"
   ]
  },
  {
   "cell_type": "markdown",
   "metadata": {},
   "source": [
    "### Quantifiers in object position via type shifting\n",
    "\n",
    "An alternative approach to the object-position puzzle is to type-shift the DP to a type where it can take a transitive predicate and ignore the external argument position.\n",
    "\n",
    "This would need to be generalized for n-ary predicates, e.g. the indirect object of \"introduce\"."
   ]
  },
  {
   "cell_type": "code",
   "execution_count": null,
   "metadata": {},
   "outputs": [],
   "source": [
    "%%lamb\n",
    "||every|| = L f_<e,t> : L g_<e,t> : Forall x_e : f(x) >> g(x)\n",
    "||doctor|| = L x_e : Doctor(x)\n",
    "||someone|| = L f_<e,t> : Exists x_e : Human(x) & f(x)\n",
    "||saw|| = L x_e : L y_e : Saw(y,x)\n",
    "||alfonso|| = Alfonso_e"
   ]
  },
  {
   "cell_type": "markdown",
   "metadata": {},
   "source": [
    "The following combinator shifts a GQ type into something that can handle a transitive verb."
   ]
  },
  {
   "cell_type": "code",
   "execution_count": null,
   "metadata": {},
   "outputs": [],
   "source": [
    "gq_lift_combinator = %te L f_<<e,t>,t> : L g_<e,<e,t>> : L x_e : f(L y_e : g(y)(x))\n",
    "gq_lift_combinator"
   ]
  },
  {
   "cell_type": "code",
   "execution_count": null,
   "metadata": {},
   "outputs": [],
   "source": [
    "gq_lift_combinator.type"
   ]
  },
  {
   "cell_type": "code",
   "execution_count": null,
   "metadata": {},
   "outputs": [],
   "source": [
    "gq_lift_combinator(someone.content).reduce_all()"
   ]
  },
  {
   "cell_type": "code",
   "execution_count": null,
   "metadata": {},
   "outputs": [],
   "source": [
    "system = lang.td_system.copy()\n",
    "system.add_rule(lang.unary_factory(gq_lift_combinator, \"gq-lift-trans\", typeshift=True))\n",
    "system.typeshift = True\n",
    "lang.set_system(system)\n",
    "system"
   ]
  },
  {
   "cell_type": "code",
   "execution_count": null,
   "metadata": {},
   "outputs": [],
   "source": [
    "(alfonso * (saw * someone))"
   ]
  },
  {
   "cell_type": "code",
   "execution_count": null,
   "metadata": {},
   "outputs": [],
   "source": [
    "(alfonso * (saw * someone)).tree()"
   ]
  },
  {
   "cell_type": "code",
   "execution_count": null,
   "metadata": {},
   "outputs": [],
   "source": [
    "(someone * (saw * (every * doctor)))"
   ]
  },
  {
   "cell_type": "code",
   "execution_count": null,
   "metadata": {},
   "outputs": [],
   "source": [
    "((every * doctor) * (saw * someone))"
   ]
  },
  {
   "cell_type": "markdown",
   "metadata": {},
   "source": [
    "### Quantifier scope via type shifting\n",
    "\n",
    "This so far produces only surface scope readings when there are multiple quantifiers.\n",
    "\n",
    "*Approach 1*: Following work in CCG, one might imagine that composition needn't match constituency; if the subject shifts and composes with the verb before the object we can get the other scoping.  (In CCG this is implemented using a function composition operation, not a type-shift.)"
   ]
  },
  {
   "cell_type": "markdown",
   "metadata": {},
   "source": [
    "*Approach 2*: Someone interested in constituency might find this unsatisfying.  How could this be resolved using a type-shift?  One idea (due to Hendriks) is to build scope-taking shifts that operate on verb meanings."
   ]
  },
  {
   "cell_type": "code",
   "execution_count": null,
   "metadata": {},
   "outputs": [],
   "source": [
    "surface_shift_comb = %te L v_<e,<e,t>> : L f_<<e,t>,t> : L g_<<e,t>,t> : g(L y_e : f(L x_e : (v(x)(y))))\n",
    "inverse_shift_comb = %te L v_<e,<e,t>> : L f_<<e,t>,t> : L g_<<e,t>,t> : f(L x_e : g(L y_e : (v(x)(y))))\n",
    "\n",
    "inverse_shift_comb(saw.content).reduce_all()"
   ]
  },
  {
   "cell_type": "code",
   "execution_count": null,
   "metadata": {},
   "outputs": [],
   "source": [
    "surface_shift_comb(saw.content).reduce_all()"
   ]
  },
  {
   "cell_type": "markdown",
   "metadata": {},
   "source": [
    "Let's create a new composition system with both of these combinators used as typeshifts."
   ]
  },
  {
   "cell_type": "code",
   "execution_count": null,
   "metadata": {},
   "outputs": [],
   "source": [
    "system = lang.td_system.copy()\n",
    "system.add_rule(lang.unary_factory(surface_shift_comb, \"surface\", typeshift=True))\n",
    "system.add_rule(lang.unary_factory(inverse_shift_comb, \"inverse\", typeshift=True))\n",
    "system.typeshift = True\n",
    "lang.set_system(system)\n",
    "system"
   ]
  },
  {
   "cell_type": "code",
   "execution_count": null,
   "metadata": {},
   "outputs": [],
   "source": [
    "r = (someone * ((every * doctor) * saw))\n",
    "r"
   ]
  },
  {
   "cell_type": "code",
   "execution_count": null,
   "metadata": {},
   "outputs": [],
   "source": [
    "r[0].tree()"
   ]
  },
  {
   "cell_type": "code",
   "execution_count": null,
   "metadata": {},
   "outputs": [],
   "source": [
    "r[1].tree()"
   ]
  },
  {
   "cell_type": "markdown",
   "metadata": {},
   "source": [
    "*Approach 3*: A final strategy would be to provide the first gq-shifter plus an even higher object type-lift that implements inverse scope.  This is effectively the combinator for Hendriks' inverse scope shifter with the order of arguments reversed."
   ]
  },
  {
   "cell_type": "code",
   "execution_count": null,
   "metadata": {},
   "outputs": [],
   "source": [
    "gq_lift_combinator = te(\"L f_<<e,t>,t> : L g_<e,<e,t>> : L x_e : f(L y_e : g(y)(x))\")\n",
    "gq_lift_combinator2 = te(\"L f_<<e,t>,t> : L g_<e,<e,t>> : L h_<<e,t>,t> : f(L y_e : h(L x_e : g(y)(x)))\")\n",
    "\n",
    "gq_lift_combinator2 #.type"
   ]
  },
  {
   "cell_type": "code",
   "execution_count": null,
   "metadata": {},
   "outputs": [],
   "source": [
    "system = lang.td_system.copy()\n",
    "system.add_rule(lang.unary_factory(gq_lift_combinator, \"gq-lift-trans\", typeshift=True))\n",
    "system.add_rule(lang.unary_factory(gq_lift_combinator2, \"gq-lift2-trans\", typeshift=True))\n",
    "system.typeshift = True\n",
    "lang.set_system(system)\n",
    "system"
   ]
  },
  {
   "cell_type": "code",
   "execution_count": null,
   "metadata": {},
   "outputs": [],
   "source": [
    "r = (someone * ((every * doctor) * saw))\n",
    "r"
   ]
  },
  {
   "cell_type": "code",
   "execution_count": null,
   "metadata": {},
   "outputs": [],
   "source": [
    "r[1].tree()"
   ]
  },
  {
   "cell_type": "code",
   "execution_count": null,
   "metadata": {},
   "outputs": [],
   "source": []
  }
 ],
 "metadata": {
  "kernelspec": {
   "display_name": "Lambda Notebook (Python 3)",
   "language": "python",
   "name": "lambda-notebook"
  },
  "language_info": {
   "codemirror_mode": {
    "name": "ipython",
    "version": 3
   },
   "file_extension": ".py",
   "mimetype": "text/x-python",
   "name": "python",
   "nbconvert_exporter": "python",
   "pygments_lexer": "ipython3",
   "version": "3.7.6"
  }
 },
 "nbformat": 4,
 "nbformat_minor": 4
}
