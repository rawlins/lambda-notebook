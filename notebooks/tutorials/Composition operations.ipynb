{
 "cells": [
  {
   "cell_type": "code",
   "execution_count": null,
   "metadata": {},
   "outputs": [],
   "source": [
    "# normally, calling `reload_lamb()` is bad practice. The reason is that after you run\n",
    "# it, all `lamb` objects still in the python environment become `stale` -- they are\n",
    "# no longer recognized as valid TypedExprs, types, etc.\n",
    "# However, when working on something that modifies `lamb` internals, it can be quite useful...\n",
    "reload_lamb()"
   ]
  },
  {
   "cell_type": "markdown",
   "metadata": {},
   "source": [
    "# Tutorial: adding composition operations\n",
    "### Author: Kyle Rawlins\n",
    "\n",
    "You can write a new composition rule in three ways, in order of complexity (from simplest to hardest):\n",
    "\n",
    "1. Write a metalanguage combinator that describes the rule and instantiate it as a composition rule.  This involves variants of the following syntax:\n",
    "        system.add_binary_rule(combinator, \"NAME\")\n",
    "2. Write a python function that describes the rule (as an operation over meta-language elements) and instantiate it as a composition rule.  The above `add_rule` call expects curried functions, and python functions are usually uncurried, but the call is essentially the same:\n",
    "       system.add_binary_rule_uncurried(function, \"names\")\n",
    "3. Write a python function that operates on object language elements (instances of `lang.SingletonComposable`) and produces an object language element (typically an instance of `lang.Composite`).\n",
    "\n",
    "Where possible, you should apply strategy 1, and then 2.  Both of these handle a whole bunch of bookkeeping for you.  Doing 3 correctly in the general case often requires some detailed knowledge of the internals of the lambda notebook, and it is easy to make mistakes with the most obvious implementations.  (Sometimes it is unavoidable, as in the monster example below, or Predicate Abstraction.)"
   ]
  },
  {
   "cell_type": "markdown",
   "metadata": {},
   "source": [
    "### Example 1.  A unary operator: existential closure\n",
    "\n",
    "The simplest kind of operation to add is a unary operation, and existential closure is a good example of this.  (See the type shifting tutorial notebook for more examples of unary operations.)  The idea of existential closure is to existentially bind of some variable that is currently exposed as a lambda term in a formula.  The idea is easiest to see in the form of a combinator.  Existential closure is usually introduced at other types, but I will just use `e` for exemplification:"
   ]
  },
  {
   "cell_type": "code",
   "execution_count": null,
   "metadata": {},
   "outputs": [],
   "source": [
    "ec_combinator = te(\"lambda f_<e,t> : Exists x_e : f(x)\")\n",
    "ec_combinator"
   ]
  },
  {
   "cell_type": "markdown",
   "metadata": {},
   "source": [
    "Any metalanguage function is also a python function, so you can do stuff like the following directly to see how this works:"
   ]
  },
  {
   "cell_type": "code",
   "execution_count": null,
   "metadata": {},
   "outputs": [],
   "source": [
    "%lamb ||cat|| = L x_e : Cat(x)\n",
    "%lamb ||gray|| = L x_e : Gray(x)\n",
    "ec_combinator(cat.content).reduce_all()"
   ]
  },
  {
   "cell_type": "markdown",
   "metadata": {},
   "source": [
    "Adding this to the composition system is straightforward.  The following code makes a copy of one of the default systems and adds the existential closure rule as a unary rule based on the combinator:"
   ]
  },
  {
   "cell_type": "code",
   "execution_count": null,
   "metadata": {},
   "outputs": [],
   "source": [
    "system = lang.td_system.copy()\n",
    "system.add_unary_rule(ec_combinator, \"EC\")\n",
    "lang.set_system(system)\n",
    "system"
   ]
  },
  {
   "cell_type": "code",
   "execution_count": null,
   "metadata": {},
   "outputs": [],
   "source": [
    "cat * gray"
   ]
  },
  {
   "cell_type": "markdown",
   "metadata": {},
   "source": [
    "One way to force a unary rule to apply is to use `* None`:"
   ]
  },
  {
   "cell_type": "code",
   "execution_count": null,
   "metadata": {},
   "outputs": [],
   "source": [
    "ectest = (cat * gray) * None\n",
    "ectest"
   ]
  },
  {
   "cell_type": "code",
   "execution_count": null,
   "metadata": {},
   "outputs": [],
   "source": [
    "ectest.tree(derivations=True)"
   ]
  },
  {
   "cell_type": "code",
   "execution_count": null,
   "metadata": {},
   "outputs": [],
   "source": [
    "ectest.trace()"
   ]
  },
  {
   "cell_type": "markdown",
   "metadata": {},
   "source": [
    "### Appendix 1: other ways of introducing existential closure\n",
    "\n",
    "Behind the scenes, `add_unary_rule` constructs a CompositionOp using a factory function.  We could unpack this as follows:"
   ]
  },
  {
   "cell_type": "code",
   "execution_count": null,
   "metadata": {},
   "outputs": [],
   "source": [
    "ec_rule = lang.unary_factory(ec_combinator, \"EC\", typeshift=False)\n",
    "system = lang.td_system.copy()\n",
    "system.add_rule(ec_rule)\n",
    "lang.set_system(system)\n",
    "%lamb ||cat|| = L x_e : Cat(x)\n",
    "%lamb ||gray|| = L x_e : Gray(x)\n",
    "system"
   ]
  },
  {
   "cell_type": "code",
   "execution_count": null,
   "metadata": {},
   "outputs": [],
   "source": [
    "cat * None"
   ]
  },
  {
   "cell_type": "markdown",
   "metadata": {},
   "source": [
    "A more elaborate thing would be to try strategy 3 above: write a function that manipulates object language elements to perform existential closure.  There is a bunch of extra complexity that you need to keep track of when doing this, including metalanguage assignments.  The following is an example function that implements existential closure still using the combinator internally; one could of course build the result in some other way (but this is surprisingly easy to get wrong).  Note that the type checking isn't strictly necessary, as it would happen from the combinator -- it is here for example purposes."
   ]
  },
  {
   "cell_type": "code",
   "execution_count": null,
   "metadata": {},
   "outputs": [],
   "source": [
    "def ec_fun_direct(f, assignment=None):\n",
    "    ts = meta.get_type_system() # load the current type system\n",
    "    if not (ts.eq_check(f.type, types.type_property)): # is the type a property type?  (<e,t>)\n",
    "        raise types.TypeMismatch(f, None, \"Existential closure for <e,t>\")  # if not, raise an exception.\n",
    "    ec_expr = te(\"lambda f_<e,t> : Exists x_e : f(x)\") # use the combinator\n",
    "    result = ec_expr.apply(f.content.under_assignment(assignment)).reduce() # reduce the outermost lambda\n",
    "    return lang.UnaryComposite(f, result, source=\"EC-direct(%s)\" % (f.name))\n",
    "\n",
    "ec_fun_direct(cat).content"
   ]
  },
  {
   "cell_type": "markdown",
   "metadata": {},
   "source": [
    "To use this you need to build a CompositionOp out of it.  Once you have this, add it to the composition system as usual"
   ]
  },
  {
   "cell_type": "code",
   "execution_count": null,
   "metadata": {},
   "outputs": [],
   "source": [
    "system = lang.td_system.copy()\n",
    "system.add_rule(lang.UnaryCompositionOp(\"EC-direct\", ec_fun_direct, typeshift=False, reduce=True))\n",
    "lang.set_system(system)\n",
    "system"
   ]
  },
  {
   "cell_type": "code",
   "execution_count": null,
   "metadata": {},
   "outputs": [],
   "source": [
    "cat * None"
   ]
  },
  {
   "cell_type": "markdown",
   "metadata": {},
   "source": [
    "### Example 2.  A binary rule: Predicate Modification\n",
    "\n",
    "What about binary composition operations?  Predicate modification comes built in, but it is useful to see how one might construct PM.  Like the built-in version, this is restricted to type `<e,t>`."
   ]
  },
  {
   "cell_type": "code",
   "execution_count": null,
   "metadata": {},
   "outputs": [],
   "source": [
    "pm_op = %te L f_<e,t> : L g_<e,t> : L x_e : f(x) & g(x)\n",
    "pm_op"
   ]
  },
  {
   "cell_type": "code",
   "execution_count": null,
   "metadata": {},
   "outputs": [],
   "source": [
    "pm_op(cat.content)(gray.content).reduce_all().derivation"
   ]
  },
  {
   "cell_type": "markdown",
   "metadata": {},
   "source": [
    "Now, Predicate Modification can be constructed directly using this combinator."
   ]
  },
  {
   "cell_type": "code",
   "execution_count": null,
   "metadata": {},
   "outputs": [],
   "source": [
    "system = lang.td_system.copy()\n",
    "system.remove_rule(\"PM\")\n",
    "system.add_binary_rule(pm_op, \"PM2\")\n",
    "lang.set_system(system)\n",
    "%lamb ||cat|| = L x_e : Cat(x)\n",
    "%lamb ||gray|| = L x_e : Gray(x)\n",
    "system"
   ]
  },
  {
   "cell_type": "code",
   "execution_count": null,
   "metadata": {},
   "outputs": [],
   "source": [
    "(cat * gray).tree()"
   ]
  },
  {
   "cell_type": "markdown",
   "metadata": {},
   "source": [
    "See the neo-Davidsonian event semantics fragment for an example of how to write a generalized PM that works for polymorphic types."
   ]
  },
  {
   "cell_type": "markdown",
   "metadata": {},
   "source": [
    "### Appendix 2: an object-language implementation for Predicate Modification\n",
    "\n",
    "Once again, you could write a python function that does the work.  This one still uses the combinator internally.\n",
    "  * Tangent: your instinct may be to construct the result directly by building up the right TypedExpression.  This is certainly possible, but it is surprisingly tricky to get right; I encourage you to find solutions that involve combinators.\n",
    "  * One reason is that you would have to deal with some issues in variable renaming to handle the general case of this; using beta reduction via a combinator ensures that this is all taken care of."
   ]
  },
  {
   "cell_type": "code",
   "execution_count": null,
   "metadata": {},
   "outputs": [],
   "source": [
    "pm_op = lang.te(\"L f_<e,t> : L g_<e,t> : L x_e : f(x) & g(x)\")\n",
    "\n",
    "def pm_fun(fun1, fun2, assignment=None):\n",
    "    \"\"\"H&K predicate modification -- restricted to type <e,t>.\"\"\"\n",
    "    ts = meta.get_type_system()\n",
    "    if not (ts.eq_check(fun1.type, types.type_property) and \n",
    "            ts.eq_check(fun2.type, types.type_property)):\n",
    "        raise TypeMismatch(fun1, fun2, error=\"Predicate Modification\")\n",
    "    c1 = fun1.content.under_assignment(assignment)\n",
    "    c2 = fun2.content.under_assignment(assignment)\n",
    "    result = pm_op.apply(c1).apply(c2).reduce_all()\n",
    "    return lang.BinaryComposite(fun1, fun2, result)"
   ]
  },
  {
   "cell_type": "markdown",
   "metadata": {},
   "source": [
    "### Example 3: Binding evaluation parameters\n",
    "\n",
    "A second kind of unary operation involves abstracting over a free variable in the metalanguage expression.  This can be thought of as \"monstrous\" shifting in the sense of Kaplan.  The following code sketches an implementation of this."
   ]
  },
  {
   "cell_type": "code",
   "execution_count": null,
   "metadata": {},
   "outputs": [],
   "source": [
    "reload_lamb() # reset everything. Previous `lamb` objects now are invalid!"
   ]
  },
  {
   "cell_type": "code",
   "execution_count": null,
   "metadata": {},
   "outputs": [],
   "source": [
    "system = lang.td_system.copy()\n",
    "speaker = lang.te(\"speaker_e\")\n",
    "system.assign_controller = lang.AssignmentController(specials=[speaker])\n",
    "lang.set_system(system)\n",
    "%lamb ||cat|| = L x_e : Cat(x)\n",
    "%lamb ||gray|| = L x_e : Gray(x)"
   ]
  },
  {
   "cell_type": "code",
   "execution_count": null,
   "metadata": {},
   "outputs": [],
   "source": [
    "i = lang.Item(\"I\", lang.te(\"speaker_e\"))\n",
    "i"
   ]
  },
  {
   "cell_type": "markdown",
   "metadata": {},
   "source": [
    "The following function binds instances of the variable `speaker` to a lambda term.  Notice that this function doesn't do anything to ensure that there are no free instances of `x` in `f`; this is one of the complexities you may have to deal with when implementing non-combinator-based composition operations.  However, this is basically a reasonable assumption for a case like this under normal practice."
   ]
  },
  {
   "cell_type": "code",
   "execution_count": null,
   "metadata": {},
   "outputs": [],
   "source": [
    "def monster_fun(f, assignment=None):\n",
    "    new_a = lang.Assignment(assignment)\n",
    "    new_a.update({\"speaker\": lang.te(\"x_e\")})\n",
    "    result = meta.LFun(types.type_e, f.under_assignment(new_a), varname=\"x\")\n",
    "    return lang.UnaryComposite(f, result, source=\"M(%s)\" % (f.name))\n",
    "\n",
    "monster_fun(i)"
   ]
  },
  {
   "cell_type": "code",
   "execution_count": null,
   "metadata": {},
   "outputs": [],
   "source": [
    "system.add_rule(lang.UnaryCompositionOp(\"Monster\", monster_fun))"
   ]
  },
  {
   "cell_type": "code",
   "execution_count": null,
   "metadata": {},
   "outputs": [],
   "source": [
    "m_test = i * None\n",
    "m_test"
   ]
  },
  {
   "cell_type": "code",
   "execution_count": null,
   "metadata": {},
   "outputs": [],
   "source": [
    "cat * i"
   ]
  },
  {
   "cell_type": "code",
   "execution_count": null,
   "metadata": {},
   "outputs": [],
   "source": [
    "((cat * i) * None).trace()"
   ]
  },
  {
   "cell_type": "code",
   "execution_count": null,
   "metadata": {},
   "outputs": [],
   "source": [
    "%lamb ||john|| = John_e\n",
    "(john * cat) * None # results in vacuous binding"
   ]
  }
 ],
 "metadata": {
  "kernelspec": {
   "display_name": "Lambda Notebook (Python 3)",
   "language": "python",
   "name": "lambda-notebook"
  },
  "language_info": {
   "codemirror_mode": {
    "name": "ipython",
    "version": 3
   },
   "file_extension": ".py",
   "mimetype": "text/x-python",
   "name": "python",
   "nbconvert_exporter": "python",
   "pygments_lexer": "ipython3",
   "version": "3.11.5"
  }
 },
 "nbformat": 4,
 "nbformat_minor": 4
}
