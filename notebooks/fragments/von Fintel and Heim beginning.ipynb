{
 "cells": [
  {
   "cell_type": "markdown",
   "metadata": {},
   "source": [
    "This notebook implements the very beginning of the von Fintel and Heim lecture notes on intensional semantics.  Lots more to do here!\n",
    "\n",
    "I'm providing it mainly as an example of how to use type s in the lambda notebook and how to add an intensionalization operation, but it really doesn't get past the first example."
   ]
  },
  {
   "cell_type": "code",
   "execution_count": null,
   "metadata": {},
   "outputs": [],
   "source": [
    "reload_lamb()"
   ]
  },
  {
   "cell_type": "code",
   "execution_count": null,
   "metadata": {},
   "outputs": [],
   "source": [
    "type_s = types.BasicType(\"s\")\n",
    "lang.get_system().add_basic_type(type_s)\n",
    "intensional_types = meta.get_type_system()\n",
    "intensional_types"
   ]
  },
  {
   "cell_type": "code",
   "execution_count": null,
   "metadata": {},
   "outputs": [],
   "source": [
    "%%lamb\n",
    "# some standard extensional entries\n",
    "||cat|| = L x_e: Cat_<e,t>(x)\n",
    "||gray|| = L x_e: Gray_<e,t>(x)\n",
    "||john|| = John_e\n",
    "||julius|| = Julius_e\n",
    "||inP|| = L x_e: L y: In(y, x)\n",
    "||texas|| = Texas_e\n",
    "||isV|| = L f_<e,t> : f\n",
    "||dance|| = L x_e: Dance_<e,t>(x)\n",
    "||see|| = L x_e : L y_e : See(y, x)\n",
    "||Alfonso|| = Alfonso_e"
   ]
  },
  {
   "cell_type": "code",
   "execution_count": null,
   "metadata": {},
   "outputs": [],
   "source": [
    "(inP * texas) * julius"
   ]
  },
  {
   "cell_type": "markdown",
   "metadata": {},
   "source": [
    "How could an item like `must` be accounted for in this sort of extensional system?  Let's see what type inference gets us:"
   ]
  },
  {
   "cell_type": "code",
   "execution_count": null,
   "metadata": {},
   "outputs": [],
   "source": [
    "%%lamb\n",
    "||must|| = L x_? : Must_<?,t>(x)"
   ]
  },
  {
   "cell_type": "code",
   "execution_count": null,
   "metadata": {},
   "outputs": [],
   "source": [
    "must_test_result = must * (julius * dance)\n",
    "must_test_result"
   ]
  },
  {
   "cell_type": "code",
   "execution_count": null,
   "metadata": {},
   "outputs": [],
   "source": []
  },
  {
   "cell_type": "code",
   "execution_count": null,
   "metadata": {},
   "outputs": [],
   "source": [
    "must_test_result.tree(derivations=True)"
   ]
  },
  {
   "cell_type": "code",
   "execution_count": null,
   "metadata": {},
   "outputs": [],
   "source": [
    "# Zoom in on what's happening in the final step\n",
    "must_test_result[0].content.derivation"
   ]
  },
  {
   "cell_type": "markdown",
   "metadata": {},
   "source": [
    "Type &lt;t,t&gt; is the only inferrable option.  This is not really satisfactory, as &lt;t,t&gt; describes a very small set.  In fact, there are just four functions:\n",
    "\n",
    " * 1 $\\rightarrow$ 1, 0 $\\rightarrow$ 0\n",
    " * 1 $\\rightarrow$ 0, 0 $\\rightarrow$ 1\n",
    " * 1 $\\rightarrow$ 0, 0 $\\rightarrow$ 0\n",
    " * 1 $\\rightarrow$ 1, 0 $\\rightarrow$ 1\n",
    "\n",
    "Hence, some richer (\"intensional\") representation is needed.  Possible worlds are involved in one kind of analysis of intensionality."
   ]
  },
  {
   "cell_type": "code",
   "execution_count": null,
   "metadata": {},
   "outputs": [],
   "source": [
    "intensional_types"
   ]
  },
  {
   "cell_type": "code",
   "execution_count": null,
   "metadata": {},
   "outputs": [],
   "source": []
  },
  {
   "cell_type": "code",
   "execution_count": null,
   "metadata": {},
   "outputs": [],
   "source": [
    "# set up evaluation world as a parameter to the interpretation function\n",
    "int_system = lang.get_system().copy()\n",
    "eval_w = %te w_s\n",
    "int_system.assign_controller = lang.AssignmentController(specials=[eval_w])\n",
    "lang.set_system(int_system)"
   ]
  },
  {
   "cell_type": "code",
   "execution_count": null,
   "metadata": {},
   "outputs": [],
   "source": [
    "%%lamb \n",
    "||dance|| = L x_e: Dance(w, x)\n",
    "||Alfonso|| = Alfonso_e"
   ]
  },
  {
   "cell_type": "code",
   "execution_count": null,
   "metadata": {},
   "outputs": [],
   "source": [
    "(Alfonso * dance)"
   ]
  },
  {
   "cell_type": "code",
   "execution_count": null,
   "metadata": {},
   "outputs": [],
   "source": [
    "(Alfonso * dance).tree()"
   ]
  },
  {
   "cell_type": "code",
   "execution_count": null,
   "metadata": {},
   "outputs": [],
   "source": []
  },
  {
   "cell_type": "code",
   "execution_count": null,
   "metadata": {},
   "outputs": [],
   "source": [
    "def intension_fun(f, assignment=None):\n",
    "    new_a = lang.Assignment(assignment)\n",
    "    new_a.update({\"w\": lang.te(\"w_s\")})\n",
    "    result = meta.LFun(\"w_s\", f.content.under_assignment(new_a))\n",
    "    return lang.UnaryComposite(f, result, source=\"INT(%s)\" % (f.name))\n",
    "\n",
    "intension_fun(dance)"
   ]
  },
  {
   "cell_type": "code",
   "execution_count": null,
   "metadata": {},
   "outputs": [],
   "source": [
    "intension_fun(julius)"
   ]
  },
  {
   "cell_type": "code",
   "execution_count": null,
   "metadata": {},
   "outputs": [],
   "source": [
    "int_system.add_rule(lang.UnaryCompositionOp(\"INT\", intension_fun))\n",
    "int_system"
   ]
  },
  {
   "cell_type": "code",
   "execution_count": null,
   "metadata": {},
   "outputs": [],
   "source": []
  },
  {
   "cell_type": "code",
   "execution_count": null,
   "metadata": {},
   "outputs": [],
   "source": [
    "%%lamb\n",
    "||a|| = L f_<e,t> : L g_<e,t> : Exists x_e : f(x) & g(x)"
   ]
  },
  {
   "cell_type": "code",
   "execution_count": null,
   "metadata": {},
   "outputs": [],
   "source": [
    "%%lamb\n",
    "||famous|| = L x_e : Famous(w,x)\n",
    "||detective|| = L x_e : Detective(w,x)\n",
    "||baker street 221B|| = BakerSt221B_e\n",
    "||lives|| = L y_e : L x_e : LivesAt(w,x,y)"
   ]
  },
  {
   "cell_type": "code",
   "execution_count": null,
   "metadata": {},
   "outputs": [],
   "source": []
  },
  {
   "cell_type": "code",
   "execution_count": null,
   "metadata": {},
   "outputs": [],
   "source": [
    "simple = (a * detective) * (lives * baker_street_221B)\n",
    "simple"
   ]
  },
  {
   "cell_type": "code",
   "execution_count": null,
   "metadata": {},
   "outputs": [],
   "source": [
    "simple.results[0].tree(derivations=True)"
   ]
  },
  {
   "cell_type": "code",
   "execution_count": null,
   "metadata": {},
   "outputs": [],
   "source": [
    "simple.compose()"
   ]
  },
  {
   "cell_type": "code",
   "execution_count": null,
   "metadata": {},
   "outputs": [],
   "source": [
    "itw = lang.Item(\"In the world of S.H.\", lang.te(\"L p_<s,t> : Forall w2_s : CompatibleWithSHStories(w_s, w2_s) >> p_<s,t>(w2_s)\"))\n",
    "itw"
   ]
  },
  {
   "cell_type": "code",
   "execution_count": null,
   "metadata": {},
   "outputs": [],
   "source": [
    "%%lamb\n",
    "||in the world of Sherlock Holmes|| = L p_<s,t> : Forall w2_s : CompatibleWithSHStories(w_s, w2_s) >> p_<s,t>(w2_s)"
   ]
  },
  {
   "cell_type": "code",
   "execution_count": null,
   "metadata": {},
   "outputs": [],
   "source": [
    "# In the current setup, INT must be triggered explicitly by a unary compose step.\n",
    "# Otherwise, it produces a composition failure.\n",
    "in_the_world_of_Sherlock_Holmes * simple"
   ]
  },
  {
   "cell_type": "code",
   "execution_count": null,
   "metadata": {},
   "outputs": [],
   "source": [
    "result = in_the_world_of_Sherlock_Holmes * (simple.compose())\n",
    "result.reduce_all()\n",
    "result"
   ]
  },
  {
   "cell_type": "code",
   "execution_count": null,
   "metadata": {},
   "outputs": [],
   "source": [
    "result.results[0].tree(derivations=True)"
   ]
  },
  {
   "cell_type": "code",
   "execution_count": null,
   "metadata": {},
   "outputs": [],
   "source": []
  },
  {
   "cell_type": "markdown",
   "metadata": {},
   "source": [
    "Beginnings of attitude verbs, still needs work:"
   ]
  },
  {
   "cell_type": "code",
   "execution_count": null,
   "metadata": {},
   "outputs": [],
   "source": [
    "%%lamb \n",
    "dox = Dox_<(e,s,s),t>\n",
    "||believe|| = L p_<s,t> : L x_e : Forall w2_s : dox(x, w, w2) >> p(w2)"
   ]
  },
  {
   "cell_type": "code",
   "execution_count": null,
   "metadata": {},
   "outputs": [],
   "source": [
    "lang.tp(\"<(e,s,s),t>\")"
   ]
  },
  {
   "cell_type": "code",
   "execution_count": null,
   "metadata": {},
   "outputs": [],
   "source": [
    "lang.te(\"f_<s,{<s,t>}>\")"
   ]
  },
  {
   "cell_type": "code",
   "execution_count": null,
   "metadata": {},
   "outputs": [],
   "source": [
    "%%lamb\n",
    "dox = Dox_<(e,s),<s,t>>\n",
    "||believe|| = L p_<s,t> : L x_e : Forall w2_s : dox(x, w)(w2) >> p(w2)"
   ]
  },
  {
   "cell_type": "code",
   "execution_count": null,
   "metadata": {},
   "outputs": [],
   "source": [
    "%%lamb\n",
    "dox = Dox_<(e,s),{<s,t>}>\n",
    "bigcap = L a_{<s,t>} : Set w_s : Forall p_<s,t> : (p << a) & p(w)\n",
    "||believe|| = L p_<s,t> : L x_e : Forall w2_s : w2 << bigcap(dox(x, w_s)) >> p(w2)"
   ]
  },
  {
   "cell_type": "code",
   "execution_count": null,
   "metadata": {},
   "outputs": [],
   "source": [
    "believe.reduce_all() # can simplify this one slightly"
   ]
  },
  {
   "cell_type": "code",
   "execution_count": null,
   "metadata": {},
   "outputs": [],
   "source": [
    "(believe * (simple * None))"
   ]
  },
  {
   "cell_type": "code",
   "execution_count": null,
   "metadata": {},
   "outputs": [],
   "source": []
  }
 ],
 "metadata": {
  "kernelspec": {
   "display_name": "Lambda Notebook (Python 3)",
   "language": "python",
   "name": "lambda-notebook"
  },
  "language_info": {
   "codemirror_mode": {
    "name": "ipython",
    "version": 3
   },
   "file_extension": ".py",
   "mimetype": "text/x-python",
   "name": "python",
   "nbconvert_exporter": "python",
   "pygments_lexer": "ipython3",
   "version": "3.10.5"
  }
 },
 "nbformat": 4,
 "nbformat_minor": 4
}
