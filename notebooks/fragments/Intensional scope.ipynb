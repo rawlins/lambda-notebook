{
 "cells": [
  {
   "cell_type": "code",
   "execution_count": null,
   "metadata": {},
   "outputs": [],
   "source": [
    "reload_lamb()"
   ]
  },
  {
   "cell_type": "code",
   "execution_count": null,
   "metadata": {},
   "outputs": [],
   "source": [
    "type_s = types.BasicType(\"s\")\n",
    "lang.get_system().add_basic_type(type_s)\n",
    "intensional_types = meta.get_type_system()\n",
    "intensional_types"
   ]
  },
  {
   "cell_type": "markdown",
   "metadata": {},
   "source": [
    "# Intensional scope\n",
    "### Notebook author: Kyle Rawlins / Apr 2018\n",
    "\n",
    "This notebook goes through the basics of three approaches to scope in an intensional context. It is not intended as an introduction to the linguistic issues, but rather as a technical supplement to such an overview (which can be partially found in the von Fintel and Heim lecture notes). That is, this notebook presupposes familiarity with notions like \"de re\", \"the third reading\", etc.\n",
    "\n",
    "The three approaches are:\n",
    "* Intensionalization triggered by selection for an intensional type, binding all world variables in the scope of the selecting item (von Fintel and Heim lecture notes).\n",
    "* World variables in the syntax (Percus 2000).\n",
    "* Split intensionality (Keshet 2011).\n",
    "\n",
    "I will focus on two main examples:\n",
    "\n",
    "    (1) Joanna believes my brother is Canadian. (After one of Percus's examples)\n",
    "    (2) Alfonso wants to buy an inexpensive coat. (After Keshet's version of Fodor's famous third reading example.)\n",
    "    \n"
   ]
  },
  {
   "cell_type": "markdown",
   "metadata": {},
   "source": [
    "# Scope with indices, intensionalization, and QR\n",
    "\n",
    "We begin with the von Fintel & Heim first treatment of intensionalization. In this approach, selection of an intensional type triggers abstraction over the world of evaluation for the complement. I have implemented this here as a type shift feeding FA, rather than a separate composition operation."
   ]
  },
  {
   "cell_type": "code",
   "execution_count": null,
   "metadata": {},
   "outputs": [],
   "source": [
    "# set up evaluation world as a parameter to the interpretation function\n",
    "int_system = lang.td_system.copy()\n",
    "eval_w = lang.te(\"w_s\")\n",
    "int_system.assign_controller = lang.AssignmentController(specials=[eval_w])\n",
    "lang.set_system(int_system)\n",
    "\n",
    "# code to abstract over the evaluation world.\n",
    "def intension_fun(f, assignment=None):\n",
    "    new_a = lang.Assignment(assignment)\n",
    "    new_a.update({\"w\": lang.te(\"w_s\")})\n",
    "    result = meta.LFun(\"w_s\", f.content.under_assignment(new_a))\n",
    "    return lang.UnaryComposite(f, result, source=\"INT(%s)\" % (f.name))\n",
    "\n",
    "int_system.add_rule(lang.UnaryCompositionOp(\"INT\", intension_fun, typeshift=True))\n",
    "int_system.typeshift = True\n",
    "int_system"
   ]
  },
  {
   "cell_type": "markdown",
   "metadata": {},
   "source": [
    "For the sake of being explicit about scope in these derivations, I will implement `my` using an existential quantifier."
   ]
  },
  {
   "cell_type": "code",
   "execution_count": null,
   "metadata": {},
   "outputs": [],
   "source": [
    "%%lamb\n",
    "||brother|| = L x_e : L y_e : Brother(x,y,w)\n",
    "||canadian|| = L x_e : Canadian(x,w)\n",
    "||joanna|| = Joanna_e\n",
    "||my|| = L f_<e,<e,t>> : L g_<e,t> : Exists x_e : f(Speaker_e)(x) & g(x)\n",
    "dox = Dox_<(e,s),{s}>\n",
    "||believe|| = L p_<s,t> : L x_e : Forall w2_s : w2 << dox(x, w_s) >> p(w2)"
   ]
  },
  {
   "cell_type": "markdown",
   "metadata": {},
   "source": [
    "First, the basic unembedded sentence:"
   ]
  },
  {
   "cell_type": "code",
   "execution_count": null,
   "metadata": {},
   "outputs": [],
   "source": [
    "(my * brother) * canadian"
   ]
  },
  {
   "cell_type": "markdown",
   "metadata": {},
   "source": [
    "Surface scope, everything in situ:"
   ]
  },
  {
   "cell_type": "code",
   "execution_count": null,
   "metadata": {},
   "outputs": [],
   "source": [
    "(joanna * (believe * ((my * brother) * canadian))) #.tree()"
   ]
  },
  {
   "cell_type": "code",
   "execution_count": null,
   "metadata": {},
   "outputs": [],
   "source": [
    "trace = lang.Trace.index_factory(typ=types.type_e)\n",
    "from lamb.lang import Binder"
   ]
  },
  {
   "cell_type": "markdown",
   "metadata": {},
   "source": [
    "Wide scope (de re), DP has raised via QR (assuming this is possible across a finite clause boundary):"
   ]
  },
  {
   "cell_type": "code",
   "execution_count": null,
   "metadata": {},
   "outputs": [],
   "source": [
    "((my * brother) *\n",
    " (Binder(11) *\n",
    "  (joanna * (believe *\n",
    "             (trace(11) * canadian))))) #.tree()"
   ]
  },
  {
   "cell_type": "markdown",
   "metadata": {},
   "source": [
    "With just these tools, there is no other way to get another reading."
   ]
  },
  {
   "cell_type": "markdown",
   "metadata": {},
   "source": [
    "# World variables\n",
    "\n",
    "This is the barest sketch of the world variable proposal in Percus 2000, *Constraints on some other variables in syntax*, Natural Language Semantics 8."
   ]
  },
  {
   "cell_type": "code",
   "execution_count": null,
   "metadata": {},
   "outputs": [],
   "source": [
    "w = lang.IndexedPronoun.index_factory(\"w\", typ=type_s)"
   ]
  },
  {
   "cell_type": "code",
   "execution_count": null,
   "metadata": {},
   "outputs": [],
   "source": [
    "# back to the basic composition system, just need to generalize PA\n",
    "world_binding_system = lang.td_system.copy()\n",
    "\n",
    "from lamb.types import TypeMismatch\n",
    "from lamb.lang import BinaryComposite\n",
    "\n",
    "# Predicate abstraction for world variables. Based on lang.sbc_pa\n",
    "def world_pa(binder, content, assignment=None):\n",
    "    if (binder.content is not None) or not binder.name.strip().isnumeric():\n",
    "        raise TypeMismatch(binder, content, \"Predicate Abstraction (type s)\")\n",
    "    index = int(binder.name.strip())\n",
    "    vname = \"var%i\" % index\n",
    "    bound_var = meta.term(vname, type_s)\n",
    "    f = meta.LFun(type_s, content.content.calculate_partiality({bound_var}), vname)\n",
    "    return BinaryComposite(binder, content, f)\n",
    "\n",
    "world_binding_system.add_rule(lang.BinaryCompositionOp(\"WPA\", world_pa, allow_none=True))\n",
    "lang.set_system(world_binding_system)\n",
    "world_binding_system"
   ]
  },
  {
   "cell_type": "code",
   "execution_count": null,
   "metadata": {},
   "outputs": [],
   "source": [
    "%%lamb\n",
    "||brother|| = L w_s : L x_e : L y_e : Brother(x,y,w)\n",
    "||canadian|| = L w_s : L x_e : Canadian(x,w)\n",
    "||joanna|| = Joanna_e\n",
    "||my|| = L f_<e,<e,t>> : L g_<e,t> : Exists x_e : f(Speaker_e)(x) & g(x)\n",
    "dox = Dox_<(e,s),{s}>\n",
    "||believe|| = L w_s : L p_<s,t> : L x_e : Forall w2_s : w2 << dox(x, w_s) >> p(w2)"
   ]
  },
  {
   "cell_type": "markdown",
   "metadata": {},
   "source": [
    "Basic unembedded sentence. As long as all world variables must be bound, and binders are only inserted up to interpretability to achieve a type $\\langle s,t \\rangle$ at the root, this is the only possible binding configuration for this sentence."
   ]
  },
  {
   "cell_type": "code",
   "execution_count": null,
   "metadata": {},
   "outputs": [],
   "source": [
    "Binder(1) * ((my * (brother * w(1))) * (canadian * w(1)))"
   ]
  },
  {
   "cell_type": "markdown",
   "metadata": {},
   "source": [
    "Pure de dicto sentence:"
   ]
  },
  {
   "cell_type": "code",
   "execution_count": null,
   "metadata": {},
   "outputs": [],
   "source": [
    "r = Binder(5) * (joanna *\n",
    "                 ((believe * w(5)) *\n",
    "                  (Binder(1) * ((my * (brother * w(1))) * (canadian * w(1))))))\n",
    "r"
   ]
  },
  {
   "cell_type": "code",
   "execution_count": null,
   "metadata": {},
   "outputs": [],
   "source": [
    "r.tree()"
   ]
  },
  {
   "cell_type": "markdown",
   "metadata": {},
   "source": [
    "In principle there are several other binding configurations that are possible even without QR. Let's also assume a constraint against vacuous binding, with the effect that `Binder(1)` being inserted (required for semantic composition) forces at least one bound variable downstairs."
   ]
  },
  {
   "cell_type": "code",
   "execution_count": null,
   "metadata": {},
   "outputs": [],
   "source": [
    "r = Binder(5) * (joanna * ((believe * w(5)) *\n",
    "                           (Binder(1) *\n",
    "                            ((my * (brother * w(5))) * (canadian * w(1))))))\n",
    "r"
   ]
  },
  {
   "cell_type": "code",
   "execution_count": null,
   "metadata": {},
   "outputs": [],
   "source": [
    "r = Binder(5) * (joanna * ((believe * w(5)) * (Binder(1) * ((my * (brother * w(1))) * (canadian * w(5))))))\n",
    "r"
   ]
  },
  {
   "cell_type": "markdown",
   "metadata": {},
   "source": [
    "The second of these binding configurations would be banned by Percus's *Generalization X*. A slightly reformulated version of this condition: the world variable that a VP predicate selects most be coindexed with the nearest c-commanding binder.\n",
    "\n",
    "With QR we would get another possibility. This binding configuration is really the only possibility for this scope configuration."
   ]
  },
  {
   "cell_type": "code",
   "execution_count": null,
   "metadata": {},
   "outputs": [],
   "source": [
    "r = Binder(5) * ((my * (brother * w(5))) *\n",
    "                 (Binder(3) * (joanna * ((believe * w(5)) *\n",
    "                                         (Binder(1) *\n",
    "                                          (trace(3) * (canadian * w(1))))))))\n",
    "r"
   ]
  },
  {
   "cell_type": "markdown",
   "metadata": {},
   "source": [
    "# Split intensionality\n",
    "\n",
    "This approach illustrates the core of the analysis in Keshet 2011, *Split intensionality: a new scope theory of de re and de dicto*, Linguistics and Philosophy 33. I will set things up slightly differently, implementing his intensionalization operation as a unary composition operation, rather than an operator. (This is mainly because it is a bit more straightforward in the lambda notebook, rather than for any deep reasons.)"
   ]
  },
  {
   "cell_type": "code",
   "execution_count": null,
   "metadata": {},
   "outputs": [],
   "source": [
    "# set up evaluation world as a parameter to the interpretation function\n",
    "int_system = lang.td_system.copy()\n",
    "eval_w = lang.te(\"w_s\")\n",
    "int_system.assign_controller = lang.AssignmentController(specials=[eval_w])\n",
    "lang.set_system(int_system)\n",
    "\n",
    "# same intensionalization code as in the first version\n",
    "def intension_fun(f, assignment=None):\n",
    "    new_a = lang.Assignment(assignment)\n",
    "    new_a.update({\"w\": lang.te(\"w_s\")})\n",
    "    result = meta.LFun(\"w_s\", f.content.under_assignment(new_a))\n",
    "    return lang.UnaryComposite(f, result, source=\"INT(%s)\" % (f.name))\n",
    "\n",
    "# add INT as a unary operation, *not* a type shift.\n",
    "int_system.add_rule(lang.UnaryCompositionOp(\"INT\", intension_fun))\n",
    "int_system"
   ]
  },
  {
   "cell_type": "markdown",
   "metadata": {},
   "source": [
    "There are two key ideas: (i) instead of generating propositions via a world binder inserted up to interpretability, we generate propositions with a shifting intensionalization operator (I will call this operator `INT`, Keshet notates it as ${}^{\\wedge}$ after Montague). (ii) this intensionalization operator has syntactic presence, and QR can target a position above the operator or below it. The position above it generates transparent non-specific readings, but doesn't involve movement across a clause boundary."
   ]
  },
  {
   "cell_type": "code",
   "execution_count": null,
   "metadata": {},
   "outputs": [],
   "source": [
    "%%lamb\n",
    "||brother|| = L x_e : L y_e : Brother(x,y,w)\n",
    "||canadian|| = L x_e : Canadian(x,w)\n",
    "||joanna|| = Joanna_e\n",
    "||my|| = L f_<e,<e,t>> : Iota x_e : f(Speaker_e)(x) # note change from above -- discussed below\n",
    "dox = Dox_<(e,s),{s}>\n",
    "||believe|| = L p_<s,t> : L x_e : Forall w2_s : w2 << dox(x, w_s) >> p(w2)"
   ]
  },
  {
   "cell_type": "markdown",
   "metadata": {},
   "source": [
    "The basic case is much the same as on the starting approach. To trigger unary composition, compose with `None`:"
   ]
  },
  {
   "cell_type": "code",
   "execution_count": null,
   "metadata": {},
   "outputs": [],
   "source": [
    "((my * brother) * canadian) * None"
   ]
  },
  {
   "cell_type": "markdown",
   "metadata": {},
   "source": [
    "The pure de dicto reading is not especially new or exciting; where before there was a type-shift, now we have an intensionalization operator:"
   ]
  },
  {
   "cell_type": "code",
   "execution_count": null,
   "metadata": {},
   "outputs": [],
   "source": [
    "r = (joanna * (believe *\n",
    "               (((my * brother) * canadian) * None)))\n",
    "r"
   ]
  },
  {
   "cell_type": "code",
   "execution_count": null,
   "metadata": {},
   "outputs": [],
   "source": [
    "r.tree()"
   ]
  },
  {
   "cell_type": "markdown",
   "metadata": {},
   "source": [
    "What is new is the intermediate QR derivation:"
   ]
  },
  {
   "cell_type": "code",
   "execution_count": null,
   "metadata": {},
   "outputs": [],
   "source": [
    "r = (joanna * (believe *\n",
    "               ((my * brother) * (Binder(3) *\n",
    "                                  ((trace(3) * canadian) * None)))))\n",
    "r"
   ]
  },
  {
   "cell_type": "markdown",
   "metadata": {},
   "source": [
    "And finally, the pure de re reading. There is no way to generate the reading that Percus needed to ban with generalization X, because intensional scope is still parasitic on DP scope."
   ]
  },
  {
   "cell_type": "code",
   "execution_count": null,
   "metadata": {},
   "outputs": [],
   "source": [
    "((my * brother) * (Binder(3) *\n",
    "                   ((trace(3) * canadian) * None)))"
   ]
  },
  {
   "cell_type": "markdown",
   "metadata": {},
   "source": [
    "One complication is that a regular generalized quantifier type won't work with regular FA on this approach, if it scopes above `INT`. You can see this by examining the type generated for a binder scoping over `INT`:"
   ]
  },
  {
   "cell_type": "code",
   "execution_count": null,
   "metadata": {},
   "outputs": [],
   "source": [
    "Binder(3) * ((trace(3) * canadian) * None)"
   ]
  },
  {
   "cell_type": "markdown",
   "metadata": {},
   "source": [
    "That is, an (extensional) generalized quantifier DP will be type $\\langle \\langle e,t \\rangle , t \\rangle$, but we really need something of type $\\langle \\langle e,\\langle s,t\\rangle \\rangle , \\langle s,t\\rangle \\rangle$. Keshet proposes a solution to this using a different composition operation for generalized quantifiers due to Daniel Buring; this operation also allows composition in object position without QR. This operation is rather complex and general, but for dealing with `INT` we really only need one special case, which I implement here as a binary composition via the following combinator. 'AS' stands for Argument Saturation."
   ]
  },
  {
   "cell_type": "code",
   "execution_count": null,
   "metadata": {},
   "outputs": [],
   "source": [
    "as_combinator = %te L quant_<<e,t>,t> : L f_<e,<X,t>> : L y_X : quant(L x_e : f(x)(y))\n",
    "as_combinator"
   ]
  },
  {
   "cell_type": "code",
   "execution_count": null,
   "metadata": {},
   "outputs": [],
   "source": [
    "#int_system.add_typeshift(as_combinator, \"AS\")\n",
    "#int_system.typeshift = True\n",
    "int_system.add_binary_rule(as_combinator, \"AS\")\n",
    "int_system"
   ]
  },
  {
   "cell_type": "code",
   "execution_count": null,
   "metadata": {},
   "outputs": [],
   "source": [
    "%%lamb\n",
    "||my|| = L f_<e,<e,t>> : L g_<e,t> : Exists x_e : f(Speaker_e)(x) & g(x)"
   ]
  },
  {
   "cell_type": "code",
   "execution_count": null,
   "metadata": {},
   "outputs": [],
   "source": [
    "r = (joanna * (believe *\n",
    "               ((my * brother) * (Binder(3) *\n",
    "                                  ((trace(3) * canadian) * None)))))\n",
    "r"
   ]
  },
  {
   "cell_type": "code",
   "execution_count": null,
   "metadata": {},
   "outputs": [],
   "source": [
    "r.tree()"
   ]
  },
  {
   "cell_type": "markdown",
   "metadata": {},
   "source": [
    "In any case where QR above the intensional lexical item is possible, Keshet's system generates Fodor's three readings: a pure de dicto reading (non-specific/opaque), a pure de re reading (specific/transparent), and the third reading (non-specific/transparent). Here are the readings in an example more tailored to have them:"
   ]
  },
  {
   "cell_type": "code",
   "execution_count": null,
   "metadata": {},
   "outputs": [],
   "source": [
    "%%lamb\n",
    "||buy|| = L x_e : L y_e : Buy(y,x,w)\n",
    "||coat|| = L x_e : Coat(x,w)\n",
    "||inexpensive|| = L x_e : Inexpensive(x,w)\n",
    "||want|| = L p_<s,t> : L x_e  : Forall w2_s : w2 << Des_<(e,s),{s}>(x,w) >> p(w2)\n",
    "||alfonso|| = Alfonso_e\n",
    "||an|| = L f_<e,t> : L g_<e,t> : Exists x_e : f(x) & g(x)"
   ]
  },
  {
   "cell_type": "code",
   "execution_count": null,
   "metadata": {},
   "outputs": [],
   "source": [
    "PRO = lang.IndexedPronoun.index_factory(\"PRO\")"
   ]
  },
  {
   "cell_type": "markdown",
   "metadata": {},
   "source": [
    "Pure de dicto (non-specific / opaque), quantifier scopes under `INT`:"
   ]
  },
  {
   "cell_type": "code",
   "execution_count": null,
   "metadata": {},
   "outputs": [],
   "source": [
    "r = alfonso * (Binder(10) *\n",
    "               (trace(10) * (want *\n",
    "                             (((an * (inexpensive * coat)) * (Binder(3) *\n",
    "                                                              (PRO(10) * (buy * trace(3)))))\n",
    "                              * None))))\n",
    "r"
   ]
  },
  {
   "cell_type": "markdown",
   "metadata": {},
   "source": [
    "Mixed (non-specific / transparent), quantifier scopes over `INT` but within clause:"
   ]
  },
  {
   "cell_type": "code",
   "execution_count": null,
   "metadata": {},
   "outputs": [],
   "source": [
    "r = alfonso * (Binder(10) *\n",
    "               (trace(10) * (want *\n",
    "                             ((an * (inexpensive * coat)) * (Binder(3) *\n",
    "                                                             ((PRO(10) * (buy * trace(3)))\n",
    "                                                              * None))))))\n",
    "r"
   ]
  },
  {
   "cell_type": "markdown",
   "metadata": {},
   "source": [
    "Pure de re (specific/transparent), quantifier QRs all the way out across the non-finite clause boundary:"
   ]
  },
  {
   "cell_type": "code",
   "execution_count": null,
   "metadata": {},
   "outputs": [],
   "source": [
    "r = ((an * (inexpensive * coat)) * (Binder(3) *\n",
    "                                    (alfonso * (Binder(10) * (trace(10) *\n",
    "                                                              (want *\n",
    "                                                               ((PRO(10) * (buy * trace(3)))\n",
    "                                                                * None)))))))\n",
    "r"
   ]
  },
  {
   "cell_type": "markdown",
   "metadata": {},
   "source": [
    "# Fourth readings\n",
    "\n",
    "None of the systems above generate the so-called fourth reading: specific/opaque. This is because with QR as the scope mechanism, the QR target position provides a lower bound on the world binding, and this kind of reading would require a world binding that is local, but a quantifier position that is not. There has been some debate about whether the fourth reading exists, so perhaps this is a virtue: see Keshet 2011 footnotes 4,15 for an argument along these lines. However, Szabo in a 2010 Amsterdam Colloquium paper (*Specific, yet opaque*) provides fairly convincing cases of the fourth reading.\n",
    "\n",
    "If you do want to derive this reading, there are various options.\n",
    "* Szabo: add a new QR operation that moves only the determiner.\n",
    "* Do partial reconstruction of the NP from a pure de re reading into a position where the world variable for the NP gets locally bound. (For Percus, under the world binder, for Keshet or a type-shifting approach, under the `INT` operator.)\n",
    "\n",
    "Both of these are a bit convoluted. Here's a sketch of what Szabo's new QR operation would do. This operation moves a quantifier with a silent `thing` restrictor, and leaves a trace that gets interpreted via a variant (of sorts) of Fox's Trace Conversion rule. In Szabo's system, there is a specialized composition rule for this, but for the sake of simplicity, I just hard-code this in a specialized pre-indexed trace entry `rt3`.\n",
    "\n",
    "Unfortunately some of the simplification involved in this use of Iota is not currently implemented in the lambda notebook."
   ]
  },
  {
   "cell_type": "code",
   "execution_count": null,
   "metadata": {},
   "outputs": [],
   "source": [
    "%%lamb\n",
    "||thing|| = L x_e : True\n",
    "||rt3|| = L f_<e,t> : Iota x_e: f(x) & x==var3"
   ]
  },
  {
   "cell_type": "markdown",
   "metadata": {},
   "source": [
    "First, it may be helpful to see a derivation without an intensional lexical item where this rule has applied. In the result, the formula will be false for any potential witnesses for the existential that don't verify the properties under the $\\iota$ operator, leading to equivalence with the standard truth-conditions. (This is not something that the lambda notebook knows how to simplify for you.)"
   ]
  },
  {
   "cell_type": "code",
   "execution_count": null,
   "metadata": {},
   "outputs": [],
   "source": [
    "((an * thing) * (Binder(3) * (alfonso * (buy * (rt3 * (inexpensive * coat))))))"
   ]
  },
  {
   "cell_type": "markdown",
   "metadata": {},
   "source": [
    "Here is a fourth reading derivation, using Keshet's intensionalization operator from above."
   ]
  },
  {
   "cell_type": "code",
   "execution_count": null,
   "metadata": {},
   "outputs": [],
   "source": [
    "((an * thing) * (Binder(3) * (alfonso * (Binder(10) *\n",
    "                                         (trace(10) * (want * ((PRO(10) *\n",
    "                                                               (buy * (rt3 * (inexpensive * coat))))\n",
    "                                                               * None)))))))"
   ]
  },
  {
   "cell_type": "markdown",
   "metadata": {},
   "source": [
    "Basically, the $\\iota$ condition on $x$s requires that any witness for the outer quantifier satisfy the properties inside the $\\iota$ condition, and so the formula is only true if there are values of $x$ that do satisfy these conditions. (Is it false or undefined if not? As I understand it, the intent is that it would be false. The Russellian model-theoretic interpretation for inverted $\\iota$ in, e.g., Gamut vol 1 sec 5.2 would derive the result needed.)\n",
    "\n",
    "In conclusion: I hope that if fourth readings are real, there is another way to derive them."
   ]
  },
  {
   "cell_type": "code",
   "execution_count": null,
   "metadata": {},
   "outputs": [],
   "source": []
  }
 ],
 "metadata": {
  "kernelspec": {
   "display_name": "Lambda Notebook (Python 3)",
   "language": "python",
   "name": "lambda-notebook"
  },
  "language_info": {
   "codemirror_mode": {
    "name": "ipython",
    "version": 3
   },
   "file_extension": ".py",
   "mimetype": "text/x-python",
   "name": "python",
   "nbconvert_exporter": "python",
   "pygments_lexer": "ipython3",
   "version": "3.10.5"
  }
 },
 "nbformat": 4,
 "nbformat_minor": 4
}
