{
 "cells": [
  {
   "cell_type": "markdown",
   "id": "a4a765b4-3ec8-4e18-b78a-684e41fe6863",
   "metadata": {},
   "source": [
    "# Reader monad demo\n",
    "\n",
    "**When**: JHU Semantics seminar, 2/13/24\n",
    "\n",
    "**Author**: Kyle Rawlins\n",
    "\n",
    "This notebook steps through the reader monad, applied to intensional semantics. It is not a standalone intro to monads or to the reader monad. For a primary reference, see:\n",
    "\n",
    "* 2002. Ken Shan. [Monads for natural language semantics](https://arxiv.org/pdf/cs/0205026). In Proceedings of the 2001 European Summer School in Logic, Language and Information student session, ed. Kristina Striegnitz, 285-298."
   ]
  },
  {
   "cell_type": "code",
   "execution_count": null,
   "id": "0eacfec7-84e9-4302-a6b9-ab1e0948993f",
   "metadata": {},
   "outputs": [],
   "source": [
    "lamb.display.default(style=lamb.display.DerivStyle.PROOF)\n",
    "\n",
    "# basic composition system with an intensional type\n",
    "type_s = types.BasicType(\"s\")\n",
    "system = lang.td_system.copy()\n",
    "system.add_basic_type(type_s)\n",
    "lang.set_system(system)\n",
    "system"
   ]
  },
  {
   "cell_type": "markdown",
   "id": "3e5768ee-ff9f-47a6-b5dc-3ceb019a0bd1",
   "metadata": {},
   "source": [
    "**First**: define the core monad operations (including lifted apply)."
   ]
  },
  {
   "cell_type": "code",
   "execution_count": null,
   "id": "71fdbb61-18df-4e58-961a-ccfc50e78f75",
   "metadata": {},
   "outputs": [],
   "source": [
    "%%lamb\n",
    "# monad operations\n",
    "unit = L a_X : L w_s : a\n",
    "bind = L m_<s,X> : L k_<X,<s,Y>> : L w_s : (k(m(w))(w))\n",
    "# apply = L f_<s,<X,Y>> : L x_<s,X> : L w_s : f(w)(x(w))\n",
    "apply = L f_<s,<X,Y>> : L x_<s,X> : bind(f)(L a_<X,Y> : bind(x_<s,X>)(L b_X : unit(a(b))))"
   ]
  },
  {
   "cell_type": "markdown",
   "id": "f85562ec-d574-4144-89e8-4207e29fa2c3",
   "metadata": {},
   "source": [
    "**Second**: add composition operations to the existing system using these monad operations. We keep FA."
   ]
  },
  {
   "cell_type": "code",
   "execution_count": null,
   "id": "d3d0ca45-81d5-4ce2-8f27-0f035f576559",
   "metadata": {},
   "outputs": [],
   "source": [
    "system.add_typeshift(unit, \"Unit\")\n",
    "# bind is unused in this demo, but can be added in principle\n",
    "system.add_binary_rule(bind, \"Bind\")\n",
    "system.add_binary_rule(apply, \"LiftedFA\")\n",
    "# do a bit of cleanup, we don't need PM here.\n",
    "system.remove_rule('PM')\n",
    "system.typeshift = True\n",
    "system"
   ]
  },
  {
   "cell_type": "markdown",
   "id": "d1b0633b-7299-411d-912a-30e90e3680fb",
   "metadata": {},
   "source": [
    "**Observation**: `bind` can be used to define a composition rule, but I have not found a lot of uses for the reader monad's specific `bind` in terms of semantic composition, beyond lifting `Apply`.\n",
    "\n",
    "* There are other monads where the `bind` has a non-trivial direct use, see e.g. Charlow's scopal pied piping.\n",
    "* A candidate case: if unary predicates are type $\\langle e, \\langle s, t \\rangle \\rangle$, then they can compose with a type $e$ subject via `Unit` (on the subject) + `Bind`. However, this is accidental it seems -- doesn't generalize to $n$-ary predicates!"
   ]
  },
  {
   "cell_type": "markdown",
   "id": "8d975d3f-2732-4aaf-a02f-10ae7c3f0c98",
   "metadata": {},
   "source": [
    "**Third**: define some lexical entries using the appropriate types.\n",
    "\n",
    "* extensional entries are allowed\n",
    "* general principle: if an entry accesses a world of evaluation (and isn't a shifter), the $\\lambda w$ should be out front. (Aka: intensionalizations of lexical entries that would have ordinary type $\\alpha$ are always $\\mathbb{M}\\alpha$.)\n",
    "* A shifter (as in the vF&H system) should take an $\\mathbb{M}$ type as an argument directly, and return an $\\mathbb{M}$ type."
   ]
  },
  {
   "cell_type": "code",
   "execution_count": null,
   "id": "0289328d-eab1-4620-8b22-511daa7096fa",
   "metadata": {},
   "outputs": [],
   "source": [
    "%%lamb\n",
    "# non-intensional entries\n",
    "||Alfonso|| = Alfonso_e\n",
    "||every|| = L f_<e,t> : L g_<e,t> : Forall x_e : f(x) >> g(x)\n",
    "||and_|| = L p_t : L q_t : p & q\n",
    "# entries that access a world\n",
    "||cat|| = L w_s : L x_e : Cat(w,x)\n",
    "||dance|| = L w_s : L x_e : Dance(w,x)\n",
    "# shifter example. Note that the world argument goes *inside*...\n",
    "||might|| = L p_<s,t> : L w_s : Exists w2_s : ((w2 << Epi_<s,{s}>(w)) & p(w2))\n"
   ]
  },
  {
   "cell_type": "markdown",
   "id": "262ac83c-8c06-4796-8929-09310091324f",
   "metadata": {},
   "source": [
    "Basic case, no shifting:\n",
    "\n",
    "    (1) Alfonso is a cat.\n",
    "\n",
    "(I'll supprress the vacuous elements here to keep things simple.)"
   ]
  },
  {
   "cell_type": "code",
   "execution_count": null,
   "id": "99031b7e-d54a-43ce-b7de-6cba680caa68",
   "metadata": {},
   "outputs": [],
   "source": [
    "(Alfonso * cat).tree()"
   ]
  },
  {
   "cell_type": "markdown",
   "id": "5312e074-bd24-4487-9764-1feee43568eb",
   "metadata": {},
   "source": [
    "Add in a shifter:\n",
    "    \n",
    "    (2) Alfonso might dance.\n",
    "\n",
    "n.b., we assume the following LF:\n",
    "\n",
    "    (2') [might [Alfonso dance]]"
   ]
  },
  {
   "cell_type": "code",
   "execution_count": null,
   "id": "8f317cf7-8a3d-4bb8-8707-1b16be1523ad",
   "metadata": {},
   "outputs": [],
   "source": [
    "(might * (Alfonso * dance)).tree()"
   ]
  },
  {
   "cell_type": "markdown",
   "id": "153795f7-a747-4f4d-b4cf-410671f21730",
   "metadata": {},
   "source": [
    "What happens with higher-order functions? What happens when we embed shifting under non-shifting?\n",
    "\n",
    "    (3) Alfonso is a cat and Alfonso might dance."
   ]
  },
  {
   "cell_type": "code",
   "execution_count": null,
   "id": "113a00e2-920c-4582-9be9-c916228ea986",
   "metadata": {},
   "outputs": [],
   "source": [
    "((Alfonso * cat) * (and_ * (might * (Alfonso * dance)))).tree()"
   ]
  },
  {
   "cell_type": "markdown",
   "id": "b761b482-e503-478b-8ef7-32ca633161f3",
   "metadata": {},
   "source": [
    "Another higher-order function example:\n",
    "\n",
    "    (4) Every cat dances."
   ]
  },
  {
   "cell_type": "code",
   "execution_count": null,
   "id": "2060777f-9018-4328-b6d2-d694dca746ba",
   "metadata": {},
   "outputs": [],
   "source": [
    "(every * cat).tree()"
   ]
  },
  {
   "cell_type": "code",
   "execution_count": null,
   "id": "6f8dcabe-aa0d-4e1b-a0be-49f025b80f75",
   "metadata": {},
   "outputs": [],
   "source": [
    "((every * cat) * dance).tree()"
   ]
  },
  {
   "cell_type": "markdown",
   "id": "d02b6398-3463-4baa-b77f-a213ecd36f62",
   "metadata": {},
   "source": [
    "    (5) Every cat might dance.\n",
    "    (5') [might [[every cat] dance]]\n",
    "\n",
    "**Generalization**: Higher-order non-intensional functions combine via `Unit` + repeated applications of `LiftedFA`."
   ]
  },
  {
   "cell_type": "code",
   "execution_count": null,
   "id": "6274d5a6-07bd-4f2f-84a2-0a4cf6e3d8c6",
   "metadata": {},
   "outputs": [],
   "source": [
    "(might * ((every * cat) * dance)).tree()"
   ]
  },
  {
   "cell_type": "markdown",
   "id": "680619a6-2435-4ab9-908d-d923410c41a7",
   "metadata": {},
   "source": [
    "Note: we may or may not get this but there are non-trivial empirical and theoretical questions about scoping in examples like this...what about the other scope? It is not easy to do with the standard PA rule. (Alex's first project!)\n",
    "\n",
    "* exercise for reader: PA rule that produces a reader $\\mathbb{M}$ type...this is entirely possible!"
   ]
  },
  {
   "cell_type": "code",
   "execution_count": null,
   "id": "da752db8-e019-46c1-9b0d-fadec2e2f8f8",
   "metadata": {},
   "outputs": [],
   "source": [
    "(((lang.Binder(5) * (might *(lang.Trace(5) * dance))))).tree()"
   ]
  },
  {
   "cell_type": "code",
   "execution_count": null,
   "id": "07798a7f-4c6f-4648-a400-ade121879cbd",
   "metadata": {},
   "outputs": [],
   "source": [
    "(every * cat)"
   ]
  },
  {
   "cell_type": "code",
   "execution_count": null,
   "id": "7abc9052-d0f1-4c82-8695-1010ec17a86c",
   "metadata": {},
   "outputs": [],
   "source": [
    "# this fails...\n",
    "(every * cat) * ((lang.Binder(5) * (might *(lang.Trace(5) * dance))))"
   ]
  },
  {
   "cell_type": "markdown",
   "id": "df0d97c3-8416-4f29-9405-623d1b7bfc57",
   "metadata": {},
   "source": [
    "**A note on lifting to monadic types**. In principle one can define n-ary lift options that are analogues of `Unit`, for example:"
   ]
  },
  {
   "cell_type": "code",
   "execution_count": null,
   "id": "9d0bd716-3cf1-4acd-b733-970f44ca8648",
   "metadata": {},
   "outputs": [],
   "source": [
    "and_.content"
   ]
  },
  {
   "cell_type": "code",
   "execution_count": null,
   "id": "ae761caa-705d-45fc-a557-b9436812be14",
   "metadata": {},
   "outputs": [],
   "source": [
    "lift2 = %te L f_<X,<Y,Z>> : L w_s : L x_<s,X> : L y_<s,Y> : f(x(w))(y(w))\n",
    "lift2"
   ]
  },
  {
   "cell_type": "code",
   "execution_count": null,
   "id": "c256709b-6c27-446e-b752-e5397dc681a5",
   "metadata": {},
   "outputs": [],
   "source": [
    "lifted_and = lift2(and_.content).reduce_all()\n",
    "lifted_and"
   ]
  },
  {
   "cell_type": "code",
   "execution_count": null,
   "id": "8bcb016e-82f0-4f5c-aa20-1f0b16f79d7a",
   "metadata": {},
   "outputs": [],
   "source": [
    "%lamb ||and2|| = (λ w_s: (λ x_<s,t>: (λ y_<s,t>: (x_<s,t>(w_s) & y_<s,t>(w_s)))))"
   ]
  },
  {
   "cell_type": "markdown",
   "id": "c7ec3770-facb-42d7-8fc7-7eb988123dd0",
   "metadata": {},
   "source": [
    "However, `LiftedFA` is still need to compose the result! So this isn't necessary in the present system."
   ]
  },
  {
   "cell_type": "code",
   "execution_count": null,
   "id": "df9fad86-a7fe-4ccd-b69a-e81402a26b82",
   "metadata": {},
   "outputs": [],
   "source": [
    "((Alfonso * cat) * (and2 * (might * (Alfonso * dance)))).tree()"
   ]
  },
  {
   "cell_type": "code",
   "execution_count": null,
   "id": "7b12dac4-dce6-4e1a-a362-527406678135",
   "metadata": {},
   "outputs": [],
   "source": []
  }
 ],
 "metadata": {
  "kernelspec": {
   "display_name": "Lambda Notebook (Python 3)",
   "language": "python",
   "name": "lambda-notebook"
  },
  "language_info": {
   "codemirror_mode": {
    "name": "ipython",
    "version": 3
   },
   "file_extension": ".py",
   "mimetype": "text/x-python",
   "name": "python",
   "nbconvert_exporter": "python",
   "pygments_lexer": "ipython3",
   "version": "3.12.0"
  }
 },
 "nbformat": 4,
 "nbformat_minor": 5
}
