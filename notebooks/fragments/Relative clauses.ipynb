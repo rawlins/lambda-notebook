{
 "cells": [
  {
   "cell_type": "markdown",
   "metadata": {},
   "source": [
    "# Relative clauses\n",
    "## Author: Kyle Rawlins\n",
    "\n",
    "This notebook goes through (a variant of) the analysis of relative clauses in Heim & Kratzer (1998), \"Semantics in generative grammar\"."
   ]
  },
  {
   "cell_type": "code",
   "execution_count": null,
   "metadata": {},
   "outputs": [],
   "source": [
    "reload_lamb()\n",
    "composition_system = lang.hk3_system.copy()\n",
    "lang.set_system(composition_system)\n",
    "composition_system"
   ]
  },
  {
   "cell_type": "code",
   "execution_count": null,
   "metadata": {},
   "outputs": [],
   "source": [
    "%%lamb reset\n",
    "||gray|| = lambda x_e : Gray(x)\n",
    "||cat|| = lambda x_e : Cat(x)\n",
    "||bill|| = Bill_e\n",
    "||likes|| = lambda x_e : lambda y_e : Likes(y,x)"
   ]
  },
  {
   "cell_type": "markdown",
   "metadata": {},
   "source": [
    "What is needed for variable binding?  This takes two parts:\n",
    "\n",
    " * A representation for `Item`s with indices, which take the form of specialized Item classes for the binder (`lang.Binder`) and the traces/variables (`lang.Trace`, etc).\n",
    " * An implemented version of the `Predicate Abstraction` (PA) composition rule.\n",
    " \n",
    "Both of these are provided as part of `lamb.lang`, in the form of the classes `Binder`, `Trace`, and `IndexedPronoun`, as well as several versions of predicate abstraction. `Binder` in particular is a somewhat unusual kind of `Item` in that it has no content: it is a bearer of an index only. It can have a form, as in this example, or it can be just a pure binder, as in the following example.\n",
    "\n",
    "For PA, the current composition system is using `lamb.lang.tree_pa_sbc_fun`, if you are curious, though several other implementations are provided.  `sbc` here stands for Semantics Boot Camp: this implementation is based on one from Coppock and Champollion's \"Invitation to Formal Semantics\" (previously known as SBC). This is arguably somewhat simpler than the classic Heim and Kratzer implementation, which manipulates assignments directly. Rather, this version binds any free variables in the contentful argument named in a designated way."
   ]
  },
  {
   "cell_type": "markdown",
   "metadata": {},
   "source": [
    "Now let's use these things.  Binders and traces can easily be constructed around numeric indices, and used anywhere you would use a regular lexical item:"
   ]
  },
  {
   "cell_type": "code",
   "execution_count": null,
   "metadata": {},
   "outputs": [],
   "source": [
    "b = lang.Binder(5, name=\"which\")\n",
    "t = lang.Trace(5)\n",
    "t"
   ]
  },
  {
   "cell_type": "code",
   "execution_count": null,
   "metadata": {},
   "outputs": [],
   "source": [
    "(b * t).paths()"
   ]
  },
  {
   "cell_type": "code",
   "execution_count": null,
   "metadata": {},
   "outputs": [],
   "source": [
    "b * t"
   ]
  },
  {
   "cell_type": "code",
   "execution_count": null,
   "metadata": {},
   "outputs": [],
   "source": [
    "bill * (likes * t)"
   ]
  },
  {
   "cell_type": "markdown",
   "metadata": {},
   "source": [
    "A simple relative clause like \"that Bill likes\" can be represented as follows:"
   ]
  },
  {
   "cell_type": "code",
   "execution_count": null,
   "metadata": {},
   "outputs": [],
   "source": [
    "r = b * (bill * (likes * t))\n",
    "r"
   ]
  },
  {
   "cell_type": "markdown",
   "metadata": {},
   "source": [
    "This would compose with a NP via Predicate Modification."
   ]
  },
  {
   "cell_type": "code",
   "execution_count": null,
   "metadata": {},
   "outputs": [],
   "source": [
    "r = gray * (cat * (b * (bill * (likes * t))))\n",
    "r"
   ]
  },
  {
   "cell_type": "code",
   "execution_count": null,
   "metadata": {},
   "outputs": [],
   "source": [
    "r.paths()"
   ]
  },
  {
   "cell_type": "markdown",
   "metadata": {},
   "source": [
    "Now for a very complicated example.  This is one of the more challenging examples from Heim and Kratzer, the such-that relative \"the man such that Mary reviewed a book that he wrote\". This example shows a pronoun as well as a \"pure\" binder (of the sort found in H&K ch. 7)."
   ]
  },
  {
   "cell_type": "code",
   "execution_count": null,
   "metadata": {},
   "outputs": [],
   "source": [
    "%lambctl reset\n",
    "composition_system = lang.hk3_system.copy()\n",
    "lang.set_system(composition_system)\n",
    "\n",
    "# define some lexical items with python function calls:\n",
    "he = lang.IndexedPronoun(\"he\", 2, types.type_e)\n",
    "that = lang.Item(\"that\", None)\n",
    "such = lang.Item(\"such\", None)\n",
    "lang.get_system().add_items(he, that, such)\n",
    "lang.get_system().lexicon"
   ]
  },
  {
   "cell_type": "code",
   "execution_count": null,
   "metadata": {},
   "outputs": [],
   "source": [
    "%%lamb\n",
    "||mary|| = Mary_e\n",
    "||man|| = L x_e : Man(x)\n",
    "||book|| = L x_e : Book(x)\n",
    "||wrote|| = L x_e : L y_e : Wrote(y,x)\n",
    "||reviewed|| = L x_e : L y_e : Reviewed(y,x)\n",
    "||a|| = L f_<e,t> : L g_<e,<e,t>> : L y_e : Exists x_e : f(x) & g(x)(y)"
   ]
  },
  {
   "cell_type": "markdown",
   "metadata": {},
   "source": [
    "A binder can be purely abstract, as in Heim and Kratzer ch. 7. This is helpful also if you want to decompose a relative pronoun into something with e.g. animacy features. Here we treat `such` and `that` as vacuous elements with an abstract `Binder`; an alternative would be to index one of these elements."
   ]
  },
  {
   "cell_type": "code",
   "execution_count": null,
   "metadata": {},
   "outputs": [],
   "source": [
    "lang.get_system().add_item(lang.Binder(2))\n",
    "lang.get_system().lexicon"
   ]
  },
  {
   "cell_type": "code",
   "execution_count": null,
   "metadata": {},
   "outputs": [],
   "source": [
    "(lang.Binder(2) * (such * (that * (mary * (reviewed * (a * (book * (lang.Binder(1) * (he * (wrote * lang.Trace(1)))))))))))"
   ]
  },
  {
   "cell_type": "markdown",
   "metadata": {},
   "source": [
    "You'll notice that during bottom-up composition, if you use `Item`s that aren't yet in the lexicon, they get automatically added. In this case, the binder and traces were defined on the fly using their python constructors."
   ]
  },
  {
   "cell_type": "code",
   "execution_count": null,
   "metadata": {},
   "outputs": [],
   "source": [
    "r = man * (lang.Binder(2) * (such * (that * (mary * (reviewed * (a * (book * (lang.Binder(1) * (he * (wrote * lang.Trace(1)))))))))))\n",
    "r.paths()"
   ]
  },
  {
   "cell_type": "code",
   "execution_count": null,
   "metadata": {},
   "outputs": [],
   "source": [
    "r.denotations.trace()"
   ]
  },
  {
   "cell_type": "markdown",
   "metadata": {},
   "source": [
    "The first examples showed how to do bottom-up composition using `*`, since this is a simpler starting point. It's also possible to look at relative clause structures in a top-down fashion. This is useful to get a better sense of how relative clause composition interacts with the syntax. The following example computes the NP `grey cat which Bill likes` using the same lexical entries as above. First we ensure that the all the lexical items above are in the lexicon, in case these cells are run out-of-order."
   ]
  },
  {
   "cell_type": "code",
   "execution_count": null,
   "metadata": {},
   "outputs": [],
   "source": [
    "%%lamb reset\n",
    "||gray|| = lambda x_e : Gray(x)\n",
    "||cat|| = lambda x_e : Cat(x)\n",
    "||bill|| = Bill_e\n",
    "||likes|| = lambda x_e : lambda y_e : Likes(y,x)"
   ]
  },
  {
   "cell_type": "code",
   "execution_count": null,
   "metadata": {},
   "outputs": [],
   "source": [
    "# currently there is no %%lamb syntax for defining these sorts of Items\n",
    "lang.get_system().add_item(lang.Binder(5, name=\"which\"))\n",
    "lang.get_system().add_item(lang.Trace(5))"
   ]
  },
  {
   "cell_type": "code",
   "execution_count": null,
   "metadata": {},
   "outputs": [],
   "source": [
    "lang.get_system().lexicon"
   ]
  },
  {
   "cell_type": "code",
   "execution_count": null,
   "metadata": {},
   "outputs": [],
   "source": [
    "tr = Tree.fromstring(\"(NP (AP gray) (NP (NP (N cat)) (CP (DP which5) (C' (S (DP bill) (VP (V likes) (DP t5)))))))\")\n",
    "tr"
   ]
  },
  {
   "cell_type": "code",
   "execution_count": null,
   "metadata": {},
   "outputs": [],
   "source": [
    "# The `tr` variable is a purely syntactic tree. Before composing, we need to generate a CompositionTree to work on.\n",
    "tr2 = lang.CompositionTree.tree_factory(tr)"
   ]
  },
  {
   "cell_type": "code",
   "execution_count": null,
   "metadata": {},
   "outputs": [],
   "source": [
    "# now just fully compose the tree. This works in-place on the `tr2` object.\n",
    "lang.get_system().expand_all(tr2)"
   ]
  },
  {
   "cell_type": "markdown",
   "metadata": {},
   "source": [
    "Let's look at the composition a bit more. In this case, the experimental svgling tree drawing code works reasonably well (it doesn't always, in complex trees).\n",
    "\n",
    "The main technical difference to note is that this system applied the rule `IDX` to percolate the index up to a compositional position where it could interact with the `PA` rule. The `NN` rule would be unable to apply at this position in the tree, because `which5` has no content. This is arguably more of a syntactic operation that could be implemented in other ways (e.g. index percolation from the head of a DP to the whole DP), but one way or another, this needs to happen for this tree to be interpretable."
   ]
  },
  {
   "cell_type": "code",
   "execution_count": null,
   "metadata": {},
   "outputs": [],
   "source": [
    "tr2.paths(style={\"style\": lamb.display.DerivStyle.TREE})"
   ]
  },
  {
   "cell_type": "code",
   "execution_count": null,
   "metadata": {},
   "outputs": [],
   "source": [
    "tr2.paths()"
   ]
  },
  {
   "cell_type": "markdown",
   "metadata": {},
   "source": [
    "### Using presuppositional pronouns\n",
    "\n",
    "This example uses slightly more realistic pronoun denotations that have gender presuppositions. We need to first switch the composition system so that presuppositions will get tallied up. In this example we use a fully bottom-up composition sytem."
   ]
  },
  {
   "cell_type": "code",
   "execution_count": null,
   "metadata": {},
   "outputs": [],
   "source": [
    "from lamb.meta import Partial\n",
    "lang.set_system(lang.td_presup)\n",
    "lang.get_system()"
   ]
  },
  {
   "cell_type": "code",
   "execution_count": null,
   "metadata": {},
   "outputs": [],
   "source": [
    "male_prop = %te L x_e : Male_<e,t>(x)\n",
    "hei = lang.PresupPronoun.index_factory(\"he\", male_prop)\n",
    "hei(2)"
   ]
  },
  {
   "cell_type": "code",
   "execution_count": null,
   "metadata": {},
   "outputs": [],
   "source": [
    "%%lamb\n",
    "||mary|| = Mary_e\n",
    "||man|| = L x_e : Man(x)\n",
    "||book|| = L x_e : Book(x)\n",
    "||wrote|| = L x_e : L y_e : Wrote(y,x)\n",
    "||reviewed|| = L x_e : L y_e : Reviewed(y,x)\n",
    "||that|| = L p_t : p\n",
    "||such|| = L p_t : p\n",
    "||a|| = L f_<e,t> : L g_<e,<e,t>> : L y_e : Exists x_e : f(x) & g(x)(y)\n",
    "||the|| = lambda f_<e,t> : IotaPartial x : f(x)"
   ]
  },
  {
   "cell_type": "code",
   "execution_count": null,
   "metadata": {},
   "outputs": [],
   "source": [
    "r = man * (lang.Binder(2) * (such * (that * (mary * (reviewed * (a * (book * (lang.Binder(1) * (hei(2) * (wrote * lang.Trace(1)))))))))))\n",
    "the * r"
   ]
  },
  {
   "cell_type": "code",
   "execution_count": null,
   "metadata": {},
   "outputs": [],
   "source": []
  }
 ],
 "metadata": {
  "kernelspec": {
   "display_name": "Lambda Notebook (Python 3)",
   "language": "python",
   "name": "lambda-notebook"
  },
  "language_info": {
   "codemirror_mode": {
    "name": "ipython",
    "version": 3
   },
   "file_extension": ".py",
   "mimetype": "text/x-python",
   "name": "python",
   "nbconvert_exporter": "python",
   "pygments_lexer": "ipython3",
   "version": "3.9.7"
  }
 },
 "nbformat": 4,
 "nbformat_minor": 4
}
