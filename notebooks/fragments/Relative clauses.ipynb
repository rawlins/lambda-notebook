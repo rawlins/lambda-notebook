{
 "cells": [
  {
   "cell_type": "markdown",
   "metadata": {},
   "source": [
    "# Relative clauses\n",
    "## Author: Kyle Rawlins\n",
    "\n",
    "This notebook goes through the analysis of relative clauses in Heim & Kratzer (1998), \"Semantics in generative grammar\"."
   ]
  },
  {
   "cell_type": "code",
   "execution_count": null,
   "metadata": {},
   "outputs": [],
   "source": [
    "reload_lamb()\n",
    "composition_system = lang.hk3_system.copy()\n",
    "lang.set_system(composition_system)\n",
    "composition_system"
   ]
  },
  {
   "cell_type": "code",
   "execution_count": null,
   "metadata": {},
   "outputs": [],
   "source": [
    "%%lamb reset\n",
    "||gray|| = lambda x_e : Gray(x)\n",
    "||cat|| = lambda x_e : Cat(x)\n",
    "||bill|| = Bill_e\n",
    "||likes|| = lambda x_e : lambda y_e : Likes(y,x)"
   ]
  },
  {
   "cell_type": "markdown",
   "metadata": {},
   "source": [
    "What is needed for variable binding?  This takes two parts:\n",
    "\n",
    " * specialized Item classes for the binder and the traces/variables.\n",
    " * code to actually perform predicate abstraction.\n",
    " \n",
    "Both of these are provided as part of `lamb.lang`, in the form of the classes `Binder`, `Trace`, and `IndexedPronoun`, as well as several version of predicate abstraction. This assumes that the binder index is `detached` from a relative pronoun at LF, as in the \n",
    "\n",
    "For PA, the current composition system is using `lamb.lang.tree_pa_metalanguage_fun`, if you are curious.  (Side note: PA rules in the lambda notebook by default use a somewhat simpler implementation than Heim and Kratzer's; see Coppock and Champollion's \"Invitation to Formal Semantics\". They operate by using variables named with a particular syntax and assignment functions in the metalanguage, rather than assignments for the object language.)"
   ]
  },
  {
   "cell_type": "markdown",
   "metadata": {},
   "source": [
    "Now let's use these things.  Binders and traces can easily be constructed around numeric indices, and used anywhere you would use a regular lexical item:"
   ]
  },
  {
   "cell_type": "code",
   "execution_count": null,
   "metadata": {},
   "outputs": [],
   "source": [
    "b = lang.Binder(5, name=\"which\")\n",
    "t = lang.Trace(5)\n",
    "t"
   ]
  },
  {
   "cell_type": "code",
   "execution_count": null,
   "metadata": {},
   "outputs": [],
   "source": [
    "(b * t).paths()"
   ]
  },
  {
   "cell_type": "code",
   "execution_count": null,
   "metadata": {},
   "outputs": [],
   "source": [
    "b * t"
   ]
  },
  {
   "cell_type": "code",
   "execution_count": null,
   "metadata": {},
   "outputs": [],
   "source": [
    "bill * (likes * t)"
   ]
  },
  {
   "cell_type": "markdown",
   "metadata": {},
   "source": [
    "A simple relative clause like \"that Bill likes\" can be represented as follows:"
   ]
  },
  {
   "cell_type": "code",
   "execution_count": null,
   "metadata": {},
   "outputs": [],
   "source": [
    "r = b * (bill * (likes * t))\n",
    "r"
   ]
  },
  {
   "cell_type": "markdown",
   "metadata": {},
   "source": [
    "This would compose with a NP via Predicate Modification."
   ]
  },
  {
   "cell_type": "code",
   "execution_count": null,
   "metadata": {},
   "outputs": [],
   "source": [
    "r = gray * (cat * (b * (bill * (likes * t))))\n",
    "r"
   ]
  },
  {
   "cell_type": "code",
   "execution_count": null,
   "metadata": {},
   "outputs": [],
   "source": [
    "r.paths()"
   ]
  },
  {
   "cell_type": "markdown",
   "metadata": {},
   "source": [
    "Now for a very complicated example.  This is one of the more challenging examples from Heim and Kratzer, the such-that relative \"the man such that Mary reviewed a book that he wrote\"."
   ]
  },
  {
   "cell_type": "code",
   "execution_count": null,
   "metadata": {},
   "outputs": [],
   "source": [
    "he = lang.IndexedPronoun(\"he\", 2, types.type_e)\n",
    "he"
   ]
  },
  {
   "cell_type": "code",
   "execution_count": null,
   "metadata": {},
   "outputs": [],
   "source": [
    "%%lamb\n",
    "||mary|| = Mary_e\n",
    "||man|| = L x_e : Man(x)\n",
    "||book|| = L x_e : Book(x)\n",
    "||wrote|| = L x_e : L y_e : Wrote(y,x)\n",
    "||reviewed|| = L x_e : L y_e : Reviewed(y,x)\n",
    "||that|| = L p_t : p\n",
    "||such|| = L p_t : p\n",
    "||a|| = L f_<e,t> : L g_<e,<e,t>> : L y_e : Exists x_e : f(x) & g(x)(y)"
   ]
  },
  {
   "cell_type": "markdown",
   "metadata": {},
   "source": [
    "A binder can be purely abstract, as in Heim and Kratzer ch. 7. This is helpful also if you want to decompose a relative pronoun into something with e.g. animacy features. Here though we treat `such` and `that` as identity functions:"
   ]
  },
  {
   "cell_type": "code",
   "execution_count": null,
   "metadata": {},
   "outputs": [],
   "source": [
    "(lang.Binder(2) * (such * (that * (mary * (reviewed * (a * (book * (lang.Binder(1) * (he * (wrote * lang.Trace(1)))))))))))"
   ]
  },
  {
   "cell_type": "code",
   "execution_count": null,
   "metadata": {},
   "outputs": [],
   "source": []
  },
  {
   "cell_type": "code",
   "execution_count": null,
   "metadata": {},
   "outputs": [],
   "source": [
    "r = man * (lang.Binder(2) * (such * (that * (mary * (reviewed * (a * (book * (lang.Binder(1) * (he * (wrote * lang.Trace(1)))))))))))\n",
    "r.paths()"
   ]
  },
  {
   "cell_type": "markdown",
   "metadata": {},
   "source": [
    "### Using presuppositional pronouns\n",
    "\n",
    "This example uses slightly more realistic pronoun denotations that have gender presuppositions. We need to first switch the composition system so that presuppositions will get tallied up."
   ]
  },
  {
   "cell_type": "code",
   "execution_count": null,
   "metadata": {},
   "outputs": [],
   "source": [
    "from lamb.meta import Partial\n",
    "lang.set_system(lang.td_presup)\n",
    "lang.get_system()"
   ]
  },
  {
   "cell_type": "code",
   "execution_count": null,
   "metadata": {},
   "outputs": [],
   "source": [
    "male_prop = %te L x_e : Male_<e,t>(x)\n",
    "hei = lang.PresupPronoun.index_factory(\"he\", male_prop)\n",
    "hei(2)"
   ]
  },
  {
   "cell_type": "code",
   "execution_count": null,
   "metadata": {},
   "outputs": [],
   "source": [
    "%%lamb\n",
    "||mary|| = Mary_e\n",
    "||man|| = L x_e : Man(x)\n",
    "||book|| = L x_e : Book(x)\n",
    "||wrote|| = L x_e : L y_e : Wrote(y,x)\n",
    "||reviewed|| = L x_e : L y_e : Reviewed(y,x)\n",
    "||that|| = L p_t : p\n",
    "||such|| = L p_t : p\n",
    "||a|| = L f_<e,t> : L g_<e,<e,t>> : L y_e : Exists x_e : f(x) & g(x)(y)\n",
    "||the|| = lambda f_<e,t> : IotaPartial x : f(x)"
   ]
  },
  {
   "cell_type": "code",
   "execution_count": null,
   "metadata": {},
   "outputs": [],
   "source": [
    "r = man * (lang.Binder(2) * (such * (that * (mary * (reviewed * (a * (book * (lang.Binder(1) * (hei(2) * (wrote * lang.Trace(1)))))))))))\n",
    "the * r"
   ]
  },
  {
   "cell_type": "code",
   "execution_count": null,
   "metadata": {},
   "outputs": [],
   "source": []
  }
 ],
 "metadata": {
  "kernelspec": {
   "display_name": "Lambda Notebook (Python 3)",
   "language": "python",
   "name": "lambda-notebook"
  },
  "language_info": {
   "codemirror_mode": {
    "name": "ipython",
    "version": 3
   },
   "file_extension": ".py",
   "mimetype": "text/x-python",
   "name": "python",
   "nbconvert_exporter": "python",
   "pygments_lexer": "ipython3",
   "version": "3.9.7"
  }
 },
 "nbformat": 4,
 "nbformat_minor": 4
}
