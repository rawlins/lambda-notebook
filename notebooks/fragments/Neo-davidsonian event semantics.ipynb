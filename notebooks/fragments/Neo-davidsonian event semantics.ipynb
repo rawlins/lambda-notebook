{
 "cells": [
  {
   "cell_type": "markdown",
   "metadata": {},
   "source": [
    "# Neo-davidsonian composition\n",
    "## Author: Kyle Rawlins\n",
    "\n",
    "This notebook demonstrates an implementation of a basic neo-Davidsonian treatment of semantic composition."
   ]
  },
  {
   "cell_type": "code",
   "execution_count": null,
   "metadata": {},
   "outputs": [],
   "source": [
    "from IPython.display import display\n",
    "#reload_lamb() # may be useful if you edit this notebook"
   ]
  },
  {
   "cell_type": "markdown",
   "metadata": {},
   "source": [
    "The classic account of verb meaning is that it a verb relates individuals.  A transitive verb is a two-place relation in type e."
   ]
  },
  {
   "cell_type": "code",
   "execution_count": null,
   "metadata": {},
   "outputs": [],
   "source": [
    "type_e = types.type_e\n",
    "type_t = types.type_t\n",
    "type_n = types.type_n"
   ]
  },
  {
   "cell_type": "code",
   "execution_count": null,
   "metadata": {},
   "outputs": [],
   "source": [
    "%%lamb\n",
    "||smokes|| = L x_e : Smokes(x)\n",
    "||sees|| = L y_e : L x_e : Sees(x, y)\n",
    "||alfonso|| = Alfonso_e\n",
    "||joanna|| = Joanna_e"
   ]
  },
  {
   "cell_type": "code",
   "execution_count": null,
   "metadata": {},
   "outputs": [],
   "source": [
    "smokes * alfonso"
   ]
  },
  {
   "cell_type": "code",
   "execution_count": null,
   "metadata": {},
   "outputs": [],
   "source": [
    "alfonso * (sees * joanna)"
   ]
  },
  {
   "cell_type": "code",
   "execution_count": null,
   "metadata": {},
   "outputs": [],
   "source": [
    "(alfonso * (sees * joanna)).tree()"
   ]
  },
  {
   "cell_type": "markdown",
   "metadata": {},
   "source": [
    "There are many things that are tricky on this classical account.  The best argument is probably from adverbs.  I will not repeat the arguments in detail here, but the most basic one is what is sometimes called the 'diamond' entailment pattern (see e.g. Parsons 1990).  (1) illustrates the basic pattern, and (2)-(5) illustrate the diamond pattern.\n",
    "\n",
    "(1) Alfonso danced slowly $\\leadsto$ Alfonso danced\n",
    "\n",
    "(2) Alfonso danced slowly in the kitchen.\n",
    "\n",
    "(3) $\\leadsto$ Alfonso danced slowly.\n",
    "\n",
    "(4) $\\leadsto$ Alfonso danced in the kitchen.\n",
    "\n",
    "(5) $\\leadsto$ Alfonso danced.\n",
    "\n",
    "In general, core arguments do not show this sort of pattern, and it is not straightforward to handle under the relation account.  The pattern in (2)-(5) in fact resembles what happens with conjunction, which led Davidson to propose a somewhat different logical form for sentences like (2):\n",
    "\n",
    "(6) $\\exists e : Dancing(e, Alfonso) \\wedge Slow(e) \\wedge In(e, kitchen)$\n",
    "\n",
    "$e$ here is an event variable, and on Davidson's original account, verbs denote a relation on events and event participants.  In the neo-Davidsonian account, developed below, even participant combination is separated out.\n",
    "\n",
    "First we add a type for events ($v$):"
   ]
  },
  {
   "cell_type": "code",
   "execution_count": null,
   "metadata": {},
   "outputs": [],
   "source": [
    "type_v = types.BasicType(\"v\")\n",
    "ts = meta.get_type_system()\n",
    "ts.add_atomic(type_v)\n",
    "ts"
   ]
  },
  {
   "cell_type": "markdown",
   "metadata": {},
   "source": [
    "On this neo-Davidsonian treatment, VPs denote properties of events.  Predicates such as $Agent$ and $Patient$ in the meta-language relate events with participants.  Composition with a subject is mediated by a Kratzer-inspired little v, and composition with a direct object happens classically (though still mediated by a thematic predicate).\n",
    "\n",
    "To keep things simple, I have done everything here via Function Application."
   ]
  },
  {
   "cell_type": "code",
   "execution_count": null,
   "metadata": {},
   "outputs": [],
   "source": [
    "%%lamb\n",
    "agent = Agent_<(v,e),t> # this is a way of enforcing consistent types for this predicate.\n",
    "patient = Patient_<(v,e),t>\n",
    "||smokes|| = L e_v : Smoking(e)\n",
    "||sees|| = L y_e : L e_v : Seeing(e) & patient(e,y)\n",
    "||ACTIVE|| = L f_<v,t> : L x_e : L e_v : f(e) & agent(e,x)"
   ]
  },
  {
   "cell_type": "code",
   "execution_count": null,
   "metadata": {},
   "outputs": [],
   "source": [
    "v = ACTIVE\n",
    "r = (alfonso * (v * smokes))\n",
    "r.tree()"
   ]
  },
  {
   "cell_type": "code",
   "execution_count": null,
   "metadata": {},
   "outputs": [],
   "source": [
    "r2 = (alfonso * (v * (sees * joanna)))\n",
    "r2"
   ]
  },
  {
   "cell_type": "code",
   "execution_count": null,
   "metadata": {},
   "outputs": [],
   "source": [
    "r2.tree()"
   ]
  },
  {
   "cell_type": "markdown",
   "metadata": {},
   "source": [
    "Despite the complicated sequence of composition, the end result is just a conjunction of event properties (more or less).\n",
    "\n",
    "Now, adverbs have a simple treatment, analogous to adjectives:"
   ]
  },
  {
   "cell_type": "code",
   "execution_count": null,
   "metadata": {},
   "outputs": [],
   "source": [
    "%%lamb\n",
    "||dance|| = L e_v : Dancing(e)\n",
    "||slowly|| = L f_<v,t> : L e_v : f(e) & Slow(e)\n",
    "||inP|| = L x_e : L f_<v,t> : L e_v : f(e) & Loc(e, x)\n",
    "||the|| = L f_<e,t> : Iota x_e : f(x)\n",
    "||kitchen|| = L x_e : Kitchen(x)"
   ]
  },
  {
   "cell_type": "code",
   "execution_count": null,
   "metadata": {},
   "outputs": [],
   "source": [
    "itk = inP * (the * kitchen)\n",
    "itk"
   ]
  },
  {
   "cell_type": "code",
   "execution_count": null,
   "metadata": {},
   "outputs": [],
   "source": [
    "dance0 = (alfonso * (v * dance))\n",
    "dance1 = (alfonso * (v * (dance * slowly)))\n",
    "dance2 = (alfonso * (v * (dance * itk)))\n",
    "dance3 = (alfonso * (v * ((dance * slowly) * itk)))\n",
    "display(dance0, dance1, dance2, dance3)"
   ]
  },
  {
   "cell_type": "code",
   "execution_count": null,
   "metadata": {},
   "outputs": [],
   "source": [
    "dance3.tree()"
   ]
  },
  {
   "cell_type": "markdown",
   "metadata": {},
   "source": [
    "The denotations above remain unsaturated.  Part of Davidson's idea is that the truth-conditions of an \"action sentence\" involve existentially quantifying over an event.  There are a number of proposals as to how these existential quantifier is introduced compositionally, but the simplest is to treat it as a type shift (or unary composition operation).\n",
    "\n",
    "We can first do this by defining a function that performs \"existential closure\", and then defining a composition operation using that function."
   ]
  },
  {
   "cell_type": "code",
   "execution_count": null,
   "metadata": {},
   "outputs": [],
   "source": [
    "ec_fun = te(\"L f_<v,t> : Exists e_v : f(e)\")\n",
    "ec_fun"
   ]
  },
  {
   "cell_type": "code",
   "execution_count": null,
   "metadata": {},
   "outputs": [],
   "source": [
    "(ec_fun(dance3[0].content)).reduce_all()"
   ]
  },
  {
   "cell_type": "code",
   "execution_count": null,
   "metadata": {},
   "outputs": [],
   "source": [
    "system = lang.td_system.copy()\n",
    "system.add_unary_rule(ec_fun, \"EC\")\n",
    "lang.set_system(system)\n",
    "system"
   ]
  },
  {
   "cell_type": "markdown",
   "metadata": {},
   "source": [
    "Unary composition can be triggered by composing with python `None`."
   ]
  },
  {
   "cell_type": "code",
   "execution_count": null,
   "metadata": {},
   "outputs": [],
   "source": [
    "dance4 = (dance3 * None)\n",
    "dance4"
   ]
  },
  {
   "cell_type": "code",
   "execution_count": null,
   "metadata": {},
   "outputs": [],
   "source": [
    "dance4.tree()"
   ]
  },
  {
   "cell_type": "markdown",
   "metadata": {},
   "source": [
    "The above treatment uses Function Application for every stage.  The alternative is to use a (generalized) version of Predicate Modification, or some similar operation (e.g. Chung and Ladusaw's Restrict).\n",
    "\n",
    "The version of PM provided by the lambda notebook library is specific to type $\\langle e,t \\rangle$, so we will need to generalize.  The library implemention of PM uses the function shown below as `basic_pm_fun`, and to generalize, one can construct such an operator for arbitrary input types.  The function `construct_gpm_fun` does this, with two example property types shown."
   ]
  },
  {
   "cell_type": "code",
   "execution_count": null,
   "metadata": {},
   "outputs": [],
   "source": [
    "basic_pm_fun = lang.te(\"L f_<e,t> : L g_<e,t> : L x_e : f(x) & g(x)\")\n",
    "basic_pm_fun"
   ]
  },
  {
   "cell_type": "code",
   "execution_count": null,
   "metadata": {},
   "outputs": [],
   "source": [
    "gpm_fun = %te L f_<X,t> : L g_<X,t> : L x_X : f(x) & g(x)\n",
    "gpm_fun"
   ]
  },
  {
   "cell_type": "code",
   "execution_count": null,
   "metadata": {},
   "outputs": [],
   "source": [
    "gpm_fun(te(\"L x_e : Gray(x)\")).reduce_all().derivation"
   ]
  },
  {
   "cell_type": "code",
   "execution_count": null,
   "metadata": {},
   "outputs": [],
   "source": [
    "system = lang.td_system.copy()\n",
    "system.add_unary_rule(ec_fun, \"EC\")\n",
    "system.add_binary_rule(gpm_fun, \"GPM\", commutative=True)\n",
    "lang.set_system(system)\n",
    "system"
   ]
  },
  {
   "cell_type": "code",
   "execution_count": null,
   "metadata": {},
   "outputs": [],
   "source": [
    "(dance * slowly).tree()"
   ]
  },
  {
   "cell_type": "markdown",
   "metadata": {},
   "source": [
    "Note that PM is redundant with GPM, so we may want to remove PM:"
   ]
  },
  {
   "cell_type": "code",
   "execution_count": null,
   "metadata": {},
   "outputs": [],
   "source": [
    "system.remove_rule(\"PM\")\n",
    "system"
   ]
  },
  {
   "cell_type": "markdown",
   "metadata": {},
   "source": [
    "Now with those preliminaries out of the way, we are in good shape to reformulate the neo-Davidsonian account using mainly GPM.\n",
    "\n",
    "Just to demonstrate what this could involve, I'll alter the assumption about little-v.  The early implementation assumed that the subject composed in Spec,TP; now we can even assume it is in Spec,vP.  This leads to much simpler entries all around, and is close to Kratzer's original proposal."
   ]
  },
  {
   "cell_type": "code",
   "execution_count": null,
   "metadata": {},
   "outputs": [],
   "source": [
    "%%lamb\n",
    "# redo everything\n",
    "||smokes|| = L e_v : Smoking(e)\n",
    "||sees|| = L y_e : L e_v : Seeing(e) & patient(e,y)\n",
    "||ACTIVE|| = L x_e : L e_v : agent(e,x)\n",
    "||dance|| = L e_v : Dancing(e)\n",
    "||slowly|| = L e_v : Slow(e)\n",
    "||inP|| = L x_e : L e_v : Loc(e, x)\n",
    "||the|| = L f_<e,t> : Iota x_e : f(x)\n",
    "||kitchen|| = L x_e : Kitchen(x)"
   ]
  },
  {
   "cell_type": "code",
   "execution_count": null,
   "metadata": {},
   "outputs": [],
   "source": [
    "v = ACTIVE\n",
    "((alfonso * v) * smokes).tree()"
   ]
  },
  {
   "cell_type": "code",
   "execution_count": null,
   "metadata": {},
   "outputs": [],
   "source": [
    "((alfonso * v) * ((dance * slowly) * (inP * (the * kitchen)))) * None"
   ]
  },
  {
   "cell_type": "code",
   "execution_count": null,
   "metadata": {},
   "outputs": [],
   "source": [
    "(((alfonso * v) * ((dance * slowly) * (inP * (the * kitchen)))) * None).tree()"
   ]
  },
  {
   "cell_type": "markdown",
   "metadata": {},
   "source": [
    "Of course, this raises many questions that are not answered by the basic compositional architecture.  What is an agent/patient?  What does it mean for an event to be `Slow`?  Etc.  However, the basic desiderata of the diamond entailment now follow, assuming any reasonable treatment of $\\wedge$; see Parsons, Landman, and many many others for development of the Davidsonian program.\n",
    "\n",
    "In the remainder of the notebook I discuss the conjunction of action sentences, such as _Alfonso talked quickly and Alfonso danced slowly_."
   ]
  },
  {
   "cell_type": "code",
   "execution_count": null,
   "metadata": {},
   "outputs": [],
   "source": [
    "%%lamb\n",
    "||quickly|| = L e_v : Quick(e)\n",
    "||talk|| = L e_v : Talking(e)\n",
    "||and_|| = L p_t : L q_t : p & q"
   ]
  },
  {
   "cell_type": "code",
   "execution_count": null,
   "metadata": {},
   "outputs": [],
   "source": [
    "((alfonso * v) * (dance * quickly)) * None"
   ]
  },
  {
   "cell_type": "code",
   "execution_count": null,
   "metadata": {},
   "outputs": [],
   "source": [
    "((alfonso * v) * (talk * slowly)) * None"
   ]
  },
  {
   "cell_type": "code",
   "execution_count": null,
   "metadata": {},
   "outputs": [],
   "source": [
    "((((alfonso * v) * (dance * quickly)) * None)) * (and_ * (((alfonso * v) * (talk * slowly)) * None))"
   ]
  },
  {
   "cell_type": "markdown",
   "metadata": {},
   "source": [
    "Does this work for all cases of conjunction? The current analysis would a wrong result (though it does get a result) for something like: _Alfonso talked slowly and danced quickly_ unless the syntax is treated as conjunction of full sentences at LF.\n",
    "\n",
    "If you want to handle VP conjunction without LF-based assumptions, you basically need to get existential closure to somehow scope under the subject.  Three strategies for doing so:\n",
    "1. Introduce existential closure in v itself, and have one v per conjunct.  This requires a higher-typed version of `and`.\n",
    "2. Introduce existential closure inside the lexical items (proposed by e.g. Lucas Champollion).  This leads to complications for the modifiers (which could be solved by e.g. an existential disclosure operation).\n",
    "3. A very different strategy would be to have a different type for conjunction that interacts directly with the event structure.  The idea would be to build a property of plural events that has a part that is a slow talking, and a part that is a quick dancing.  Then Alfonso would be the agent of the plural event; you'd want to be able to infer also that he's the agent of the parts.\n",
    "\n",
    "Here's a version of solution 1."
   ]
  },
  {
   "cell_type": "code",
   "execution_count": null,
   "metadata": {},
   "outputs": [],
   "source": [
    "%%lamb \n",
    "||ACTIVE2|| = L f_<v,t> : L x_e : Exists e_v : agent(e,x) & f(e)\n",
    "||and2|| = L f_<e,t> : L g_<e,t> : L x_e : f(x) & g(x)"
   ]
  },
  {
   "cell_type": "code",
   "execution_count": null,
   "metadata": {},
   "outputs": [],
   "source": [
    "r = alfonso * ((ACTIVE2 * (dance * quickly)) * (and2 * (ACTIVE2 * (talk * slowly))))\n",
    "r"
   ]
  },
  {
   "cell_type": "code",
   "execution_count": null,
   "metadata": {},
   "outputs": [],
   "source": [
    "r.tree()"
   ]
  },
  {
   "cell_type": "code",
   "execution_count": null,
   "metadata": {},
   "outputs": [],
   "source": []
  }
 ],
 "metadata": {
  "kernelspec": {
   "display_name": "Lambda Notebook (Python 3)",
   "language": "python",
   "name": "lambda-notebook"
  },
  "language_info": {
   "codemirror_mode": {
    "name": "ipython",
    "version": 3
   },
   "file_extension": ".py",
   "mimetype": "text/x-python",
   "name": "python",
   "nbconvert_exporter": "python",
   "pygments_lexer": "ipython3",
   "version": "3.10.5"
  }
 },
 "nbformat": 4,
 "nbformat_minor": 4
}
