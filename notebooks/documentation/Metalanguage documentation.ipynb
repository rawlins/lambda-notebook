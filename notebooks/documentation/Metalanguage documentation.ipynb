{
 "cells": [
  {
   "cell_type": "code",
   "execution_count": null,
   "metadata": {},
   "outputs": [],
   "source": [
    "from IPython.display import display, HTML"
   ]
  },
  {
   "cell_type": "markdown",
   "metadata": {},
   "source": [
    "# Lambda notebook metalanguage documentation\n",
    "### Author: Kyle Rawlins\n",
    "\n",
    "__Last updated__: Feb 2017\n",
    "\n",
    "The core of the lambda notebook is a flexible and extensible typed logical metalanguage implemented in python -- the __Lambda Notebook Metalanguage (LNM)__.  The metalanguage is python-like, and can be interacted with either by cell magics, or by a python API.  Expressions of the metalanguage are parsed into python representations that can be interacted with programmatically.  There are three main aspects of the metalanguage to document: (i) the type system, (ii) the class hierarchy that supports this implementation, and (iii) the parser for writing metalanguage expressions directly.\n",
    "\n",
    "At the technical level, the core unit of the implementation of LNM is the TypedExpr class.  Every expression is an instance of this class or one of its subclasses.  A TypedExpr has a type, and consists of an 'operator' slot, and 0 or more argument slots.  The operator slot is, in most cases, filled by a logical operator or a function.  In a few special cases (terms), it is used to store a variable or constant name.  All `TypedExpr` objects implement routines to be printed in an ipython notebook.  Also, `repr` returns a string that is guaranteed to be a parseable LNM expression that will lead to the same object."
   ]
  },
  {
   "cell_type": "markdown",
   "metadata": {},
   "source": [
    "# Interacting with the metalanguage\n",
    "\n",
    "The metalanguage has two units: statements and expressions.  Expressions evaluate to metalanguage objects (of class _TypedExpr_ or a subclass), and are the main unit of the metalanguage.  For example, the following lines are each expressions.  The first one is a variable of type _e_, the second applies a variable to a constant property, and the third applies a constant of type _e_ to a lambda expression.\n",
    "\n",
    "    x_e\n",
    "    P_<e,t>(x_e)\n",
    "    (L x_e : Cat(x))(Josie_e)\n",
    "\n",
    "__Statements__ (currently) are only equality statements, and do not have a value -- they update the lexicon, variable namespace, and python namespace with an expression.  The thing to the right of `=` is a LNM expression.  Two things can be assigned values: variables names, and lexical items.  A lexical item is notated by surround the expression with `||` on each side.  Each of the following is a statement that assigns one of the above examples to a variable:\n",
    "\n",
    "    x = x_e\n",
    "    tmp = P_<e,t>(x_e)\n",
    "    c = (L x_e : Cat(x))(Josie_e)\n",
    "    \n",
    "The following example illustrates a lexical item assignment:\n",
    "\n",
    "    ||cat|| = L x_e : Cat(x)"
   ]
  },
  {
   "cell_type": "markdown",
   "metadata": {},
   "source": [
    "There are two ways to process metalanguage: via ipython magics, and via python functions.  To process a statement, there is an ipython 'magic' named __lamb__.  This magic works in both cell and inline mode.  In cell mode, the first line of an ipython cell should be `%%lamb`, and any following lines will be treated as metalanguage statements.  The following cell interprets the above 4 examples of LNM statements."
   ]
  },
  {
   "cell_type": "code",
   "execution_count": null,
   "metadata": {},
   "outputs": [],
   "source": [
    "%%lamb\n",
    "x = x_e\n",
    "tmp = P_<e,t>(x_e)\n",
    "c = (L x_e : Cat(x))(Josie_e)\n",
    "||cat|| = L x_e : Cat(x)"
   ]
  },
  {
   "cell_type": "markdown",
   "metadata": {},
   "source": [
    "Each statement interpreted by the __lamb__ magic has four effects: (i) the expression to the right of the equals sign is interpreted by the LNM parser and converted to a python object of class `TypedExpr` (usually a subclass); (ii) the resulting object is printed; (iii) if the expression is a lexical item, an item with that name is added to the lexicon, and (iv) a variable with the name to the left of `=` is exported to the python namespace if possible.\n",
    "\n",
    "  * _Technical note_: if the variable name is shadowed by something in the namespace, exporting (currently) fails.  (TODO: how to access?)\n",
    "  \n",
    "In inline mode, a single line of a cell is prefaced with `%lamb`; the line is interpreted as a statement in the same way described above, with one caveat: the result is only printed if the inline magic is the last line in the cell."
   ]
  },
  {
   "cell_type": "code",
   "execution_count": null,
   "metadata": {},
   "outputs": [],
   "source": [
    "print(\"This is normal python code here\")\n",
    "print(repr(tmp)) # this accesses the variable defined above via python code\n",
    "%lamb ||dog|| = L x_e : Dog(x)\n",
    "print(\"This is still python code\")"
   ]
  },
  {
   "cell_type": "code",
   "execution_count": null,
   "metadata": {},
   "outputs": [],
   "source": [
    "dog # let's print this just to make sure.  As a reminder, this cell is ordinary python code."
   ]
  },
  {
   "cell_type": "markdown",
   "metadata": {},
   "source": [
    "__Expressions__ can be input using statements as above, evaluated using the `%te` line magic, or directly evaluated in python using the function `te` (automatically imported from `lamb.lang`).  "
   ]
  },
  {
   "cell_type": "markdown",
   "metadata": {},
   "source": [
    "The `te` line magic evaluates a single expression.  This has the main effect, if used as the last line of a cell, of just printing the output.\n",
    "\n",
    "  * As a side effect, this magic stores the result of each evaluation to the python variable `_llast`.\n",
    "\n",
    "This can be mixed with python to a very limited extent, in order to do variable assignment.  Note that this command completely bypasses the lexicon, no matter how it is used."
   ]
  },
  {
   "cell_type": "code",
   "execution_count": null,
   "metadata": {},
   "outputs": [],
   "source": [
    "%te L x_e : Dog(x)"
   ]
  },
  {
   "cell_type": "code",
   "execution_count": null,
   "metadata": {},
   "outputs": [],
   "source": [
    "_llast"
   ]
  },
  {
   "cell_type": "code",
   "execution_count": null,
   "metadata": {},
   "outputs": [],
   "source": [
    "d = %te L x_e : Dog(x)\n",
    "d"
   ]
  },
  {
   "cell_type": "markdown",
   "metadata": {},
   "source": [
    "The `te` python function behaves similarly: it parses an LNM expression provided as a string, and returns an appropriate `TypedExpr`.  The result can be manipulated just like any python object."
   ]
  },
  {
   "cell_type": "code",
   "execution_count": null,
   "metadata": {},
   "outputs": [],
   "source": [
    "d = te(\"L x_e : Dog(x)\") # directly assign a python variable this LNM expression.  This bypasses the lexicon.\n",
    "d"
   ]
  },
  {
   "cell_type": "code",
   "execution_count": null,
   "metadata": {},
   "outputs": [],
   "source": [
    "d(te(\"Joe_e\"))"
   ]
  },
  {
   "cell_type": "code",
   "execution_count": null,
   "metadata": {},
   "outputs": [],
   "source": [
    "d(te(\"Joe_e\")).reduce_all() # this performs beta reduction on any lambda expressions"
   ]
  },
  {
   "cell_type": "markdown",
   "metadata": {},
   "source": [
    "# Types\n",
    "\n",
    "The type system will be familiar to anyone who has used a typed lambda calculus or logical system such as Ty2, and this documentation assumes some basic familiarity with typed lambda calculi.  The standard definition of this sort of type hierarchy looks something like this, where rule 2 defines functional types:\n",
    "\n",
    " 1. $e$ and $t$ are types.  (_atomic types_)\n",
    " 2. If $\\alpha$ and $\\beta$ are types, so is $\\langle\\alpha,\\beta\\rangle$. (_non-atomic types_)\n",
    " 3. Nothing else is a type.\n",
    "\n",
    "The type system here is extensible and designed for practical use, so it isn't useful to consider such a strict definition, but the basic ideas hold.  A type system in the lambda notebook consists of a set of atomic types and non-atomic types.  The library provides three atomic types: \n",
    "\n",
    " * $t$ (truth-values)\n",
    " * $e$ (entities)\n",
    " * $n$ (numbers)\n",
    "\n",
    "Adding new atomic types is easy; see e.g. the neo-Davidsonian notebook.  The library also provides several non-atomic types:\n",
    "\n",
    " * $\\langle\\alpha,\\beta\\rangle$: functional types, where the left is the input type and the right the output type.\n",
    " * $(\\alpha_0,...\\alpha_n)$: tuple types, for building tuples from atomic (or non-atomic) types.  In practice, what are often treated in logic as n-ary constants are treated here as functions from n-ary tuples to truth-values.\n",
    " * $\\{\\alpha\\}$: set types, for sets of elements of type $\\alpha$.\n",
    " \n",
    "The library also provides a mechanism for type polymorphism with type variables.  (_TODO_: more detail)\n",
    "\n",
    "All types are interpreted and parsed relative to a type system, and in `meta` a current type system is defined; this can be accessed with `meta.get_type_system()`.  A convenience function `meta.tp` (imported into the notebook's namespace) calls the type system's parser.  By default, the type system is `types.under_system`."
   ]
  },
  {
   "cell_type": "code",
   "execution_count": null,
   "metadata": {},
   "outputs": [],
   "source": [
    "t = tp(\"<<e,t>,t>\")\n",
    "t"
   ]
  },
  {
   "cell_type": "code",
   "execution_count": null,
   "metadata": {},
   "outputs": [],
   "source": [
    "t.functional()"
   ]
  },
  {
   "cell_type": "code",
   "execution_count": null,
   "metadata": {},
   "outputs": [],
   "source": [
    "t.left"
   ]
  },
  {
   "cell_type": "code",
   "execution_count": null,
   "metadata": {},
   "outputs": [],
   "source": [
    "t.right"
   ]
  },
  {
   "cell_type": "code",
   "execution_count": null,
   "metadata": {},
   "outputs": [],
   "source": [
    "t.right.functional()"
   ]
  },
  {
   "cell_type": "code",
   "execution_count": null,
   "metadata": {},
   "outputs": [],
   "source": [
    "tp(\"<(e,e),t>\")"
   ]
  },
  {
   "cell_type": "markdown",
   "metadata": {},
   "source": [
    "(_TODO_: document unification, equality testing)"
   ]
  },
  {
   "cell_type": "markdown",
   "metadata": {},
   "source": [
    "The default type system supports type variables; these are notated `X`, `Y`, `Z`, and can be suffixed with numbers or primes."
   ]
  },
  {
   "cell_type": "code",
   "execution_count": null,
   "metadata": {},
   "outputs": [],
   "source": [
    "tp(\"<e,X>\")"
   ]
  },
  {
   "cell_type": "code",
   "execution_count": null,
   "metadata": {},
   "outputs": [],
   "source": [
    "meta.get_type_system().unify(tp(\"<e,X>\"), (tp(\"<e,t>\")))"
   ]
  },
  {
   "cell_type": "markdown",
   "metadata": {},
   "source": [
    "# Metalanguage\n",
    "\n",
    "There are four key kinds of TypedExprs to worry about: terms (variables and constants), lambda expressions, operators, and binding operators.  (Actually lambda expressions are a special case of the latter, but are important enough to separate out.)"
   ]
  },
  {
   "cell_type": "code",
   "execution_count": null,
   "metadata": {},
   "outputs": [],
   "source": [
    "meta.suppress_constant_predicate_type = False # normally, predicate types are hidden for prettier output.  But it is helpful here to be able to see them"
   ]
  },
  {
   "cell_type": "markdown",
   "metadata": {},
   "source": [
    "### Terms\n",
    "\n",
    "A term consists simply of a name and optionally a type.  Capitalized names are constants, and lower-case names are variables.  If no type is specified, it will guess."
   ]
  },
  {
   "cell_type": "code",
   "execution_count": null,
   "metadata": {},
   "outputs": [],
   "source": [
    "%te P(x)"
   ]
  },
  {
   "cell_type": "markdown",
   "metadata": {},
   "source": [
    "The code below demonstrates an example expression consisting of a function and argument; the function is the constant `P` and the argument the variable `x`.  Note that no types are specified; everything in the metalanguage has a type so various shortcut inference processes come into play.  Variables default to type $e$ and constants to type $t$, but it guesses because of the argument that $P$ should be a higher type."
   ]
  },
  {
   "cell_type": "code",
   "execution_count": null,
   "metadata": {},
   "outputs": [],
   "source": [
    "e = %te P(x)\n",
    "display(e, e.type) # function for printing multiple ipython latex display objects"
   ]
  },
  {
   "cell_type": "markdown",
   "metadata": {},
   "source": [
    "Types can be explicitly specified by putting a `_` after a term."
   ]
  },
  {
   "cell_type": "code",
   "execution_count": null,
   "metadata": {},
   "outputs": [],
   "source": [
    "%te P_<e,t>(x_e)"
   ]
  },
  {
   "cell_type": "code",
   "execution_count": null,
   "metadata": {},
   "outputs": [],
   "source": [
    "e == te(\"P_<e,t>(x_e)\") # is e equivalent to the explicitly typed form?"
   ]
  },
  {
   "cell_type": "markdown",
   "metadata": {},
   "source": [
    "The objects generated by parsing have an API, which is not comprehensively documented here.  The following cells briefly demonstrate the part of the API for accessing sub-expressions.  Every complex TypedExpr is structured into an operator (`op`) and 0 or more arguments (`args`)."
   ]
  },
  {
   "cell_type": "code",
   "execution_count": null,
   "metadata": {},
   "outputs": [],
   "source": [
    "print(\"The operator's python type is: \" + str(e[0].__class__))\n",
    "display(HTML(\"The operator's LNM representation and metalanguage type is: \"), e[0], e[0].type)"
   ]
  },
  {
   "cell_type": "code",
   "execution_count": null,
   "metadata": {},
   "outputs": [],
   "source": [
    "print(\"The argument's python type is: \" + str(e[1].__class__))\n",
    "display(HTML(\"The argument's LNM representation and metalanguage type is: \"), e[1], e[1].type)"
   ]
  },
  {
   "cell_type": "markdown",
   "metadata": {},
   "source": [
    "When commas are used in the argument to a function, the argument is treated as an n-ary tuple.  This is the standard way to construct n-ary 'predicates' in LNM."
   ]
  },
  {
   "cell_type": "code",
   "execution_count": null,
   "metadata": {},
   "outputs": [],
   "source": [
    "%te P(x,y)"
   ]
  },
  {
   "cell_type": "markdown",
   "metadata": {},
   "source": [
    "There is an API for constructing expressions in python, without using LNM syntax.  The following cells provide some examples (but not comprehensive documentation).\n",
    "\n",
    "To construct terms programmatically, use the term factory function instead of instantiating classes directly, which can be shortened to `meta.term`.  It is also often convenient to use the type parser here, though the factory function is fairly flexible."
   ]
  },
  {
   "cell_type": "code",
   "execution_count": null,
   "metadata": {},
   "outputs": [],
   "source": [
    "e3 = meta.term(\"P\", tp(\"<(e,e),t>\"))\n",
    "e3"
   ]
  },
  {
   "cell_type": "code",
   "execution_count": null,
   "metadata": {},
   "outputs": [],
   "source": [
    "meta.term(\"P_<(e,e),t>\")"
   ]
  },
  {
   "cell_type": "markdown",
   "metadata": {},
   "source": [
    "Many python operators are overloaded to properly handle TypedExprs, most importantly function calling."
   ]
  },
  {
   "cell_type": "code",
   "execution_count": null,
   "metadata": {},
   "outputs": [],
   "source": [
    "meta.term(\"P_<(e,e),t>\")(meta.term(\"x_e\"), meta.term(\"y_e\"))"
   ]
  },
  {
   "cell_type": "code",
   "execution_count": null,
   "metadata": {},
   "outputs": [],
   "source": [
    "meta.term(\"P_<e,<e,t>>\")(meta.term(\"x_e\"))(meta.term(\"y_e\"))"
   ]
  },
  {
   "cell_type": "markdown",
   "metadata": {},
   "source": [
    "### Lambda expressions\n",
    "\n",
    "Lambda expressions (class: `LFun`) consist of a typed variable (i.e. lower-case TypedTerm) and a body, which is a TypedExpr.  Instances of that variable name in the body (and not under the scope of some lower binder) are interpreted as bound by that lambda operator, and the types must much (or a TypeMismatch exception will result).  The type of the whole is the type of a function from the variable's type to the body's type.  They are notated as `L var_type : body`.  The parser will except several alternatives for `L`, including the more pythonic `lambda`."
   ]
  },
  {
   "cell_type": "code",
   "execution_count": null,
   "metadata": {},
   "outputs": [],
   "source": [
    "e3 = %te L y_e : P(y)\n",
    "display(e3, e3.type)"
   ]
  },
  {
   "cell_type": "markdown",
   "metadata": {},
   "source": [
    "Function-argument expressions can be easily written in the expected way using parenthesis:  (parenthesis around the function are obligatory)"
   ]
  },
  {
   "cell_type": "code",
   "execution_count": null,
   "metadata": {},
   "outputs": [],
   "source": [
    "%te (L y_e : P(y))(x_e)"
   ]
  },
  {
   "cell_type": "markdown",
   "metadata": {},
   "source": [
    "Note that beta-reduction does not happen automatically (although type-checking does).  There are a number of ways to force beta-reduction.  The simplest for displaying a reduction is to add `reduce` preceded and followed by a space to a `%te` magic.  The others are via python calls, and are explained below.\n",
    "\n",
    "  * technical note: if you are using a variable named `reduce`, just ensure there is no space following it."
   ]
  },
  {
   "cell_type": "code",
   "execution_count": null,
   "metadata": {},
   "outputs": [],
   "source": [
    "%te reduce (L y_e : P(y))(x_e)"
   ]
  },
  {
   "cell_type": "markdown",
   "metadata": {},
   "source": [
    "As with terms, the python function call notation works correctly.  'Correct' in this case, though, means that it will construct a composite TypedExpr with the lambda expression as the operator, and the argument as the operand."
   ]
  },
  {
   "cell_type": "code",
   "execution_count": null,
   "metadata": {},
   "outputs": [],
   "source": [
    "e3(te(\"x_e\"))"
   ]
  },
  {
   "cell_type": "markdown",
   "metadata": {},
   "source": [
    "To actually apply the argument to the function (and force beta reduction), there are two ways.  You can construct the expression using `apply`, or call the `reduce_all()` function on any `TypedExpr`."
   ]
  },
  {
   "cell_type": "code",
   "execution_count": null,
   "metadata": {},
   "outputs": [],
   "source": [
    "e3.apply(te(\"x_e\"))"
   ]
  },
  {
   "cell_type": "code",
   "execution_count": null,
   "metadata": {},
   "outputs": [],
   "source": [
    "e4 = e3(te(\"x_e\")).reduce_all()\n",
    "e4"
   ]
  },
  {
   "cell_type": "markdown",
   "metadata": {},
   "source": [
    "Quick sanity check: this should be equal to the first example `e` defined in the term section."
   ]
  },
  {
   "cell_type": "code",
   "execution_count": null,
   "metadata": {},
   "outputs": [],
   "source": [
    "e4 == e"
   ]
  },
  {
   "cell_type": "markdown",
   "metadata": {},
   "source": [
    "There is one important difference between the original `e` and `e4`; some aspects of the derivational history are saved."
   ]
  },
  {
   "cell_type": "code",
   "execution_count": null,
   "metadata": {},
   "outputs": [],
   "source": [
    "e4.derivation"
   ]
  },
  {
   "cell_type": "code",
   "execution_count": null,
   "metadata": {},
   "outputs": [],
   "source": [
    "e.derivation"
   ]
  },
  {
   "cell_type": "markdown",
   "metadata": {},
   "source": [
    "A somewhat more complicated example:"
   ]
  },
  {
   "cell_type": "code",
   "execution_count": null,
   "metadata": {},
   "outputs": [],
   "source": [
    "e5 = %te L y_e : L x_e : P(x,y)\n",
    "e5"
   ]
  },
  {
   "cell_type": "code",
   "execution_count": null,
   "metadata": {},
   "outputs": [],
   "source": [
    "e6 = e5(te(\"A_e\"))(te(\"B_e\"))\n",
    "e6"
   ]
  },
  {
   "cell_type": "code",
   "execution_count": null,
   "metadata": {},
   "outputs": [],
   "source": [
    "e6.reduce_all()"
   ]
  },
  {
   "cell_type": "markdown",
   "metadata": {},
   "source": [
    "Note that (as you'd expect), variable names of bound variables are not guaranteed to stay the same on lambda application.  Variable names of free variables are safe.  In the following example, `x` is free in the main argument in the definition of `e7`.  On application, the bound `x` must be renamed to avoid collision with the free `x`."
   ]
  },
  {
   "cell_type": "code",
   "execution_count": null,
   "metadata": {},
   "outputs": [],
   "source": [
    "%te reduce (L p_t : L x_e : p & P(x))(P(x))"
   ]
  },
  {
   "cell_type": "code",
   "execution_count": null,
   "metadata": {},
   "outputs": [],
   "source": [
    "# another example of a collision where both variables are bound.  The one that is locally bound gets renamed.\n",
    "%te reduce L x_e : (L p_t : L x_e : p & P(x))(P(x))"
   ]
  },
  {
   "cell_type": "markdown",
   "metadata": {},
   "source": [
    "### Operator expressions\n",
    "\n",
    "Logical operators (and numeric operators) are supported using python syntax for bitwise operations.  This should be mostly straightforward for anyone familiar with classical logic.  As you might expect, types are enforced.  The parsed syntax is (with a few exceptions) the same as the python syntax.\n",
    "\n",
    "Representations are always bracketed unambiguously, and python operator precedence defines bracketing.  This is mostly straightforward with a few caveats:\n",
    "\n",
    " * __equality__: the operators `==` and `!=` will not behave as expected in the metalanguage.  Instead use '`<=>`' and '`=/=`' in LNM expressions.\n",
    " * __logical operators__: similarly, python's logical operators (`&&` etc) do not work on LNM.  Use the python bitwise operator symbols instead.\n",
    " * __precedence__: the operators currently all use python precedence, even in LNM, which can lead to counterintuitive results.  Parenthesis should be used to disambiguate, rather than relying on precedence.\n",
    "\n",
    "The material implication operator uses `>>`.  In the metalanguage (but not python), `==>` will also work."
   ]
  },
  {
   "cell_type": "code",
   "execution_count": null,
   "metadata": {},
   "outputs": [],
   "source": [
    "%te p_t & (q_t | r_t)"
   ]
  },
  {
   "cell_type": "code",
   "execution_count": null,
   "metadata": {},
   "outputs": [],
   "source": [
    "%te p_t >> ~q_t"
   ]
  },
  {
   "cell_type": "markdown",
   "metadata": {},
   "source": [
    "Many operators are overloaded to work in python as well; the following instances of `&`, `|`, `>>`, and `~` are python."
   ]
  },
  {
   "cell_type": "code",
   "execution_count": null,
   "metadata": {},
   "outputs": [],
   "source": [
    "te(\"p_t\") & (te(\"q_t\") | te(\"r_t\"))"
   ]
  },
  {
   "cell_type": "code",
   "execution_count": null,
   "metadata": {},
   "outputs": [],
   "source": [
    "te(\"~p_t\") >> ~te(\"q_t\")"
   ]
  },
  {
   "cell_type": "markdown",
   "metadata": {},
   "source": [
    "### Binding expressions\n",
    "\n",
    "A number of operators use a similar syntax to lambda expressions, though with different type structures.  Existential and universal quantification are expressions of type $t$, that bind a variable of some type and whose body is type $t$.  Sets can also be defined using a similar notation, but their overall type is the type of a set whose elements are the variable's type.\n",
    "\n",
    "It is relatively easy to add operators like this; see the demo notebook on the definite article/iota operator for how."
   ]
  },
  {
   "cell_type": "code",
   "execution_count": null,
   "metadata": {},
   "outputs": [],
   "source": [
    "%te Exists x_e : P(x)"
   ]
  },
  {
   "cell_type": "code",
   "execution_count": null,
   "metadata": {},
   "outputs": [],
   "source": [
    "%te Forall x_e : P(x)"
   ]
  },
  {
   "cell_type": "code",
   "execution_count": null,
   "metadata": {},
   "outputs": [],
   "source": [
    "%te Set f_<e,t> : Exists x_e : f(x)"
   ]
  },
  {
   "cell_type": "markdown",
   "metadata": {},
   "source": [
    "# Appendix: metalanguage class hierarchy\n",
    "\n",
    "TypedExpr: base class for all typed expressions.\n",
    "\n",
    " * BinaryOpExpr: wrapper classes for logical operators.\n",
    "    - BinaryAndExpr (python / LNM: '`&`')\n",
    "    - BinaryOrExpr (python / LNM: '`|`')\n",
    "    - BinaryArrowExpr (python / LNM: '`>>`'.  __Warning__: this takes very high precedence, parens are recommended.  LNM only: '`==>`')\n",
    "    - BinaryBiarrowExpr (LNM: '`<=>`' at type t)\n",
    "    - BinaryNeqExpr (python/LNM: '`^`' or '`%`'  LNM only: '`=/=`')\n",
    "    - BinaryGenericEqExpr (LNM: '`<=>`' at types other than t. __Warning__: '`==`' does not work.)\n",
    "    - SetContains (python/LNM: '`<<`'.  __Warning__: precedence is tricky, always use parens.)\n",
    "    - numeric expressions: BinaryLExpr, BinaryLeqExpr, BinaryGeqExpr, BinaryGExpr, BinaryPlusExpr, BinaryMinusExpr, Binary DivExpr, BinaryTimesExpr, BinaryExpExpr\n",
    " * UnaryOpExpr: Unary operator expressions.\n",
    "    - UnaryNegExpr: negation. (Python/LNM: '`~`')\n",
    "    - UnaryNegativeExpr: numeric unary negative operator.  (Python/LNM: '`-`')\n",
    " * BindingOp: class for operators that bind a variable (notated `v` below) in their scope.  For many of these, there are shorthand expressions not documented here, and the unicode will also work.\n",
    "    - ConditionSet: set defined in terms of a condition on some variable.  (LNM: '`Set v : `'\n",
    "    - ForallUnary: $\\forall$ operator. (LNM: '`Forall v :`')\n",
    "    - ExistsUnary: $\\exists$ operator. (LNM: '`Exists v :`')\n",
    "    - IotaUnary: $\\iota$ operator (e.g. for definite descriptions).  (LNM: '`Iota v :`')\n",
    "    - LFun: $\\lambda$ expression, describing a function. (LNM: '`L v :`')\n",
    " * ListedSet: set defined by listing elements.\n",
    " * Tuple: a typed tuple.  (Elements can be of arbitrary type, and needn't be uniform.)\n",
    " * TypedTerm: a typed term (variable or constant).\n",
    "    - CustomTerm: class for dealing with some special ways of printing terms, common in the linguistics literature.\n",
    " "
   ]
  },
  {
   "cell_type": "code",
   "execution_count": null,
   "metadata": {},
   "outputs": [],
   "source": []
  },
  {
   "cell_type": "code",
   "execution_count": null,
   "metadata": {},
   "outputs": [],
   "source": []
  }
 ],
 "metadata": {
  "kernelspec": {
   "display_name": "Lambda Notebook (Python 3)",
   "language": "python",
   "name": "lambda-notebook"
  },
  "language_info": {
   "codemirror_mode": {
    "name": "ipython",
    "version": 3
   },
   "file_extension": ".py",
   "mimetype": "text/x-python",
   "name": "python",
   "nbconvert_exporter": "python",
   "pygments_lexer": "ipython3",
   "version": "3.10.5"
  }
 },
 "nbformat": 4,
 "nbformat_minor": 4
}
