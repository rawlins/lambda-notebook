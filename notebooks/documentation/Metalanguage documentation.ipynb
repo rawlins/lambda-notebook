{
 "cells": [
  {
   "cell_type": "markdown",
   "metadata": {},
   "source": [
    "# Lambda notebook metalanguage overview\n",
    "### Author: Kyle Rawlins\n",
    "\n",
    "__Last updated__: Feb 2025\n",
    "\n",
    "The core of the lambda notebook is a flexible and extensible typed logical metalanguage implemented in python -- the __Lambda Notebook Metalanguage (LNM)__.  The metalanguage is python-like, and can be interacted with either by cell magics, or by a python API.  Expressions of the metalanguage are parsed into python representations that can be interacted with programmatically.  There are three main aspects of the metalanguage to document: (i) the type system, (ii) the class hierarchy that supports this implementation, and (iii) the parser for writing metalanguage expressions directly. This notebook goes over each of these at an overview level; many aspects of the metalanguage have detailed documentation in separate notebooks.\n",
    "\n",
    "At the technical level, the core unit of the implementation of LNM is the `TypedExpr` class.  Every expression is implemented as an instance of one of its subclasses.  A `TypedExpr` has a type together with an identity and set of behaviors for that type, and consists structurally of 0 or more argument slots. The arguments slots describe subexpressions, and themselves will always be subclasses `TypedExpr`. A `TypedExpr` that has 0 subexpressions is either a term or an empty data structure (e.g. an empty set). The behaviors provided by a class can include simplification and reduction patterns, type inference, variable binding in subexpressions, LaTeX rendering, and more."
   ]
  },
  {
   "cell_type": "markdown",
   "metadata": {},
   "source": [
    "# Interacting with the metalanguage\n",
    "\n",
    "The metalanguage has two units: statements and expressions.  Expressions evaluate to metalanguage objects (of class _TypedExpr_ or a subclass), and are the main unit of the metalanguage.  For example, the following lines are each expressions.  The first one is a variable of type _e_, the second applies a variable to a constant property, and the third applies a constant of type _e_ to a lambda expression.\n",
    "\n",
    "    x_e\n",
    "    P_<e,t>(x_e)\n",
    "    (L x_e : Cat(x))(Josie_e)\n",
    "\n",
    "__Statements__ consist of assignments to terms or object language elements -- they update the lexicon, variable namespace, and python namespace with the value of an expression.  The thing to the right of `=` is a LNM expression.  Two things can be assigned values: variables names, and lexical items.  A lexical item is notated by surround the expression with `||` on each side.  Each of the following is a statement that assigns one of the above examples to a variable:\n",
    "\n",
    "    x = x_e\n",
    "    tmp = P_<e,t>(x_e)\n",
    "    c = (L x_e : Cat(x))(Josie_e)\n",
    "    \n",
    "The following example illustrates a lexical item assignment:\n",
    "\n",
    "    ||cat|| = L x_e : Cat(x)"
   ]
  },
  {
   "cell_type": "markdown",
   "metadata": {},
   "source": [
    "There are two ways to process metalanguage: via ipython magics, and via python functions.  To process a statement, there is an ipython 'magic' named __lamb__.  This magic works in both cell and inline mode.  In cell mode, the first line of an ipython cell should be `%%lamb`, and any following lines will be treated as metalanguage statements.  The following cell interprets the above 4 examples of LNM statements."
   ]
  },
  {
   "cell_type": "code",
   "execution_count": null,
   "metadata": {},
   "outputs": [],
   "source": [
    "%%lamb\n",
    "x = x_e\n",
    "tmp = P_<e,t>(x_e)\n",
    "c = (L x_e : Cat_<e,t>(x))(Josie_e)\n",
    "||cat|| = L x_e : Cat_<e,t>(x)"
   ]
  },
  {
   "cell_type": "markdown",
   "metadata": {},
   "source": [
    "Each statement interpreted by the __lamb__ magic has four effects: (i) the expression to the right of the equals sign is interpreted by the LNM parser and converted to a python object that is a subclass of `TypedExpr`; (ii) the resulting object is printed; (iii) if the assignment is to a lexical item, an item with that name is added to the lexicon, and (iv) a variable with the name of the assignment target is exported to the python namespace if possible.\n",
    "\n",
    "  * _Technical note_: if the variable name is shadowed by something in the namespace, exporting fails and a warning is printed. A lexical entry defined this way can be accessed via `lang.get_system().lexicon`.\n",
    "  \n",
    "In inline mode, a single line of a cell is prefaced with `%lamb`; the line is interpreted as a statement in the same way described above, with one caveat: the result is only printed if the inline magic is the last line in the cell."
   ]
  },
  {
   "cell_type": "code",
   "execution_count": null,
   "metadata": {},
   "outputs": [],
   "source": [
    "print(\"This is normal python code here\")\n",
    "print(repr(tmp)) # this accesses the variable defined above via python code\n",
    "%lamb ||dog|| = L x_e : Dog_<e,t>(x)\n",
    "print(\"This is still python code\")"
   ]
  },
  {
   "cell_type": "code",
   "execution_count": null,
   "metadata": {},
   "outputs": [],
   "source": [
    "dog # let's print this just to make sure.  As a reminder, this cell is ordinary python code."
   ]
  },
  {
   "cell_type": "markdown",
   "metadata": {},
   "source": [
    "__Expressions__ can be input using statements in a `lamb` magic as above, evaluated using the `%te` line magic, or directly evaluated in python using the function `te` (automatically imported from `lamb.lang`).  "
   ]
  },
  {
   "cell_type": "markdown",
   "metadata": {},
   "source": [
    "The `te` line magic evaluates a single expression.  This has the main effect, if used as the last line of a cell, of just printing the output.\n",
    "\n",
    "  * As a side effect, this magic stores the result of each evaluation to the python variable `_llast`.\n"
   ]
  },
  {
   "cell_type": "code",
   "execution_count": null,
   "metadata": {},
   "outputs": [],
   "source": [
    "%te L x_e : Dog(x)"
   ]
  },
  {
   "cell_type": "code",
   "execution_count": null,
   "metadata": {},
   "outputs": [],
   "source": [
    "_llast"
   ]
  },
  {
   "cell_type": "markdown",
   "metadata": {},
   "source": [
    "Like all IPython line magics, the `%te` magic can be mixed with python to a limited extent, in order to do variable assignment:"
   ]
  },
  {
   "cell_type": "code",
   "execution_count": null,
   "metadata": {},
   "outputs": [],
   "source": [
    "d = %te L x_e : Dog_<e,t>(x)\n",
    "d"
   ]
  },
  {
   "cell_type": "markdown",
   "metadata": {},
   "source": [
    "The `te` python function behaves similarly: it parses an LNM expression provided as a string, and returns an appropriate `TypedExpr`.  The result can be manipulated just like any python object."
   ]
  },
  {
   "cell_type": "code",
   "execution_count": null,
   "metadata": {},
   "outputs": [],
   "source": [
    "d = te(\"L x_e : Dog_<e,t>(x)\") # directly assign a python variable this LNM expression.  This bypasses the lexicon.\n",
    "d"
   ]
  },
  {
   "cell_type": "code",
   "execution_count": null,
   "metadata": {},
   "outputs": [],
   "source": [
    "d(te(\"Joe_e\"))"
   ]
  },
  {
   "cell_type": "code",
   "execution_count": null,
   "metadata": {},
   "outputs": [],
   "source": [
    "d(te(\"Joe_e\")).reduce_all() # this performs beta reduction on any lambda expressions"
   ]
  },
  {
   "cell_type": "markdown",
   "metadata": {},
   "source": [
    "# Types\n",
    "\n",
    "The type system will be familiar to anyone who has used a typed lambda calculus or logical system such as Ty2, and this documentation assumes some basic familiarity with typed lambda calculi.  The standard definition of this sort of type hierarchy looks something like this, where rule 2 defines functional types:\n",
    "\n",
    " 1. $e$ and $t$ are types.  (_atomic types_)\n",
    " 2. If $\\alpha$ and $\\beta$ are types, so is $\\langle\\alpha,\\beta\\rangle$. (_non-atomic types_)\n",
    " 3. Nothing else is a type.\n",
    "\n",
    "The rule in 2 is sometimes characterized as giving a *type constructor*: the function type constructor given two types, produces a functional type notated as above. The type system here is extensible and designed for practical use, so we won't work with a strict definition, but the basic ideas hold.  A type system in the lambda notebook consists of a set of atomic types and non-atomic type constructors that are recursively constructed.  The library provides three atomic types by default:\n",
    "\n",
    " * $t$ (truth-values)\n",
    " * $e$ (entities)\n",
    " * $n$ (numbers)\n",
    "\n",
    "The library also provides several non-atomic type constructors beyond just functions, including:\n",
    "\n",
    " * $\\langle\\alpha,\\beta\\rangle$: functional types, where the left is the input type and the right the output type.\n",
    " * $(\\alpha_0,...\\alpha_n)$: tuple types, for building tuples from atomic (or non-atomic) types.  In practice, what are often treated in logic as n-ary constants are treated here as functions from n-ary tuples to truth-values.\n",
    " * $\\{\\alpha\\}$: set types, for sets of elements of type $\\alpha$.\n",
    " * $[\\alpha_0,...\\alpha_n]$: a disjunctive type, which can match any of the listed elements.\n",
    " \n",
    "The library also provides a mechanism for type polymorphism with type variables, what are written as $X$, $Y$, with any number of primes following or a number.\n",
    "\n",
    "All types are interpreted and parsed relative to a type system, and in `meta` a current type system is defined; this can be accessed with `meta.get_type_system()`.  A convenience function `meta.tp` (imported into the notebook's namespace) calls the type system's parser; this has a corresponding line magic, `%tp`.  By default, the type system is `types.poly_system`."
   ]
  },
  {
   "cell_type": "code",
   "execution_count": null,
   "metadata": {},
   "outputs": [],
   "source": [
    "t = %tp <<e,t>,t>\n",
    "t"
   ]
  },
  {
   "cell_type": "code",
   "execution_count": null,
   "metadata": {},
   "outputs": [],
   "source": [
    "t.functional()"
   ]
  },
  {
   "cell_type": "code",
   "execution_count": null,
   "metadata": {},
   "outputs": [],
   "source": [
    "t.left"
   ]
  },
  {
   "cell_type": "code",
   "execution_count": null,
   "metadata": {},
   "outputs": [],
   "source": [
    "t.right"
   ]
  },
  {
   "cell_type": "code",
   "execution_count": null,
   "metadata": {},
   "outputs": [],
   "source": [
    "t.right.functional()"
   ]
  },
  {
   "cell_type": "code",
   "execution_count": null,
   "metadata": {},
   "outputs": [],
   "source": [
    "%tp <(e,e),t>"
   ]
  },
  {
   "cell_type": "markdown",
   "metadata": {},
   "source": [
    "Atomic types correspond to sets of domain elements; see the notebook \"Domain elements and MetaTerms\" for detailed documentation on this. The type `t` consists of the set `{True, False}`. The type `n` corresponds to a set containing any python numeric value. This set is notionally non-finite (in that in principle, the set of python numerics is finite up to memory and precision limits, but that the domain set implementation acts as if it is non-finite). By default, new domains do not have custom domain sets like this, and are modeled using strings. For example, The set `e` is modeled via python strings that have a prefix `_c` followed by a number. In LaTeX, domain elements are rendered using sans-serif:"
   ]
  },
  {
   "cell_type": "code",
   "execution_count": null,
   "metadata": {},
   "outputs": [],
   "source": [
    "%te (_c1, True, 10)"
   ]
  },
  {
   "cell_type": "markdown",
   "metadata": {},
   "source": [
    "A few examples of type parse failures:"
   ]
  },
  {
   "cell_type": "code",
   "execution_count": null,
   "metadata": {},
   "outputs": [],
   "source": [
    "%tp q\n",
    "%tp <e,t\n",
    "%tp <e,t>>"
   ]
  },
  {
   "cell_type": "markdown",
   "metadata": {},
   "source": [
    "## Adding new types\n",
    "\n",
    "Type systems have an api for adding basic types (and also writing recursive types), illustrated below. (There is also a convenience wrapper function for this that is a method on `lamb.lang` composition systems, `add_basic_type`.)"
   ]
  },
  {
   "cell_type": "code",
   "execution_count": null,
   "metadata": {},
   "outputs": [],
   "source": [
    "meta.get_type_system().add_atomic(types.BasicType(\"s\"))\n",
    "display(meta.get_type_system())"
   ]
  },
  {
   "cell_type": "markdown",
   "metadata": {},
   "source": [
    "By default the domain set for a new atomic type is modeled as a non-finite set of strings with a unique prefix similar to type `e` as described above, which will be inherited from the type name itself. (This can be manually specified by the `name` parameter to the `BasicType` constructor.) As a convenience, type `s` will automatically get the `w` prefix by default (similar for `v` and the prefix `e`, for eventive types):"
   ]
  },
  {
   "cell_type": "code",
   "execution_count": null,
   "metadata": {},
   "outputs": [],
   "source": [
    "%te _w1"
   ]
  },
  {
   "cell_type": "code",
   "execution_count": null,
   "metadata": {},
   "outputs": [],
   "source": [
    "types.reset() # use this to get back to the beginning"
   ]
  },
  {
   "cell_type": "markdown",
   "metadata": {},
   "source": [
    "Not documented here: Adding a recursive type is possible but is a much more complicated matter, and typically requires modifying the metalanguage as well. Similarly, adding a different backing class for type domains is also possible, but complicated."
   ]
  },
  {
   "cell_type": "markdown",
   "metadata": {},
   "source": [
    "## Type variables\n",
    "\n",
    "The default type system supports type variables; these are notated `X`, `Y`, `Z`, and can be suffixed with numbers or primes. See the notebook \"Intro to type variables\" for more on how these work and how to use them.  Within certain limits, a type variable stands in for arbitrary types."
   ]
  },
  {
   "cell_type": "code",
   "execution_count": null,
   "metadata": {},
   "outputs": [],
   "source": [
    "%tp <e,X>"
   ]
  },
  {
   "cell_type": "code",
   "execution_count": null,
   "metadata": {},
   "outputs": [],
   "source": [
    "meta.get_type_system().unify(tp(\"<e,X>\"), (tp(\"<e,t>\")))"
   ]
  },
  {
   "cell_type": "markdown",
   "metadata": {},
   "source": [
    "## Comparing types\n",
    "\n",
    "The type system supports two forms of comparison: syntactic equality, and a semantic notion of equality called \"unification\" that is grounded in the theory of types. For *simple types*, these two are equivalent. For type variables and complex types constructed with type variables, they aren't. This document won't go into details (see the type variable documentation for more), but will outline the interface.\n",
    "\n",
    "Syntactic equality uses the standard python equality operator:"
   ]
  },
  {
   "cell_type": "code",
   "execution_count": null,
   "metadata": {},
   "outputs": [],
   "source": [
    "tp(\"<e,t>\") == tp(\"<e,t>\"), tp(\"<e,t>\") == tp(\"e\"), tp(\"X\") == tp(\"Y\")"
   ]
  },
  {
   "cell_type": "markdown",
   "metadata": {},
   "source": [
    "Unification is more complex.  Given two types, a `unify` check asks: is there a common type (termed a *principal type*) that is compatible with the two? You'll notice that above the types `X` and `Y` compare as not equal. However, there is a principal type that is compatible with both (in fact, more than one): for example, `X`. A type system comes with a `unify` function that does this check, giving you back a principal type. Here are a few examples:"
   ]
  },
  {
   "cell_type": "code",
   "execution_count": null,
   "metadata": {},
   "outputs": [],
   "source": [
    "meta.get_type_system().unify(tp(\"X\"), tp(\"Y\"))"
   ]
  },
  {
   "cell_type": "code",
   "execution_count": null,
   "metadata": {},
   "outputs": [],
   "source": [
    "meta.get_type_system().unify(tp(\"X\"), tp(\"<e,t>\"))"
   ]
  },
  {
   "cell_type": "code",
   "execution_count": null,
   "metadata": {},
   "outputs": [],
   "source": [
    "meta.get_type_system().unify(tp(\"<X,t>\"), tp(\"<<e,Y>,t>\"))"
   ]
  },
  {
   "cell_type": "code",
   "execution_count": null,
   "metadata": {},
   "outputs": [],
   "source": [
    "meta.get_type_system().unify(tp(\"<X,t>\"), tp(\"<e,Y>\"))"
   ]
  },
  {
   "cell_type": "markdown",
   "metadata": {},
   "source": [
    "In general, to compare two types for purposes of semantic analysis, you should use unification, not syntactic equality."
   ]
  },
  {
   "cell_type": "markdown",
   "metadata": {},
   "source": [
    "# Metalanguage overview\n",
    "\n",
    "There are four key kinds of `TypedExpr`s to worry about: terms (variables and constants), lambda expressions, operators, and binding operators.  (Lambda expressions are a special case of the latter, but are important enough to separate out.)"
   ]
  },
  {
   "cell_type": "code",
   "execution_count": null,
   "metadata": {},
   "outputs": [],
   "source": [
    "meta.suppress_constant_predicate_type = False # normally, predicate types are hidden for prettier output.  But it is helpful here to be able to see them"
   ]
  },
  {
   "cell_type": "markdown",
   "metadata": {},
   "source": [
    "### Terms\n",
    "\n",
    "A regular term consists simply of a name and optionally a type.  Capitalized names are constants, and lower-case names are variables. A metaterm is a term that explicitly `refers` to a type domain element, such as a number or other domain element. See the notebook on domain elements and MetaTerms for detailed documentation on this concept. The following example illustrates an expression with three terms: a Predicate at type `<(e,n>,t>`, a variable at type `e`, and a numeric metaterm."
   ]
  },
  {
   "cell_type": "code",
   "execution_count": null,
   "metadata": {},
   "outputs": [],
   "source": [
    "%te P_<(e,n),t>(x_e, 1)"
   ]
  },
  {
   "cell_type": "markdown",
   "metadata": {},
   "source": [
    "By default, if no type is specified, the parser will guess according to some simple heuristics: variables are of type `e` and constant functions are adjusted to be predicates of their arguments (with a base default of type `t`). (This is quite different than specifying a variable type.) The following example illustrates a predicate-argument combination with these defaults."
   ]
  },
  {
   "cell_type": "code",
   "execution_count": null,
   "metadata": {},
   "outputs": [],
   "source": [
    "%te P(x)"
   ]
  },
  {
   "cell_type": "markdown",
   "metadata": {},
   "source": [
    "Types can be explicitly specified by putting a `_` after a term. The following is equivalent to the prior example:"
   ]
  },
  {
   "cell_type": "code",
   "execution_count": null,
   "metadata": {},
   "outputs": [],
   "source": [
    "%te P_<e,t>(x_e)"
   ]
  },
  {
   "cell_type": "markdown",
   "metadata": {},
   "source": [
    "When commas are used in the argument to a function, the argument is treated as an n-ary tuple.  This is the standard way to construct n-ary 'predicates' in LNM."
   ]
  },
  {
   "cell_type": "code",
   "execution_count": null,
   "metadata": {},
   "outputs": [],
   "source": [
    "e = %te P(x,y)\n",
    "e"
   ]
  },
  {
   "cell_type": "code",
   "execution_count": null,
   "metadata": {},
   "outputs": [],
   "source": [
    "e[0].type # show the predicate's type in the above example using the python API"
   ]
  },
  {
   "cell_type": "markdown",
   "metadata": {},
   "source": [
    "There is an API for constructing expressions in python, without using LNM syntax.  The following cells provide some examples (but not comprehensive documentation).\n",
    "\n",
    "To construct terms programmatically, use the term factory function instead of instantiating classes directly, which can be shortened to `meta.term`.  It is also often convenient to use the type parser here, though the factory function is fairly flexible."
   ]
  },
  {
   "cell_type": "code",
   "execution_count": null,
   "metadata": {},
   "outputs": [],
   "source": [
    "e3 = meta.term(\"P\", tp(\"<(e,e),t>\"))\n",
    "e3"
   ]
  },
  {
   "cell_type": "code",
   "execution_count": null,
   "metadata": {},
   "outputs": [],
   "source": [
    "meta.term(\"P_<(e,e),t>\")"
   ]
  },
  {
   "cell_type": "markdown",
   "metadata": {},
   "source": [
    "Many python operators are overloaded to properly handle TypedExprs, most importantly function calling."
   ]
  },
  {
   "cell_type": "code",
   "execution_count": null,
   "metadata": {},
   "outputs": [],
   "source": [
    "meta.term(\"P_<(e,e),t>\")(meta.term(\"x_e\"), meta.term(\"y_e\"))"
   ]
  },
  {
   "cell_type": "code",
   "execution_count": null,
   "metadata": {},
   "outputs": [],
   "source": [
    "meta.term(\"P_<e,<e,t>>\")(meta.term(\"x_e\"))(meta.term(\"y_e\"))"
   ]
  },
  {
   "cell_type": "markdown",
   "metadata": {},
   "source": [
    "### Lambda expressions\n",
    "\n",
    "See also the documentation on *Metalanguage functions*.\n",
    "\n",
    "Lambda expressions (class: `LFun`) consist of a typed variable (i.e. lower-case TypedTerm) and a body, which is a TypedExpr.  Instances of that variable name in the body (and not under the scope of some lower binder) are interpreted as bound by that lambda operator, and the types must much (or a TypeMismatch exception will result).  The type of the whole is the type of a function from the variable's type to the body's type.  They are notated as `L var_type : body`.  The parser will except several alternatives for `L`, including the more pythonic `lambda`."
   ]
  },
  {
   "cell_type": "code",
   "execution_count": null,
   "metadata": {},
   "outputs": [],
   "source": [
    "e3 = %te L y_e : P(y)\n",
    "display(e3, e3.type)"
   ]
  },
  {
   "cell_type": "markdown",
   "metadata": {},
   "source": [
    "Function-argument expressions can be easily written in the expected way using parenthesis:  (parenthesis around the function are obligatory)"
   ]
  },
  {
   "cell_type": "code",
   "execution_count": null,
   "metadata": {},
   "outputs": [],
   "source": [
    "%te (L y_e : P(y))(x_e)"
   ]
  },
  {
   "cell_type": "markdown",
   "metadata": {},
   "source": [
    "Note that beta-reduction does not happen automatically (although type-checking does).  There are a number of ways to force beta-reduction.  The simplest for displaying a reduction is to add `reduce` preceded and followed by a space to a `%te` magic.  The others are via python calls, and are explained below.\n",
    "\n",
    "  * technical note: if you are using a variable named `reduce`, just ensure there is no space following it."
   ]
  },
  {
   "cell_type": "code",
   "execution_count": null,
   "metadata": {},
   "outputs": [],
   "source": [
    "%te reduce (L y_e : P(y))(x_e)"
   ]
  },
  {
   "cell_type": "markdown",
   "metadata": {},
   "source": [
    "As with terms, the python function call notation works correctly.  'Correct' in this case, though, means that it will construct a composite TypedExpr with the lambda expression as the operator, and the argument as the operand."
   ]
  },
  {
   "cell_type": "code",
   "execution_count": null,
   "metadata": {},
   "outputs": [],
   "source": [
    "e3(te(\"x_e\"))"
   ]
  },
  {
   "cell_type": "markdown",
   "metadata": {},
   "source": [
    "To actually apply the argument to the function (and force beta reduction), there are two ways.  You can construct the expression using `apply`, or call the `reduce_all()` function on any `TypedExpr`."
   ]
  },
  {
   "cell_type": "code",
   "execution_count": null,
   "metadata": {},
   "outputs": [],
   "source": [
    "e3.apply(te(\"x_e\"))"
   ]
  },
  {
   "cell_type": "code",
   "execution_count": null,
   "metadata": {},
   "outputs": [],
   "source": [
    "e4 = e3(te(\"x_e\")).reduce_all()\n",
    "e4"
   ]
  },
  {
   "cell_type": "markdown",
   "metadata": {},
   "source": [
    "The `e4` object here has a derivational history that we can inspect:"
   ]
  },
  {
   "cell_type": "code",
   "execution_count": null,
   "metadata": {},
   "outputs": [],
   "source": [
    "e4.derivation"
   ]
  },
  {
   "cell_type": "markdown",
   "metadata": {},
   "source": [
    "A somewhat more complicated example:"
   ]
  },
  {
   "cell_type": "code",
   "execution_count": null,
   "metadata": {},
   "outputs": [],
   "source": [
    "e5 = %te L y_e : L x_e : P(x,y)\n",
    "e5"
   ]
  },
  {
   "cell_type": "code",
   "execution_count": null,
   "metadata": {},
   "outputs": [],
   "source": [
    "e6 = e5(te(\"A_e\"))(te(\"B_e\"))\n",
    "e6"
   ]
  },
  {
   "cell_type": "code",
   "execution_count": null,
   "metadata": {},
   "outputs": [],
   "source": [
    "e6.reduce_all().derivation"
   ]
  },
  {
   "cell_type": "markdown",
   "metadata": {},
   "source": [
    "### Basic operator expressions\n",
    "\n",
    "Logical operators (and numeric operators) are supported using python syntax for bitwise operations.  This should be mostly straightforward for anyone familiar with classical logic.  As you might expect, types are enforced.  The parsed syntax is (with a few exceptions) the same as the python syntax.\n",
    "\n",
    " * __numeric operators__: The operators `+` (unary and binary), `-` (unary and binary), `*`, `/`, and `**` all work as expected for type `n`, as well as `<`, `<=`, `>`, and `>=`.\n",
    " * __equality__: The metalanguage provides a semantic equivalence operator that can be written as `<=>`, `==`, or `%` in metalanguage code. At type `t`, this will specialize to a standard biconditional operator, but a generic version is present at any type. Of course, simplifying expressions of equivalence is highly non-trivial in the general case (though many special cases can be handled). Note that the `==` operator cannot be used on python objects, where it is implemented in a non-metalanguage use; the `%` operator can be used, as well as the member function `equivalent_to`. In metalanguage expressions, the non-equivalence operator can be used for boolean objects only, instantiated by `!=`, `=/=`, and `^`. Only the latter is available in python code.\n",
    " * __logical operators__: similarly, python's logical operators (`and`, `or`, `not`) do not work on metalanguage objects, and also cannot be used in metalanguage expressions. Rather, the operators `&` (and), `|` (or) and `~` (not) should be used. (These are python bitwise operators, and this setup is due to constraints in the python data model. This use of bitwise operators may also be familiar from packages like `pandas`, `sympy`, etc.) The material implication operator uses `>>`.  In the metalanguage (but not python), `==>` will also work.\n",
    " * __set operators__: See the set documentation for more on set operators.\n",
    " \n",
    " \n",
    "__Operator precedence__: the operators currently all use [python precedence](https://docs.python.org/3/reference/expressions.html#operator-precedence), even in LNM. This will mostly work as you would expect, but there are occasional caveats. For example, because equality uses `%`, it takes corresponding precedence over most other operators. It is always safe to use parentheses to disambiguate."
   ]
  },
  {
   "cell_type": "code",
   "execution_count": null,
   "metadata": {},
   "outputs": [],
   "source": [
    "%te p_t & (q_t | r_t)"
   ]
  },
  {
   "cell_type": "code",
   "execution_count": null,
   "metadata": {},
   "outputs": [],
   "source": [
    "%te p_t >> ~q_t"
   ]
  },
  {
   "cell_type": "markdown",
   "metadata": {},
   "source": [
    "Many operators are overloaded to work in python as well; the following instances of `&`, `|`, `>>`, and `~` are python."
   ]
  },
  {
   "cell_type": "code",
   "execution_count": null,
   "metadata": {},
   "outputs": [],
   "source": [
    "te(\"p_t\") & (te(\"q_t\") | te(\"r_t\"))"
   ]
  },
  {
   "cell_type": "code",
   "execution_count": null,
   "metadata": {},
   "outputs": [],
   "source": [
    "te(\"~p_t\") >> ~te(\"q_t\")"
   ]
  },
  {
   "cell_type": "markdown",
   "metadata": {},
   "source": [
    "### Binding expressions\n",
    "\n",
    "A number of operators use a similar syntax to lambda expressions, though with different type structures.  Existential and universal quantification are expressions of type $t$, that bind a variable of some type and whose body is type $t$.  Sets can also be defined using a similar notation, but their overall type is the type of a set whose elements are the variable's type."
   ]
  },
  {
   "cell_type": "code",
   "execution_count": null,
   "metadata": {},
   "outputs": [],
   "source": [
    "%te Exists x_e : P(x)"
   ]
  },
  {
   "cell_type": "code",
   "execution_count": null,
   "metadata": {},
   "outputs": [],
   "source": [
    "%te Forall x_e : P(x)"
   ]
  },
  {
   "cell_type": "code",
   "execution_count": null,
   "metadata": {},
   "outputs": [],
   "source": [
    "%te Set f_<e,t> : Exists x_e : f(x)"
   ]
  },
  {
   "cell_type": "markdown",
   "metadata": {},
   "source": [
    "## Data structures\n",
    "\n",
    "Tuples, sets, and a dict-like data structure are all supported.\n",
    "\n",
    "* Sets are documented in a separate set-specific notebook.\n",
    "* Map-based functions are documented in the function documentation notebook."
   ]
  },
  {
   "cell_type": "code",
   "execution_count": null,
   "metadata": {},
   "outputs": [],
   "source": [
    "%te (1, _c1, x_<e,t>) # 3-tuple of a mixed type"
   ]
  },
  {
   "cell_type": "code",
   "execution_count": null,
   "metadata": {},
   "outputs": [],
   "source": [
    "%te {_c1, _c2, x_e} # set of type `{e}`"
   ]
  },
  {
   "cell_type": "code",
   "execution_count": null,
   "metadata": {},
   "outputs": [],
   "source": [
    "%te {1:2, 2:x_n} # map function of type <n,n>"
   ]
  },
  {
   "cell_type": "markdown",
   "metadata": {},
   "source": [
    "# Appendix: metalanguage class hierarchy\n",
    "\n",
    "`TypedExpr`: base class for all typed expressions.\n",
    "\n",
    " * `SyncatOpExpr`: superclass for many operators, including logical operators, numerics, and set operators. Subclasses:\n",
    "    - `BinaryAndExpr` (python / LNM: '`&`')\n",
    "    - `BinaryOrExpr` (python / LNM: '`|`')\n",
    "    - `BinaryArrowExpr` (python / LNM: '`>>`'.  __Warning__: this takes very high precedence, parens are recommended.  LNM only: '`==>`')\n",
    "    - `BinaryBiarrowExpr` (LNM: '`<=>`' at type t)\n",
    "    - `BinaryNeqExpr` (python/LNM: '`^`' or '`%`'  LNM only: '`=/=`')\n",
    "    - `BinaryGenericEqExpr` (LNM: '`<=>`' at types other than t. __Warning__: '`==`' does not work on python objects.)\n",
    "    - numeric expressions: `BinaryLExpr`, `BinaryLeqExpr`, `BinaryGeqExpr`, `BinaryGExpr`, `BinaryPlusExpr`, `BinaryMinusExpr`, `BinaryDivExpr`, `BinaryTimesExpr`, `BinaryExpExpr`\n",
    "    - `UnaryNegExpr`: negation. (Python/LNM: '`~`')\n",
    "    - `UnaryNegativeExpr`: numeric unary negative operator.  (Python/LNM: '`-`')\n",
    "    - `SetContains` (python/LNM: '`<<`'.  __Warning__: precedence is tricky, parens are recommended.)\n",
    "    - `BinarySetOp`. Superclass for many set operators: `SetUnion`, `SetIntersection`, `SetDifference`, `SetEquivalence`, `SetSubset`, `SetPropersubset`. (`SetSupset` and `SetPropersupset` are direct subclasses of `SyncatOpExpr`.) See the set-specific documentation notebook.\n",
    " * `BindingOp`: class for operators that bind a variable (notated `v` below) in their scope.  For many of these, there are shorthand expressions not documented here, and the unicode will also work.\n",
    "    - `ConditionSet`: set defined in terms of a condition on some variable.  (LNM: '`Set v : `'\n",
    "    - `Forall`: $\\forall$ operator. (LNM: '`Forall v :`')\n",
    "    - `Exists`: $\\exists$ operator. (LNM: '`Exists v :`')\n",
    "    - `ExistsExact`: $\\exists !$ operator. (LNM: '`ExistsExact v :`')\n",
    "    - `Iota`: $\\iota$ operator (e.g. for definite descriptions).  (LNM: '`Iota v :`')\n",
    "    - `LFun`: $\\lambda$ expression, describing a function. (LNM: '`L v :`')\n",
    " * `Tuple`: a typed tuple, notated with python tuple syntax.  (Elements can be of arbitrary type, and needn't be uniform.)\n",
    " * `ListedSet`: set defined by listing elements, notated with python set syntax. Elements must have uniform type.\n",
    " * `MapFun`: a dict-like function object, notated with python dict syntax; see the function documentation notebook.\n",
    " * `ChainFun`: a composite function constructed from other functions, similar to python's `ChainMap`. LNM operator: `+`.\n",
    " * `Partial`: a class for instantiating partially defined metalanguage objects, e.g. partial LFuns.\n",
    "    - The classes `Body` and `Condition` (direct subclasses of `TypedExpr`) correspond to operators that extract the body and condition of a partially defined expression.\n",
    " * `FunDom`, `FunCodom` are operators that get function domains/codomains; see the function documentation notebook.\n",
    " * `TypedTerm`: represents a typed term expression at arbitrary types (variable or constant). Terms that appear with this class are inherently \"unvalued\" in that even constant terms are not associated with a domain element value without a model providing it.\n",
    "    - `MetaTerm`: class for referring directly to elements of type domains, such as numbers. `MetaTerm`s are inherently valued.\n",
    "    - `CustomTerm`: class that provides for greater customization in the rendering of terms. (deprecated)"
   ]
  },
  {
   "cell_type": "code",
   "execution_count": null,
   "metadata": {},
   "outputs": [],
   "source": []
  }
 ],
 "metadata": {
  "kernelspec": {
   "display_name": "Lambda Notebook (Python 3)",
   "language": "python",
   "name": "lambda-notebook"
  },
  "language_info": {
   "codemirror_mode": {
    "name": "ipython",
    "version": 3
   },
   "file_extension": ".py",
   "mimetype": "text/x-python",
   "name": "python",
   "nbconvert_exporter": "python",
   "pygments_lexer": "ipython3",
   "version": "3.12.8"
  }
 },
 "nbformat": 4,
 "nbformat_minor": 4
}
