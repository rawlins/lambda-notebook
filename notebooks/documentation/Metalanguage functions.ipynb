{
 "cells": [
  {
   "cell_type": "markdown",
   "id": "a750c4a1-9577-460b-9403-c74439ca0037",
   "metadata": {},
   "source": [
    "# Metalanguage functions\n",
    "\n",
    "Functions are the bread and butter of the typed metalanguage. There are two main ways to describe a function: via a lambda expression, and via a map (e.g. a data structure similar to a python `dict`). There is also a construct that allows combining functions, with similar behavior to the python library's `ChainMap` class.\n",
    "\n",
    "All classes implementing a functional type provide a standard interface for application and reduction. Key API elements for general use:\n",
    "\n",
    "1. \"Calling\" a function via the standard python interface produces a composite expression representing the function combined with an argument. This will of course fail if the types are not compatible.\n",
    "2. The member function `apply` will take an argument and produce a beta-reduced expression given that argument, without leaving a derivation. (This is nearly equivalent to call + reduce, with the derivation being the primary difference in outcome.)\n",
    "\n",
    "A class that can have a functional type should also implement:\n",
    "\n",
    "* The function `will_reduce` takes an argument, and returns `True` just in case a composite function-argument expression consisting of the function with the supplied argument would succeed in reducing. (For lambda expressions, this returns only `True`, but for more complex function types, there are conditions under which it may fail.)\n",
    "\n",
    "Finally, some functional expressions may raise a python `DomainError` exception if they have some non-trivial domain restriction, and are called with an argument that is outside of this domain."
   ]
  },
  {
   "cell_type": "markdown",
   "id": "54af5b60-d21f-440f-9c00-e37171f86673",
   "metadata": {},
   "source": [
    "## Lambda expressions\n",
    "\n",
    "A metalanguage lambda expression corresponds closely to the standard typed lambda expressions that are familiar from linguistic theory, and also functional programming. In this section I will assume some familiarity with the formal properties of a lambda expression.\n",
    "\n",
    "A lambda expression consists of the lambda operator, a typed variable name, and a body. In the following example the body is the expression `P_<e,t>(x)`. The variable `x` is bound in this subexpression and has a type determined by the binder."
   ]
  },
  {
   "cell_type": "code",
   "execution_count": null,
   "id": "880e47ff-c6eb-46ea-8745-b53eddc6bb5a",
   "metadata": {},
   "outputs": [],
   "source": [
    "%te L x_e: P_<e,t>(x)"
   ]
  },
  {
   "cell_type": "markdown",
   "id": "a2de23fe-8313-406a-bf0f-fa31f3459b0f",
   "metadata": {},
   "source": [
    "If instances of the bound variable and the binder type can't be unified, then parsing will fail; if they can be unified then all instances of the variable will be adjusted to the principal type. For example, in the resulting expression, the property `P` forces `x` to be of type `e`, which percolates to the binder."
   ]
  },
  {
   "cell_type": "code",
   "execution_count": null,
   "id": "6a03b3c7-9b49-4325-ae48-28f9b6674b97",
   "metadata": {},
   "outputs": [],
   "source": [
    "%te L x_X: P_<e,t>(x)"
   ]
  },
  {
   "cell_type": "markdown",
   "id": "da9a03fb-6349-4dae-953d-0c68cdaf1047",
   "metadata": {},
   "source": [
    "Lambda expressions can of course be embedded in other lambda expressions, and support application and reduction as expected."
   ]
  },
  {
   "cell_type": "code",
   "execution_count": null,
   "id": "24a06eec-5188-466b-a33b-247547c4868a",
   "metadata": {},
   "outputs": [],
   "source": [
    "e = %te (L x_X: P_<e,t>(x))(_c1)\n",
    "e.reduce_all().derivation"
   ]
  },
  {
   "cell_type": "markdown",
   "id": "6b2d4f36-2294-4baa-91c1-5ef95a75be88",
   "metadata": {},
   "source": [
    "Variable names of bound variables are not guaranteed to stay the same on lambda application.  Variable names of free variables are safe.  In the following example, `x` is free in the main argument in the definition of `e7`.  On application, the bound `x` must be renamed to avoid collision with the free `x`."
   ]
  },
  {
   "cell_type": "code",
   "execution_count": null,
   "id": "6d15f705-3a3a-4c88-b764-190ba547ae16",
   "metadata": {},
   "outputs": [],
   "source": [
    "%te reduce (L p_t : L x_e : p & P_<e,t>(x))(P_<e,t>(x))"
   ]
  },
  {
   "cell_type": "code",
   "execution_count": null,
   "id": "1f971489-f60e-4523-ab42-9bcaabf4ddb4",
   "metadata": {},
   "outputs": [],
   "source": [
    "# another example of a collision where both variables are bound.  The one that is locally bound gets renamed.\n",
    "%te reduce L x_e : (L p_t : L x_e : p & P_<e,t>(x))(P_<e,t>(x))"
   ]
  },
  {
   "cell_type": "markdown",
   "id": "10ae6f90-52db-4e77-8e02-5173a2ac64c5",
   "metadata": {},
   "source": [
    "## Maps\n",
    "\n",
    "Functions can also be implemented directly as a mapping, implemented via the class `lamb.core.MapFun`. The metalanguage parser accepts a relatively standard python `dict`-like syntax."
   ]
  },
  {
   "cell_type": "code",
   "execution_count": null,
   "id": "7f2073d6-ec55-4f3c-ac63-2d83e2a0d9bd",
   "metadata": {},
   "outputs": [],
   "source": [
    "f = %te {3:x_n, 4:5}\n",
    "display(f, f.type)"
   ]
  },
  {
   "cell_type": "markdown",
   "id": "ad24bdc9-0abb-4640-9d3b-aa61c500d1f3",
   "metadata": {},
   "source": [
    "Maps are inherently partial relative to the domain implied by their type. The above example is a function from numbers to numbers, but is only defined for two numbers. If a number outside the domain is provided as an argument, reduction will raise a `DomainError` (this does not happen on application)."
   ]
  },
  {
   "cell_type": "code",
   "execution_count": null,
   "id": "17db6bb8-bd77-4ca8-b003-0e09e7b64b44",
   "metadata": {},
   "outputs": [],
   "source": [
    "with lamb.errors():\n",
    "    %te simplify {3:x_n, 4:5}(5)"
   ]
  },
  {
   "cell_type": "markdown",
   "id": "098552a5-f103-4f10-be89-9e36c92ec5c9",
   "metadata": {},
   "source": [
    "A map involves unique domain elements: every domain element is present at most once in the map. However, the metalanguage follows standard python syntax in allowing maps to be written with duplicates. Order is used to resolve duplicates in the domain. For example, the following example is syntactically valid but essentially ignores the first pair with a `3`."
   ]
  },
  {
   "cell_type": "code",
   "execution_count": null,
   "id": "1bd818b0-ed8e-4038-b277-b412033f3594",
   "metadata": {},
   "outputs": [],
   "source": [
    "%te {3:2, 3:x_n, 4:5}"
   ]
  },
  {
   "cell_type": "markdown",
   "id": "d276584a-59ae-463d-b535-541ffdb628e7",
   "metadata": {},
   "source": [
    "Note that maps in this syntax that consist entirely of domain elements will be translated to `MetaTerm` expressions (see below) rather than `MapFun` elements (although the class does support entirely concrete maps). A map that has non-domain-element terms (variables or unvalued constant terms) anywhere in it is in a sense incomplete: it describes a function whose outputs can't be fully determined without more information. If the terms are in the range of the function, reduction can proceed, but may of course return a non-valued term."
   ]
  },
  {
   "cell_type": "code",
   "execution_count": null,
   "id": "681897d3-377c-4357-9fc3-788d361bd856",
   "metadata": {},
   "outputs": [],
   "source": [
    "%te simplify {3:x_n, 4:5}(3)"
   ]
  },
  {
   "cell_type": "markdown",
   "id": "607eaa40-7936-4348-a81f-c1f93171fdaf",
   "metadata": {},
   "source": [
    "**The empty function**. In contrast to ordinary python, `{}` does not give an empty map function, but rather an empty set. To instantiate an empty function, you can use the syntax `Fun()`:"
   ]
  },
  {
   "cell_type": "code",
   "execution_count": null,
   "id": "ff5cf8aa-bb9b-4d60-a45e-d815073b8f35",
   "metadata": {},
   "outputs": [],
   "source": [
    "%te Fun()"
   ]
  },
  {
   "cell_type": "markdown",
   "id": "016dbf64-b7ee-4934-a43a-812c032be63c",
   "metadata": {},
   "source": [
    "Similar to an unconstrained empty set, the empty function has a polymorphic type, indicating that its domain and range could be anything. In context, this will typically become more concrete."
   ]
  },
  {
   "cell_type": "code",
   "execution_count": null,
   "id": "2aa4bbf2-2d3d-4dff-82de-6e12405ba7d7",
   "metadata": {},
   "outputs": [],
   "source": [
    "%te Fun() + {1:_c1}"
   ]
  },
  {
   "cell_type": "markdown",
   "id": "a0a61721-de3e-4aa4-a3af-772ae5c29319",
   "metadata": {},
   "source": [
    "The `Fun` syntax can also be used to produce functions from sets of pairs, following a standard set-theoretic treatment of functions. (Note that duplicate ordering for this instantiation method respects set order normalization, which uses lexicographic ordering by element; it therefore can be less predictable than writing a map directly.)"
   ]
  },
  {
   "cell_type": "code",
   "execution_count": null,
   "id": "abda511f-75ae-4c91-8080-f5d94f76da67",
   "metadata": {},
   "outputs": [],
   "source": [
    "%te Fun({(1,2), (3,4)})"
   ]
  },
  {
   "cell_type": "markdown",
   "id": "5952f47b-d29d-4a8a-be56-1f1a5d8c1310",
   "metadata": {},
   "source": [
    "**Non-concrete domains**. If a non-valued term is in the domain of the map, then things become more complicated than if the domain is fully concrete. Consider the following map:"
   ]
  },
  {
   "cell_type": "code",
   "execution_count": null,
   "id": "058ee6e0-0363-4ecf-8560-497e3dcfd5d9",
   "metadata": {},
   "outputs": [],
   "source": [
    "f = %te {4:5, x_n:3}\n",
    "f"
   ]
  },
  {
   "cell_type": "markdown",
   "id": "ee55a997-5007-4ba2-af13-c02852464056",
   "metadata": {},
   "source": [
    "This function, like all maps, is only defined for some domain elements, but it is not yet determined what those elements are. In fact, it may well be that `x` resolves to `4`, in which case there's a duplicate domain element. If this happens, the ordering rule is used to resolve duplicate domain elements on simplification. For this reason, if a map has unvalued domain elements, reduction can't proceed at all until they are resolved. The following derivation illustrates this; reduction of the lambda expression generates a map with duplicate domain elements, and the first one is eliminated by simplification."
   ]
  },
  {
   "cell_type": "code",
   "execution_count": null,
   "id": "7c29bb68-234e-4c88-9e52-8450fd57044e",
   "metadata": {},
   "outputs": [],
   "source": [
    "x = %te simplify (L x_n : {4:5, x_n:3})(4)\n",
    "x.derivation"
   ]
  },
  {
   "cell_type": "markdown",
   "id": "5bfa43d9-2436-48cc-b802-e2a5066ced19",
   "metadata": {},
   "source": [
    "Of course this sort of \"shadowing\" can work the other way, if the order of the map is different."
   ]
  },
  {
   "cell_type": "code",
   "execution_count": null,
   "id": "c0707571-69b8-4e3e-950e-28472cb27da0",
   "metadata": {},
   "outputs": [],
   "source": [
    "x = %te simplify (L x_n : {x_n:3,4:5})(4)\n",
    "x.derivation"
   ]
  },
  {
   "cell_type": "markdown",
   "id": "923943bf-4147-49b5-817b-42bfa72886c9",
   "metadata": {},
   "source": [
    "Because a variable in a map may be shadowed, it is also not safe to assume that reduction with the variable name is safe in the general case. For example, `{x_n:3,4:5}(x_n)` will resolve to 5 if `x` is 4, and to `3` otherwise; we can't know which without knowing `x`. (There are special cases that could be handled, but that simplify does not curently deal with.)\n",
    "\n",
    "(This example also shows a case of a derivation leading to duplicate domain elements; when writing a map with this property directly in the metalanguage syntax, no intermediate representation with these duplicates is generated, so such cases may be a bit rare.)"
   ]
  },
  {
   "cell_type": "markdown",
   "id": "f67aec34-8ac0-4baa-b1cd-29d4014c6775",
   "metadata": {},
   "source": [
    "**Programmatic use**. The `MapFun` class has a somewhat complex internal representation involving a sequence of pairs together with a mapping object. To programmatically instantiate one of these objects, you may want to use the class method `from_dict` rather than the standard constructor, which takes a sequence of Tuples."
   ]
  },
  {
   "cell_type": "code",
   "execution_count": null,
   "id": "e8b48f61-86f2-4c92-8d22-c2f5102537ac",
   "metadata": {},
   "outputs": [],
   "source": [
    "x = meta.core.MapFun.from_dict({te(1):te(2), te(3):te(4)})\n",
    "x"
   ]
  },
  {
   "cell_type": "code",
   "execution_count": null,
   "id": "445b48d5-7539-4630-934a-2dd0f0532173",
   "metadata": {},
   "outputs": [],
   "source": [
    "set(x) # show the pairs"
   ]
  },
  {
   "cell_type": "markdown",
   "id": "5db8ad7d-0453-431b-9392-9ada758cfcb5",
   "metadata": {},
   "source": [
    "When instantiating a `MapFun` programmatically, keep in mind that domain duplicates aren't resolved until simplification. Reduction on a structure with domain duplicates is well-defined and is equivalent to simplify+reduce."
   ]
  },
  {
   "cell_type": "markdown",
   "id": "345dd6e9-a398-42df-9181-01f13042164f",
   "metadata": {},
   "source": [
    "## `MetaTerm` functions\n",
    "\n",
    "See the documentation notebook *Domain elements and `MetaTerm`s for the primary documentation on `MetaTerm` functions. In brief, a `MetaTerm` with a functional type can be backed by:\n",
    "\n",
    "* A `frozendict` mapping from concrete domain elements to domain elements. This construct is very similar to `MapFun` functions, as described above.\n",
    "* A `frozenset`, for characteristic functions corresponding to that set (i.e. functions of type `<X,t>` for some `X`).\n",
    "* A pure python function, in which case all responsibility for type safety (etc) devolves to that function."
   ]
  },
  {
   "cell_type": "markdown",
   "id": "9bec1f89-4cf1-45d4-b26a-921992331e64",
   "metadata": {},
   "source": [
    "## Chained functions\n",
    "\n",
    "Functions can be combined using the `+` operator (corresponding to the class `meta.core.ChainFun`), which has similar behavior to the standard library [`collections.ChainMap`](https://docs.python.org/3/library/collections.html#collections.ChainMap) class. Reduction on a chained function will proceed from right to left among the combined functions, resolving duplicates in that order. If the combined functions are maps, they can always be simplified, though chains involving lambda expressions cannot be completely simplified. Application/reduction does not require a simplifiable chain."
   ]
  },
  {
   "cell_type": "code",
   "execution_count": null,
   "id": "9d3fcc11-0657-473a-95d4-1062f737cbd5",
   "metadata": {},
   "outputs": [],
   "source": [
    "%te simplify {1:2, 3:4} + {3:5}"
   ]
  },
  {
   "cell_type": "code",
   "execution_count": null,
   "id": "c9c1fa6e-8ae9-4848-93f1-fb3aa976c8cd",
   "metadata": {},
   "outputs": [],
   "source": [
    "%te simplify {1:2, 3:4} + {x_n:5}"
   ]
  },
  {
   "cell_type": "code",
   "execution_count": null,
   "id": "4cb25a02-0cd2-4f9e-89a6-102dfd8a951a",
   "metadata": {},
   "outputs": [],
   "source": [
    "# total function on numbers that returns a special-cased value for `3`\n",
    "%te simplify ((L x_n : 0) + {3:5})(3)"
   ]
  },
  {
   "cell_type": "markdown",
   "id": "8e9548f0-ccfd-4aae-a498-1f91bfd21936",
   "metadata": {},
   "source": [
    "A note for python programmers used to the quirks of python `update`: chaining a function involving duplicates changes the key order in the simplified version, in contrast to the behavior of the `update` function. For example, in the following case, the chain overwrites the original `1:2` pair (regular `update` would also do this), but additionally changes key order so that `1` follows `3`. For functions with fully concrete domains this is cosmetic, but it can interact with variable resolution in useful ways."
   ]
  },
  {
   "cell_type": "code",
   "execution_count": null,
   "id": "c7f2e71a-d49e-455b-b205-7f0f191df448",
   "metadata": {},
   "outputs": [],
   "source": [
    "%te simplify {1:2, 3:4} + {1:5}"
   ]
  },
  {
   "cell_type": "markdown",
   "id": "ae968215-aa46-4b72-8e89-579c6c989a48",
   "metadata": {},
   "source": [
    "One way of thinking about this is that we want to guarantee that reduction on an unsimplified chain is equivalent to reduction on a simplified chain, regardless of the sequencing of variable valuation. For example, in the following case, if `x` resolves to `3`, then the right side of the chain should override the `3:4` pair, and the standard `update` behavior wouldn't accomplish this."
   ]
  },
  {
   "cell_type": "code",
   "execution_count": null,
   "id": "2560054c-50cb-43af-a696-b10cb0867292",
   "metadata": {},
   "outputs": [],
   "source": [
    "x = %te simplify (L x_n : {x_n:2, 3:4} + {x_n:5})(3)\n",
    "x.derivation"
   ]
  },
  {
   "cell_type": "markdown",
   "id": "8cc56bb6-8cae-4edb-a276-2945c7bad244",
   "metadata": {},
   "source": [
    "## Function properties\n",
    "\n",
    "The metalanguage supports accessing domain and codomain sets via the `Dom` and `Codom` operators respectively. Given some function `f` of type `<X,Y>`, `Dom(f)` will have type `{X}`, and `Codom(f)` will have type `{Y}`. For example, here is the domain set for a simple lambda expression:"
   ]
  },
  {
   "cell_type": "code",
   "execution_count": null,
   "id": "06543f7c-9320-48c5-b8bb-831a1a52e8b6",
   "metadata": {},
   "outputs": [],
   "source": [
    "%te simplify Dom(L x_e: True)"
   ]
  },
  {
   "cell_type": "markdown",
   "id": "677063b3-6260-4fbd-8e14-45ef0242c625",
   "metadata": {},
   "source": [
    "The range and codomain of a function are sometimes conflated, but when they are distinguished, the range is the set of actual values used, whereas the codomain is the set of possible values used. Only the latter is computable in the general case. For the case of map functions in the metalanguage, the two coincide, but otherwise, the metalanguage makes no attempt to determine the set of actual range elements. The constant function above illustrates a case where the range ( which would just be `{True}`) and the codomain come apart:"
   ]
  },
  {
   "cell_type": "code",
   "execution_count": null,
   "id": "61813e5a-1656-4ea0-803d-b658e4b64f9c",
   "metadata": {},
   "outputs": [],
   "source": [
    "%te simplify Codom(L x_e: True)"
   ]
  },
  {
   "cell_type": "markdown",
   "id": "811afe77-0346-44d3-adbd-f1f3a18e199a",
   "metadata": {},
   "source": [
    "Using these properties with map-based functions is straightforward, but other cases have a few caveats.\n",
    "\n",
    "* Map-based functions have their domain/codomain sets drawn directly from the keys and values of the map.\n",
    "* Lambda function domain/codomain produce potentially non-finite sets (e.g. sets like `{x_X: True}`), and inherit all the caveats of such sets. Currently, these functions are *not* sensitive to definedness conditions.\n",
    "* Chained functions have domains/codomain that are simply the union of the parts, and so therefore may be non-finite.\n",
    "* The domain and codomain of unvalued terms can't be determined, and so simplification is necessarily deferred.\n",
    "* Some cases are not handled in compilation, and it may be helpful to simplify first."
   ]
  },
  {
   "cell_type": "markdown",
   "id": "139102fa-0e30-4c57-822f-54470398c9f6",
   "metadata": {},
   "source": [
    "Examples of map-based (co)domains illustrating simplification:"
   ]
  },
  {
   "cell_type": "code",
   "execution_count": null,
   "id": "5cf4b6bc-6876-4bd3-bebd-dd90b8c45b98",
   "metadata": {},
   "outputs": [],
   "source": [
    "te(\"Dom({1:2, 3:4, 5:4})\").simplify_all().derivation"
   ]
  },
  {
   "cell_type": "code",
   "execution_count": null,
   "id": "e6fc0f86-a9ef-4285-b2fa-4baae1e47588",
   "metadata": {},
   "outputs": [],
   "source": [
    "te(\"Codom({1:2, 3:4, 5:4})\").simplify_all().derivation"
   ]
  },
  {
   "cell_type": "code",
   "execution_count": null,
   "id": "e66e88ee-3eb9-4c9e-bd14-8e6009b8c70e",
   "metadata": {},
   "outputs": [],
   "source": [
    "te(\"Dom({1:2, 3:4, x_n:4})\").simplify_all().derivation"
   ]
  },
  {
   "cell_type": "markdown",
   "id": "14f8700f-235a-4210-883d-901ebe3b13ef",
   "metadata": {},
   "source": [
    "Examples of lambda expression (co)-domains:"
   ]
  },
  {
   "cell_type": "code",
   "execution_count": null,
   "id": "27164fa5-f2b4-4dfb-ae4d-6b61894a65f4",
   "metadata": {},
   "outputs": [],
   "source": [
    "te(\"Dom(L x_e: P_<e,t>(x))\").simplify_all().derivation"
   ]
  },
  {
   "cell_type": "code",
   "execution_count": null,
   "id": "97d1ede7-6b0f-412a-8bd6-d7486f3b3101",
   "metadata": {},
   "outputs": [],
   "source": [
    "te(\"Codom(L x_e: P_<e,t>(x))\").simplify_all().derivation"
   ]
  },
  {
   "cell_type": "markdown",
   "id": "df8b21b6-52fc-4e1b-ade8-6a90c0474917",
   "metadata": {},
   "source": [
    "Examples of chained (co)-domains:"
   ]
  },
  {
   "cell_type": "code",
   "execution_count": null,
   "id": "31ca7d37-8942-4aeb-b58d-1131dbf42a74",
   "metadata": {},
   "outputs": [],
   "source": [
    "te(\"Dom({1:2, 3:x_n} + ({4:5}))\").simplify_all().derivation"
   ]
  },
  {
   "cell_type": "code",
   "execution_count": null,
   "id": "e6c1d949-88f6-4b43-b3b2-b03fc6ae3418",
   "metadata": {},
   "outputs": [],
   "source": [
    "te(\"Codom({1:2, 3:x_n} + ({4:5}))\").simplify_all().derivation"
   ]
  },
  {
   "cell_type": "code",
   "execution_count": null,
   "id": "d04de116-bd88-4092-a4b9-2563feb19c9b",
   "metadata": {},
   "outputs": [],
   "source": [
    "te(\"Dom({1:2, 3:x_n} + (L x_n : 2))\").simplify_all().derivation"
   ]
  },
  {
   "cell_type": "code",
   "execution_count": null,
   "id": "14bb4589-400a-4dce-b016-4cc863e6add6",
   "metadata": {},
   "outputs": [],
   "source": [
    "te(\"Codom({1:2, 3:x_n} + (L x_n : 2))\").simplify_all().derivation"
   ]
  },
  {
   "cell_type": "markdown",
   "id": "22a39e69-17bb-4ea2-af01-5de6f17d9dcc",
   "metadata": {},
   "source": [
    "A few examples of compilation. Domain restrictions are necessary to handle non-finite domains, as per usual:"
   ]
  },
  {
   "cell_type": "code",
   "execution_count": null,
   "id": "47cd5f3e-cc7a-45d5-a07f-f5766bfed4ec",
   "metadata": {},
   "outputs": [],
   "source": [
    "with types.type_n.restrict_domain(values=[1, 2, 3]):\n",
    "    display(lamb.meta.exec(te(\"Dom(L x_n: 1)\")))"
   ]
  },
  {
   "cell_type": "code",
   "execution_count": null,
   "id": "a794f7f6-5865-4bb6-8c2c-8f815821b5fc",
   "metadata": {},
   "outputs": [],
   "source": [
    "with types.type_n.restrict_domain(values=[1, 2, 3]):\n",
    "    display(lamb.meta.exec(te(\"Codom(L x_n: 1)\")))"
   ]
  },
  {
   "cell_type": "code",
   "execution_count": null,
   "id": "033549e1-e3f4-4d2b-a494-26bb697017bf",
   "metadata": {},
   "outputs": [],
   "source": [
    "with types.type_n.restrict_domain(values=[1, 2, 3]):\n",
    "    display(lamb.meta.exec(te(\"Dom((L x_n: 1) + {3:1})\")))"
   ]
  },
  {
   "cell_type": "code",
   "execution_count": null,
   "id": "e6fa707a-72c2-41e6-bfd4-323906f030dc",
   "metadata": {},
   "outputs": [],
   "source": [
    "lamb.meta.exec(te(\"Codom({1:2} + {3:1})\"))"
   ]
  },
  {
   "cell_type": "code",
   "execution_count": null,
   "id": "dfa3c8b8-ee87-426d-bb0a-7356f8154a9f",
   "metadata": {},
   "outputs": [],
   "source": [
    "lamb.meta.exec(te(\"Codom(L x_e: True)\"))"
   ]
  },
  {
   "cell_type": "markdown",
   "id": "9152debe-8756-41f3-98a6-312ff1e56570",
   "metadata": {},
   "source": [
    "## Example: assignment functions in the metalanguage\n",
    "\n",
    "The following example illustrates a practical application of map functions: they can be used to manipulate metalanguage assignment functions. The sketch is pretty minimal but it shows how to do pronominal reference, binding, and assignment-sensitive function application. (A more sophisticated example might illustrate the full reader monad for assignments, along the lines of Shan 2002, *Monads for natural language semantics*. This example leaves off the unit operation as well as the derivation of the lifted FA rule.)"
   ]
  },
  {
   "cell_type": "code",
   "execution_count": null,
   "id": "97fb6086-3068-45b4-ad08-08beb4a6dc0e",
   "metadata": {},
   "outputs": [],
   "source": [
    "reload_lamb()"
   ]
  },
  {
   "cell_type": "code",
   "execution_count": null,
   "id": "8a2626ae-4d55-4820-8c84-c7ec61fcaa1e",
   "metadata": {},
   "outputs": [],
   "source": [
    "%%lamb\n",
    "||Trace|| =  L i_n: L f_<n,e>: Partial(f(i), i << Dom(f))\n",
    "||_1|| = 1\n",
    "||Binder|| = L i_n: L g_<<n,e>,X>: L f_<n,e>: L x_e : g(f + {i:x})\n",
    "||barked|| = L f_<n,e>: L x_e: Barked_<e,t>(x)\n",
    "||Closure|| = L f_<<n,e>,X> : f(Fun()) # Convert types down to ordinary denotations"
   ]
  },
  {
   "cell_type": "markdown",
   "id": "3b067c58-5b95-43d5-91da-2c0ecd05fc45",
   "metadata": {},
   "source": [
    "Here we are using a `Partial` object to guard appplication for a potentially partial `f`. If this domain condition is not met, the derivation will result in an undefined `Partial`:"
   ]
  },
  {
   "cell_type": "code",
   "execution_count": null,
   "id": "e129d0f3-b343-4d1c-989c-9805a1206705",
   "metadata": {},
   "outputs": [],
   "source": [
    "Closure * (Trace * _1)"
   ]
  },
  {
   "cell_type": "markdown",
   "id": "616320d0-02b5-4a29-94bd-6944cb127a9f",
   "metadata": {},
   "source": [
    "Assignment-sensitive FA, given a function and an argument that also take an assignment parameter, will combine the function and the argument, passing the assignment through. (Again, see Shan 2002 for the full details.)"
   ]
  },
  {
   "cell_type": "code",
   "execution_count": null,
   "id": "f368fb2b-0b07-4c8a-a85c-5dc674983d28",
   "metadata": {},
   "outputs": [],
   "source": [
    "assign_FA = %te L fun_<<n,e>,<X,Y>> : L x_<<n,e>,X> : L f_<n,e> : fun(f)(x(f))\n",
    "lang.get_system().add_binary_rule(assign_FA, 'AFA')"
   ]
  },
  {
   "cell_type": "markdown",
   "id": "fab74147-f50f-422f-8634-467e8a217121",
   "metadata": {},
   "source": [
    "A trace, given some assignment, returns the value of the assignment at its index."
   ]
  },
  {
   "cell_type": "code",
   "execution_count": null,
   "id": "35f03ac7-3304-46af-8645-5835175dbb90",
   "metadata": {},
   "outputs": [],
   "source": [
    "(Trace * _1)"
   ]
  },
  {
   "cell_type": "markdown",
   "id": "fdfb11c9-6320-413e-9e55-66b1b1cacfd9",
   "metadata": {},
   "source": [
    "When composing this trace with the intransitive verb `barked`, the AFA rule will kick in:"
   ]
  },
  {
   "cell_type": "code",
   "execution_count": null,
   "id": "b107ebc4-b4fb-4c0d-be4a-2bc6f6b21ea8",
   "metadata": {},
   "outputs": [],
   "source": [
    "((Trace * _1) * barked)[0].content.calculate_partiality()"
   ]
  },
  {
   "cell_type": "markdown",
   "id": "4a7cc354-2be9-4587-a5b4-d24c456cf3bb",
   "metadata": {},
   "source": [
    "We can build a meaning for something like a relative clause `that barked t_1` by adding in a binder, which shifts the assignment function using a chained function with a map (i.e. the subformula `f + {1:x_e}`, where `x_e` is bound by a lambda operator)."
   ]
  },
  {
   "cell_type": "code",
   "execution_count": null,
   "id": "1cbc45cc-f426-4490-b856-4f98fb80b968",
   "metadata": {},
   "outputs": [],
   "source": [
    "(Binder * _1) * ((Trace * _1) * barked)"
   ]
  },
  {
   "cell_type": "markdown",
   "id": "4d09b1dc-760f-4c12-97ba-9c9d53651abb",
   "metadata": {},
   "source": [
    "The closure operator in this example saturates an outer assignment parameter with the empty function, returning the ordinary meaning for the structure:"
   ]
  },
  {
   "cell_type": "code",
   "execution_count": null,
   "id": "b9ddb1d5-74ba-4106-bf3d-70385208fcc3",
   "metadata": {},
   "outputs": [],
   "source": [
    "x = ((Binder * _1) * ((Trace * _1) * barked))[0].content\n",
    "x"
   ]
  },
  {
   "cell_type": "code",
   "execution_count": null,
   "id": "9daca66a-7430-4a88-9dac-60f154b3c30d",
   "metadata": {},
   "outputs": [],
   "source": [
    "Closure * ((Binder * _1) * ((Trace * _1) * barked))"
   ]
  },
  {
   "cell_type": "code",
   "execution_count": null,
   "id": "fc60a687-0ba8-4274-9e20-0e968d55e84a",
   "metadata": {},
   "outputs": [],
   "source": [
    "(Closure * ((Binder * _1) * ((Trace * _1) * barked))).tree()"
   ]
  },
  {
   "cell_type": "code",
   "execution_count": null,
   "id": "80694d0d-a9d3-4288-b8b5-8fc2e643ddea",
   "metadata": {},
   "outputs": [],
   "source": [
    "(Closure * ((Binder * _1) * ((Trace * _1) * barked)))[0].content.derivation.trace()"
   ]
  },
  {
   "cell_type": "code",
   "execution_count": null,
   "id": "a16f44fc-cf0f-437e-8e03-4e14e40a8772",
   "metadata": {},
   "outputs": [],
   "source": []
  }
 ],
 "metadata": {
  "kernelspec": {
   "display_name": "Lambda Notebook (Python 3)",
   "language": "python",
   "name": "lambda-notebook"
  },
  "language_info": {
   "codemirror_mode": {
    "name": "ipython",
    "version": 3
   },
   "file_extension": ".py",
   "mimetype": "text/x-python",
   "name": "python",
   "nbconvert_exporter": "python",
   "pygments_lexer": "ipython3",
   "version": "3.12.8"
  }
 },
 "nbformat": 4,
 "nbformat_minor": 5
}
