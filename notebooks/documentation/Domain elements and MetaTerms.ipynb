{
 "cells": [
  {
   "cell_type": "markdown",
   "id": "573d7480-dd04-4567-b39c-5ef98becf8cd",
   "metadata": {},
   "source": [
    "# Domain elements and `MetaTerm`s\n",
    "\n",
    "The lambda notebook metalanguage supports a notion of \"ontological reference\" via expressions of class **`lamb.meta.meta.MetaTerm`**. Essentially, any type in the type system can correspond to some set of **domain elements**, and these domain elements are potential objects of reference for expressions of that type. A `MetaTerm` instantiates a reference to a domain element directly into the metalanguage. Domain elements are in general modeled via arbitrary python objects that are \"outside\" of the metalanguage itself. In certain cases, there are natural candidates in python that have similar semantics (relative to the metalanguage, metametasemantics) to what we are looking for as the object of reference. As a simple example, the following cell produces an expression consisting only of a `MetaTerm` at type `t`:"
   ]
  },
  {
   "cell_type": "code",
   "execution_count": null,
   "id": "51cfd71e-bb7d-450e-b27e-959a4a168c23",
   "metadata": {},
   "outputs": [],
   "source": [
    "%te True"
   ]
  },
  {
   "cell_type": "markdown",
   "id": "0ac64656-3018-48f0-a492-8a99f31e7bfb",
   "metadata": {},
   "source": [
    "`MetaTerm`s instantiated via the parser accept a type annotation with concrete types (no polymorphism), but this is never required; a mismatch will produce an error. All parsable `MetaTerm`s have a type that is inferrable entirely from their description."
   ]
  },
  {
   "cell_type": "code",
   "execution_count": null,
   "id": "50a095e8-4144-4ef7-9b12-7f523cc7868f",
   "metadata": {},
   "outputs": [],
   "source": [
    "%te True_e"
   ]
  },
  {
   "cell_type": "markdown",
   "id": "08768a39-63e3-45fe-90cf-59a3b13c04c4",
   "metadata": {},
   "source": [
    "**Identifying `MetaTerm`s** (preliminaries): in rich reprs `MetaTerm`s are rendered with a sans serif font, and in plain reprs, a prefixing `_` symbol indicates meta status (`True`/`False` and numbers excluded). In code, an expression's meta status can be programmatically checked via the `TypedExpr` member function `meta()`; this is better than doing an explicit `isinstance` check.\n",
    "\n",
    "**`MetaTerms` vs. terms in general**:\n",
    "In general, `MetaTerm`s can be thought of as a special kind of term that wraps the domain element and allows it to appear in the metalanguage; they compare equal (and hash equal) to their domain element counterpart. They are implemented as terms (and satisfy `TypedExpr.term()`) but are never counted as free terms, cannot be changed by assignments, cannot be bound, etc.\n",
    "\n",
    "Though they are both terms, `TypedTerm` constants are not `MetaTerm`s! This may be a somewhat weird conceptual distinction depending on how you were taught logic. The intuition is that a `MetaTerm` is reference to the *actual thing*, whereas a regular constant is more like a name for some thing. (Of course, in computational modeling we never really have the actual thing; in this case just a python object that is yet another proxy.) In the metalanguage, regular constants are not automatically valued to domain elements without being filled in by an assignment (or execution context). In the lambda notebook metalanguage, a regular constant is just a free term that cannot be bound within a metalanguage expression, and a variable is a term that may be bound (or may not be); `MetaTerm`s are not free. Another way to put it: a regular constant is something whose value will be a single domain element, but without an assignment we don't know what that value is, and it could be anything in the domain. A `MetaTerm` can only have the value of the thing to which it refers, and this is entirely assignment-independent."
   ]
  },
  {
   "cell_type": "markdown",
   "id": "605c411e-f610-4fae-a291-d7d689b4f016",
   "metadata": {},
   "source": [
    "## Default basic type domains\n",
    "### Booleans\n",
    "\n",
    "A simple starting point is type `t`. This type's domain is quite straighforwardly a set consisting of (only) python `True` and `False`. The corresponding `MetaTerm`s are instantiated in the parser in a similar way to how you'd do it in python. The following expression produces a `TypedExpr` set consisting of the `MetaTerm`s `True` and `False`:"
   ]
  },
  {
   "cell_type": "code",
   "execution_count": null,
   "id": "c56ec466-c94a-4313-9f27-3c35c3e40823",
   "metadata": {},
   "outputs": [],
   "source": [
    "%te {True, False}"
   ]
  },
  {
   "cell_type": "markdown",
   "id": "f6856945-707e-41c5-bb08-25b795310a42",
   "metadata": {},
   "source": [
    "As you'd expect, the terms compare equal to the python values:"
   ]
  },
  {
   "cell_type": "code",
   "execution_count": null,
   "id": "fe2c1f30-a9d8-425e-adab-d25bfbf408c7",
   "metadata": {},
   "outputs": [],
   "source": [
    "meta.MetaTerm(True) == True"
   ]
  },
  {
   "cell_type": "code",
   "execution_count": null,
   "id": "a8d7d87c-25c3-436e-895c-97121ea94c47",
   "metadata": {},
   "outputs": [],
   "source": [
    "meta.MetaTerm(False) == False"
   ]
  },
  {
   "cell_type": "markdown",
   "id": "8c50accc-6cbd-4d20-96f6-a08919e14804",
   "metadata": {},
   "source": [
    "In the metalanguage, as in python, `True` and `False` are reserved terms that can only instantiate `MetaTerm`s; while you can write constants at this type, they can't be named as `True` or `False`."
   ]
  },
  {
   "cell_type": "markdown",
   "id": "7fcbb1aa-abaa-4834-9328-b8c0dfd33e32",
   "metadata": {},
   "source": [
    "Type domains can be accessed in python via the `domain` member variable, and supports various things, including membership checks. Finite domains support `len` and (if marked as `enumerable`) iteration as well."
   ]
  },
  {
   "cell_type": "code",
   "execution_count": null,
   "id": "52195f60-161b-4b7d-ab7e-a728cdad1e47",
   "metadata": {},
   "outputs": [],
   "source": [
    "tp(\"t\").domain.cardinality()"
   ]
  },
  {
   "cell_type": "code",
   "execution_count": null,
   "id": "445e6edd-84dc-42a4-82e9-f1783d921743",
   "metadata": {},
   "outputs": [],
   "source": [
    "list(tp(\"t\").domain)"
   ]
  },
  {
   "cell_type": "markdown",
   "id": "b749eacb-29a9-4bd5-880f-730514292456",
   "metadata": {},
   "source": [
    "Anything in a domain element is safe to instantiate as a `MetaTerm`."
   ]
  },
  {
   "cell_type": "code",
   "execution_count": null,
   "id": "7c1c4032-5331-4a16-bedc-1b2fd90232ec",
   "metadata": {},
   "outputs": [],
   "source": [
    "[meta.MetaTerm(e) for e in tp(\"t\").domain]"
   ]
  },
  {
   "cell_type": "code",
   "execution_count": null,
   "id": "5a72d2ac-5db9-473e-80de-55785972d059",
   "metadata": {},
   "outputs": [],
   "source": [
    "True in tp(\"t\").domain"
   ]
  },
  {
   "cell_type": "code",
   "execution_count": null,
   "id": "09706b9e-391e-40e4-866e-cfb97c71f04a",
   "metadata": {},
   "outputs": [],
   "source": [
    "meta.MetaTerm(True) in tp(\"t\").domain"
   ]
  },
  {
   "cell_type": "code",
   "execution_count": null,
   "id": "ea777970-85e8-4222-bb50-be38c6199d74",
   "metadata": {},
   "outputs": [],
   "source": [
    "1 in tp(\"t\").domain"
   ]
  },
  {
   "cell_type": "markdown",
   "id": "934146b6-9da5-4f93-88b3-41285dce66b3",
   "metadata": {},
   "source": [
    "**Programming caveat**. If you are an expert python programmer, one caveat to be aware of is that `MetaTerm`s are strictly typed, with everything that comes with that. In python, there's a set of `falsy` elements which act like `False` for boolean purposes and in some cases even compare equal. `MetaTerm(False)` certainly acts falsy when used in python, but it will not compare equal to any of these elements, and these elements will not act as part of the domain.\n",
    "\n",
    "For related reasons, when working with metalanguage objects in python, it's very important to differentiate checks for python `None` (use: `x is None`) from bool checks (use the verbose `te == False` or `te == True` to avoid accidental equation of `None` returns with `False` or other truthy/falsy elements that are not domain elements for type `t`."
   ]
  },
  {
   "cell_type": "code",
   "execution_count": null,
   "id": "70a9ec23-cf75-4a1b-aa12-6075ffd3af95",
   "metadata": {},
   "outputs": [],
   "source": [
    "# demonstration of falsiness. Note that `and` will return the left element for this case.\n",
    "meta.MetaTerm(False) and False"
   ]
  },
  {
   "cell_type": "code",
   "execution_count": null,
   "id": "3a045140-c2eb-4950-bb96-222818a4d4c8",
   "metadata": {},
   "outputs": [],
   "source": [
    "False == 0 # these compare as equal"
   ]
  },
  {
   "cell_type": "code",
   "execution_count": null,
   "id": "f2cfe076-0daa-4d0b-8a78-6ac44b64e37e",
   "metadata": {},
   "outputs": [],
   "source": [
    "meta.MetaTerm(False) == 0 # these don't"
   ]
  },
  {
   "cell_type": "markdown",
   "id": "2267839e-7641-4bc8-87ef-6d8817011cbd",
   "metadata": {},
   "source": [
    "A caveat to the caveat. For various reasons, when writing metalanguage expressions explicitly annotating numbers and booleans with types `t` and `n` respectively is allowed and will parse by the expected conversion according to the type, rather than erroring."
   ]
  },
  {
   "cell_type": "code",
   "execution_count": null,
   "id": "3f89004d-661c-4399-a6e1-fb63c8f30bd5",
   "metadata": {},
   "outputs": [],
   "source": [
    "%te 0_t"
   ]
  },
  {
   "cell_type": "code",
   "execution_count": null,
   "id": "481c30da-3fe9-43fa-b92c-099e2892632b",
   "metadata": {},
   "outputs": [],
   "source": [
    "te(\"0_t\") == 0"
   ]
  },
  {
   "cell_type": "markdown",
   "id": "56af30f9-8d63-4ef2-b08f-5b274aa7bc34",
   "metadata": {},
   "source": [
    "### Numbers\n",
    "\n",
    "The metalanguage supports python integers via type `n`. These are pretty straightforward as well, and their metalanguage and python semantics are identical for the standard operations."
   ]
  },
  {
   "cell_type": "code",
   "execution_count": null,
   "id": "60c628ee-efb3-4dd1-89df-6a6e9ce63e54",
   "metadata": {},
   "outputs": [],
   "source": [
    "%te 10"
   ]
  },
  {
   "cell_type": "code",
   "execution_count": null,
   "id": "b13592af-e874-4f80-acbf-31bb4671ec62",
   "metadata": {},
   "outputs": [],
   "source": [
    "meta.MetaTerm(10) == 10"
   ]
  },
  {
   "cell_type": "code",
   "execution_count": null,
   "id": "15907a2f-8f5a-4545-bfd4-db3466e88cb5",
   "metadata": {},
   "outputs": [],
   "source": [
    "5 in tp(\"n\").domain"
   ]
  },
  {
   "cell_type": "markdown",
   "id": "1cafdcf5-e501-47b5-9509-c010660fcdcd",
   "metadata": {},
   "source": [
    "The main immediate difference to booleans is that the domain set for this type is not modeled as finite!"
   ]
  },
  {
   "cell_type": "code",
   "execution_count": null,
   "id": "0f999955-0438-48bc-a335-7cdd7cda70b0",
   "metadata": {},
   "outputs": [],
   "source": [
    "# len will raise a ValueError\n",
    "tp(\"n\").domain.cardinality()"
   ]
  },
  {
   "cell_type": "markdown",
   "id": "c5329c4a-b992-41b9-bd67-94b2089818a4",
   "metadata": {},
   "source": [
    "Iteration is supported, but is for obvious reasons not terminating. It will iterate over ints only, from 0 alternating positive and negative."
   ]
  },
  {
   "cell_type": "code",
   "execution_count": null,
   "id": "59148de3-69dc-47fc-a767-f3dfd2230e87",
   "metadata": {},
   "outputs": [],
   "source": [
    "it = iter(tp(\"n\").domain)\n",
    "for i in range(10):\n",
    "    print(next(it))"
   ]
  },
  {
   "cell_type": "markdown",
   "id": "1cb45e6a-903f-4a3c-bb10-4d84a6dd29ce",
   "metadata": {},
   "source": [
    "Parsing note: the metalanguage supports a unary `-` operator, but negative integers will be parsed directly to the negative value, rather than a complex expression with unary negation."
   ]
  },
  {
   "cell_type": "markdown",
   "id": "7baaa5cf-315a-49e9-9074-60c812d8a0ec",
   "metadata": {},
   "source": [
    "Limitation: The `MetaTerm` class will take any python numeric, though parsed metalanguage expressions currently support only integers."
   ]
  },
  {
   "cell_type": "code",
   "execution_count": null,
   "id": "bbe57c10-1f10-48a3-b7d7-1ac9d54dacb9",
   "metadata": {},
   "outputs": [],
   "source": [
    "(meta.MetaTerm(2.5) - 1.25).simplify_all().derivation"
   ]
  },
  {
   "cell_type": "markdown",
   "id": "721f6dc0-81b9-4ec5-9525-e1932495795f",
   "metadata": {},
   "source": [
    "### Entities\n",
    "\n",
    "The domain `e` (entities) instantiates a third standard pattern for domain elements. In contrast to the previous two cases, entities are not modeled using python objects that have any relevant semantics to the logical notion of an entity. Rather, they are modeled as arbitrary elements that have no meta-meta-relationship to each other beyond distinguishability.\n",
    "\n",
    "* Of course, it would be possible to implement a richer meta-meta system of entities, e.g. with mereology! But this is not the default setup. Here we build on standard first order model theory.\n",
    "\n",
    "At a technical level, entities are modeled on the python side as strings with a prefix `_c` (mnemonic: \"constant\") followed by a non-negative integer. In various context the underscore may be optional, and it is primarily a parser signal to construct a `MetaTerm`. It may be used with any meta-element including numbers and booleans, but it is required for str-backed domains. It doesn't appear in rich reprs (sans serif is used instead), but it does appear in ordinary reprs."
   ]
  },
  {
   "cell_type": "code",
   "execution_count": null,
   "id": "5c021bbb-86f6-452c-ade3-c83ddde84f84",
   "metadata": {},
   "outputs": [],
   "source": [
    "%te _c5"
   ]
  },
  {
   "cell_type": "code",
   "execution_count": null,
   "id": "7f235ab1-5835-4f71-ba9d-cbbb23639247",
   "metadata": {},
   "outputs": [],
   "source": [
    "repr(te(\"_c5\"))"
   ]
  },
  {
   "cell_type": "markdown",
   "id": "1938f518-1f35-4f02-acf2-7d4ea252fd5e",
   "metadata": {},
   "source": [
    "Domains like this inherit python equality straightforwardly."
   ]
  },
  {
   "cell_type": "code",
   "execution_count": null,
   "id": "88d80ce6-8813-483e-8603-f672cc89cbfc",
   "metadata": {},
   "outputs": [],
   "source": [
    "%te simplify _c5 <=> _c6\n",
    "_llast.derivation"
   ]
  },
  {
   "cell_type": "code",
   "execution_count": null,
   "id": "c6ccdf2e-f65f-42f0-a756-098c31f76693",
   "metadata": {},
   "outputs": [],
   "source": [
    "%te simplify _c5 <=> _c5\n",
    "_llast.derivation"
   ]
  },
  {
   "cell_type": "markdown",
   "id": "0cc93388-1c94-4118-8854-b1dc15c6b0a4",
   "metadata": {},
   "source": [
    "As a cautionary note, something like `c5_e` will parse as a regular variable, not a MetaTerm:"
   ]
  },
  {
   "cell_type": "code",
   "execution_count": null,
   "id": "917c7579-6e9c-4ee2-adf3-89b1b7d5b8a9",
   "metadata": {},
   "outputs": [],
   "source": [
    "%te simplify c5_e <=> _c5"
   ]
  },
  {
   "cell_type": "markdown",
   "id": "b00577c5-cb46-4833-b53d-b5ab8379514c",
   "metadata": {},
   "source": [
    "This example raises a more general point: what is the relationship between variables or regular free terms at some type and `MetaTerm`s at the same type? The short answer is that the free term can be thought of as a slot that could be filled in by a type domain element. An equality statement like the above cannot be fully resolved without knowing what `c_e` stands in for; this goes whether it's a constant or a variable. Of course, if `c_e` is bound rather than free, then its binder may determine values in some way."
   ]
  },
  {
   "cell_type": "code",
   "execution_count": null,
   "id": "91cc5732-bf2c-4225-9d38-ebfcc559bfb7",
   "metadata": {},
   "outputs": [],
   "source": [
    "%te simplify (L x_e : x <=> _c5)(_c3)\n",
    "_llast.derivation"
   ]
  },
  {
   "cell_type": "markdown",
   "id": "7d6741c0-bfe2-4d14-b787-436e95bf6de7",
   "metadata": {},
   "source": [
    "Like numbers, string-backed domains are not treated as finite, and support non-terminating iteration. Since the values essentially correspond to natural numbers (including 0), iteration proceeds in a standard order for natural numbers."
   ]
  },
  {
   "cell_type": "code",
   "execution_count": null,
   "id": "4a9aa413-2ba7-466b-aa1a-abfafb2ee632",
   "metadata": {},
   "outputs": [],
   "source": [
    "it = iter(tp(\"e\").domain)\n",
    "for i in range(10):\n",
    "    print(next(it))"
   ]
  },
  {
   "cell_type": "markdown",
   "id": "ccce6801-9460-462a-85cc-c313a2c8d324",
   "metadata": {},
   "source": [
    "### String-backed domains more generally\n",
    "\n",
    "Entities instantiate the general concept of a \"string-backed domain\", where domain elements are modeled as some arbitrary prefix followed by a sequence of digits. When you add a new atomic type, typically you will want a corresponding string-backed domain set. This is set up by default.  It is required that distinct string-backed domains be associated with a unique prefix that allows completely distinguish elements in one domain from another.\n",
    "\n",
    "By default, the prefix for entities will be `c`, for type `v` (conventionally, events) will be `e`, and for type `s` (conventionally, intensions) will be `w`, but these can all be overridden."
   ]
  },
  {
   "cell_type": "code",
   "execution_count": null,
   "id": "cf1ec0f1-0c58-4db2-8c3f-7d00587a883d",
   "metadata": {},
   "outputs": [],
   "source": [
    "lang.get_system().add_basic_type(types.BasicType(\"s\"))"
   ]
  },
  {
   "cell_type": "code",
   "execution_count": null,
   "id": "669d87b5-4d1f-417c-bb15-53746b322e69",
   "metadata": {},
   "outputs": [],
   "source": [
    "%te _w1"
   ]
  },
  {
   "cell_type": "code",
   "execution_count": null,
   "id": "80005706-9ba8-4982-aa1f-7f7ae4f99a59",
   "metadata": {},
   "outputs": [],
   "source": [
    "it = iter(tp(\"s\").domain)\n",
    "for i in range(10):\n",
    "    print(next(it))"
   ]
  },
  {
   "cell_type": "markdown",
   "id": "1d3eee2e-8712-4925-b6b5-c11e0294d6b9",
   "metadata": {},
   "source": [
    "## Derived/complex type domains\n",
    "\n",
    "Complex concrete type constructors (`SetType`, `TupleType`, `FunType`) also have corresponding type domains. This support membership checking, iteration, etc, and inherit cardinality from their component types. A general caveat is that often, even in the finite case, the sets you can generate this way are quite large!\n",
    "\n",
    "In general, the metalanguage parser doesn't support instantiating `MetaTerm`s for these domains directly. However, they can be constructed directly via the `MetaTerm` constructor, and are used internally for certain calculations. Set and tuple domain elements have exact analogues using `ListedSet` typed expressions and `Tuple` typed expressions that the parser will construct, which compare as expected, etc."
   ]
  },
  {
   "cell_type": "markdown",
   "id": "60150fec-f0d7-476b-9e40-f51efe27c8b5",
   "metadata": {},
   "source": [
    "### `SetType` domains\n",
    "\n",
    "Perhaps unsurprisingly, these are backed by python `collections.abc.Set` objects, in particular `frozenset`s. (This is for technical reasons: because regular python `set` is mutable, it does not support sets of sets.) For example, here are the elements for domains `{t}` and `{{t}}`:"
   ]
  },
  {
   "cell_type": "code",
   "execution_count": null,
   "id": "d66c5f42-7a7e-4614-983e-307dd74acd87",
   "metadata": {},
   "outputs": [],
   "source": [
    "for e in tp(\"{t}\").domain:\n",
    "    print(e)"
   ]
  },
  {
   "cell_type": "code",
   "execution_count": null,
   "id": "44d004b8-7b8d-405b-8864-1e5050a8fcd2",
   "metadata": {},
   "outputs": [],
   "source": [
    "for e in tp(\"{{t}}\").domain:\n",
    "    print(e)"
   ]
  },
  {
   "cell_type": "markdown",
   "id": "3ccc6fc3-90ce-4add-9590-8b935409d576",
   "metadata": {},
   "source": [
    "### `TupleType` domain elements\n",
    "\n",
    "Tuples are also pretty straightforwardly backed by python `tuple`s. Here are a few examples of iteration over finite tuple domains:"
   ]
  },
  {
   "cell_type": "code",
   "execution_count": null,
   "id": "aaa03349-91f6-4bd4-8c37-13b519956208",
   "metadata": {},
   "outputs": [],
   "source": [
    "for e in tp(\"(t,t)\").domain:\n",
    "    print(e)"
   ]
  },
  {
   "cell_type": "code",
   "execution_count": null,
   "id": "2192e78b-d8a7-4ed4-b142-33cd21df4386",
   "metadata": {},
   "outputs": [],
   "source": [
    "for e in tp(\"(t,(t,t))\").domain:\n",
    "    print(e)"
   ]
  },
  {
   "cell_type": "markdown",
   "id": "de442440-057a-4c42-8197-d08bb91d08da",
   "metadata": {},
   "source": [
    "### `FunType` domain elements\n",
    "\n",
    "Python backing for functional elements is a bit more complicated than the previous two cases. There are three possible backing objects:\n",
    "\n",
    "1. Python `set`s (really, `frozenset`s): a set in this context gives the function that characterizes that set, relative to the type domain. That is, the function returns true iff a type domain element is a member of that set.\n",
    "2. Python `dict` objects (see details on type below): an explicit mapping of domain elements to the image of the function.\n",
    "3. An arbitrary python `callable`.\n",
    "\n",
    "Each of these has some complications and caveats that this document will only touch on. This type domain supports iteration, but the iterator will only produce `dict`s. In fact, from the examples below you can see that this domain does not exactly use `dict`s, but rather objects of class `lamb.utils.frozendict`. This class provides a minimal implementation of a immutable (and therefore hashable) `collections.abc.Mapping` class that is suitable for recursion."
   ]
  },
  {
   "cell_type": "code",
   "execution_count": null,
   "id": "e17d0e3c-a998-4f2a-a235-1c0aa8c004c1",
   "metadata": {},
   "outputs": [],
   "source": [
    "for e in tp(\"<t,t>\").domain:\n",
    "    print(e)"
   ]
  },
  {
   "cell_type": "code",
   "execution_count": null,
   "id": "d2bb0934-c7dc-4dd2-ab9b-6ee28c8f67f5",
   "metadata": {},
   "outputs": [],
   "source": [
    "for e in tp(\"<(t,t),t>\").domain:\n",
    "    print(e)"
   ]
  },
  {
   "cell_type": "markdown",
   "id": "a984531c-78c3-4707-b6c7-7d4055d31850",
   "metadata": {},
   "source": [
    "**Set-backed functions**. A set-backed functional term can be constructed directly by supplying an appropriate type together with a set to the `MetaTerm` constructor. (Without this type, a set will be construed as a `SetType`.) As with other cases, this normalizes, so you don't have to start with a `frozenset`."
   ]
  },
  {
   "cell_type": "code",
   "execution_count": null,
   "id": "097513b6-5abb-49a4-b42b-0bb05eb9f942",
   "metadata": {},
   "outputs": [],
   "source": [
    "meta.MetaTerm({True}, typ=tp(\"<t,t>\"))"
   ]
  },
  {
   "cell_type": "markdown",
   "id": "960c3f8d-bbbc-4884-9aeb-ae6014980afa",
   "metadata": {},
   "source": [
    "Reduction is simply implemented as set membership checking for this case:"
   ]
  },
  {
   "cell_type": "code",
   "execution_count": null,
   "id": "7fec6b3d-7a75-4508-8f06-363e7895ffd2",
   "metadata": {},
   "outputs": [],
   "source": [
    "meta.MetaTerm({True}, typ=tp(\"<t,t>\"))(False).reduce_all().derivation"
   ]
  },
  {
   "cell_type": "markdown",
   "id": "61e89932-9fd5-476a-b173-87400d40e324",
   "metadata": {},
   "source": [
    "**Mapping-backed functions**. These cases at first seem straightforward, and they are, as long as the domain of the mapping covers the type domain:"
   ]
  },
  {
   "cell_type": "code",
   "execution_count": null,
   "id": "af0bc5ae-1032-42db-b97e-1fadfa197684",
   "metadata": {},
   "outputs": [],
   "source": [
    "meta.MetaTerm({False: False, True: False})"
   ]
  },
  {
   "cell_type": "code",
   "execution_count": null,
   "id": "b6968d8c-fce8-463b-aabf-c7218f942ab6",
   "metadata": {},
   "outputs": [],
   "source": [
    "meta.MetaTerm({False: False, True: True})(False).reduce_all().derivation"
   ]
  },
  {
   "cell_type": "markdown",
   "id": "23568207-9fb5-49ee-8c9c-b9103de66e42",
   "metadata": {},
   "source": [
    "The complication comes in when the mapping is partial relative to the type domain. The default behavior is to raise an exception of type `meta.meta.OutOfDomain` for this case."
   ]
  },
  {
   "cell_type": "code",
   "execution_count": null,
   "id": "4c7506fb-024d-462a-b6df-59b68c2a5f59",
   "metadata": {},
   "outputs": [],
   "source": [
    "with lamb.errors():\n",
    "    meta.MetaTerm({True: True})(False).reduce_all().derivation"
   ]
  },
  {
   "cell_type": "markdown",
   "id": "d35cce03-e8df-4032-8072-eb8aaf89a310",
   "metadata": {},
   "source": [
    "This behavior can be relaxed by explicitly invoking a non-reduce simplify pass with `strict_charfuns=False`. With this simplify option, a type domain element missing from the `dict` yields a `False` return value."
   ]
  },
  {
   "cell_type": "code",
   "execution_count": null,
   "id": "8be9876d-aa90-484d-8713-42ca0e73197d",
   "metadata": {},
   "outputs": [],
   "source": [
    "meta.MetaTerm({True: True})(False).simplify_all(reduce=False, strict_charfuns=False).derivation"
   ]
  },
  {
   "cell_type": "markdown",
   "id": "d7a046ae-2d2a-427b-8a5d-1abf27b71025",
   "metadata": {},
   "source": [
    "**`callable`-backed functions**. These primarily exist for internal use, and are quite unconstrained, with no real type-safety -- nothing about the API enforces that the type you provide matches the behavior of the function you provide. Best to only use these if you really know what you're doing. A type must be explicitly provided."
   ]
  },
  {
   "cell_type": "code",
   "execution_count": null,
   "id": "5b3e89a6-f789-4be0-bc5a-49b424397821",
   "metadata": {},
   "outputs": [],
   "source": [
    "f = meta.MetaTerm((lambda x: x), typ=tp(\"<X,X>\"))\n",
    "f"
   ]
  },
  {
   "cell_type": "code",
   "execution_count": null,
   "id": "03f8bd8a-d8f8-4fc8-9b71-bfef9628ee74",
   "metadata": {},
   "outputs": [],
   "source": [
    "f(te(\"_c1\")).reduce_all()"
   ]
  },
  {
   "cell_type": "markdown",
   "id": "49c97c65-3bdd-497f-8ea5-9e825c63de53",
   "metadata": {},
   "source": [
    "**More caveats**: Functional type domain elements don't have an identity criteria in the way that other type domains do. This is obviously worst for the `callable` backed cases, but comparison across `set` and `dict`-backed cases doesn't work."
   ]
  },
  {
   "cell_type": "markdown",
   "id": "6bf569b6-ba11-4417-9971-6b3afcab226c",
   "metadata": {},
   "source": [
    "## Domain restriction\n",
    "\n",
    "The documentation related to type domains and corresponding concepts like quantification is littered with caveats like, \"only safe for finite domains\". Most semantic applications do not assume that domains like `e` and `s` are finite. However, it is common practice to demonstrate analyses on \"toy\" subdomains. The type domain system provides tools for doing this for atomic types (as do other aspects of the evaluation system not covered in this document).\n",
    "\n",
    "As an example, here's a simple set expression that by default, we cannot convert to a `ListedSet`, because the type domain for `e` is not assumed to be finite, and therefore an `eliminate` call does nothing:"
   ]
  },
  {
   "cell_type": "code",
   "execution_count": null,
   "id": "a58edc0c-3962-4518-9852-d75acc3ddb62",
   "metadata": {},
   "outputs": [],
   "source": [
    "te(\"Set x_e : True\").eliminate()"
   ]
  },
  {
   "cell_type": "markdown",
   "id": "e4f6fd04-0bd8-47f8-bbba-5b5104597683",
   "metadata": {},
   "source": [
    "However, with a toy domain, we could eiminate this set expression. There are two basic ways to do this. First, and safest, is to use the `restrict_domain` context manager on a type. This affects the basic type and all corresponding derived types. Here are a few examples for picking a small part of type `e`:"
   ]
  },
  {
   "cell_type": "code",
   "execution_count": null,
   "id": "bcc9e5f8-9903-4c61-8304-e8ab3f5e846b",
   "metadata": {},
   "outputs": [],
   "source": [
    "with types.type_e.restrict_domain(values=['_c0', '_c1', '_c2']):\n",
    "    display(te(\"Set x_e : True\").eliminate())\n",
    "    display(te(\"Set x_{e} : True\").eliminate())\n",
    "    display(te(\"Set x_<e,t> : True\").eliminate())"
   ]
  },
  {
   "cell_type": "markdown",
   "id": "38387eeb-fb91-480c-8b88-4e2dc05c84a0",
   "metadata": {},
   "source": [
    "This context manager function also takes a parameter `count=n`, which when set, just gives you the first `n` type domain elements by iteration order."
   ]
  },
  {
   "cell_type": "markdown",
   "id": "40c54c7c-515f-4ca8-8d37-22c1077f4196",
   "metadata": {},
   "source": [
    "Second, it is possible to do more long-lasting domain restrictions just by setting the domain directly:"
   ]
  },
  {
   "cell_type": "code",
   "execution_count": null,
   "id": "341dfa3a-c4a7-4964-ac8c-0978bf9e3dbf",
   "metadata": {},
   "outputs": [],
   "source": [
    "type_e = tp(\"e\")\n",
    "type_e.domain = type_e.get_subdomain(count=3)\n",
    "type_e.domain"
   ]
  },
  {
   "cell_type": "code",
   "execution_count": null,
   "id": "64caa50d-e0b9-4b86-9308-ef7ab21f9f7b",
   "metadata": {},
   "outputs": [],
   "source": [
    "te(\"Set x_e : True\").eliminate()"
   ]
  },
  {
   "cell_type": "markdown",
   "id": "a5569f24-9282-4a12-b0df-7be50d195638",
   "metadata": {},
   "source": [
    "Trying to instantiate `MetaTerm`s that are not possible in the current subdomain but would be valid in a superdomain will produce an error:"
   ]
  },
  {
   "cell_type": "code",
   "execution_count": null,
   "id": "ebf9b5b8-366a-4530-9d54-f1905e86d399",
   "metadata": {},
   "outputs": [],
   "source": [
    "%te _c3"
   ]
  },
  {
   "cell_type": "markdown",
   "id": "195b3488-fb09-46e7-aa90-006d4a5ecebc",
   "metadata": {},
   "source": [
    "To reset a domain restriction like this, you can get at the original domain via the `superdomain` member variable. You could also just call `meta.reset_type_system()`, though this will of course reset all changes you might have made, not just this one."
   ]
  },
  {
   "cell_type": "code",
   "execution_count": null,
   "id": "6aeeaeea-afec-4137-8c0c-304f89ec2cac",
   "metadata": {},
   "outputs": [],
   "source": [
    "tp(\"e\").domain = tp(\"e\").domain.superdomain\n",
    "tp(\"e\").domain"
   ]
  },
  {
   "cell_type": "markdown",
   "id": "deceaf9e-1bf8-49b7-8731-73fa84c8dc72",
   "metadata": {},
   "source": [
    "Both of these methods of domain restriction support repeated restriction calls; `superdomain` will store the previous one."
   ]
  },
  {
   "cell_type": "markdown",
   "id": "89a9fd71-6f64-443c-8e65-6034be3386a1",
   "metadata": {},
   "source": [
    "## `MetaTerm` simplification and execution\n",
    "\n",
    "These objects have very straightforward simplification and execution behavior. They don't simplify -- they are atomic -- and their compiled instances just give back the contained domain elements independent of context.\n",
    "\n",
    "* Calling `simplify` on a `MetaTerm` does do exactly one thing: it rechecks the domain element against any current type domain restrictions. A failure of this check raises a `DomainError`.\n",
    "\n",
    "Things get a bit more complex in terms of their behavior when embedded in complex expressions, but generally things work exactly as you'd expect for both simplification and execution.\n",
    "\n",
    "* When dealing with complex data structures like sets and tuples in python code, there are normalization checks and functions `meta.core.is_concrete` and `meta.core.to_concrete` that let you consistently compare across ways these structures could be represented at the same type (for example, a `ListedSet` of `MetaTerm`s vs. a `MetaTerm` set of domain elements). See the set documentation for more information. This is automatically taken care of in metalanguage expressions.\n",
    "* Functions were discussed above, where application works but has some caveats depending on the backing python type chosen. Compiled functions at concrete types can be safely rewrapped in `MetaTerm`s."
   ]
  }
 ],
 "metadata": {
  "kernelspec": {
   "display_name": "Lambda Notebook (Python 3)",
   "language": "python",
   "name": "lambda-notebook"
  },
  "language_info": {
   "codemirror_mode": {
    "name": "ipython",
    "version": 3
   },
   "file_extension": ".py",
   "mimetype": "text/x-python",
   "name": "python",
   "nbconvert_exporter": "python",
   "pygments_lexer": "ipython3",
   "version": "3.12.0"
  }
 },
 "nbformat": 4,
 "nbformat_minor": 5
}
