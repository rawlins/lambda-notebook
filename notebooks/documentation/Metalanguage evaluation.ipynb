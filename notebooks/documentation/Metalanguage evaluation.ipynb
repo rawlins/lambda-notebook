{
 "cells": [
  {
   "cell_type": "markdown",
   "id": "b427ad89-33d6-4808-a376-97f191d077f8",
   "metadata": {},
   "source": [
    "# Metalanguage evaluation"
   ]
  },
  {
   "cell_type": "markdown",
   "id": "ac7dae0a-2205-4ee3-aba0-ba68607913cd",
   "metadata": {},
   "source": [
    "## Simplification\n",
    "\n",
    "Simplification is a process by which a formula is converted to a simplest equivalent form; the lambda notebook has extensive, but highly imperfect and heuristic, support for automatic simplification. To quote the [SymPy docs](https://docs.sympy.org/latest/tutorials/intro-tutorial/simplification.html): *“simplest” is not a well-defined term*.\n",
    "\n",
    "### What is simplification?\n",
    "\n",
    "To illustrate, consider double negation:"
   ]
  },
  {
   "cell_type": "code",
   "execution_count": 1,
   "id": "0875f47b-dbb7-4222-aacd-a70fd8f73665",
   "metadata": {},
   "outputs": [
    {
     "data": {
      "text/latex": [
       "$\\neg{} \\neg{} {p}_{t}$"
      ],
      "text/plain": [
       "¬¬p_t"
      ]
     },
     "execution_count": 1,
     "metadata": {},
     "output_type": "execute_result"
    }
   ],
   "source": [
    "%te ~~p_t"
   ]
  },
  {
   "cell_type": "markdown",
   "id": "fda10321-5ad1-406f-b2e6-b45a35fbd35b",
   "metadata": {},
   "source": [
    "If double negation is classical (which it is by default in the metalanguage), then it is relatively inarguable that this can be simplified: `p_t` is a structurally less complex formula that is easier to read by a human than `~~p`, and the \"heuristic\" corresponds to a standard logical inference rule (double negation elimination; $\\neg \\neg p \\vdash p$). And indeed, the metalanguage can simplify this:"
   ]
  },
  {
   "cell_type": "code",
   "execution_count": 2,
   "id": "d6a25d54-2371-42af-89c4-558cbee00801",
   "metadata": {},
   "outputs": [
    {
     "data": {
      "text/latex": [
       "${p}_{t}$"
      ],
      "text/plain": [
       "p_t"
      ]
     },
     "execution_count": 2,
     "metadata": {},
     "output_type": "execute_result"
    }
   ],
   "source": [
    "%te simplify ~~p_t"
   ]
  },
  {
   "cell_type": "markdown",
   "id": "4393afcd-415d-4ac6-bf44-9a68f84f02f4",
   "metadata": {},
   "source": [
    "(This document heavily uses `_llast` -- as a reminder, when a `%te` magic is used, it exports its value to the notebook scope as the python `_llast`. This is especially handy for examining derivations.)"
   ]
  },
  {
   "cell_type": "code",
   "execution_count": 3,
   "id": "26a5ff4f-2ea1-4b5d-98f6-9f8a251e7c54",
   "metadata": {},
   "outputs": [
    {
     "data": {
      "text/html": [
       "<div align=\"left\" style=\"display:table;\"><div style=\"display:table-cell;vertical-align:top;padding-left:5px;padding-right:5px;padding-top:0.2em\"><div style=\"display:table;\"><div style=\"display:table-row;vertical-align:top;\"><div align=\"left\" style=\"display:table;border-collapse:collapse;\"><div style=\"display:table-row;border-bottom:1px solid #848482;\"><div style=\"display:table-cell;padding:0.2em 5px 0.2em 0px;vertical-align:top;\"></div><div style=\"display:table-cell;vertical-align:top;border-right:1px solid #848482;padding-right:5px;;padding-top:0.2em\"><div style=\"display:inline-block;\"><span>$\\neg{} \\neg{} {p}_{t}$</span></div></div><div style=\"display:table-cell;vertical-align:top;padding-left:5px;padding-right:5px;padding-top:0.2em\"><div style=\"display:table;\"><div style=\"display:table-row;\"><div style=\"white-space:nowrap; color:blue;\"><span>negation elimination</span></div></div></div></div></div><div style=\"display:table-row;\"><div style=\"display:table-cell;padding:0.2em 5px 0.2em 0px;vertical-align:top;\"> 1. </div><div style=\"display:table-cell;vertical-align:top;border-right:1px solid #848482;padding-right:5px;;padding-top:0.2em\"><div style=\"display:inline-block;\"><span>${p}_{t}$</span></div></div></div></div></div></div></div></div>"
      ],
      "text/plain": [
       " 1. ~~p_t    (negation elimination)\n",
       " 2. p_t"
      ]
     },
     "execution_count": 3,
     "metadata": {},
     "output_type": "execute_result"
    }
   ],
   "source": [
    "_llast.derivation"
   ]
  },
  {
   "cell_type": "markdown",
   "id": "76a18692-5f67-4d86-91bb-ca4aa6049f37",
   "metadata": {},
   "source": [
    "Here's a second obvious case, where a redundant conjunct can be eliminated:"
   ]
  },
  {
   "cell_type": "code",
   "execution_count": 4,
   "id": "0bade188-2557-4258-b10b-56899e1b431d",
   "metadata": {},
   "outputs": [
    {
     "data": {
      "text/latex": [
       "${p}_{t} \\wedge{} {q}_{t}$"
      ],
      "text/plain": [
       "(p_t ∧ q_t)"
      ]
     },
     "execution_count": 4,
     "metadata": {},
     "output_type": "execute_result"
    }
   ],
   "source": [
    "%te simplify p_t & (q_t & p_t)"
   ]
  },
  {
   "cell_type": "markdown",
   "id": "428fcf41-b8cf-4874-8ea5-c1fa0fa39be7",
   "metadata": {},
   "source": [
    "Cases like this will automatically simplify as well, though by a slightly complex process, First, sequences of conjuncts are reordered so that identical conjuncts are adjacent (\"alphabetic normalization\"), then conjunction idempotence is checked, and then a binary conjunction expression is reconstructed (\"join\"):"
   ]
  },
  {
   "cell_type": "code",
   "execution_count": 5,
   "id": "eb6aa121-e1a2-4473-a534-5aac86798592",
   "metadata": {},
   "outputs": [
    {
     "data": {
      "text/html": [
       "<div align=\"left\" style=\"display:table;\"><div style=\"display:table-cell;vertical-align:top;padding-left:5px;padding-right:5px;padding-top:0.2em\"><div style=\"display:table;\"><div style=\"display:table-row;vertical-align:top;\"><div align=\"left\" style=\"display:table;border-collapse:collapse;\"><div style=\"display:table-row;border-bottom:1px solid #848482;\"><div style=\"display:table-cell;padding:0.2em 5px 0.2em 0px;vertical-align:top;\"></div><div style=\"display:table-cell;vertical-align:top;border-right:1px solid #848482;padding-right:5px;;padding-top:0.2em\"><div style=\"display:inline-block;\"><span>${p}_{t} \\wedge{} ({q}_{t} \\wedge{} {p}_{t})$</span></div></div><div style=\"display:table-cell;vertical-align:top;padding-left:5px;padding-right:5px;padding-top:0.2em\"><div style=\"display:table;\"><div style=\"display:table-row;\"><div style=\"white-space:nowrap; color:blue;\"><span>alphabetic normalization</span></div></div></div></div></div><div style=\"display:table-row;border-bottom:1px solid #848482;\"><div style=\"display:table-cell;padding:0.2em 5px 0.2em 0px;vertical-align:top;\"> 1. </div><div style=\"display:table-cell;vertical-align:top;border-right:1px solid #848482;padding-right:5px;;padding-top:0.2em\"><div style=\"display:inline-block;\"><span>[${p}_{t}$, ${p}_{t}$, ${q}_{t}$]</span></div></div><div style=\"display:table-cell;vertical-align:top;padding-left:5px;padding-right:5px;padding-top:0.2em\"><div style=\"display:table;\"><div style=\"display:table-row;\"><div style=\"white-space:nowrap; color:blue;\"><span>[conjunction (idempotence)]</span></div></div></div></div></div><div style=\"display:table-row;border-bottom:1px solid #848482;\"><div style=\"display:table-cell;padding:0.2em 5px 0.2em 0px;vertical-align:top;\"> 2. </div><div style=\"display:table-cell;vertical-align:top;border-right:1px solid #848482;padding-right:5px;;padding-top:0.2em\"><div style=\"display:inline-block;\"><span>[${p}_{t}$, ${q}_{t}$]</span></div></div><div style=\"display:table-cell;vertical-align:top;padding-left:5px;padding-right:5px;padding-top:0.2em\"><div style=\"display:table;\"><div style=\"display:table-row;\"><div style=\"white-space:nowrap; color:blue;\"><span>join on ∧</span></div></div></div></div></div><div style=\"display:table-row;\"><div style=\"display:table-cell;padding:0.2em 5px 0.2em 0px;vertical-align:top;\"> 3. </div><div style=\"display:table-cell;vertical-align:top;border-right:1px solid #848482;padding-right:5px;;padding-top:0.2em\"><div style=\"display:inline-block;\"><span>${p}_{t} \\wedge{} {q}_{t}$</span></div></div></div></div></div></div></div></div>"
      ],
      "text/plain": [
       " 1. (p_t & (q_t & p_t))    (alphabetic normalization)\n",
       " 2. [p_t, p_t, q_t]    ([conjunction (idempotence)])\n",
       " 3. [p_t, q_t]    (join on ∧)\n",
       " 4. (p_t & q_t)"
      ]
     },
     "execution_count": 5,
     "metadata": {},
     "output_type": "execute_result"
    }
   ],
   "source": [
    "_llast.derivation"
   ]
  },
  {
   "cell_type": "markdown",
   "id": "de9c612b-3998-4067-b47f-8b64cbb084b9",
   "metadata": {},
   "source": [
    "However, now consider the following restricted quantifier expression. As you can see, it does not automatically simplify:"
   ]
  },
  {
   "cell_type": "code",
   "execution_count": 6,
   "id": "f0491c4f-95b8-44f9-b65c-fd536029c96a",
   "metadata": {},
   "outputs": [
    {
     "data": {
      "text/latex": [
       "$\\forall{} x_{e} \\in {\\small \\{\\textsf{c1}_{e}, \\textsf{c2}_{e}, \\textsf{c3}_{e}\\}} \\: . \\: {P}({x})$"
      ],
      "text/plain": [
       "(Forall x_e << {_c3, _c2, _c1}: P_<e,t>(x_e))"
      ]
     },
     "execution_count": 6,
     "metadata": {},
     "output_type": "execute_result"
    }
   ],
   "source": [
    "%te simplify Forall x_e << {_c1, _c2, _c3} : P_<e,t>(x)"
   ]
  },
  {
   "cell_type": "markdown",
   "id": "70b88340-56b1-4f01-a3b9-083cda560782",
   "metadata": {},
   "source": [
    "However, this expression plainly *can* be converted to a non-quantified expression; it is equivalent to a conjunction. This can be forced:"
   ]
  },
  {
   "cell_type": "code",
   "execution_count": 7,
   "id": "4f1fd4cf-fc2e-4f31-83d1-d9ee0c36caef",
   "metadata": {},
   "outputs": [
    {
     "data": {
      "text/latex": [
       "${P}(\\textsf{c1}_{e}) \\wedge{} {P}(\\textsf{c2}_{e}) \\wedge{} {P}(\\textsf{c3}_{e})$"
      ],
      "text/plain": [
       "((P_<e,t>(_c1) ∧ P_<e,t>(_c2)) ∧ P_<e,t>(_c3))"
      ]
     },
     "execution_count": 7,
     "metadata": {},
     "output_type": "execute_result"
    }
   ],
   "source": [
    "_llast.simplify_all(eliminate_quantifiers=True)"
   ]
  },
  {
   "cell_type": "markdown",
   "id": "1a93ca07-6e33-4d9f-89ee-29d7699647ba",
   "metadata": {},
   "source": [
    "Is the result simpler? The answer is much more equivocal than the double negation case. Technically, it is a few characters shorter in latex form (though at the time of writing, the two have identical length `repr`s, 45 characters), and some might find it easier to read (it is a more standard classical predicate logic expression). It's not structurally simpler (the quantified expression has a flatter tree). In some contexts, especially if the restriction is derived, it may not capture the original intent of the formula. Moreover, as the restrictor size grows, the complexity relation between the two formulas changes. For all these reasons, the metalanguage simplification system will not aggressively eliminate quantifiers. Rather, it takes a **heuristic** approach: if the domain size is known to be <=1, it will apply qauntifier elimination, but otherwise, this must be manually triggered.\n",
    "\n",
    "In general, the real world of automatic simplification is more like this latter case than the former. It is necessarily heuristic, while allowing a human to intervene in certain ways. "
   ]
  },
  {
   "cell_type": "markdown",
   "id": "00261aa9-47bd-4234-9d1d-8bd610545217",
   "metadata": {},
   "source": [
    "### Outcomes of simplification\n",
    "\n",
    "Despite all of the above, there are certain things that are guaranteed by simplification. Here are a few basic facts:\n",
    "\n",
    "* Simplification will return `self` if there is no change (called a \"noop\" at various points in this document), otherwise it will return a modified copy.\n",
    "* Except for certain special cases, simplification failures act like noops. In special cases (e.g. an `Iota` expression not shielded by a `Partial` condition), `lamb.meta.meta.DomainError` may be raised.\n",
    "* Simplification will set or update a value for the member variable `.derivation`\n",
    "\n",
    "There are also certain cases under which simplification is guaranteed to accomplish something. Let us call an expression **concrete** if it can be determined that its atoms consist only of `MetaTerm` elements. In other words: it has no *free terms* (regular constants and variables whose value is not determined to a `MetaTerm` value by an assignment). Let us call an expression **finite-safe** if it can be determined that all quantification-like expressions involve a finite, concrete domain. The metalanguage provides the following guarantee:\n",
    "\n",
    "* All concrete and finite expressions simplify to a single `MetaTerm`.\n",
    "\n",
    "This is perhaps easiest to see for boolean expressions. The following expression does not simplify by default without values for `p` and `q`:"
   ]
  },
  {
   "cell_type": "code",
   "execution_count": 8,
   "id": "c8e20a55-6d0d-4378-9fb0-fe8cdb1dc173",
   "metadata": {},
   "outputs": [
    {
     "data": {
      "text/latex": [
       "$\\neg{} ({p}_{t} \\wedge{} \\neg{} {q}_{t})$"
      ],
      "text/plain": [
       "¬(p_t ∧ ¬q_t)"
      ]
     },
     "execution_count": 8,
     "metadata": {},
     "output_type": "execute_result"
    }
   ],
   "source": [
    "%te simplify ~(p_t & ~q_t)"
   ]
  },
  {
   "cell_type": "markdown",
   "id": "119112d5-bde3-43ae-8df4-9ad0653845b5",
   "metadata": {},
   "source": [
    "However, a similar expression with truth-values instead of variables will simplify (using classical propositional logical inferences):"
   ]
  },
  {
   "cell_type": "code",
   "execution_count": 9,
   "id": "43bf9c44-7710-41d6-aa6a-ad62e494b7ac",
   "metadata": {},
   "outputs": [
    {
     "data": {
      "text/latex": [
       "$\\textsf{True}$"
      ],
      "text/plain": [
       "True"
      ]
     },
     "execution_count": 9,
     "metadata": {},
     "output_type": "execute_result"
    }
   ],
   "source": [
    "%te simplify ~(True & ~True)"
   ]
  },
  {
   "cell_type": "code",
   "execution_count": 10,
   "id": "58789446-a319-4e0c-ab89-e957becb5337",
   "metadata": {},
   "outputs": [
    {
     "data": {
      "text/html": [
       "<div align=\"left\" style=\"display:table;\"><div style=\"display:table-cell;vertical-align:top;padding-left:5px;padding-right:5px;padding-top:0.2em\"><div style=\"display:table;\"><div style=\"display:table-row;vertical-align:top;\"><div align=\"left\" style=\"display:table;border-collapse:collapse;\"><div style=\"display:table-row;border-bottom:1px solid #848482;\"><div style=\"display:table-cell;padding:0.2em 5px 0.2em 0px;vertical-align:top;\"></div><div style=\"display:table-cell;vertical-align:top;border-right:1px solid #848482;padding-right:5px;;padding-top:0.2em\"><div style=\"display:inline-block;\"><span>$\\neg{} (\\textsf{True} \\wedge{} \\neg{} \\textsf{True})$</span></div></div><div style=\"display:table-cell;vertical-align:top;padding-left:5px;padding-right:5px;padding-top:0.2em\"><div style=\"display:table;\"><div style=\"display:table-row;\"><div style=\"white-space:nowrap; color:blue;\"><span>Recursive simplification of operand 0</span></div></div><div style=\"display:table-row;vertical-align:top;\"><div align=\"left\" style=\"display:table;border-collapse:collapse;\"><div style=\"display:table-row;border-bottom:1px solid #848482;\"><div style=\"display:table-cell;padding:0.2em 5px 0.2em 0px;vertical-align:top;\"></div><div style=\"display:table-cell;vertical-align:top;border-right:1px solid #848482;padding-right:5px;;padding-top:0.2em\"><div style=\"display:inline-block;\"><span>$\\textsf{True} \\wedge{} \\neg{} \\textsf{True}$</span></div></div><div style=\"display:table-cell;vertical-align:top;padding-left:5px;padding-right:5px;padding-top:0.2em\"><div style=\"display:table;\"><div style=\"display:table-row;\"><div style=\"white-space:nowrap; color:blue;\"><span>[negation elimination]</span></div></div></div></div></div><div style=\"display:table-row;border-bottom:1px solid #848482;\"><div style=\"display:table-cell;padding:0.2em 5px 0.2em 0px;vertical-align:top;\"> 1. </div><div style=\"display:table-cell;vertical-align:top;border-right:1px solid #848482;padding-right:5px;;padding-top:0.2em\"><div style=\"display:inline-block;\"><span>$\\textsf{True} \\wedge{} \\textsf{False}$</span></div></div><div style=\"display:table-cell;vertical-align:top;padding-left:5px;padding-right:5px;padding-top:0.2em\"><div style=\"display:table;\"><div style=\"display:table-row;\"><div style=\"white-space:nowrap; color:blue;\"><span>conjunction (elimination on `False`)</span></div></div></div></div></div><div style=\"display:table-row;\"><div style=\"display:table-cell;padding:0.2em 5px 0.2em 0px;vertical-align:top;\"> 2. </div><div style=\"display:table-cell;vertical-align:top;border-right:1px solid #848482;padding-right:5px;;padding-top:0.2em\"><div style=\"display:inline-block;\"><span>$\\textsf{False}$</span></div></div></div></div></div></div></div></div><div style=\"display:table-row;border-bottom:1px solid #848482;\"><div style=\"display:table-cell;padding:0.2em 5px 0.2em 0px;vertical-align:top;\"> 1. </div><div style=\"display:table-cell;vertical-align:top;border-right:1px solid #848482;padding-right:5px;;padding-top:0.2em\"><div style=\"display:inline-block;\"><span>$\\neg{} \\textsf{False}$</span></div></div><div style=\"display:table-cell;vertical-align:top;padding-left:5px;padding-right:5px;padding-top:0.2em\"><div style=\"display:table;\"><div style=\"display:table-row;\"><div style=\"white-space:nowrap; color:blue;\"><span>negation elimination</span></div></div></div></div></div><div style=\"display:table-row;\"><div style=\"display:table-cell;padding:0.2em 5px 0.2em 0px;vertical-align:top;\"> 2. </div><div style=\"display:table-cell;vertical-align:top;border-right:1px solid #848482;padding-right:5px;;padding-top:0.2em\"><div style=\"display:inline-block;\"><span>$\\textsf{True}$</span></div></div></div></div></div></div></div></div>"
      ],
      "text/plain": [
       "DisplayNode instance: HTML rendering only"
      ]
     },
     "execution_count": 10,
     "metadata": {},
     "output_type": "execute_result"
    }
   ],
   "source": [
    "_llast.derivation.trace()"
   ]
  },
  {
   "cell_type": "markdown",
   "id": "afbb1288-e94a-4745-b176-5162bc7a0c8d",
   "metadata": {},
   "source": [
    "This guarantee, as noted above, includes quantified expressions as long as the domain can be determined to be finite. (For more on setting domain restrictions, see the documentation on *Domain elements and MetaTerms*, as well as the section on Models below.) To illustrate this, we can simply use the domain for `t`:"
   ]
  },
  {
   "cell_type": "code",
   "execution_count": 11,
   "id": "5effac11-6c62-4950-995c-33b22b1dd457",
   "metadata": {},
   "outputs": [
    {
     "data": {
      "text/latex": [
       "$\\textsf{True}$"
      ],
      "text/plain": [
       "True"
      ]
     },
     "execution_count": 11,
     "metadata": {},
     "output_type": "execute_result"
    }
   ],
   "source": [
    "%te simplify Exists p_t : ~p"
   ]
  },
  {
   "cell_type": "markdown",
   "id": "7470bcdd-71cd-44b5-9806-d17ab7b8bfa2",
   "metadata": {},
   "source": [
    "Simplification here simply iterates over the domain `{True, False}` and checks the formula for every value of `p`, straightforwardly finding a verifier:"
   ]
  },
  {
   "cell_type": "code",
   "execution_count": 12,
   "id": "6f67e975-4d77-4b63-a00d-0674effa376a",
   "metadata": {},
   "outputs": [
    {
     "data": {
      "text/html": [
       "<div align=\"left\" style=\"display:table;\"><div style=\"display:table-cell;vertical-align:top;padding-left:5px;padding-right:5px;padding-top:0.2em\"><div style=\"display:table;\"><div style=\"display:table-row;vertical-align:top;\"><div align=\"left\" style=\"display:table;border-collapse:collapse;\"><div style=\"display:table-row;border-bottom:1px solid #848482;\"><div style=\"display:table-cell;padding:0.2em 5px 0.2em 0px;vertical-align:top;\"></div><div style=\"display:table-cell;vertical-align:top;border-right:1px solid #848482;padding-right:5px;;padding-top:0.2em\"><div style=\"display:inline-block;\"><span>$\\exists{} p_{t} \\: . \\: \\neg{} {p}$</span></div></div><div style=\"display:table-cell;vertical-align:top;padding-left:5px;padding-right:5px;padding-top:0.2em\"><div style=\"display:table;\"><div style=\"display:table-row;\"><div style=\"white-space:nowrap; color:blue;\"><span>verifier for ∃p</span></div></div><div style=\"display:table-row;vertical-align:top;\"><div align=\"left\" style=\"display:table;border-collapse:collapse;\"><div style=\"display:table-row;border-bottom:1px solid #848482;\"><div style=\"display:table-cell;padding:0.2em 5px 0.2em 0px;vertical-align:top;\"></div><div style=\"display:table-cell;vertical-align:top;border-right:1px solid #848482;padding-right:5px;;padding-top:0.2em\"><div style=\"display:inline-block;\"><span>$\\neg{} {p}_{t}$</span></div></div><div style=\"display:table-cell;vertical-align:top;padding-left:5px;padding-right:5px;padding-top:0.2em\"><div style=\"display:table;\"><div style=\"display:table-row;\"><div style=\"white-space:nowrap; color:blue;\"><span>Assignment substitution</span></div></div></div></div></div><div style=\"display:table-row;border-bottom:1px solid #848482;\"><div style=\"display:table-cell;padding:0.2em 5px 0.2em 0px;vertical-align:top;\"> 1. </div><div style=\"display:table-cell;vertical-align:top;border-right:1px solid #848482;padding-right:5px;;padding-top:0.2em\"><div style=\"display:inline-block;\"><span>$\\neg{} {p}^{\\textsf{False}}_{t}$</span></div></div><div style=\"display:table-cell;vertical-align:top;padding-left:5px;padding-right:5px;padding-top:0.2em\"><div style=\"display:table;\"><div style=\"display:table-row;\"><div style=\"white-space:nowrap; color:blue;\"><span>negation elimination</span></div></div></div></div></div><div style=\"display:table-row;\"><div style=\"display:table-cell;padding:0.2em 5px 0.2em 0px;vertical-align:top;\"> 2. </div><div style=\"display:table-cell;vertical-align:top;border-right:1px solid #848482;padding-right:5px;;padding-top:0.2em\"><div style=\"display:inline-block;\"><span>$\\textsf{True}$</span></div></div></div></div></div></div></div></div><div style=\"display:table-row;\"><div style=\"display:table-cell;padding:0.2em 5px 0.2em 0px;vertical-align:top;\"> 1. </div><div style=\"display:table-cell;vertical-align:top;border-right:1px solid #848482;padding-right:5px;;padding-top:0.2em\"><div style=\"display:inline-block;\"><span>$\\textsf{True}$</span></div></div></div></div></div></div></div></div>"
      ],
      "text/plain": [
       "DisplayNode instance: HTML rendering only"
      ]
     },
     "execution_count": 12,
     "metadata": {},
     "output_type": "execute_result"
    }
   ],
   "source": [
    "_llast.derivation.trace()"
   ]
  },
  {
   "cell_type": "markdown",
   "id": "65e21e56-fa47-41f7-bad8-b71b80fee029",
   "metadata": {},
   "source": [
    "Here's another example; this illustrates another point about quantification as well as a very general point about simplification. Simplification doesn't always find the path you might expect."
   ]
  },
  {
   "cell_type": "code",
   "execution_count": 13,
   "id": "c342ae3d-111a-4b86-9a77-db0eabf5d38c",
   "metadata": {},
   "outputs": [
    {
     "data": {
      "text/latex": [
       "$\\textsf{True}$"
      ],
      "text/plain": [
       "True"
      ]
     },
     "execution_count": 13,
     "metadata": {},
     "output_type": "execute_result"
    }
   ],
   "source": [
    "%te simplify Forall p_t : p | ~p"
   ]
  },
  {
   "cell_type": "markdown",
   "id": "49fe5c84-aefb-41b3-9baa-76b03f25155e",
   "metadata": {},
   "source": [
    " From the above example, you may be in a mindset of iteration over the domain. This formula could be simplified this way, but it needn't be. In this case, the subformula `p | ~p` can be simplified on its own terms via the law of the excluded middle, leading to quantified expression with no bound variables in the body. Such quantified expressions are also guaranteed to simplify (modulo certain cases where the domain size matters and can't be determined from the formula):"
   ]
  },
  {
   "cell_type": "code",
   "execution_count": 14,
   "id": "a0ead46b-bd61-4634-9180-ff2c3d666a5a",
   "metadata": {},
   "outputs": [
    {
     "data": {
      "text/html": [
       "<div align=\"left\" style=\"display:table;\"><div style=\"display:table-cell;vertical-align:top;padding-left:5px;padding-right:5px;padding-top:0.2em\"><div style=\"display:table;\"><div style=\"display:table-row;vertical-align:top;\"><div align=\"left\" style=\"display:table;border-collapse:collapse;\"><div style=\"display:table-row;border-bottom:1px solid #848482;\"><div style=\"display:table-cell;padding:0.2em 5px 0.2em 0px;vertical-align:top;\"></div><div style=\"display:table-cell;vertical-align:top;border-right:1px solid #848482;padding-right:5px;;padding-top:0.2em\"><div style=\"display:inline-block;\"><span>$\\forall{} p_{t} \\: . \\: {p} \\vee{} \\neg{} {p}$</span></div></div><div style=\"display:table-cell;vertical-align:top;padding-left:5px;padding-right:5px;padding-top:0.2em\"><div style=\"display:table;\"><div style=\"display:table-row;\"><div style=\"white-space:nowrap; color:blue;\"><span>[excluded middle]</span></div></div></div></div></div><div style=\"display:table-row;border-bottom:1px solid #848482;\"><div style=\"display:table-cell;padding:0.2em 5px 0.2em 0px;vertical-align:top;\"> 1. </div><div style=\"display:table-cell;vertical-align:top;border-right:1px solid #848482;padding-right:5px;;padding-top:0.2em\"><div style=\"display:inline-block;\"><span>$\\forall{} p_{t} \\: . \\: \\textsf{True}$</span></div></div><div style=\"display:table-cell;vertical-align:top;padding-left:5px;padding-right:5px;padding-top:0.2em\"><div style=\"display:table;\"><div style=\"display:table-row;\"><div style=\"white-space:nowrap; color:blue;\"><span>trivial ∀ elimination</span></div></div></div></div></div><div style=\"display:table-row;\"><div style=\"display:table-cell;padding:0.2em 5px 0.2em 0px;vertical-align:top;\"> 2. </div><div style=\"display:table-cell;vertical-align:top;border-right:1px solid #848482;padding-right:5px;;padding-top:0.2em\"><div style=\"display:inline-block;\"><span>$\\textsf{True}$</span></div></div></div></div></div></div></div></div>"
      ],
      "text/plain": [
       " 1. (Forall p_t: (p_t | ~p_t))    ([excluded middle])\n",
       " 2. (Forall p_t: True)    (trivial ∀ elimination)\n",
       " 3. True"
      ]
     },
     "execution_count": 14,
     "metadata": {},
     "output_type": "execute_result"
    }
   ],
   "source": [
    "_llast.derivation"
   ]
  },
  {
   "cell_type": "markdown",
   "id": "1d486183-e3fd-4daf-a535-baa6e5fa3020",
   "metadata": {},
   "source": [
    "### Invoking simplification\n",
    "\n",
    "There are several ways of invoking simplification, as well as many cases where it is invoked automatically.\n",
    "\n",
    "1. In most `lamb.lang` contexts (e.g. `%%lamb` magics, composition) it is invoked automatically. This includes reduction.\n",
    "2. In `%te` magics, it is not automatic, but can be triggered via the `simplify` option as illustrated above.\n",
    "3. It can be triggered on `TypedExpr` objects directly via the member function `simplify_all` function as a primary interface, with a number of related functions discussed below.\n",
    "4. It can be triggered on `TypedExpr` objects via the function `meta.simplify_all` (note: this is really an alias to `meta.ply.simplify_all`)\n",
    "\n",
    "In general, `%te simplify stuff` is equivalent to `te(\"stuff\").simplify_all()` or the equivalent absolute function call:"
   ]
  },
  {
   "cell_type": "code",
   "execution_count": 15,
   "id": "fee7aba7-2ba1-4082-bbbf-0255b4cf5c0f",
   "metadata": {},
   "outputs": [
    {
     "data": {
      "text/latex": [
       "${p}_{t}$"
      ],
      "text/plain": [
       "p_t"
      ]
     },
     "execution_count": 15,
     "metadata": {},
     "output_type": "execute_result"
    }
   ],
   "source": [
    "te(\"~~p_t\").simplify_all()"
   ]
  },
  {
   "cell_type": "code",
   "execution_count": 16,
   "id": "38ce19ac-02e2-4ca8-805c-db48486ae165",
   "metadata": {},
   "outputs": [
    {
     "data": {
      "text/latex": [
       "${p}_{t}$"
      ],
      "text/plain": [
       "p_t"
      ]
     },
     "execution_count": 16,
     "metadata": {},
     "output_type": "execute_result"
    }
   ],
   "source": [
    "meta.simplify_all(te(\"~~p_t\"))"
   ]
  },
  {
   "cell_type": "markdown",
   "id": "8f4b01fd-d12e-48f1-8bc5-cc72881948dc",
   "metadata": {},
   "source": [
    "The function call versions support a number of options via named parameters. For example, `.simplify_all(reduce=True)` recursively applies beta reduction; equivalent to first calling `reduce_all()` as below.\n",
    "\n",
    "* `reduce`: do all beta reductions (default: `False`)\n",
    "* `evaluate`: if possible, evaluate certain expressions (mainly quantifiers) when they can be finitely checked against `MetaTerms`. (default: `True`)\n",
    "* `collect`: for associative operators, do simplification strategies that can be applied to an entire sequence, rather than a pairwise sequence. (See `meta.ply.collect`, discussed below.) (default: `True`)\n",
    "* `alphanorm`: do \"alphabetic normalization\", i.e. reorder terms so that they are in a stable order. Disabled by `collect=False`. (Default: `True`)\n",
    "* `eliminate_sets`: try to eliminate set expressions where possible, typically be replacing them with quantified expressions. This uses set class `eliminate()` implementations (see discussion of `eliminate()` below). Eliminating sets is not always possible, and can make the formula unreadable by a human when it is possible. (Default: `False`)\n",
    "* `eliminate_sets_all`: apply regular `eliminate_sets` strategies, with the addition of eliminating arbitrary finite `<<` expressions. These can always be eliminated by conversion to disjunctions  of equalities, but past cardinality ` are almost always guaranteed to make the formula more complex and less readable. (Default: `False`)\n",
    "* `strict_charfuns`: when evaluating `MetaTerm` functions, whether to take mapping-based functions to be strict or not. If such a function is strict, it will raise `DomainError` when supplied a value not in its domain, otherwise it will return `False`. See discussion under *Models* below. (default: `True`)\n",
    "\n",
    "All `TypedExpr` objects support the following related member functions, which may be noops:\n",
    "\n",
    "**Reduction**\n",
    "\n",
    "* `reduce_all`: recursively do all beta reductions in the expression (also triggerable via `reduce=True`).\n",
    "* `reduce()` will do a single reduction step, and is a noop on `TypedExpr` expressions that are not directly reducible.\n",
    "* `subreduce()`: given a *path* (consisting of a tuple of `int`s that provide indices into the expression's AST), do reduction of a subformula.\n",
    "\n",
    "**Elimination**\n",
    "\n",
    "* `eliminate()`: for classes where this is defined, eliminate the main operator (somehow) if present. This is heterogenous. For example, calling `.eliminate()` on a universally quantified expression, if the domain is finite, will convert it to a conjunction. This is often a noop.\n",
    "\n",
    "As another example, `ExistsExact` has an `eliminate` implementation that converts it to a standard quantified expression using regular `Exists` and `Forall`. This is of course further eliminable in many cases."
   ]
  },
  {
   "cell_type": "code",
   "execution_count": 17,
   "id": "ae7677e9-dbe3-4ecf-972c-0806511f9fe0",
   "metadata": {},
   "outputs": [
    {
     "data": {
      "text/latex": [
       "$\\exists{} p_{t} \\: . \\: {p} \\wedge{} (\\forall{} p1_{t} \\: . \\: {p1} \\rightarrow{} ({p} \\leftrightarrow{} {p1}))$"
      ],
      "text/plain": [
       "(Exists p_t: (p_t & (Forall p1_t: (p1_t >> (p_t <=> p1_t)))))"
      ]
     },
     "execution_count": 17,
     "metadata": {},
     "output_type": "execute_result"
    }
   ],
   "source": [
    "te(\"ExistsExact p_t: p_t\").eliminate()"
   ]
  },
  {
   "cell_type": "code",
   "execution_count": 18,
   "id": "16088755-1fbb-458a-b5d4-15221d2f3133",
   "metadata": {},
   "outputs": [
    {
     "data": {
      "text/html": [
       "<div align=\"left\" style=\"display:table;\"><div style=\"display:table-cell;vertical-align:top;padding-left:5px;padding-right:5px;padding-top:0.2em\"><div style=\"display:table;\"><div style=\"display:table-row;vertical-align:top;\"><div align=\"left\" style=\"display:table;border-collapse:collapse;\"><div style=\"display:table-row;border-bottom:1px solid #848482;\"><div style=\"display:table-cell;padding:0.2em 5px 0.2em 0px;vertical-align:top;\"></div><div style=\"display:table-cell;vertical-align:top;border-right:1px solid #848482;padding-right:5px;;padding-top:0.2em\"><div style=\"display:inline-block;\"><span>$\\exists{}! p_{t} \\: . \\: {p}$</span></div></div><div style=\"display:table-cell;vertical-align:top;padding-left:5px;padding-right:5px;padding-top:0.2em\"><div style=\"display:table;\"><div style=\"display:table-row;\"><div style=\"white-space:nowrap; color:blue;\"><span>∃! elimination</span></div></div></div></div></div><div style=\"display:table-row;border-bottom:1px solid #848482;\"><div style=\"display:table-cell;padding:0.2em 5px 0.2em 0px;vertical-align:top;\"> 1. </div><div style=\"display:table-cell;vertical-align:top;border-right:1px solid #848482;padding-right:5px;;padding-top:0.2em\"><div style=\"display:inline-block;\"><span>$\\exists{} p_{t} \\: . \\: {p} \\wedge{} (\\forall{} p1_{t} \\: . \\: {p1} \\rightarrow{} ({p} \\leftrightarrow{} {p1}))$</span></div></div><div style=\"display:table-cell;vertical-align:top;padding-left:5px;padding-right:5px;padding-top:0.2em\"><div style=\"display:table;\"><div style=\"display:table-row;\"><div style=\"white-space:nowrap; color:blue;\"><span>∃p =&gt; ∨</span></div></div></div></div></div><div style=\"display:table-row;border-bottom:1px solid #848482;\"><div style=\"display:table-cell;padding:0.2em 5px 0.2em 0px;vertical-align:top;\"> 2. </div><div style=\"display:table-cell;vertical-align:top;border-right:1px solid #848482;padding-right:5px;;padding-top:0.2em\"><div style=\"display:inline-block;\"><span>$(\\textsf{False} \\wedge{} (\\forall{} p1_{t} \\: . \\: {p1} \\rightarrow{} (\\textsf{False} \\leftrightarrow{} {p1}))) \\vee{} (\\textsf{True} \\wedge{} (\\forall{} p1_{t} \\: . \\: {p1} \\rightarrow{} (\\textsf{True} \\leftrightarrow{} {p1})))$</span></div></div><div style=\"display:table-cell;vertical-align:top;padding-left:5px;padding-right:5px;padding-top:0.2em\"><div style=\"display:table;\"><div style=\"display:table-row;\"><div style=\"white-space:nowrap; color:blue;\"><span>Recursive simplification of operand 0</span></div></div></div></div></div><div style=\"display:table-row;border-bottom:1px solid #848482;\"><div style=\"display:table-cell;padding:0.2em 5px 0.2em 0px;vertical-align:top;\"> 3. </div><div style=\"display:table-cell;vertical-align:top;border-right:1px solid #848482;padding-right:5px;;padding-top:0.2em\"><div style=\"display:inline-block;\"><span>$\\textsf{False} \\vee{} (\\textsf{True} \\wedge{} (\\forall{} p1_{t} \\: . \\: {p1} \\rightarrow{} (\\textsf{True} \\leftrightarrow{} {p1})))$</span></div></div><div style=\"display:table-cell;vertical-align:top;padding-left:5px;padding-right:5px;padding-top:0.2em\"><div style=\"display:table;\"><div style=\"display:table-row;\"><div style=\"white-space:nowrap; color:blue;\"><span>Recursive simplification of operand 1</span></div></div></div></div></div><div style=\"display:table-row;border-bottom:1px solid #848482;\"><div style=\"display:table-cell;padding:0.2em 5px 0.2em 0px;vertical-align:top;\"> 4. </div><div style=\"display:table-cell;vertical-align:top;border-right:1px solid #848482;padding-right:5px;;padding-top:0.2em\"><div style=\"display:inline-block;\"><span>$\\textsf{False} \\vee{} \\textsf{True}$</span></div></div><div style=\"display:table-cell;vertical-align:top;padding-left:5px;padding-right:5px;padding-top:0.2em\"><div style=\"display:table;\"><div style=\"display:table-row;\"><div style=\"white-space:nowrap; color:blue;\"><span>disjunction (elimination on `True`)</span></div></div></div></div></div><div style=\"display:table-row;\"><div style=\"display:table-cell;padding:0.2em 5px 0.2em 0px;vertical-align:top;\"> 5. </div><div style=\"display:table-cell;vertical-align:top;border-right:1px solid #848482;padding-right:5px;;padding-top:0.2em\"><div style=\"display:inline-block;\"><span>$\\textsf{True}$</span></div></div></div></div></div></div></div></div>"
      ],
      "text/plain": [
       " 1. (ExistsExact p_t: p_t)    (∃! elimination)\n",
       " 2. (Exists p_t: (p_t & (Forall p1_t: (p1_t >> (p_t <=> p1_t)))))    (∃p => ∨)\n",
       " 3. ((False & (Forall p1_t: (p1_t >> (False <=> p1_t)))) | (True & (Forall p1_t: (p1_t >> (True <=> p1_t)))))    (Recursive simplification of operand 0)\n",
       " 4. (False | (True & (Forall p1_t: (p1_t >> (True <=> p1_t)))))    (Recursive simplification of operand 1)\n",
       " 5. (False | True)    (disjunction (elimination on `True`))\n",
       " 6. True"
      ]
     },
     "execution_count": 18,
     "metadata": {},
     "output_type": "execute_result"
    }
   ],
   "source": [
    "te(\"ExistsExact p_t: p_t\").simplify_all(eliminate_quantifiers=True).derivation # the full .trace() is a bit unwieldy"
   ]
  },
  {
   "cell_type": "markdown",
   "id": "013678d0-124d-4f60-aa6d-bf9668a1d137",
   "metadata": {},
   "source": [
    "**Partiality**\n",
    "\n",
    "* `calculate_partiality()`: If there are `Partial` subexpressions, do inference to project them to the expression this is called on. For example, in the following case a `False` condition on a subexpression is projected to the main expression:"
   ]
  },
  {
   "cell_type": "code",
   "execution_count": 19,
   "id": "d46ca41c-1eb8-4b45-adb7-6be8433d85e2",
   "metadata": {},
   "outputs": [
    {
     "data": {
      "text/latex": [
       "$\\left|\\begin{array}{l}\\xcancel{{p}_{t} \\wedge{} {q}_{t}}\\\\\\textsf{False}\\end{array}\\right|$"
      ],
      "text/plain": [
       "Partial((p_t & q_t), False)"
      ]
     },
     "execution_count": 19,
     "metadata": {},
     "output_type": "execute_result"
    }
   ],
   "source": [
    "te(\"p_t & Partial(q_t, False)\").calculate_partiality()"
   ]
  },
  {
   "cell_type": "code",
   "execution_count": 20,
   "id": "415e0710-3004-4d40-b109-6ec06962cce0",
   "metadata": {},
   "outputs": [
    {
     "data": {
      "text/latex": [
       "$\\left|\\begin{array}{l}\\xcancel{{q}_{t}}\\\\\\textsf{False}\\end{array}\\right| \\wedge{} {p}_{t}$"
      ],
      "text/plain": [
       "(Partial(q_t, False) ∧ p_t)"
      ]
     },
     "execution_count": 20,
     "metadata": {},
     "output_type": "execute_result"
    }
   ],
   "source": [
    "te(\"p_t & Partial(q_t, False)\").simplify_all()"
   ]
  },
  {
   "cell_type": "markdown",
   "id": "7775bf22-00c7-4632-a486-29bf62f9cdcc",
   "metadata": {},
   "source": [
    "## Execution and compilation\n",
    "\n",
    "Simplification is generally not aimed at efficiency, but rather human understanding, and can be relatively slow. This is because simplification involves (a) step-wise transformation of formulas, and (b) tracking of derivation history at every point. For simplification sequences that involve many steps, these two factors can add substantial algorithmic overhead.\n",
    "\n",
    "In cases where the goal is fast evaluation of a **concrete** formula (i.e. one with all free terms valued), the compilation/execution system provides an alternative. Essentially, given a parsed (and therefore type-safe) metalanguage expression, this system allows the expression to be \"compiled\" into reasonably fast python code that no longer has any of the overhead associated with metalanguage simplification or the type system. (It will still have greater overhead than writing comparable python code directly.)\n",
    "\n",
    "### What is execution/compilation?\n",
    "\n",
    "Consider the following simple metalanguage function, which is already concrete, so is guaranteed to simplify."
   ]
  },
  {
   "cell_type": "code",
   "execution_count": 21,
   "id": "76823e05-7b7e-4a84-ad3c-efaaaacfba96",
   "metadata": {},
   "outputs": [
    {
     "name": "stdout",
     "output_type": "stream",
     "text": [
      "CPU times: user 1.03 ms, sys: 21 µs, total: 1.05 ms\n",
      "Wall time: 1.06 ms\n"
     ]
    },
    {
     "data": {
      "text/latex": [
       "$\\textsf{40}$"
      ],
      "text/plain": [
       "40"
      ]
     },
     "execution_count": 21,
     "metadata": {},
     "output_type": "execute_result"
    }
   ],
   "source": [
    "f = %te L x_n : x * 2\n",
    "%time f(20).simplify_all(reduce=True)\n",
    "# use %timeit for a more accurate (but more time-consuming to gather) estimate.\n",
    "# >>>%timeit f(20).simplify_all(reduce=True)\n",
    "# 125 µs ± 668 ns per loop (mean ± std. dev. of 7 runs, 10,000 loops each)"
   ]
  },
  {
   "cell_type": "markdown",
   "id": "8942cbc3-f063-4c6f-a448-e321c6c71719",
   "metadata": {},
   "source": [
    "Simplification here is already fast enough to not be perceptible to a human (so this is a toy example for compilation). However, it can be observed that the raw compiled form, accessible via `lamb.meta.meta.compiled`, tends to be approximately 2 orders of magnitude faster."
   ]
  },
  {
   "cell_type": "code",
   "execution_count": 22,
   "id": "fc7cf031-d045-494f-9939-5391847a1b2e",
   "metadata": {},
   "outputs": [
    {
     "name": "stdout",
     "output_type": "stream",
     "text": [
      "CPU times: user 26 µs, sys: 1 µs, total: 27 µs\n",
      "Wall time: 29.8 µs\n"
     ]
    },
    {
     "data": {
      "text/plain": [
       "20"
      ]
     },
     "execution_count": 22,
     "metadata": {},
     "output_type": "execute_result"
    }
   ],
   "source": [
    "compiled_f = meta.compiled(f, with_context={})\n",
    "%time compiled_f(10)\n",
    "# >>>%timeit compiled_f(10)\n",
    "# 1.07 µs ± 2.85 ns per loop (mean ± std. dev. of 7 runs, 1,000,000 loops each)"
   ]
  },
  {
   "cell_type": "markdown",
   "id": "1734e33e-01da-49cc-91f4-e2352d5ca494",
   "metadata": {},
   "source": [
    "Of course, for this toy example raw python code is easy to write and is yet again several orders of magnitude faster (`%timeit` for a simple equivalent closure reports `61.8 ns` on the same device that generated the above comments.) So the point of this is not generally to replace python code. Rather, the use of compilation is when writing type-safe/statically typed logic-oriented code that it may be useful to run many times.\n",
    "\n",
    "As an example, here is an implementation of a version of Kratzer's ordering relation on possible worlds. Given some set of propositions and two worlds, it calculates which world is closer to the \"ideal\" determined by maximal consistent sets of those premises. This relation is very easy to write in the metalanguage in a way that directly corresponds to what is written in papers in the literature. It would be quite a bit less easy to implement this ordering relation as regular python code in a way that is type-safe, convertable to a formula, integrates with other metalanguage code, etc."
   ]
  },
  {
   "cell_type": "code",
   "execution_count": 23,
   "id": "d391d227-b5af-4300-a55a-638bbdc4f8c8",
   "metadata": {},
   "outputs": [
    {
     "data": {
      "text/latex": [
       "$\\lambda{} prem_{\\left\\{\\left\\{s\\right\\}\\right\\}} \\: . \\: \\lambda{} w1_{s} \\: . \\: \\lambda{} w2_{s} \\: . \\: \\{{p}_{\\left\\{s\\right\\}} \\:|\\: ({p}_{\\left\\{s\\right\\}} \\in{} {prem}) \\wedge{} ({w1} \\in{} {p}_{\\left\\{s\\right\\}})\\} \\subset{} \\{{p}_{\\left\\{s\\right\\}} \\:|\\: ({p}_{\\left\\{s\\right\\}} \\in{} {prem}) \\wedge{} ({w2} \\in{} {p}_{\\left\\{s\\right\\}})\\}$"
      ],
      "text/plain": [
       "(λ prem_{{s}}: (λ w1_s: (λ w2_s: ((Set p_{s}: ((p_{s} << prem_{{s}}) & (w1_s << p_{s}))) < (Set p_{s}: ((p_{s} << prem_{{s}}) & (w2_s << p_{s})))))))"
      ]
     },
     "execution_count": 23,
     "metadata": {},
     "output_type": "execute_result"
    }
   ],
   "source": [
    "type_s = types.BasicType(\"s\")\n",
    "# finite restriction to 8 worlds\n",
    "lang.get_system().add_basic_type(type_s)\n",
    "type_s.domain = type_s.get_subdomain(count=2**3)\n",
    "order = %te L prem_{{s}} : L w1_s : L w2_s : (Set p_{s} : p << prem & w1 << p) < (Set p_{s} : p << prem & w2 << p)\n",
    "order"
   ]
  },
  {
   "cell_type": "markdown",
   "id": "c0dcc5fd-b0ba-4c69-b172-788950abd263",
   "metadata": {},
   "source": [
    "Unfortunately, simplification of this function with arguments is relatively slow; one call on a relatively fast computer at the time of writing is in the 200-300ms range, above the threshold of human perceptability. Even worse, this function needs to be checked against many values to be used as it is in the literature (as the \"core\" of an ordering semantics for modals)."
   ]
  },
  {
   "cell_type": "code",
   "execution_count": 24,
   "id": "fd5ae07d-d95e-4ff8-adf4-e213375c70c8",
   "metadata": {},
   "outputs": [
    {
     "name": "stdout",
     "output_type": "stream",
     "text": [
      "CPU times: user 272 ms, sys: 3.32 ms, total: 275 ms\n",
      "Wall time: 274 ms\n"
     ]
    },
    {
     "data": {
      "text/latex": [
       "$\\textsf{True}$"
      ],
      "text/plain": [
       "True"
      ]
     },
     "execution_count": 24,
     "metadata": {},
     "output_type": "execute_result"
    }
   ],
   "source": [
    "# pick some arbitrary arguments\n",
    "p1 = %te {_w0, _w1, _w2, _w3}\n",
    "p2 = %te {_w0, _w1, _w4, _w5}\n",
    "w1 = %te _w1\n",
    "w2 = %te _w2\n",
    "# this can be made even worse via `eliminate_sets_all=True`, adding about another order of magnitude\n",
    "%time order({p1, p2})(w2)(w1).simplify_all(reduce=True, eliminate_sets=True)\n",
    "# >>>%timeit order({p1, p2})(w2)(w1).simplify_all(reduce=True, eliminate_sets=True)\n",
    "# 257 ms ± 3 ms per loop (mean ± std. dev. of 7 runs, 1 loop each)"
   ]
  },
  {
   "cell_type": "markdown",
   "id": "34f0a895-f185-4980-aa8c-56add09fe8f5",
   "metadata": {},
   "source": [
    "Of course, there may be ways to improve simplification (and contributions to the project along these lines are very welcome). But rather than worrying about this, we can simply compile this function and get much, much better performance; compiled metalanguage code provides something like an in-principle bound for how fast simplification could be, given current implementations of the operators in question."
   ]
  },
  {
   "cell_type": "code",
   "execution_count": 25,
   "id": "44b90a09-9157-4d4d-aed6-830738995222",
   "metadata": {},
   "outputs": [
    {
     "name": "stdout",
     "output_type": "stream",
     "text": [
      "CPU times: user 1.36 ms, sys: 293 µs, total: 1.65 ms\n",
      "Wall time: 1.37 ms\n"
     ]
    },
    {
     "data": {
      "text/plain": [
       "True"
      ]
     },
     "execution_count": 25,
     "metadata": {},
     "output_type": "execute_result"
    }
   ],
   "source": [
    "compiled_order = meta.compiled(order({p1, p2}), with_context={})\n",
    "compiled_w1 = meta.compiled(w1, with_context={})\n",
    "compiled_w2 = meta.compiled(w2, with_context={})\n",
    "%time compiled_order(compiled_w2)(compiled_w1)\n",
    "# >>>%timeit compiled_order(w2)(w1)\n",
    "# 769 µs ± 3.27 µs per loop (mean ± std. dev. of 7 runs, 1,000 loops each)"
   ]
  },
  {
   "cell_type": "markdown",
   "id": "4c058a45-6d3a-4f99-8727-a23faaa889b8",
   "metadata": {},
   "source": [
    "### Invoking compilation and executing compiled metalanguage\n",
    "\n",
    "**Basic compilation**. The direct interface to compilation is the function **`lamb.meta.compiled`** (an alias to **`lamb.meta.meta.compiled`**), as seen in the above examples. This function returns a compiled version of a `TypedExpr` that it is passed; this compiled version is also cached directly on a `TypedExpr` object so that further calls to `compiled` on the same object can just return the cached version. You can override this by supplying `recompiled=True` to this function.\n",
    "\n",
    "Compilation in general takes a `TypedExpr` and produces a function that can be supplied with a *context*. A context is simply a mapping that provides values for any free terms in the expression; executing the compiled expression without valueing all free terms wil result in a `KeyError` being raised. This is very similar to e.g. python `locals()`. No types are checked at the point of supplying a context, and access to the context is lazy. As you can see above, the wrapper function `meta.compiled` can take a pre-provided context via the `with_context` named parameter, which is especially useful for expressions with no free terms. If you set `validate=True`, this function will additionally check that the context supplies all free terms for the expression (with this option set, supplying no context is equivalent to supplying the empty context).\n",
    "\n",
    "If the `TypedExpr` is functional, compilation will produce an object that, after the context is supplied, is a callable. Again, no types will be checked on application. The safest approach is to supply callables of this type with compiled arguments.\n",
    "\n",
    "Advanced: Given some typed expression `e`, `e._compiled` accesses the compiled version of `e`, generating it if necessary.\n",
    "\n",
    "**Compilation wrappers**. Using the above technique is the most speed-conscious way of dealing with compiled `TypedExpr` elements, but it is somewhat error-prone. For this reason there is wrapper code that imposes greater overhead in combination with more sanity checking. The overhead is still less than simplification, especially in involved cases like the ordering semantics example above. The primary interface to this, especially when aiming to produce callables, is **`lamb.meta.exec`** (an alias to **`lamb.meta.meta.exec`**). Given some `TypedExpr` and context, this will validate the context, and wrap the compiled version of the `TypedExpr` in a minimal dynamic type-checker for its function parameters. There are a few other bells and whistles that this document won't go into in detail, such as uncurrying and control of partial application. This function also allows some arguments to be pre-supplied, which will invoke full static type-checking. The context is supplied via named parameters. Here's an example:"
   ]
  },
  {
   "cell_type": "code",
   "execution_count": 26,
   "id": "a5b673f9-51cc-4599-9928-0f8da90c8567",
   "metadata": {},
   "outputs": [
    {
     "data": {
      "text/plain": [
       "True"
      ]
     },
     "execution_count": 26,
     "metadata": {},
     "output_type": "execute_result"
    }
   ],
   "source": [
    "# requires previous cells\n",
    "compiled_order = meta.exec(order, te({p1, p2}))\n",
    "compiled_w1 = meta.exec(w1)\n",
    "compiled_w2 = meta.exec(w2)\n",
    "compiled_order(w2)(w1)\n",
    "# >>>%timeit compiled_order(w2)(w1)\n",
    "# 777 µs ± 7.42 µs per loop (mean ± std. dev. of 7 runs, 1,000 loops each)"
   ]
  },
  {
   "cell_type": "markdown",
   "id": "2e45e21d-3df0-4dd8-8092-cb8b097bc6dc",
   "metadata": {},
   "source": [
    "While the wrapper code generally adds overhead, the overhead is dependent only on the number of arguments, not the complexity of the formula involved, and so it doesn't particularly matter in the case of this example. To disable dynamic type-checking, provide the named parameter `_check_domain=False` to `exec`.\n",
    "\n",
    "One final note: a compiled atomic `MetaTerm` corresponds directly to the underlying domain element (see documentation on MetaTerms and domain elements). So it is entirely possible to provide such arguments directly, rather than go through a compilation stage. For example, `meta.exec(te(\"_w1\"))` is simply the python string `_w1`."
   ]
  },
  {
   "cell_type": "markdown",
   "id": "467ccd71-c3b8-47aa-8de7-6f4eaa399299",
   "metadata": {},
   "source": [
    "## Logical evaluation and assignments\n",
    "\n",
    "By \"evaluation\" in this section, I mean the interpretation of some logical formulas against meta-values for those formulas. We have already seen one way in which evaluation is supported: if a formula consists only of `MetaTerm`s, including via an assignment, then either simplification or execution of compiled code can be used for complete evaluation. This section discusses various pieces of support cord that assist with this."
   ]
  },
  {
   "cell_type": "markdown",
   "id": "f1f606df-b0d0-421b-b412-e2e268aa49ab",
   "metadata": {},
   "source": [
    "### Assignments\n",
    "\n",
    "Assignments in the broad sense have been used throughout this document so they aren't a new concept; in general the word \"assignment\" in the lambda notebook refers to a mapping of *term names* to `TypedExpr` objects. (This is a bit different from how it is used in the linguistics literature, where it often refers to a function of type `<n,e>`.) Both variables and constants are supported in the domain of an assignment; `MetaTerm` names are not. Any such mapping object (e.g. a `dict`) is supported in most places where the metalanguage can make use of an assignment. All `TypedExpr` objects support the method **`under_assignment`**:"
   ]
  },
  {
   "cell_type": "code",
   "execution_count": 27,
   "id": "9925992f-4308-4973-98b5-d20f6c3bc13d",
   "metadata": {},
   "outputs": [
    {
     "data": {
      "text/latex": [
       "$\\textsf{True}$"
      ],
      "text/plain": [
       "True"
      ]
     },
     "execution_count": 27,
     "metadata": {},
     "output_type": "execute_result"
    }
   ],
   "source": [
    "te(\"p_t & q_t\").under_assignment({'p': True, 'q': True}).simplify_all()"
   ]
  },
  {
   "cell_type": "markdown",
   "id": "e845ad8f-c4be-4d3e-afcd-89ebaba0f5b0",
   "metadata": {},
   "source": [
    "Of course, assignments can be used for many things beyond evaluation, and there is no constraint to `MetaTerm`s in the range of the map. For example, binding expressions use assignments to do type inference over their bodies. The `under_assignment` function fully support type inference and type checking."
   ]
  },
  {
   "cell_type": "code",
   "execution_count": 28,
   "id": "928df27b-52dd-4083-bee2-7c76858e99df",
   "metadata": {},
   "outputs": [
    {
     "data": {
      "text/html": [
       "<div align=\"left\" style=\"display:table;\"><div style=\"display:table-cell;vertical-align:top;padding-left:5px;padding-right:5px;padding-top:0.2em\"><div style=\"display:table;\"><div style=\"display:table-row;vertical-align:top;\"><div align=\"left\" style=\"display:table;border-collapse:collapse;\"><div style=\"display:table-row;border-bottom:1px solid #848482;\"><div style=\"display:table-cell;padding:0.2em 5px 0.2em 0px;vertical-align:top;\"></div><div style=\"display:table-cell;vertical-align:top;border-right:1px solid #848482;padding-right:5px;;padding-top:0.2em\"><div style=\"display:inline-block;\"><span>${f}_{\\left\\langle{}X,t\\right\\rangle{}}({q}_{t})$</span></div></div><div style=\"display:table-cell;vertical-align:top;padding-left:5px;padding-right:5px;padding-top:0.2em\"><div style=\"display:table;\"><div style=\"display:table-row;\"><div style=\"white-space:nowrap; color:blue;\"><span>Type inference</span></div></div></div></div></div><div style=\"display:table-row;border-bottom:1px solid #848482;\"><div style=\"display:table-cell;padding:0.2em 5px 0.2em 0px;vertical-align:top;\"> 1. </div><div style=\"display:table-cell;vertical-align:top;border-right:1px solid #848482;padding-right:5px;;padding-top:0.2em\"><div style=\"display:inline-block;\"><span>${f}_{\\left\\langle{}X,t\\right\\rangle{}}({p}_{X})$</span></div></div><div style=\"display:table-cell;vertical-align:top;padding-left:5px;padding-right:5px;padding-top:0.2em\"><div style=\"display:table;\"><div style=\"display:table-row;\"><div style=\"white-space:nowrap; color:blue;\"><span>Assignment substitution</span></div></div></div></div></div><div style=\"display:table-row;\"><div style=\"display:table-cell;padding:0.2em 5px 0.2em 0px;vertical-align:top;\"> 2. </div><div style=\"display:table-cell;vertical-align:top;border-right:1px solid #848482;padding-right:5px;;padding-top:0.2em\"><div style=\"display:inline-block;\"><span>${f}_{\\left\\langle{}t,t\\right\\rangle{}}({q}_{t})$</span></div></div></div></div></div></div></div></div>"
      ],
      "text/plain": [
       " 1. f_<X,t>(q_t)    (Type inference)\n",
       " 2. f_<X,t>(p_X)    (Assignment substitution)\n",
       " 3. f_<t,t>(q_t)"
      ]
     },
     "execution_count": 28,
     "metadata": {},
     "output_type": "execute_result"
    }
   ],
   "source": [
    "te(\"f_<X,t>(p_X)\").under_assignment({'p': te(\"q_t\")}).derivation"
   ]
  },
  {
   "cell_type": "code",
   "execution_count": 29,
   "id": "76af111c-e118-47d7-b265-ca51249973c6",
   "metadata": {},
   "outputs": [
    {
     "data": {
      "text/html": [
       "<div align=\"left\" style=\"display:table;\"><div style=\"display:table-cell;vertical-align:top;padding-left:5px;padding-right:5px;padding-top:0.2em\"><div style=\"display:table;\"><div style=\"display:table-row;vertical-align:top;\"><div align=\"left\" style=\"display:table;border-collapse:collapse;\"><div style=\"display:table-row;border-bottom:1px solid #848482;\"><div style=\"display:table-cell;padding:0.2em 5px 0.2em 0px;vertical-align:top;\"></div><div style=\"display:table-cell;vertical-align:top;border-right:1px solid #848482;padding-right:5px;;padding-top:0.2em\"><div style=\"display:inline-block;\"><span>${f}_{\\left\\langle{}t,t\\right\\rangle{}}({q}_{?_{10}})$</span></div></div><div style=\"display:table-cell;vertical-align:top;padding-left:5px;padding-right:5px;padding-top:0.2em\"><div style=\"display:table;\"><div style=\"display:table-row;\"><div style=\"white-space:nowrap; color:blue;\"><span>Type inference</span></div></div></div></div></div><div style=\"display:table-row;border-bottom:1px solid #848482;\"><div style=\"display:table-cell;padding:0.2em 5px 0.2em 0px;vertical-align:top;\"> 1. </div><div style=\"display:table-cell;vertical-align:top;border-right:1px solid #848482;padding-right:5px;;padding-top:0.2em\"><div style=\"display:inline-block;\"><span>${f}_{\\left\\langle{}t,t\\right\\rangle{}}({p}_{t})$</span></div></div><div style=\"display:table-cell;vertical-align:top;padding-left:5px;padding-right:5px;padding-top:0.2em\"><div style=\"display:table;\"><div style=\"display:table-row;\"><div style=\"white-space:nowrap; color:blue;\"><span>Assignment substitution</span></div></div></div></div></div><div style=\"display:table-row;\"><div style=\"display:table-cell;padding:0.2em 5px 0.2em 0px;vertical-align:top;\"> 2. </div><div style=\"display:table-cell;vertical-align:top;border-right:1px solid #848482;padding-right:5px;;padding-top:0.2em\"><div style=\"display:inline-block;\"><span>${f}_{\\left\\langle{}t,t\\right\\rangle{}}({q}_{t})$</span></div></div></div></div></div></div></div></div>"
      ],
      "text/plain": [
       " 1. f_<t,t>(q_?10)    (Type inference)\n",
       " 2. f_<t,t>(p_t)    (Assignment substitution)\n",
       " 3. f_<t,t>(q_t)"
      ]
     },
     "execution_count": 29,
     "metadata": {},
     "output_type": "execute_result"
    }
   ],
   "source": [
    "te(\"f_<X,t>(p_t)\").under_assignment({'p': te(\"q_X\")}).derivation"
   ]
  },
  {
   "cell_type": "code",
   "execution_count": 30,
   "id": "d5e715fe-51b7-460c-bff5-68cc70b9d545",
   "metadata": {},
   "outputs": [
    {
     "data": {
      "text/markdown": [
       "<span style=\"color:red\">**TypeMismatch**</span>: `p_e` and `q_t` conflict (Variable replace failed with mismatched types)"
      ],
      "text/plain": [
       "TypeMismatch: `p_e` and `q_t` conflict (Variable replace failed with mismatched types)"
      ]
     },
     "metadata": {},
     "output_type": "display_data"
    }
   ],
   "source": [
    "with lamb.errors():\n",
    "    te(\"f_<e,t>(p_e)\").under_assignment({'p': te(\"q_t\")})"
   ]
  },
  {
   "cell_type": "markdown",
   "id": "62bc7c75-42ad-4756-a96a-c170469c6fa1",
   "metadata": {},
   "source": [
    "Values in the assignment may be polymorphic, and if they are `under_assignment` supports what is often termed \"let polymorphism\": distinct substitutions are allowed to resolve to distinct specialized types."
   ]
  },
  {
   "cell_type": "markdown",
   "id": "2ba3394a-7c63-4085-89da-37a355ff99cd",
   "metadata": {},
   "source": [
    "The class **`lamb.meta.Assignment`** (an alias for `lamb.meta.meta.Assignment`) provides some extra useful features on top of a standard mapping class (with implementation building on a [ChainMap](https://docs.python.org/3/library/collections.html#collections.ChainMap)). Assignment` objects implement the standard `collections.abc.Mapping` interface, with the following lambda notebook-specific tweaks:\n",
    "\n",
    "* They enforce that values are `TypedExpr`s (the `te` function is applied to non-te values)\n",
    "* They support lambda notebook rich reprs. (**Side note**: this style of rendering for mappings is generally available via `utils.dict_latex_repr`.) Following Heim and Kratzer, when in linearized form mappings are displayed as a sequence of `value/term` pairs.\n",
    "* They support incremental update via several functions:\n",
    "    - the standard mapping `update` function changes the map in place (no return).\n",
    "    - the `modify` function changes the map in place while tracking change history, so that the prior mapping can be rendered and recovered. (No return.)\n",
    "    - the `new_child` function (similar to the `ChainMap` api) returns a modified version of the current assignment, and does not change `self`.\n",
    "    - the `merge` function overwrites term mappings while requiring the expressions to be compatible (it raises `TypeMismatch` if this fails). See below for details.\n",
    "    - For modified assignments (via any of the three prior functions), the function `pop_child()` returns to the previous value. `pop_child` on an `Assignment` with only a single mapping will clear the map!\n",
    "* The `flatten` function returns a new `Assignment` that collapses update history\n",
    "\n",
    "This class is used in the implementation of `lamb.lang` binding operations. Here are several examples of the above calls with some further details on behavior. Note that the effect of these demo cells is dependent on run order!"
   ]
  },
  {
   "cell_type": "code",
   "execution_count": 91,
   "id": "b5859460-3d35-4ac8-a7bf-262718a0f965",
   "metadata": {},
   "outputs": [
    {
     "data": {
      "text/latex": [
       "$\\left[\\begin{array}{lll} p & \\rightarrow & \\textsf{True} \\\\\n",
       "q & \\rightarrow & \\textsf{True} \\\\ \\end{array}\\right]$"
      ],
      "text/plain": [
       "[True/p,True/q]"
      ]
     },
     "execution_count": 91,
     "metadata": {},
     "output_type": "execute_result"
    }
   ],
   "source": [
    "a = lamb.meta.Assignment({'p': True, 'q': True})\n",
    "a"
   ]
  },
  {
   "cell_type": "code",
   "execution_count": 92,
   "id": "2e4cfbd9-c872-4984-9595-9edf3df519ac",
   "metadata": {},
   "outputs": [
    {
     "data": {
      "text/latex": [
       "${{\\left[\\begin{array}{lll} p & \\rightarrow & \\textsf{True} \\\\\n",
       "q & \\rightarrow & \\textsf{True} \\\\ \\end{array}\\right]}^{[\\textsf{False}/q]}}^{[\\textsf{True}/q]}$"
      ],
      "text/plain": [
       "[True/p,True/q][False/q][True/q]"
      ]
     },
     "execution_count": 92,
     "metadata": {},
     "output_type": "execute_result"
    }
   ],
   "source": [
    "a.modify(q=False)\n",
    "a.modify(q=True)\n",
    "a"
   ]
  },
  {
   "cell_type": "code",
   "execution_count": 93,
   "id": "be0678e9-cdd0-4dcf-a05c-cf42a606be92",
   "metadata": {},
   "outputs": [
    {
     "data": {
      "text/latex": [
       "$\\textsf{True}$"
      ],
      "text/plain": [
       "True"
      ]
     },
     "execution_count": 93,
     "metadata": {},
     "output_type": "execute_result"
    }
   ],
   "source": [
    "a['q']"
   ]
  },
  {
   "cell_type": "code",
   "execution_count": 94,
   "id": "ab070bec-9f41-4c0e-9170-b822848f4c35",
   "metadata": {},
   "outputs": [
    {
     "data": {
      "text/latex": [
       "${\\left[\\begin{array}{lll} p & \\rightarrow & \\textsf{True} \\\\\n",
       "q & \\rightarrow & \\textsf{True} \\\\ \\end{array}\\right]}^{[\\textsf{False}/q]}$"
      ],
      "text/plain": [
       "[True/p,True/q][False/q]"
      ]
     },
     "metadata": {},
     "output_type": "display_data"
    },
    {
     "data": {
      "text/latex": [
       "$\\textsf{False}$"
      ],
      "text/plain": [
       "False"
      ]
     },
     "metadata": {},
     "output_type": "display_data"
    }
   ],
   "source": [
    "a.pop_child()\n",
    "display(a, a['q'])"
   ]
  },
  {
   "cell_type": "code",
   "execution_count": 95,
   "id": "11b862dd-5da4-46c2-bb98-f4b19f64187a",
   "metadata": {},
   "outputs": [
    {
     "data": {
      "text/latex": [
       "$\\left[\\begin{array}{lll} p & \\rightarrow & \\textsf{True} \\\\\n",
       "q & \\rightarrow & \\textsf{True} \\\\ \\end{array}\\right]$"
      ],
      "text/plain": [
       "[True/p,True/q]"
      ]
     },
     "execution_count": 95,
     "metadata": {},
     "output_type": "execute_result"
    }
   ],
   "source": [
    "a.pop_child()\n",
    "a"
   ]
  },
  {
   "cell_type": "code",
   "execution_count": 96,
   "id": "cc069759-074c-43ee-bf3a-3fe5b63ee293",
   "metadata": {},
   "outputs": [
    {
     "data": {
      "text/latex": [
       "${\\left[\\begin{array}{lll} p & \\rightarrow & \\textsf{True} \\\\\n",
       "q & \\rightarrow & \\textsf{True} \\\\ \\end{array}\\right]}^{[\\textsf{False}/q,\\textsf{True}/r]}$"
      ],
      "text/plain": [
       "[True/p,True/q][False/q,True/r]"
      ]
     },
     "execution_count": 96,
     "metadata": {},
     "output_type": "execute_result"
    }
   ],
   "source": [
    "a2 = a.new_child(q=False, r=True)\n",
    "a2"
   ]
  },
  {
   "cell_type": "code",
   "execution_count": 97,
   "id": "66d8f15f-24cb-4daf-af35-f55e6c4c77f1",
   "metadata": {},
   "outputs": [
    {
     "data": {
      "text/latex": [
       "$\\textsf{False}$"
      ],
      "text/plain": [
       "False"
      ]
     },
     "execution_count": 97,
     "metadata": {},
     "output_type": "execute_result"
    }
   ],
   "source": [
    "a2['q']"
   ]
  },
  {
   "cell_type": "code",
   "execution_count": 98,
   "id": "9c0d5c0a-86c6-45a1-b1c0-6582d50338cc",
   "metadata": {},
   "outputs": [
    {
     "data": {
      "text/latex": [
       "$\\left[\\begin{array}{lll} p & \\rightarrow & \\textsf{True} \\\\\n",
       "q & \\rightarrow & \\textsf{False} \\\\\n",
       "r & \\rightarrow & \\textsf{True} \\\\ \\end{array}\\right]$"
      ],
      "text/plain": [
       "[True/p,False/q,True/r]"
      ]
     },
     "execution_count": 98,
     "metadata": {},
     "output_type": "execute_result"
    }
   ],
   "source": [
    "a2.flatten()"
   ]
  },
  {
   "cell_type": "markdown",
   "id": "547aa4dc-d131-4f40-8659-162895ad4890",
   "metadata": {},
   "source": [
    "Modification overwrites without reference to what is overwritten:"
   ]
  },
  {
   "cell_type": "code",
   "execution_count": 99,
   "id": "1a4ad40e-322c-4cf3-9a7b-9b56c7e36511",
   "metadata": {},
   "outputs": [
    {
     "data": {
      "text/latex": [
       "${\\left[\\begin{array}{lll} p & \\rightarrow & \\textsf{True} \\\\\n",
       "q & \\rightarrow & \\textsf{True} \\\\ \\end{array}\\right]}^{[\\textsf{c1}_{e}/p]}$"
      ],
      "text/plain": [
       "[True/p,True/q][_c1/p]"
      ]
     },
     "metadata": {},
     "output_type": "display_data"
    },
    {
     "data": {
      "text/latex": [
       "$\\textsf{c1}_{e}$"
      ],
      "text/plain": [
       "_c1"
      ]
     },
     "metadata": {},
     "output_type": "display_data"
    }
   ],
   "source": [
    "a.modify(p='_c1') # no type constraints\n",
    "display(a, a['p'])"
   ]
  },
  {
   "cell_type": "markdown",
   "id": "2eb24c30-b834-437e-a648-399c4a1990be",
   "metadata": {},
   "source": [
    "On the other hand, the `merge` method works like `new_child`, but with constraints both on the type and structure of expressions. In a nutshell, this method lets (non-meta) terms merge with expressions of a compatible type, but doesn't let distinct complex expressions merge with each other. Merging specializes types if needed. More specifically, for each value in the assignment:\n",
    "\n",
    "* If the old value is a non-meta term, and the new value is a term with a compatible type, the assignment gets the new value at the principal type.\n",
    "* If the old value is a non-meta term, and the new value is either a meta-term or a non-term, then the assignment gets the new value.\n",
    "* Otherwise, merging fails with a `TypeMismatch`.\n",
    "\n",
    "Note that while the overall process is not symmetric, type resolution is symmetric. So for example a value of `x_e` can merge with a value of `x_X` resulting in a mapping to `x_e` (since `e` is the principal type).\n",
    "\n",
    "Here are some examples:"
   ]
  },
  {
   "cell_type": "code",
   "execution_count": 101,
   "id": "5061c3c5-d417-4fda-888b-76014e90f237",
   "metadata": {},
   "outputs": [
    {
     "data": {
      "text/markdown": [
       "<span style=\"color:red\">**TypeMismatch**</span>: `True` and `_c1` conflict (Failed to merge typed expressions (incompatible types))"
      ],
      "text/plain": [
       "TypeMismatch: `True` and `_c1` conflict (Failed to merge typed expressions (incompatible types))"
      ]
     },
     "metadata": {},
     "output_type": "display_data"
    }
   ],
   "source": [
    "a = lamb.meta.Assignment({'p': True, 'q': True})\n",
    "with lamb.errors():\n",
    "    a.merge(p='_c1') # type constraints enforced on update"
   ]
  },
  {
   "cell_type": "code",
   "execution_count": 102,
   "id": "5e33d139-cfdf-45e1-a170-14b984b2b442",
   "metadata": {},
   "outputs": [
    {
     "data": {
      "text/latex": [
       "${{\\left[x \\rightarrow {x}_{X}\\right]}^{[{y}_{e}/x]}}^{[\\textsf{c1}_{e}/x]}$"
      ],
      "text/plain": [
       "[x_X/x][y_e/x][_c1/x]"
      ]
     },
     "execution_count": 102,
     "metadata": {},
     "output_type": "execute_result"
    }
   ],
   "source": [
    "meta.Assignment(x=te('x_X')).merge(x=te('y_e')).merge(x=te('_c1'))"
   ]
  },
  {
   "cell_type": "code",
   "execution_count": 103,
   "id": "2aa66abc-7678-4d81-a659-93794b23c3b2",
   "metadata": {},
   "outputs": [
    {
     "data": {
      "text/latex": [
       "${{\\left[x \\rightarrow {x}_{e}\\right]}^{[{x}_{e}/x]}}^{[\\textsf{c1}_{e}/x]}$"
      ],
      "text/plain": [
       "[x_e/x][x_e/x][_c1/x]"
      ]
     },
     "execution_count": 103,
     "metadata": {},
     "output_type": "execute_result"
    }
   ],
   "source": [
    "meta.Assignment(x=te('x_e')).merge(x=te('x_X')).merge(x=te('_c1'))"
   ]
  },
  {
   "cell_type": "code",
   "execution_count": 104,
   "id": "f622bf0a-ed25-46b9-95c8-ac5da9694396",
   "metadata": {},
   "outputs": [
    {
     "data": {
      "text/markdown": [
       "<span style=\"color:red\">**TypeMismatch**</span>: `_c1` and `y_e` conflict (Failed to merge typed expressions; result is not equal)"
      ],
      "text/plain": [
       "TypeMismatch: `_c1` and `y_e` conflict (Failed to merge typed expressions; result is not equal)"
      ]
     },
     "metadata": {},
     "output_type": "display_data"
    }
   ],
   "source": [
    "with lamb.errors():\n",
    "    meta.Assignment(x=te('x_X')).merge(x=te('_c1')).merge(x=te('y_e'))"
   ]
  },
  {
   "cell_type": "markdown",
   "id": "3d10ef74-e82c-4038-bed9-ecbc46e1aefd",
   "metadata": {},
   "source": [
    "### Truth tables and boolean evaluation\n",
    "\n",
    "A pure boolean formula is one that consists only of boolean atoms (terms of type `t`) and boolean operators. A formula like this can be fully evaluated by providing an assignment that maps all terms in the formula to `MetaTerms` for type `t` (aka `True` and `False`). Let's call such an assignment *complete* relative to the formula. Simplification guarantees that an expression under a complete assignment is fully simplifiable to an atomic `MetaTerm`. Here is (another) example of evaluating a formula by providing a complete assignment:"
   ]
  },
  {
   "cell_type": "code",
   "execution_count": 105,
   "id": "ce61846a-79b4-485f-baff-07189d31ca92",
   "metadata": {},
   "outputs": [
    {
     "data": {
      "text/latex": [
       "$\\textsf{True}$"
      ],
      "text/plain": [
       "True"
      ]
     },
     "execution_count": 105,
     "metadata": {},
     "output_type": "execute_result"
    }
   ],
   "source": [
    "te(\"~(p_t & q_t)\").under_assignment({'p': True, 'q': False}).simplify_all()"
   ]
  },
  {
   "cell_type": "markdown",
   "id": "ac456098-49c5-432c-a0b8-be281e32bcfe",
   "metadata": {},
   "source": [
    "The set of complete assignments for a formula, together with the evaluated results, amounts to what is usually called a *truth table* in the logic literature. The lambda notebook supports generating truth tables for boolean expressions via the function **`lamb.meta.truthtable`** (an alias to `lamb.meta.meta.truthtable`):"
   ]
  },
  {
   "cell_type": "code",
   "execution_count": 106,
   "id": "49d1b207-e530-4b9e-8bf2-6c8ab5a0d487",
   "metadata": {},
   "outputs": [
    {
     "data": {
      "text/markdown": [
       "| ${p}_{t}$ | ${q}_{t}$ | $\\neg{} ({p}_{t} \\wedge{} {q}_{t})$|\n",
       "| :---:| :---:| :---:|\n",
       "| 0| 0| 1|\n",
       "| 0| 1| 1|\n",
       "| 1| 0| 1|\n",
       "| 1| 1| 0|\n"
      ],
      "text/plain": [
       "<lamb.meta.meta.Evaluations at 0x10d7de930>"
      ]
     },
     "execution_count": 106,
     "metadata": {},
     "output_type": "execute_result"
    }
   ],
   "source": [
    "meta.truthtable(te(\"~(p_t & q_t)\"))"
   ]
  },
  {
   "cell_type": "markdown",
   "id": "670e1190-3ea9-44d1-b5a8-a957e2267759",
   "metadata": {},
   "source": [
    "Reminder: metalanguage `0` and `1` are *not* equivalent to `False` and `True`, but they are used here because they make the resulting truth tables much more readable.\n",
    "\n",
    "Here is a more complex example:"
   ]
  },
  {
   "cell_type": "code",
   "execution_count": 107,
   "id": "20dbff58-310c-4792-a72c-d2a0ee034844",
   "metadata": {},
   "outputs": [
    {
     "data": {
      "text/markdown": [
       "| ${p}_{t}$ | ${q}_{t}$ | ${r}_{t}$ | $({p}_{t} \\rightarrow{} ({q}_{t} \\wedge{} {r}_{t})) \\wedge{} (({q}_{t} \\wedge{} {r}_{t}) \\rightarrow{} {p}_{t})$|\n",
       "| :---:| :---:| :---:| :---:|\n",
       "| 0| 0| 0| 1|\n",
       "| 0| 0| 1| 1|\n",
       "| 0| 1| 0| 1|\n",
       "| 0| 1| 1| 0|\n",
       "| 1| 0| 0| 0|\n",
       "| 1| 0| 1| 0|\n",
       "| 1| 1| 0| 0|\n",
       "| 1| 1| 1| 1|\n"
      ],
      "text/plain": [
       "<lamb.meta.meta.Evaluations at 0x11843b8c0>"
      ]
     },
     "execution_count": 107,
     "metadata": {},
     "output_type": "execute_result"
    }
   ],
   "source": [
    "# a more complex case\n",
    "meta.truthtable(te(\"(p_t => (q_t & r_t)) & ((q_t & r_t) => p_t)\"))"
   ]
  },
  {
   "cell_type": "markdown",
   "id": "ab91e925-aa0a-4c7d-ae88-f1728293fb9f",
   "metadata": {},
   "source": [
    "Note that generating a truth table involves $2^n$ combinations of truth values for an expression with $n$ atomic terms; it therefore is very susceptible to combinatoric explosion. Most code that deals with this kind of exhaustive evaluation will by default cap the number of atomic terms allowed in order to avoid a stuck kernel with large memory use; supply named parameter `max_terms` to `truthtable` to override the default for this function (currently 12). Generally, working with small formulas in this way is completely tractable."
   ]
  },
  {
   "cell_type": "markdown",
   "id": "6abe99c5-a43a-4ea0-bee3-b52db83c9e86",
   "metadata": {},
   "source": [
    "The function `lamb.meta.meta.truthtable_equiv` can be used to check if two expressions have equivalent truth tables; `lamb.meta.meta.truthtable_valid` to check if a truth table's values are entirely `True`, and `lamb.meta.meta.truthtable_contradictory` for the entirely `False` case. These are of course just as subject to combinatorial explosion as generating the underlying truth tables used for these checks. For example, here is an instance of De Morgan's verified by truth table:"
   ]
  },
  {
   "cell_type": "code",
   "execution_count": 108,
   "id": "86e34cc8-a463-46a5-942a-b95073ce822b",
   "metadata": {},
   "outputs": [
    {
     "data": {
      "text/plain": [
       "True"
      ]
     },
     "execution_count": 108,
     "metadata": {},
     "output_type": "execute_result"
    }
   ],
   "source": [
    "meta.meta.truthtable_equiv(te(\"~(p_t & q_t)\"), te(\"~p_t | ~q_t\"))"
   ]
  },
  {
   "cell_type": "markdown",
   "id": "36ab79f9-7f5b-41a2-8c2e-74965b216d65",
   "metadata": {},
   "source": [
    "**Complex and non-boolean subexpressions in truth tables**.\n",
    "Unlike the standard logic textbook version of a truth table, lambda notebook truthtables support certain ways of handling non-pure boolean expressions. The first is via partial evaluation; if a subexpression can't be fully simplified by evaluating atomic boolean values, the subexpression will appear in the value column of a truth table. For example, in the following formula, when `p1` is `False`, the result can be completely determined, but if it is `True`, we would need to resolve `P(x)` to know the truth value."
   ]
  },
  {
   "cell_type": "code",
   "execution_count": 109,
   "id": "ad82ff96-efed-496f-a4a5-39501fc96e11",
   "metadata": {},
   "outputs": [
    {
     "data": {
      "text/markdown": [
       "| ${p1}_{t}$ | ${p1}_{t} \\wedge{} {P}({x}_{e})$|\n",
       "| :---:| :---:|\n",
       "| 0| 0|\n",
       "| 1| ${P}({x}_{e})$|\n"
      ],
      "text/plain": [
       "<lamb.meta.meta.Evaluations at 0x11808d1f0>"
      ]
     },
     "execution_count": 109,
     "metadata": {},
     "output_type": "execute_result"
    }
   ],
   "source": [
    "meta.truthtable(te(\"p1_t & P_<e,t>(x)\"))"
   ]
  },
  {
   "cell_type": "markdown",
   "id": "ffe6bbdf-c0b0-4b46-bb1f-14025a358e6a",
   "metadata": {},
   "source": [
    "As another example, in the following expressions, there are two atomic propositions and two predicate-argument combinations; the latter can't be valued by truth table code. The result has a fully simplified `t` value in one row, and varying degrees of simplified formulas in the others."
   ]
  },
  {
   "cell_type": "code",
   "execution_count": 110,
   "id": "781a6e9c-208c-4d68-a32a-71f633b645d6",
   "metadata": {},
   "outputs": [
    {
     "data": {
      "text/markdown": [
       "| ${p1}_{t}$ | ${p2}_{t}$ | $({p1}_{t} \\wedge{} {P}({x}_{e})) \\vee{} ({p2}_{t} \\wedge{} \\neg{} {Q}({x}_{e}))$|\n",
       "| :---:| :---:| :---:|\n",
       "| 0| 0| 0|\n",
       "| 0| 1| $\\neg{} {Q}({x}_{e})$|\n",
       "| 1| 0| ${P}({x}_{e})$|\n",
       "| 1| 1| ${P}({x}_{e}) \\vee{} \\neg{} {Q}({x}_{e})$|\n"
      ],
      "text/plain": [
       "<lamb.meta.meta.Evaluations at 0x1180a9340>"
      ]
     },
     "execution_count": 110,
     "metadata": {},
     "output_type": "execute_result"
    }
   ],
   "source": [
    "meta.truthtable(te(\"p1_t & P_<e,t>(x) | p2_t & ~Q_<e,t>(x)\"))"
   ]
  },
  {
   "cell_type": "markdown",
   "id": "fa9ea8a4-cf89-4e88-8760-5bf5e4cc6dbd",
   "metadata": {},
   "source": [
    "The second means of handling complex subexpressions is via boolean \"extraction\". Given an arbitrary metalanguage expression of type `t`, *boolean extraction* produces a pure boolean formula and an assignment that will reconstruct the original formula. In a truth table context, this is used to treat all complex elements of type `t` like atoms, without worrying about how they are interpreted. The extracted form of the above example then has four evaluation columns instead of two, where the unanalyzed `P(x)` and `Q(x)` are treated like atoms:"
   ]
  },
  {
   "cell_type": "code",
   "execution_count": 111,
   "id": "fd8c3cde-4bda-4581-a998-357fdb544772",
   "metadata": {},
   "outputs": [
    {
     "data": {
      "text/markdown": [
       "| ${p1}_{t}$ | ${p2}_{t}$ | ${P}({x}_{e})$ | ${Q}({x}_{e})$ | $({p1}_{t} \\wedge{} {P}({x}_{e})) \\vee{} ({p2}_{t} \\wedge{} \\neg{} {Q}({x}_{e}))$|\n",
       "| :---:| :---:| :---:| :---:| :---:|\n",
       "| 0| 0| 0| 0| 0|\n",
       "| 0| 0| 0| 1| 0|\n",
       "| 0| 0| 1| 0| 0|\n",
       "| 0| 0| 1| 1| 0|\n",
       "| 0| 1| 0| 0| 1|\n",
       "| 0| 1| 0| 1| 0|\n",
       "| 0| 1| 1| 0| 1|\n",
       "| 0| 1| 1| 1| 0|\n",
       "| 1| 0| 0| 0| 0|\n",
       "| 1| 0| 0| 1| 0|\n",
       "| 1| 0| 1| 0| 1|\n",
       "| 1| 0| 1| 1| 1|\n",
       "| 1| 1| 0| 0| 1|\n",
       "| 1| 1| 0| 1| 0|\n",
       "| 1| 1| 1| 0| 1|\n",
       "| 1| 1| 1| 1| 1|\n"
      ],
      "text/plain": [
       "<lamb.meta.meta.Evaluations at 0x1180771d0>"
      ]
     },
     "execution_count": 111,
     "metadata": {},
     "output_type": "execute_result"
    }
   ],
   "source": [
    "meta.truthtable(te(\"p1_t & P_<e,t>(x) | p2_t & ~Q_<e,t>(x)\"), extract=True)"
   ]
  },
  {
   "cell_type": "markdown",
   "id": "b57f49af-60f6-4455-9b57-f5588e021524",
   "metadata": {},
   "source": [
    "Boolean extraction can be directly achieved via **`lamb.meta.meta.extract_boolean`**. This function takes a sequence of expressions, and returns a sequence of extracted expressions together with a single assignment that will reconstruct any of them. Subexpressions that are shared across the arguments will not be repeated, and the extracted forms will have the same names for these subexpressions. Any new term names are guaranteed to be unused in the input expressions."
   ]
  },
  {
   "cell_type": "code",
   "execution_count": 112,
   "id": "0658fc50-e9b5-495f-b6bf-934b40138e39",
   "metadata": {},
   "outputs": [
    {
     "data": {
      "text/latex": [
       "$({p1}_{t} \\wedge{} {p3}_{t}) \\vee{} ({p2}_{t} \\wedge{} \\neg{} {p4}_{t})$"
      ],
      "text/plain": [
       "((p1_t ∧ p3_t) ∨ (p2_t ∧ ¬p4_t))"
      ]
     },
     "metadata": {},
     "output_type": "display_data"
    },
    {
     "data": {
      "text/latex": [
       "$\\left[\\begin{array}{lll} p3 & \\rightarrow & {P}({x}_{e}) \\\\\n",
       "p4 & \\rightarrow & {Q}({x}_{e}) \\\\ \\end{array}\\right]$"
      ],
      "text/plain": [
       "[P_<e,t>(x_e)/p3,Q_<e,t>(x_e)/p4]"
      ]
     },
     "metadata": {},
     "output_type": "display_data"
    }
   ],
   "source": [
    "e, m = meta.meta.extract_boolean(te(\"p1_t & P_<e,t>(x) | p2_t & ~Q_<e,t>(x)\"))\n",
    "display(e[0])\n",
    "display(meta.Assignment(m)) # use Assignment for nicer rendering"
   ]
  },
  {
   "cell_type": "code",
   "execution_count": 113,
   "id": "74a5e6dc-3f4b-4b0c-a3b6-801ff81b1782",
   "metadata": {},
   "outputs": [
    {
     "data": {
      "text/latex": [
       "$({p1}_{t} \\wedge{} {P}({x}_{e})) \\vee{} ({p2}_{t} \\wedge{} \\neg{} {Q}({x}_{e}))$"
      ],
      "text/plain": [
       "((p1_t ∧ P_<e,t>(x_e)) ∨ (p2_t ∧ ¬Q_<e,t>(x_e)))"
      ]
     },
     "execution_count": 113,
     "metadata": {},
     "output_type": "execute_result"
    }
   ],
   "source": [
    "e[0].under_assignment(m)"
   ]
  },
  {
   "cell_type": "code",
   "execution_count": 114,
   "id": "65e6a031-99b2-45f9-94e4-5a31c597938d",
   "metadata": {},
   "outputs": [
    {
     "data": {
      "text/latex": [
       "${p1}_{t} \\wedge{} {p2}_{t} \\wedge{} {p}_{t}$"
      ],
      "text/plain": [
       "((p1_t ∧ p2_t) ∧ p_t)"
      ]
     },
     "metadata": {},
     "output_type": "display_data"
    },
    {
     "data": {
      "text/latex": [
       "${p2}_{t}$"
      ],
      "text/plain": [
       "p2_t"
      ]
     },
     "metadata": {},
     "output_type": "display_data"
    },
    {
     "data": {
      "text/latex": [
       "$\\left[\\begin{array}{lll} p1 & \\rightarrow & {P}({x}_{e}) \\\\\n",
       "p2 & \\rightarrow & {Q}({x}_{e}) \\\\ \\end{array}\\right]$"
      ],
      "text/plain": [
       "[P_<e,t>(x_e)/p1,Q_<e,t>(x_e)/p2]"
      ]
     },
     "metadata": {},
     "output_type": "display_data"
    }
   ],
   "source": [
    "e, m = meta.meta.extract_boolean(te(\"P_<e,t>(x) & Q_<e,t>(x) & p_t\"), te(\"Q_<e,t>(x)\"))\n",
    "display(e[0], e[1], meta.Assignment(m))"
   ]
  },
  {
   "cell_type": "code",
   "execution_count": 115,
   "id": "4d77cf30-07bf-40fc-8052-2c636312e91f",
   "metadata": {},
   "outputs": [
    {
     "data": {
      "text/latex": [
       "${P}({x}_{e}) \\wedge{} {Q}({x}_{e}) \\wedge{} {p}_{t}$"
      ],
      "text/plain": [
       "((P_<e,t>(x_e) ∧ Q_<e,t>(x_e)) ∧ p_t)"
      ]
     },
     "metadata": {},
     "output_type": "display_data"
    },
    {
     "data": {
      "text/latex": [
       "${Q}({x}_{e})$"
      ],
      "text/plain": [
       "Q_<e,t>(x_e)"
      ]
     },
     "metadata": {},
     "output_type": "display_data"
    }
   ],
   "source": [
    "display(*[x.under_assignment(m) for x in e])"
   ]
  },
  {
   "cell_type": "markdown",
   "id": "174c0b17-a490-46ba-b793-98c4d76ad7bf",
   "metadata": {},
   "source": [
    "Non-boolean values supplied to this function will result in an error. The limiting case of extraction is a single complex boolean expression, which will result in a trivial extracted frame with a one-element mapping (and a trivial truth table)."
   ]
  },
  {
   "cell_type": "code",
   "execution_count": 116,
   "id": "96ba7f02-a0c9-4023-940b-a05e66e1a434",
   "metadata": {},
   "outputs": [
    {
     "data": {
      "text/plain": [
       "([p1_t], {'p1': (Forall x_e: P_<e,t>(x_e))})"
      ]
     },
     "metadata": {},
     "output_type": "display_data"
    },
    {
     "data": {
      "text/markdown": [
       "| $\\forall{} x_{e} \\: . \\: {P}({x})$ | $\\forall{} x_{e} \\: . \\: {P}({x})$|\n",
       "| :---:| :---:|\n",
       "| 0| 0|\n",
       "| 1| 1|\n"
      ],
      "text/plain": [
       "<lamb.meta.meta.Evaluations at 0x10d7f2b70>"
      ]
     },
     "execution_count": 116,
     "metadata": {},
     "output_type": "execute_result"
    }
   ],
   "source": [
    "display(meta.meta.extract_boolean(te(\"Forall x_e : P_<e,t>(x)\")))\n",
    "meta.truthtable(te(\"Forall x_e : P_<e,t>(x)\"), extract=True)"
   ]
  },
  {
   "cell_type": "markdown",
   "id": "b1c1e4b2-1539-40d0-a179-29c32d41ae6d",
   "metadata": {},
   "source": [
    "**Advanced API notes**: the return value of `truthtable` is an object of type `lamb.meta.meta.Evaluations`, which is a general purpose container for tracking and displaying boolean formula evaluations. A raw list of assignments (as `dict`s) can be generated via the function `lamb.meta.meta.truthtable_valuations`:"
   ]
  },
  {
   "cell_type": "code",
   "execution_count": 117,
   "id": "4bf07b66-b8da-4f79-bdd4-9ef73a63f310",
   "metadata": {},
   "outputs": [
    {
     "data": {
      "text/plain": [
       "[{'p': False, 'q': False},\n",
       " {'p': False, 'q': True},\n",
       " {'p': True, 'q': False},\n",
       " {'p': True, 'q': True}]"
      ]
     },
     "execution_count": 117,
     "metadata": {},
     "output_type": "execute_result"
    }
   ],
   "source": [
    "meta.meta.truthtable_valuations(te(\"p_t & q_t\"))"
   ]
  },
  {
   "cell_type": "markdown",
   "id": "4c8acdb2-0be1-4be7-a3f9-6ec8eef20d44",
   "metadata": {},
   "source": [
    "For doing any sort of exhaustive/brute force evaluation, the function `lamb.meta.meta.combinations` may be useful for generating arbitrary exhaustive valuations for a set of terms."
   ]
  },
  {
   "cell_type": "markdown",
   "id": "e1478cf9-410b-423e-84f8-b0bc39390b80",
   "metadata": {},
   "source": [
    "### Models\n",
    "\n",
    "A **`meta.Model`** (alias for `meta.meta.Model`) is an object that can be used to evaluate arbitrary metalanguage expressions, patterned after the logical notion of a model. It is essentially an assignment paired with some domains for types. It is explicitly multi-sorted and does not require domains for all (or any) types. Here is a small example that defines a few entity constants and one property, over a domain of three entities:"
   ]
  },
  {
   "cell_type": "code",
   "execution_count": 165,
   "id": "bb7445e6-cd00-4681-b58e-831a9dfb9630",
   "metadata": {},
   "outputs": [],
   "source": [
    "reload_lamb()"
   ]
  },
  {
   "cell_type": "code",
   "execution_count": 166,
   "id": "a114ad34-7011-4b4a-8c10-d7abf5406702",
   "metadata": {},
   "outputs": [
    {
     "data": {
      "text/markdown": [
       "**Domain**: $D_{e} = \\{\\textsf{c3}_{e}, \\textsf{c2}_{e}, \\textsf{c1}_{e}\\}$<br />**Valuations**:<br />$\\left[\\begin{array}{lll} A & \\rightarrow & \\textsf{c1}_{e} \\\\\n",
       "B & \\rightarrow & \\textsf{c2}_{e} \\\\\n",
       "C & \\rightarrow & \\textsf{c1}_{e} \\\\\n",
       "P & \\rightarrow & \\textsf{Fun[\\{B,A\\}]}_{\\left\\langle{}e,t\\right\\rangle{}} \\\\ \\end{array}\\right]$"
      ],
      "text/plain": [
       "Model(assignment={'A': _c1, 'B': _c2, 'C': _c1, 'P': Fun[{_c2,_c1}]},\n",
       "      domain={e: {_c1, _c2, _c3}},\n",
       "      strict_charfuns=True)"
      ]
     },
     "execution_count": 166,
     "metadata": {},
     "output_type": "execute_result"
    }
   ],
   "source": [
    "m = meta.Model({'A': '_c1',\n",
    "                'B': '_c2',\n",
    "                'C': '_c1',\n",
    "                'P': {'A', 'B'}},\n",
    "               domain={'_c1', '_c2', '_c3'})\n",
    "m"
   ]
  },
  {
   "cell_type": "markdown",
   "id": "9c1050a4-a0fa-463a-9af2-5d31aef722ea",
   "metadata": {},
   "source": [
    "The constructor for `Model` takes an assignment (a `dict`/mapping) together with zero or more domain restrictions.\n",
    "\n",
    "**Specifying assignments**. The assignment maps term names into domain elements or explicit `MetaTerm`s (but not other `TypedExpr`s). Constants may be used as shortcuts in subsequent definitions (going by order in the mapping), as exemplified above.\n",
    "\n",
    "* Any domain elements may be used directly (see the documentation on Domain Elements and MetaTerms); in the above example `_c1` etc are domain elements for type `e`. This includes higher order domain elements such as functions.\n",
    "* By default, functions may be defined for model values in the assignment by providing either a mapping (usually a `dict`), or in the case of a function mapping to `t` the set that the function would characterize.\n",
    "* If you wish to use sets in your model, you can either construct them explicitly via a `MetaTerm` (which allows you to specify the exact type), or pass the named parameter `setfun=False` to the constructor, in which case a set in the assignment will be interpreted as a set.\n",
    "* `MetaTerm`s are always allowed here, and this can lead to clearer but more verbose model definitions in terms of types. However, this syntax does not allow the use of constant names as shortcuts. For example, here is an equivalent statement of the above model.\n"
   ]
  },
  {
   "cell_type": "code",
   "execution_count": 167,
   "id": "9faae670-b85c-4911-ab65-b2f6834506a1",
   "metadata": {},
   "outputs": [
    {
     "data": {
      "text/markdown": [
       "**Domain**: $D_{e} = \\{\\textsf{c3}_{e}, \\textsf{c2}_{e}, \\textsf{c1}_{e}\\}$<br />**Valuations**:<br />$\\left[\\begin{array}{lll} A & \\rightarrow & \\textsf{c1}_{e} \\\\\n",
       "B & \\rightarrow & \\textsf{c2}_{e} \\\\\n",
       "C & \\rightarrow & \\textsf{c1}_{e} \\\\\n",
       "P & \\rightarrow & \\textsf{Fun[\\{B,A\\}]}_{\\left\\langle{}e,t\\right\\rangle{}} \\\\ \\end{array}\\right]$"
      ],
      "text/plain": [
       "Model(assignment={'A': _c1, 'B': _c2, 'C': _c1, 'P': Fun[{_c2,_c1}]},\n",
       "      domain={e: {_c1, _c2, _c3}},\n",
       "      strict_charfuns=True)"
      ]
     },
     "execution_count": 167,
     "metadata": {},
     "output_type": "execute_result"
    }
   ],
   "source": [
    "meta.Model({'A': meta.MetaTerm('_c1', typ=tp(\"e\")),\n",
    "            'B': meta.MetaTerm('_c2', typ=tp(\"e\")),\n",
    "            'C': meta.MetaTerm('_c1', typ=tp(\"e\")),\n",
    "            'P': meta.MetaTerm({'_c1', '_c2'}, typ=tp(\"<e,t>\"))},\n",
    "            domain={'_c1', '_c2', '_c3'})"
   ]
  },
  {
   "cell_type": "markdown",
   "id": "8b12c17e-4ba7-473f-9435-087df7af6d59",
   "metadata": {},
   "source": [
    "* Non-`MetaTerm` values are disallowed in `Model`, even if they are constants that could be immediately resolved. If you'd like to map to arbitrary `TypedExpr`s, simply use an `Assignment`. These can be used in conjunction with a `Model`; see Example 1 below."
   ]
  },
  {
   "cell_type": "code",
   "execution_count": 168,
   "id": "609d496a-b286-46ef-b896-7d06d8bf9c68",
   "metadata": {},
   "outputs": [
    {
     "data": {
      "text/markdown": [
       "<span style=\"color:red\">**ParseError**</span>: Unknown type domain element: `f_<e,e>(A_e), type e`"
      ],
      "text/plain": [
       "ParseError: Unknown type domain element: `f_<e,e>(A_e), type e`"
      ]
     },
     "metadata": {},
     "output_type": "display_data"
    },
    {
     "data": {
      "text/markdown": [
       "<span style=\"color:red\">**ParseError**</span>: Unknown type domain element: `A_e`"
      ],
      "text/plain": [
       "ParseError: Unknown type domain element: `A_e`"
      ]
     },
     "metadata": {},
     "output_type": "display_data"
    }
   ],
   "source": [
    "with lamb.errors():\n",
    "    m['x'] = te(\"f_<e,e>(A_e)\")\n",
    "\n",
    "with lamb.errors():\n",
    "    m['x'] = te(\"A_e\")"
   ]
  },
  {
   "cell_type": "markdown",
   "id": "e7d4339d-9cb7-4a5b-b88b-ef0683b35bbe",
   "metadata": {},
   "source": [
    "**Specifying domains**. The `domain` parameter specifies zero or more domain restrictions for *atomic* type domains in the current type system. The value for `domain` can be `None` (meaning no restrictions), a single set, or a mapping of types to sets. If a single set is provided for the domain parameter, its type is inferred from the elements. To restrict multiple domains at once, use a dict(/mapping) from types to sets of elements of that type.\n",
    "\n",
    "**Differences from standard logical models.** There are a number of specific ways in which this notion of model differs from standard logical presentations that it may be useful to be aware of.\n",
    "\n",
    "* `Model` objects make no distinctions between constants and variables, and allow you to define either.\n",
    "    - When a `Model` (or really, map constructed from one) is used as an assignment, constants can't be bound and won't shift, but this isn't enforced in any way by the model object itself. Via the `Model` object, constant values may be updated or changed through the usual interfaces.\n",
    "* There is no constraint that a `Model` be complete relative to some (sub-)language, and a term being absent from the model results in that term not being evaluatable, nothing more.\n",
    "* `Model` objects are embeddded in type domains, rather than defining them; they allow whatever sorts the underlying type system allows.\n",
    "    - The absence of a model domain for some type indicates simply the absence of a domain restriction relative to the underlying type. (So for example, if type `e` is not restricted, it is treated as the default non-finite set of entities named `_c0`, `_c1`, ...)"
   ]
  },
  {
   "cell_type": "markdown",
   "id": "4dba2c8f-480d-49cd-85fe-7cf75ea4448f",
   "metadata": {},
   "source": [
    "**Advanced `Model` API notes.** \n",
    "\n",
    "* `Model`s are implemented with a `meta.meta.Assignment` as the underlying mapping object. `Model.assignment` accesses the underlying `Assignment` object for a model.\n",
    "* The `strict_charfuns` (default: `True`) named parameter to the constructor determines the behavior of mapping-based characteristic functions relative to the model domain:\n",
    "    - if it is `True`, they will be treated as partial and raise a `DomainError` if they are passed model domain elements that are not in their domain. (Non-characteristic functions always have this behavior.)\n",
    "    - if it is `False`, they will return `False` for model domain elements not in their domain. This is convenient for using a mapping notation relative to very large (or notionally non-finite) type domains.\n",
    "* `Model`s support the full `collections.abc.Mapping` API. Unlike `Assignment` (and `Namespace`) their values *must* be `MetaTerm`s. The shortcuts in construction can also be used in assignment, e.g. relative to the above model the string `A` will instantiate `MetaTerm(_c1)`.\n",
    "* Trying to set a value to a non-meta `TypedExpr` will raise an exception. Models can be used as a base for a more flexible mapping by wrapping them in a [`ChainMap`](https://docs.python.org/3/library/collections.html#collections.ChainMap); when using a `Model` directly as an assignment (e.g. via `under_assignment`) this is taken care of automatically."
   ]
  },
  {
   "cell_type": "markdown",
   "id": "58575477-6cb2-4445-974b-cbc8e3587706",
   "metadata": {},
   "source": [
    "#### Evaluating expressions with a `Model`\n",
    "\n",
    "One way to use a model is via its `evaluate` function. This function takes a typed expression, and uses the model's content to evaluate the expression by substituting terms and using the provided domain. By default this call triggers simplification after substitution; you can override this with the named parameter `simplify=False`. Model-defined constants evaluated this way are displayed in sans serif with their meta-value in a superscript."
   ]
  },
  {
   "cell_type": "code",
   "execution_count": 169,
   "id": "21f55c76-ae10-4f2d-92ae-69212b863012",
   "metadata": {},
   "outputs": [
    {
     "data": {
      "text/html": [
       "<div align=\"left\" style=\"display:table;\"><div style=\"display:table-cell;vertical-align:top;padding-left:5px;padding-right:5px;padding-top:0.2em\"><div style=\"display:table;\"><div style=\"display:table-row;vertical-align:top;\"><div align=\"left\" style=\"display:table;border-collapse:collapse;\"><div style=\"display:table-row;border-bottom:1px solid #848482;\"><div style=\"display:table-cell;padding:0.2em 5px 0.2em 0px;vertical-align:top;\"></div><div style=\"display:table-cell;vertical-align:top;border-right:1px solid #848482;padding-right:5px;;padding-top:0.2em\"><div style=\"display:inline-block;\"><span>${P}({A}_{e})$</span></div></div><div style=\"display:table-cell;vertical-align:top;padding-left:5px;padding-right:5px;padding-top:0.2em\"><div style=\"display:table;\"><div style=\"display:table-row;\"><div style=\"white-space:nowrap; color:blue;\"><span>Assignment substitution</span></div></div></div></div></div><div style=\"display:table-row;border-bottom:1px solid #848482;\"><div style=\"display:table-cell;padding:0.2em 5px 0.2em 0px;vertical-align:top;\"> 1. </div><div style=\"display:table-cell;vertical-align:top;border-right:1px solid #848482;padding-right:5px;;padding-top:0.2em\"><div style=\"display:inline-block;\"><span>${\\textsf{P}}^{\\text{\\textsf{[meta]}}}({\\textsf{A}}^{\\textsf{c1}}_{e})$</span></div></div><div style=\"display:table-cell;vertical-align:top;padding-left:5px;padding-right:5px;padding-top:0.2em\"><div style=\"display:table;\"><div style=\"display:table-row;\"><div style=\"white-space:nowrap; color:blue;\"><span>Reduction</span></div></div></div></div></div><div style=\"display:table-row;\"><div style=\"display:table-cell;padding:0.2em 5px 0.2em 0px;vertical-align:top;\"> 2. </div><div style=\"display:table-cell;vertical-align:top;border-right:1px solid #848482;padding-right:5px;;padding-top:0.2em\"><div style=\"display:inline-block;\"><span>$\\textsf{True}$</span></div></div></div></div></div></div></div></div>"
      ],
      "text/plain": [
       " 1. P_<e,t>(A_e)    (Assignment substitution)\n",
       " 2. Fun[{_c2,_c1}](_c1)    (Reduction)\n",
       " 3. True"
      ]
     },
     "execution_count": 169,
     "metadata": {},
     "output_type": "execute_result"
    }
   ],
   "source": [
    "m.evaluate(te(\"P_<e,t>(A_e)\")).derivation"
   ]
  },
  {
   "cell_type": "markdown",
   "id": "a80100ad-3974-489e-bb29-81bbd6fb94b0",
   "metadata": {},
   "source": [
    "As a shortcut, a `Model` object is callable, and calling it triggers the `evaluate` function."
   ]
  },
  {
   "cell_type": "code",
   "execution_count": 170,
   "id": "5e23a2b6-0f87-4c5c-a599-0f2fdd6341f4",
   "metadata": {},
   "outputs": [
    {
     "data": {
      "text/html": [
       "<div align=\"left\" style=\"display:table;\"><div style=\"display:table-cell;vertical-align:top;padding-left:5px;padding-right:5px;padding-top:0.2em\"><div style=\"display:table;\"><div style=\"display:table-row;vertical-align:top;\"><div align=\"left\" style=\"display:table;border-collapse:collapse;\"><div style=\"display:table-row;border-bottom:1px solid #848482;\"><div style=\"display:table-cell;padding:0.2em 5px 0.2em 0px;vertical-align:top;\"></div><div style=\"display:table-cell;vertical-align:top;border-right:1px solid #848482;padding-right:5px;;padding-top:0.2em\"><div style=\"display:inline-block;\"><span>${P}({A}_{e})$</span></div></div><div style=\"display:table-cell;vertical-align:top;padding-left:5px;padding-right:5px;padding-top:0.2em\"><div style=\"display:table;\"><div style=\"display:table-row;\"><div style=\"white-space:nowrap; color:blue;\"><span>Assignment substitution</span></div></div></div></div></div><div style=\"display:table-row;border-bottom:1px solid #848482;\"><div style=\"display:table-cell;padding:0.2em 5px 0.2em 0px;vertical-align:top;\"> 1. </div><div style=\"display:table-cell;vertical-align:top;border-right:1px solid #848482;padding-right:5px;;padding-top:0.2em\"><div style=\"display:inline-block;\"><span>${\\textsf{P}}^{\\text{\\textsf{[meta]}}}({\\textsf{A}}^{\\textsf{c1}}_{e})$</span></div></div><div style=\"display:table-cell;vertical-align:top;padding-left:5px;padding-right:5px;padding-top:0.2em\"><div style=\"display:table;\"><div style=\"display:table-row;\"><div style=\"white-space:nowrap; color:blue;\"><span>Reduction</span></div></div></div></div></div><div style=\"display:table-row;\"><div style=\"display:table-cell;padding:0.2em 5px 0.2em 0px;vertical-align:top;\"> 2. </div><div style=\"display:table-cell;vertical-align:top;border-right:1px solid #848482;padding-right:5px;;padding-top:0.2em\"><div style=\"display:inline-block;\"><span>$\\textsf{True}$</span></div></div></div></div></div></div></div></div>"
      ],
      "text/plain": [
       " 1. P_<e,t>(A_e)    (Assignment substitution)\n",
       " 2. Fun[{_c2,_c1}](_c1)    (Reduction)\n",
       " 3. True"
      ]
     },
     "execution_count": 170,
     "metadata": {},
     "output_type": "execute_result"
    }
   ],
   "source": [
    "m(te(\"P_<e,t>(A_e)\")).derivation"
   ]
  },
  {
   "cell_type": "markdown",
   "id": "9c76f241-23d6-45eb-b3ee-c02433254960",
   "metadata": {},
   "source": [
    "Because the domain is finite, quantified expressions can be evaluated on this model:"
   ]
  },
  {
   "cell_type": "code",
   "execution_count": 171,
   "id": "35681e0f-427c-42a9-92a4-ead7a525b55c",
   "metadata": {},
   "outputs": [
    {
     "data": {
      "text/html": [
       "<div align=\"left\" style=\"display:table;\"><div style=\"display:table-cell;vertical-align:top;padding-left:5px;padding-right:5px;padding-top:0.2em\"><div style=\"display:table;\"><div style=\"display:table-row;vertical-align:top;\"><div align=\"left\" style=\"display:table;border-collapse:collapse;\"><div style=\"display:table-row;border-bottom:1px solid #848482;\"><div style=\"display:table-cell;padding:0.2em 5px 0.2em 0px;vertical-align:top;\"></div><div style=\"display:table-cell;vertical-align:top;border-right:1px solid #848482;padding-right:5px;;padding-top:0.2em\"><div style=\"display:inline-block;\"><span>$\\exists{} x_{e} \\: . \\: {P}({x})$</span></div></div><div style=\"display:table-cell;vertical-align:top;padding-left:5px;padding-right:5px;padding-top:0.2em\"><div style=\"display:table;\"><div style=\"display:table-row;\"><div style=\"white-space:nowrap; color:blue;\"><span>Assignment substitution</span></div></div></div></div></div><div style=\"display:table-row;border-bottom:1px solid #848482;\"><div style=\"display:table-cell;padding:0.2em 5px 0.2em 0px;vertical-align:top;\"> 1. </div><div style=\"display:table-cell;vertical-align:top;border-right:1px solid #848482;padding-right:5px;;padding-top:0.2em\"><div style=\"display:inline-block;\"><span>$\\exists{} x_{e} \\: . \\: {\\textsf{P}}^{\\text{\\textsf{[meta]}}}({x})$</span></div></div><div style=\"display:table-cell;vertical-align:top;padding-left:5px;padding-right:5px;padding-top:0.2em\"><div style=\"display:table;\"><div style=\"display:table-row;\"><div style=\"white-space:nowrap; color:blue;\"><span>verifier for ∃x</span></div></div><div style=\"display:table-row;vertical-align:top;\"><div align=\"left\" style=\"display:table;border-collapse:collapse;\"><div style=\"display:table-row;border-bottom:1px solid #848482;\"><div style=\"display:table-cell;padding:0.2em 5px 0.2em 0px;vertical-align:top;\"></div><div style=\"display:table-cell;vertical-align:top;border-right:1px solid #848482;padding-right:5px;;padding-top:0.2em\"><div style=\"display:inline-block;\"><span>${\\textsf{P}}^{\\text{\\textsf{[meta]}}}({x}_{e})$</span></div></div><div style=\"display:table-cell;vertical-align:top;padding-left:5px;padding-right:5px;padding-top:0.2em\"><div style=\"display:table;\"><div style=\"display:table-row;\"><div style=\"white-space:nowrap; color:blue;\"><span>Assignment substitution</span></div></div></div></div></div><div style=\"display:table-row;border-bottom:1px solid #848482;\"><div style=\"display:table-cell;padding:0.2em 5px 0.2em 0px;vertical-align:top;\"> 1. </div><div style=\"display:table-cell;vertical-align:top;border-right:1px solid #848482;padding-right:5px;;padding-top:0.2em\"><div style=\"display:inline-block;\"><span>${\\textsf{P}}^{\\text{\\textsf{[meta]}}}({x}^{B/\\textsf{c2}}_{e})$</span></div></div><div style=\"display:table-cell;vertical-align:top;padding-left:5px;padding-right:5px;padding-top:0.2em\"><div style=\"display:table;\"><div style=\"display:table-row;\"><div style=\"white-space:nowrap; color:blue;\"><span>Reduction</span></div></div></div></div></div><div style=\"display:table-row;\"><div style=\"display:table-cell;padding:0.2em 5px 0.2em 0px;vertical-align:top;\"> 2. </div><div style=\"display:table-cell;vertical-align:top;border-right:1px solid #848482;padding-right:5px;;padding-top:0.2em\"><div style=\"display:inline-block;\"><span>$\\textsf{True}$</span></div></div></div></div></div></div></div></div><div style=\"display:table-row;\"><div style=\"display:table-cell;padding:0.2em 5px 0.2em 0px;vertical-align:top;\"> 2. </div><div style=\"display:table-cell;vertical-align:top;border-right:1px solid #848482;padding-right:5px;;padding-top:0.2em\"><div style=\"display:inline-block;\"><span>$\\textsf{True}$</span></div></div></div></div></div></div></div></div>"
      ],
      "text/plain": [
       "DisplayNode instance: HTML rendering only"
      ]
     },
     "execution_count": 171,
     "metadata": {},
     "output_type": "execute_result"
    }
   ],
   "source": [
    "m.evaluate(te(\"Exists x_e : P_<e,t>(x)\")).derivation.trace()"
   ]
  },
  {
   "cell_type": "code",
   "execution_count": 124,
   "id": "f3ff3961-4c44-4c72-bf35-85d746924856",
   "metadata": {},
   "outputs": [
    {
     "data": {
      "text/html": [
       "<div align=\"left\" style=\"display:table;\"><div style=\"display:table-cell;vertical-align:top;padding-left:5px;padding-right:5px;padding-top:0.2em\"><div style=\"display:table;\"><div style=\"display:table-row;vertical-align:top;\"><div align=\"left\" style=\"display:table;border-collapse:collapse;\"><div style=\"display:table-row;border-bottom:1px solid #848482;\"><div style=\"display:table-cell;padding:0.2em 5px 0.2em 0px;vertical-align:top;\"></div><div style=\"display:table-cell;vertical-align:top;border-right:1px solid #848482;padding-right:5px;;padding-top:0.2em\"><div style=\"display:inline-block;\"><span>$\\forall{} x_{e} \\: . \\: {P}({x})$</span></div></div><div style=\"display:table-cell;vertical-align:top;padding-left:5px;padding-right:5px;padding-top:0.2em\"><div style=\"display:table;\"><div style=\"display:table-row;\"><div style=\"white-space:nowrap; color:blue;\"><span>Assignment substitution</span></div></div></div></div></div><div style=\"display:table-row;border-bottom:1px solid #848482;\"><div style=\"display:table-cell;padding:0.2em 5px 0.2em 0px;vertical-align:top;\"> 1. </div><div style=\"display:table-cell;vertical-align:top;border-right:1px solid #848482;padding-right:5px;;padding-top:0.2em\"><div style=\"display:inline-block;\"><span>$\\forall{} x_{e} \\: . \\: {\\textsf{P}}^{\\text{\\textsf{[meta]}}}({x})$</span></div></div><div style=\"display:table-cell;vertical-align:top;padding-left:5px;padding-right:5px;padding-top:0.2em\"><div style=\"display:table;\"><div style=\"display:table-row;\"><div style=\"white-space:nowrap; color:blue;\"><span>counterexample for ∀x</span></div></div><div style=\"display:table-row;vertical-align:top;\"><div align=\"left\" style=\"display:table;border-collapse:collapse;\"><div style=\"display:table-row;border-bottom:1px solid #848482;\"><div style=\"display:table-cell;padding:0.2em 5px 0.2em 0px;vertical-align:top;\"></div><div style=\"display:table-cell;vertical-align:top;border-right:1px solid #848482;padding-right:5px;;padding-top:0.2em\"><div style=\"display:inline-block;\"><span>${\\textsf{P}}^{\\text{\\textsf{[meta]}}}({x}_{e})$</span></div></div><div style=\"display:table-cell;vertical-align:top;padding-left:5px;padding-right:5px;padding-top:0.2em\"><div style=\"display:table;\"><div style=\"display:table-row;\"><div style=\"white-space:nowrap; color:blue;\"><span>Assignment substitution</span></div></div></div></div></div><div style=\"display:table-row;border-bottom:1px solid #848482;\"><div style=\"display:table-cell;padding:0.2em 5px 0.2em 0px;vertical-align:top;\"> 1. </div><div style=\"display:table-cell;vertical-align:top;border-right:1px solid #848482;padding-right:5px;;padding-top:0.2em\"><div style=\"display:inline-block;\"><span>${\\textsf{P}}^{\\text{\\textsf{[meta]}}}({x}^{\\textsf{c3}}_{e})$</span></div></div><div style=\"display:table-cell;vertical-align:top;padding-left:5px;padding-right:5px;padding-top:0.2em\"><div style=\"display:table;\"><div style=\"display:table-row;\"><div style=\"white-space:nowrap; color:blue;\"><span>Reduction</span></div></div></div></div></div><div style=\"display:table-row;\"><div style=\"display:table-cell;padding:0.2em 5px 0.2em 0px;vertical-align:top;\"> 2. </div><div style=\"display:table-cell;vertical-align:top;border-right:1px solid #848482;padding-right:5px;;padding-top:0.2em\"><div style=\"display:inline-block;\"><span>$\\textsf{False}$</span></div></div></div></div></div></div></div></div><div style=\"display:table-row;\"><div style=\"display:table-cell;padding:0.2em 5px 0.2em 0px;vertical-align:top;\"> 2. </div><div style=\"display:table-cell;vertical-align:top;border-right:1px solid #848482;padding-right:5px;;padding-top:0.2em\"><div style=\"display:inline-block;\"><span>$\\textsf{False}$</span></div></div></div></div></div></div></div></div>"
      ],
      "text/plain": [
       "DisplayNode instance: HTML rendering only"
      ]
     },
     "execution_count": 124,
     "metadata": {},
     "output_type": "execute_result"
    }
   ],
   "source": [
    "m.evaluate(te(\"Forall x_e : P_<e,t>(x)\")).derivation.trace()"
   ]
  },
  {
   "cell_type": "markdown",
   "id": "910028b8-3c53-4f84-8e77-d1a91616706d",
   "metadata": {},
   "source": [
    "As noted above, there is no requirement that an expression's terms be present in the model, but of course in this case any missing terms can't be evaluated:"
   ]
  },
  {
   "cell_type": "code",
   "execution_count": 125,
   "id": "df26dd06-749b-4616-b25f-1388e62bd1ed",
   "metadata": {},
   "outputs": [
    {
     "data": {
      "text/latex": [
       "$\\forall{} x_{e} \\: . \\: {Q}({x})$"
      ],
      "text/plain": [
       "(Forall x_e: Q_<e,t>(x_e))"
      ]
     },
     "execution_count": 125,
     "metadata": {},
     "output_type": "execute_result"
    }
   ],
   "source": [
    "m.evaluate(te(\"Forall x_e : Q_<e,t>(x)\"))"
   ]
  },
  {
   "cell_type": "markdown",
   "id": "20e7f157-b7e7-4e67-815c-ce9cae63da48",
   "metadata": {},
   "source": [
    "There is, on the other hand, a requirement on evaluation that any terms that have the same name as model-defined terms match in type. Mismatches will produce a `TypeMismatch` exception:"
   ]
  },
  {
   "cell_type": "code",
   "execution_count": 126,
   "id": "8a1564c8-5bec-4fdc-a758-5fb5199e5640",
   "metadata": {},
   "outputs": [
    {
     "data": {
      "text/markdown": [
       "<span style=\"color:red\">**TypeMismatch**</span>: `P_<t,t>` and `Fun[{_c2,_c1}]` conflict (Variable replace failed with mismatched types)"
      ],
      "text/plain": [
       "TypeMismatch: `P_<t,t>` and `Fun[{_c2,_c1}]` conflict (Variable replace failed with mismatched types)"
      ]
     },
     "metadata": {},
     "output_type": "display_data"
    }
   ],
   "source": [
    "with lamb.errors():\n",
    "    m.evaluate(te(\"P_<t,t>\"))"
   ]
  },
  {
   "cell_type": "markdown",
   "id": "362bb760-738c-4be9-b8e0-0c62a9b6e9eb",
   "metadata": {},
   "source": [
    "Further notes on `evaluate`:\n",
    "\n",
    "* This function can take an `Assignment` object, and will evaluate every value in the `Assignment`, returning a modified version.\n",
    "* It is implemented using `under_assignment`, in contrast to the following technique."
   ]
  },
  {
   "cell_type": "markdown",
   "id": "15a9b0e6-d9bb-499c-a3d7-6b8900444b7f",
   "metadata": {},
   "source": [
    "#### Interpreting under a `Model` via context managers\n",
    "\n",
    "The second way to use models is via a context manager using python's `with` syntax. (Like all context manager expressions, the final line of the indented block is not the cell's return value, so in these examples IPython's `display` is called directly.) In the scope of `with m.under()`, all of the assignments that make up the model are temporarily inserted into the metalanguage's global namespace, and domain restrictions are applied to the relevant type domains. Values in this namespace will directly impact any `te` magics or calls in the scope, and any `%lamb` line magics -- substitutions from the global namespace are used when building an expression (rather than substituted later)."
   ]
  },
  {
   "cell_type": "code",
   "execution_count": 127,
   "id": "d408332c-b818-476e-b378-d77518c7b866",
   "metadata": {},
   "outputs": [
    {
     "data": {
      "text/markdown": [
       "${A}_{e}\\:=\\:\\textsf{c1}_{e}$<br />\n",
       "${B}_{e}\\:=\\:\\textsf{c2}_{e}$<br />\n",
       "${C}_{e}\\:=\\:\\textsf{c1}_{e}$<br />\n",
       "${P}\\:=\\:\\textsf{Fun[\\{B,A\\}]}_{\\left\\langle{}e,t\\right\\rangle{}}$"
      ],
      "text/plain": [
       "A_e = _c1\n",
       "B_e = _c2\n",
       "C_e = _c1\n",
       "P_<e,t> = Fun[{B,A}]"
      ]
     },
     "metadata": {},
     "output_type": "display_data"
    },
    {
     "data": {
      "text/html": [
       "<div align=\"left\" style=\"display:table;\"><div style=\"display:table-cell;vertical-align:top;padding-left:5px;padding-right:5px;padding-top:0.2em\"><div style=\"display:table;\"><div style=\"display:table-row;vertical-align:top;\"><div align=\"left\" style=\"display:table;border-collapse:collapse;\"><div style=\"display:table-row;border-bottom:1px solid #848482;\"><div style=\"display:table-cell;padding:0.2em 5px 0.2em 0px;vertical-align:top;\"></div><div style=\"display:table-cell;vertical-align:top;border-right:1px solid #848482;padding-right:5px;;padding-top:0.2em\"><div style=\"display:inline-block;\"><span>$\\forall{} x_{e} \\: . \\: {\\textsf{P}}^{\\text{\\textsf{[meta]}}}({x})$</span></div></div><div style=\"display:table-cell;vertical-align:top;padding-left:5px;padding-right:5px;padding-top:0.2em\"><div style=\"display:table;\"><div style=\"display:table-row;\"><div style=\"white-space:nowrap; color:blue;\"><span>counterexample for ∀x</span></div></div></div></div></div><div style=\"display:table-row;\"><div style=\"display:table-cell;padding:0.2em 5px 0.2em 0px;vertical-align:top;\"> 1. </div><div style=\"display:table-cell;vertical-align:top;border-right:1px solid #848482;padding-right:5px;;padding-top:0.2em\"><div style=\"display:inline-block;\"><span>$\\textsf{False}$</span></div></div></div></div></div></div></div></div>"
      ],
      "text/plain": [
       " 1. (Forall x_e: Fun[{B,A}](x_e))    (counterexample for ∀x)\n",
       " 2. False"
      ]
     },
     "metadata": {},
     "output_type": "display_data"
    }
   ],
   "source": [
    "with m.under():\n",
    "    display(meta.global_namespace())\n",
    "    x = %te simplify Forall x_e : P_<e,t>(x)\n",
    "    display(x.derivation)"
   ]
  },
  {
   "cell_type": "markdown",
   "id": "fefb7e8b-ff76-42ba-884a-fe8507470202",
   "metadata": {},
   "source": [
    "In order to make formulas easier to read, in the scope of a `m.under()` if the global namespace defines an entity constant, domain elements are rendered as that constant set in sans serif, with the actual value in a superscript. If there's more than one such definition, the first is used. "
   ]
  },
  {
   "cell_type": "code",
   "execution_count": 128,
   "id": "0e3370fe-5175-4a00-a1f2-357dec0d3a95",
   "metadata": {},
   "outputs": [
    {
     "data": {
      "text/latex": [
       "${\\textsf{A}}^{\\textsf{c1}}_{e}$"
      ],
      "text/plain": [
       "_c1"
      ]
     },
     "metadata": {},
     "output_type": "display_data"
    }
   ],
   "source": [
    "with m.under():\n",
    "    display(te(\"_c1\"))"
   ]
  },
  {
   "cell_type": "markdown",
   "id": "2279a5c6-f77a-4d43-bf69-9034f1583784",
   "metadata": {},
   "source": [
    "Python `with` expressions do not create a new scope, and variables defined in them persist past that scope. Any expressions created or evaluated (see below) in the scope of a model will therefore have the model-assigned values even if used outside the model's scope, though domain restrictions are purely temporary for regular expression creation and simplification. (Note: in contrast, compiled formulas are compiled with the current domain restriction!)"
   ]
  },
  {
   "cell_type": "code",
   "execution_count": 129,
   "id": "97cbc100-76a6-4c4e-933d-cda3af075352",
   "metadata": {},
   "outputs": [
    {
     "data": {
      "text/html": [
       "<div align=\"left\" style=\"display:table;\"><div style=\"display:table-cell;vertical-align:top;padding-left:5px;padding-right:5px;padding-top:0.2em\"><div style=\"display:table;\"><div style=\"display:table-row;vertical-align:top;\"><div align=\"left\" style=\"display:table;border-collapse:collapse;\"><div style=\"display:table-row;border-bottom:1px solid #848482;\"><div style=\"display:table-cell;padding:0.2em 5px 0.2em 0px;vertical-align:top;\"></div><div style=\"display:table-cell;vertical-align:top;border-right:1px solid #848482;padding-right:5px;;padding-top:0.2em\"><div style=\"display:inline-block;\"><span>${\\textsf{P}}^{\\text{\\textsf{[meta]}}}({\\textsf{A}}^{\\textsf{c1}}_{e})$</span></div></div><div style=\"display:table-cell;vertical-align:top;padding-left:5px;padding-right:5px;padding-top:0.2em\"><div style=\"display:table;\"><div style=\"display:table-row;\"><div style=\"white-space:nowrap; color:blue;\"><span>Reduction</span></div></div></div></div></div><div style=\"display:table-row;\"><div style=\"display:table-cell;padding:0.2em 5px 0.2em 0px;vertical-align:top;\"> 1. </div><div style=\"display:table-cell;vertical-align:top;border-right:1px solid #848482;padding-right:5px;;padding-top:0.2em\"><div style=\"display:inline-block;\"><span>$\\textsf{True}$</span></div></div></div></div></div></div></div></div>"
      ],
      "text/plain": [
       " 1. Fun[{_c2,_c1}](_c1)    (Reduction)\n",
       " 2. True"
      ]
     },
     "execution_count": 129,
     "metadata": {},
     "output_type": "execute_result"
    }
   ],
   "source": [
    "with m.under():\n",
    "    x = %te P(A)\n",
    "x.simplify_all().derivation"
   ]
  },
  {
   "cell_type": "markdown",
   "id": "95026dbb-6d22-48b4-909a-ca497768882c",
   "metadata": {},
   "source": [
    "A `Model`'s `under()` context manager is compatible with `as`, and when this syntax is used, it provides an object with two handy properties. First, the object allows (read-only) access to the model's valuations via attributes:"
   ]
  },
  {
   "cell_type": "code",
   "execution_count": 130,
   "id": "763c06bc-ea1c-4606-9247-94ee7fed7428",
   "metadata": {},
   "outputs": [
    {
     "data": {
      "text/latex": [
       "$\\textsf{Fun[\\{B,A\\}]}_{\\left\\langle{}e,t\\right\\rangle{}}$"
      ],
      "text/plain": [
       "Fun[{B,A}]"
      ]
     },
     "metadata": {},
     "output_type": "display_data"
    }
   ],
   "source": [
    "with m.under() as v:\n",
    "    display(v.P)"
   ]
  },
  {
   "cell_type": "markdown",
   "id": "4ad7c4e5-af2e-4084-913c-ab4d4b31f8fd",
   "metadata": {},
   "source": [
    "Second, the `as` object is callable, and calling it is a shortcut to calling `evaluate` from the model on a provided object. This can be quickly used to reevaluate a previously generated `TypedExpr` in the scope of a model.\n",
    "\n",
    "*Related caveat*:  `TypedExpr` object created outside of the scope of a model or assignment will not automatically have its terms reinterpreted when used in the context of a model! For example, the `%te`-generated expression below has a type for `P` that is compatible with the model, but at the point of parsing it is just an arbitrary predicate. The `v(x)` call in the scope of a context manager evaluates (and simplifies) it:"
   ]
  },
  {
   "cell_type": "code",
   "execution_count": 131,
   "id": "aa26e72d-7d5b-4959-8be9-afd0b564db80",
   "metadata": {},
   "outputs": [
    {
     "data": {
      "text/html": [
       "<div align=\"left\" style=\"display:table;\"><div style=\"display:table-cell;vertical-align:top;padding-left:5px;padding-right:5px;padding-top:0.2em\"><div style=\"display:table;\"><div style=\"display:table-row;vertical-align:top;\"><div align=\"left\" style=\"display:table;border-collapse:collapse;\"><div style=\"display:table-row;border-bottom:1px solid #848482;\"><div style=\"display:table-cell;padding:0.2em 5px 0.2em 0px;vertical-align:top;\"></div><div style=\"display:table-cell;vertical-align:top;border-right:1px solid #848482;padding-right:5px;;padding-top:0.2em\"><div style=\"display:inline-block;\"><span>${P}({\\textsf{A}}^{\\textsf{c1}}_{e})$</span></div></div><div style=\"display:table-cell;vertical-align:top;padding-left:5px;padding-right:5px;padding-top:0.2em\"><div style=\"display:table;\"><div style=\"display:table-row;\"><div style=\"white-space:nowrap; color:blue;\"><span>Assignment substitution</span></div></div></div></div></div><div style=\"display:table-row;border-bottom:1px solid #848482;\"><div style=\"display:table-cell;padding:0.2em 5px 0.2em 0px;vertical-align:top;\"> 1. </div><div style=\"display:table-cell;vertical-align:top;border-right:1px solid #848482;padding-right:5px;;padding-top:0.2em\"><div style=\"display:inline-block;\"><span>${\\textsf{P}}^{\\text{\\textsf{[meta]}}}({\\textsf{A}}^{\\textsf{c1}}_{e})$</span></div></div><div style=\"display:table-cell;vertical-align:top;padding-left:5px;padding-right:5px;padding-top:0.2em\"><div style=\"display:table;\"><div style=\"display:table-row;\"><div style=\"white-space:nowrap; color:blue;\"><span>Reduction</span></div></div></div></div></div><div style=\"display:table-row;\"><div style=\"display:table-cell;padding:0.2em 5px 0.2em 0px;vertical-align:top;\"> 2. </div><div style=\"display:table-cell;vertical-align:top;border-right:1px solid #848482;padding-right:5px;;padding-top:0.2em\"><div style=\"display:inline-block;\"><span>$\\textsf{True}$</span></div></div></div></div></div></div></div></div>"
      ],
      "text/plain": [
       " 1. P_<e,t>(_c1)    (Assignment substitution)\n",
       " 2. Fun[{B,A}](_c1)    (Reduction)\n",
       " 3. True"
      ]
     },
     "metadata": {},
     "output_type": "display_data"
    }
   ],
   "source": [
    "x = %te P_<e,t>(_c1)\n",
    "with m.under() as v:\n",
    "    display(v(x).derivation)"
   ]
  },
  {
   "cell_type": "markdown",
   "id": "4fcc93df-e47d-4df2-af95-28498f8db332",
   "metadata": {},
   "source": [
    "#### Modifying namespaces and type domains directly with a `Model`\n",
    "\n",
    "A similar effect on assignments to the context manager approach can be achieved more permanently by modifying the namespace using a model. By default, the global namespace is an empty object of type `utils.Namespace`:"
   ]
  },
  {
   "cell_type": "code",
   "execution_count": 132,
   "id": "1f21ffb5-e715-46da-a899-5604831cf471",
   "metadata": {},
   "outputs": [
    {
     "data": {
      "text/markdown": [
       "*(Empty Namespace)*"
      ],
      "text/plain": [
       "(Empty Namespace)"
      ]
     },
     "execution_count": 132,
     "metadata": {},
     "output_type": "execute_result"
    }
   ],
   "source": [
    "meta.global_namespace()"
   ]
  },
  {
   "cell_type": "markdown",
   "id": "05aa791f-d4b4-4541-bb01-a6212490c4c9",
   "metadata": {},
   "source": [
    "Calling `modify` on the namespace can be used to insert an assignment of any kind into that namespace, including a `Model`. (Running this cell repeatedly will make multiple modifications; the function does not check for duplicates.) Note that this does not make use of the model's domain!"
   ]
  },
  {
   "cell_type": "code",
   "execution_count": 133,
   "id": "a719f019-2bff-4960-8fba-0fd6c7fc75b6",
   "metadata": {},
   "outputs": [
    {
     "data": {
      "text/markdown": [
       "${A}_{e}\\:=\\:\\textsf{c1}_{e}$<br />\n",
       "${B}_{e}\\:=\\:\\textsf{c2}_{e}$<br />\n",
       "${C}_{e}\\:=\\:\\textsf{c1}_{e}$<br />\n",
       "${P}\\:=\\:\\textsf{Fun[\\{c2,c1\\}]}_{\\left\\langle{}e,t\\right\\rangle{}}$"
      ],
      "text/plain": [
       "A_e = _c1\n",
       "B_e = _c2\n",
       "C_e = _c1\n",
       "P_<e,t> = Fun[{_c2,_c1}]"
      ]
     },
     "execution_count": 133,
     "metadata": {},
     "output_type": "execute_result"
    }
   ],
   "source": [
    "meta.global_namespace().modify(m)\n",
    "meta.global_namespace()"
   ]
  },
  {
   "cell_type": "markdown",
   "id": "6d1cff3f-76ba-4a11-bc9b-228c5188eceb",
   "metadata": {},
   "source": [
    "A very important thing to be aware of: modifications to the global namespace, while it is being modified by a `Model`, *will change that model*! To avoid this, modify with a copy using e.g. `m.copy()` instead of `m`."
   ]
  },
  {
   "cell_type": "code",
   "execution_count": 134,
   "id": "5c7cd8a4-180b-463b-88dc-c8fffcbc1ac2",
   "metadata": {},
   "outputs": [],
   "source": [
    "meta.global_namespace()['C'] = '_c2'"
   ]
  },
  {
   "cell_type": "code",
   "execution_count": 135,
   "id": "cc1cbc2b-e588-48b2-a789-5d5ed4d81af6",
   "metadata": {},
   "outputs": [
    {
     "data": {
      "text/markdown": [
       "**Domain**: $D_{e} = \\{\\textsf{c3}_{e}, \\textsf{c2}_{e}, \\textsf{c1}_{e}\\}$<br />**Valuations**:<br />$\\left[\\begin{array}{lll} A & \\rightarrow & \\textsf{c1}_{e} \\\\\n",
       "B & \\rightarrow & \\textsf{c2}_{e} \\\\\n",
       "C & \\rightarrow & \\textsf{c2}_{e} \\\\\n",
       "P & \\rightarrow & \\textsf{Fun[\\{B,A\\}]}_{\\left\\langle{}e,t\\right\\rangle{}} \\\\ \\end{array}\\right]$"
      ],
      "text/plain": [
       "Model(assignment={'A': _c1, 'B': _c2, 'C': _c2, 'P': Fun[{_c2,_c1}]},\n",
       "      domain={e: {_c1, _c2, _c3}},\n",
       "      strict_charfuns=True)"
      ]
     },
     "execution_count": 135,
     "metadata": {},
     "output_type": "execute_result"
    }
   ],
   "source": [
    "m"
   ]
  },
  {
   "cell_type": "markdown",
   "id": "8d1956b3-cbb5-45aa-839b-c892b7c9dbfc",
   "metadata": {},
   "source": [
    "A modification to a namespace can be removed by using `pop_child()`, or the namespace can be reset entirely with `reset()`. The current stack of modifications can be accessed  using the `maps` property."
   ]
  },
  {
   "cell_type": "code",
   "execution_count": 136,
   "id": "c27759a9-bcf9-415c-bb23-f5469f94c8c7",
   "metadata": {},
   "outputs": [
    {
     "data": {
      "text/plain": [
       "[Model(assignment={'A': _c1, 'B': _c2, 'C': _c2, 'P': Fun[{_c2,_c1}]},\n",
       "       domain={e: {_c1, _c2, _c3}},\n",
       "       strict_charfuns=True),\n",
       " {}]"
      ]
     },
     "execution_count": 136,
     "metadata": {},
     "output_type": "execute_result"
    }
   ],
   "source": [
    "meta.global_namespace().maps"
   ]
  },
  {
   "cell_type": "code",
   "execution_count": 137,
   "id": "2acb4599-69f0-4841-8711-9e1ede70645c",
   "metadata": {},
   "outputs": [
    {
     "data": {
      "text/markdown": [
       "*(Empty Namespace)*"
      ],
      "text/plain": [
       "(Empty Namespace)"
      ]
     },
     "execution_count": 137,
     "metadata": {},
     "output_type": "execute_result"
    }
   ],
   "source": [
    "meta.global_namespace().reset() # or: meta.global_namespace().pop_child()\n",
    "meta.global_namespace()"
   ]
  },
  {
   "cell_type": "markdown",
   "id": "36e6655f-6a1b-429d-976d-30d24ea26161",
   "metadata": {},
   "source": [
    "Similarly, to apply a model's type domain restrictions in a more lasting fashion, the function `modify_domains` on the type system can  be used. Similar to other `modify` calls, repeated calls to this function will stack even if they don't make a change. `reset_domains` restores every type to have completely unmodified domains."
   ]
  },
  {
   "cell_type": "code",
   "execution_count": 138,
   "id": "dd41c0be-e9fd-402f-a6aa-69272a83eb7f",
   "metadata": {},
   "outputs": [
    {
     "data": {
      "text/plain": [
       "Subdomain {'_c3', '_c2', '_c1'} of SimpleInfiniteSet('c')"
      ]
     },
     "execution_count": 138,
     "metadata": {},
     "output_type": "execute_result"
    }
   ],
   "source": [
    "meta.get_type_system().modify_domains(m)\n",
    "tp(\"e\").domain"
   ]
  },
  {
   "cell_type": "code",
   "execution_count": 139,
   "id": "daff3e8f-6a48-4bb0-9e2d-60ce018c955d",
   "metadata": {},
   "outputs": [
    {
     "data": {
      "text/plain": [
       "SimpleInfiniteSet('c')"
      ]
     },
     "execution_count": 139,
     "metadata": {},
     "output_type": "execute_result"
    }
   ],
   "source": [
    "meta.get_type_system().reset_domains()\n",
    "tp(\"e\").domain"
   ]
  },
  {
   "cell_type": "markdown",
   "id": "d89076dc-122f-42b5-b8e3-443c1d5dc4a5",
   "metadata": {},
   "source": [
    "As a convenience, the function `apply` in a model makes both of these changes at once."
   ]
  },
  {
   "cell_type": "code",
   "execution_count": 140,
   "id": "179cd8e0-465d-416b-ae02-6e1f04c1dea8",
   "metadata": {},
   "outputs": [],
   "source": [
    "m.apply()"
   ]
  },
  {
   "cell_type": "code",
   "execution_count": 141,
   "id": "d64705e9-960a-42c9-b274-ec274df696ab",
   "metadata": {},
   "outputs": [
    {
     "data": {
      "text/plain": [
       "Subdomain {'_c3', '_c2', '_c1'} of SimpleInfiniteSet('c')"
      ]
     },
     "execution_count": 141,
     "metadata": {},
     "output_type": "execute_result"
    }
   ],
   "source": [
    "tp(\"e\").domain"
   ]
  },
  {
   "cell_type": "code",
   "execution_count": 142,
   "id": "40bba447-4f04-408d-8ff4-31c472f24f22",
   "metadata": {},
   "outputs": [
    {
     "data": {
      "text/latex": [
       "$\\textsf{False}$"
      ],
      "text/plain": [
       "False"
      ]
     },
     "execution_count": 142,
     "metadata": {},
     "output_type": "execute_result"
    }
   ],
   "source": [
    "%te simplify Forall x_e : P_<e,t>(x)"
   ]
  },
  {
   "cell_type": "code",
   "execution_count": 144,
   "id": "16051acb-d8c2-4cbe-bcf9-0ced8a014777",
   "metadata": {},
   "outputs": [],
   "source": [
    "# cleanup after m.apply() above\n",
    "meta.get_type_system().reset_domains()\n",
    "meta.global_namespace().reset()"
   ]
  },
  {
   "cell_type": "markdown",
   "id": "45fc572d-d689-4f7e-ae78-0b4432bb7da9",
   "metadata": {},
   "source": [
    "#### Example from Chierchia and McConnell-Ginet\n",
    "\n",
    "This example is from the Chierchia and McConnell-Ginet text *Meaning and Grammar: An Introduction to Semantics*, pp. 124ff."
   ]
  },
  {
   "cell_type": "code",
   "execution_count": 145,
   "id": "b3749efa-1440-47d8-b2f5-f86738e86777",
   "metadata": {},
   "outputs": [],
   "source": [
    "reload_lamb()"
   ]
  },
  {
   "cell_type": "markdown",
   "id": "6f0fcd1c-bcef-4c9b-ad71-1f6f0ed27ca7",
   "metadata": {},
   "source": [
    "First we instantiate the model. This is slightly different than the textbook version, in that we need to ground out constants in type domain elements, in this case `_c1`...`_c3`. Following the lambda notebook convention, we also use capitals for `j` and `m` to indicate that they are constants. (This is optional but does have cosmetic effects.)"
   ]
  },
  {
   "cell_type": "code",
   "execution_count": 146,
   "id": "bc7e8d8c-b320-4534-92be-a2cf42153f01",
   "metadata": {},
   "outputs": [
    {
     "data": {
      "text/markdown": [
       "**Domain**: $D_{e} = \\{\\textsf{c3}_{e}, \\textsf{c2}_{e}, \\textsf{c1}_{e}\\}$<br />**Valuations**:<br />$\\left[\\begin{array}{lll} Bond & \\rightarrow & \\textsf{c1}_{e} \\\\\n",
       "Pavarotti & \\rightarrow & \\textsf{c2}_{e} \\\\\n",
       "Loren & \\rightarrow & \\textsf{c3}_{e} \\\\\n",
       "J & \\rightarrow & \\textsf{c1}_{e} \\\\\n",
       "M & \\rightarrow & \\textsf{c3}_{e} \\\\\n",
       "P & \\rightarrow & \\textsf{Fun[\\{Loren,Pavarotti\\}]}_{\\left\\langle{}e,t\\right\\rangle{}} \\\\\n",
       "Q & \\rightarrow & \\textsf{Fun[\\{Loren,Bond\\}]}_{\\left\\langle{}e,t\\right\\rangle{}} \\\\\n",
       "K & \\rightarrow & \\textsf{Fun[\\{(Bond,Loren),(Bond,Bond),(Loren,Pavarotti),(Pavarotti,Loren)\\}]}_{\\left\\langle{}\\left(e, e\\right),t\\right\\rangle{}} \\\\\n",
       "G & \\rightarrow & \\textsf{Fun[\\{(Loren,Bond,Pavarotti),(Bond,Loren,Pavarotti),(Pavarotti,Pavarotti,Loren),(Loren,Loren,Bond)\\}]}_{\\left\\langle{}\\left(e, e, e\\right),t\\right\\rangle{}} \\\\ \\end{array}\\right]$"
      ],
      "text/plain": [
       "Model(assignment={'Bond': _c1,\n",
       "                  'Pavarotti': _c2,\n",
       "                  'Loren': _c3,\n",
       "                  'J': _c1,\n",
       "                  'M': _c3,\n",
       "                  'P': Fun[{_c3,_c2}],\n",
       "                  'Q': Fun[{_c3,_c1}],\n",
       "                  'K': Fun[{(_c1,_c3),(_c1,_c1),(_c3,_c2),(_c2,_c3)}],\n",
       "                  'G': Fun[{(_c3,_c1,_c2),(_c1,_c3,_c2),(_c2,_c2,_c3),(_c3,_c3,_c1)}]},\n",
       "      domain={e: {_c1, _c2, _c3}},\n",
       "      strict_charfuns=True)"
      ]
     },
     "execution_count": 146,
     "metadata": {},
     "output_type": "execute_result"
    }
   ],
   "source": [
    "m1 = meta.Model(\n",
    "    {'Bond': '_c1',\n",
    "     'Pavarotti': '_c2',\n",
    "     'Loren': '_c3',\n",
    "     'J': 'Bond',\n",
    "     'M': 'Loren',\n",
    "     'P': {'Loren', 'Pavarotti'},\n",
    "     'Q': {'Loren', 'Bond'},\n",
    "     'K': {('Bond', 'Bond'), ('Bond', 'Loren'), ('Loren', 'Pavarotti'), ('Pavarotti', 'Loren')},\n",
    "     'G': {('Bond', 'Loren', 'Pavarotti'), ('Loren', 'Loren', 'Bond'),\n",
    "           ('Loren', 'Bond', 'Pavarotti'), ('Pavarotti', 'Pavarotti', 'Loren')}\n",
    "    },\n",
    "    domain={'_c1', '_c2', '_c3'})\n",
    "m1"
   ]
  },
  {
   "cell_type": "markdown",
   "id": "3dfa1e0c-c915-4e29-8dab-822503f33adf",
   "metadata": {},
   "source": [
    "The example involves combining a model with an assignment, something we can easily handle in the metalanguage. (Although in contrast to the more standard logical presentation in C&M-G, it is not actually necessary here.) The one caveat is that if the assignment is initially defined outside of the scope of a model, its terms will not automatically valued. This can be handled by passing the assignment directly to the model's evaluation function, which as you can see below, overrides the unvalued constants with appropriate model-derived values:"
   ]
  },
  {
   "cell_type": "code",
   "execution_count": 147,
   "id": "3e24161a-655d-441d-9a77-3e3d9db814bf",
   "metadata": {},
   "outputs": [
    {
     "data": {
      "text/latex": [
       "${\\left[\\begin{array}{lll} x1 & \\rightarrow & {Bond}_{e} \\\\\n",
       "x2 & \\rightarrow & {Loren}_{e} \\\\\n",
       "x3 & \\rightarrow & {Pavarotti}_{e} \\\\ \\end{array}\\right]}^{[{\\textsf{Bond}}^{\\textsf{c1}}_{e}/x1,{\\textsf{Loren}}^{\\textsf{c3}}_{e}/x2,{\\textsf{Pavarotti}}^{\\textsf{c2}}_{e}/x3]}$"
      ],
      "text/plain": [
       "[Bond_e/x1,Loren_e/x2,Pavarotti_e/x3][_c1/x1,_c3/x2,_c2/x3]"
      ]
     },
     "execution_count": 147,
     "metadata": {},
     "output_type": "execute_result"
    }
   ],
   "source": [
    "# with m1.under():\n",
    "g1 = meta.Assignment(x1=te('Bond_e'), x2=te('Loren_e'), x3=te('Pavarotti_e')) # pure unvalued assignment\n",
    "m1.evaluate(g1) # display the valued vesion of the assignment"
   ]
  },
  {
   "cell_type": "markdown",
   "id": "812db8ec-bc44-4de0-8362-a4d79909420c",
   "metadata": {},
   "source": [
    "A simple formula can be interpreted on this model as above:"
   ]
  },
  {
   "cell_type": "code",
   "execution_count": 148,
   "id": "af34b17e-e36d-42d2-931e-0afb3c6072c3",
   "metadata": {},
   "outputs": [
    {
     "data": {
      "text/html": [
       "<div align=\"left\" style=\"display:table;\"><div style=\"display:table-cell;vertical-align:top;padding-left:5px;padding-right:5px;padding-top:0.2em\"><div style=\"display:table;\"><div style=\"display:table-row;vertical-align:top;\"><div align=\"left\" style=\"display:table;border-collapse:collapse;\"><div style=\"display:table-row;border-bottom:1px solid #848482;\"><div style=\"display:table-cell;padding:0.2em 5px 0.2em 0px;vertical-align:top;\"></div><div style=\"display:table-cell;vertical-align:top;border-right:1px solid #848482;padding-right:5px;;padding-top:0.2em\"><div style=\"display:inline-block;\"><span>${\\textsf{P}}^{\\text{\\textsf{[meta]}}}({\\textsf{Loren}}^{\\textsf{c3}}_{e})$</span></div></div><div style=\"display:table-cell;vertical-align:top;padding-left:5px;padding-right:5px;padding-top:0.2em\"><div style=\"display:table;\"><div style=\"display:table-row;\"><div style=\"white-space:nowrap; color:blue;\"><span>Reduction</span></div></div></div></div></div><div style=\"display:table-row;\"><div style=\"display:table-cell;padding:0.2em 5px 0.2em 0px;vertical-align:top;\"> 1. </div><div style=\"display:table-cell;vertical-align:top;border-right:1px solid #848482;padding-right:5px;;padding-top:0.2em\"><div style=\"display:inline-block;\"><span>$\\textsf{True}$</span></div></div></div></div></div></div></div></div>"
      ],
      "text/plain": [
       " 1. Fun[{Loren,Pavarotti}](_c3)    (Reduction)\n",
       " 2. True"
      ]
     },
     "metadata": {},
     "output_type": "display_data"
    }
   ],
   "source": [
    "with m1.under():\n",
    "    display(te(\"P(M)\").simplify_all().derivation)"
   ]
  },
  {
   "cell_type": "markdown",
   "id": "56744f7f-b114-4567-bf1a-453d2de59a36",
   "metadata": {},
   "source": [
    "Now we go through several of the examples from the text and exercises. First, their example (20) (p.125). \"$P(m) \\wedge Q(x_3)$\" translates to the metalanguage expression `P(M) & Q(x3)`, which we instiate with the `%te` magic in the scope of both the model and the assignment function, and then display its derivation. Note that the assignment here must be evaluated relative to the model, since it was defined absolutely."
   ]
  },
  {
   "cell_type": "code",
   "execution_count": 164,
   "id": "87419560-cecb-4021-b3a4-3ae1df5acaeb",
   "metadata": {},
   "outputs": [
    {
     "data": {
      "text/html": [
       "<div align=\"left\" style=\"display:table;\"><div style=\"display:table-cell;vertical-align:top;padding-left:5px;padding-right:5px;padding-top:0.2em\"><div style=\"display:table;\"><div style=\"display:table-row;vertical-align:top;\"><div align=\"left\" style=\"display:table;border-collapse:collapse;\"><div style=\"display:table-row;border-bottom:1px solid #848482;\"><div style=\"display:table-cell;padding:0.2em 5px 0.2em 0px;vertical-align:top;\"></div><div style=\"display:table-cell;vertical-align:top;border-right:1px solid #848482;padding-right:5px;;padding-top:0.2em\"><div style=\"display:inline-block;\"><span>${\\textsf{P}}^{\\text{\\textsf{[meta]}}}({\\textsf{Loren}}^{\\textsf{c3}}_{e}) \\wedge{} {\\textsf{Q}}^{\\text{\\textsf{[meta]}}}({\\textsf{Pavarotti}}^{\\textsf{c2}}_{e})$</span></div></div><div style=\"display:table-cell;vertical-align:top;padding-left:5px;padding-right:5px;padding-top:0.2em\"><div style=\"display:table;\"><div style=\"display:table-row;\"><div style=\"white-space:nowrap; color:blue;\"><span>[Reduction]</span></div></div></div></div></div><div style=\"display:table-row;border-bottom:1px solid #848482;\"><div style=\"display:table-cell;padding:0.2em 5px 0.2em 0px;vertical-align:top;\"> 1. </div><div style=\"display:table-cell;vertical-align:top;border-right:1px solid #848482;padding-right:5px;;padding-top:0.2em\"><div style=\"display:inline-block;\"><span>$\\textsf{True} \\wedge{} {\\textsf{Q}}^{\\text{\\textsf{[meta]}}}({\\textsf{Pavarotti}}^{\\textsf{c2}}_{e})$</span></div></div><div style=\"display:table-cell;vertical-align:top;padding-left:5px;padding-right:5px;padding-top:0.2em\"><div style=\"display:table;\"><div style=\"display:table-row;\"><div style=\"white-space:nowrap; color:blue;\"><span>[Reduction]</span></div></div></div></div></div><div style=\"display:table-row;border-bottom:1px solid #848482;\"><div style=\"display:table-cell;padding:0.2em 5px 0.2em 0px;vertical-align:top;\"> 2. </div><div style=\"display:table-cell;vertical-align:top;border-right:1px solid #848482;padding-right:5px;;padding-top:0.2em\"><div style=\"display:inline-block;\"><span>$\\textsf{True} \\wedge{} \\textsf{False}$</span></div></div><div style=\"display:table-cell;vertical-align:top;padding-left:5px;padding-right:5px;padding-top:0.2em\"><div style=\"display:table;\"><div style=\"display:table-row;\"><div style=\"white-space:nowrap; color:blue;\"><span>alphabetic normalization</span></div></div></div></div></div><div style=\"display:table-row;border-bottom:1px solid #848482;\"><div style=\"display:table-cell;padding:0.2em 5px 0.2em 0px;vertical-align:top;\"> 3. </div><div style=\"display:table-cell;vertical-align:top;border-right:1px solid #848482;padding-right:5px;;padding-top:0.2em\"><div style=\"display:inline-block;\"><span>$\\textsf{False} \\wedge{} \\textsf{True}$</span></div></div><div style=\"display:table-cell;vertical-align:top;padding-left:5px;padding-right:5px;padding-top:0.2em\"><div style=\"display:table;\"><div style=\"display:table-row;\"><div style=\"white-space:nowrap; color:blue;\"><span>conjunction (elimination on `False`)</span></div></div></div></div></div><div style=\"display:table-row;\"><div style=\"display:table-cell;padding:0.2em 5px 0.2em 0px;vertical-align:top;\"> 4. </div><div style=\"display:table-cell;vertical-align:top;border-right:1px solid #848482;padding-right:5px;;padding-top:0.2em\"><div style=\"display:inline-block;\"><span>$\\textsf{False}$</span></div></div></div></div></div></div></div></div>"
      ],
      "text/plain": [
       " 1. (Fun[{Loren,Pavarotti}](_c3) & Fun[{Loren,Bond}](_c2))    ([Reduction])\n",
       " 2. (True & Fun[{Loren,Bond}](_c2))    ([Reduction])\n",
       " 3. (True & False)    (alphabetic normalization)\n",
       " 4. (False & True)    (conjunction (elimination on `False`))\n",
       " 5. False"
      ]
     },
     "metadata": {},
     "output_type": "display_data"
    }
   ],
   "source": [
    "# C&M-G example (20)\n",
    "with m1.under() as m:\n",
    "    with m(g1).under():\n",
    "        e = %te simplify P(M) & Q(x3)\n",
    "        display(e.derivation)"
   ]
  },
  {
   "cell_type": "markdown",
   "id": "d4a4b15d-3a81-4107-b230-614511deee97",
   "metadata": {},
   "source": [
    "Next is exercise 3 problem (4). The formula is $G(x_1, j, x_1)$, which is straightforward to translate, but could be evaluated in multiple ways. If we follow the above paradigm, notice that terms and variables are substituted immediately with no derivation history (also seen above):"
   ]
  },
  {
   "cell_type": "code",
   "execution_count": 150,
   "id": "439002ba-9965-44e1-929d-0a2541a4e6f9",
   "metadata": {},
   "outputs": [
    {
     "data": {
      "text/html": [
       "<div align=\"left\" style=\"display:table;\"><div style=\"display:table-cell;vertical-align:top;padding-left:5px;padding-right:5px;padding-top:0.2em\"><div style=\"display:table;\"><div style=\"display:table-row;vertical-align:top;\"><div align=\"left\" style=\"display:table;border-collapse:collapse;\"><div style=\"display:table-row;border-bottom:1px solid #848482;\"><div style=\"display:table-cell;padding:0.2em 5px 0.2em 0px;vertical-align:top;\"></div><div style=\"display:table-cell;vertical-align:top;border-right:1px solid #848482;padding-right:5px;;padding-top:0.2em\"><div style=\"display:inline-block;\"><span>${\\textsf{G}}^{\\text{\\textsf{[meta]}}}({\\textsf{Bond}}^{\\textsf{c1}}_{e}, {\\textsf{Bond}}^{\\textsf{c1}}_{e}, {\\textsf{Bond}}^{\\textsf{c1}}_{e})$</span></div></div><div style=\"display:table-cell;vertical-align:top;padding-left:5px;padding-right:5px;padding-top:0.2em\"><div style=\"display:table;\"><div style=\"display:table-row;\"><div style=\"white-space:nowrap; color:blue;\"><span>Reduction</span></div></div></div></div></div><div style=\"display:table-row;\"><div style=\"display:table-cell;padding:0.2em 5px 0.2em 0px;vertical-align:top;\"> 1. </div><div style=\"display:table-cell;vertical-align:top;border-right:1px solid #848482;padding-right:5px;;padding-top:0.2em\"><div style=\"display:inline-block;\"><span>$\\textsf{False}$</span></div></div></div></div></div></div></div></div>"
      ],
      "text/plain": [
       "DisplayNode instance: HTML rendering only"
      ]
     },
     "metadata": {},
     "output_type": "display_data"
    }
   ],
   "source": [
    "# ex. 3 (4)\n",
    "with m1.under() as m:\n",
    "    with m(g1).under():\n",
    "        display(te(\"G(x1, J, x1)\").reduce_all().derivation.trace())"
   ]
  },
  {
   "cell_type": "markdown",
   "id": "610e2f81-b44c-4240-a573-5a1fd55ff846",
   "metadata": {},
   "source": [
    "Alternatively, the assignment can be used more directly (again, it must itself be evaluated first):"
   ]
  },
  {
   "cell_type": "code",
   "execution_count": 151,
   "id": "d9d3d3d6-9b8f-45a5-b9f2-641ea221aa6b",
   "metadata": {},
   "outputs": [
    {
     "data": {
      "text/html": [
       "<div align=\"left\" style=\"display:table;\"><div style=\"display:table-cell;vertical-align:top;padding-left:5px;padding-right:5px;padding-top:0.2em\"><div style=\"display:table;\"><div style=\"display:table-row;vertical-align:top;\"><div align=\"left\" style=\"display:table;border-collapse:collapse;\"><div style=\"display:table-row;border-bottom:1px solid #848482;\"><div style=\"display:table-cell;padding:0.2em 5px 0.2em 0px;vertical-align:top;\"></div><div style=\"display:table-cell;vertical-align:top;border-right:1px solid #848482;padding-right:5px;;padding-top:0.2em\"><div style=\"display:inline-block;\"><span>${\\textsf{G}}^{\\text{\\textsf{[meta]}}}({x1}_{e}, {\\textsf{Bond}}^{\\textsf{c1}}_{e}, {x1}_{e})$</span></div></div><div style=\"display:table-cell;vertical-align:top;padding-left:5px;padding-right:5px;padding-top:0.2em\"><div style=\"display:table;\"><div style=\"display:table-row;\"><div style=\"white-space:nowrap; color:blue;\"><span>Assignment substitution</span></div></div></div></div></div><div style=\"display:table-row;border-bottom:1px solid #848482;\"><div style=\"display:table-cell;padding:0.2em 5px 0.2em 0px;vertical-align:top;\"> 1. </div><div style=\"display:table-cell;vertical-align:top;border-right:1px solid #848482;padding-right:5px;;padding-top:0.2em\"><div style=\"display:inline-block;\"><span>${\\textsf{G}}^{\\text{\\textsf{[meta]}}}({\\textsf{Bond}}^{\\textsf{c1}}_{e}, {\\textsf{Bond}}^{\\textsf{c1}}_{e}, {\\textsf{Bond}}^{\\textsf{c1}}_{e})$</span></div></div><div style=\"display:table-cell;vertical-align:top;padding-left:5px;padding-right:5px;padding-top:0.2em\"><div style=\"display:table;\"><div style=\"display:table-row;\"><div style=\"white-space:nowrap; color:blue;\"><span>Reduction</span></div></div></div></div></div><div style=\"display:table-row;\"><div style=\"display:table-cell;padding:0.2em 5px 0.2em 0px;vertical-align:top;\"> 2. </div><div style=\"display:table-cell;vertical-align:top;border-right:1px solid #848482;padding-right:5px;;padding-top:0.2em\"><div style=\"display:inline-block;\"><span>$\\textsf{False}$</span></div></div></div></div></div></div></div></div>"
      ],
      "text/plain": [
       "DisplayNode instance: HTML rendering only"
      ]
     },
     "metadata": {},
     "output_type": "display_data"
    }
   ],
   "source": [
    "# ex. 3 (4) version 2:\n",
    "with m1.under() as m:\n",
    "    display(te(\"G(x1, J, x1)\").under_assignment(m(g1)).reduce_all().derivation.trace())"
   ]
  },
  {
   "cell_type": "markdown",
   "id": "a193dba9-923c-4573-be49-ef463e91799c",
   "metadata": {},
   "source": [
    "Alternatively, both the model and assignment can be used directly. Here note that the formula is constructed in the abstract, and so types must be fully specified in order for evaluation/assignment to work."
   ]
  },
  {
   "cell_type": "code",
   "execution_count": 152,
   "id": "5b4284c2-0290-43bd-a4b6-7dc1eaca646f",
   "metadata": {},
   "outputs": [
    {
     "data": {
      "text/html": [
       "<div align=\"left\" style=\"display:table;\"><div style=\"display:table-cell;vertical-align:top;padding-left:5px;padding-right:5px;padding-top:0.2em\"><div style=\"display:table;\"><div style=\"display:table-row;vertical-align:top;\"><div align=\"left\" style=\"display:table;border-collapse:collapse;\"><div style=\"display:table-row;border-bottom:1px solid #848482;\"><div style=\"display:table-cell;padding:0.2em 5px 0.2em 0px;vertical-align:top;\"></div><div style=\"display:table-cell;vertical-align:top;border-right:1px solid #848482;padding-right:5px;;padding-top:0.2em\"><div style=\"display:inline-block;\"><span>${G}({x1}_{e}, {J}_{e}, {x1}_{e})$</span></div></div><div style=\"display:table-cell;vertical-align:top;padding-left:5px;padding-right:5px;padding-top:0.2em\"><div style=\"display:table;\"><div style=\"display:table-row;\"><div style=\"white-space:nowrap; color:blue;\"><span>Assignment substitution</span></div></div></div></div></div><div style=\"display:table-row;border-bottom:1px solid #848482;\"><div style=\"display:table-cell;padding:0.2em 5px 0.2em 0px;vertical-align:top;\"> 1. </div><div style=\"display:table-cell;vertical-align:top;border-right:1px solid #848482;padding-right:5px;;padding-top:0.2em\"><div style=\"display:inline-block;\"><span>${\\textsf{G}}^{\\text{\\textsf{[meta]}}}({x1}_{e}, {\\textsf{J}}^{\\textsf{c1}}_{e}, {x1}_{e})$</span></div></div><div style=\"display:table-cell;vertical-align:top;padding-left:5px;padding-right:5px;padding-top:0.2em\"><div style=\"display:table;\"><div style=\"display:table-row;\"><div style=\"white-space:nowrap; color:blue;\"><span>Assignment substitution</span></div></div></div></div></div><div style=\"display:table-row;border-bottom:1px solid #848482;\"><div style=\"display:table-cell;padding:0.2em 5px 0.2em 0px;vertical-align:top;\"> 2. </div><div style=\"display:table-cell;vertical-align:top;border-right:1px solid #848482;padding-right:5px;;padding-top:0.2em\"><div style=\"display:inline-block;\"><span>${\\textsf{G}}^{\\text{\\textsf{[meta]}}}({\\textsf{Bond}}^{\\textsf{c1}}_{e}, {\\textsf{J}}^{\\textsf{c1}}_{e}, {\\textsf{Bond}}^{\\textsf{c1}}_{e})$</span></div></div><div style=\"display:table-cell;vertical-align:top;padding-left:5px;padding-right:5px;padding-top:0.2em\"><div style=\"display:table;\"><div style=\"display:table-row;\"><div style=\"white-space:nowrap; color:blue;\"><span>Reduction</span></div></div></div></div></div><div style=\"display:table-row;\"><div style=\"display:table-cell;padding:0.2em 5px 0.2em 0px;vertical-align:top;\"> 3. </div><div style=\"display:table-cell;vertical-align:top;border-right:1px solid #848482;padding-right:5px;;padding-top:0.2em\"><div style=\"display:inline-block;\"><span>$\\textsf{False}$</span></div></div></div></div></div></div></div></div>"
      ],
      "text/plain": [
       "DisplayNode instance: HTML rendering only"
      ]
     },
     "execution_count": 152,
     "metadata": {},
     "output_type": "execute_result"
    }
   ],
   "source": [
    "e = %te G_<(e,e,e),t>(x1_e, J_e, x1_e)\n",
    "m1.evaluate(e).under_assignment(m1.evaluate(g1)).reduce_all().derivation.trace()"
   ]
  },
  {
   "cell_type": "markdown",
   "id": "4f0a0e8c-6010-483b-bf58-3b7fa39f9712",
   "metadata": {},
   "source": [
    "A somewhat more complex example: \"$\\neg P(x_1) \\leftrightarrow K(x_2, j)$\"."
   ]
  },
  {
   "cell_type": "code",
   "execution_count": 153,
   "id": "7bb3db54-2308-41a4-b6e3-d5ba76f08f6b",
   "metadata": {},
   "outputs": [
    {
     "data": {
      "text/html": [
       "<div align=\"left\" style=\"display:table;\"><div style=\"display:table-cell;vertical-align:top;padding-left:5px;padding-right:5px;padding-top:0.2em\"><div style=\"display:table;\"><div style=\"display:table-row;vertical-align:top;\"><div align=\"left\" style=\"display:table;border-collapse:collapse;\"><div style=\"display:table-row;border-bottom:1px solid #848482;\"><div style=\"display:table-cell;padding:0.2em 5px 0.2em 0px;vertical-align:top;\"></div><div style=\"display:table-cell;vertical-align:top;border-right:1px solid #848482;padding-right:5px;;padding-top:0.2em\"><div style=\"display:inline-block;\"><span>$\\neg{} {\\textsf{P}}^{\\text{\\textsf{[meta]}}}({\\textsf{Bond}}^{\\textsf{c1}}_{e}) \\leftrightarrow{} {\\textsf{K}}^{\\text{\\textsf{[meta]}}}({\\textsf{Loren}}^{\\textsf{c3}}_{e}, {\\textsf{Bond}}^{\\textsf{c1}}_{e})$</span></div></div><div style=\"display:table-cell;vertical-align:top;padding-left:5px;padding-right:5px;padding-top:0.2em\"><div style=\"display:table;\"><div style=\"display:table-row;\"><div style=\"white-space:nowrap; color:blue;\"><span>[[Reduction]]</span></div></div></div></div></div><div style=\"display:table-row;border-bottom:1px solid #848482;\"><div style=\"display:table-cell;padding:0.2em 5px 0.2em 0px;vertical-align:top;\"> 1. </div><div style=\"display:table-cell;vertical-align:top;border-right:1px solid #848482;padding-right:5px;;padding-top:0.2em\"><div style=\"display:inline-block;\"><span>$\\neg{} \\textsf{False} \\leftrightarrow{} {\\textsf{K}}^{\\text{\\textsf{[meta]}}}({\\textsf{Loren}}^{\\textsf{c3}}_{e}, {\\textsf{Bond}}^{\\textsf{c1}}_{e})$</span></div></div><div style=\"display:table-cell;vertical-align:top;padding-left:5px;padding-right:5px;padding-top:0.2em\"><div style=\"display:table;\"><div style=\"display:table-row;\"><div style=\"white-space:nowrap; color:blue;\"><span>[Reduction]</span></div></div></div></div></div><div style=\"display:table-row;border-bottom:1px solid #848482;\"><div style=\"display:table-cell;padding:0.2em 5px 0.2em 0px;vertical-align:top;\"> 2. </div><div style=\"display:table-cell;vertical-align:top;border-right:1px solid #848482;padding-right:5px;;padding-top:0.2em\"><div style=\"display:inline-block;\"><span>$\\neg{} \\textsf{False} \\leftrightarrow{} \\textsf{False}$</span></div></div><div style=\"display:table-cell;vertical-align:top;padding-left:5px;padding-right:5px;padding-top:0.2em\"><div style=\"display:table;\"><div style=\"display:table-row;\"><div style=\"white-space:nowrap; color:blue;\"><span>alphabetic normalization</span></div></div></div></div></div><div style=\"display:table-row;border-bottom:1px solid #848482;\"><div style=\"display:table-cell;padding:0.2em 5px 0.2em 0px;vertical-align:top;\"> 3. </div><div style=\"display:table-cell;vertical-align:top;border-right:1px solid #848482;padding-right:5px;;padding-top:0.2em\"><div style=\"display:inline-block;\"><span>$\\textsf{False} \\leftrightarrow{} \\neg{} \\textsf{False}$</span></div></div><div style=\"display:table-cell;vertical-align:top;padding-left:5px;padding-right:5px;padding-top:0.2em\"><div style=\"display:table;\"><div style=\"display:table-row;\"><div style=\"white-space:nowrap; color:blue;\"><span>Recursive simplification of operand 1</span></div></div><div style=\"display:table-row;vertical-align:top;\"><div align=\"left\" style=\"display:table;border-collapse:collapse;\"><div style=\"display:table-row;border-bottom:1px solid #848482;\"><div style=\"display:table-cell;padding:0.2em 5px 0.2em 0px;vertical-align:top;\"></div><div style=\"display:table-cell;vertical-align:top;border-right:1px solid #848482;padding-right:5px;;padding-top:0.2em\"><div style=\"display:inline-block;\"><span>$\\neg{} {\\textsf{P}}^{\\text{\\textsf{[meta]}}}({\\textsf{Bond}}^{\\textsf{c1}}_{e})$</span></div></div><div style=\"display:table-cell;vertical-align:top;padding-left:5px;padding-right:5px;padding-top:0.2em\"><div style=\"display:table;\"><div style=\"display:table-row;\"><div style=\"white-space:nowrap; color:blue;\"><span>[Reduction]</span></div></div></div></div></div><div style=\"display:table-row;border-bottom:1px solid #848482;\"><div style=\"display:table-cell;padding:0.2em 5px 0.2em 0px;vertical-align:top;\"> 1. </div><div style=\"display:table-cell;vertical-align:top;border-right:1px solid #848482;padding-right:5px;;padding-top:0.2em\"><div style=\"display:inline-block;\"><span>$\\neg{} \\textsf{False}$</span></div></div><div style=\"display:table-cell;vertical-align:top;padding-left:5px;padding-right:5px;padding-top:0.2em\"><div style=\"display:table;\"><div style=\"display:table-row;\"><div style=\"white-space:nowrap; color:blue;\"><span>negation elimination</span></div></div></div></div></div><div style=\"display:table-row;\"><div style=\"display:table-cell;padding:0.2em 5px 0.2em 0px;vertical-align:top;\"> 2. </div><div style=\"display:table-cell;vertical-align:top;border-right:1px solid #848482;padding-right:5px;;padding-top:0.2em\"><div style=\"display:inline-block;\"><span>$\\textsf{True}$</span></div></div></div></div></div></div></div></div><div style=\"display:table-row;border-bottom:1px solid #848482;\"><div style=\"display:table-cell;padding:0.2em 5px 0.2em 0px;vertical-align:top;\"> 4. </div><div style=\"display:table-cell;vertical-align:top;border-right:1px solid #848482;padding-right:5px;;padding-top:0.2em\"><div style=\"display:inline-block;\"><span>$\\textsf{False} \\leftrightarrow{} \\textsf{True}$</span></div></div><div style=\"display:table-cell;vertical-align:top;padding-left:5px;padding-right:5px;padding-top:0.2em\"><div style=\"display:table;\"><div style=\"display:table-row;\"><div style=\"white-space:nowrap; color:blue;\"><span>biconditional</span></div></div></div></div></div><div style=\"display:table-row;\"><div style=\"display:table-cell;padding:0.2em 5px 0.2em 0px;vertical-align:top;\"> 5. </div><div style=\"display:table-cell;vertical-align:top;border-right:1px solid #848482;padding-right:5px;;padding-top:0.2em\"><div style=\"display:inline-block;\"><span>$\\textsf{False}$</span></div></div></div></div></div></div></div></div>"
      ],
      "text/plain": [
       "DisplayNode instance: HTML rendering only"
      ]
     },
     "metadata": {},
     "output_type": "display_data"
    }
   ],
   "source": [
    "# ex. 3 (5)\n",
    "with m1.under() as m:\n",
    "    with m(g1).under():\n",
    "        x = %te simplify ~P(x1) <=> K(x2,J)\n",
    "        display(x.derivation.trace())"
   ]
  },
  {
   "cell_type": "markdown",
   "id": "37769914-67d6-4f45-a8b5-a8cb6f8935df",
   "metadata": {},
   "source": [
    "The next two examples are even more complex. Note that there are some non-standard bits of notation in the original textbook formulas, as well as the use of an equality operator: $\\neg [G(x_1, x_1, x1_) \\rightarrow j=m] \\wedge [\\neg Q(j) \\wedge K(j,m)]$"
   ]
  },
  {
   "cell_type": "code",
   "execution_count": 154,
   "id": "b8f93320-643a-44e2-8e31-ee6e5705c5c8",
   "metadata": {},
   "outputs": [
    {
     "data": {
      "text/html": [
       "<div align=\"left\" style=\"display:table;\"><div style=\"display:table-cell;vertical-align:top;padding-left:5px;padding-right:5px;padding-top:0.2em\"><div style=\"display:table;\"><div style=\"display:table-row;vertical-align:top;\"><div align=\"left\" style=\"display:table;border-collapse:collapse;\"><div style=\"display:table-row;border-bottom:1px solid #848482;\"><div style=\"display:table-cell;padding:0.2em 5px 0.2em 0px;vertical-align:top;\"></div><div style=\"display:table-cell;vertical-align:top;border-right:1px solid #848482;padding-right:5px;;padding-top:0.2em\"><div style=\"display:inline-block;\"><span>$\\neg{} ({\\textsf{G}}^{\\text{\\textsf{[meta]}}}({\\textsf{Bond}}^{\\textsf{c1}}_{e}, {\\textsf{Bond}}^{\\textsf{c1}}_{e}, {\\textsf{Bond}}^{\\textsf{c1}}_{e}) \\rightarrow{} {\\textsf{Bond}}^{\\textsf{c1}}_{e} = {\\textsf{Loren}}^{\\textsf{c3}}_{e}) \\wedge{} (\\neg{} {\\textsf{Q}}^{\\text{\\textsf{[meta]}}}({\\textsf{Bond}}^{\\textsf{c1}}_{e}) \\wedge{} {\\textsf{K}}^{\\text{\\textsf{[meta]}}}({\\textsf{Bond}}^{\\textsf{c1}}_{e}, {\\textsf{Loren}}^{\\textsf{c3}}_{e}))$</span></div></div><div style=\"display:table-cell;vertical-align:top;padding-left:5px;padding-right:5px;padding-top:0.2em\"><div style=\"display:table;\"><div style=\"display:table-row;\"><div style=\"white-space:nowrap; color:blue;\"><span>[[[Reduction]]]</span></div></div></div></div></div><div style=\"display:table-row;border-bottom:1px solid #848482;\"><div style=\"display:table-cell;padding:0.2em 5px 0.2em 0px;vertical-align:top;\"> 1. </div><div style=\"display:table-cell;vertical-align:top;border-right:1px solid #848482;padding-right:5px;;padding-top:0.2em\"><div style=\"display:inline-block;\"><span>$\\neg{} (\\textsf{False} \\rightarrow{} {\\textsf{Bond}}^{\\textsf{c1}}_{e} = {\\textsf{Loren}}^{\\textsf{c3}}_{e}) \\wedge{} (\\neg{} {\\textsf{Q}}^{\\text{\\textsf{[meta]}}}({\\textsf{Bond}}^{\\textsf{c1}}_{e}) \\wedge{} {\\textsf{K}}^{\\text{\\textsf{[meta]}}}({\\textsf{Bond}}^{\\textsf{c1}}_{e}, {\\textsf{Loren}}^{\\textsf{c3}}_{e}))$</span></div></div><div style=\"display:table-cell;vertical-align:top;padding-left:5px;padding-right:5px;padding-top:0.2em\"><div style=\"display:table;\"><div style=\"display:table-row;\"><div style=\"white-space:nowrap; color:blue;\"><span>recursive reduction of operand 1</span></div></div><div style=\"display:table-row;vertical-align:top;\"><div align=\"left\" style=\"display:table;border-collapse:collapse;\"><div style=\"display:table-row;border-bottom:1px solid #848482;\"><div style=\"display:table-cell;padding:0.2em 5px 0.2em 0px;vertical-align:top;\"></div><div style=\"display:table-cell;vertical-align:top;border-right:1px solid #848482;padding-right:5px;;padding-top:0.2em\"><div style=\"display:inline-block;\"><span>$\\neg{} {\\textsf{Q}}^{\\text{\\textsf{[meta]}}}({\\textsf{Bond}}^{\\textsf{c1}}_{e}) \\wedge{} {\\textsf{K}}^{\\text{\\textsf{[meta]}}}({\\textsf{Bond}}^{\\textsf{c1}}_{e}, {\\textsf{Loren}}^{\\textsf{c3}}_{e})$</span></div></div><div style=\"display:table-cell;vertical-align:top;padding-left:5px;padding-right:5px;padding-top:0.2em\"><div style=\"display:table;\"><div style=\"display:table-row;\"><div style=\"white-space:nowrap; color:blue;\"><span>[[Reduction]]</span></div></div></div></div></div><div style=\"display:table-row;border-bottom:1px solid #848482;\"><div style=\"display:table-cell;padding:0.2em 5px 0.2em 0px;vertical-align:top;\"> 1. </div><div style=\"display:table-cell;vertical-align:top;border-right:1px solid #848482;padding-right:5px;;padding-top:0.2em\"><div style=\"display:inline-block;\"><span>$\\neg{} \\textsf{True} \\wedge{} {\\textsf{K}}^{\\text{\\textsf{[meta]}}}({\\textsf{Bond}}^{\\textsf{c1}}_{e}, {\\textsf{Loren}}^{\\textsf{c3}}_{e})$</span></div></div><div style=\"display:table-cell;vertical-align:top;padding-left:5px;padding-right:5px;padding-top:0.2em\"><div style=\"display:table;\"><div style=\"display:table-row;\"><div style=\"white-space:nowrap; color:blue;\"><span>[Reduction]</span></div></div></div></div></div><div style=\"display:table-row;\"><div style=\"display:table-cell;padding:0.2em 5px 0.2em 0px;vertical-align:top;\"> 2. </div><div style=\"display:table-cell;vertical-align:top;border-right:1px solid #848482;padding-right:5px;;padding-top:0.2em\"><div style=\"display:inline-block;\"><span>$\\neg{} \\textsf{True} \\wedge{} \\textsf{True}$</span></div></div></div></div></div></div></div></div><div style=\"display:table-row;border-bottom:1px solid #848482;\"><div style=\"display:table-cell;padding:0.2em 5px 0.2em 0px;vertical-align:top;\"> 2. </div><div style=\"display:table-cell;vertical-align:top;border-right:1px solid #848482;padding-right:5px;;padding-top:0.2em\"><div style=\"display:inline-block;\"><span>$\\neg{} (\\textsf{False} \\rightarrow{} {\\textsf{Bond}}^{\\textsf{c1}}_{e} = {\\textsf{Loren}}^{\\textsf{c3}}_{e}) \\wedge{} (\\neg{} \\textsf{True} \\wedge{} \\textsf{True})$</span></div></div><div style=\"display:table-cell;vertical-align:top;padding-left:5px;padding-right:5px;padding-top:0.2em\"><div style=\"display:table;\"><div style=\"display:table-row;\"><div style=\"white-space:nowrap; color:blue;\"><span>alphabetic normalization</span></div></div></div></div></div><div style=\"display:table-row;border-bottom:1px solid #848482;\"><div style=\"display:table-cell;padding:0.2em 5px 0.2em 0px;vertical-align:top;\"> 3. </div><div style=\"display:table-cell;vertical-align:top;border-right:1px solid #848482;padding-right:5px;;padding-top:0.2em\"><div style=\"display:inline-block;\"><span>[$\\textsf{True}$, $\\neg{} \\textsf{True}$, $\\neg{} (\\textsf{False} \\rightarrow{} {\\textsf{Bond}}^{\\textsf{c1}}_{e} = {\\textsf{Loren}}^{\\textsf{c3}}_{e})$]</span></div></div><div style=\"display:table-cell;vertical-align:top;padding-left:5px;padding-right:5px;padding-top:0.2em\"><div style=\"display:table;\"><div style=\"display:table-row;\"><div style=\"white-space:nowrap; color:blue;\"><span>Recursive simplification of operand 1</span></div></div><div style=\"display:table-row;vertical-align:top;\"><div align=\"left\" style=\"display:table;border-collapse:collapse;\"><div style=\"display:table-row;border-bottom:1px solid #848482;\"><div style=\"display:table-cell;padding:0.2em 5px 0.2em 0px;vertical-align:top;\"></div><div style=\"display:table-cell;vertical-align:top;border-right:1px solid #848482;padding-right:5px;;padding-top:0.2em\"><div style=\"display:inline-block;\"><span>$\\neg{} {\\textsf{Q}}^{\\text{\\textsf{[meta]}}}({\\textsf{Bond}}^{\\textsf{c1}}_{e})$</span></div></div><div style=\"display:table-cell;vertical-align:top;padding-left:5px;padding-right:5px;padding-top:0.2em\"><div style=\"display:table;\"><div style=\"display:table-row;\"><div style=\"white-space:nowrap; color:blue;\"><span>[Reduction]</span></div></div></div></div></div><div style=\"display:table-row;border-bottom:1px solid #848482;\"><div style=\"display:table-cell;padding:0.2em 5px 0.2em 0px;vertical-align:top;\"> 1. </div><div style=\"display:table-cell;vertical-align:top;border-right:1px solid #848482;padding-right:5px;;padding-top:0.2em\"><div style=\"display:inline-block;\"><span>$\\neg{} \\textsf{True}$</span></div></div><div style=\"display:table-cell;vertical-align:top;padding-left:5px;padding-right:5px;padding-top:0.2em\"><div style=\"display:table;\"><div style=\"display:table-row;\"><div style=\"white-space:nowrap; color:blue;\"><span>negation elimination</span></div></div></div></div></div><div style=\"display:table-row;\"><div style=\"display:table-cell;padding:0.2em 5px 0.2em 0px;vertical-align:top;\"> 2. </div><div style=\"display:table-cell;vertical-align:top;border-right:1px solid #848482;padding-right:5px;;padding-top:0.2em\"><div style=\"display:inline-block;\"><span>$\\textsf{False}$</span></div></div></div></div></div></div></div></div><div style=\"display:table-row;border-bottom:1px solid #848482;\"><div style=\"display:table-cell;padding:0.2em 5px 0.2em 0px;vertical-align:top;\"> 4. </div><div style=\"display:table-cell;vertical-align:top;border-right:1px solid #848482;padding-right:5px;;padding-top:0.2em\"><div style=\"display:inline-block;\"><span>[$\\textsf{True}$, $\\textsf{False}$, $\\neg{} (\\textsf{False} \\rightarrow{} {\\textsf{Bond}}^{\\textsf{c1}}_{e} = {\\textsf{Loren}}^{\\textsf{c3}}_{e})$]</span></div></div><div style=\"display:table-cell;vertical-align:top;padding-left:5px;padding-right:5px;padding-top:0.2em\"><div style=\"display:table;\"><div style=\"display:table-row;\"><div style=\"white-space:nowrap; color:blue;\"><span>Recursive simplification of operand 2</span></div></div><div style=\"display:table-row;vertical-align:top;\"><div align=\"left\" style=\"display:table;border-collapse:collapse;\"><div style=\"display:table-row;border-bottom:1px solid #848482;\"><div style=\"display:table-cell;padding:0.2em 5px 0.2em 0px;vertical-align:top;\"></div><div style=\"display:table-cell;vertical-align:top;border-right:1px solid #848482;padding-right:5px;;padding-top:0.2em\"><div style=\"display:inline-block;\"><span>$\\neg{} ({\\textsf{G}}^{\\text{\\textsf{[meta]}}}({\\textsf{Bond}}^{\\textsf{c1}}_{e}, {\\textsf{Bond}}^{\\textsf{c1}}_{e}, {\\textsf{Bond}}^{\\textsf{c1}}_{e}) \\rightarrow{} {\\textsf{Bond}}^{\\textsf{c1}}_{e} = {\\textsf{Loren}}^{\\textsf{c3}}_{e})$</span></div></div><div style=\"display:table-cell;vertical-align:top;padding-left:5px;padding-right:5px;padding-top:0.2em\"><div style=\"display:table;\"><div style=\"display:table-row;\"><div style=\"white-space:nowrap; color:blue;\"><span>[[Reduction]]</span></div></div></div></div></div><div style=\"display:table-row;border-bottom:1px solid #848482;\"><div style=\"display:table-cell;padding:0.2em 5px 0.2em 0px;vertical-align:top;\"> 1. </div><div style=\"display:table-cell;vertical-align:top;border-right:1px solid #848482;padding-right:5px;;padding-top:0.2em\"><div style=\"display:inline-block;\"><span>$\\neg{} (\\textsf{False} \\rightarrow{} {\\textsf{Bond}}^{\\textsf{c1}}_{e} = {\\textsf{Loren}}^{\\textsf{c3}}_{e})$</span></div></div><div style=\"display:table-cell;vertical-align:top;padding-left:5px;padding-right:5px;padding-top:0.2em\"><div style=\"display:table;\"><div style=\"display:table-row;\"><div style=\"white-space:nowrap; color:blue;\"><span>Recursive simplification of operand 0</span></div></div><div style=\"display:table-row;vertical-align:top;\"><div align=\"left\" style=\"display:table;border-collapse:collapse;\"><div style=\"display:table-row;border-bottom:1px solid #848482;\"><div style=\"display:table-cell;padding:0.2em 5px 0.2em 0px;vertical-align:top;\"></div><div style=\"display:table-cell;vertical-align:top;border-right:1px solid #848482;padding-right:5px;;padding-top:0.2em\"><div style=\"display:inline-block;\"><span>${\\textsf{G}}^{\\text{\\textsf{[meta]}}}({\\textsf{Bond}}^{\\textsf{c1}}_{e}, {\\textsf{Bond}}^{\\textsf{c1}}_{e}, {\\textsf{Bond}}^{\\textsf{c1}}_{e}) \\rightarrow{} {\\textsf{Bond}}^{\\textsf{c1}}_{e} = {\\textsf{Loren}}^{\\textsf{c3}}_{e}$</span></div></div><div style=\"display:table-cell;vertical-align:top;padding-left:5px;padding-right:5px;padding-top:0.2em\"><div style=\"display:table;\"><div style=\"display:table-row;\"><div style=\"white-space:nowrap; color:blue;\"><span>[Reduction]</span></div></div></div></div></div><div style=\"display:table-row;border-bottom:1px solid #848482;\"><div style=\"display:table-cell;padding:0.2em 5px 0.2em 0px;vertical-align:top;\"> 1. </div><div style=\"display:table-cell;vertical-align:top;border-right:1px solid #848482;padding-right:5px;;padding-top:0.2em\"><div style=\"display:inline-block;\"><span>$\\textsf{False} \\rightarrow{} {\\textsf{Bond}}^{\\textsf{c1}}_{e} = {\\textsf{Loren}}^{\\textsf{c3}}_{e}$</span></div></div><div style=\"display:table-cell;vertical-align:top;padding-left:5px;padding-right:5px;padding-top:0.2em\"><div style=\"display:table;\"><div style=\"display:table-row;\"><div style=\"white-space:nowrap; color:blue;\"><span>[Equality]</span></div></div></div></div></div><div style=\"display:table-row;border-bottom:1px solid #848482;\"><div style=\"display:table-cell;padding:0.2em 5px 0.2em 0px;vertical-align:top;\"> 2. </div><div style=\"display:table-cell;vertical-align:top;border-right:1px solid #848482;padding-right:5px;;padding-top:0.2em\"><div style=\"display:inline-block;\"><span>$\\textsf{False} \\rightarrow{} \\textsf{False}$</span></div></div><div style=\"display:table-cell;vertical-align:top;padding-left:5px;padding-right:5px;padding-top:0.2em\"><div style=\"display:table;\"><div style=\"display:table-row;\"><div style=\"white-space:nowrap; color:blue;\"><span>material implication</span></div></div></div></div></div><div style=\"display:table-row;\"><div style=\"display:table-cell;padding:0.2em 5px 0.2em 0px;vertical-align:top;\"> 3. </div><div style=\"display:table-cell;vertical-align:top;border-right:1px solid #848482;padding-right:5px;;padding-top:0.2em\"><div style=\"display:inline-block;\"><span>$\\textsf{True}$</span></div></div></div></div></div></div></div></div><div style=\"display:table-row;border-bottom:1px solid #848482;\"><div style=\"display:table-cell;padding:0.2em 5px 0.2em 0px;vertical-align:top;\"> 2. </div><div style=\"display:table-cell;vertical-align:top;border-right:1px solid #848482;padding-right:5px;;padding-top:0.2em\"><div style=\"display:inline-block;\"><span>$\\neg{} \\textsf{True}$</span></div></div><div style=\"display:table-cell;vertical-align:top;padding-left:5px;padding-right:5px;padding-top:0.2em\"><div style=\"display:table;\"><div style=\"display:table-row;\"><div style=\"white-space:nowrap; color:blue;\"><span>negation elimination</span></div></div></div></div></div><div style=\"display:table-row;\"><div style=\"display:table-cell;padding:0.2em 5px 0.2em 0px;vertical-align:top;\"> 3. </div><div style=\"display:table-cell;vertical-align:top;border-right:1px solid #848482;padding-right:5px;;padding-top:0.2em\"><div style=\"display:inline-block;\"><span>$\\textsf{False}$</span></div></div></div></div></div></div></div></div><div style=\"display:table-row;border-bottom:1px solid #848482;\"><div style=\"display:table-cell;padding:0.2em 5px 0.2em 0px;vertical-align:top;\"> 5. </div><div style=\"display:table-cell;vertical-align:top;border-right:1px solid #848482;padding-right:5px;;padding-top:0.2em\"><div style=\"display:inline-block;\"><span>[$\\textsf{True}$, $\\textsf{False}$, $\\textsf{False}$]</span></div></div><div style=\"display:table-cell;vertical-align:top;padding-left:5px;padding-right:5px;padding-top:0.2em\"><div style=\"display:table;\"><div style=\"display:table-row;\"><div style=\"white-space:nowrap; color:blue;\"><span>conjunction (elimination on `False`)</span></div></div></div></div></div><div style=\"display:table-row;\"><div style=\"display:table-cell;padding:0.2em 5px 0.2em 0px;vertical-align:top;\"> 6. </div><div style=\"display:table-cell;vertical-align:top;border-right:1px solid #848482;padding-right:5px;;padding-top:0.2em\"><div style=\"display:inline-block;\"><span>$\\textsf{False}$</span></div></div></div></div></div></div></div></div>"
      ],
      "text/plain": [
       "DisplayNode instance: HTML rendering only"
      ]
     },
     "metadata": {},
     "output_type": "display_data"
    }
   ],
   "source": [
    "# ex. 3 (6)\n",
    "with m1.under() as m:\n",
    "    with m(g1).under():\n",
    "        x = %te simplify ~(G(x1,x1,x1) >> (J <=> M)) & (~Q(J) & K(J,M))\n",
    "        display(x.derivation.trace())"
   ]
  },
  {
   "cell_type": "markdown",
   "id": "47f028ea-3540-441f-92b2-4a2bbfeac4a0",
   "metadata": {},
   "source": [
    "$\\neg x_1=j \\rightarrow \\neg G(x_1,x_1,x_1)$:"
   ]
  },
  {
   "cell_type": "code",
   "execution_count": 155,
   "id": "f3d7bbd3-36a3-4f4c-8866-46d62906cdf2",
   "metadata": {},
   "outputs": [
    {
     "data": {
      "text/html": [
       "<div align=\"left\" style=\"display:table;\"><div style=\"display:table-cell;vertical-align:top;padding-left:5px;padding-right:5px;padding-top:0.2em\"><div style=\"display:table;\"><div style=\"display:table-row;vertical-align:top;\"><div align=\"left\" style=\"display:table;border-collapse:collapse;\"><div style=\"display:table-row;border-bottom:1px solid #848482;\"><div style=\"display:table-cell;padding:0.2em 5px 0.2em 0px;vertical-align:top;\"></div><div style=\"display:table-cell;vertical-align:top;border-right:1px solid #848482;padding-right:5px;;padding-top:0.2em\"><div style=\"display:inline-block;\"><span>$\\neg{} {\\textsf{Bond}}^{\\textsf{c1}}_{e} = {\\textsf{Bond}}^{\\textsf{c1}}_{e} \\rightarrow{} \\neg{} {\\textsf{G}}^{\\text{\\textsf{[meta]}}}({\\textsf{Bond}}^{\\textsf{c1}}_{e}, {\\textsf{Bond}}^{\\textsf{c1}}_{e}, {\\textsf{Bond}}^{\\textsf{c1}}_{e})$</span></div></div><div style=\"display:table-cell;vertical-align:top;padding-left:5px;padding-right:5px;padding-top:0.2em\"><div style=\"display:table;\"><div style=\"display:table-row;\"><div style=\"white-space:nowrap; color:blue;\"><span>[[Reduction]]</span></div></div></div></div></div><div style=\"display:table-row;border-bottom:1px solid #848482;\"><div style=\"display:table-cell;padding:0.2em 5px 0.2em 0px;vertical-align:top;\"> 1. </div><div style=\"display:table-cell;vertical-align:top;border-right:1px solid #848482;padding-right:5px;;padding-top:0.2em\"><div style=\"display:inline-block;\"><span>$\\neg{} {\\textsf{Bond}}^{\\textsf{c1}}_{e} = {\\textsf{Bond}}^{\\textsf{c1}}_{e} \\rightarrow{} \\neg{} \\textsf{False}$</span></div></div><div style=\"display:table-cell;vertical-align:top;padding-left:5px;padding-right:5px;padding-top:0.2em\"><div style=\"display:table;\"><div style=\"display:table-row;\"><div style=\"white-space:nowrap; color:blue;\"><span>Recursive simplification of operand 0</span></div></div><div style=\"display:table-row;vertical-align:top;\"><div align=\"left\" style=\"display:table;border-collapse:collapse;\"><div style=\"display:table-row;border-bottom:1px solid #848482;\"><div style=\"display:table-cell;padding:0.2em 5px 0.2em 0px;vertical-align:top;\"></div><div style=\"display:table-cell;vertical-align:top;border-right:1px solid #848482;padding-right:5px;;padding-top:0.2em\"><div style=\"display:inline-block;\"><span>$\\neg{} {\\textsf{Bond}}^{\\textsf{c1}}_{e} = {\\textsf{Bond}}^{\\textsf{c1}}_{e}$</span></div></div><div style=\"display:table-cell;vertical-align:top;padding-left:5px;padding-right:5px;padding-top:0.2em\"><div style=\"display:table;\"><div style=\"display:table-row;\"><div style=\"white-space:nowrap; color:blue;\"><span>[Equality]</span></div></div></div></div></div><div style=\"display:table-row;border-bottom:1px solid #848482;\"><div style=\"display:table-cell;padding:0.2em 5px 0.2em 0px;vertical-align:top;\"> 1. </div><div style=\"display:table-cell;vertical-align:top;border-right:1px solid #848482;padding-right:5px;;padding-top:0.2em\"><div style=\"display:inline-block;\"><span>$\\neg{} \\textsf{True}$</span></div></div><div style=\"display:table-cell;vertical-align:top;padding-left:5px;padding-right:5px;padding-top:0.2em\"><div style=\"display:table;\"><div style=\"display:table-row;\"><div style=\"white-space:nowrap; color:blue;\"><span>negation elimination</span></div></div></div></div></div><div style=\"display:table-row;\"><div style=\"display:table-cell;padding:0.2em 5px 0.2em 0px;vertical-align:top;\"> 2. </div><div style=\"display:table-cell;vertical-align:top;border-right:1px solid #848482;padding-right:5px;;padding-top:0.2em\"><div style=\"display:inline-block;\"><span>$\\textsf{False}$</span></div></div></div></div></div></div></div></div><div style=\"display:table-row;border-bottom:1px solid #848482;\"><div style=\"display:table-cell;padding:0.2em 5px 0.2em 0px;vertical-align:top;\"> 2. </div><div style=\"display:table-cell;vertical-align:top;border-right:1px solid #848482;padding-right:5px;;padding-top:0.2em\"><div style=\"display:inline-block;\"><span>$\\textsf{False} \\rightarrow{} \\neg{} \\textsf{False}$</span></div></div><div style=\"display:table-cell;vertical-align:top;padding-left:5px;padding-right:5px;padding-top:0.2em\"><div style=\"display:table;\"><div style=\"display:table-row;\"><div style=\"white-space:nowrap; color:blue;\"><span>Recursive simplification of operand 1</span></div></div><div style=\"display:table-row;vertical-align:top;\"><div align=\"left\" style=\"display:table;border-collapse:collapse;\"><div style=\"display:table-row;border-bottom:1px solid #848482;\"><div style=\"display:table-cell;padding:0.2em 5px 0.2em 0px;vertical-align:top;\"></div><div style=\"display:table-cell;vertical-align:top;border-right:1px solid #848482;padding-right:5px;;padding-top:0.2em\"><div style=\"display:inline-block;\"><span>$\\neg{} {\\textsf{G}}^{\\text{\\textsf{[meta]}}}({\\textsf{Bond}}^{\\textsf{c1}}_{e}, {\\textsf{Bond}}^{\\textsf{c1}}_{e}, {\\textsf{Bond}}^{\\textsf{c1}}_{e})$</span></div></div><div style=\"display:table-cell;vertical-align:top;padding-left:5px;padding-right:5px;padding-top:0.2em\"><div style=\"display:table;\"><div style=\"display:table-row;\"><div style=\"white-space:nowrap; color:blue;\"><span>[Reduction]</span></div></div></div></div></div><div style=\"display:table-row;border-bottom:1px solid #848482;\"><div style=\"display:table-cell;padding:0.2em 5px 0.2em 0px;vertical-align:top;\"> 1. </div><div style=\"display:table-cell;vertical-align:top;border-right:1px solid #848482;padding-right:5px;;padding-top:0.2em\"><div style=\"display:inline-block;\"><span>$\\neg{} \\textsf{False}$</span></div></div><div style=\"display:table-cell;vertical-align:top;padding-left:5px;padding-right:5px;padding-top:0.2em\"><div style=\"display:table;\"><div style=\"display:table-row;\"><div style=\"white-space:nowrap; color:blue;\"><span>negation elimination</span></div></div></div></div></div><div style=\"display:table-row;\"><div style=\"display:table-cell;padding:0.2em 5px 0.2em 0px;vertical-align:top;\"> 2. </div><div style=\"display:table-cell;vertical-align:top;border-right:1px solid #848482;padding-right:5px;;padding-top:0.2em\"><div style=\"display:inline-block;\"><span>$\\textsf{True}$</span></div></div></div></div></div></div></div></div><div style=\"display:table-row;border-bottom:1px solid #848482;\"><div style=\"display:table-cell;padding:0.2em 5px 0.2em 0px;vertical-align:top;\"> 3. </div><div style=\"display:table-cell;vertical-align:top;border-right:1px solid #848482;padding-right:5px;;padding-top:0.2em\"><div style=\"display:inline-block;\"><span>$\\textsf{False} \\rightarrow{} \\textsf{True}$</span></div></div><div style=\"display:table-cell;vertical-align:top;padding-left:5px;padding-right:5px;padding-top:0.2em\"><div style=\"display:table;\"><div style=\"display:table-row;\"><div style=\"white-space:nowrap; color:blue;\"><span>material implication</span></div></div></div></div></div><div style=\"display:table-row;\"><div style=\"display:table-cell;padding:0.2em 5px 0.2em 0px;vertical-align:top;\"> 4. </div><div style=\"display:table-cell;vertical-align:top;border-right:1px solid #848482;padding-right:5px;;padding-top:0.2em\"><div style=\"display:inline-block;\"><span>$\\textsf{True}$</span></div></div></div></div></div></div></div></div>"
      ],
      "text/plain": [
       "DisplayNode instance: HTML rendering only"
      ]
     },
     "metadata": {},
     "output_type": "display_data"
    }
   ],
   "source": [
    "# ex. 3 (7)\n",
    "with m1.under() as m:\n",
    "    with m(g1).under():\n",
    "        x = %te simplify ~(x1 <=> J) >> ~G(x1,x1,x1)\n",
    "        display(x.derivation.trace())"
   ]
  },
  {
   "cell_type": "markdown",
   "id": "4bc40b00-8123-4609-a791-ea5843ccc9ab",
   "metadata": {},
   "source": [
    "n.b. (8) has a typo (I think), so I have skipped it here.\n",
    "\n",
    "Next we use this model for a few quantified expressions, starting with text example (22):"
   ]
  },
  {
   "cell_type": "code",
   "execution_count": 156,
   "id": "85dd4528-14ed-4b9c-bdab-29ecbf58b48b",
   "metadata": {},
   "outputs": [
    {
     "data": {
      "text/html": [
       "<div align=\"left\" style=\"display:table;\"><div style=\"display:table-cell;vertical-align:top;padding-left:5px;padding-right:5px;padding-top:0.2em\"><div style=\"display:table;\"><div style=\"display:table-row;vertical-align:top;\"><div align=\"left\" style=\"display:table;border-collapse:collapse;\"><div style=\"display:table-row;border-bottom:1px solid #848482;\"><div style=\"display:table-cell;padding:0.2em 5px 0.2em 0px;vertical-align:top;\"></div><div style=\"display:table-cell;vertical-align:top;border-right:1px solid #848482;padding-right:5px;;padding-top:0.2em\"><div style=\"display:inline-block;\"><span>$\\exists{} x1_{e} \\: . \\: {\\textsf{P}}^{\\text{\\textsf{[meta]}}}({x1})$</span></div></div><div style=\"display:table-cell;vertical-align:top;padding-left:5px;padding-right:5px;padding-top:0.2em\"><div style=\"display:table;\"><div style=\"display:table-row;\"><div style=\"white-space:nowrap; color:blue;\"><span>verifier for ∃x1</span></div></div><div style=\"display:table-row;vertical-align:top;\"><div align=\"left\" style=\"display:table;border-collapse:collapse;\"><div style=\"display:table-row;border-bottom:1px solid #848482;\"><div style=\"display:table-cell;padding:0.2em 5px 0.2em 0px;vertical-align:top;\"></div><div style=\"display:table-cell;vertical-align:top;border-right:1px solid #848482;padding-right:5px;;padding-top:0.2em\"><div style=\"display:inline-block;\"><span>${\\textsf{P}}^{\\text{\\textsf{[meta]}}}({x1}_{e})$</span></div></div><div style=\"display:table-cell;vertical-align:top;padding-left:5px;padding-right:5px;padding-top:0.2em\"><div style=\"display:table;\"><div style=\"display:table-row;\"><div style=\"white-space:nowrap; color:blue;\"><span>Assignment substitution</span></div></div></div></div></div><div style=\"display:table-row;border-bottom:1px solid #848482;\"><div style=\"display:table-cell;padding:0.2em 5px 0.2em 0px;vertical-align:top;\"> 1. </div><div style=\"display:table-cell;vertical-align:top;border-right:1px solid #848482;padding-right:5px;;padding-top:0.2em\"><div style=\"display:inline-block;\"><span>${\\textsf{P}}^{\\text{\\textsf{[meta]}}}({\\textsf{Loren}}^{\\textsf{c3}}_{e})$</span></div></div><div style=\"display:table-cell;vertical-align:top;padding-left:5px;padding-right:5px;padding-top:0.2em\"><div style=\"display:table;\"><div style=\"display:table-row;\"><div style=\"white-space:nowrap; color:blue;\"><span>Reduction</span></div></div></div></div></div><div style=\"display:table-row;\"><div style=\"display:table-cell;padding:0.2em 5px 0.2em 0px;vertical-align:top;\"> 2. </div><div style=\"display:table-cell;vertical-align:top;border-right:1px solid #848482;padding-right:5px;;padding-top:0.2em\"><div style=\"display:inline-block;\"><span>$\\textsf{True}$</span></div></div></div></div></div></div></div></div><div style=\"display:table-row;\"><div style=\"display:table-cell;padding:0.2em 5px 0.2em 0px;vertical-align:top;\"> 1. </div><div style=\"display:table-cell;vertical-align:top;border-right:1px solid #848482;padding-right:5px;;padding-top:0.2em\"><div style=\"display:inline-block;\"><span>$\\textsf{True}$</span></div></div></div></div></div></div></div></div>"
      ],
      "text/plain": [
       "DisplayNode instance: HTML rendering only"
      ]
     },
     "metadata": {},
     "output_type": "display_data"
    }
   ],
   "source": [
    "# (22)\n",
    "with m1.under() as m:\n",
    "    with m(g1).under():\n",
    "        x = %te simplify Exists x1 : P(x1)\n",
    "        display(x.derivation.trace())"
   ]
  },
  {
   "cell_type": "code",
   "execution_count": 157,
   "id": "8612d28c-bf61-421b-bec0-7ef916f85807",
   "metadata": {},
   "outputs": [
    {
     "name": "stdout",
     "output_type": "stream",
     "text": [
      "INFO (core): Coerced guessed type for 'P_t' into <e,t>, to match argument 'x1_e'\n"
     ]
    },
    {
     "data": {
      "text/html": [
       "<div align=\"left\" style=\"display:table;\"><div style=\"display:table-cell;vertical-align:top;padding-left:5px;padding-right:5px;padding-top:0.2em\"><div style=\"display:table;\"><div style=\"display:table-row;vertical-align:top;\"><div align=\"left\" style=\"display:table;border-collapse:collapse;\"><div style=\"display:table-row;border-bottom:1px solid #848482;\"><div style=\"display:table-cell;padding:0.2em 5px 0.2em 0px;vertical-align:top;\"></div><div style=\"display:table-cell;vertical-align:top;border-right:1px solid #848482;padding-right:5px;;padding-top:0.2em\"><div style=\"display:inline-block;\"><span>$\\exists{} x1_{e} \\: . \\: {P}({x1})$</span></div></div><div style=\"display:table-cell;vertical-align:top;padding-left:5px;padding-right:5px;padding-top:0.2em\"><div style=\"display:table;\"><div style=\"display:table-row;\"><div style=\"white-space:nowrap; color:blue;\"><span>Assignment substitution</span></div></div></div></div></div><div style=\"display:table-row;border-bottom:1px solid #848482;\"><div style=\"display:table-cell;padding:0.2em 5px 0.2em 0px;vertical-align:top;\"> 1. </div><div style=\"display:table-cell;vertical-align:top;border-right:1px solid #848482;padding-right:5px;;padding-top:0.2em\"><div style=\"display:inline-block;\"><span>$\\exists{} x1_{e} \\: . \\: {\\textsf{P}}^{\\text{\\textsf{[meta]}}}({x1})$</span></div></div><div style=\"display:table-cell;vertical-align:top;padding-left:5px;padding-right:5px;padding-top:0.2em\"><div style=\"display:table;\"><div style=\"display:table-row;\"><div style=\"white-space:nowrap; color:blue;\"><span>verifier for ∃x1</span></div></div><div style=\"display:table-row;vertical-align:top;\"><div align=\"left\" style=\"display:table;border-collapse:collapse;\"><div style=\"display:table-row;border-bottom:1px solid #848482;\"><div style=\"display:table-cell;padding:0.2em 5px 0.2em 0px;vertical-align:top;\"></div><div style=\"display:table-cell;vertical-align:top;border-right:1px solid #848482;padding-right:5px;;padding-top:0.2em\"><div style=\"display:inline-block;\"><span>${\\textsf{P}}^{\\text{\\textsf{[meta]}}}({x1}_{e})$</span></div></div><div style=\"display:table-cell;vertical-align:top;padding-left:5px;padding-right:5px;padding-top:0.2em\"><div style=\"display:table;\"><div style=\"display:table-row;\"><div style=\"white-space:nowrap; color:blue;\"><span>Assignment substitution</span></div></div></div></div></div><div style=\"display:table-row;border-bottom:1px solid #848482;\"><div style=\"display:table-cell;padding:0.2em 5px 0.2em 0px;vertical-align:top;\"> 1. </div><div style=\"display:table-cell;vertical-align:top;border-right:1px solid #848482;padding-right:5px;;padding-top:0.2em\"><div style=\"display:inline-block;\"><span>${\\textsf{P}}^{\\text{\\textsf{[meta]}}}({x1}^{Loren/\\textsf{c3}}_{e})$</span></div></div><div style=\"display:table-cell;vertical-align:top;padding-left:5px;padding-right:5px;padding-top:0.2em\"><div style=\"display:table;\"><div style=\"display:table-row;\"><div style=\"white-space:nowrap; color:blue;\"><span>Reduction</span></div></div></div></div></div><div style=\"display:table-row;\"><div style=\"display:table-cell;padding:0.2em 5px 0.2em 0px;vertical-align:top;\"> 2. </div><div style=\"display:table-cell;vertical-align:top;border-right:1px solid #848482;padding-right:5px;;padding-top:0.2em\"><div style=\"display:inline-block;\"><span>$\\textsf{True}$</span></div></div></div></div></div></div></div></div><div style=\"display:table-row;\"><div style=\"display:table-cell;padding:0.2em 5px 0.2em 0px;vertical-align:top;\"> 2. </div><div style=\"display:table-cell;vertical-align:top;border-right:1px solid #848482;padding-right:5px;;padding-top:0.2em\"><div style=\"display:inline-block;\"><span>$\\textsf{True}$</span></div></div></div></div></div></div></div></div>"
      ],
      "text/plain": [
       "DisplayNode instance: HTML rendering only"
      ]
     },
     "execution_count": 157,
     "metadata": {},
     "output_type": "execute_result"
    }
   ],
   "source": [
    "m1.evaluate(te(\"Exists x1 : P(x1)\")).derivation.trace()"
   ]
  },
  {
   "cell_type": "markdown",
   "id": "fde75e68-db21-40ee-8f8a-b2476fcef274",
   "metadata": {},
   "source": [
    "Finally, some multiply quantified examples. (In both of these cases, the truth value results from quantifying over the entire domain, so the derivation shows \"generic on var\" rather than printing a specific verifier/falsifier.)"
   ]
  },
  {
   "cell_type": "code",
   "execution_count": 158,
   "id": "90acbc86-990a-4481-a2bf-e824e1bfbcd8",
   "metadata": {},
   "outputs": [
    {
     "data": {
      "text/html": [
       "<div align=\"left\" style=\"display:table;\"><div style=\"display:table-cell;vertical-align:top;padding-left:5px;padding-right:5px;padding-top:0.2em\"><div style=\"display:table;\"><div style=\"display:table-row;vertical-align:top;\"><div align=\"left\" style=\"display:table;border-collapse:collapse;\"><div style=\"display:table-row;border-bottom:1px solid #848482;\"><div style=\"display:table-cell;padding:0.2em 5px 0.2em 0px;vertical-align:top;\"></div><div style=\"display:table-cell;vertical-align:top;border-right:1px solid #848482;padding-right:5px;;padding-top:0.2em\"><div style=\"display:inline-block;\"><span>$\\forall{} x1_{e} \\: . \\: \\exists{} x2_{e} \\: . \\: {\\textsf{K}}^{\\text{\\textsf{[meta]}}}({x1}, {x2})$</span></div></div><div style=\"display:table-cell;vertical-align:top;padding-left:5px;padding-right:5px;padding-top:0.2em\"><div style=\"display:table;\"><div style=\"display:table-row;\"><div style=\"white-space:nowrap; color:blue;\"><span>∀ evaluation</span></div></div><div style=\"display:table-row;vertical-align:top;\"><div align=\"left\" style=\"display:table;border-collapse:collapse;\"><div style=\"display:table-row;border-bottom:1px solid #848482;\"><div style=\"display:table-cell;padding:0.2em 5px 0.2em 0px;vertical-align:top;\"></div><div style=\"display:table-cell;vertical-align:top;border-right:1px solid #848482;padding-right:5px;;padding-top:0.2em\"><div style=\"display:inline-block;\"><span>$\\exists{} x2_{e} \\: . \\: {\\textsf{K}}^{\\text{\\textsf{[meta]}}}({x1}_{e}, {x2})$</span></div></div><div style=\"display:table-cell;vertical-align:top;padding-left:5px;padding-right:5px;padding-top:0.2em\"><div style=\"display:table;\"><div style=\"display:table-row;\"><div style=\"white-space:nowrap; color:blue;\"><span>verifier for ∃x2 (generic on x1)</span></div></div></div></div></div><div style=\"display:table-row;\"><div style=\"display:table-cell;padding:0.2em 5px 0.2em 0px;vertical-align:top;\"> 1. </div><div style=\"display:table-cell;vertical-align:top;border-right:1px solid #848482;padding-right:5px;;padding-top:0.2em\"><div style=\"display:inline-block;\"><span>$\\textsf{True}$</span></div></div></div></div></div></div></div></div><div style=\"display:table-row;\"><div style=\"display:table-cell;padding:0.2em 5px 0.2em 0px;vertical-align:top;\"> 1. </div><div style=\"display:table-cell;vertical-align:top;border-right:1px solid #848482;padding-right:5px;;padding-top:0.2em\"><div style=\"display:inline-block;\"><span>$\\textsf{True}$</span></div></div></div></div></div></div></div></div>"
      ],
      "text/plain": [
       "DisplayNode instance: HTML rendering only"
      ]
     },
     "metadata": {},
     "output_type": "display_data"
    }
   ],
   "source": [
    "# (23)\n",
    "with m1.under() as m:\n",
    "    with m(g1).under():\n",
    "        x = %te simplify Forall x1 : Exists x2 : K(x1,x2)\n",
    "        display(x.derivation.trace())"
   ]
  },
  {
   "cell_type": "code",
   "execution_count": 159,
   "id": "2bee490c-d2bb-4425-b8d1-01f726a9b3f0",
   "metadata": {},
   "outputs": [
    {
     "data": {
      "text/html": [
       "<div align=\"left\" style=\"display:table;\"><div style=\"display:table-cell;vertical-align:top;padding-left:5px;padding-right:5px;padding-top:0.2em\"><div style=\"display:table;\"><div style=\"display:table-row;vertical-align:top;\"><div align=\"left\" style=\"display:table;border-collapse:collapse;\"><div style=\"display:table-row;border-bottom:1px solid #848482;\"><div style=\"display:table-cell;padding:0.2em 5px 0.2em 0px;vertical-align:top;\"></div><div style=\"display:table-cell;vertical-align:top;border-right:1px solid #848482;padding-right:5px;;padding-top:0.2em\"><div style=\"display:inline-block;\"><span>$\\exists{} x2_{e} \\: . \\: \\forall{} x1_{e} \\: . \\: {\\textsf{K}}^{\\text{\\textsf{[meta]}}}({x1}, {x2})$</span></div></div><div style=\"display:table-cell;vertical-align:top;padding-left:5px;padding-right:5px;padding-top:0.2em\"><div style=\"display:table;\"><div style=\"display:table-row;\"><div style=\"white-space:nowrap; color:blue;\"><span>no verifiers for ∃x2</span></div></div><div style=\"display:table-row;vertical-align:top;\"><div align=\"left\" style=\"display:table;border-collapse:collapse;\"><div style=\"display:table-row;border-bottom:1px solid #848482;\"><div style=\"display:table-cell;padding:0.2em 5px 0.2em 0px;vertical-align:top;\"></div><div style=\"display:table-cell;vertical-align:top;border-right:1px solid #848482;padding-right:5px;;padding-top:0.2em\"><div style=\"display:inline-block;\"><span>$\\forall{} x1_{e} \\: . \\: {\\textsf{K}}^{\\text{\\textsf{[meta]}}}({x1}, {x2}_{e})$</span></div></div><div style=\"display:table-cell;vertical-align:top;padding-left:5px;padding-right:5px;padding-top:0.2em\"><div style=\"display:table;\"><div style=\"display:table-row;\"><div style=\"white-space:nowrap; color:blue;\"><span>counterexample for ∀x1 (generic on x2)</span></div></div></div></div></div><div style=\"display:table-row;\"><div style=\"display:table-cell;padding:0.2em 5px 0.2em 0px;vertical-align:top;\"> 1. </div><div style=\"display:table-cell;vertical-align:top;border-right:1px solid #848482;padding-right:5px;;padding-top:0.2em\"><div style=\"display:inline-block;\"><span>$\\textsf{False}$</span></div></div></div></div></div></div></div></div><div style=\"display:table-row;\"><div style=\"display:table-cell;padding:0.2em 5px 0.2em 0px;vertical-align:top;\"> 1. </div><div style=\"display:table-cell;vertical-align:top;border-right:1px solid #848482;padding-right:5px;;padding-top:0.2em\"><div style=\"display:inline-block;\"><span>$\\textsf{False}$</span></div></div></div></div></div></div></div></div>"
      ],
      "text/plain": [
       "DisplayNode instance: HTML rendering only"
      ]
     },
     "metadata": {},
     "output_type": "display_data"
    }
   ],
   "source": [
    "# (24)\n",
    "with m1.under() as m:\n",
    "    with m(g1).under():\n",
    "        x = %te simplify Exists x2 : Forall x1 : K(x1,x2)\n",
    "        display(x.derivation.trace())"
   ]
  },
  {
   "cell_type": "code",
   "execution_count": null,
   "id": "82185c42-84f7-4e45-9ad5-ad036ea9e468",
   "metadata": {},
   "outputs": [],
   "source": []
  }
 ],
 "metadata": {
  "kernelspec": {
   "display_name": "Lambda Notebook (Python 3)",
   "language": "python",
   "name": "lambda-notebook"
  },
  "language_info": {
   "codemirror_mode": {
    "name": "ipython",
    "version": 3
   },
   "file_extension": ".py",
   "mimetype": "text/x-python",
   "name": "python",
   "nbconvert_exporter": "python",
   "pygments_lexer": "ipython3",
   "version": "3.12.0"
  }
 },
 "nbformat": 4,
 "nbformat_minor": 5
}
