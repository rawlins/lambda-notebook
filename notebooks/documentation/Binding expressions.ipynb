{
 "cells": [
  {
   "cell_type": "markdown",
   "id": "25bd321c-dcde-4795-93ba-0645c14060b7",
   "metadata": {},
   "source": [
    "# Binding expressions\n",
    "\n",
    "The metalanguage supports a number of operators that can bind variables, with the general syntax:\n",
    "\n",
    "    Op var: body\n",
    "\n",
    "For example:"
   ]
  },
  {
   "cell_type": "code",
   "execution_count": null,
   "id": "d6858ce4-52ab-42ef-92f9-b2409cd2ecc0",
   "metadata": {},
   "outputs": [],
   "source": [
    "%te Exists x_e: P_<e,t>(x)"
   ]
  },
  {
   "cell_type": "markdown",
   "id": "c920cb50-4181-433e-a5f4-31b2e645cda0",
   "metadata": {},
   "source": [
    "In summary, these operators are:\n",
    "\n",
    "* `L` (class: `meta.core.LFun`): lambda expressions\n",
    "* `Exists` (class: `meta.quantifiers.Exists`), `Forall` (class: `meta.quantifiers.Forall`), and `ExistsExact` (class: `meta.quantifiers.ExistsExact`): quantifiers\n",
    "* `Iota` (class `meta.quantifiers.Iota`): unique reference by condition\n",
    "* `Set` (class `meta.sets.ConditionSet`): set construction by condition\n",
    "\n",
    "The behavior is relatively diverse, with the common thread that there is a bound/dependent variable whose identity is shared in the scope of the binder. Type inference will require that distinct instances of these variable can have a unified type (and fail if not). If type inferences needs to adjust the type of any variable the whole expression most follow (and will fail if it can't). The scope of a binding operator on the right continues until explicitly ended, so use parentheses to indicate scope.\n",
    "\n",
    "Several of these operators, the quantifiers and `Iota`, support an explicit restrictor, i.e. a binary quantifier notation, by providing a set following the variable:"
   ]
  },
  {
   "cell_type": "code",
   "execution_count": null,
   "id": "c3fd929f-bd0f-4792-b8cb-67e89f179058",
   "metadata": {},
   "outputs": [],
   "source": [
    "%te Exists x_e << {_c1, _c2}: P_<e,t>(x)"
   ]
  },
  {
   "cell_type": "markdown",
   "id": "00202df2-199c-4ab7-beea-32e188fcf04b",
   "metadata": {},
   "source": [
    "## Lambda expressions\n",
    "\n",
    "* Metalanguage operator name: The parser accepts `L`, `λ`, `Lambda`, and `lambda` for this operator.\n",
    "* class: **`lamb.meta.core.LFun`**\n",
    "\n",
    "A lambda expression is the main metalanguage tool for describing a function. Lambda expressions have already been introduced, and this document won't itself attempt to explain the notion of a function generally or the lambda calculus, but rather discuss various details of lambda expressions. Given some variable of type `X`, and a body of type `Y`, the type of an `LFun` is `<X,Y>`. Like all binding expressions, the binder names a variable which is then considered bound if it appears in the body of the expression:"
   ]
  },
  {
   "cell_type": "code",
   "execution_count": null,
   "id": "c1266105-81d6-40e8-bd60-a6d3b27f8fc2",
   "metadata": {},
   "outputs": [],
   "source": [
    "%te L x_n : x + 2"
   ]
  },
  {
   "cell_type": "markdown",
   "id": "eec36dfa-a426-4e42-bd65-c8c0094f1285",
   "metadata": {},
   "source": [
    "The semantics of such expressions rests primarily in the notions of application and (beta) reduction. The standard parentheses notation is used for application; putting together a function with an argument produces a combined expression (class **`lamb.meta.core.ApplicationExpr`**):"
   ]
  },
  {
   "cell_type": "code",
   "execution_count": null,
   "id": "108ce0b2-18f2-400a-bde4-0f3e5ea16d19",
   "metadata": {},
   "outputs": [],
   "source": [
    "%te (L x_n : x + 2)(10)"
   ]
  },
  {
   "cell_type": "markdown",
   "id": "ac59d55a-a771-42a9-b777-0704968664b7",
   "metadata": {},
   "source": [
    "The argument's type and the bound variables type must successfully be able to unify, and the resulting `ApplicationExpr` will reflect any type strengthening. In the following example, an argument of type `n` entails that all instances of `x_X` must be strengthened to be type `n`."
   ]
  },
  {
   "cell_type": "code",
   "execution_count": null,
   "id": "76851313-25ba-445e-be69-e3449ad31109",
   "metadata": {},
   "outputs": [],
   "source": [
    "f = %te L x_X: P_<X,t>(x)\n",
    "display(f, f(10))"
   ]
  },
  {
   "cell_type": "markdown",
   "id": "c50d50bb-c88d-4c9c-8413-d15d1af7cca4",
   "metadata": {},
   "source": [
    "### Reduction and simplification for lambda expressions\n",
    "\n",
    "Lambda expressions are evaluated by means of (beta) reduction, that is, the substitution of bound variables with an argument. From the above example you can see that the metalanguage separates the application and the reduction step, where the latter must be triggered. When working directly with metalanguage expressions, this can be triggered directly via the function `reduce_all()`, or via simplification with the option `reduce=True`. Currently, this option is not a default simplification strategy, though this may change in the future."
   ]
  },
  {
   "cell_type": "code",
   "execution_count": null,
   "id": "54d76cac-425e-4d8c-b1ea-fe4dae1063c6",
   "metadata": {},
   "outputs": [],
   "source": [
    "f = %te L x_X: P_<X,t>(x)\n",
    "display(f(10).reduce_all())\n",
    "display(f(10).simplify_all(reduce=True))"
   ]
  },
  {
   "cell_type": "markdown",
   "id": "1a35f7a0-9adb-407c-8f88-822308a1c394",
   "metadata": {},
   "source": [
    "Note that when working with composition systems in the `lamb.lang` module, reduction *is* generally triggered by default. In addition, the `simplify` parameter to `%te` magics triggers reduction. (You can provide the parameter `reduce` to trigger reduction without other simplification strategies.)"
   ]
  },
  {
   "cell_type": "code",
   "execution_count": null,
   "id": "7f62a01c-caf9-4834-b0bd-f1be0c43001c",
   "metadata": {},
   "outputs": [],
   "source": [
    "f(10).reduce_all().derivation"
   ]
  },
  {
   "cell_type": "markdown",
   "id": "61a2dfc8-8198-4426-a941-c0fb6c1fca66",
   "metadata": {},
   "source": [
    "**Alpha conversion.**\n",
    "In order to avoid collisions with locally free terms, reduction may result in the automatic renaming of bound variables via a process standardly known as *alpha conversion*. In the following example, a variable `y` is applied for the argument named `x`. Just blindly substituting `y` for `x` would result in a collision with the bound `y`, and therefore the bound `y` is automatically renamed to `y1`:"
   ]
  },
  {
   "cell_type": "code",
   "execution_count": null,
   "id": "85ea116d-5c08-438d-9192-557447145660",
   "metadata": {},
   "outputs": [],
   "source": [
    "%te simplify (L x_e : L y_e : P_<(e,e),t>(x,y))(y_e)"
   ]
  },
  {
   "cell_type": "markdown",
   "id": "77582543-8577-45f6-85d8-7e9a6d8cefc2",
   "metadata": {},
   "source": [
    "It is possible to trigger alpha conversion manually via the function `alpha_convert`:"
   ]
  },
  {
   "cell_type": "code",
   "execution_count": null,
   "id": "f0f07708-5748-40f3-b4df-5a01f3db1e34",
   "metadata": {},
   "outputs": [],
   "source": [
    "te(\"L x_e : x\").alpha_convert('y')"
   ]
  },
  {
   "cell_type": "markdown",
   "id": "e5e3bf8a-62b0-495f-9b67-f935bd1b872b",
   "metadata": {},
   "source": [
    "**Multiple reduction**. The standard triggers for reduction amount to calling the function `reduce_all()`, which recursively triggers all possible reductions in an expression (including ones that result from reduction). For example, the following expression requires three successive reduction steps to fully simplify; one for each argument and one resulting from the first two:"
   ]
  },
  {
   "cell_type": "code",
   "execution_count": null,
   "id": "a3a5df32-ef78-4090-bbbe-58a25d4dbf13",
   "metadata": {},
   "outputs": [],
   "source": [
    "x = %te (L f_X : L g_Y : f(g))(L p_t : ~p)(Q_t & R_t)\n",
    "x"
   ]
  },
  {
   "cell_type": "code",
   "execution_count": null,
   "id": "e29df37b-2c26-477a-a465-ce176a852295",
   "metadata": {},
   "outputs": [],
   "source": [
    "# adding the .trace() here shows the recursive substeps\n",
    "x.reduce_all().derivation.trace()"
   ]
  },
  {
   "cell_type": "markdown",
   "id": "c340d9d4-cb76-46db-a3c5-269932d9f139",
   "metadata": {},
   "source": [
    "**Execution notes**. Compiling an `LFun` generates a python `callable` that can then be used like any other function. The bare compiled function expects a compiled argument and does not do type-checking on its argument, though the wrapper functions provide limited dynamic type-checking as a convenience. As a toy example, the following `meta.exec` call is essentially equivalent to writing python `lambda x : x + 10`, with the addition that static type-checking is carried out while parsing the metalanguage expression."
   ]
  },
  {
   "cell_type": "code",
   "execution_count": null,
   "id": "b08eea07-5b39-453c-a828-927538515a05",
   "metadata": {},
   "outputs": [],
   "source": [
    "f = meta.meta.exec(te(\"L x_n : x + 10\"))\n",
    "f(2)"
   ]
  },
  {
   "cell_type": "markdown",
   "id": "16013300-14eb-4861-b1f1-5b1867c1b81c",
   "metadata": {},
   "source": [
    "## Quantifiers and reference\n",
    "\n",
    "The quantifiers have uniform type behavior: they take a body of type `t`, and a variable of arbitrary type, producing an expression of type `t`. The universal and existential quantifiers are in many ways quite standard implementations. The `ExistsExact` operator is used for indicating unique existence. These operators have a uniform simplification/execution behavior and api. All of them support restrictor notation. All of these support evaluation/simplification and execution, with the important caveat that a guaranteed finite domain is required (either via the type domain or a restrictor)."
   ]
  },
  {
   "cell_type": "markdown",
   "id": "4ee20443-9b19-473c-88e6-a2918741b0fb",
   "metadata": {},
   "source": [
    "### Universal quantification / `Forall`\n",
    "\n",
    "* Metalanguage operator name: `Forall`\n",
    "* Class: **`lamb.meta.quantifiers.Forall`**\n",
    "\n",
    "A universally quantified expression is true iff every element in the *domain*, when instantiated in place of the variable, makes the body expression true. If the domain is empty, the expression is said to be *trivially true*. The domain is determined by the variable's type in combination with any provided restrictor.\n",
    "\n",
    "For example, the following expression is true iff every element of type `e` is not equivalent to the `MetaTerm` element `_c1`."
   ]
  },
  {
   "cell_type": "code",
   "execution_count": null,
   "id": "8ae0f5e8-2cfc-4b5b-ac39-b96ecd1ec729",
   "metadata": {},
   "outputs": [],
   "source": [
    "%te Forall x_e : ~(x <=> _c1)"
   ]
  },
  {
   "cell_type": "markdown",
   "id": "799fefea-ee7a-4929-84f0-15fda6301be6",
   "metadata": {},
   "source": [
    "The following expression is similar but provides an explicit restrictor, and so therefore has a guaranteed finite domain."
   ]
  },
  {
   "cell_type": "code",
   "execution_count": null,
   "id": "6efa7a1c-f9f3-42cf-945e-13cf271572bd",
   "metadata": {},
   "outputs": [],
   "source": [
    "%te Forall x_e << {_c2, _c3} : ~(x <=> _c1)"
   ]
  },
  {
   "cell_type": "markdown",
   "id": "9e087495-4731-456c-9332-c44be7ae9a97",
   "metadata": {},
   "source": [
    "**Simplification and execution**. If a universally quantified expression contains no free terms and has a guaranteed finite domain (or involves vacuous binding), it can be fully simplified. The above example is a case in point; simplification will iterate over the domain and evaluate the body expression at each domain element, finding that the expression is true for both `_c2` and `_c3`."
   ]
  },
  {
   "cell_type": "code",
   "execution_count": null,
   "id": "f3c2d928-7af6-4327-87cb-2ef6b63eec3a",
   "metadata": {},
   "outputs": [],
   "source": [
    "%te simplify Forall x_e << {_c2, _c3} : ~(x <=> _c1)\n",
    "_llast.derivation.trace()"
   ]
  },
  {
   "cell_type": "markdown",
   "id": "077bf6fc-3bf4-446c-baae-e597608434bb",
   "metadata": {},
   "source": [
    "The execution conditions are similar, except that where simplification will not do anything, execution will error. One important note is that the type domain is fixed at compile time, so compiled quantifiers are not dynamically sensitive to type domain restrictions."
   ]
  },
  {
   "cell_type": "code",
   "execution_count": null,
   "id": "6c6e6d64-cbfc-438d-9522-1b24b1ede720",
   "metadata": {},
   "outputs": [],
   "source": [
    "meta.meta.exec(te(\"Forall x_e << {_c2, _c3} : ~(x <=> _c1)\"))"
   ]
  },
  {
   "cell_type": "code",
   "execution_count": null,
   "id": "62147c6c-db34-4057-97a6-1322f3a947bf",
   "metadata": {},
   "outputs": [],
   "source": [
    "with lamb.errors():\n",
    "    meta.meta.exec(te(\"Forall x_e : ~(x <=> _c1)\"))"
   ]
  },
  {
   "cell_type": "markdown",
   "id": "dac54c61-a0ea-409c-b5d4-d73ce476cbe4",
   "metadata": {},
   "source": [
    "Like either quantifiers, universal quantification with a finite domain supports **elimination**. For the universal case, that means conversion to a sequence of conjunctions. Where full evaluation requires a concrete domain (consisting only of meta-elements), elimination allows for arbitrary domain elements. Because elimination tends to generate longer expressions than it starts with, it isn't triggered by default, but can be triggered by the simplify option `eliminate_quantifiers=True`. The function `eliminate()` on a `Forall` object also directly triggers one elimination step (though not any related further simplification, or recursive elimination). Here's a more complicated example illustrating elimination; in this case one of the domain elements is bound by a lambda, and the other is a constant term."
   ]
  },
  {
   "cell_type": "code",
   "execution_count": null,
   "id": "db62b534-343b-4757-8cfb-b3fbb43c1505",
   "metadata": {},
   "outputs": [],
   "source": [
    "te(\"L z_e : Forall x_e << {A_e, z_e} : ~(x <=> _c1)\").simplify_all(eliminate_quantifiers=True)"
   ]
  },
  {
   "cell_type": "markdown",
   "id": "830b0f7d-01ea-4eaf-9635-f000619b4d8b",
   "metadata": {},
   "source": [
    "Exception: when the domain can be inferred to be exactly size 1, elimination is automatically triggered. Domain size 0 cases are also automatically simplified in a way that is equivalent to elimination."
   ]
  },
  {
   "cell_type": "code",
   "execution_count": null,
   "id": "5e2422aa-e30e-4723-9bd4-cd9b0dc86661",
   "metadata": {},
   "outputs": [],
   "source": [
    "%te simplify L z_e : Forall x_e << {z_e} : ~(x <=> _c1)"
   ]
  },
  {
   "cell_type": "code",
   "execution_count": null,
   "id": "f664a813-29a3-45a1-8ad8-005f853acde4",
   "metadata": {},
   "outputs": [],
   "source": [
    "%te simplify Forall x_e << {} : ~(x <=> _c1)"
   ]
  },
  {
   "cell_type": "markdown",
   "id": "26f4b266-d0b3-410a-b47c-ae74a0dccbf6",
   "metadata": {},
   "source": [
    "While the above examples involve an explicit domain restrictor, the behavior with finite type domains is identical. For example, here is a case of elimination with the type domain for `t`:"
   ]
  },
  {
   "cell_type": "code",
   "execution_count": null,
   "id": "6cf2f4df-840d-4743-bbf2-fabcf6f63e54",
   "metadata": {},
   "outputs": [],
   "source": [
    "te(\"Forall p_t : Q_<t,t>(p)\").eliminate()"
   ]
  },
  {
   "cell_type": "markdown",
   "id": "cc67b893-6526-4f00-a55e-4dab64e0caa9",
   "metadata": {},
   "source": [
    "### Existential quantification / `Exists`\n",
    "\n",
    "* Metalanguage operator name: `Exists`\n",
    "* Class: **`lamb.meta.quantifiers.Exists`**\n",
    "\n",
    "An existentially quantified expression is true iff there is at least one element in the *domain* that, when instantiated in place of the variable, makes the body expression true. If the domain is empty, the expression is said to be *trivially false*. The domain is determined by the variable's type in combination with any provided restrictor.\n",
    "\n",
    "For example, the following expression is true iff there is an element of type `e` is not equivalent to the `MetaTerm` element `_c1`. Following that is an example with an explicit domain restrictor."
   ]
  },
  {
   "cell_type": "code",
   "execution_count": null,
   "id": "2c562f95-4f69-4b35-b413-2a0def30fbb9",
   "metadata": {},
   "outputs": [],
   "source": [
    "%te Exists x_e : ~(x <=> _c1)"
   ]
  },
  {
   "cell_type": "code",
   "execution_count": null,
   "id": "9a5e7cd7-c312-4068-91a4-f49ce6413691",
   "metadata": {},
   "outputs": [],
   "source": [
    "%te Exists x_e << {_c1, _c2, _c3} : ~(x <=> _c1)"
   ]
  },
  {
   "cell_type": "markdown",
   "id": "f4117eca-2312-47a1-800a-5e2d3e49deef",
   "metadata": {},
   "source": [
    "**Simplification and execution**. The situation with `Exists` is very similar to `Forall`: if the expression involves a finite, concrete domain and no free terms it can be fully simplified and executed. The verifier that was used to establish truth can generally be seen in the full derivation."
   ]
  },
  {
   "cell_type": "code",
   "execution_count": null,
   "id": "61e05adb-b346-4c73-a196-96d4703d80e6",
   "metadata": {},
   "outputs": [],
   "source": [
    "%te simplify Exists x_e << {_c1, _c2, _c3} : ~(x <=> _c1)\n",
    "_llast.derivation.trace()"
   ]
  },
  {
   "cell_type": "code",
   "execution_count": null,
   "id": "9928dbf8-b0cf-4620-9399-81a40c62b53b",
   "metadata": {},
   "outputs": [],
   "source": [
    "meta.meta.exec(te(\"Exists x_e << {_c1, _c2, _c3} : ~(x <=> _c1)\"))"
   ]
  },
  {
   "cell_type": "markdown",
   "id": "74b15bfc-ffb1-4b0d-ba0a-e58b3e1d8d7b",
   "metadata": {},
   "source": [
    "This operator also supports **elimination**, in this case, conversion to a sequence of disjunctions. Here's a slightly more involved example than the universal one; in this case elimination leads to subsequent simplification away of one of the disjuncts."
   ]
  },
  {
   "cell_type": "code",
   "execution_count": null,
   "id": "6ea7001c-12fe-40fc-a8e3-f1c1f3f97ccc",
   "metadata": {},
   "outputs": [],
   "source": [
    "te(\"L z_e : Exists x_e << {A_e, z_e, _c1} : ~(_c1 <=> x)\").simplify_all(eliminate_quantifiers=True).derivation.trace()"
   ]
  },
  {
   "cell_type": "markdown",
   "id": "fede2fa5-b888-4aae-8f09-be87765794ea",
   "metadata": {},
   "source": [
    "### ExistsExact\n",
    "\n",
    "* Metalanguage operator name: `ExistsExact`\n",
    "* Class: **`lamb.meta.quantifiers.ExistsExact`**\n",
    "\n",
    "The `ExistsExact` operator is used for truth on unique existence. For example, the following expression is true iff there is exactly one entity that is identical to `_c1`."
   ]
  },
  {
   "cell_type": "code",
   "execution_count": null,
   "id": "de1cfc4d-432f-4a6c-ba2b-12912bb21e9a",
   "metadata": {},
   "outputs": [],
   "source": [
    "%te ExistsExact x_e : (x <=> _c1)"
   ]
  },
  {
   "cell_type": "markdown",
   "id": "c4d3c583-0085-4be3-be6c-3c4de5bf54e9",
   "metadata": {},
   "source": [
    "**Simplification and execution**. As usual, this quantifier can't be avaluated against a potentially non-finite domain, but with explicit domain restriction, it can be simplified:"
   ]
  },
  {
   "cell_type": "code",
   "execution_count": null,
   "id": "6b62dde3-5620-4a04-81ac-60c00f02559f",
   "metadata": {},
   "outputs": [],
   "source": [
    "%te simplify ExistsExact x_e << {_c1, _c2, _c3, _c4} : (x <=> _c1)\n",
    "_llast.derivation.trace()"
   ]
  },
  {
   "cell_type": "markdown",
   "id": "b9488c04-edd4-452d-b82a-f94f1463f08b",
   "metadata": {},
   "source": [
    "This operator implements `eliminate`, but in a slightly different way than the previous cases: since it can be defined in terms of `Exists` and `Forall`, elimination converts to those operators. Further successive elimination may or may not simplify further. This elimination rule will apply unconditionally if triggered."
   ]
  },
  {
   "cell_type": "code",
   "execution_count": null,
   "id": "8d68e058-9673-4301-8bbc-3dbaa4ddcdd0",
   "metadata": {},
   "outputs": [],
   "source": [
    "te(\"ExistsExact x_e : (x <=> _c1)\").simplify_all(eliminate_quantifiers=True)"
   ]
  },
  {
   "cell_type": "code",
   "execution_count": null,
   "id": "706a36d4-cb93-4b58-8b45-6126ecf0f3d7",
   "metadata": {},
   "outputs": [],
   "source": [
    "te(\"ExistsExact x_e << {_c1, _c2} : (x <=> _c1)\").simplify_all(eliminate_quantifiers=True).derivation"
   ]
  },
  {
   "cell_type": "markdown",
   "id": "9b6150d4-1203-4456-95c1-283de8de9dc9",
   "metadata": {},
   "source": [
    "### Iota\n",
    "\n",
    "Iota consists of two operators with slightly different semantics:\n",
    "\n",
    "* Metalanguage operator names: `Iota`, `IotaPartial`\n",
    "* Classes: **`lamb.meta.quantifiers.Iota`**, **`lamb.meta.quantifiers.IotaPartial`**\n",
    "\n",
    "In general, `Iota`, given some condition, evaluates to the unique element satisfying that condition. It is a referential counterpart to `ExistsExact`. For example, the following can be read as the unique `x` in the set provided that is identical to `_c1`."
   ]
  },
  {
   "cell_type": "code",
   "execution_count": null,
   "id": "13e986f8-a40d-4dac-aab3-1926af73b9c0",
   "metadata": {},
   "outputs": [],
   "source": [
    "%te Iota x_e << {_c1, _c2, _c3} : x <=> _c1"
   ]
  },
  {
   "cell_type": "markdown",
   "id": "1f53ca31-76a1-46da-9eb2-0cb9f9bdbd71",
   "metadata": {},
   "source": [
    "**Simplification and execution**. There are two obvious differences from quantifiers: the whole expression is not necessarily type `t`, and the expression won't necessarily be evaluable at all. The two classes implement different strategies for the latter issue. for both classes, an `eliminate()` call has an identical effect to a `simplify()` call.\n",
    "\n",
    "First, regular `Iota`. The case where regular `Iota` has a unique referent is relatively straightforward:"
   ]
  },
  {
   "cell_type": "code",
   "execution_count": null,
   "id": "65267887-4289-474d-9ec3-da50c8d8a782",
   "metadata": {},
   "outputs": [],
   "source": [
    "%te simplify Iota x_e << {_c1, _c2, _c3} : x <=> _c1\n",
    "_llast.derivation.trace()"
   ]
  },
  {
   "cell_type": "markdown",
   "id": "09b72c53-edd0-4aea-8baa-eee3f4abf4a8",
   "metadata": {},
   "source": [
    "When reference fails for `Iota` during simplification, something unusual for metalanguage elements will happen. The simplification code will raise a `lamb.meta.meta.DomainError` exception:"
   ]
  },
  {
   "cell_type": "code",
   "execution_count": null,
   "id": "451a0f83-77e8-4668-b89c-1b2352034a7f",
   "metadata": {},
   "outputs": [],
   "source": [
    "%te simplify Iota x_e << {_c2, _c3} : x <=> _c1"
   ]
  },
  {
   "cell_type": "code",
   "execution_count": null,
   "id": "fac6d962-6ae9-4803-acb2-58a132ca036c",
   "metadata": {},
   "outputs": [],
   "source": [
    "%te simplify Iota x_n << {1, 2, 3} : x < 3"
   ]
  },
  {
   "cell_type": "markdown",
   "id": "714fef8d-e9fd-449d-b4fa-636ca5f4009a",
   "metadata": {},
   "source": [
    "In many cases it may be desireable to produce a valid metalanguage expression even in the face of uniqueness failure. The standard technique in the metalanguage for doing this is to guard it with a `Partial` condition that checks uniqueness. This is exactly what `IotaPartial` does: it is basically a shorthand for a regular iota conditioned on there being a unique element that meets the body condition.\n",
    "\n",
    "For the success case, the behavior of `IotaPartial` when simplifying is more complicated, but comes to the same result:"
   ]
  },
  {
   "cell_type": "code",
   "execution_count": null,
   "id": "2791a498-9b87-460e-9d36-852a86f8423f",
   "metadata": {},
   "outputs": [],
   "source": [
    "%te simplify IotaPartial x_e << {_c1, _c2, _c3} : x <=> _c1\n",
    "_llast.derivation.trace()"
   ]
  },
  {
   "cell_type": "markdown",
   "id": "238ab779-bf10-4f30-a181-6c25ff1577d3",
   "metadata": {},
   "source": [
    "For the case where uniqueness or existence fails, the result is a `Partial` object with a failed condition. (See the documentation on partiality for more details.)"
   ]
  },
  {
   "cell_type": "code",
   "execution_count": null,
   "id": "e565aaaf-c09d-403c-9d94-c718fcb31f32",
   "metadata": {},
   "outputs": [],
   "source": [
    "%te simplify IotaPartial x_n << {1, 2, 3} : x < 3"
   ]
  },
  {
   "cell_type": "markdown",
   "id": "a5067ea1-8b8f-4b21-b5ef-2ffc83f3e38e",
   "metadata": {},
   "source": [
    "When examining the derivation, you can see that the condition is evaluated first as `False`, which prevents the body from being evaluated and raising an error."
   ]
  },
  {
   "cell_type": "code",
   "execution_count": null,
   "id": "aa33aafc-7675-4979-8561-3dc14cc73ac8",
   "metadata": {},
   "outputs": [],
   "source": [
    "%te simplify IotaPartial x_n << {1, 2, 3} : x < 3\n",
    "_llast.derivation.trace()"
   ]
  },
  {
   "cell_type": "markdown",
   "id": "098a4665-95d0-45e7-a272-ae95986f3bbf",
   "metadata": {},
   "source": [
    "Execution for `Iota` behaves much like simplification, with the usual caveats about execution (no free terms, finiteness, etc). It will return a non-wrapped domain element directly:"
   ]
  },
  {
   "cell_type": "code",
   "execution_count": null,
   "id": "64670bbc-8125-4054-b1f1-c40c831d3410",
   "metadata": {},
   "outputs": [],
   "source": [
    "meta.meta.exec(te(\"Iota x_e << {_c1, _c2, _c3} : x <=> _c1\"))"
   ]
  },
  {
   "cell_type": "markdown",
   "id": "a64f11bc-30de-4b4a-bfc5-d4165fa0772a",
   "metadata": {},
   "source": [
    "Like simplification, a `DomainError` will be raised on uniqueness failures. This is checked dynamically, not at compile time, with the caveat that (like other quantifiers) any type domain restrictions are fixed at compile time."
   ]
  },
  {
   "cell_type": "code",
   "execution_count": null,
   "id": "25306b40-afc7-4d9d-8712-58b80e656c76",
   "metadata": {},
   "outputs": [],
   "source": [
    "with lamb.errors():\n",
    "    meta.meta.exec(te(\"Iota x_n << {1, 2, 3} : x < 3\"))"
   ]
  },
  {
   "cell_type": "markdown",
   "id": "51c0a16f-e070-49bf-8323-e4ac636576b7",
   "metadata": {},
   "source": [
    "Warning: an executed `IotaPartial` will have essentially the same behavior! This is because a failed condition on a compiled `Partial` object also raises a `DomainError`. Specifically, a compiled `IotaPartial` is implemented via the compiled version of its eliminated version, which is a compiled `Partial`; executing this will dynamically check the truth of a condition, which (in contrast to `Partial` simplification) will raise a `DomainError` on falsity."
   ]
  },
  {
   "cell_type": "code",
   "execution_count": null,
   "id": "cb8ebee8-7d98-46c5-bf78-0bfea3f291d3",
   "metadata": {},
   "outputs": [],
   "source": [
    "te(\"IotaPartial x_e << {_c1, _c2, _c3} : x <=> _c1\").eliminate()"
   ]
  },
  {
   "cell_type": "code",
   "execution_count": null,
   "id": "2c4afaad-8f59-48c4-b87f-157fecb08af3",
   "metadata": {},
   "outputs": [],
   "source": [
    "with lamb.errors():\n",
    "    # this is identical to executing the above expression.\n",
    "    meta.meta.exec(te(\"IotaPartial x_e << {_c2, _c3} : x <=> _c1\"))"
   ]
  },
  {
   "cell_type": "markdown",
   "id": "c30fceeb-0672-4669-85c9-e38d33852d88",
   "metadata": {},
   "source": [
    "## Set expressions\n",
    "\n",
    "* Metalanguage operator name: `Set`\n",
    "* Class: **`lamb.sets.ConditionSet`**\n",
    "\n",
    "Set expressions allow describing a set by condition on a variable. This class does not support domain restriction."
   ]
  },
  {
   "cell_type": "code",
   "execution_count": null,
   "id": "26473b23-0ddb-4c1d-99d3-ced898f778f2",
   "metadata": {},
   "outputs": [],
   "source": [
    "%te Set x_n : x < 3"
   ]
  },
  {
   "cell_type": "markdown",
   "id": "4e88e9b8-e03d-451f-95a6-ab2f1c23d0c5",
   "metadata": {},
   "source": [
    "`ConditionSet` is primarily documented in the section on sets; see that for more details."
   ]
  },
  {
   "cell_type": "markdown",
   "id": "5cda2b75-65d7-4ded-9fd7-0bad64b826b0",
   "metadata": {},
   "source": [
    "## General API notes on binding operators\n",
    "\n",
    "This section provides some information on implementation detail that may be relevant to anyone dealing with binding expressions programmatically.\n",
    "\n",
    "**Binding operator objects and subclassing**.\n",
    "All binding expressions have an instance of the variable as their first element, and their body as their second element."
   ]
  },
  {
   "cell_type": "code",
   "execution_count": null,
   "id": "5a5a0825-85a1-46dc-b0a3-4439bea1a222",
   "metadata": {},
   "outputs": [],
   "source": [
    "list(te(\"Forall x_e : P_<e,t>(x)\"))"
   ]
  },
  {
   "cell_type": "markdown",
   "id": "fa1a4f85-f555-4ea2-8072-d74fd8faae90",
   "metadata": {},
   "source": [
    "These can also be accessed via the properties `.var_instance` and `.body` respectively; the variable's name and type can be directly accessed via `.varname`/`.vartype`."
   ]
  },
  {
   "cell_type": "markdown",
   "id": "90963e1c-ece9-4c54-9a58-277fb7ed3e04",
   "metadata": {},
   "source": [
    "Binding operators all derive from an abstract base class **`lamb.meta.core.BindingOp`**. The abstract base subclass of this **`lamb.meta.core.RestrictedBindingOp`** adds in support for restrictors. These two classes provide a substantial amount of general code for implementing binding operators. Implementing a subclass with just syntax involves providing a constructor and some class-level attributes; implementing a subclass with evaluation additionally involves providing `simplify()`, `_compile()`, and optionally `eliminate()`.\n",
    "\n",
    "All of the built-in binding expressions need exactly one variable. However, the abstract classes `BindingOp` and `RestrictedBindingOp` both support n-ary variables via the constructor. See the Compositional DRT fragment for an example of a `BindingOp` subclass that makes use of this, and more information about how to add new binding operators generally.\n",
    "\n",
    "This document won't exhaustively go through the api, but here are a few umore seful functions:\n",
    "\n",
    "* `.bound_variables()`: return the variables that are locally bound in this expression as a set.\n",
    "* `.vacuous()`: return `True` iff the bound variable(s) do not appear in the body.\n",
    "* `.finite_safe()`: is it safe to assume that the domain is finite? returns `None` if this can't be determined.\n",
    "* `.domain_iter()`: return an iterator over domain elements, if this can be determined (for restricted operators, this depends on the form of the restrictor)\n",
    "* `.domain_cardinality()`: return the cardinality of the domain, if this can be determined. May be `math.inf`.\n",
    "* `.alpha_convert()`: this was described for lambda expressions above, but works generally on all binding expressions.\n",
    "* `.join()`: restrictor-less expressions of type `t` and body type `t` support a non-trivial join. Joining a sequence of variables followed by a condition, gets a recursive sequence of the relevant operator terminating in the provided condition as the deepest body. Binding expressions of other types, as well as restricted expressions, only support trivial joins."
   ]
  },
  {
   "cell_type": "code",
   "execution_count": null,
   "id": "387632a0-80c3-4287-a4b5-ea73702df722",
   "metadata": {},
   "outputs": [],
   "source": [
    "meta.quantifiers.Forall.join([te(\"x_e\"), te(\"y_e\"), te(\"P_<(e,e),t>(x,y)\")])"
   ]
  },
  {
   "cell_type": "markdown",
   "id": "f51d3211-138f-4f74-b2a3-96b2c5da505d",
   "metadata": {},
   "source": [
    "**Restrictor-specific notes.**\n",
    "\n",
    "* For operators that support restrictors, their AST argument length is variable. The restrictor is implemented as the *third* argument when present (mismatching the parser order). The property `restrictor` can be used to safely access this for subclasses of `RestrictedBindingOp`; it will return `None` if there is no restrictor."
   ]
  },
  {
   "cell_type": "code",
   "execution_count": null,
   "id": "c4fe4b35-c40e-4b0c-8ea1-65d7152c96eb",
   "metadata": {},
   "outputs": [],
   "source": [
    "len(te(\"Forall x_e : P_<e,t>(x)\"))"
   ]
  },
  {
   "cell_type": "code",
   "execution_count": null,
   "id": "5a0ccf8e-f09b-4d64-87df-98577e252996",
   "metadata": {},
   "outputs": [],
   "source": [
    "len(te(\"Forall x_e << {_c1} : P_<e,t>(x)\"))"
   ]
  },
  {
   "cell_type": "code",
   "execution_count": null,
   "id": "66d31d5b-708e-4e86-8f26-8ecb1bce909d",
   "metadata": {},
   "outputs": [],
   "source": [
    "te(\"Forall x_e << {_c1} : P_<e,t>(x)\").restrictor"
   ]
  },
  {
   "cell_type": "markdown",
   "id": "76482e95-5438-4077-884e-ef49db8652c4",
   "metadata": {},
   "source": [
    "* Both the constructor and `copy_local` for relevant classes support this optionality (though note that `copy_local` does not accept the restrictor as a named parameter). This means that you can use `copy_local` to add a restrictor for a class that supports it:"
   ]
  },
  {
   "cell_type": "code",
   "execution_count": null,
   "id": "7dabcefe-b867-46c2-ac41-87050402f447",
   "metadata": {},
   "outputs": [],
   "source": [
    "x = te(\"Forall x_e : P_<e,t>(x)\")\n",
    "display(x)\n",
    "x.copy_local(*x, te(\"{_c1}\"))"
   ]
  }
 ],
 "metadata": {
  "kernelspec": {
   "display_name": "Lambda Notebook (Python 3)",
   "language": "python",
   "name": "lambda-notebook"
  },
  "language_info": {
   "codemirror_mode": {
    "name": "ipython",
    "version": 3
   },
   "file_extension": ".py",
   "mimetype": "text/x-python",
   "name": "python",
   "nbconvert_exporter": "python",
   "pygments_lexer": "ipython3",
   "version": "3.12.0"
  }
 },
 "nbformat": 4,
 "nbformat_minor": 5
}
