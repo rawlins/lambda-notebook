{
 "cells": [
  {
   "cell_type": "markdown",
   "metadata": {},
   "source": [
    "# Ad-hoc polymorphism via disjunctive types\n",
    "\n",
    "The lambda notebook supports ad-hoc polymorphism via what are called disjunctive types.  A disjunctive type is effectively a set of types that unifies with another type if either (i) that type is disjunctive and there is overlap, or (ii) that type is a member of the disjunctive type.  If the result of unification would be a singleton, the resulting type is the unique member of that singleton.  Disjunctive types are written with square brackets and `|` as the separator.  They can be written recursively, but will be interpreted with that recursion flattened out.\n",
    "\n",
    "**examples**\n",
    "1. `[e|t]` and `[e|t]` unify to `[e|t]` (reflexivity)\n",
    "2. Disjunctive types are normalized alphabetically, so for example `[t|e]` is normalized as `[e|t]`.  This ensures symmetry.\n",
    "3. `[e|t|<e,t>]` and `[e|t|n]` unify to `[e|t]`\n",
    "4. `[e|t]` and `e` unify to `e`.\n",
    "5. `[e|t]` and `[t|n]` unify to `t`.\n",
    "6. `[e]` is invalid.  So is `[e|e]`, etc.\n",
    "7. `[e|e|t]` is interpreted as just `[e|t]`.\n",
    "8. `[e|[n|t]]` is interpreted as just `[e|n|t]`\n",
    "\n",
    "One further constraint is that type variables (or types using them) cannot be disjoined."
   ]
  },
  {
   "cell_type": "code",
   "execution_count": null,
   "metadata": {},
   "outputs": [],
   "source": [
    "%tp [t|e]"
   ]
  },
  {
   "cell_type": "code",
   "execution_count": null,
   "metadata": {},
   "outputs": [],
   "source": [
    "unify(tp(\"[e|t]\"), tp(\"[e|t]\"))"
   ]
  },
  {
   "cell_type": "code",
   "execution_count": null,
   "metadata": {},
   "outputs": [],
   "source": [
    "unify(tp(\"[e|t|<e,t>]\"), tp(\"[e|t|n]\"))"
   ]
  },
  {
   "cell_type": "code",
   "execution_count": null,
   "metadata": {},
   "outputs": [],
   "source": [
    "unify(tp(\"[e|t]\"), tp(\"e\"))"
   ]
  },
  {
   "cell_type": "code",
   "execution_count": null,
   "metadata": {},
   "outputs": [],
   "source": [
    "unify(tp(\"[e|t]\"), tp(\"[t|n]\"))"
   ]
  },
  {
   "cell_type": "code",
   "execution_count": null,
   "metadata": {},
   "outputs": [],
   "source": [
    "%tp [e]"
   ]
  },
  {
   "cell_type": "code",
   "execution_count": null,
   "metadata": {},
   "outputs": [],
   "source": [
    "%tp [e|e]"
   ]
  },
  {
   "cell_type": "code",
   "execution_count": null,
   "metadata": {},
   "outputs": [],
   "source": [
    "%tp [e|e|t]"
   ]
  },
  {
   "cell_type": "code",
   "execution_count": null,
   "metadata": {},
   "outputs": [],
   "source": [
    "%tp [e|[n|t]]"
   ]
  },
  {
   "cell_type": "code",
   "execution_count": null,
   "metadata": {},
   "outputs": [],
   "source": [
    "display(unify(tp(\"[e|t]\"), tp(\"n\"))) # use `display` to show the `None` return"
   ]
  },
  {
   "cell_type": "code",
   "execution_count": null,
   "metadata": {},
   "outputs": [],
   "source": [
    "unify(tp(\"[<e,t>|<e,n>]\"), tp(\"X\"))"
   ]
  },
  {
   "cell_type": "code",
   "execution_count": null,
   "metadata": {},
   "outputs": [],
   "source": [
    "unify(tp(\"[<e,t>|<e,n>|<n,t>]\"), tp(\"<X,t>\"))"
   ]
  },
  {
   "cell_type": "code",
   "execution_count": null,
   "metadata": {},
   "outputs": [],
   "source": [
    "unify(tp(\"[<e,t>|<e,n>|<n,<e,t>>]\"), tp(\"<X,<Y,t>>\"))"
   ]
  },
  {
   "cell_type": "markdown",
   "metadata": {},
   "source": [
    "You can think of disjunctive types as tools for characterizing finite sets of non-polymorphic types.  In some cases there may be multiple ways of describing the same set, and unification will produce a coherent result:"
   ]
  },
  {
   "cell_type": "code",
   "execution_count": null,
   "metadata": {},
   "outputs": [],
   "source": [
    "unify(tp(\"<e,[t|n]>\"), tp(\"[<e,t>|<e,n>]\"))"
   ]
  },
  {
   "cell_type": "markdown",
   "metadata": {},
   "source": [
    "To better understand functional types, it can be helpful to see how function application works with them.\n",
    "\n",
    "Since disjunctions can be arbitrary, it can be indeterminate whether a disjunctive type \"is\" functional. It will act as functional if there is at least one resolution that is functional. In some cases there may be a functional type that can be produced by \"factoring\" disjunction through the functional type constructor, but this is not guaranteed (e.g. the disjunction of two incompatible functional types is not reducible in this way).\n",
    "\n",
    "To get a sense for how functional types work with disjunction, it can be helpful to look directly at unification of a functional type with an argument.\n",
    "\n",
    "The first example shows two types that *are* equivalent: any fun-arg unification that results in something results in the same for either type:"
   ]
  },
  {
   "cell_type": "code",
   "execution_count": null,
   "metadata": {},
   "outputs": [],
   "source": [
    "def unify_fa(f, a):\n",
    "    return meta.get_type_system().unify_fa(f,a)[0]\n",
    "\n",
    "f = %tp [<e,t>|<n,t>]\n",
    "display(f, unify_fa(f, tp(\"e\")))"
   ]
  },
  {
   "cell_type": "code",
   "execution_count": null,
   "metadata": {},
   "outputs": [],
   "source": [
    "f = %tp <[e|n],t>\n",
    "display(f, unify_fa(f, tp(\"e\")))"
   ]
  },
  {
   "cell_type": "markdown",
   "metadata": {},
   "source": [
    "However, the following are not equivalent, even though they accept identical argument types:"
   ]
  },
  {
   "cell_type": "code",
   "execution_count": null,
   "metadata": {},
   "outputs": [],
   "source": [
    "f = %tp [<e,t>|<e,n>]\n",
    "display(f, unify_fa(f, tp(\"e\")))"
   ]
  },
  {
   "cell_type": "code",
   "execution_count": null,
   "metadata": {},
   "outputs": [],
   "source": [
    "f = %tp <[e|n],[n|t]>\n",
    "display(f, unify_fa(f, tp(\"e\")))"
   ]
  },
  {
   "cell_type": "markdown",
   "metadata": {},
   "source": [
    "The following functions cannot be reduced further in the above sense, i.e. there is no conversion to a functional type that produces an equivalent type. Each of them is also equivalent in its argument place."
   ]
  },
  {
   "cell_type": "code",
   "execution_count": null,
   "metadata": {},
   "outputs": [],
   "source": [
    "f = %tp [<e,t>|<n,n>]\n",
    "display(f, unify_fa(f, tp(\"e\")))"
   ]
  },
  {
   "cell_type": "code",
   "execution_count": null,
   "metadata": {},
   "outputs": [],
   "source": [
    "f = %tp [<e,t>|n]\n",
    "display(f, unify_fa(f, tp(\"e\")))"
   ]
  },
  {
   "cell_type": "markdown",
   "metadata": {},
   "source": [
    "As expected, a disjunction that has no available functional types fails fun-arg unification:"
   ]
  },
  {
   "cell_type": "code",
   "execution_count": null,
   "metadata": {},
   "outputs": [],
   "source": [
    "f = %tp [e|n]\n",
    "display(f, unify_fa(f, tp(\"e\")))"
   ]
  },
  {
   "cell_type": "markdown",
   "metadata": {},
   "source": [
    "Of course, brackets have to match, etc:"
   ]
  },
  {
   "cell_type": "code",
   "execution_count": null,
   "metadata": {},
   "outputs": [],
   "source": [
    "%tp [e|t"
   ]
  },
  {
   "cell_type": "markdown",
   "metadata": {},
   "source": [
    "## Using disjunctive types in expressions\n",
    "\n",
    "Disjunctive types can be straightforwardly used as term types, and all appropriate type inference should happen as expected.  This is the most typical use in linguistics, where someone might want to express that a (not-further-defined) constant is polymorphic in some way."
   ]
  },
  {
   "cell_type": "code",
   "execution_count": null,
   "metadata": {},
   "outputs": [],
   "source": [
    "%%lamb \n",
    "||equals|| = L x_[e|n] : Equivalent(x)\n",
    "x = x_e"
   ]
  },
  {
   "cell_type": "code",
   "execution_count": null,
   "metadata": {},
   "outputs": [],
   "source": [
    "equals.content(x) # forces narrowing of the argument type"
   ]
  },
  {
   "cell_type": "code",
   "execution_count": null,
   "metadata": {},
   "outputs": [],
   "source": [
    "%te P_<[e|n],t>(x_[n|t]) # forces narrowing of both types"
   ]
  },
  {
   "cell_type": "code",
   "execution_count": null,
   "metadata": {},
   "outputs": [],
   "source": [
    "%te (L x_[e|n] : P_<[e|n],t>(x))(C_n) # forces narrowing including of both x and, indirectly, the predicate's type"
   ]
  },
  {
   "cell_type": "markdown",
   "metadata": {},
   "source": [
    "While you can't use variable types in disjunctive types, they will unify with variable types correctly:"
   ]
  },
  {
   "cell_type": "code",
   "execution_count": null,
   "metadata": {},
   "outputs": [],
   "source": [
    "%te (L x_[e|n] : P_<[e|n|t],t>(x))(C_X)"
   ]
  },
  {
   "cell_type": "markdown",
   "metadata": {},
   "source": [
    "The other way to use disjunctive types is via a `Disjunctive` expression.  This gives, basically, a disjunctive formula, where type inference will choose between expressions depending on type.  You can think of this (in a roundabout way) as something like a `dict`/hashtable mapping types to expressions.  This may help understand some odd corner cases -- `Disjunctive` expressions have to ensure that every non-disjunctive type is mapped to a unique expression.  A disjunctive expression displays as the function Disjunctive, with the type annotated as a superscript."
   ]
  },
  {
   "cell_type": "code",
   "execution_count": null,
   "metadata": {},
   "outputs": [],
   "source": [
    "x = %te Disjunctive(A_e, B_n, C_t)\n",
    "display(x, x.type)"
   ]
  },
  {
   "cell_type": "markdown",
   "metadata": {},
   "source": [
    "Adjusting the type, either explicitly or implicitly, can narrow down the formula, resulting in either another Disjunctive type, or just some TypedExpr.  (Or `None`, if the adjustment fails.)"
   ]
  },
  {
   "cell_type": "code",
   "execution_count": null,
   "metadata": {},
   "outputs": [],
   "source": [
    "x.try_adjust_type(tp(\"e\"))"
   ]
  },
  {
   "cell_type": "code",
   "execution_count": null,
   "metadata": {},
   "outputs": [],
   "source": [
    "x.try_adjust_type(tp(\"[e|t]\"))"
   ]
  },
  {
   "cell_type": "code",
   "execution_count": null,
   "metadata": {},
   "outputs": [],
   "source": [
    "x.try_adjust_type(tp(\"[e|t]\")).try_adjust_type(tp(\"n\")) # leads to None"
   ]
  },
  {
   "cell_type": "code",
   "execution_count": null,
   "metadata": {},
   "outputs": [],
   "source": []
  },
  {
   "cell_type": "code",
   "execution_count": null,
   "metadata": {},
   "outputs": [],
   "source": [
    "te(\"Disjunctive(x_e, y_[<e,t>|n], z_t)\").try_adjust_type(tp(\"[e|t]\"))"
   ]
  },
  {
   "cell_type": "markdown",
   "metadata": {},
   "source": [
    "Disjuncts most have unique types, or more generally, must lead deterministically to unique formulas for every type refinement.  So the following cases lead to errors.  The second, more complicated case, would lack a unique refinement at type `e`."
   ]
  },
  {
   "cell_type": "code",
   "execution_count": null,
   "metadata": {},
   "outputs": [],
   "source": [
    "%te Disjunctive(x_e, y_e)"
   ]
  },
  {
   "cell_type": "code",
   "execution_count": null,
   "metadata": {},
   "outputs": [],
   "source": [
    "%te Disjunctive(x_e, y_e, z_[e|t])"
   ]
  },
  {
   "cell_type": "markdown",
   "metadata": {},
   "source": [
    "While disjunctive types cannot recurse, Disjunction expressions can recurse or involve multiple disjunctive types, as long as they obey the other type constraints.  (There still must be a unique refinement.)  Type adjustment will result in flattening of Disjunctions."
   ]
  },
  {
   "cell_type": "code",
   "execution_count": null,
   "metadata": {},
   "outputs": [],
   "source": [
    "r = %te Disjunctive(x_e, Disjunctive(y_n, z_t))\n",
    "r"
   ]
  },
  {
   "cell_type": "code",
   "execution_count": null,
   "metadata": {},
   "outputs": [],
   "source": [
    "r.try_adjust_type(tp(\"n\"))"
   ]
  },
  {
   "cell_type": "code",
   "execution_count": null,
   "metadata": {},
   "outputs": [],
   "source": [
    "r.try_adjust_type(tp(\"[e|n]\"))"
   ]
  },
  {
   "cell_type": "code",
   "execution_count": null,
   "metadata": {},
   "outputs": [],
   "source": [
    "r.try_adjust_type(tp(\"[n|t]\"))"
   ]
  },
  {
   "cell_type": "code",
   "execution_count": null,
   "metadata": {},
   "outputs": [],
   "source": [
    "%te Disjunctive(x_e, y_[<e,t>|n])"
   ]
  },
  {
   "cell_type": "markdown",
   "metadata": {},
   "source": [
    "Quite complex things are possible with disjunctive types, once you combine them with other tools.  Keep in mind, though, that type refinements on variables must be stable across all instances of that variable's use in the same scope."
   ]
  },
  {
   "cell_type": "code",
   "execution_count": null,
   "metadata": {},
   "outputs": [],
   "source": [
    "f = %te L x_e : Disjunctive(x_[e|n], False_t)\n",
    "f"
   ]
  },
  {
   "cell_type": "code",
   "execution_count": null,
   "metadata": {},
   "outputs": [],
   "source": [
    "f.type"
   ]
  },
  {
   "cell_type": "code",
   "execution_count": null,
   "metadata": {},
   "outputs": [],
   "source": [
    "%te reduce (L x_e : Disjunctive(x_[e|n], y_t))(A_e)"
   ]
  },
  {
   "cell_type": "code",
   "execution_count": null,
   "metadata": {},
   "outputs": [],
   "source": [
    "%te reduce (L x_[e|t] : P(x) & x)((L x_e : Disjunctive(x_[e|n], y_t))(A_e))"
   ]
  },
  {
   "cell_type": "code",
   "execution_count": null,
   "metadata": {},
   "outputs": [],
   "source": [
    "%te reduce (L x_e : Disjunctive(x_[e|n], False_t))(A_e) & P_<e,t>((L x_e : Disjunctive(x_[e|n], False_t))(A_e))"
   ]
  },
  {
   "cell_type": "markdown",
   "metadata": {},
   "source": [
    "Reduction of disjunctive functional types works."
   ]
  },
  {
   "cell_type": "code",
   "execution_count": null,
   "metadata": {},
   "outputs": [],
   "source": [
    "f = %te Disjunctive((L f_<e,t> : f), (L f_<e,t> : L g_<e,t> : Exists x_e : f(x) & g(x)))\n",
    "f"
   ]
  },
  {
   "cell_type": "code",
   "execution_count": null,
   "metadata": {},
   "outputs": [],
   "source": [
    "f(te(\"P_<e,t>\")).reduce_all()"
   ]
  },
  {
   "cell_type": "code",
   "execution_count": null,
   "metadata": {},
   "outputs": [],
   "source": [
    "%te reduce (Disjunctive((L x_e : x), P_<e,t>))(A_e)"
   ]
  },
  {
   "cell_type": "markdown",
   "metadata": {},
   "source": [
    "If the reduction for some disjunct wouldn't work (either the types don't work or the disjunct isn't a function) the reduction will simply drop that result.  If there are no disjuncts where the combination works, you get a type mismatch."
   ]
  },
  {
   "cell_type": "code",
   "execution_count": null,
   "metadata": {},
   "outputs": [],
   "source": [
    "%te reduce (Disjunctive((L x_e : x), P_<n,t>))(A_e)"
   ]
  },
  {
   "cell_type": "code",
   "execution_count": null,
   "metadata": {},
   "outputs": [],
   "source": [
    "%te reduce (Disjunctive((L x_e : x), P_n))(A_e)"
   ]
  },
  {
   "cell_type": "code",
   "execution_count": null,
   "metadata": {},
   "outputs": [],
   "source": [
    "%te reduce (Disjunctive((L x_n : x), P_n))(A_e)"
   ]
  },
  {
   "cell_type": "markdown",
   "metadata": {},
   "source": [
    "To expand on the pitfall mentioned above, polymorphic types can only be refined to more specific principal types, and for bound variables, these refinements must be consistent across all instances.  So for example, the following will generate a type error, because it proposes two inconsistent refinements for `x`."
   ]
  },
  {
   "cell_type": "code",
   "execution_count": null,
   "metadata": {},
   "outputs": [],
   "source": [
    "%te L x_[e|n] : Disjunctive(x_e, x_n)"
   ]
  },
  {
   "cell_type": "markdown",
   "metadata": {},
   "source": [
    "This also goes for cases where the refinements are triggered indirectly via type inference, such as the following.  The error messages for these cases may be somewhat oblique, depending on circumstances (though this one is clear)."
   ]
  },
  {
   "cell_type": "code",
   "execution_count": null,
   "metadata": {},
   "outputs": [],
   "source": [
    "%te L x_[e|n] : Disjunctive(P_<e,e>(x), Q_<n,t>(x))"
   ]
  },
  {
   "cell_type": "code",
   "execution_count": null,
   "metadata": {},
   "outputs": [],
   "source": []
  }
 ],
 "metadata": {
  "kernelspec": {
   "display_name": "Lambda Notebook (Python 3)",
   "language": "python",
   "name": "lambda-notebook"
  },
  "language_info": {
   "codemirror_mode": {
    "name": "ipython",
    "version": 3
   },
   "file_extension": ".py",
   "mimetype": "text/x-python",
   "name": "python",
   "nbconvert_exporter": "python",
   "pygments_lexer": "ipython3",
   "version": "3.9.18"
  }
 },
 "nbformat": 4,
 "nbformat_minor": 4
}
