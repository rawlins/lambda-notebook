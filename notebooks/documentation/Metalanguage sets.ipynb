{
 "cells": [
  {
   "cell_type": "markdown",
   "id": "2ce4dc7f-822f-4f5d-aa1e-642c70e90e00",
   "metadata": {},
   "source": [
    "# Metalanguage sets\n",
    "\n",
    "The lambda notebook metalanguage supports sets and set operations in various ways, largely implemented in the `lamb.meta.sets` module. The set theory here is standard naive set theory, but in the concept of a typed metalanguage. A set in this system should be thought of as containing values of metalanguage expressions, i.e. type-theoretic objects. As an initial example, here is a little set at type `{e}`:"
   ]
  },
  {
   "cell_type": "code",
   "execution_count": null,
   "id": "77ae37bc-5db2-467d-be02-d41f95489a71",
   "metadata": {},
   "outputs": [],
   "source": [
    "%te {x_e, y_e, f_<e,e>(x_e), _c1}"
   ]
  },
  {
   "cell_type": "markdown",
   "id": "ad1fb72a-c72d-421c-9823-ded8509ac3ae",
   "metadata": {},
   "source": [
    "## Overview\n",
    "\n",
    "There are two main ways of building a basic set in the metalanguage.\n",
    "\n",
    "* **`lamb.meta.sets.ListedSet`** allows constructing finite sets by listing elements, where elements can be arbitrary typed expressions. Invoke in the metalanguage using pythonic `{x,y,...}` notation as above.\n",
    "* **`lamb.meta.sets.ConditionSet`** allows describing a set by giving a boolean condition on a variable. Invoke using metalanguage binding operator notation, `Set x: ...`.\n",
    "\n",
    "It is also possible to construct `MetaTerm` sets of concrete elements, though not directly via the metalanguage parser. These are equivalent to `ListedSet`s of concrete elements, and will be produced internally in certain cases (for example, when simplifying expressions that involve quantifying over finite set domains). This document won't deal directly with them, but they should be interchangeable with `ListedSet`s of equivalent meta-elements.\n",
    "\n",
    "On top of these, various standard operations and relations are supported:\n",
    "\n",
    "* Set membership, written with the operator `<<`.\n",
    "* Operations: union, intersection, and difference; written with operators `|`, `&`, and `-` respectively.\n",
    "* Relations: equality, and (proper) sub/supersethood; written with operators `<=>`, `<=`, `<`, `>=`, `>`.\n",
    "\n",
    "**Set types** are written with a circumfix type constructor `{X}` for inner type `X`. So for example, `{<e,t>}` is the type of sets of functions from `e` to `t`. While type variables are allowed, genuinely polymorphic sets are not supported, i.e. `X` must resolve to a consistent simple type. One caveat on this: when an empty set is constructed without further guidance, its type is treated as unknown (see below in the `ListedSet` documentation).\n",
    "\n",
    "`ListedSet`s and `ConditionSet`s are not distinguished at all in the type system.\n",
    "\n",
    "**General simplification and execution notes**: simplifying set expressions is fairly non-trivial, and the metalanguage simplification code is generally only complete when dealing with \"concrete\" sets that consist of `MetaTerm`s; this is discussed in detail below. There are two simplify options that are directly relevance; these will try to eliminate set operations, relations, and descriptions to the extent possible. The option `eliminate_sets_all` tries to eliminate everything, and `eliminate_sets` (entailed by the former) tries to eliminate everything but membership statements with listed sets of cardinality >1. This may appear quite ad-hoc at first glance, and it is certainly heuristic, but this is because the general case of $\\in$ expressions convert to long, unreadable, and slow-to-execute disjunctions of equalities.\n",
    "\n",
    "Set code supports compilation/execution fully when dealing with finite domains. Currently, expressions that require quantification do not support compilation for non-finite domains at all (even for cases where this might be in principle possible)."
   ]
  },
  {
   "cell_type": "markdown",
   "id": "fbdf77ac-2a3e-4171-96b4-7833b0206e9d",
   "metadata": {},
   "source": [
    "## Set construction and membership testing\n",
    "\n",
    "This section goes through the main ways of constructing sets, as well as the relation that essentially determines the meta-semantics for sets, namely set membership.\n",
    "\n",
    "(As usual, it is also possible to have atomic terms with a set type, but these are straightforward.)"
   ]
  },
  {
   "cell_type": "markdown",
   "id": "82064909-a398-454f-9b5c-975c84fe3f39",
   "metadata": {},
   "source": [
    "### Construction by listing elements (`ListedSet`)\n",
    "\n",
    "To construct a set with some arbitrary elements, you can use essentially the python set notation to list them, which builds an instance of `meta.sets.ListedSet`:"
   ]
  },
  {
   "cell_type": "code",
   "execution_count": null,
   "id": "aa3eed16-0008-4f92-aa42-27ccff53ba92",
   "metadata": {},
   "outputs": [],
   "source": [
    "%te {True, False}"
   ]
  },
  {
   "cell_type": "markdown",
   "id": "82837318-ef2b-4b6b-b8a4-0eaaf87ace22",
   "metadata": {},
   "source": [
    "Sets of sets (etc) are supported by the metalanguage parser:"
   ]
  },
  {
   "cell_type": "code",
   "execution_count": null,
   "id": "fa86b5d1-4e1f-4fbd-adef-10ea2be58ea0",
   "metadata": {},
   "outputs": [],
   "source": [
    "%te {{True, False}, {True}, {False}}"
   ]
  },
  {
   "cell_type": "code",
   "execution_count": null,
   "id": "d12b1000-3ef2-4715-a6c9-d3c2da162806",
   "metadata": {},
   "outputs": [],
   "source": [
    "%te {x_e, _c1, _c2}"
   ]
  },
  {
   "cell_type": "code",
   "execution_count": null,
   "id": "6803392a-7d83-4fd1-8969-856de95b6709",
   "metadata": {},
   "outputs": [],
   "source": [
    "%te {P_<e,t>(_c1), Q_<e,t>(_c1)}"
   ]
  },
  {
   "cell_type": "markdown",
   "id": "f8856148-a745-4f71-9389-b298fb9d4819",
   "metadata": {},
   "source": [
    "The empty set can be written with `{}`. (*note*: this has a different meaning in python code, where `{}` gives you an empty `dict`!) As noted above, without further guidance, the empty set when instantiate this way is handled via a polymorphic type, which allows it to resolve as needed for any concrete set type it might interact with."
   ]
  },
  {
   "cell_type": "code",
   "execution_count": null,
   "id": "e7e54deb-874a-40d7-a070-50ae732e3f9e",
   "metadata": {},
   "outputs": [],
   "source": [
    "%te {}"
   ]
  },
  {
   "cell_type": "code",
   "execution_count": null,
   "id": "c981456b-1db2-4faa-ae45-0b69774ae938",
   "metadata": {},
   "outputs": [],
   "source": [
    "%te {x_e, _c1, _c2} & {}"
   ]
  },
  {
   "cell_type": "markdown",
   "id": "49c05837-3aa4-4f9e-8cd1-7143ba5c58f2",
   "metadata": {},
   "source": [
    "A cautionary note on semantics for listed sets: sets described by list with elements that contain free terms are surprisingly complicated objects. This is because we can't determine identity without resolving those free terms. As an example, consider whether the two sets `{_c1, x_e}` and `{_c1}` are equivalent. From a quick glance applying standard naive set theory, the answer may appear to be no. However, the answer is a solid *maybe*. In particular, if `x_e` resolves to `_c1`, then the left set is `{_c1, _c1}`, which is equivalent to `{_c1}`. However, if `x` resolves to something else, then they aren't equivalent. We can concretely test this out using equivalence (discussed in detail below):"
   ]
  },
  {
   "cell_type": "code",
   "execution_count": null,
   "id": "170a5cf8-a344-4fc4-b40c-cff665bb7a9e",
   "metadata": {},
   "outputs": [],
   "source": [
    "x = %te {x_e, _c1} <=> {_c1}\n",
    "x"
   ]
  },
  {
   "cell_type": "code",
   "execution_count": null,
   "id": "fb4c4695-ddc3-4796-b8f6-7854b730a646",
   "metadata": {},
   "outputs": [],
   "source": [
    "# now test things out by actually doing the substitions described above\n",
    "# see \"simplifcation notes\" below for more on step 1 of this first derivation\n",
    "x.under_assignment({'x': '_c1'}).simplify_all().derivation"
   ]
  },
  {
   "cell_type": "code",
   "execution_count": null,
   "id": "e5fc8b61-d28b-4714-a823-3937cc98715e",
   "metadata": {},
   "outputs": [],
   "source": [
    "x.under_assignment({'x': '_c2'}).simplify_all().derivation"
   ]
  },
  {
   "cell_type": "markdown",
   "id": "0e119a77-2c90-4b43-ae8f-e6585fb5f382",
   "metadata": {},
   "source": [
    "This scenario is about the simplest case for `ListedSet` semantics with free terms; things get even more complicated with multiple free terms, and complex terms containing free terms.\n",
    "\n",
    "In general: if a listed set doesn't involve free terms, then everything will go as you expect from standard naive set theory, and simplification of expressions will work. More generally, any set that is concrete in the following sense works completely with all operations and relations:\n",
    "\n",
    "* Call a an expression **concrete** if it is a `MetaTerm`, or is constructed only from listed sets and tuples of concrete expressions. `{_c1, _c2}` is a concrete set, but `{_c1, x_e}` is not."
   ]
  },
  {
   "cell_type": "markdown",
   "id": "4097b601-5a78-405e-8908-84e6f623e6cf",
   "metadata": {},
   "source": [
    "**Simplification notes**: there isn't much to simplifying listed sets, with one comment about implementation. As you'd expect from set theory, sets don't care about multiple membership, although it is syntactically valid. That is, a listed set with multiple members is equivalent to the same listed set with duplicates dropped.\n",
    "\n",
    "The implementation note is that `ListedSet` objects do not enforce non-duplication on construction, but only on simplification. That is, syntactically an object like the following is a perfectly valid `ListedSet` object; it will simplify as expected according to this semantics:"
   ]
  },
  {
   "cell_type": "code",
   "execution_count": null,
   "id": "5808f208-b9fb-4a7e-a258-93d5d6362878",
   "metadata": {},
   "outputs": [],
   "source": [
    "meta.sets.ListedSet([te(\"_c1\"), te(\"_c1\")])"
   ]
  },
  {
   "cell_type": "code",
   "execution_count": null,
   "id": "c1e64bf3-d59c-4578-9697-23d917fb7977",
   "metadata": {},
   "outputs": [],
   "source": [
    "meta.sets.ListedSet([te(\"_c1\"), te(\"_c1\")]).simplify()"
   ]
  },
  {
   "cell_type": "markdown",
   "id": "2e3d9df5-d19b-4e9f-9379-c31dd1d284d8",
   "metadata": {},
   "source": [
    "Unless you are intentionally constructing sets that have syntactically repeated elements, it's rare to see an instance like this in action; it can mainly happen during derivations in certain cases (illustrated by the assignment example above). The reason is that the metalanguage parser for the special case of set construction automatically normalizes, as does the standard factory function `sset` (see below); and whenever one of these sets shows up as a simplification step, it is guaranteed to be resolved.\n",
    "\n",
    "Also, autonormalization/simplification for listed sets does lead to a normalized display order for elements. This is cosmetic, since of course order doesn't matter for set identity."
   ]
  },
  {
   "cell_type": "code",
   "execution_count": null,
   "id": "3d04316e-3ccd-4d52-aba3-644e16cff13e",
   "metadata": {},
   "outputs": [],
   "source": [
    "meta.sets.ListedSet([te(\"x_e\"), te(\"_c2\"), te(\"_c1\")]).simplify()"
   ]
  },
  {
   "cell_type": "markdown",
   "id": "60de76ff-ae8c-4d9d-8547-d6cb8dda8474",
   "metadata": {},
   "source": [
    "**Set construction in python code**: If you write code that builds `ListedSet` objects, it is recommended to use one of several convenience factories:\n",
    "\n",
    "`meta.sets.sset` creates and normalizes (in one step, with no derivational history) a `ListedSet` object. It takes an optional parameter `typ` that is the content type of the set.\n",
    "\n",
    "`meta.sets.emptyset` creates an empty set at an optionally specified type given by parameter `settype`. If this typ is a set type, it is interpreted as the target type (otherwise, as the content type). "
   ]
  },
  {
   "cell_type": "code",
   "execution_count": null,
   "id": "704ce2a9-c7c5-4045-b276-3a44b6f93f84",
   "metadata": {},
   "outputs": [],
   "source": [
    "meta.sets.sset([3,2,3,1])"
   ]
  },
  {
   "cell_type": "code",
   "execution_count": null,
   "id": "5375274d-26be-467c-b868-0f06313b9a63",
   "metadata": {},
   "outputs": [],
   "source": [
    "meta.sets.emptyset(settype=tp(\"{n}\"))"
   ]
  },
  {
   "cell_type": "markdown",
   "id": "161031ab-475c-4e65-a664-a773f9a2e327",
   "metadata": {},
   "source": [
    "Also, given a python set container of TypedExprs (or strings parsable to TypedExprs) the function `meta.core.from_python` conveniently produces a `ListedSet` object:"
   ]
  },
  {
   "cell_type": "code",
   "execution_count": null,
   "id": "e37ea041-aa17-48f3-abec-2537ce498fa8",
   "metadata": {},
   "outputs": [],
   "source": [
    "meta.core.from_python_container({'_c1', te('x_e')})"
   ]
  },
  {
   "cell_type": "markdown",
   "id": "c62e1b03-fa49-4b3a-b102-f1b3158814bf",
   "metadata": {},
   "source": [
    "Python caveat: you can't write sets of sets in python, because the default `set` type is not hashable. Instead, use the `frozenset` type."
   ]
  },
  {
   "cell_type": "markdown",
   "id": "9cb4007d-100b-48e1-9e5c-3e6c72a0224a",
   "metadata": {},
   "source": [
    "### Construction by condition (`ConditionSet`)\n",
    "\n",
    "Set construction by condition has the same syntax as that of binding operators more generally; boolean constraints on a bound variable determine the contents of the set. This syntax leads to an object of class `meta.sets.ConditionSet`, which is a `BindingOp` subclass."
   ]
  },
  {
   "cell_type": "code",
   "execution_count": null,
   "id": "3ed062a8-7410-4e07-bc4b-94426b0c6cda",
   "metadata": {},
   "outputs": [],
   "source": [
    "%te Set x_e: P_<e,t>(x) & Q_<e,t>(x)"
   ]
  },
  {
   "cell_type": "code",
   "execution_count": null,
   "id": "1b385af1-53ae-4e70-879d-b0048d19705a",
   "metadata": {},
   "outputs": [],
   "source": [
    "%te Set x_e: False"
   ]
  },
  {
   "cell_type": "markdown",
   "id": "5bdc6251-3ff6-428f-9fff-910843f37553",
   "metadata": {},
   "source": [
    "Simplification of condition sets, for the most part, is entirely about simplification of their condition. There is one special case which is simplified by conversion to a `ListedSet`, namely, the `False` condition giving the empty set:"
   ]
  },
  {
   "cell_type": "code",
   "execution_count": null,
   "id": "932b55fe-7366-4c44-93c5-c9574f486935",
   "metadata": {},
   "outputs": [],
   "source": [
    "%te simplify Set x_e: False"
   ]
  },
  {
   "cell_type": "markdown",
   "id": "87116a51-0bb9-4637-be6c-fa834505acf3",
   "metadata": {},
   "source": [
    "**Simplification / execution notes**. `ConditionSet`s have two special case simplification checks to be aware of, as these may be useful targets for other simplification code.\n",
    "\n",
    "* A set of the form `{Set x : False}` will simplify to the `ListedSet` version of the empty set.\n",
    "* A set that has a single clause in its condition that characterizes its value either ve $\\in$ or via an equality will simplify to the exact set the condition characterizes. E.g. `{Set x_e : x <=> _c1}` will simplify to `{_c1}`. This is obviously not a general purpose version of this idea, so it shouldn't be relied on, but as noted above, it is a good target."
   ]
  },
  {
   "cell_type": "code",
   "execution_count": null,
   "id": "1e02e0e4-a12f-4825-acb4-93894ae59f24",
   "metadata": {},
   "outputs": [],
   "source": [
    "%te simplify {Set x_e : x <=> _c1}\n",
    "_llast.derivation"
   ]
  },
  {
   "cell_type": "code",
   "execution_count": null,
   "id": "4a6235fd-74f0-412d-9508-b5e05e0678c7",
   "metadata": {},
   "outputs": [],
   "source": [
    "%te simplify {Set x_e : x << {_c1, _c2}}\n",
    "_llast.derivation"
   ]
  },
  {
   "cell_type": "markdown",
   "id": "26a609ae-80e1-4af6-a308-43a8679fd331",
   "metadata": {},
   "source": [
    "Finally, it is very important to be aware that the general case of `ConditionSet` *does not have* a meta-meta-language counterpart. This is exactly because it is allowed to model non-finiteness, and this situation places some limits on what can be done with these sets.\n",
    "\n",
    "* When simplifying: there are various cases that just can't be checked without a finite domain restriction (see the documentation on \"Domain elements and `MetaTerm`s\"). E.g. equivalence checking for arbitrary non-identical `ConditionSet`s. This is to some degree up to boolean simplification, which of course is a non-trivial problem that the lambda notebook doesn't really attempt to solve by itself.\n",
    "* When compiling/executing: `ConditionSet`s in general won't compile without a finite domain, and an exception will be raised. (The one exception for this is the empty set in `ConditionSet` form.) Where possible, operators that interact with condition sets will attempt to skip this check. For example, `SetContains` (see below) can use the condition directly. Certain operators have special handling for the identities, including `{Set x: True}`. But, working around the possibility of non-finiteness isn't possible in the general case, and compilation doesn't try. Rather, it is recommended to run a static `simplify_all()` pass before executing set expressions that may involve `{Set x: True}`; static inference can deal with these in a general way. See further examples in [#Further-notes-on-metalanguage-sets](#Further-notes-on-metalanguage-sets).\n",
    "* With a finite domain restriction, executing `ConditionSet`s will work. But be aware that the compiled code must iterate over the whole domain!"
   ]
  },
  {
   "cell_type": "markdown",
   "id": "565ff597-9fc4-49c6-a7ce-3fa71a6c89dd",
   "metadata": {},
   "source": [
    "### Set membership tests (`SetContains`)\n",
    "\n",
    "Set identity is fundamentally determined by *membership*: two sets are the same if they have the same members. Therefore, understanding how set membership itself works is crucial towards understanding the metalanguage implementation of sets.\n",
    "\n",
    "The `<<` operator both in the metalanguage and in python is used to build a set membership expression (of class `meta.sets.SetContains`). This operator takes a set-typed expression on the right, an element on the left with the content type, and produces an expression of type `t`.\n",
    "\n",
    "Membership checks for concrete elements vs concrete sets are guaranteed to simplify (and execute)."
   ]
  },
  {
   "cell_type": "code",
   "execution_count": null,
   "id": "4eed76a2-535f-47ba-9f5d-e1306e2c75e9",
   "metadata": {},
   "outputs": [],
   "source": [
    "%te _c1 << {_c1, _c2}"
   ]
  },
  {
   "cell_type": "code",
   "execution_count": null,
   "id": "e6c27bbc-72c7-419f-895b-d8755a48be5a",
   "metadata": {},
   "outputs": [],
   "source": [
    "%te simplify _c1 << {_c1, _c2}\n",
    "_llast.derivation"
   ]
  },
  {
   "cell_type": "markdown",
   "id": "c65af564-3692-48f5-bc38-f38d3170f23c",
   "metadata": {},
   "source": [
    "Non-concrete simplification with listed sets is quite a bit more complicated, and isn't generally guaranteed. Various special cases will work."
   ]
  },
  {
   "cell_type": "code",
   "execution_count": null,
   "id": "03913186-4d8b-441f-b7f6-8fb2ede41858",
   "metadata": {},
   "outputs": [],
   "source": [
    "# singleton set membership checks are just equalities\n",
    "%te simplify _c1 << {x_e}\n",
    "_llast.derivation"
   ]
  },
  {
   "cell_type": "code",
   "execution_count": null,
   "id": "ce6f4c8b-7601-4bc3-adb4-5863043b48aa",
   "metadata": {},
   "outputs": [],
   "source": [
    "# positive membership is easy (this will work for a non-concrete element as well)\n",
    "%te simplify _c1 << {_c1, x_e}\n",
    "_llast.derivation"
   ]
  },
  {
   "cell_type": "code",
   "execution_count": null,
   "id": "e5683d01-0246-40a6-899a-ab6668022579",
   "metadata": {},
   "outputs": [],
   "source": [
    "# nothing is ever in the empty set\n",
    "%te simplify x_e << {}\n",
    "_llast.derivation"
   ]
  },
  {
   "cell_type": "code",
   "execution_count": null,
   "id": "732d9755-2c19-4a05-b51b-523c8b7d1841",
   "metadata": {},
   "outputs": [],
   "source": [
    "# it's guaranteed that _c1 and _c3 are irrelevant\n",
    "%te simplify _c2 << {_c1, x_e, y_e, _c3}\n",
    "_llast.derivation"
   ]
  },
  {
   "cell_type": "markdown",
   "id": "7241450c-1d9a-4375-bb88-492096b8a69c",
   "metadata": {},
   "source": [
    "However, many related cases cannot be further simplified. The following example is not resolvable without knowing what `x` is, so simplification by default does nothing:"
   ]
  },
  {
   "cell_type": "code",
   "execution_count": null,
   "id": "01101ceb-7d22-4566-a327-ee1b9663c0a2",
   "metadata": {},
   "outputs": [],
   "source": [
    "%te simplify x_e << {_c1, _c2}"
   ]
  },
  {
   "cell_type": "markdown",
   "id": "684ffc29-e7cd-497b-9fb6-a75c674e9c52",
   "metadata": {},
   "source": [
    "Expressions like this can be \"simplified\" in certain ways; see below under \"simplification notes\" for further discussion of non-default simplifications strategies.\n",
    "\n",
    "Sets of sets (etc) are supported:"
   ]
  },
  {
   "cell_type": "code",
   "execution_count": null,
   "id": "1fd6ccb3-6de5-4b4e-8e8c-ace3d0518430",
   "metadata": {},
   "outputs": [],
   "source": [
    "%te simplify {_c1} << {{_c1, _c2}, {_c1}}"
   ]
  },
  {
   "cell_type": "markdown",
   "id": "30de1c7e-5316-4102-a548-2df403c3774f",
   "metadata": {},
   "source": [
    "Membership checks for `ConditionSet`s are mechanically much more simple, though perhaps not conceptually. Given a condition set, you can straightforwardly check the element against the set's condition. This case always simplifies; the implementation works by constructing a function from the set condition, and doing reduction."
   ]
  },
  {
   "cell_type": "code",
   "execution_count": null,
   "id": "e4e91e4b-5ee1-445d-8897-c36a61584843",
   "metadata": {},
   "outputs": [],
   "source": [
    "%te simplify _c1 << (Set x_e : P_<e,t>(x))\n",
    "_llast.derivation"
   ]
  },
  {
   "cell_type": "markdown",
   "id": "fbacce1c-a391-437a-8a82-f72e1f0370fd",
   "metadata": {},
   "source": [
    "Both trivial condition cases are handled:"
   ]
  },
  {
   "cell_type": "code",
   "execution_count": null,
   "id": "4dd53cb0-b454-40cb-ac51-cc4134ac9930",
   "metadata": {},
   "outputs": [],
   "source": [
    "%te simplify _c1 << (Set x_e : False)"
   ]
  },
  {
   "cell_type": "code",
   "execution_count": null,
   "id": "953a9436-e6d0-40b4-8ad2-c523ad67a794",
   "metadata": {},
   "outputs": [],
   "source": [
    "%te simplify _c1 << (Set x_e : True)"
   ]
  },
  {
   "cell_type": "markdown",
   "id": "f3477290-b80d-49a5-b331-86b88619a9f9",
   "metadata": {},
   "source": [
    "**Simplification notes**. `ConditionSet`s are uniform and straighforward, but as we have already seen, `ListedSet`s are not. Any listed set membership statement can in principle be converted to a disjunction of equality statements. This is generally not what you want to do, as it tends to complicate, rather than simplify, expressions (both in terms of human readability, and consequent evaluation). Therefore, this is only automatically done for the special case of singleton sets. \n",
    "\n",
    "With the `eliminate_sets_all` option provided to simplification, this conversion will be forced. This is the only set elimination operation that is *not* triggered by regular `eliminate_sets`! (The \"all\" option entails `eliminate_sets`.)"
   ]
  },
  {
   "cell_type": "code",
   "execution_count": null,
   "id": "503e82ee-9d25-4a4e-85b9-e21204c9187e",
   "metadata": {},
   "outputs": [],
   "source": [
    "# special case\n",
    "%te simplify _c2 << {x_e}"
   ]
  },
  {
   "cell_type": "code",
   "execution_count": null,
   "id": "df57ae0b-35a5-4ff2-a714-b5b656856ff9",
   "metadata": {},
   "outputs": [],
   "source": [
    "e = %te _c2 << {y_e, x_e}\n",
    "e.simplify_all(eliminate_sets_all=True).derivation"
   ]
  },
  {
   "cell_type": "markdown",
   "id": "98d68151-4aec-42a9-b4b7-8e500468b15a",
   "metadata": {},
   "source": [
    "## Set operations\n",
    "\n",
    "Here are some examples of union (`|`), intersection (`&`), and difference (`-`). These operations will always simplify for combinations of concrete sets. Combining `ConditionSet`s with `ConditionSet`s via operations also generally works. However, once you move outside these two scenarios, things can become very complicated and are a mess of special cases."
   ]
  },
  {
   "cell_type": "code",
   "execution_count": null,
   "id": "7436e3f9-662b-4253-849b-afaf7a2f01ea",
   "metadata": {},
   "outputs": [],
   "source": [
    "%te simplify {_c1, _c2} - ({_c2} | {_c3, _c4})\n",
    "_llast.derivation"
   ]
  },
  {
   "cell_type": "code",
   "execution_count": null,
   "id": "57d8bbf9-c53d-45c1-a96f-4bba3f7e7a3a",
   "metadata": {},
   "outputs": [],
   "source": [
    "%te simplify (Set x: Q(x)) - (Set x: Q(x))\n",
    "_llast.derivation"
   ]
  },
  {
   "cell_type": "code",
   "execution_count": null,
   "id": "e8b12120-7143-4863-83ca-eea03259f2e4",
   "metadata": {},
   "outputs": [],
   "source": [
    "%te simplify (Set x_e : P_<e,t>(x)) & (Set x_e : Q_<e,t>(x) & P_<e,t>(x))\n",
    "_llast.derivation"
   ]
  },
  {
   "cell_type": "code",
   "execution_count": null,
   "id": "24656c73-a64d-43c2-a07e-f87d7a7110ad",
   "metadata": {},
   "outputs": [],
   "source": [
    "%te simplify (Set x_e: P_<e,t>(x)) - {_c1, _c2}"
   ]
  },
  {
   "cell_type": "markdown",
   "id": "9ae73f24-e99f-4578-b3ea-7b988b580684",
   "metadata": {},
   "source": [
    "**simplification notes**. The `eliminate_sets` option will force certain optional simplification steps that may lead to more complex formulas. In general, this option instructs simplification to try to eliminate all set operations to the extent possible, reducing them to boolean expressions. (Of course, if the expression itself has a set type, not all set descriptions can be eliminated.) Here's an example that works out reasonably:"
   ]
  },
  {
   "cell_type": "code",
   "execution_count": null,
   "id": "e53b4ecc-6d2d-4825-a06d-072bef6ca96c",
   "metadata": {},
   "outputs": [],
   "source": [
    "s = %te (Set x_e: P_<e,t>(x)) - {_c1, _c2}\n",
    "s.simplify_all(eliminate_sets=True).derivation.trace()"
   ]
  },
  {
   "cell_type": "code",
   "execution_count": null,
   "id": "be88f752-00f8-431a-840f-b54080a04944",
   "metadata": {},
   "outputs": [],
   "source": [
    "# the membership check can be eliminated as well, using `eliminate_sets_all`\n",
    "s.simplify_all(eliminate_sets_all=True).derivation.trace()"
   ]
  },
  {
   "cell_type": "markdown",
   "id": "5b562481-0b94-42ab-83e8-64e0ef6276f5",
   "metadata": {},
   "source": [
    "Set elimination strategies are automatically applied (locally) when combining `ConditionSet`s with `ConditionSet`s even without this option, as the simplification system can always find a resulting single `ConditionSet` for these cases. Here's the previous case in a slightly different form:"
   ]
  },
  {
   "cell_type": "code",
   "execution_count": null,
   "id": "a3819209-36f4-45e8-9d62-f3ced526f3e5",
   "metadata": {},
   "outputs": [],
   "source": [
    "%te simplify (Set x_e: P_<e,t>(x)) - (Set x_e: x << {_c1, _c2})"
   ]
  },
  {
   "cell_type": "markdown",
   "id": "c49283ac-bdcc-452f-a352-46cfc6af8d6f",
   "metadata": {},
   "source": [
    "**Execution notes**: While simplification, as seen above, can go through various conversion-to-boolean-expression steps, executing compiled set expressions does not do this (it is never needed, and would generally be slower)."
   ]
  },
  {
   "cell_type": "markdown",
   "id": "5db9a445-a7a2-485f-a79f-0d7e325bf6cf",
   "metadata": {},
   "source": [
    "## Set relations\n",
    "\n",
    "The set membership relation (`SetContains` / `<<`) was dealt with above. this section covers the relations between sets. The metalanguage implements equivalence as well as standard subset and superset relations.\n",
    "\n",
    "### Equivalence (`SetEquivalence`)\n",
    "\n",
    "Equivalence is worth singling out, because it is quite a bit trickier than it might first seem. The metalanguage implements the standard idea that two sets are equivalent iff they have the same members. However, testing this in all but the concrete cases becomes challenging.\n",
    "\n",
    "* Metalanguage class: `meta.sets.SetEquivalence`\n",
    "* Notation: In parsed metalanguage expressions, like other forms of equality/equivalence, you can use any of `<=>`, `==`, and `%` for this. *However*, be aware that for technical reasons, on the python side, `==` does not give equivalence! The `%` operator does work, and all `TypedExpr`s have an `equivalent_to` member function that will build equivalence expressions.\n",
    "\n",
    "First, for concrete sets, everything will work as expected."
   ]
  },
  {
   "cell_type": "code",
   "execution_count": null,
   "id": "a3acb210-1688-4a53-a3a1-aa9d60de5a96",
   "metadata": {},
   "outputs": [],
   "source": [
    "%te simplify {{_c1}, {_c2}} <=> {{_c2}, {_c1}}\n",
    "_llast.derivation"
   ]
  },
  {
   "cell_type": "markdown",
   "id": "9ac431a7-7421-4cbe-a835-b6db4891148a",
   "metadata": {},
   "source": [
    "For listed sets with free terms, things become complicated very fast, for reasons we have already seen when discussing the basics of listed sets as well as set membership earlier. As another exmaple, consider the sets `{_c1, x_e}` and `{_c2, y_e}` Are these equivalent? The answer is maybe. In this case there is one way that they could be equivalent, if `y` resolves to `_c1` and `x` resolves to `_c2`. Therefore, there is no default simplification for this case. These expressions can be force-\"simplified\" by providing the `eliminate_sets` or `eliminate_sets_all` options, but the result is often not particularly simpler."
   ]
  },
  {
   "cell_type": "code",
   "execution_count": null,
   "id": "1253f6d0-661e-4ff0-aacc-0611ebf50a28",
   "metadata": {},
   "outputs": [],
   "source": [
    "s = %te {_c1, x_e} <=> {_c2, y_e}\n",
    "s.simplify_all(eliminate_sets=True).derivation"
   ]
  },
  {
   "cell_type": "code",
   "execution_count": null,
   "id": "9bd40dac-8977-4294-ae68-a9f9936ad18c",
   "metadata": {},
   "outputs": [],
   "source": [
    "s.simplify_all(eliminate_sets_all=True).derivation"
   ]
  },
  {
   "cell_type": "markdown",
   "id": "e0241379-0515-450b-8525-0fc4b5ad0eb5",
   "metadata": {},
   "source": [
    "A few special cases of note. Equivalence with empty sets will always simplify, for obvious reasons:"
   ]
  },
  {
   "cell_type": "code",
   "execution_count": null,
   "id": "f9ea5d87-beca-4b7c-b9f3-7793077c69fb",
   "metadata": {},
   "outputs": [],
   "source": [
    "%te simplify {} <=> {}"
   ]
  },
  {
   "cell_type": "code",
   "execution_count": null,
   "id": "f4b93730-de20-4adf-8971-f0e10f5ff113",
   "metadata": {},
   "outputs": [],
   "source": [
    "%te simplify {x_e, y_e, _c1} <=> {}\n",
    "_llast.derivation"
   ]
  },
  {
   "cell_type": "markdown",
   "id": "4590a381-05b6-4d2b-b8d0-6ec15ce91273",
   "metadata": {},
   "source": [
    "And similar to set membership, the case of two singletons always simplifies to an equality expression on the inner type:"
   ]
  },
  {
   "cell_type": "code",
   "execution_count": null,
   "id": "73efcb5b-ab39-4867-afb5-e18185249055",
   "metadata": {},
   "outputs": [],
   "source": [
    "%te simplify {x_e} <=> {_c1}"
   ]
  },
  {
   "cell_type": "markdown",
   "id": "52efbc4c-be70-4a72-bb45-8a2f542df3d8",
   "metadata": {},
   "source": [
    "Certain other more involved special cases for listed sets may simplify."
   ]
  },
  {
   "cell_type": "markdown",
   "id": "1048fcdb-2c4e-43c1-b2ca-1c8922871e36",
   "metadata": {},
   "source": [
    "Equivalence checks for condition sets can generally be simplified to boolean quantified expressions, and will be by default. However, condition sets are not assumed to be finite, and so to do this check in the general case requires potentially non-finite quantification over the relevant domain. Without finiteness, the lambda notebook will not try to simplify these expressions further. (Of course, with domain finiteness, these expressions can be fully simplified or executed with no free terms).\n",
    "\n",
    "Here is a concrete case of this:"
   ]
  },
  {
   "cell_type": "code",
   "execution_count": null,
   "id": "e4387850-a892-43ed-bce1-7ffc8d0256ac",
   "metadata": {},
   "outputs": [],
   "source": [
    "%te simplify (Set x_e: P_<e,t>(x)) <=> (Set x_e: Q_<e,t>(x))\n",
    "_llast.derivation"
   ]
  },
  {
   "cell_type": "markdown",
   "id": "21ceea2b-9a3f-44e6-a0c0-faea7bf36eae",
   "metadata": {},
   "source": [
    "And finally, mixing listed and condition sets is messy, but simplification can be forced with `eliminate_sets`. Unfortunately, the current implementation via simplification does not guarantee finite safety, though this could be done in principle. Here's an example:"
   ]
  },
  {
   "cell_type": "code",
   "execution_count": null,
   "id": "f30657b3-cdbe-4d4d-9923-1303aac0ce04",
   "metadata": {},
   "outputs": [],
   "source": [
    "s = %te (Set x_e: P_<e,t>(x)) <=> {x_e, _c1}\n",
    "s.simplify_all(eliminate_sets_all=True)"
   ]
  },
  {
   "cell_type": "markdown",
   "id": "f5f16231-d6ff-4f5c-998b-1c228ed87819",
   "metadata": {},
   "source": [
    "**simplification notes**. As seen above, for non-concrete cases simplification is a mix of heuristics that may or may not apply by default. The option `eliminate_sets` guarantees that a set equivalence expression and its component sets will be converted to a boolean expression (potentially quantified), but as you might expect, the result is not necessarily simpler from a human perspective.\n",
    "\n",
    "**execution notes**. All finite-safe set expressions with no free terms are guaranteed to be executable, with one (current) exception: the mixed listed/condition case noted above for simplification is not handled for execution either."
   ]
  },
  {
   "cell_type": "markdown",
   "id": "8cf18f67-b37a-4492-a88d-f9ec793df014",
   "metadata": {},
   "source": [
    "### Subset and superset relations\n",
    "\n",
    "The metalanguage provides four further relations:\n",
    "\n",
    "* `meta.sets.SetSubset`, with operator `<=`, and `meta.sets.SetProperSubset`, operator `<`\n",
    "* `meta.sets.SetSupset`, with operator `>=`, and `meta.sets.SetProperSupset`, operator `>`\n",
    "\n",
    "Like equivalence, these take arguments of (matched) set types, and produce a type `t` expression. Here are a few examples of expression construction."
   ]
  },
  {
   "cell_type": "code",
   "execution_count": null,
   "id": "ea16775e-976c-43c3-b307-41376e567b37",
   "metadata": {},
   "outputs": [],
   "source": [
    "%te {_c1, _c2} < {_c1, _c2, _c3}"
   ]
  },
  {
   "cell_type": "code",
   "execution_count": null,
   "id": "de657b2d-93eb-48eb-a874-4a269b6aba2a",
   "metadata": {},
   "outputs": [],
   "source": [
    "%te (Set x_e : P_<e,t>(x)) >= (Set x_e : Q_<e,t>(x))"
   ]
  },
  {
   "cell_type": "code",
   "execution_count": null,
   "id": "2ee820bf-46d9-4e9a-b657-4b952c5a10e1",
   "metadata": {},
   "outputs": [],
   "source": [
    "%te (Set x_e : P_<e,t>(x)) <= {_c1}"
   ]
  },
  {
   "cell_type": "markdown",
   "id": "1943e7b1-f091-4b23-96f3-7dfd14d74da5",
   "metadata": {},
   "source": [
    "**simplification/execution notes**: All of these relations both simplify and execute by means of simpler expressions, and so inherit all the simplification and execution caveats from those. Here are the four implementations.\n",
    "\n",
    "* `A <= B`: `(A <=> (A & B)`\n",
    "* `A < B`: `A <= B & ~(A <=> B)`\n",
    "* `A >= B`: `B <= A`\n",
    "* `A > B`: `B < A`"
   ]
  },
  {
   "cell_type": "markdown",
   "id": "04ae8bc1-c488-424e-8bab-c45208234f53",
   "metadata": {},
   "source": [
    "As you can see, these in particular rely on intersection, which is reasonably straightforward, and equivalence, which is not. Because of this, simplification and execution (assuming no free terms) do work for all concrete cases and all condition set vs condition set cases, though simplification is not particularly optimized.\n",
    "\n",
    "Some of the complexity can be seen by looking at simplify derivations for even simple concrete cases:"
   ]
  },
  {
   "cell_type": "code",
   "execution_count": null,
   "id": "b595573a-d1df-418b-b2d9-33301d9cebac",
   "metadata": {},
   "outputs": [],
   "source": [
    "%te simplify {_c1, _c2} < {_c1, _c2, _c3}\n",
    "_llast.derivation"
   ]
  },
  {
   "cell_type": "code",
   "execution_count": null,
   "id": "47dcd5fd-16b0-4630-9217-333b19b5ec17",
   "metadata": {},
   "outputs": [],
   "source": [
    "%te simplify {_c1, _c2, _c4} < {_c1, _c2, _c3}\n",
    "_llast.derivation"
   ]
  },
  {
   "cell_type": "markdown",
   "id": "499d44cc-ff4e-43c6-aaf7-d4ec7228056d",
   "metadata": {},
   "source": [
    "Here are some condition set and mixed examples:"
   ]
  },
  {
   "cell_type": "code",
   "execution_count": null,
   "id": "3f643c21-c2cd-4b84-b67c-58d15801a08f",
   "metadata": {},
   "outputs": [],
   "source": [
    "%te simplify (Set x_e : P_<e,t>(x)) >= (Set x_e : Q_<e,t>(x))\n",
    "_llast.derivation"
   ]
  },
  {
   "cell_type": "code",
   "execution_count": null,
   "id": "fc0961f3-9d65-42ef-ad7c-bdacac0dbc7c",
   "metadata": {},
   "outputs": [],
   "source": [
    "%te simplify ((Set x_e : P_<e,t>(x)) - (Set x_e : Q_<e,t>(x))) >= (Set x_e : Q_<e,t>(x))\n",
    "_llast.derivation"
   ]
  },
  {
   "cell_type": "code",
   "execution_count": null,
   "id": "8aab84af-9522-48fb-a367-f9e821d665cb",
   "metadata": {},
   "outputs": [],
   "source": [
    "s = %te (Set x_e : P_<e,t>(x)) <= {_c1, _c2}\n",
    "s.simplify_all(eliminate_sets=True).derivation"
   ]
  },
  {
   "cell_type": "markdown",
   "id": "b5c88071-eca5-45a5-9e63-71373d003ac8",
   "metadata": {},
   "source": [
    "## Further notes on metalanguage sets\n",
    "\n",
    "**Domain sets**. The metalanguage does not currently provide any shortcut syntax for getting domain sets, i.e. the sets corresponding to a type. The standard way to write a domain set is using the general `ConditionSet` notation. Here is the set for type `e`:"
   ]
  },
  {
   "cell_type": "code",
   "execution_count": null,
   "id": "6ec688e8-7c1a-4e9b-8864-114b52a3cf14",
   "metadata": {},
   "outputs": [],
   "source": [
    "%te Set x_e : True"
   ]
  },
  {
   "cell_type": "code",
   "execution_count": null,
   "id": "eea1d24c-47cf-4552-af09-41ab930dd293",
   "metadata": {},
   "outputs": [],
   "source": [
    "%te Set x_t : True"
   ]
  },
  {
   "cell_type": "markdown",
   "id": "35b775b0-49b0-4b36-8ef3-b0ecef57fedd",
   "metadata": {},
   "source": [
    "Sets of this form behave as you'd expect for simplification, despite their non-finiteness. "
   ]
  },
  {
   "cell_type": "code",
   "execution_count": null,
   "id": "9021c2bf-4c86-487d-8070-c3fda4b80797",
   "metadata": {},
   "outputs": [],
   "source": [
    "%te simplify (Set x_e: True) & {_c1, _c2}"
   ]
  },
  {
   "cell_type": "code",
   "execution_count": null,
   "id": "3c085834-fa19-4d40-a1c0-72e5a9688577",
   "metadata": {},
   "outputs": [],
   "source": [
    "meta.meta.exec(te(\"(Set x_e: True) & {_c1, _c2}\"))"
   ]
  },
  {
   "cell_type": "code",
   "execution_count": null,
   "id": "896e4a16-0ac0-482c-9422-734c952b0eb1",
   "metadata": {},
   "outputs": [],
   "source": [
    "%te simplify (Set x_e: True) - (Set x_e: P(x))"
   ]
  },
  {
   "cell_type": "markdown",
   "id": "36f815b8-44ae-4494-83b1-72b346da58d0",
   "metadata": {},
   "source": [
    "Execution has caveats. While some special cases may work, the general case for set descriptions that could involve a non-finite domain set will not, and so it is often useful to only try to execute set-related expressions that have had a static simplify pass."
   ]
  },
  {
   "cell_type": "code",
   "execution_count": null,
   "id": "5ae51f98-25f1-4938-aeb3-3afa75ebae85",
   "metadata": {},
   "outputs": [],
   "source": [
    "meta.meta.exec(te(\"((Set x_e: True) & (Set x_e: False))\"))"
   ]
  },
  {
   "cell_type": "code",
   "execution_count": null,
   "id": "9e51c1dd-be86-445d-913e-41134eb8537c",
   "metadata": {},
   "outputs": [],
   "source": [
    "# this will fail to compile, it needs static analysis to clean up the left case\n",
    "with lamb.errors():\n",
    "    meta.meta.exec(te(\"((Set x_e: True) & (Set x_e: True)) & {_c1, _c2}\"))"
   ]
  },
  {
   "cell_type": "code",
   "execution_count": null,
   "id": "b764b3af-2710-4acf-a275-f9936d436bca",
   "metadata": {},
   "outputs": [],
   "source": [
    "meta.meta.exec(te(\"((Set x_e: True) & (Set x_e: True)) & {_c1, _c2}\").simplify_all())"
   ]
  },
  {
   "cell_type": "markdown",
   "id": "87edba78-576c-40c2-bd94-c8f94882d98e",
   "metadata": {},
   "source": [
    "**Complementation**. The metalanguage does not currently provide a unary complementation operator. However, this can be simulated using subtraction from the domain set, as in the above example, or as follows:"
   ]
  },
  {
   "cell_type": "code",
   "execution_count": null,
   "id": "e42b80da-43a1-47a6-8b9f-7ceff9072f75",
   "metadata": {},
   "outputs": [],
   "source": [
    "%te simplify (Set x_t: True) - {True}"
   ]
  },
  {
   "cell_type": "code",
   "execution_count": null,
   "id": "00b076f5-0cb2-46e8-84fe-ae687c0a9a5e",
   "metadata": {},
   "outputs": [],
   "source": [
    "# this set isn't finite, so can't simplify much\n",
    "%te simplify (Set x_e: True) - {_c1, _c2}"
   ]
  },
  {
   "cell_type": "code",
   "execution_count": null,
   "id": "31cacce2-368c-45a0-b7f2-3efe8145a80b",
   "metadata": {},
   "outputs": [],
   "source": [
    "with tp(\"e\").restrict_domain(count=4):\n",
    "    x = %te simplify (Set x_e: True) - {_c1, _c2}\n",
    "    display(x)"
   ]
  },
  {
   "cell_type": "markdown",
   "id": "c3d83e22-9af5-4088-bee1-5def832110cf",
   "metadata": {},
   "source": [
    "## Further python api notes on working with sets\n",
    "\n",
    "The set api has various specialized pieces for dealing with set-related objects that it may be useful to know about.\n",
    "\n",
    "### Conversions and tests on sets and containers\n",
    "\n",
    "Several factory functions were mentioned earlier when discussion `ListedSet` construction. These are:\n",
    "\n",
    "* `meta.sets.sset`: factory function for construction a pre-simplified `ListedSet`\n",
    "* `meta.sets.emptyset`: factory function for empty sets specifically\n",
    "* `meta.core.from_python_container`: given a python set/sequence container of `TypedExpr`s (including any container implementing `collections.abc.Set`), produce a corresponding `TypedExpr`.\n",
    "\n",
    "Some useful tests for sets:\n",
    "\n",
    "* `meta.sets.finite_safe`: returns true for certain finite set cases, namely those constructed from `ListedSet`s or `MetaTerm`s by set operations. These are cases where we are guaranteed finiteness.\n",
    "* `meta.sets.is_emptyset`: for any of the ways of constructing a set, (syntactically) check if it's an empty set. For `ListedSet`s and `MetaTerm` sets, this is straightforward. For `ConditionSet`s, the semantic version of this is of course highly non-trivial, but this function returns true on condition sets with a simple `False` condition.\n",
    "* `meta.core.is_concrete`: returns true on any `TypedExpr` data structure constructed (finitely) from `MetaTerm`s, including sets. These are essentially the cases where membership testing semantics is exactly that of naive set theory. (This doesn't accept sets constructed from operations.)\n",
    "\n",
    "And finally, for conversion *out* of `TypedExpr` space:\n",
    "\n",
    "* `ListedSet` and `MetaTerm` implement a member function `set()` that gives back a python `frozenset` of `TypedExpr`s. For a `MetaTerm`, this obviously would require a set type (and will raise if the term doesn't have one). If you want recursion, you probbly want one of the following two more general functions.\n",
    "* `meta.core.to_python_container`: recursively converts `ListedSet` (and `Tuple`) structures, as well as their corresponding `MetaTerm` cases, into matching python `frozenset` (and `tuple`) objects.\n",
    "* `meta.core.to_concrete`: similar to the previous, but accepts any `TypedExpr` and in a top-down way, converts as much as possible to python containers. This produces a useful normal form of sorts for working with the set/tuple container classes."
   ]
  },
  {
   "cell_type": "markdown",
   "id": "0533b790-421c-4e15-8bdb-51b33f444b03",
   "metadata": {},
   "source": [
    "### Specialized member functions for set objects\n",
    "\n",
    "**Characteristic functions**: Both `ConditionSet` and `ListedSet` implement a member function `to_characteristic`, which produces an `LFun` that checks for membership in the set."
   ]
  },
  {
   "cell_type": "code",
   "execution_count": null,
   "id": "970d26b7-d4f1-4fb8-8632-2744ace60b78",
   "metadata": {},
   "outputs": [],
   "source": [
    "te(\"Set x_e : P_<e,t>(x)\").to_characteristic()"
   ]
  },
  {
   "cell_type": "code",
   "execution_count": null,
   "id": "72924728-c2ae-4d38-81c4-4d69a77804be",
   "metadata": {},
   "outputs": [],
   "source": [
    "te(\"{_c1, _c2}\").to_characteristic()"
   ]
  },
  {
   "cell_type": "markdown",
   "id": "b2c32a6d-cb95-4ad6-a6ce-95ba435d1a3b",
   "metadata": {},
   "source": [
    "**Conversion**: See note on the `set()` member function above.\n",
    "\n",
    "`ListedSet` can be converted to a `ConditionSet` via the member function `to_condition_set`, which builds a condition by disjoining equality checks on members."
   ]
  },
  {
   "cell_type": "code",
   "execution_count": null,
   "id": "678357d7-c3a6-423e-8b60-b20f13811201",
   "metadata": {},
   "outputs": [],
   "source": [
    "s = %te {_c1, _c2}\n",
    "display(s, s.to_condition_set())"
   ]
  },
  {
   "cell_type": "markdown",
   "id": "d99cbf19-85e9-4061-a9df-69b18e162ba8",
   "metadata": {},
   "source": [
    "For obvious finiteness reasons, there is no general conversion in the other direction, but `ConditionSet` does support `eliminate` calls (like other `BindingOp`s) if the domain is finite, which generate a `ListedSet` (of `MetaTerm`s)."
   ]
  },
  {
   "cell_type": "code",
   "execution_count": null,
   "id": "d55e3e5f-e6a5-4427-8067-69309eb4a2be",
   "metadata": {},
   "outputs": [],
   "source": [
    "s = %te Set x_{t} : True\n",
    "display(s, s.eliminate())"
   ]
  },
  {
   "cell_type": "markdown",
   "id": "28ab25d6-83cf-4dd6-b22c-0c6e2e5eba6d",
   "metadata": {},
   "source": [
    "(Careful with the domains, as `eliminate` calls will very happily attempt to produce *massive* sets if you let them! E.g. the above example tweaked to type `{{{t}}}` already blows up to a cardinality $2^{16}$ set. This wouldn't be a crazy size for a python object, but metalanguage objects at this size can get both unwieldy for humans and slow; you probably want to be working with compiled rather than simplified metalanguage code at this point.)"
   ]
  }
 ],
 "metadata": {
  "kernelspec": {
   "display_name": "Lambda Notebook (Python 3)",
   "language": "python",
   "name": "lambda-notebook"
  },
  "language_info": {
   "codemirror_mode": {
    "name": "ipython",
    "version": 3
   },
   "file_extension": ".py",
   "mimetype": "text/x-python",
   "name": "python",
   "nbconvert_exporter": "python",
   "pygments_lexer": "ipython3",
   "version": "3.12.0"
  }
 },
 "nbformat": 4,
 "nbformat_minor": 5
}
