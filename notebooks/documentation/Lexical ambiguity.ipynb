{
 "cells": [
  {
   "cell_type": "code",
   "execution_count": null,
   "metadata": {},
   "outputs": [],
   "source": [
    "reload_lamb()"
   ]
  },
  {
   "cell_type": "markdown",
   "metadata": {},
   "source": [
    "# Lexical ambiguity\n",
    "\n",
    "Most natural language content words are ambiguous in an \"accidental\" way -- that is, there is no rhyme or reason why certain meanings coincide in vertain forms.  The classic example of this is the word \"bank\", which has many unrelated senses, including the two put into `bank1` and `bank2` below.  This method just separates ambiguous meanings."
   ]
  },
  {
   "cell_type": "code",
   "execution_count": null,
   "metadata": {},
   "outputs": [],
   "source": [
    "%%lamb reset\n",
    "||bank1|| = L x_e : Riverbank(x)\n",
    "||bank2|| = L x_e : Moneybank(x)\n",
    "||the|| = L f_<e,t> : Iota x_e : f(x)"
   ]
  },
  {
   "cell_type": "markdown",
   "metadata": {},
   "source": [
    "The lambda notebook can directly handle ambiguity in lexical items.  The simplest way is to use a cell magic option, `ambiguity` -- when this is active, adding more definitions to the same lexical item will produce ambiguity.  When `ambiguity` is not active (it is off by default), new definitions will replace old definitions.  An ambiguous lexical item can be used anywhere a regular item can, and will produce multiple derivations (like an ambiguous composition result).\n",
    "\n",
    "Some care should be taken with this, and you typically want to combine it with the `reset` option, so that repeatedly running the cell doesn't keep tacking on more entries.  (There is no check for equality, so you can easily end up with 20 versions of the same entry.)"
   ]
  },
  {
   "cell_type": "code",
   "execution_count": null,
   "metadata": {},
   "outputs": [],
   "source": [
    "%%lamb reset,ambiguity\n",
    "||bank|| = L x_e : Riverbank(x)\n",
    "||bank|| = L x_e : Moneybank(x)\n",
    "||the|| = L f_<e,t> : Iota x_e : f(x)"
   ]
  },
  {
   "cell_type": "code",
   "execution_count": null,
   "metadata": {},
   "outputs": [],
   "source": [
    "(the * bank).tree()"
   ]
  },
  {
   "cell_type": "code",
   "execution_count": null,
   "metadata": {},
   "outputs": [],
   "source": [
    "(the * bank[1])"
   ]
  },
  {
   "cell_type": "markdown",
   "metadata": {},
   "source": [
    "A second way of dealing with ambiguous items is by explicit indexing.  A sense index can be supplied in brackets after the item name; the behavior of this index is the same as for python indices with one exception.  To add a new sense, you can use `[*]`.\n",
    "\n",
    "Note that one way in which it behaves the same as in python is that indices must correspond to existing entries, and are not treated as sparse.  So you must use `[*]` to append, and other indices can only edit in place."
   ]
  },
  {
   "cell_type": "code",
   "execution_count": null,
   "metadata": {},
   "outputs": [],
   "source": [
    "%%lamb\n",
    "||test|| = L x_e : Exam(x) # this line will reset the entry for ||test|| each time the cell is run\n",
    "||test[*]|| = L x_e : CricketMatch(x)\n",
    "||test[*]|| = L y_e : L x_e : GaveExam(x,y)"
   ]
  },
  {
   "cell_type": "markdown",
   "metadata": {},
   "source": [
    "There are no type constraints on ambiguity, so multiple (even incompatible) types is perfectly fine.  Composition will typically eliminate cases of type mismatches (just watch for surprises!).  For example:"
   ]
  },
  {
   "cell_type": "code",
   "execution_count": null,
   "metadata": {},
   "outputs": [],
   "source": [
    "the * test"
   ]
  },
  {
   "cell_type": "markdown",
   "metadata": {},
   "source": [
    "Ambiguous items can be indexed directly as python objects to get regular `Item`s, so if you want to compose particular senses together you can do this with indices.  Slicing is implemented for this case as well.  (**N.b.** slicing is not implemented for composition results in general, nor for assignment in `%%lamb` cells.  For the former it will produce a list, for the latter a parse error.)"
   ]
  },
  {
   "cell_type": "code",
   "execution_count": null,
   "metadata": {},
   "outputs": [],
   "source": [
    "the * test[1]"
   ]
  },
  {
   "cell_type": "code",
   "execution_count": null,
   "metadata": {},
   "outputs": [],
   "source": [
    "test[0:2]"
   ]
  },
  {
   "cell_type": "markdown",
   "metadata": {},
   "source": [
    "### Ambiguity via ad-hoc polymorphism\n",
    "\n",
    "There is a second way that ambiguity can be implemented, using the mechanism for ad-hoc polymorphism (*disjunctive types*).  This can only be used if the ambiguity involves different types, as ad-hoc polymorphism requires single fixed expressions at any particular type.  The following entry uses ad-hoc polymorphism to write an entry for `a` that works as both a determiner and in predicative sentences.  (The standard semantics 1 approach is to take this to simply be an ambiguity.)"
   ]
  },
  {
   "cell_type": "code",
   "execution_count": null,
   "metadata": {},
   "outputs": [],
   "source": [
    "te(\"Disjunctive((L f_<e,t> : f), (L f_<e,t> : L g_<e,t> : Exists x_e : f(x) & g(x)))\")"
   ]
  },
  {
   "cell_type": "code",
   "execution_count": null,
   "metadata": {},
   "outputs": [],
   "source": [
    "%%lamb\n",
    "||a|| = Disjunctive((L f_<e,t> : f), (L f_<e,t> : L g_<e,t> : Exists x_e : f(x) & g(x)))\n",
    "||cat|| = L x_e : Cat(x)\n",
    "||alfonso|| = A_e\n",
    "||danced|| = L x_e : Dance(x)"
   ]
  },
  {
   "cell_type": "code",
   "execution_count": null,
   "metadata": {},
   "outputs": [],
   "source": [
    "a * cat"
   ]
  },
  {
   "cell_type": "markdown",
   "metadata": {},
   "source": [
    "The following uses the quantificational version of `a`.  It actually doesn't force the quantificational version, because the predicative version can still compose with `danced` via PM -- this could be filtered out by assuming sentences must be type `t`.  (There is a lesson about the pitfalls of ambiguity here.)"
   ]
  },
  {
   "cell_type": "code",
   "execution_count": null,
   "metadata": {},
   "outputs": [],
   "source": [
    "(a * cat) * danced"
   ]
  },
  {
   "cell_type": "markdown",
   "metadata": {},
   "source": [
    "The following forces the predicative interpretation of `a`."
   ]
  },
  {
   "cell_type": "code",
   "execution_count": null,
   "metadata": {},
   "outputs": [],
   "source": [
    "alfonso * (a * cat)"
   ]
  },
  {
   "cell_type": "code",
   "execution_count": null,
   "metadata": {},
   "outputs": [],
   "source": []
  }
 ],
 "metadata": {
  "kernelspec": {
   "display_name": "Lambda Notebook (Python 3)",
   "language": "python",
   "name": "lambda-notebook"
  },
  "language_info": {
   "codemirror_mode": {
    "name": "ipython",
    "version": 3
   },
   "file_extension": ".py",
   "mimetype": "text/x-python",
   "name": "python",
   "nbconvert_exporter": "python",
   "pygments_lexer": "ipython3",
   "version": "3.9.7"
  }
 },
 "nbformat": 4,
 "nbformat_minor": 4
}
