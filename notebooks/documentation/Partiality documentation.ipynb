{
 "cells": [
  {
   "cell_type": "code",
   "execution_count": null,
   "metadata": {},
   "outputs": [],
   "source": [
    "# run this cell first\n",
    "from lamb.meta import Partial\n",
    "lang.set_system(lang.td_presup)\n",
    "lang.get_system()"
   ]
  },
  {
   "cell_type": "markdown",
   "metadata": {},
   "source": [
    "# Presuppositions via partiality\n",
    "\n",
    "The Heim & Kratzer approach to presuppositions works by allowing denotations and functions to be partially defined: the definedness conditions characterize the conditions under which the presupposition is satisfied.  Strictly speaking, it is *only* denotations and functions that involve partiality in this system, that is, not ordinary formulas (to the extent they exist in H&K).  However, it is impossible to implement this without having some representation for partiality in the metalanguage.  This is accomplished with the class `meta.Partial`.  \n",
    "\n",
    "Unlike most subclasses of `TypedExpr`, instances of `Partial` do not have their own unique type -- their type is determined from their content.  Orthogonally to the type system, they layer a typed expression of type `t` on top of that content object, corresponding to the partiality.  They are drawn with two rows between bars.  The following example is the expression of type `e` that refers to `John`, but has a definedness condition that that individual be salient.  In the strict Heim and Kratzer sense, such formulas don't really appear on their own, since definedness conditions like this need to be associated with some denotation, as in the second cell below."
   ]
  },
  {
   "cell_type": "code",
   "execution_count": null,
   "metadata": {},
   "outputs": [],
   "source": [
    "Partial(te(\"John_e\"), te(\"Salient_<e,t>(John_e)\"))"
   ]
  },
  {
   "cell_type": "code",
   "execution_count": null,
   "metadata": {},
   "outputs": [],
   "source": [
    "%%lamb\n",
    "||john|| = Partial(John_e, Salient(John_e))"
   ]
  },
  {
   "cell_type": "markdown",
   "metadata": {},
   "source": [
    "The case where you get partiality in a formula is for partially defined functions.  The notation is basically the same: use `Partial` in the body of a function.  For example, if you take the noun `dog` to presuppose animacy of its argument, you would write that as follows:"
   ]
  },
  {
   "cell_type": "code",
   "execution_count": null,
   "metadata": {},
   "outputs": [],
   "source": [
    "%%lamb\n",
    "||dog|| = L x_e : Partial(Dog(x), Animate(x))"
   ]
  },
  {
   "cell_type": "markdown",
   "metadata": {},
   "source": [
    "More examples (mixed with things I'll use later):"
   ]
  },
  {
   "cell_type": "code",
   "execution_count": null,
   "metadata": {},
   "outputs": [],
   "source": [
    "%%lamb\n",
    "||cat|| = L x_e : Cat(x)\n",
    "#||the|| = L f_<e,t> : Partial((Iota x_e : f(x)), (ExistsExact x_e : f(x)))\n",
    "||the|| = L f_<e,t> : IotaPartial x_e : f(x) & x << C_{e}\n",
    "||everyone|| = L f_<e,t> : Partial((Forall x_e : Sentient(x) ==> f(x)), (Exists x_e : Sentient(x)))\n",
    "||a|| = L f_<e,t> : L g_<e,t> : Exists x_e : f(x) & g(x)\n",
    "||alfonso|| = Alfonso_e\n",
    "||bark|| = L x_e : Partial(Bark(x), Canine(x))\n",
    "||john|| = Partial(John_e, Salient(John_e))\n",
    "testf = L f_<e,t> : L x_e : Partial(f(x), f(x))\n",
    "||saw|| = L y_e : L x_e : Saw(x,y)\n",
    "||POSS|| = L f_<e,<e,t>> : L x_e : Iota y_e : f(x)(y)\n",
    "||brother|| = L x_e : L y_e : BrotherOf(y,x)"
   ]
  },
  {
   "cell_type": "markdown",
   "metadata": {},
   "source": [
    "Reduction of a partially defined function is reasonably straightforward: the variable is replaced as expected in both the ordinary body of the function and in the partiality condition."
   ]
  },
  {
   "cell_type": "code",
   "execution_count": null,
   "metadata": {},
   "outputs": [],
   "source": [
    "dog.content(alfonso.content).reduce()"
   ]
  },
  {
   "cell_type": "markdown",
   "metadata": {},
   "source": [
    "Here's another simple case, where there's really only one presuppositional item in a derivation.  (Here I'm showing full composition directly, which I'll return to.)"
   ]
  },
  {
   "cell_type": "code",
   "execution_count": null,
   "metadata": {},
   "outputs": [],
   "source": [
    "(alfonso * (saw * (alfonso * (POSS * brother))))"
   ]
  },
  {
   "cell_type": "markdown",
   "metadata": {},
   "source": [
    "The above case is easy, but reduction with partiality gets complicated very quickly.  For example, what happens when the argument to a function is partial?  These are cases that as humans working with Heim & Kratzer pseudo-formulas in our head we can usually just get automatically, but they are not at all straightforward to think through mechanically.  Here is an example using the presupposition entry for `dog` above.  The partiality condition resulting from application gets lodged in a subformula under the existential quantifier, which actually binds into the partiality condition.  While this isn't necessarily the true analysis of `dog`, this situation might easily arise e.g. with relative clauses containing presupposition triggers."
   ]
  },
  {
   "cell_type": "code",
   "execution_count": null,
   "metadata": {},
   "outputs": [],
   "source": [
    "a.content(dog.content).reduce_all()"
   ]
  },
  {
   "cell_type": "code",
   "execution_count": null,
   "metadata": {},
   "outputs": [],
   "source": [
    "a.content(dog.content)(bark.content).reduce_all()"
   ]
  },
  {
   "cell_type": "markdown",
   "metadata": {},
   "source": [
    "Simplifying this requires some semantics for the metalanguage (i.e. a formal understanding of what partiality should amount to in expressions like this).  The projection problem to some degree rests on this as well.  What the lambda notebook implements for this composition system is a fairly strict notion of partiality (that sometimes does odd things).  It is important to be clear that this is **not** a three-valued logic, and will behave quite differently from the usual three-valued logics used for projection in a range of cases.\n",
    "\n",
    "Another thing to know is that the lambda notebook will not fully simplify quantified formulas with partiality until beta reduction is complete: this is done because the possibility of reducing with arguments that are themselves partial greatly complicates the picture.\n",
    "\n",
    "The result of projecting the partiality out of the subformula above can be seen by composing the three NL items together.  As a rule, this sort of inference is not automatically triggered in the metalanguage ever, but is always triggered by composition (following the Heim and Kratzer treatment of partiality, I would argue).  This could be forced in the metalanguage by calling `calculate_partiality()` on a `TypedExpr`."
   ]
  },
  {
   "cell_type": "code",
   "execution_count": null,
   "metadata": {},
   "outputs": [],
   "source": [
    "(a * dog)"
   ]
  },
  {
   "cell_type": "code",
   "execution_count": null,
   "metadata": {},
   "outputs": [],
   "source": [
    "((a * dog) * bark)"
   ]
  },
  {
   "cell_type": "code",
   "execution_count": null,
   "metadata": {},
   "outputs": [],
   "source": [
    "((a * dog) * bark)[0].content.derivation"
   ]
  },
  {
   "cell_type": "markdown",
   "metadata": {},
   "source": [
    "Things can get more complicated when presuppositions interact; here is an example composing `the` with the entry above for `dog`.  `The` is defined here using a version of $\\iota$ that will always lead to an $\\exists !$ partiality condition."
   ]
  },
  {
   "cell_type": "code",
   "execution_count": null,
   "metadata": {},
   "outputs": [],
   "source": [
    "(the * dog)"
   ]
  },
  {
   "cell_type": "markdown",
   "metadata": {},
   "source": [
    "Here's another example of (plausibly) this type of noun:"
   ]
  },
  {
   "cell_type": "code",
   "execution_count": null,
   "metadata": {},
   "outputs": [],
   "source": [
    "%%lamb\n",
    "||bachelor|| = L x_e : Partial(Unmarried(x) & Male(x) & Adult(x), Adult(x))"
   ]
  },
  {
   "cell_type": "code",
   "execution_count": null,
   "metadata": {},
   "outputs": [],
   "source": [
    "the * bachelor"
   ]
  },
  {
   "cell_type": "markdown",
   "metadata": {},
   "source": [
    "The interaction with quantifiers is generally kind of complicated."
   ]
  },
  {
   "cell_type": "code",
   "execution_count": null,
   "metadata": {},
   "outputs": [],
   "source": [
    "(everyone * bachelor)[0].content.derivation# \"everyone is a bachelor\""
   ]
  },
  {
   "cell_type": "code",
   "execution_count": null,
   "metadata": {},
   "outputs": [],
   "source": [
    "(everyone * (saw * john))"
   ]
  },
  {
   "cell_type": "code",
   "execution_count": null,
   "metadata": {},
   "outputs": [],
   "source": [
    "# everyone saw everyone\n",
    "# note: the result here can be simplified (but is beyond the scope of lamb's simplification code)! It doesn't presuppose two distinct sentient individuals.\n",
    "(everyone * (lang.Binder(1) * (everyone * (lang.Binder(2) * (lang.Trace(1) * (saw * lang.Trace(2)))))))"
   ]
  },
  {
   "cell_type": "markdown",
   "metadata": {},
   "source": [
    "Next I give some more complicated examples involving binding of possessive pronouns:\n",
    "\n",
    "    (1) John likes his_5 brother.\n",
    "    (2) Every_6 student who_5 likes his_5 brother likes his_6 sister.\n",
    "  \n",
    "The resulting presuppositions are quite complicated and take some work to get through, though they aren't so crazy. Binding also tends to generate redundancy in the presuppositions (since there is no general-purpose simplification algorithm in place)."
   ]
  },
  {
   "cell_type": "code",
   "execution_count": null,
   "metadata": {},
   "outputs": [],
   "source": [
    "male_prop = %te L x_e : Male_<e,t>(x)\n",
    "himi = lang.PresupPronoun.index_factory(\"him\", male_prop)\n",
    "himi(5)"
   ]
  },
  {
   "cell_type": "code",
   "execution_count": null,
   "metadata": {},
   "outputs": [],
   "source": []
  },
  {
   "cell_type": "markdown",
   "metadata": {},
   "source": [
    "Side-note: notice that binding a pronoun of this sort always generates a partial function."
   ]
  },
  {
   "cell_type": "code",
   "execution_count": null,
   "metadata": {},
   "outputs": [],
   "source": [
    "%%lamb\n",
    "||john|| = Partial(John_e, Salient(John_e))\n",
    "||student|| = L x_e : Student(x)\n",
    "||likes|| = L x_e : L y_e : Likes(y,x)\n",
    "||brother|| = L x_e : L y_e : BrotherOf(y,x)\n",
    "||sister|| = L x_e : L y_e : SisterOf(y,x)\n",
    "||every|| = L f_<e,t> : L g_<e,t> : Partial((Forall x_e : f(x) ==> g(x)), (Exists x_e : f(x)))\n",
    "\n",
    "||POSS|| = L f_<e,<e,t>> : L x_e : IotaPartial y_e : f(x)(y)"
   ]
  },
  {
   "cell_type": "code",
   "execution_count": null,
   "metadata": {},
   "outputs": [],
   "source": [
    "(john * (likes * (himi(5) * (POSS * brother))))"
   ]
  },
  {
   "cell_type": "code",
   "execution_count": null,
   "metadata": {},
   "outputs": [],
   "source": [
    "# compute the subject: \"[every student [5 [that t_5 likes his_5 brother]]]\"\n",
    "subject = (every * (student * (lang.Binder(5) * ((lang.Trace(5) * (likes * (himi(5) * (POSS * brother))))))))\n",
    "subject"
   ]
  },
  {
   "cell_type": "markdown",
   "metadata": {},
   "source": [
    "The ultimate result is very complex:"
   ]
  },
  {
   "cell_type": "code",
   "execution_count": null,
   "metadata": {},
   "outputs": [],
   "source": [
    "# assume that the subject has QR'd in order to bind the possessive pronoun\n",
    "subject * (lang.Binder(6) * (lang.Trace(6) * (likes * (himi(6) * (POSS * sister)))))"
   ]
  },
  {
   "cell_type": "code",
   "execution_count": null,
   "metadata": {},
   "outputs": [],
   "source": []
  },
  {
   "cell_type": "markdown",
   "metadata": {},
   "source": [
    "This could all benefit from much more robust simplification algorithms."
   ]
  },
  {
   "cell_type": "markdown",
   "metadata": {},
   "source": [
    "### Appendix: calculate_partiality reference\n",
    "\n",
    "There are two modes for calculating partiality with variable-binding expressions. They are best thought of in terms of the model theory.  In *weak* mode, the projected partiality condition to the domain is the minimum to support the truth or falsity of a the quantified body, with the same value for the variable in both the body and the condition. In several cases, the body will also need to incorporate the condition.  In *strict* mode, the entire domain must satisfy the condition for the quantification to get off the ground. Strict mode is easier to understand, and probably more natural from the model-theoretic perspective, but unfortunately it isn't very useful in practical terms because the projected partiality conditions are very strong.\n",
    "\n",
    "In both systems, lambda operators will block projection until they have been eliminated by beta-reduction, and variables bound by lambda functions will also block projection.  The latter is to enforce a reduction $\\gg$ partiality-calculation order, which is not necessary in principle but greatly aids in simplification."
   ]
  },
  {
   "cell_type": "code",
   "execution_count": null,
   "metadata": {},
   "outputs": [],
   "source": [
    "reload_lamb()"
   ]
  },
  {
   "cell_type": "code",
   "execution_count": null,
   "metadata": {},
   "outputs": [],
   "source": [
    "meta.BindingOp.partiality_weak = True # default"
   ]
  },
  {
   "cell_type": "code",
   "execution_count": null,
   "metadata": {},
   "outputs": [],
   "source": [
    "te(\"Forall x_e : Partial(P_<e,t>(x), Q_<e,t>(x))\").calculate_partiality()"
   ]
  },
  {
   "cell_type": "code",
   "execution_count": null,
   "metadata": {},
   "outputs": [],
   "source": [
    "te(\"Exists x_e : Partial(P_<e,t>(x), Q_<e,t>(x))\").calculate_partiality()"
   ]
  },
  {
   "cell_type": "code",
   "execution_count": null,
   "metadata": {},
   "outputs": [],
   "source": [
    "te(\"Lambda x_e : Partial(P_<e,t>(x), Q_<e,t>(x))\").calculate_partiality()"
   ]
  },
  {
   "cell_type": "code",
   "execution_count": null,
   "metadata": {},
   "outputs": [],
   "source": [
    "te(\"ExistsExact x_e : Partial(P_<e,t>(x), Q_<e,t>(x))\").calculate_partiality()"
   ]
  },
  {
   "cell_type": "code",
   "execution_count": null,
   "metadata": {},
   "outputs": [],
   "source": [
    "te(\"ExistsExact x_e : P_<e,t>(x)\").calculate_partiality()"
   ]
  },
  {
   "cell_type": "code",
   "execution_count": null,
   "metadata": {},
   "outputs": [],
   "source": [
    "te(\"Iota x_e : Partial(P_<e,t>(x), Q_<e,t>(x))\").calculate_partiality()"
   ]
  },
  {
   "cell_type": "code",
   "execution_count": null,
   "metadata": {},
   "outputs": [],
   "source": [
    "te(\"Iota x_e : P_<e,t>(x)\").calculate_partiality()"
   ]
  },
  {
   "cell_type": "markdown",
   "metadata": {},
   "source": [
    "The `IotaPartial` class ensures an exactness partiality condition."
   ]
  },
  {
   "cell_type": "code",
   "execution_count": null,
   "metadata": {},
   "outputs": [],
   "source": [
    "te(\"IotaPartial x_e : Partial(P_<e,t>(x), Q_<e,t>(x))\").calculate_partiality()"
   ]
  },
  {
   "cell_type": "code",
   "execution_count": null,
   "metadata": {},
   "outputs": [],
   "source": [
    "te(\"IotaPartial x_e : P_<e,t>(x)\").calculate_partiality()"
   ]
  },
  {
   "cell_type": "code",
   "execution_count": null,
   "metadata": {},
   "outputs": [],
   "source": []
  },
  {
   "cell_type": "code",
   "execution_count": null,
   "metadata": {},
   "outputs": [],
   "source": [
    "# it's unclear whether this is right, but it is based on Lambda.\n",
    "te(\"Set x_e : Partial(P_<e,t>(x), Q_<e,t>(x))\").calculate_partiality()"
   ]
  },
  {
   "cell_type": "code",
   "execution_count": null,
   "metadata": {},
   "outputs": [],
   "source": [
    "te(\"A_e << (Set x_e : Partial(P_<e,t>(x), Q_<e,t>(x)))\").reduce_all().calculate_partiality()"
   ]
  },
  {
   "cell_type": "code",
   "execution_count": null,
   "metadata": {},
   "outputs": [],
   "source": [
    "reload_lamb()\n",
    "meta.BindingOp.partiality_weak = False"
   ]
  },
  {
   "cell_type": "code",
   "execution_count": null,
   "metadata": {},
   "outputs": [],
   "source": [
    "te(\"Forall x_e : Partial(P_<e,t>(x), Q_<e,t>(x))\").calculate_partiality()"
   ]
  },
  {
   "cell_type": "code",
   "execution_count": null,
   "metadata": {},
   "outputs": [],
   "source": [
    "te(\"Exists x_e : Partial(P_<e,t>(x), Q_<e,t>(x))\").calculate_partiality()"
   ]
  },
  {
   "cell_type": "code",
   "execution_count": null,
   "metadata": {},
   "outputs": [],
   "source": [
    "te(\"Lambda x_e : Partial(P_<e,t>(x), Q_<e,t>(x))\").calculate_partiality()"
   ]
  },
  {
   "cell_type": "code",
   "execution_count": null,
   "metadata": {},
   "outputs": [],
   "source": [
    "te(\"ExistsExact x_e : Partial(P_<e,t>(x), Q_<e,t>(x))\").calculate_partiality()"
   ]
  },
  {
   "cell_type": "code",
   "execution_count": null,
   "metadata": {},
   "outputs": [],
   "source": [
    "te(\"ExistsExact x_e : P_<e,t>(x)\").calculate_partiality()"
   ]
  },
  {
   "cell_type": "code",
   "execution_count": null,
   "metadata": {},
   "outputs": [],
   "source": [
    "te(\"Iota x_e : Partial(P_<e,t>(x), Q_<e,t>(x))\").calculate_partiality()"
   ]
  },
  {
   "cell_type": "code",
   "execution_count": null,
   "metadata": {},
   "outputs": [],
   "source": [
    "te(\"Iota x_e : P_<e,t>(x)\").calculate_partiality()"
   ]
  },
  {
   "cell_type": "code",
   "execution_count": null,
   "metadata": {},
   "outputs": [],
   "source": [
    "te(\"IotaPartial x_e : Partial(P_<e,t>(x), Q_<e,t>(x))\").calculate_partiality()"
   ]
  },
  {
   "cell_type": "code",
   "execution_count": null,
   "metadata": {},
   "outputs": [],
   "source": [
    "te(\"IotaPartial x_e : P_<e,t>(x)\").calculate_partiality()"
   ]
  },
  {
   "cell_type": "code",
   "execution_count": null,
   "metadata": {},
   "outputs": [],
   "source": [
    "# it's unclear whether this is right, but it is based on Lambda.\n",
    "te(\"Set x_e : Partial(P_<e,t>(x), Q_<e,t>(x))\").calculate_partiality()"
   ]
  },
  {
   "cell_type": "code",
   "execution_count": null,
   "metadata": {},
   "outputs": [],
   "source": [
    "te(\"A_e << (Set x_e : Partial(P_<e,t>(x), Q_<e,t>(x)))\").reduce_all().calculate_partiality()"
   ]
  },
  {
   "cell_type": "code",
   "execution_count": null,
   "metadata": {},
   "outputs": [],
   "source": []
  },
  {
   "cell_type": "markdown",
   "metadata": {},
   "source": [
    "Currently, Predicate Abstraction interacts poorly with partiality calculation; this is harmless but can produce redundant partiality conditions. Here's an example:"
   ]
  },
  {
   "cell_type": "code",
   "execution_count": null,
   "metadata": {},
   "outputs": [],
   "source": [
    "male_prop = %te L x_e : Male_<e,t>(x)\n",
    "himi = lang.PresupPronoun.index_factory(\"him\", male_prop)\n",
    "himi(5)"
   ]
  },
  {
   "cell_type": "code",
   "execution_count": null,
   "metadata": {},
   "outputs": [],
   "source": [
    "%%lamb\n",
    "||someone|| = L f_<e,t> : Exists x_e : f(x)\n",
    "||saw|| = L x_e : L y_e : Saw(y,x)\n",
    "||alfonso|| = Partial(Alfonso_e, Salient(Alfonso_e))"
   ]
  },
  {
   "cell_type": "code",
   "execution_count": null,
   "metadata": {},
   "outputs": [],
   "source": [
    "(((someone * (saw * himi(2))) * lang.Binder(2)) * alfonso)[0].content.calculate_partiality()"
   ]
  },
  {
   "cell_type": "code",
   "execution_count": null,
   "metadata": {},
   "outputs": [],
   "source": []
  },
  {
   "cell_type": "code",
   "execution_count": null,
   "metadata": {},
   "outputs": [],
   "source": [
    "%lamb ||cat|| = L x_e : Cat(x)\n",
    "%lamb ||the|| = L f_<e,t> : IotaPartial x : f(x)\n",
    "#((the * cat) * cat)[0].content.calculate_partiality()"
   ]
  },
  {
   "cell_type": "code",
   "execution_count": null,
   "metadata": {},
   "outputs": [],
   "source": [
    "the * cat"
   ]
  },
  {
   "cell_type": "code",
   "execution_count": null,
   "metadata": {},
   "outputs": [],
   "source": [
    "lamb.lang.presup_fa(the.content, cat.content)"
   ]
  },
  {
   "cell_type": "code",
   "execution_count": null,
   "metadata": {},
   "outputs": [],
   "source": [
    "lang.get_system()"
   ]
  },
  {
   "cell_type": "code",
   "execution_count": null,
   "metadata": {},
   "outputs": [],
   "source": [
    "(the * cat).tree()"
   ]
  },
  {
   "cell_type": "code",
   "execution_count": null,
   "metadata": {},
   "outputs": [],
   "source": []
  }
 ],
 "metadata": {
  "kernelspec": {
   "display_name": "Lambda Notebook (Python 3)",
   "language": "python",
   "name": "lambda-notebook"
  },
  "language_info": {
   "codemirror_mode": {
    "name": "ipython",
    "version": 3
   },
   "file_extension": ".py",
   "mimetype": "text/x-python",
   "name": "python",
   "nbconvert_exporter": "python",
   "pygments_lexer": "ipython3",
   "version": "3.11.5"
  }
 },
 "nbformat": 4,
 "nbformat_minor": 4
}
