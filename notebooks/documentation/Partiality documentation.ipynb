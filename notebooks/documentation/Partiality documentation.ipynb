{
 "cells": [
  {
   "cell_type": "code",
   "execution_count": 1,
   "metadata": {},
   "outputs": [
    {
     "data": {
      "text/html": [
       "Composition system 'Type-driven with partiality'<br />Operations: {<br />&nbsp;&nbsp;&nbsp;&nbsp;Binary composition rule <i>FA</i>, built on python function 'lamb.lang.presup_fa'<br />&nbsp;&nbsp;&nbsp;&nbsp;Binary composition rule <i>PM</i>, built on python function 'lamb.lang.presup_pm'<br />&nbsp;&nbsp;&nbsp;&nbsp;Binary composition rule <i>PA</i>, built on python function 'lamb.lang.presup_pa'<br />}"
      ],
      "text/plain": [
       "Composition system: Type-driven with partiality"
      ]
     },
     "execution_count": 1,
     "metadata": {},
     "output_type": "execute_result"
    }
   ],
   "source": [
    "# run this cell first\n",
    "from lamb.meta import Partial\n",
    "lang.set_system(lang.td_presup)\n",
    "lang.get_system()"
   ]
  },
  {
   "cell_type": "markdown",
   "metadata": {},
   "source": [
    "# Presuppositions via partiality\n",
    "\n",
    "The Heim & Kratzer approach to presuppositions works by allowing denotations and functions to be partially defined: the definedness conditions characterize the conditions under which the presupposition is satisfied.  Strictly speaking, it is *only* denotations and functions that involve partiality in this system, that is, not ordinary formulas (to the extent they exist in H&K).  However, it is impossible to implement this without having some representation for partiality in the metalanguage.  This is accomplished with the class `meta.Partial`.  \n",
    "\n",
    "Unlike most subclasses of `TypedExpr`, instances of `Partial` do not have their own unique type -- their type is determined from their content.  Orthogonally to the type system, they layer a typed expression of type `t` on top of that content object, corresponding to the partiality.  They are drawn with two rows between bars.  The following example is the expression of type `e` that refers to `John`, but has a definedness condition that that individual be salient.  In the strict Heim and Kratzer sense, such formulas don't really appear on their own, since definedness conditions like this need to be associated with some denotation, as in the second cell below."
   ]
  },
  {
   "cell_type": "code",
   "execution_count": 2,
   "metadata": {},
   "outputs": [
    {
     "data": {
      "text/latex": [
       "$\\left|\\begin{array}{l}{John}_{e}\\\\{Salient}({John}_{e})\\end{array}\\right|$"
      ],
      "text/plain": [
       "(John_e Partial Salient_<e,t>(John_e))"
      ]
     },
     "execution_count": 2,
     "metadata": {},
     "output_type": "execute_result"
    }
   ],
   "source": [
    "Partial(te(\"John_e\"), te(\"Salient_<e,t>(John_e)\"))"
   ]
  },
  {
   "cell_type": "code",
   "execution_count": 3,
   "metadata": {},
   "outputs": [
    {
     "name": "stdout",
     "output_type": "stream",
     "text": [
      "INFO (core): Coerced guessed type for 'Salient_t' into <e,t>, to match argument 'John_e'\n"
     ]
    },
    {
     "data": {
      "text/markdown": [
       "$[\\![\\text{\\textbf{john}}]\\!]^{}_{e} \\:=\\: \\left|\\begin{array}{l}{John}_{e}\\\\{Salient}({John}_{e})\\end{array}\\right|$"
      ],
      "text/plain": [
       "⟦john⟧ = (John_e Partial Salient_<e,t>(John_e))"
      ]
     },
     "metadata": {},
     "output_type": "display_data"
    }
   ],
   "source": [
    "%%lamb\n",
    "||john|| = Partial(John_e, Salient(John_e))"
   ]
  },
  {
   "cell_type": "markdown",
   "metadata": {},
   "source": [
    "The case where you get partiality in a formula is for partially defined functions.  The notation is basically the same: use `Partial` in the body of a function.  For example, if you take the noun `dog` to presuppose animacy of its argument, you would write that as follows:"
   ]
  },
  {
   "cell_type": "code",
   "execution_count": 4,
   "metadata": {},
   "outputs": [
    {
     "name": "stdout",
     "output_type": "stream",
     "text": [
      "INFO (core): Coerced guessed type for 'Dog_t' into <e,t>, to match argument 'x_e'\n",
      "INFO (core): Coerced guessed type for 'Animate_t' into <e,t>, to match argument 'x_e'\n"
     ]
    },
    {
     "data": {
      "text/markdown": [
       "$[\\![\\text{\\textbf{dog}}]\\!]^{}_{\\left\\langle{}e,t\\right\\rangle{}} \\:=\\: \\lambda{} x_{e} \\: . \\: \\left|\\begin{array}{l}{Dog}({x})\\\\{Animate}({x})\\end{array}\\right|$"
      ],
      "text/plain": [
       "⟦dog⟧ = (λ x_e: (Dog_<e,t>(x_e) Partial Animate_<e,t>(x_e)))"
      ]
     },
     "metadata": {},
     "output_type": "display_data"
    }
   ],
   "source": [
    "%%lamb\n",
    "||dog|| = L x_e : Partial(Dog(x), Animate(x))"
   ]
  },
  {
   "cell_type": "markdown",
   "metadata": {},
   "source": [
    "More examples (mixed with things I'll use later):"
   ]
  },
  {
   "cell_type": "code",
   "execution_count": 5,
   "metadata": {},
   "outputs": [
    {
     "name": "stdout",
     "output_type": "stream",
     "text": [
      "INFO (core): Coerced guessed type for 'Cat_t' into <e,t>, to match argument 'x_e'\n",
      "INFO (core): Coerced guessed type for 'Sentient_t' into <e,t>, to match argument 'x_e'\n",
      "INFO (core): Coerced guessed type for 'Sentient_t' into <e,t>, to match argument 'x_e'\n",
      "INFO (core): Coerced guessed type for 'Bark_t' into <e,t>, to match argument 'x_e'\n",
      "INFO (core): Coerced guessed type for 'Canine_t' into <e,t>, to match argument 'x_e'\n",
      "INFO (core): Coerced guessed type for 'Salient_t' into <e,t>, to match argument 'John_e'\n",
      "INFO (core): Coerced guessed type for 'Saw_t' into <(e,e),t>, to match argument '(x_e, y_e)'\n",
      "INFO (core): Coerced guessed type for 'BrotherOf_t' into <(e,e),t>, to match argument '(y_e, x_e)'\n"
     ]
    },
    {
     "data": {
      "text/markdown": [
       "$[\\![\\text{\\textbf{cat}}]\\!]^{}_{\\left\\langle{}e,t\\right\\rangle{}} \\:=\\: \\lambda{} x_{e} \\: . \\: {Cat}({x})$<br />\n",
       "$[\\![\\text{\\textbf{the}}]\\!]^{}_{\\left\\langle{}\\left\\langle{}e,t\\right\\rangle{},e\\right\\rangle{}} \\:=\\: \\lambda{} f_{\\left\\langle{}e,t\\right\\rangle{}} \\: . \\: \\iota{} x_{e} \\: . \\: ({f}({x}) \\wedge{} ({x} \\in{} {C}_{\\left\\{e\\right\\}}))$<br />\n",
       "$[\\![\\text{\\textbf{everyone}}]\\!]^{}_{\\left\\langle{}\\left\\langle{}e,t\\right\\rangle{},t\\right\\rangle{}} \\:=\\: \\lambda{} f_{\\left\\langle{}e,t\\right\\rangle{}} \\: . \\: \\left|\\begin{array}{l}\\forall{} x_{e} \\: . \\: ({Sentient}({x}) \\rightarrow{} {f}({x}))\\\\\\exists{} x_{e} \\: . \\: {Sentient}({x})\\end{array}\\right|$<br />\n",
       "$[\\![\\text{\\textbf{a}}]\\!]^{}_{\\left\\langle{}\\left\\langle{}e,t\\right\\rangle{},\\left\\langle{}\\left\\langle{}e,t\\right\\rangle{},t\\right\\rangle{}\\right\\rangle{}} \\:=\\: \\lambda{} f_{\\left\\langle{}e,t\\right\\rangle{}} \\: . \\: \\lambda{} g_{\\left\\langle{}e,t\\right\\rangle{}} \\: . \\: \\exists{} x_{e} \\: . \\: ({f}({x}) \\wedge{} {g}({x}))$<br />\n",
       "$[\\![\\text{\\textbf{alfonso}}]\\!]^{}_{e} \\:=\\: {Alfonso}_{e}$<br />\n",
       "$[\\![\\text{\\textbf{bark}}]\\!]^{}_{\\left\\langle{}e,t\\right\\rangle{}} \\:=\\: \\lambda{} x_{e} \\: . \\: \\left|\\begin{array}{l}{Bark}({x})\\\\{Canine}({x})\\end{array}\\right|$<br />\n",
       "$[\\![\\text{\\textbf{john}}]\\!]^{}_{e} \\:=\\: \\left|\\begin{array}{l}{John}_{e}\\\\{Salient}({John}_{e})\\end{array}\\right|$<br />\n",
       "${testf}_{\\left\\langle{}\\left\\langle{}e,t\\right\\rangle{},\\left\\langle{}e,t\\right\\rangle{}\\right\\rangle{}}\\:=\\:\\lambda{} f_{\\left\\langle{}e,t\\right\\rangle{}} \\: . \\: \\lambda{} x_{e} \\: . \\: \\left|\\begin{array}{l}{f}({x})\\\\{f}({x})\\end{array}\\right|$<br />\n",
       "$[\\![\\text{\\textbf{saw}}]\\!]^{}_{\\left\\langle{}e,\\left\\langle{}e,t\\right\\rangle{}\\right\\rangle{}} \\:=\\: \\lambda{} y_{e} \\: . \\: \\lambda{} x_{e} \\: . \\: {Saw}({x}, {y})$<br />\n",
       "$[\\![\\text{\\textbf{POSS}}]\\!]^{}_{\\left\\langle{}\\left\\langle{}e,\\left\\langle{}e,t\\right\\rangle{}\\right\\rangle{},\\left\\langle{}e,e\\right\\rangle{}\\right\\rangle{}} \\:=\\: \\lambda{} f_{\\left\\langle{}e,\\left\\langle{}e,t\\right\\rangle{}\\right\\rangle{}} \\: . \\: \\lambda{} x_{e} \\: . \\: \\iota{} y_{e} \\: . \\: {f}({x})({y})$<br />\n",
       "$[\\![\\text{\\textbf{brother}}]\\!]^{}_{\\left\\langle{}e,\\left\\langle{}e,t\\right\\rangle{}\\right\\rangle{}} \\:=\\: \\lambda{} x_{e} \\: . \\: \\lambda{} y_{e} \\: . \\: {BrotherOf}({y}, {x})$"
      ],
      "text/plain": [
       "⟦cat⟧ = (λ x_e: Cat_<e,t>(x_e))\n",
       "⟦the⟧ = (λ f_<e,t>: (IotaPartial x_e: (f_<e,t>(x_e) & (x_e << C_{e}))))\n",
       "⟦everyone⟧ = (λ f_<e,t>: ((Forall x_e: (Sentient_<e,t>(x_e) >> f_<e,t>(x_e))) Partial (Exists x_e: Sentient_<e,t>(x_e))))\n",
       "⟦a⟧ = (λ f_<e,t>: (λ g_<e,t>: (Exists x_e: (f_<e,t>(x_e) & g_<e,t>(x_e)))))\n",
       "⟦alfonso⟧ = Alfonso_e\n",
       "⟦bark⟧ = (λ x_e: (Bark_<e,t>(x_e) Partial Canine_<e,t>(x_e)))\n",
       "⟦john⟧ = (John_e Partial Salient_<e,t>(John_e))\n",
       "testf_<<e,t>,<e,t>> = (λ f_<e,t>: (λ x_e: (f_<e,t>(x_e) Partial f_<e,t>(x_e))))\n",
       "⟦saw⟧ = (λ y_e: (λ x_e: Saw_<(e,e),t>(x_e, y_e)))\n",
       "⟦POSS⟧ = (λ f_<e,<e,t>>: (λ x_e: (ι y_e: f_<e,<e,t>>(x_e)(y_e))))\n",
       "⟦brother⟧ = (λ x_e: (λ y_e: BrotherOf_<(e,e),t>(y_e, x_e)))"
      ]
     },
     "metadata": {},
     "output_type": "display_data"
    }
   ],
   "source": [
    "%%lamb\n",
    "||cat|| = L x_e : Cat(x)\n",
    "#||the|| = L f_<e,t> : Partial((Iota x_e : f(x)), (ExistsExact x_e : f(x)))\n",
    "||the|| = L f_<e,t> : IotaPartial x_e : f(x) & x << C_{e}\n",
    "||everyone|| = L f_<e,t> : Partial((Forall x_e : Sentient(x) ==> f(x)), (Exists x_e : Sentient(x)))\n",
    "||a|| = L f_<e,t> : L g_<e,t> : Exists x_e : f(x) & g(x)\n",
    "||alfonso|| = Alfonso_e\n",
    "||bark|| = L x_e : Partial(Bark(x), Canine(x))\n",
    "||john|| = Partial(John_e, Salient(John_e))\n",
    "testf = L f_<e,t> : L x_e : Partial(f(x), f(x))\n",
    "||saw|| = L y_e : L x_e : Saw(x,y)\n",
    "||POSS|| = L f_<e,<e,t>> : L x_e : Iota y_e : f(x)(y)\n",
    "||brother|| = L x_e : L y_e : BrotherOf(y,x)"
   ]
  },
  {
   "cell_type": "markdown",
   "metadata": {},
   "source": [
    "Reduction of a partially defined function is reasonably straightforward: the variable is replaced as expected in both the ordinary body of the function and in the partiality condition."
   ]
  },
  {
   "cell_type": "code",
   "execution_count": 6,
   "metadata": {},
   "outputs": [
    {
     "data": {
      "text/latex": [
       "$\\left|\\begin{array}{l}{Dog}({Alfonso}_{e})\\\\{Animate}({Alfonso}_{e})\\end{array}\\right|$"
      ],
      "text/plain": [
       "(Dog_<e,t>(Alfonso_e) Partial Animate_<e,t>(Alfonso_e))"
      ]
     },
     "execution_count": 6,
     "metadata": {},
     "output_type": "execute_result"
    }
   ],
   "source": [
    "dog.content(alfonso.content).reduce()"
   ]
  },
  {
   "cell_type": "markdown",
   "metadata": {},
   "source": [
    "Here's another simple case, where there's really only one presuppositional item in a derivation.  (Here I'm showing full composition directly, which I'll return to.)"
   ]
  },
  {
   "cell_type": "code",
   "execution_count": 7,
   "metadata": {},
   "outputs": [
    {
     "data": {
      "text/markdown": [
       "1 composition path.  Result:<br />\n",
       "&nbsp;&nbsp;&nbsp;&nbsp;[0]: $[\\![\\text{\\textbf{[[saw [[POSS brother] alfonso]] alfonso]}}]\\!]^{}_{t} \\:=\\: {Saw}({Alfonso}_{e}, \\iota{} y_{e} \\: . \\: {BrotherOf}({y}, {Alfonso}_{e}))$"
      ],
      "text/plain": [
       "1 composition path.  Result:\n",
       "    [0]: ⟦[saw [[POSS brother] alfonso]]⟧ * ⟦alfonso⟧ leads to: ⟦[[saw [[POSS brother] alfonso]] alfonso]⟧ = Saw_<(e,e),t>(Alfonso_e, (ι y_e: BrotherOf_<(e,e),t>(y_e, Alfonso_e))) [by FA]"
      ]
     },
     "metadata": {},
     "output_type": "display_data"
    }
   ],
   "source": [
    "(alfonso * (saw * (alfonso * (POSS * brother))))"
   ]
  },
  {
   "cell_type": "markdown",
   "metadata": {},
   "source": [
    "The above case is easy, but reduction with partiality gets complicated very quickly.  For example, what happens when the argument to a function is partial?  These are cases that as humans working with Heim & Kratzer pseudo-formulas in our head we can usually just get automatically, but they are not at all straightforward to think through mechanically.  Here is an example using the presupposition entry for `dog` above.  The partiality condition resulting from application gets lodged in a subformula under the existential quantifier, which actually binds into the partiality condition.  While this isn't necessarily the true analysis of `dog`, this situation might easily arise e.g. with relative clauses containing presupposition triggers."
   ]
  },
  {
   "cell_type": "code",
   "execution_count": 8,
   "metadata": {},
   "outputs": [
    {
     "data": {
      "text/latex": [
       "$\\lambda{} g_{\\left\\langle{}e,t\\right\\rangle{}} \\: . \\: \\exists{} x_{e} \\: . \\: (\\left|\\begin{array}{l}{Dog}({x})\\\\{Animate}({x})\\end{array}\\right| \\wedge{} {g}({x}))$"
      ],
      "text/plain": [
       "(λ g_<e,t>: (Exists x_e: ((Dog_<e,t>(x_e) Partial Animate_<e,t>(x_e)) & g_<e,t>(x_e))))"
      ]
     },
     "execution_count": 8,
     "metadata": {},
     "output_type": "execute_result"
    }
   ],
   "source": [
    "a.content(dog.content).reduce_all()"
   ]
  },
  {
   "cell_type": "code",
   "execution_count": 9,
   "metadata": {},
   "outputs": [
    {
     "data": {
      "text/latex": [
       "$\\exists{} x_{e} \\: . \\: (\\left|\\begin{array}{l}{Dog}({x})\\\\{Animate}({x})\\end{array}\\right| \\wedge{} \\left|\\begin{array}{l}{Bark}({x})\\\\{Canine}({x})\\end{array}\\right|)$"
      ],
      "text/plain": [
       "(Exists x_e: ((Dog_<e,t>(x_e) Partial Animate_<e,t>(x_e)) & (Bark_<e,t>(x_e) Partial Canine_<e,t>(x_e))))"
      ]
     },
     "execution_count": 9,
     "metadata": {},
     "output_type": "execute_result"
    }
   ],
   "source": [
    "a.content(dog.content)(bark.content).reduce_all()"
   ]
  },
  {
   "cell_type": "markdown",
   "metadata": {},
   "source": [
    "Simplifying this requires some semantics for the metalanguage (i.e. a formal understanding of what partiality should amount to in expressions like this).  The projection problem to some degree rests on this as well.  What the lambda notebook implements for this composition system is a fairly strict notion of partiality (that sometimes does odd things).  It is important to be clear that this is **not** a three-valued logic, and will behave quite differently from the usual three-valued logics used for projection in a range of cases.\n",
    "\n",
    "Another thing to know is that the lambda notebook will not fully simplify quantified formulas with partiality until beta reduction is complete: this is done because the possibility of reducing with arguments that are themselves partial greatly complicates the picture.\n",
    "\n",
    "The result of projecting the partiality out of the subformula above can be seen by composing the three NL items together.  As a rule, this sort of inference is not automatically triggered in the metalanguage ever, but is always triggered by composition (following the Heim and Kratzer treatment of partiality, I would argue).  This could be forced in the metalanguage by calling `calculate_partiality()` on a `TypedExpr`."
   ]
  },
  {
   "cell_type": "code",
   "execution_count": 10,
   "metadata": {},
   "outputs": [
    {
     "data": {
      "text/markdown": [
       "1 composition path.  Result:<br />\n",
       "&nbsp;&nbsp;&nbsp;&nbsp;[0]: $[\\![\\text{\\textbf{[a dog]}}]\\!]^{}_{\\left\\langle{}\\left\\langle{}e,t\\right\\rangle{},t\\right\\rangle{}} \\:=\\: \\lambda{} g_{\\left\\langle{}e,t\\right\\rangle{}} \\: . \\: \\exists{} x_{e} \\: . \\: (\\left|\\begin{array}{l}{Dog}({x})\\\\{Animate}({x})\\end{array}\\right| \\wedge{} {g}({x}))$"
      ],
      "text/plain": [
       "1 composition path.  Result:\n",
       "    [0]: ⟦a⟧ * ⟦dog⟧ leads to: ⟦[a dog]⟧ = (λ g_<e,t>: (Exists x_e: ((Dog_<e,t>(x_e) Partial Animate_<e,t>(x_e)) & g_<e,t>(x_e)))) [by FA]"
      ]
     },
     "metadata": {},
     "output_type": "display_data"
    }
   ],
   "source": [
    "(a * dog)"
   ]
  },
  {
   "cell_type": "code",
   "execution_count": 11,
   "metadata": {},
   "outputs": [
    {
     "data": {
      "text/markdown": [
       "1 composition path.  Result:<br />\n",
       "&nbsp;&nbsp;&nbsp;&nbsp;[0]: $[\\![\\text{\\textbf{[[a dog] bark]}}]\\!]^{}_{t} \\:=\\: \\left|\\begin{array}{l}\\exists{} x_{e} \\: . \\: (({Dog}({x}) \\wedge{} {Bark}({x})) \\wedge{} ({Animate}({x}) \\wedge{} {Canine}({x})))\\\\\\exists{} x_{e} \\: . \\: ({Animate}({x}) \\wedge{} {Canine}({x}))\\end{array}\\right|$"
      ],
      "text/plain": [
       "1 composition path.  Result:\n",
       "    [0]: ⟦[a dog]⟧ * ⟦bark⟧ leads to: ⟦[[a dog] bark]⟧ = ((Exists x_e: ((Dog_<e,t>(x_e) & Bark_<e,t>(x_e)) & (Animate_<e,t>(x_e) & Canine_<e,t>(x_e)))) Partial (Exists x_e: (Animate_<e,t>(x_e) & Canine_<e,t>(x_e)))) [by FA]"
      ]
     },
     "metadata": {},
     "output_type": "display_data"
    }
   ],
   "source": [
    "((a * dog) * bark)"
   ]
  },
  {
   "cell_type": "code",
   "execution_count": 12,
   "metadata": {},
   "outputs": [
    {
     "data": {
      "text/html": [
       "<div align=\"left\" style=\"display:table;\"><div style=\"display:table-cell;vertical-align:bottom;padding-left:5px;padding-right:5px;padding-top:0.5em\"><div style=\"display:table;\"><div style=\"display:table-row;vertical-align:bottom;\"><div align=\"left\" style=\"display:table;border-collapse:collapse;\"><div style=\"display:table-row;border-bottom:1px solid #848482;\"><div style=\"display:table-cell;padding-right:5px;vertical-align:bottom;\"> 1. </div><div style=\"display:table-cell;vertical-align:bottom;border-right:1px solid #848482;padding-right:5px;\"><div style=\"display:inline-block;\"><span>${[\\lambda{} g_{\\left\\langle{}e,t\\right\\rangle{}} \\: . \\: \\exists{} x_{e} \\: . \\: (\\left|\\begin{array}{l}{Dog}({x})\\\\{Animate}({x})\\end{array}\\right| \\wedge{} {g}({x}))]}(\\lambda{} x_{e} \\: . \\: \\left|\\begin{array}{l}{Bark}({x})\\\\{Canine}({x})\\end{array}\\right|)$</span></div></div></div><div style=\"display:table-row;border-bottom:1px solid #848482;\"><div style=\"display:table-cell;padding-right:5px;vertical-align:bottom;\"> 2. </div><div style=\"display:table-cell;vertical-align:bottom;border-right:1px solid #848482;padding-right:5px;\"><div style=\"display:inline-block;\"><span>$\\exists{} x_{e} \\: . \\: (\\left|\\begin{array}{l}{Dog}({x})\\\\{Animate}({x})\\end{array}\\right| \\wedge{} {[\\lambda{} x_{e} \\: . \\: \\left|\\begin{array}{l}{Bark}({x})\\\\{Canine}({x})\\end{array}\\right|]}({x}))$</span></div></div><div style=\"display:table-cell;vertical-align:bottom;padding-left:5px;padding-right:5px;padding-top:0.5em\"><div style=\"display:table;\"><div style=\"display:table-row;\"><div style=\"white-space:nowrap; color:blue;\"><div style=\"display:inline-block;\"><span>Reduction</span></div></div></div></div></div></div><div style=\"display:table-row;border-bottom:1px solid #848482;\"><div style=\"display:table-cell;padding-right:5px;vertical-align:bottom;\"> 3. </div><div style=\"display:table-cell;vertical-align:bottom;border-right:1px solid #848482;padding-right:5px;\"><div style=\"display:inline-block;\"><span>$\\exists{} x_{e} \\: . \\: (\\left|\\begin{array}{l}{Dog}({x})\\\\{Animate}({x})\\end{array}\\right| \\wedge{} \\left|\\begin{array}{l}{Bark}({x})\\\\{Canine}({x})\\end{array}\\right|)$</span></div></div><div style=\"display:table-cell;vertical-align:bottom;padding-left:5px;padding-right:5px;padding-top:0.5em\"><div style=\"display:table;\"><div style=\"display:table-row;\"><div style=\"white-space:nowrap; color:blue;\"><div style=\"display:inline-block;\"><span>Recursive reduction of body</span></div></div></div></div></div></div><div style=\"display:table-row;\"><div style=\"display:table-cell;padding-right:5px;vertical-align:bottom;\"> 4. </div><div style=\"display:table-cell;vertical-align:bottom;border-right:1px solid #848482;padding-right:5px;\"><div style=\"display:inline-block;\"><span>$\\left|\\begin{array}{l}\\exists{} x_{e} \\: . \\: (({Dog}({x}) \\wedge{} {Bark}({x})) \\wedge{} ({Animate}({x}) \\wedge{} {Canine}({x})))\\\\\\exists{} x_{e} \\: . \\: ({Animate}({x}) \\wedge{} {Canine}({x}))\\end{array}\\right|$</span></div></div><div style=\"display:table-cell;vertical-align:bottom;padding-left:5px;padding-right:5px;padding-top:0.5em\"><div style=\"display:table;\"><div style=\"display:table-row;\"><div style=\"white-space:nowrap; color:blue;\"><div style=\"display:inline-block;\"><span>Partiality simplification</span></div></div></div></div></div></div></div></div></div></div></div>"
      ],
      "text/plain": [
       " 1. ((λ g_<e,t>: (Exists x_e: ((Dog_<e,t>(x_e) Partial Animate_<e,t>(x_e)) & g_<e,t>(x_e)))))((λ x_e: (Bark_<e,t>(x_e) Partial Canine_<e,t>(x_e))))\n",
       " 2. (Exists x_e: ((Dog_<e,t>(x_e) Partial Animate_<e,t>(x_e)) & ((λ x_e: (Bark_<e,t>(x_e) Partial Canine_<e,t>(x_e))))(x_e)))    (Reduction)\n",
       " 3. (Exists x_e: ((Dog_<e,t>(x_e) Partial Animate_<e,t>(x_e)) & (Bark_<e,t>(x_e) Partial Canine_<e,t>(x_e))))    (Recursive reduction of body)\n",
       " 4. ((Exists x_e: ((Dog_<e,t>(x_e) & Bark_<e,t>(x_e)) & (Animate_<e,t>(x_e) & Canine_<e,t>(x_e)))) Partial (Exists x_e: (Animate_<e,t>(x_e) & Canine_<e,t>(x_e))))    (Partiality simplification)"
      ]
     },
     "execution_count": 12,
     "metadata": {},
     "output_type": "execute_result"
    }
   ],
   "source": [
    "((a * dog) * bark)[0].content.derivation"
   ]
  },
  {
   "cell_type": "markdown",
   "metadata": {},
   "source": [
    "Things can get more complicated when presuppositions interact; here is an example composing `the` with the entry above for `dog`.  `The` is defined here using a version of $\\iota$ that will always lead to an $\\exists !$ partiality condition."
   ]
  },
  {
   "cell_type": "code",
   "execution_count": 13,
   "metadata": {},
   "outputs": [
    {
     "data": {
      "text/markdown": [
       "1 composition path.  Result:<br />\n",
       "&nbsp;&nbsp;&nbsp;&nbsp;[0]: $[\\![\\text{\\textbf{[the dog]}}]\\!]^{}_{e} \\:=\\: \\left|\\begin{array}{l}\\iota{} x_{e} \\: . \\: (({Dog}({x}) \\wedge{} ({x} \\in{} {C}_{\\left\\{e\\right\\}})) \\wedge{} {Animate}({x}))\\\\\\exists{}! x_{e} \\: . \\: (({Dog}({x}) \\wedge{} ({x} \\in{} {C}_{\\left\\{e\\right\\}})) \\wedge{} {Animate}({x}))\\end{array}\\right|$"
      ],
      "text/plain": [
       "1 composition path.  Result:\n",
       "    [0]: ⟦the⟧ * ⟦dog⟧ leads to: ⟦[the dog]⟧ = ((ι x_e: ((Dog_<e,t>(x_e) & (x_e << C_{e})) & Animate_<e,t>(x_e))) Partial (ExistsExact x_e: ((Dog_<e,t>(x_e) & (x_e << C_{e})) & Animate_<e,t>(x_e)))) [by FA]"
      ]
     },
     "metadata": {},
     "output_type": "display_data"
    }
   ],
   "source": [
    "(the * dog)"
   ]
  },
  {
   "cell_type": "markdown",
   "metadata": {},
   "source": [
    "Here's another example of (plausibly) this type of noun:"
   ]
  },
  {
   "cell_type": "code",
   "execution_count": null,
   "metadata": {},
   "outputs": [],
   "source": [
    "%%lamb\n",
    "||bachelor|| = L x_e : Partial(Unmarried(x) & Male(x) & Adult(x), Adult(x))"
   ]
  },
  {
   "cell_type": "code",
   "execution_count": null,
   "metadata": {},
   "outputs": [],
   "source": [
    "the * bachelor"
   ]
  },
  {
   "cell_type": "markdown",
   "metadata": {},
   "source": [
    "The interaction with quantifiers is generally kind of complicated."
   ]
  },
  {
   "cell_type": "code",
   "execution_count": null,
   "metadata": {},
   "outputs": [],
   "source": [
    "(everyone * bachelor)[0].content.derivation# \"everyone is a bachelor\""
   ]
  },
  {
   "cell_type": "code",
   "execution_count": null,
   "metadata": {},
   "outputs": [],
   "source": [
    "(everyone * (saw * john))"
   ]
  },
  {
   "cell_type": "code",
   "execution_count": null,
   "metadata": {},
   "outputs": [],
   "source": [
    "# everyone saw everyone\n",
    "# note: the result here can be simplified (but is beyond the scope of lamb's simplification code)! It doesn't presuppose two distinct sentient individuals.\n",
    "(everyone * (lang.Binder(1) * (everyone * (lang.Binder(2) * (lang.Trace(1) * (saw * lang.Trace(2)))))))"
   ]
  },
  {
   "cell_type": "markdown",
   "metadata": {},
   "source": [
    "Next I give some more complicated examples involving binding of possessive pronouns:\n",
    "\n",
    "    (1) John likes his_5 brother.\n",
    "    (2) Every_6 student who_5 likes his_5 brother likes his_6 sister.\n",
    "  \n",
    "The resulting presuppositions are quite complicated and take some work to get through, though they aren't so crazy. Binding also tends to generate redundancy in the presuppositions (since there is no general-purpose simplification algorithm in place)."
   ]
  },
  {
   "cell_type": "code",
   "execution_count": null,
   "metadata": {},
   "outputs": [],
   "source": [
    "male_prop = %te L x_e : Male_<e,t>(x)\n",
    "himi = lang.PresupPronoun.index_factory(\"him\", male_prop)\n",
    "himi(5)"
   ]
  },
  {
   "cell_type": "code",
   "execution_count": null,
   "metadata": {},
   "outputs": [],
   "source": []
  },
  {
   "cell_type": "markdown",
   "metadata": {},
   "source": [
    "Side-note: notice that binding a pronoun of this sort always generates a partial function."
   ]
  },
  {
   "cell_type": "code",
   "execution_count": null,
   "metadata": {},
   "outputs": [],
   "source": [
    "%%lamb\n",
    "||john|| = Partial(John_e, Salient(John_e))\n",
    "||student|| = L x_e : Student(x)\n",
    "||likes|| = L x_e : L y_e : Likes(y,x)\n",
    "||brother|| = L x_e : L y_e : BrotherOf(y,x)\n",
    "||sister|| = L x_e : L y_e : SisterOf(y,x)\n",
    "||every|| = L f_<e,t> : L g_<e,t> : Partial((Forall x_e : f(x) ==> g(x)), (Exists x_e : f(x)))\n",
    "\n",
    "||POSS|| = L f_<e,<e,t>> : L x_e : IotaPartial y_e : f(x)(y)"
   ]
  },
  {
   "cell_type": "code",
   "execution_count": null,
   "metadata": {},
   "outputs": [],
   "source": [
    "(john * (likes * (himi(5) * (POSS * brother))))"
   ]
  },
  {
   "cell_type": "code",
   "execution_count": null,
   "metadata": {},
   "outputs": [],
   "source": [
    "# compute the subject: \"[every student [5 [that t_5 likes his_5 brother]]]\"\n",
    "subject = (every * (student * (lang.Binder(5) * ((lang.Trace(5) * (likes * (himi(5) * (POSS * brother))))))))\n",
    "subject"
   ]
  },
  {
   "cell_type": "markdown",
   "metadata": {},
   "source": [
    "The ultimate result is very complex:"
   ]
  },
  {
   "cell_type": "code",
   "execution_count": null,
   "metadata": {},
   "outputs": [],
   "source": [
    "# assume that the subject has QR'd in order to bind the possessive pronoun\n",
    "subject * (lang.Binder(6) * (lang.Trace(6) * (likes * (himi(6) * (POSS * sister)))))"
   ]
  },
  {
   "cell_type": "code",
   "execution_count": null,
   "metadata": {},
   "outputs": [],
   "source": []
  },
  {
   "cell_type": "markdown",
   "metadata": {},
   "source": [
    "This could all benefit from much more robust simplification algorithms."
   ]
  },
  {
   "cell_type": "markdown",
   "metadata": {},
   "source": [
    "### Appendix: calculate_partiality reference\n",
    "\n",
    "There are two modes for calculating partiality with variable-binding expressions. They are best thought of in terms of the model theory.  In *weak* mode, the projected partiality condition to the domain is the minimum to support the truth or falsity of a the quantified body, with the same value for the variable in both the body and the condition. In several cases, the body will also need to incorporate the condition.  In *strict* mode, the entire domain must satisfy the condition for the quantification to get off the ground. Strict mode is easier to understand, and probably more natural from the model-theoretic perspective, but unfortunately it isn't very useful in practical terms because the projected partiality conditions are very strong.\n",
    "\n",
    "In both systems, lambda operators will block projection until they have been eliminated by beta-reduction, and variables bound by lambda functions will also block projection.  The latter is to enforce a reduction $\\gg$ partiality-calculation order, which is not necessary in principle but greatly aids in simplification."
   ]
  },
  {
   "cell_type": "code",
   "execution_count": null,
   "metadata": {},
   "outputs": [],
   "source": [
    "reload_lamb()"
   ]
  },
  {
   "cell_type": "code",
   "execution_count": null,
   "metadata": {},
   "outputs": [],
   "source": [
    "meta.BindingOp.partiality_weak = True # default"
   ]
  },
  {
   "cell_type": "code",
   "execution_count": null,
   "metadata": {},
   "outputs": [],
   "source": [
    "te(\"Forall x_e : Partial(P_<e,t>(x), Q_<e,t>(x))\").calculate_partiality()"
   ]
  },
  {
   "cell_type": "code",
   "execution_count": null,
   "metadata": {},
   "outputs": [],
   "source": [
    "te(\"Exists x_e : Partial(P_<e,t>(x), Q_<e,t>(x))\").calculate_partiality()"
   ]
  },
  {
   "cell_type": "code",
   "execution_count": null,
   "metadata": {},
   "outputs": [],
   "source": [
    "te(\"Lambda x_e : Partial(P_<e,t>(x), Q_<e,t>(x))\").calculate_partiality()"
   ]
  },
  {
   "cell_type": "code",
   "execution_count": null,
   "metadata": {},
   "outputs": [],
   "source": [
    "te(\"ExistsExact x_e : Partial(P_<e,t>(x), Q_<e,t>(x))\").calculate_partiality()"
   ]
  },
  {
   "cell_type": "code",
   "execution_count": null,
   "metadata": {},
   "outputs": [],
   "source": [
    "te(\"ExistsExact x_e : P_<e,t>(x)\").calculate_partiality()"
   ]
  },
  {
   "cell_type": "code",
   "execution_count": null,
   "metadata": {},
   "outputs": [],
   "source": [
    "te(\"Iota x_e : Partial(P_<e,t>(x), Q_<e,t>(x))\").calculate_partiality()"
   ]
  },
  {
   "cell_type": "code",
   "execution_count": null,
   "metadata": {},
   "outputs": [],
   "source": [
    "te(\"Iota x_e : P_<e,t>(x)\").calculate_partiality()"
   ]
  },
  {
   "cell_type": "markdown",
   "metadata": {},
   "source": [
    "The `IotaPartial` class ensures an exactness partiality condition."
   ]
  },
  {
   "cell_type": "code",
   "execution_count": null,
   "metadata": {},
   "outputs": [],
   "source": [
    "te(\"IotaPartial x_e : Partial(P_<e,t>(x), Q_<e,t>(x))\").calculate_partiality()"
   ]
  },
  {
   "cell_type": "code",
   "execution_count": null,
   "metadata": {},
   "outputs": [],
   "source": [
    "te(\"IotaPartial x_e : P_<e,t>(x)\").calculate_partiality()"
   ]
  },
  {
   "cell_type": "code",
   "execution_count": null,
   "metadata": {},
   "outputs": [],
   "source": []
  },
  {
   "cell_type": "code",
   "execution_count": null,
   "metadata": {},
   "outputs": [],
   "source": [
    "# it's unclear whether this is right, but it is based on Lambda.\n",
    "te(\"Set x_e : Partial(P_<e,t>(x), Q_<e,t>(x))\").calculate_partiality()"
   ]
  },
  {
   "cell_type": "code",
   "execution_count": null,
   "metadata": {},
   "outputs": [],
   "source": [
    "te(\"A_e << (Set x_e : Partial(P_<e,t>(x), Q_<e,t>(x)))\").reduce_all().calculate_partiality()"
   ]
  },
  {
   "cell_type": "code",
   "execution_count": null,
   "metadata": {},
   "outputs": [],
   "source": [
    "reload_lamb()\n",
    "meta.BindingOp.partiality_weak = False"
   ]
  },
  {
   "cell_type": "code",
   "execution_count": null,
   "metadata": {},
   "outputs": [],
   "source": [
    "te(\"Forall x_e : Partial(P_<e,t>(x), Q_<e,t>(x))\").calculate_partiality()"
   ]
  },
  {
   "cell_type": "code",
   "execution_count": null,
   "metadata": {},
   "outputs": [],
   "source": [
    "te(\"Exists x_e : Partial(P_<e,t>(x), Q_<e,t>(x))\").calculate_partiality()"
   ]
  },
  {
   "cell_type": "code",
   "execution_count": null,
   "metadata": {},
   "outputs": [],
   "source": [
    "te(\"Lambda x_e : Partial(P_<e,t>(x), Q_<e,t>(x))\").calculate_partiality()"
   ]
  },
  {
   "cell_type": "code",
   "execution_count": null,
   "metadata": {},
   "outputs": [],
   "source": [
    "te(\"ExistsExact x_e : Partial(P_<e,t>(x), Q_<e,t>(x))\").calculate_partiality()"
   ]
  },
  {
   "cell_type": "code",
   "execution_count": null,
   "metadata": {},
   "outputs": [],
   "source": [
    "te(\"ExistsExact x_e : P_<e,t>(x)\").calculate_partiality()"
   ]
  },
  {
   "cell_type": "code",
   "execution_count": null,
   "metadata": {},
   "outputs": [],
   "source": [
    "te(\"Iota x_e : Partial(P_<e,t>(x), Q_<e,t>(x))\").calculate_partiality()"
   ]
  },
  {
   "cell_type": "code",
   "execution_count": null,
   "metadata": {},
   "outputs": [],
   "source": [
    "te(\"Iota x_e : P_<e,t>(x)\").calculate_partiality()"
   ]
  },
  {
   "cell_type": "code",
   "execution_count": null,
   "metadata": {},
   "outputs": [],
   "source": [
    "te(\"IotaPartial x_e : Partial(P_<e,t>(x), Q_<e,t>(x))\").calculate_partiality()"
   ]
  },
  {
   "cell_type": "code",
   "execution_count": null,
   "metadata": {},
   "outputs": [],
   "source": [
    "te(\"IotaPartial x_e : P_<e,t>(x)\").calculate_partiality()"
   ]
  },
  {
   "cell_type": "code",
   "execution_count": null,
   "metadata": {},
   "outputs": [],
   "source": [
    "# it's unclear whether this is right, but it is based on Lambda.\n",
    "te(\"Set x_e : Partial(P_<e,t>(x), Q_<e,t>(x))\").calculate_partiality()"
   ]
  },
  {
   "cell_type": "code",
   "execution_count": null,
   "metadata": {},
   "outputs": [],
   "source": [
    "te(\"A_e << (Set x_e : Partial(P_<e,t>(x), Q_<e,t>(x)))\").reduce_all().calculate_partiality()"
   ]
  },
  {
   "cell_type": "code",
   "execution_count": null,
   "metadata": {},
   "outputs": [],
   "source": []
  },
  {
   "cell_type": "markdown",
   "metadata": {},
   "source": [
    "Currently, Predicate Abstraction interacts poorly with partiality calculation; this is harmless but can produce redundant partiality conditions. Here's an example:"
   ]
  },
  {
   "cell_type": "code",
   "execution_count": null,
   "metadata": {},
   "outputs": [],
   "source": [
    "male_prop = %te L x_e : Male_<e,t>(x)\n",
    "himi = lang.PresupPronoun.index_factory(\"him\", male_prop)\n",
    "himi(5)"
   ]
  },
  {
   "cell_type": "code",
   "execution_count": null,
   "metadata": {},
   "outputs": [],
   "source": [
    "%%lamb\n",
    "||someone|| = L f_<e,t> : Exists x_e : f(x)\n",
    "||saw|| = L x_e : L y_e : Saw(y,x)\n",
    "||alfonso|| = Partial(Alfonso_e, Salient(Alfonso_e))"
   ]
  },
  {
   "cell_type": "code",
   "execution_count": null,
   "metadata": {},
   "outputs": [],
   "source": [
    "(((someone * (saw * himi(2))) * lang.Binder(2)) * alfonso)[0].content.calculate_partiality()"
   ]
  },
  {
   "cell_type": "code",
   "execution_count": null,
   "metadata": {},
   "outputs": [],
   "source": []
  },
  {
   "cell_type": "code",
   "execution_count": 2,
   "metadata": {},
   "outputs": [
    {
     "name": "stdout",
     "output_type": "stream",
     "text": [
      "INFO (core): Coerced guessed type for 'Cat_t' into <e,t>, to match argument 'x_e'\n"
     ]
    },
    {
     "data": {
      "text/markdown": [
       "$[\\![\\text{\\textbf{cat}}]\\!]^{}_{\\left\\langle{}e,t\\right\\rangle{}} \\:=\\: \\lambda{} x_{e} \\: . \\: {Cat}({x})$"
      ],
      "text/plain": [
       "⟦cat⟧ = (λ x_e: Cat_<e,t>(x_e))"
      ]
     },
     "metadata": {},
     "output_type": "display_data"
    },
    {
     "data": {
      "text/markdown": [
       "$[\\![\\text{\\textbf{the}}]\\!]^{}_{\\left\\langle{}\\left\\langle{}e,t\\right\\rangle{},e\\right\\rangle{}} \\:=\\: \\lambda{} f_{\\left\\langle{}e,t\\right\\rangle{}} \\: . \\: \\iota{} x_{e} \\: . \\: {f}({x})$"
      ],
      "text/plain": [
       "⟦the⟧ = (λ f_<e,t>: (IotaPartial x_e: f_<e,t>(x_e)))"
      ]
     },
     "metadata": {},
     "output_type": "display_data"
    }
   ],
   "source": [
    "%lamb ||cat|| = L x_e : Cat(x)\n",
    "%lamb ||the|| = L f_<e,t> : IotaPartial x : f(x)\n",
    "#((the * cat) * cat)[0].content.calculate_partiality()"
   ]
  },
  {
   "cell_type": "code",
   "execution_count": 3,
   "metadata": {},
   "outputs": [
    {
     "data": {
      "text/markdown": [
       "1 composition path.  Result:<br />\n",
       "&nbsp;&nbsp;&nbsp;&nbsp;[0]: $[\\![\\text{\\textbf{[the cat]}}]\\!]^{}_{e} \\:=\\: \\left|\\begin{array}{l}\\iota{} x_{e} \\: . \\: {Cat}({x})\\\\\\exists{}! x_{e} \\: . \\: {Cat}({x})\\end{array}\\right|$"
      ],
      "text/plain": [
       "1 composition path.  Result:\n",
       "    [0]: ⟦the⟧ * ⟦cat⟧ leads to: ⟦[the cat]⟧ = ((ι x_e: Cat_<e,t>(x_e)) Partial (ExistsExact x_e: Cat_<e,t>(x_e))) [by FA]"
      ]
     },
     "metadata": {},
     "output_type": "display_data"
    }
   ],
   "source": [
    "the * cat"
   ]
  },
  {
   "cell_type": "code",
   "execution_count": 64,
   "metadata": {},
   "outputs": [
    {
     "data": {
      "text/latex": [
       "$\\left|\\begin{array}{l}\\iota{} x_{e} \\: . \\: {Cat}({x})\\\\\\exists{}! x_{e} \\: . \\: {Cat}({x})\\end{array}\\right|$"
      ],
      "text/plain": [
       "((ι x_e: Cat_<e,t>(x_e)) Partial (ExistsExact x_e: Cat_<e,t>(x_e)))"
      ]
     },
     "execution_count": 64,
     "metadata": {},
     "output_type": "execute_result"
    }
   ],
   "source": [
    "lamb.lang.presup_fa(the.content, cat.content)"
   ]
  },
  {
   "cell_type": "code",
   "execution_count": 65,
   "metadata": {},
   "outputs": [
    {
     "data": {
      "text/html": [
       "Composition system 'Type-driven with partiality'<br />Operations: {<br />&nbsp;&nbsp;&nbsp;&nbsp;Binary composition rule <i>FA</i>, built on python function 'lamb.lang.presup_fa'<br />&nbsp;&nbsp;&nbsp;&nbsp;Binary composition rule <i>PM</i>, built on python function 'lamb.lang.presup_pm'<br />&nbsp;&nbsp;&nbsp;&nbsp;Binary composition rule <i>PA</i>, built on python function 'lamb.lang.presup_pa'<br />}"
      ],
      "text/plain": [
       "Composition system: Type-driven with partiality"
      ]
     },
     "execution_count": 65,
     "metadata": {},
     "output_type": "execute_result"
    }
   ],
   "source": [
    "lang.get_system()"
   ]
  },
  {
   "cell_type": "code",
   "execution_count": 67,
   "metadata": {},
   "outputs": [
    {
     "data": {
      "text/html": [
       "1 composition path:<br /><div align=\"center\" style=\"display:table; margin:5px; border-collapse: collapse;border: 1px solid #848482;\"><div align=\"center\" style=\"display:table-row;border-bottom:1px solid #848482\"><div style=\"display:table-cell;vertical-align:middle;\"><div style=\"display: table;\"><div style=\"display:table-cell;vertical-align:middle;padding-left:5px;padding-right:5px;padding-top:5px;padding-bottom:5px;\"><div align=\"center\" style=\"display:block;padding-left:5px;padding-right:5px;padding-top:5px;padding-bottom:5px;\"><div style=\"display:table;table-layout:auto;\" align=\"center\"><div style=\"display:table-row;\"><div style=\"display:table-cell;padding-right:2px; padding-left:2px;\" align=\"center\"><div style=\"display:inline-block;\"><span>$[\\![\\text{\\textbf{the}}]\\!]^{}_{\\left\\langle{}\\left\\langle{}e,t\\right\\rangle{},e\\right\\rangle{}}$</span></div></div></div><div style=\"display:table-row;\"><div style=\"display:table-cell;padding-right:2px; padding-left:2px;\" align=\"center\"><div style=\"display:inline-block;\"><span>$\\lambda{} f_{\\left\\langle{}e,t\\right\\rangle{}} \\: . \\: \\iota{} x_{e} \\: . \\: {f}({x})$</span></div></div></div></div></div></div><div style=\"align: center; vertical-align: middle; display: table-cell;\"><span style=\"padding:1em;\">*</span></div><div style=\"display:table-cell;vertical-align:middle;padding-left:5px;padding-right:5px;padding-top:5px;padding-bottom:5px;\"><div align=\"center\" style=\"display:block;padding-left:5px;padding-right:5px;padding-top:5px;padding-bottom:5px;\"><div style=\"display:table;table-layout:auto;\" align=\"center\"><div style=\"display:table-row;\"><div style=\"display:table-cell;padding-right:2px; padding-left:2px;\" align=\"center\"><div style=\"display:inline-block;\"><span>$[\\![\\text{\\textbf{cat}}]\\!]^{}_{\\left\\langle{}e,t\\right\\rangle{}}$</span></div></div></div><div style=\"display:table-row;\"><div style=\"display:table-cell;padding-right:2px; padding-left:2px;\" align=\"center\"><div style=\"display:inline-block;\"><span>$\\lambda{} x_{e} \\: . \\: {Cat}({x})$</span></div></div></div></div></div></div></div></div><div style=\"display:table-cell;vertical-align:middle;border-left:1px solid #848482;padding:0.5em\"><div style=\"white-space:nowrap; color:blue;\"><b>[<div style=\"display:inline-block;\"><span>FA</span></div>]</b></div></div></div><div align=\"center\" style=\"display:table-row;padding-left:5px;padding-right:5px;padding-top:5px;padding-bottom:5px;\"><div align=\"center\" style=\"display:table-cell;\"><div align=\"center\" style=\"display:block;padding-left:5px;padding-right:5px;padding-top:5px;padding-bottom:5px;\"><div style=\"display:table;table-layout:auto;\" align=\"center\"><div style=\"display:table-row;\"><div style=\"display:table-cell;padding-right:2px; padding-left:2px;\" align=\"center\"><div style=\"display:inline-block;\"><span>$[\\![\\text{\\textbf{[the cat]}}]\\!]^{}_{e}$</span></div></div></div><div style=\"display:table-row;\"><div style=\"display:table-cell;padding-right:2px; padding-left:2px;\" align=\"center\"><div style=\"display:inline-block;\"><span>$\\left|\\begin{array}{l}\\iota{} x_{e} \\: . \\: {Cat}({x})\\\\\\exists{}! x_{e} \\: . \\: {Cat}({x})\\end{array}\\right|$</span></div></div></div></div></div></div><div style=\"display:table-cell;\"></div></div></div><br /><br />"
      ],
      "text/plain": [
       "1 composition path:<br /><div align=\"center\" style=\"display:table; margin:5px; border-collapse: collapse;border: 1px solid #848482;\"><div align=\"center\" style=\"display:table-row;border-bottom:1px solid #848482\"><div style=\"display:table-cell;vertical-align:middle;\"><div style=\"display: table;\"><div style=\"display:table-cell;vertical-align:middle;padding-left:5px;padding-right:5px;padding-top:5px;padding-bottom:5px;\"><div align=\"center\" style=\"display:block;padding-left:5px;padding-right:5px;padding-top:5px;padding-bottom:5px;\"><div style=\"display:table;table-layout:auto;\" align=\"center\"><div style=\"display:table-row;\"><div style=\"display:table-cell;padding-right:2px; padding-left:2px;\" align=\"center\"><div style=\"display:inline-block;\"><span>$[\\![\\text{\\textbf{the}}]\\!]^{}_{\\left\\langle{}\\left\\langle{}e,t\\right\\rangle{},e\\right\\rangle{}}$</span></div></div></div><div style=\"display:table-row;\"><div style=\"display:table-cell;padding-right:2px; padding-left:2px;\" align=\"center\"><div style=\"display:inline-block;\"><span>$\\lambda{} f_{\\left\\langle{}e,t\\right\\rangle{}} \\: . \\: \\iota{} x_{e} \\: . \\: {f}({x})$</span></div></div></div></div></div></div><div style=\"align: center; vertical-align: middle; display: table-cell;\"><span style=\"padding:1em;\">*</span></div><div style=\"display:table-cell;vertical-align:middle;padding-left:5px;padding-right:5px;padding-top:5px;padding-bottom:5px;\"><div align=\"center\" style=\"display:block;padding-left:5px;padding-right:5px;padding-top:5px;padding-bottom:5px;\"><div style=\"display:table;table-layout:auto;\" align=\"center\"><div style=\"display:table-row;\"><div style=\"display:table-cell;padding-right:2px; padding-left:2px;\" align=\"center\"><div style=\"display:inline-block;\"><span>$[\\![\\text{\\textbf{cat}}]\\!]^{}_{\\left\\langle{}e,t\\right\\rangle{}}$</span></div></div></div><div style=\"display:table-row;\"><div style=\"display:table-cell;padding-right:2px; padding-left:2px;\" align=\"center\"><div style=\"display:inline-block;\"><span>$\\lambda{} x_{e} \\: . \\: {Cat}({x})$</span></div></div></div></div></div></div></div></div><div style=\"display:table-cell;vertical-align:middle;border-left:1px solid #848482;padding:0.5em\"><div style=\"white-space:nowrap; color:blue;\"><b>[<div style=\"display:inline-block;\"><span>FA</span></div>]</b></div></div></div><div align=\"center\" style=\"display:table-row;padding-left:5px;padding-right:5px;padding-top:5px;padding-bottom:5px;\"><div align=\"center\" style=\"display:table-cell;\"><div align=\"center\" style=\"display:block;padding-left:5px;padding-right:5px;padding-top:5px;padding-bottom:5px;\"><div style=\"display:table;table-layout:auto;\" align=\"center\"><div style=\"display:table-row;\"><div style=\"display:table-cell;padding-right:2px; padding-left:2px;\" align=\"center\"><div style=\"display:inline-block;\"><span>$[\\![\\text{\\textbf{[the cat]}}]\\!]^{}_{e}$</span></div></div></div><div style=\"display:table-row;\"><div style=\"display:table-cell;padding-right:2px; padding-left:2px;\" align=\"center\"><div style=\"display:inline-block;\"><span>$\\left|\\begin{array}{l}\\iota{} x_{e} \\: . \\: {Cat}({x})\\\\\\exists{}! x_{e} \\: . \\: {Cat}({x})\\end{array}\\right|$</span></div></div></div></div></div></div><div style=\"display:table-cell;\"></div></div></div><br /><br />"
      ]
     },
     "execution_count": 67,
     "metadata": {},
     "output_type": "execute_result"
    }
   ],
   "source": [
    "(the * cat).tree()"
   ]
  },
  {
   "cell_type": "code",
   "execution_count": null,
   "metadata": {},
   "outputs": [],
   "source": []
  }
 ],
 "metadata": {
  "kernelspec": {
   "display_name": "Lambda Notebook (Python 3)",
   "language": "python",
   "name": "lambda-notebook"
  },
  "language_info": {
   "codemirror_mode": {
    "name": "ipython",
    "version": 3
   },
   "file_extension": ".py",
   "mimetype": "text/x-python",
   "name": "python",
   "nbconvert_exporter": "python",
   "pygments_lexer": "ipython3",
   "version": "3.11.5"
  }
 },
 "nbformat": 4,
 "nbformat_minor": 4
}
