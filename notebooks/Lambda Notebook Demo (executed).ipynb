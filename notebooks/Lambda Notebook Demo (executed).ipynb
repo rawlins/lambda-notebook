{
 "cells": [
  {
   "cell_type": "markdown",
   "metadata": {},
   "source": [
    "# Lambda notebook demo v. 1.0.2\n",
    "\n",
    "## Author: Kyle Rawlins\n",
    "\n",
    "This notebook provides a demo of the core capabilities of the lambda notebook, aimed at linguists who already have training in semantics (but not necessarily implemented semantics).\n",
    "\n",
    "Last updated Aug 2023. Version history:\n",
    "\n",
    " * 0.5: first version\n",
    " * 0.6: updated to work with refactored class hierarchy (Apr 2013)\n",
    " * 0.6.1: small fixes to adapt to changes in various places (Sep 2013)\n",
    " * 0.7: various fixes to work with alpha release (Jan 2014)\n",
    " * 0.9: substantial updates, merge content from LSA poster (Apr 2014)\n",
    " * 0.95: substantial updates for a series of demos in Apr-May 2014\n",
    " * 1.0: various changes / fixes, more stand-alone text (2017)\n",
    " * 1.0.1: small tweaks (Nov/Dec 2018)\n",
    " * 1.0.2: bugfixes\n",
    " \n",
    "To run through this demo incrementally, use shift-enter (runs and moves to next cell).  If you run things out of order, you may encounter problems (missing variables etc.)"
   ]
  },
  {
   "cell_type": "code",
   "execution_count": 1,
   "metadata": {
    "execution": {
     "iopub.execute_input": "2024-03-14T17:51:04.248627Z",
     "iopub.status.busy": "2024-03-14T17:51:04.248372Z",
     "iopub.status.idle": "2024-03-14T17:51:04.252338Z",
     "shell.execute_reply": "2024-03-14T17:51:04.251767Z"
    }
   },
   "outputs": [],
   "source": [
    "from lamb.types import TypeMismatch, type_e, type_t, type_property\n",
    "from lamb.meta import TypedTerm, TypedExpr, LFun, CustomTerm"
   ]
  },
  {
   "cell_type": "code",
   "execution_count": 2,
   "metadata": {
    "execution": {
     "iopub.execute_input": "2024-03-14T17:51:04.254989Z",
     "iopub.status.busy": "2024-03-14T17:51:04.254781Z",
     "iopub.status.idle": "2024-03-14T17:51:04.257795Z",
     "shell.execute_reply": "2024-03-14T17:51:04.257309Z"
    }
   },
   "outputs": [],
   "source": [
    "# There are several ways of display outputs, this one is the default:\n",
    "lamb.display.default(style=lamb.display.DerivStyle.BOXES)\n",
    "# you can also try:\n",
    "# lamb.display.default(style=lamb.display.DerivStyle.PROOF)"
   ]
  },
  {
   "cell_type": "markdown",
   "metadata": {},
   "source": [
    "# First pitch\n",
    "\n",
    "Have you ever wanted to type something like this in, and have it actually do something?"
   ]
  },
  {
   "cell_type": "code",
   "execution_count": 3,
   "metadata": {
    "execution": {
     "iopub.execute_input": "2024-03-14T17:51:04.260157Z",
     "iopub.status.busy": "2024-03-14T17:51:04.259987Z",
     "iopub.status.idle": "2024-03-14T17:51:04.269000Z",
     "shell.execute_reply": "2024-03-14T17:51:04.268720Z"
    }
   },
   "outputs": [
    {
     "name": "stdout",
     "output_type": "stream",
     "text": [
      "INFO (core): Coerced guessed type for 'Student_t' into <e,t>, to match argument 'x_e'\n",
      "INFO (core): Coerced guessed type for 'Danced_t' into <e,t>, to match argument 'x_e'\n"
     ]
    },
    {
     "data": {
      "text/markdown": [
       "$[\\![\\text{\\textbf{every}}]\\!]^{}_{\\left\\langle{}\\left\\langle{}e,t\\right\\rangle{},\\left\\langle{}\\left\\langle{}e,t\\right\\rangle{},t\\right\\rangle{}\\right\\rangle{}} \\:=\\: \\lambda{} f_{\\left\\langle{}e,t\\right\\rangle{}} \\: . \\: \\lambda{} g_{\\left\\langle{}e,t\\right\\rangle{}} \\: . \\: \\forall{} x_{e} \\: . \\: {f}({x}) \\rightarrow{} {g}({x})$<br />\n",
       "$[\\![\\text{\\textbf{student}}]\\!]^{}_{\\left\\langle{}e,t\\right\\rangle{}} \\:=\\: \\lambda{} x_{e} \\: . \\: {Student}({x})$<br />\n",
       "$[\\![\\text{\\textbf{danced}}]\\!]^{}_{\\left\\langle{}e,t\\right\\rangle{}} \\:=\\: \\lambda{} x_{e} \\: . \\: {Danced}({x})$"
      ],
      "text/plain": [
       "⟦every⟧ = (λ f_<e,t>: (λ g_<e,t>: (Forall x_e: (f_<e,t>(x_e) >> g_<e,t>(x_e)))))\n",
       "⟦student⟧ = (λ x_e: Student_<e,t>(x_e))\n",
       "⟦danced⟧ = (λ x_e: Danced_<e,t>(x_e))"
      ]
     },
     "metadata": {},
     "output_type": "display_data"
    }
   ],
   "source": [
    "%%lamb\n",
    "||every|| = λ f_<e,t> : λ g_<e,t> : Forall x_e : f(x) >> g(x)\n",
    "||student|| = L x_e : Student(x)\n",
    "||danced|| = L x_e : Danced(x)"
   ]
  },
  {
   "cell_type": "code",
   "execution_count": 4,
   "metadata": {
    "execution": {
     "iopub.execute_input": "2024-03-14T17:51:04.298509Z",
     "iopub.status.busy": "2024-03-14T17:51:04.298377Z",
     "iopub.status.idle": "2024-03-14T17:51:04.302826Z",
     "shell.execute_reply": "2024-03-14T17:51:04.302558Z"
    }
   },
   "outputs": [
    {
     "data": {
      "text/markdown": [
       "1 composition path.  Result:<br />\n",
       "&nbsp;&nbsp;&nbsp;&nbsp;[0]: $[\\![\\text{\\textbf{[[every student] danced]}}]\\!]^{}_{t} \\:=\\: \\forall{} x_{e} \\: . \\: {Student}({x}) \\rightarrow{} {Danced}({x})$"
      ],
      "text/plain": [
       "1 composition path.  Result:\n",
       "    [0]: ⟦[every student]⟧ * ⟦danced⟧ leads to: ⟦[[every student] danced]⟧ = (Forall x_e: (Student_<e,t>(x_e) >> Danced_<e,t>(x_e))) [by FA]"
      ]
     },
     "metadata": {},
     "output_type": "display_data"
    }
   ],
   "source": [
    "r = ((every * student) * danced)\n",
    "r"
   ]
  },
  {
   "cell_type": "code",
   "execution_count": 5,
   "metadata": {
    "execution": {
     "iopub.execute_input": "2024-03-14T17:51:04.304220Z",
     "iopub.status.busy": "2024-03-14T17:51:04.304118Z",
     "iopub.status.idle": "2024-03-14T17:51:04.306821Z",
     "shell.execute_reply": "2024-03-14T17:51:04.306576Z"
    }
   },
   "outputs": [
    {
     "data": {
      "text/html": [
       "1 composition path:<br /><div align=\"center\" style=\"display:table; margin:5px; border-collapse: collapse;border: 1px solid #848482;\"><div align=\"center\" style=\"display:table-row;border-bottom:1px solid #848482\"><div style=\"display:table-cell;vertical-align:middle;\"><div style=\"display: table;\"><div style=\"display:table-cell;vertical-align:middle;padding-left:5px;padding-right:5px;padding-top:5px;padding-bottom:5px;\"><div align=\"center\" style=\"display:table; margin:5px; border-collapse: collapse;border: 1px solid #848482;\"><div align=\"center\" style=\"display:table-row;border-bottom:1px solid #848482\"><div style=\"display:table-cell;vertical-align:middle;\"><div style=\"display: table;\"><div style=\"display:table-cell;vertical-align:middle;padding-left:5px;padding-right:5px;padding-top:5px;padding-bottom:5px;\"><div align=\"center\" style=\"display:block;padding-left:5px;padding-right:5px;padding-top:5px;padding-bottom:5px;\"><div style=\"display:table;table-layout:auto;\" align=\"center\"><div style=\"display:table-row;\"><div style=\"display:table-cell;padding-right:2px; padding-left:2px;\" align=\"center\"><div style=\"display:inline-block;\"><span>$[\\![\\text{\\textbf{every}}]\\!]^{}_{\\left\\langle{}\\left\\langle{}e,t\\right\\rangle{},\\left\\langle{}\\left\\langle{}e,t\\right\\rangle{},t\\right\\rangle{}\\right\\rangle{}}$</span></div></div></div><div style=\"display:table-row;\"><div style=\"display:table-cell;padding-right:2px; padding-left:2px;\" align=\"center\"><div style=\"display:inline-block;\"><span>$\\lambda{} f_{\\left\\langle{}e,t\\right\\rangle{}} \\: . \\: \\lambda{} g_{\\left\\langle{}e,t\\right\\rangle{}} \\: . \\: \\forall{} x_{e} \\: . \\: {f}({x}) \\rightarrow{} {g}({x})$</span></div></div></div></div></div></div><div style=\"align: center; vertical-align: middle; display: table-cell;\"><span style=\"padding:1em;\">*</span></div><div style=\"display:table-cell;vertical-align:middle;padding-left:5px;padding-right:5px;padding-top:5px;padding-bottom:5px;\"><div align=\"center\" style=\"display:block;padding-left:5px;padding-right:5px;padding-top:5px;padding-bottom:5px;\"><div style=\"display:table;table-layout:auto;\" align=\"center\"><div style=\"display:table-row;\"><div style=\"display:table-cell;padding-right:2px; padding-left:2px;\" align=\"center\"><div style=\"display:inline-block;\"><span>$[\\![\\text{\\textbf{student}}]\\!]^{}_{\\left\\langle{}e,t\\right\\rangle{}}$</span></div></div></div><div style=\"display:table-row;\"><div style=\"display:table-cell;padding-right:2px; padding-left:2px;\" align=\"center\"><div style=\"display:inline-block;\"><span>$\\lambda{} x_{e} \\: . \\: {Student}({x})$</span></div></div></div></div></div></div></div></div><div style=\"display:table-cell;vertical-align:middle;border-left:1px solid #848482;padding:0.5em\"><div style=\"white-space:nowrap; color:blue;\"><b>[<span>FA</span>]</b></div></div></div><div align=\"center\" style=\"display:table-row;padding-left:5px;padding-right:5px;padding-top:5px;padding-bottom:5px;\"><div align=\"center\" style=\"display:table-cell;\"><div align=\"center\" style=\"display:block;padding-left:5px;padding-right:5px;padding-top:5px;padding-bottom:5px;\"><div style=\"display:table;table-layout:auto;\" align=\"center\"><div style=\"display:table-row;\"><div style=\"display:table-cell;padding-right:2px; padding-left:2px;\" align=\"center\"><div style=\"display:inline-block;\"><span>$[\\![\\text{\\textbf{[every student]}}]\\!]^{}_{\\left\\langle{}\\left\\langle{}e,t\\right\\rangle{},t\\right\\rangle{}}$</span></div></div></div><div style=\"display:table-row;\"><div style=\"display:table-cell;padding-right:2px; padding-left:2px;\" align=\"center\"><div style=\"display:inline-block;\"><span>$\\lambda{} g_{\\left\\langle{}e,t\\right\\rangle{}} \\: . \\: \\forall{} x_{e} \\: . \\: {Student}({x}) \\rightarrow{} {g}({x})$</span></div></div></div></div></div></div><div style=\"display:table-cell;\"></div></div></div></div><div style=\"align: center; vertical-align: middle; display: table-cell;\"><span style=\"padding:1em;\">*</span></div><div style=\"display:table-cell;vertical-align:middle;padding-left:5px;padding-right:5px;padding-top:5px;padding-bottom:5px;\"><div align=\"center\" style=\"display:block;padding-left:5px;padding-right:5px;padding-top:5px;padding-bottom:5px;\"><div style=\"display:table;table-layout:auto;\" align=\"center\"><div style=\"display:table-row;\"><div style=\"display:table-cell;padding-right:2px; padding-left:2px;\" align=\"center\"><div style=\"display:inline-block;\"><span>$[\\![\\text{\\textbf{danced}}]\\!]^{}_{\\left\\langle{}e,t\\right\\rangle{}}$</span></div></div></div><div style=\"display:table-row;\"><div style=\"display:table-cell;padding-right:2px; padding-left:2px;\" align=\"center\"><div style=\"display:inline-block;\"><span>$\\lambda{} x_{e} \\: . \\: {Danced}({x})$</span></div></div></div></div></div></div></div></div><div style=\"display:table-cell;vertical-align:middle;border-left:1px solid #848482;padding:0.5em\"><div style=\"white-space:nowrap; color:blue;\"><b>[<span>FA</span>]</b></div></div></div><div align=\"center\" style=\"display:table-row;padding-left:5px;padding-right:5px;padding-top:5px;padding-bottom:5px;\"><div align=\"center\" style=\"display:table-cell;\"><div align=\"center\" style=\"display:block;padding-left:5px;padding-right:5px;padding-top:5px;padding-bottom:5px;\"><div style=\"display:table;table-layout:auto;\" align=\"center\"><div style=\"display:table-row;\"><div style=\"display:table-cell;padding-right:2px; padding-left:2px;\" align=\"center\"><div style=\"display:inline-block;\"><span>$[\\![\\text{\\textbf{[[every student] danced]}}]\\!]^{}_{t}$</span></div></div></div><div style=\"display:table-row;\"><div style=\"display:table-cell;padding-right:2px; padding-left:2px;\" align=\"center\"><div style=\"display:inline-block;\"><span>$\\forall{} x_{e} \\: . \\: {Student}({x}) \\rightarrow{} {Danced}({x})$</span></div></div></div></div></div></div><div style=\"display:table-cell;\"></div></div></div><br /><br />"
      ],
      "text/plain": [
       "1 composition path:<br /><div align=\"center\" style=\"display:table; margin:5px; border-collapse: collapse;border: 1px solid #848482;\"><div align=\"center\" style=\"display:table-row;border-bottom:1px solid #848482\"><div style=\"display:table-cell;vertical-align:middle;\"><div style=\"display: table;\"><div style=\"display:table-cell;vertical-align:middle;padding-left:5px;padding-right:5px;padding-top:5px;padding-bottom:5px;\"><div align=\"center\" style=\"display:table; margin:5px; border-collapse: collapse;border: 1px solid #848482;\"><div align=\"center\" style=\"display:table-row;border-bottom:1px solid #848482\"><div style=\"display:table-cell;vertical-align:middle;\"><div style=\"display: table;\"><div style=\"display:table-cell;vertical-align:middle;padding-left:5px;padding-right:5px;padding-top:5px;padding-bottom:5px;\"><div align=\"center\" style=\"display:block;padding-left:5px;padding-right:5px;padding-top:5px;padding-bottom:5px;\"><div style=\"display:table;table-layout:auto;\" align=\"center\"><div style=\"display:table-row;\"><div style=\"display:table-cell;padding-right:2px; padding-left:2px;\" align=\"center\"><div style=\"display:inline-block;\"><span>$[\\![\\text{\\textbf{every}}]\\!]^{}_{\\left\\langle{}\\left\\langle{}e,t\\right\\rangle{},\\left\\langle{}\\left\\langle{}e,t\\right\\rangle{},t\\right\\rangle{}\\right\\rangle{}}$</span></div></div></div><div style=\"display:table-row;\"><div style=\"display:table-cell;padding-right:2px; padding-left:2px;\" align=\"center\"><div style=\"display:inline-block;\"><span>$\\lambda{} f_{\\left\\langle{}e,t\\right\\rangle{}} \\: . \\: \\lambda{} g_{\\left\\langle{}e,t\\right\\rangle{}} \\: . \\: \\forall{} x_{e} \\: . \\: {f}({x}) \\rightarrow{} {g}({x})$</span></div></div></div></div></div></div><div style=\"align: center; vertical-align: middle; display: table-cell;\"><span style=\"padding:1em;\">*</span></div><div style=\"display:table-cell;vertical-align:middle;padding-left:5px;padding-right:5px;padding-top:5px;padding-bottom:5px;\"><div align=\"center\" style=\"display:block;padding-left:5px;padding-right:5px;padding-top:5px;padding-bottom:5px;\"><div style=\"display:table;table-layout:auto;\" align=\"center\"><div style=\"display:table-row;\"><div style=\"display:table-cell;padding-right:2px; padding-left:2px;\" align=\"center\"><div style=\"display:inline-block;\"><span>$[\\![\\text{\\textbf{student}}]\\!]^{}_{\\left\\langle{}e,t\\right\\rangle{}}$</span></div></div></div><div style=\"display:table-row;\"><div style=\"display:table-cell;padding-right:2px; padding-left:2px;\" align=\"center\"><div style=\"display:inline-block;\"><span>$\\lambda{} x_{e} \\: . \\: {Student}({x})$</span></div></div></div></div></div></div></div></div><div style=\"display:table-cell;vertical-align:middle;border-left:1px solid #848482;padding:0.5em\"><div style=\"white-space:nowrap; color:blue;\"><b>[<span>FA</span>]</b></div></div></div><div align=\"center\" style=\"display:table-row;padding-left:5px;padding-right:5px;padding-top:5px;padding-bottom:5px;\"><div align=\"center\" style=\"display:table-cell;\"><div align=\"center\" style=\"display:block;padding-left:5px;padding-right:5px;padding-top:5px;padding-bottom:5px;\"><div style=\"display:table;table-layout:auto;\" align=\"center\"><div style=\"display:table-row;\"><div style=\"display:table-cell;padding-right:2px; padding-left:2px;\" align=\"center\"><div style=\"display:inline-block;\"><span>$[\\![\\text{\\textbf{[every student]}}]\\!]^{}_{\\left\\langle{}\\left\\langle{}e,t\\right\\rangle{},t\\right\\rangle{}}$</span></div></div></div><div style=\"display:table-row;\"><div style=\"display:table-cell;padding-right:2px; padding-left:2px;\" align=\"center\"><div style=\"display:inline-block;\"><span>$\\lambda{} g_{\\left\\langle{}e,t\\right\\rangle{}} \\: . \\: \\forall{} x_{e} \\: . \\: {Student}({x}) \\rightarrow{} {g}({x})$</span></div></div></div></div></div></div><div style=\"display:table-cell;\"></div></div></div></div><div style=\"align: center; vertical-align: middle; display: table-cell;\"><span style=\"padding:1em;\">*</span></div><div style=\"display:table-cell;vertical-align:middle;padding-left:5px;padding-right:5px;padding-top:5px;padding-bottom:5px;\"><div align=\"center\" style=\"display:block;padding-left:5px;padding-right:5px;padding-top:5px;padding-bottom:5px;\"><div style=\"display:table;table-layout:auto;\" align=\"center\"><div style=\"display:table-row;\"><div style=\"display:table-cell;padding-right:2px; padding-left:2px;\" align=\"center\"><div style=\"display:inline-block;\"><span>$[\\![\\text{\\textbf{danced}}]\\!]^{}_{\\left\\langle{}e,t\\right\\rangle{}}$</span></div></div></div><div style=\"display:table-row;\"><div style=\"display:table-cell;padding-right:2px; padding-left:2px;\" align=\"center\"><div style=\"display:inline-block;\"><span>$\\lambda{} x_{e} \\: . \\: {Danced}({x})$</span></div></div></div></div></div></div></div></div><div style=\"display:table-cell;vertical-align:middle;border-left:1px solid #848482;padding:0.5em\"><div style=\"white-space:nowrap; color:blue;\"><b>[<span>FA</span>]</b></div></div></div><div align=\"center\" style=\"display:table-row;padding-left:5px;padding-right:5px;padding-top:5px;padding-bottom:5px;\"><div align=\"center\" style=\"display:table-cell;\"><div align=\"center\" style=\"display:block;padding-left:5px;padding-right:5px;padding-top:5px;padding-bottom:5px;\"><div style=\"display:table;table-layout:auto;\" align=\"center\"><div style=\"display:table-row;\"><div style=\"display:table-cell;padding-right:2px; padding-left:2px;\" align=\"center\"><div style=\"display:inline-block;\"><span>$[\\![\\text{\\textbf{[[every student] danced]}}]\\!]^{}_{t}$</span></div></div></div><div style=\"display:table-row;\"><div style=\"display:table-cell;padding-right:2px; padding-left:2px;\" align=\"center\"><div style=\"display:inline-block;\"><span>$\\forall{} x_{e} \\: . \\: {Student}({x}) \\rightarrow{} {Danced}({x})$</span></div></div></div></div></div></div><div style=\"display:table-cell;\"></div></div></div><br /><br />"
      ]
     },
     "execution_count": 5,
     "metadata": {},
     "output_type": "execute_result"
    }
   ],
   "source": [
    "r.tree()"
   ]
  },
  {
   "cell_type": "markdown",
   "metadata": {},
   "source": [
    "# Two problems in formal semantics #\n",
    "\n",
    "1. Type-driven computation could be a lot easier to visualize and check.  (Q: could it be made too easy?)\n",
    "\n",
    "2. Grammar fragments as in Montague Grammar: good idea in principle, hard to use in practice.\n",
    "\n",
    "  * A **fragment** is a *complete* formalization of *sublanguage* consisting of the *key relevant phenomena* for the problem at hand.  (Potential problem-points italicized.)\n",
    "\n",
    "Solution: a system for developing interactive fragments: \"*IPython Lambda Notebook*\"\n",
    "\n",
    "* Creator can work interactively with analysis -- accelerate development, limit time spent on tedious details.\n",
    "* Reader can explore derivations in ways that are not typically possible in typical paper format.\n",
    "* Creator and reader can be certain that derivations work, verified by the system.\n",
    "* Bring closer together formal semantics and computational modeling.\n",
    "\n",
    "Inspired by:\n",
    "\n",
    " * Von Eijck and Unger (2013): implementation of compositional semantics in Haskell.  No interface (beyond standard Haskell terminal); great if you like Haskell.  Introduced the idea of a fragment in digital form.\n",
    " * UPenn Lambda calculator (Champollion, Tauberer, and Romero 2007): teaching oriented.  (Now under development again.)\n",
    " * `nltk.sem`: implementation of the lambda calculus with a typed metalanguage, interface with theorem provers.  No interactive interface.\n",
    " * Jealousy of R studio, Matlab, Mathematica, etc.\n",
    "\n",
    "### The role of formalism & fragments ###\n",
    "\n",
    "What does *formal* mean in semantics?  What properties should a theory have?\n",
    "\n",
    " 1. Mathematically precise (lambda calculus, type theory, logic, model theory(?), ...)\n",
    " 2. Complete (covers \"all\" the relevant data).\n",
    " 3. Predictive (like any scientific theory).\n",
    " 4. Consistent, or at least compatible (with itself, analyses of other phenomena, some unifying conception of the grammar).\n",
    " \n",
    "The *method of fragments* (Partee 1979, Partee and Hendriks 1997) provides a structure for meeting these criteria.\n",
    "\n",
    " * Paper with a fragment provides a working system.  (Probably.)\n",
    " * Explicit outer bound for empirical coverage.\n",
    " * Integration with a particular theory of grammar.  (To some extent.)\n",
    " * Explicit answer to many detailed questions not necessarily dealt with in the text.\n",
    " \n",
    "**Claim**: fragments are a method of replicability, similar to a computational modeller providing their model.\n",
    "\n",
    " * To be clear, a fragment is neither necessary nor sufficient for having a good theory / analysis / paper...\n",
    "\n",
    "Additional benefit: useful internal check for researcher.\n",
    "\n",
    ">\"...But I feel strongly that it is important to try to [work with fully explicit fragments] periodically, because otherwise it is extremely easy to think that you have a solution to a problem when in fact you don't.\" (Partee 1979, p. 41)\n",
    "\n",
    "### The challenges of fragments\n",
    "\n",
    "Part 1 of the above quote:\n",
    "\n",
    ">\"It can be very frustrating to try to specify frameworks and fragments explicitly; this project has not been entirely rewarding.  I would not recommend that one always work with the constraint of full explicitness.\" (Ibid.)\n",
    "\n",
    " * Fragments can be tedious and time-consuming to write (not to mention hard).\n",
    " * Fragments as traditionally written are in practice not easy for a reader to use.\n",
    " \n",
    "   - Dense/unapproachable.  With exactness can come a huge chunk of hard-to-digest formalism.  E.g. Partee (1979), about 10% of the paper.\n",
    "   - Monolithic/non-modular.  For the specified sublanguage, everything specified.  Outside the bounds of the sublanguage, nothing specified.  How does the theory fit in with others?\n",
    "   - Exact opposite of the modern method -- researchers typically hold most aspects of the grammar constant (implicitly) while changing a few key points.  (*Portner and Partee intro*)\n",
    "\n",
    "**Summary:** In practice, the typical payoff for neither the reader nor the writer of a fragment exceeded the effort.\n"
   ]
  },
  {
   "cell_type": "markdown",
   "metadata": {},
   "source": [
    "# A solution: digital fragments\n",
    "\n",
    "Von Eijck and Unger 2010: specify a fragment in digital form.\n",
    "\n",
    "* They use Haskell.  Type system of Haskell extremely well-suited to natural language semantics.\n",
    "* (Provocative statement) Interface, learning curve of Haskell not well suited to semanticists (or most people)?\n",
    "\n",
    "### Benefits of digital fragments (in principle)\n",
    "\n",
    "* Interactive.\n",
    "* Easy to distribute, adapt, modify.\n",
    "* Possibility of modularity.  (E.g. abstract a 'library' for compositional systems away from the analysis of a particular phenomenon.)\n",
    "* Bring closer together the CogSci idea of a 'computational model' to the project of natural language semantics.\n",
    "* Connections to computational semantics. (weak..)\n",
    "\n",
    "### What sorts of things might we want in a fragment / system for fragments?\n",
    "\n",
    "* Typed lambda calculus.\n",
    "* Logic / logical metalanguage.\n",
    "* Framework for semantic composition.  (Broad...)\n",
    "* Model theory? (x)\n",
    "* Interface with theorem provers? (x)\n",
    "\n",
    "IPython Lambda Notebook aims to provide these tools in a usable, interactive, format.\n",
    "\n",
    "* Choose Python, rather than Haskell/Java.  Easy learning curve, rapid prototyping, existence of IPython.\n",
    "\n",
    "**Layer 1**: interface using IPython Notebook.\n",
    "\n",
    "**Layer 2**: flexible typed metalanguage.\n",
    "\n",
    "**Layer 3**: composition system for object language, building on layer 2."
   ]
  },
  {
   "cell_type": "markdown",
   "metadata": {},
   "source": [
    "## Layer 1: an interface using IPython/Jupyter Notebook (Perez and Granger 2007) ##\n",
    "\n",
    " * Client-server system where a specialized IPython \"kernel\" is running in the background. This kernel implements various tools for formal semantics (see parts 2-3).\n",
    " * Page broken down into cells in which can be entered python code, markdown code, raw text, other formats.\n",
    " * Jupyter: supports display of graphical representations of python objects.\n",
    " * Notebook format uses the \"MathJax\" framework to enable it to render most math-mode latex.  Can have python objects automatically generate decent-looking formulas.  Can use latex math mode in documentation as well (e.g. $\\lambda x \\in D_e : \\mathit{CAT}(x)$)\n",
    "\n",
    "This all basically worked off-the-shelf.\n",
    "\n",
    "* Bulk of interface work so far: rendering code for logical and compositional representations.\n",
    "* Future: interactive widgets, etc."
   ]
  },
  {
   "cell_type": "code",
   "execution_count": 6,
   "metadata": {
    "execution": {
     "iopub.execute_input": "2024-03-14T17:51:04.308268Z",
     "iopub.status.busy": "2024-03-14T17:51:04.308167Z",
     "iopub.status.idle": "2024-03-14T17:51:04.310787Z",
     "shell.execute_reply": "2024-03-14T17:51:04.310576Z"
    }
   },
   "outputs": [
    {
     "data": {
      "text/latex": [
       "$\\lambda{} p_{t} \\: . \\: \\lambda{} x_{e} \\: . \\: {P}({x}) \\wedge{} {p}$"
      ],
      "text/plain": [
       "(λ p_t: (λ x_e: (P_<e,t>(x_e) & p_t)))"
      ]
     },
     "execution_count": 6,
     "metadata": {},
     "output_type": "execute_result"
    }
   ],
   "source": [
    "pmw_test1 = %te L p_t : L x_e : P_<e,t>(x) & p\n",
    "pmw_test1"
   ]
  },
  {
   "cell_type": "code",
   "execution_count": 7,
   "metadata": {
    "execution": {
     "iopub.execute_input": "2024-03-14T17:51:04.312074Z",
     "iopub.status.busy": "2024-03-14T17:51:04.311969Z",
     "iopub.status.idle": "2024-03-14T17:51:04.313948Z",
     "shell.execute_reply": "2024-03-14T17:51:04.313699Z"
    }
   },
   "outputs": [
    {
     "data": {
      "text/plain": [
       "'$\\\\lambda{} p_{t} \\\\: . \\\\: \\\\lambda{} x_{e} \\\\: . \\\\: {P}({x}) \\\\wedge{} {p}$'"
      ]
     },
     "execution_count": 7,
     "metadata": {},
     "output_type": "execute_result"
    }
   ],
   "source": [
    "pmw_test1._repr_latex_()"
   ]
  },
  {
   "cell_type": "markdown",
   "metadata": {},
   "source": [
    "&nbsp;\n",
    "\n",
    "## Part 2: a typed metalanguage ##"
   ]
  },
  {
   "cell_type": "markdown",
   "metadata": {},
   "source": [
    "The **metalanguage** infrastructure is a set of classes that implement the building blocks of logical expressions, lambda terms, and various combinations combinations. This rests on an implementation of a **type system** that matches what semanticists tend to assume.\n",
    "\n",
    "Starting point (2012): a few implementations of things like predicate logic do exist, this is an intro AI exercise sometimes.  I started with the [AIMA python](http://code.google.com/p/aima-python/) _Expr_ class, based on the standard Russell and Norvig AI text.  But, had to scrap most of it.  Another starting point would have been `nltk.sem` (I was unaware of its existence at the time.)\n",
    "\n",
    "Preface cell with `%%lamb` to enter metalanguage formulas directly.  The following cell defines a variable `x` that has type e, and exports it to the notebook's environment."
   ]
  },
  {
   "cell_type": "code",
   "execution_count": 8,
   "metadata": {
    "execution": {
     "iopub.execute_input": "2024-03-14T17:51:04.315291Z",
     "iopub.status.busy": "2024-03-14T17:51:04.315198Z",
     "iopub.status.idle": "2024-03-14T17:51:04.317200Z",
     "shell.execute_reply": "2024-03-14T17:51:04.316996Z"
    }
   },
   "outputs": [
    {
     "data": {
      "text/markdown": [
       "${x}_{e}\\:=\\:{x}_{e}$"
      ],
      "text/plain": [
       "x_e = x_e"
      ]
     },
     "metadata": {},
     "output_type": "display_data"
    }
   ],
   "source": [
    "%%lamb reset\n",
    "x = x_e # define x to have this type"
   ]
  },
  {
   "cell_type": "code",
   "execution_count": 9,
   "metadata": {
    "execution": {
     "iopub.execute_input": "2024-03-14T17:51:04.318389Z",
     "iopub.status.busy": "2024-03-14T17:51:04.318301Z",
     "iopub.status.idle": "2024-03-14T17:51:04.320183Z",
     "shell.execute_reply": "2024-03-14T17:51:04.319969Z"
    }
   },
   "outputs": [
    {
     "data": {
      "text/latex": [
       "$e$"
      ],
      "text/plain": [
       "e"
      ]
     },
     "execution_count": 9,
     "metadata": {},
     "output_type": "execute_result"
    }
   ],
   "source": [
    "x.type"
   ]
  },
  {
   "cell_type": "markdown",
   "metadata": {},
   "source": [
    "This next cell defines some variables whose values are more complex object -- in fact, functions in the typed lambda calculus."
   ]
  },
  {
   "cell_type": "code",
   "execution_count": 10,
   "metadata": {
    "execution": {
     "iopub.execute_input": "2024-03-14T17:51:04.321445Z",
     "iopub.status.busy": "2024-03-14T17:51:04.321353Z",
     "iopub.status.idle": "2024-03-14T17:51:04.325753Z",
     "shell.execute_reply": "2024-03-14T17:51:04.325572Z"
    }
   },
   "outputs": [
    {
     "name": "stdout",
     "output_type": "stream",
     "text": [
      "INFO (core): Coerced guessed type for 'P_t' into <e,t>, to match argument 'x_e'\n",
      "INFO (core): Coerced guessed type for 'P_t' into <e,t>, to match argument 'x_e'\n",
      "INFO (core): Coerced guessed type for 'Q_t' into <e,t>, to match argument 'x_e'\n",
      "INFO (core): Coerced guessed type for 'Q_t' into <e,t>, to match argument 'x_e'\n"
     ]
    },
    {
     "data": {
      "text/markdown": [
       "${test1}_{\\left\\langle{}t,\\left\\langle{}e,t\\right\\rangle{}\\right\\rangle{}}\\:=\\:\\lambda{} p_{t} \\: . \\: \\lambda{} x_{e} \\: . \\: {p} \\wedge{} {P}({x})$<br />\n",
       "${test1b}_{\\left\\langle{}e,t\\right\\rangle{}}\\:=\\:\\lambda{} x_{e} \\: . \\: {P}({x}) \\wedge{} {Q}({x})$<br />\n",
       "${t2}_{t}\\:=\\:{Q}({x}_{e})$"
      ],
      "text/plain": [
       "test1_<t,<e,t>> = (λ p_t: (λ x_e: (p_t & P_<e,t>(x_e))))\n",
       "test1b_<e,t> = (λ x_e: (P_<e,t>(x_e) & Q_<e,t>(x_e)))\n",
       "t2_t = Q_<e,t>(x_e)"
      ]
     },
     "metadata": {},
     "output_type": "display_data"
    }
   ],
   "source": [
    "%%lamb\n",
    "test1 = L p_t : L x_e : P(x) & p # based on a Partee et al example\n",
    "test1b = L x_e : P(x) & Q(x)\n",
    "t2 = Q(x_e)"
   ]
  },
  {
   "cell_type": "markdown",
   "metadata": {},
   "source": [
    "These are now registered as variables in the python namespace and can be manipulated directly.  A typed lambda calculus is fully implemented with all that that entails -- e.g. the value of `test1` includes the whole syntactic structure of the formula, its type, etc. and can be used in constructing new formulas.  The following cells build a complex function-argument formula, and following that, does the reduction.\n",
    "\n",
    "(Notice that beta reduction works properly, i.e. bound $x$ in the function is renamed in order to avoid collision with the free `x` in the argument.)"
   ]
  },
  {
   "cell_type": "code",
   "execution_count": 11,
   "metadata": {
    "execution": {
     "iopub.execute_input": "2024-03-14T17:51:04.326942Z",
     "iopub.status.busy": "2024-03-14T17:51:04.326869Z",
     "iopub.status.idle": "2024-03-14T17:51:04.328818Z",
     "shell.execute_reply": "2024-03-14T17:51:04.328632Z"
    }
   },
   "outputs": [
    {
     "data": {
      "text/latex": [
       "${[\\lambda{} p_{t} \\: . \\: \\lambda{} x_{e} \\: . \\: {p} \\wedge{} {P}({x})]}({Q}({x}_{e}))$"
      ],
      "text/plain": [
       "(λ p_t: (λ x_e: (p_t & P_<e,t>(x_e))))(Q_<e,t>(x_e))"
      ]
     },
     "execution_count": 11,
     "metadata": {},
     "output_type": "execute_result"
    }
   ],
   "source": [
    "test1(t2)"
   ]
  },
  {
   "cell_type": "code",
   "execution_count": 12,
   "metadata": {
    "execution": {
     "iopub.execute_input": "2024-03-14T17:51:04.329942Z",
     "iopub.status.busy": "2024-03-14T17:51:04.329862Z",
     "iopub.status.idle": "2024-03-14T17:51:04.332119Z",
     "shell.execute_reply": "2024-03-14T17:51:04.331904Z"
    }
   },
   "outputs": [
    {
     "data": {
      "text/latex": [
       "$\\lambda{} x1_{e} \\: . \\: {Q}({x}_{e}) \\wedge{} {P}({x1})$"
      ],
      "text/plain": [
       "(λ x1_e: (Q_<e,t>(x_e) & P_<e,t>(x1_e)))"
      ]
     },
     "execution_count": 12,
     "metadata": {},
     "output_type": "execute_result"
    }
   ],
   "source": [
    "test1(t2).reduce()"
   ]
  },
  {
   "cell_type": "code",
   "execution_count": 13,
   "metadata": {
    "execution": {
     "iopub.execute_input": "2024-03-14T17:51:04.333231Z",
     "iopub.status.busy": "2024-03-14T17:51:04.333164Z",
     "iopub.status.idle": "2024-03-14T17:51:04.336231Z",
     "shell.execute_reply": "2024-03-14T17:51:04.336031Z"
    }
   },
   "outputs": [
    {
     "name": "stdout",
     "output_type": "stream",
     "text": [
      "INFO (core): Coerced guessed type for 'Cat_t' into <e,t>, to match argument 'x_e'\n",
      "INFO (core): Coerced guessed type for 'Dog_t' into <e,t>, to match argument 'x_e'\n"
     ]
    },
    {
     "data": {
      "text/markdown": [
       "${catf}_{\\left\\langle{}e,t\\right\\rangle{}}\\:=\\:\\lambda{} x_{e} \\: . \\: {Cat}({x})$<br />\n",
       "${dogf}_{\\left\\langle{}e,t\\right\\rangle{}}\\:=\\:\\lambda{} x_{e} \\: . \\: {Dog}({x})$"
      ],
      "text/plain": [
       "catf_<e,t> = (λ x_e: Cat_<e,t>(x_e))\n",
       "dogf_<e,t> = (λ x_e: Dog_<e,t>(x_e))"
      ]
     },
     "metadata": {},
     "output_type": "display_data"
    }
   ],
   "source": [
    "%%lamb\n",
    "catf = L x_e: Cat(x)\n",
    "dogf = λx: Dog(x_e)"
   ]
  },
  {
   "cell_type": "code",
   "execution_count": 14,
   "metadata": {
    "execution": {
     "iopub.execute_input": "2024-03-14T17:51:04.337349Z",
     "iopub.status.busy": "2024-03-14T17:51:04.337273Z",
     "iopub.status.idle": "2024-03-14T17:51:04.339184Z",
     "shell.execute_reply": "2024-03-14T17:51:04.338965Z"
    }
   },
   "outputs": [
    {
     "data": {
      "text/latex": [
       "$t$"
      ],
      "text/plain": [
       "t"
      ]
     },
     "execution_count": 14,
     "metadata": {},
     "output_type": "execute_result"
    }
   ],
   "source": [
    "(catf(x)).type"
   ]
  },
  {
   "cell_type": "code",
   "execution_count": 15,
   "metadata": {
    "execution": {
     "iopub.execute_input": "2024-03-14T17:51:04.340226Z",
     "iopub.status.busy": "2024-03-14T17:51:04.340147Z",
     "iopub.status.idle": "2024-03-14T17:51:04.341909Z",
     "shell.execute_reply": "2024-03-14T17:51:04.341734Z"
    }
   },
   "outputs": [
    {
     "data": {
      "text/latex": [
       "$\\left\\langle{}e,t\\right\\rangle{}$"
      ],
      "text/plain": [
       "<e,t>"
      ]
     },
     "execution_count": 15,
     "metadata": {},
     "output_type": "execute_result"
    }
   ],
   "source": [
    "catf.type"
   ]
  },
  {
   "cell_type": "markdown",
   "metadata": {},
   "source": [
    "Type checking of course is a part of all this.  If the types don't match, the computation will throw a `TypeMismatch` exception.  The following cell uses python syntax to catch and print such errors."
   ]
  },
  {
   "cell_type": "code",
   "execution_count": 16,
   "metadata": {
    "execution": {
     "iopub.execute_input": "2024-03-14T17:51:04.343064Z",
     "iopub.status.busy": "2024-03-14T17:51:04.342984Z",
     "iopub.status.idle": "2024-03-14T17:51:04.344933Z",
     "shell.execute_reply": "2024-03-14T17:51:04.344725Z"
    }
   },
   "outputs": [
    {
     "data": {
      "text/markdown": [
       "<span style=\"color:red\">**TypeMismatch**</span>: `(λ p_t: (λ x_e: (p_t & P_<e,t>(x_e))))/<t,<e,t>>` and `x_e` conflict (Function-argument expression: mismatched argument types `t` and `e`)"
      ],
      "text/plain": [
       "TypeMismatch: `(λ p_t: (λ x_e: (p_t & P_<e,t>(x_e))))/<t,<e,t>>` and `x_e` conflict (Function-argument expression: mismatched argument types `t` and `e`)"
      ]
     },
     "metadata": {},
     "output_type": "display_data"
    }
   ],
   "source": [
    "with lamb.errors():\n",
    "    display(test1(x)) # function is type <t,<e,t>> so will trigger a type mismatch."
   ]
  },
  {
   "cell_type": "markdown",
   "metadata": {},
   "source": [
    "A more complex expression:"
   ]
  },
  {
   "cell_type": "code",
   "execution_count": 17,
   "metadata": {
    "execution": {
     "iopub.execute_input": "2024-03-14T17:51:04.346062Z",
     "iopub.status.busy": "2024-03-14T17:51:04.345978Z",
     "iopub.status.idle": "2024-03-14T17:51:04.348845Z",
     "shell.execute_reply": "2024-03-14T17:51:04.348644Z"
    }
   },
   "outputs": [
    {
     "data": {
      "text/markdown": [
       "${p2}_{t}\\:=\\:({p}_{t} \\wedge{} {Cat}({x}_{e})) \\rightarrow{} (\\exists{} y_{e} \\: . \\: {Dog}({y}))$"
      ],
      "text/plain": [
       "p2_t = ((p_t & Cat_<e,t>(x_e)) >> (Exists y_e: Dog_<e,t>(y_e)))"
      ]
     },
     "metadata": {},
     "output_type": "display_data"
    }
   ],
   "source": [
    "%%lamb\n",
    "p2 = (Cat_<e,t>(x_e) & p_t) >> (Exists y: Dog_<e,t>(y_e))"
   ]
  },
  {
   "cell_type": "markdown",
   "metadata": {},
   "source": [
    "What is going on behind the scenes?  The objects manipulated are recursively structured python objects of class TypedExpr.\n",
    "\n",
    "Class _TypedExpr_: parent class for typed expressions.  Key subclasses:\n",
    "\n",
    "* BinaryOpExpr: parent class for things like conjunction.\n",
    "* TypedTerm: variables, constants of arbitrary type\n",
    "* BindingOp: operators that bind a single variable\n",
    "  * LFun: lambda expression\n",
    "\n",
    "Many straightforward expressions can be parsed.  Most expressions are created using a call to TypedExpr.factory, which is abbreviated as \"te\" in the following examples.  The `%%lamb` magic is calling this behind the scenes.\n",
    "\n",
    "Three ways of instantiating a variable `x` of type `e`:"
   ]
  },
  {
   "cell_type": "code",
   "execution_count": 18,
   "metadata": {
    "execution": {
     "iopub.execute_input": "2024-03-14T17:51:04.349976Z",
     "iopub.status.busy": "2024-03-14T17:51:04.349886Z",
     "iopub.status.idle": "2024-03-14T17:51:04.351999Z",
     "shell.execute_reply": "2024-03-14T17:51:04.351796Z"
    }
   },
   "outputs": [
    {
     "data": {
      "text/markdown": [
       "${x}_{e}\\:=\\:{x}_{e}$"
      ],
      "text/plain": [
       "x_e = x_e"
      ]
     },
     "metadata": {},
     "output_type": "display_data"
    }
   ],
   "source": [
    "%%lamb \n",
    "x = x_e # use cell magic"
   ]
  },
  {
   "cell_type": "code",
   "execution_count": 19,
   "metadata": {
    "execution": {
     "iopub.execute_input": "2024-03-14T17:51:04.353064Z",
     "iopub.status.busy": "2024-03-14T17:51:04.352998Z",
     "iopub.status.idle": "2024-03-14T17:51:04.354985Z",
     "shell.execute_reply": "2024-03-14T17:51:04.354790Z"
    }
   },
   "outputs": [
    {
     "data": {
      "text/latex": [
       "${x}_{e}$"
      ],
      "text/plain": [
       "x_e"
      ]
     },
     "execution_count": 19,
     "metadata": {},
     "output_type": "execute_result"
    }
   ],
   "source": [
    "x = te(\"x_e\") # use factory function to parse string\n",
    "x"
   ]
  },
  {
   "cell_type": "code",
   "execution_count": 20,
   "metadata": {
    "execution": {
     "iopub.execute_input": "2024-03-14T17:51:04.356017Z",
     "iopub.status.busy": "2024-03-14T17:51:04.355939Z",
     "iopub.status.idle": "2024-03-14T17:51:04.357864Z",
     "shell.execute_reply": "2024-03-14T17:51:04.357660Z"
    }
   },
   "outputs": [
    {
     "data": {
      "text/latex": [
       "${x}_{e}$"
      ],
      "text/plain": [
       "x_e"
      ]
     },
     "execution_count": 20,
     "metadata": {},
     "output_type": "execute_result"
    }
   ],
   "source": [
    "x = meta.TypedTerm(\"x\", types.type_e) # use object constructer\n",
    "x"
   ]
  },
  {
   "cell_type": "markdown",
   "metadata": {},
   "source": [
    "Various convenience python operators are overloaded, including functional calls.  Here is an example repeated from earlier in two forms:"
   ]
  },
  {
   "cell_type": "code",
   "execution_count": 21,
   "metadata": {
    "execution": {
     "iopub.execute_input": "2024-03-14T17:51:04.358957Z",
     "iopub.status.busy": "2024-03-14T17:51:04.358875Z",
     "iopub.status.idle": "2024-03-14T17:51:04.361615Z",
     "shell.execute_reply": "2024-03-14T17:51:04.361415Z"
    }
   },
   "outputs": [
    {
     "data": {
      "text/markdown": [
       "${p2}_{t}\\:=\\:({p}_{t} \\wedge{} {Cat}({x}_{e})) \\rightarrow{} (\\exists{} y_{e} \\: . \\: {Dog}({y}))$"
      ],
      "text/plain": [
       "p2_t = ((p_t & Cat_<e,t>(x_e)) >> (Exists y_e: Dog_<e,t>(y_e)))"
      ]
     },
     "metadata": {},
     "output_type": "display_data"
    }
   ],
   "source": [
    "%%lamb\n",
    "p2 = (Cat_<e,t>(x_e) & p_t) >> (Exists y: Dog_<e,t>(y_e))"
   ]
  },
  {
   "cell_type": "code",
   "execution_count": 22,
   "metadata": {
    "execution": {
     "iopub.execute_input": "2024-03-14T17:51:04.362662Z",
     "iopub.status.busy": "2024-03-14T17:51:04.362586Z",
     "iopub.status.idle": "2024-03-14T17:51:04.365071Z",
     "shell.execute_reply": "2024-03-14T17:51:04.364895Z"
    }
   },
   "outputs": [
    {
     "data": {
      "text/latex": [
       "$({Cat}({x}_{e}) \\wedge{} {p}_{t}) \\rightarrow{} (\\exists{} y_{e} \\: . \\: {Dog}({y}))$"
      ],
      "text/plain": [
       "((Cat_<e,t>(x_e) ∧ p_t) → (Exists y_e: Dog_<e,t>(y_e)))"
      ]
     },
     "execution_count": 22,
     "metadata": {},
     "output_type": "execute_result"
    }
   ],
   "source": [
    "p2 = (te(\"Cat_<e,t>(x)\") & te(\"p_t\")) >> te(\"(Exists y: Dog_<e,t>(y_e))\")\n",
    "p2"
   ]
  },
  {
   "cell_type": "markdown",
   "metadata": {},
   "source": [
    "Let's examine in detail what happens when a function and argument combine."
   ]
  },
  {
   "cell_type": "code",
   "execution_count": 23,
   "metadata": {
    "execution": {
     "iopub.execute_input": "2024-03-14T17:51:04.366151Z",
     "iopub.status.busy": "2024-03-14T17:51:04.366070Z",
     "iopub.status.idle": "2024-03-14T17:51:04.368423Z",
     "shell.execute_reply": "2024-03-14T17:51:04.368249Z"
    }
   },
   "outputs": [
    {
     "name": "stdout",
     "output_type": "stream",
     "text": [
      "INFO (core): Coerced guessed type for 'Cat_t' into <e,t>, to match argument 'x_e'\n"
     ]
    },
    {
     "data": {
      "text/latex": [
       "$\\lambda{} x_{e} \\: . \\: {Cat}({x})$"
      ],
      "text/plain": [
       "(λ x_e: Cat_<e,t>(x_e))"
      ]
     },
     "execution_count": 23,
     "metadata": {},
     "output_type": "execute_result"
    }
   ],
   "source": [
    "catf = meta.LFun(te(\"x_e\"), te(\"Cat(x_e)\"))\n",
    "catf"
   ]
  },
  {
   "cell_type": "code",
   "execution_count": 24,
   "metadata": {
    "execution": {
     "iopub.execute_input": "2024-03-14T17:51:04.369523Z",
     "iopub.status.busy": "2024-03-14T17:51:04.369442Z",
     "iopub.status.idle": "2024-03-14T17:51:04.371442Z",
     "shell.execute_reply": "2024-03-14T17:51:04.371252Z"
    }
   },
   "outputs": [
    {
     "data": {
      "text/latex": [
       "${[\\lambda{} x_{e} \\: . \\: {Cat}({x})]}({y}_{e})$"
      ],
      "text/plain": [
       "(λ x_e: Cat_<e,t>(x_e))(y_e)"
      ]
     },
     "execution_count": 24,
     "metadata": {},
     "output_type": "execute_result"
    }
   ],
   "source": [
    "catf(te(\"y_e\"))"
   ]
  },
  {
   "cell_type": "markdown",
   "metadata": {},
   "source": [
    "Building a function-argument expression builds a complex, unreduced expression.  This can be explicitly reduced (note that the `reduce_all()` function would be used to apply reduction  recursively):"
   ]
  },
  {
   "cell_type": "code",
   "execution_count": 25,
   "metadata": {
    "execution": {
     "iopub.execute_input": "2024-03-14T17:51:04.372576Z",
     "iopub.status.busy": "2024-03-14T17:51:04.372495Z",
     "iopub.status.idle": "2024-03-14T17:51:04.374472Z",
     "shell.execute_reply": "2024-03-14T17:51:04.374276Z"
    }
   },
   "outputs": [
    {
     "data": {
      "text/latex": [
       "${Cat}({y}_{e})$"
      ],
      "text/plain": [
       "Cat_<e,t>(y_e)"
      ]
     },
     "execution_count": 25,
     "metadata": {},
     "output_type": "execute_result"
    }
   ],
   "source": [
    "catf(te(\"y_e\")).reduce()"
   ]
  },
  {
   "cell_type": "code",
   "execution_count": 26,
   "metadata": {
    "execution": {
     "iopub.execute_input": "2024-03-14T17:51:04.375502Z",
     "iopub.status.busy": "2024-03-14T17:51:04.375425Z",
     "iopub.status.idle": "2024-03-14T17:51:04.377515Z",
     "shell.execute_reply": "2024-03-14T17:51:04.377323Z"
    }
   },
   "outputs": [
    {
     "data": {
      "text/html": [
       "<div align=\"left\" style=\"display:table;\"><div style=\"display:table-cell;vertical-align:top;padding-left:5px;padding-right:5px;padding-top:0.2em\"><div style=\"display:table;\"><div style=\"display:table-row;vertical-align:top;\"><div align=\"left\" style=\"display:table;border-collapse:collapse;\"><div style=\"display:table-row;border-bottom:1px solid #848482;\"><div style=\"display:table-cell;padding:0.2em 5px 0.2em 0px;vertical-align:top;\"></div><div style=\"display:table-cell;vertical-align:top;border-right:1px solid #848482;padding-right:5px;;padding-top:0.2em\"><div style=\"display:inline-block;\"><span>${[\\lambda{} x_{e} \\: . \\: {Cat}({x})]}({y}_{e})$</span></div></div><div style=\"display:table-cell;vertical-align:top;padding-left:5px;padding-right:5px;padding-top:0.2em\"><div style=\"display:table;\"><div style=\"display:table-row;\"><div style=\"white-space:nowrap; color:blue;\"><span>Reduction</span></div></div></div></div></div><div style=\"display:table-row;\"><div style=\"display:table-cell;padding:0.2em 5px 0.2em 0px;vertical-align:top;\"> 1. </div><div style=\"display:table-cell;vertical-align:top;border-right:1px solid #848482;padding-right:5px;;padding-top:0.2em\"><div style=\"display:inline-block;\"><span>${Cat}({y}_{e})$</span></div></div></div></div></div></div></div></div>"
      ],
      "text/plain": [
       " 1. (λ x_e: Cat_<e,t>(x_e))(y_e)    (Reduction)\n",
       " 2. Cat_<e,t>(y_e)"
      ]
     },
     "execution_count": 26,
     "metadata": {},
     "output_type": "execute_result"
    }
   ],
   "source": [
    "(catf(te(\"y_e\")).reduce()).derivation"
   ]
  },
  {
   "cell_type": "markdown",
   "metadata": {},
   "source": [
    "The metalanguage supports some basic type inference.  Type inference happens already on combination of a function and argument into an unreduced expression, not on beta-reduction."
   ]
  },
  {
   "cell_type": "code",
   "execution_count": 27,
   "metadata": {
    "execution": {
     "iopub.execute_input": "2024-03-14T17:51:04.378650Z",
     "iopub.status.busy": "2024-03-14T17:51:04.378569Z",
     "iopub.status.idle": "2024-03-14T17:51:04.382477Z",
     "shell.execute_reply": "2024-03-14T17:51:04.382279Z"
    }
   },
   "outputs": [
    {
     "data": {
      "text/markdown": [
       "${ttest}_{\\left\\langle{}X,t\\right\\rangle{}}\\:=\\:\\lambda{} x_{X} \\: . \\: {P}_{\\left\\langle{}X,t\\right\\rangle{}}({x})$"
      ],
      "text/plain": [
       "ttest_<X,t> = (λ x_X: P_<X,t>(x_X))"
      ]
     },
     "metadata": {},
     "output_type": "display_data"
    },
    {
     "data": {
      "text/markdown": [
       "${tvar}_{t}\\:=\\:{y}_{t}$"
      ],
      "text/plain": [
       "tvar_t = y_t"
      ]
     },
     "metadata": {},
     "output_type": "display_data"
    },
    {
     "data": {
      "text/latex": [
       "${[\\lambda{} x_{t} \\: . \\: {P}_{\\left\\langle{}t,t\\right\\rangle{}}({x})]}({y}_{t})$"
      ],
      "text/plain": [
       "(λ x_t: P_<t,t>(x_t))(y_t)"
      ]
     },
     "execution_count": 27,
     "metadata": {},
     "output_type": "execute_result"
    }
   ],
   "source": [
    "%lamb ttest = L x_X : P_<?,t>(x) # type <?,t>\n",
    "%lamb tvar = y_t\n",
    "ttest(tvar)"
   ]
  },
  {
   "cell_type": "markdown",
   "metadata": {},
   "source": [
    "&nbsp;\n",
    "\n",
    "## Part 3: composition systems for an object language ##\n",
    "\n",
    "On top of the metalanguage are '**composition systems**' for modeling (step-by-step) semantic composition in an object language such as English.  This is the part of the lambda notebook that tracks and manipulates mappings between object language elements (words, trees, etc) and denotations in the metalanguage.  \n",
    "\n",
    "A composition at its core consists of a set of composition rules; the following cell defines a simple composition system that will be familiar to anyone who has taken a basic course in compositional semantics.  (This example is just a redefinition of the default composition system.)"
   ]
  },
  {
   "cell_type": "code",
   "execution_count": 28,
   "metadata": {
    "execution": {
     "iopub.execute_input": "2024-03-14T17:51:04.383576Z",
     "iopub.status.busy": "2024-03-14T17:51:04.383499Z",
     "iopub.status.idle": "2024-03-14T17:51:04.385750Z",
     "shell.execute_reply": "2024-03-14T17:51:04.385553Z"
    }
   },
   "outputs": [
    {
     "data": {
      "text/html": [
       "Composition system 'demo system'<br />Operations: {<br />&nbsp;&nbsp;&nbsp;&nbsp;Binary composition rule <i>FA</i>, built on python function 'lamb.lang.fa_fun'<br />&nbsp;&nbsp;&nbsp;&nbsp;Binary composition rule <i>PM</i>, built on python function 'lamb.lang.pm_fun'<br />&nbsp;&nbsp;&nbsp;&nbsp;Binary composition rule <i>PA</i>, built on python function 'lamb.lang.pa_fun'<br />}"
      ],
      "text/plain": [
       "Composition system: demo system"
      ]
     },
     "execution_count": 28,
     "metadata": {},
     "output_type": "execute_result"
    }
   ],
   "source": [
    "# none of this is strictly necessary, the built-in library already provides effectively this system.\n",
    "fa = lang.BinaryCompositionOp(\"FA\", lang.fa_fun, reduce=True)\n",
    "pm = lang.BinaryCompositionOp(\"PM\", lang.pm_fun, commutative=False, reduce=True)\n",
    "pa = lang.BinaryCompositionOp(\"PA\", lang.pa_fun, allow_none=True)\n",
    "demo_hk_system = lang.CompositionSystem(name=\"demo system\", rules=[fa, pm, pa])\n",
    "lang.set_system(demo_hk_system)\n",
    "demo_hk_system"
   ]
  },
  {
   "cell_type": "markdown",
   "metadata": {},
   "source": [
    "Expressing denotations is done in a `%%lamb` cell, and almost always begins with lexical items.  The following cell defines several lexical items that will be familiar from introductory exercises in the Heim & Kratzer 1998 textbook \"Semantics in Generative Grammar\".  These definitions produce items that are subclasses of the class `Composable`."
   ]
  },
  {
   "cell_type": "code",
   "execution_count": 29,
   "metadata": {
    "execution": {
     "iopub.execute_input": "2024-03-14T17:51:04.386893Z",
     "iopub.status.busy": "2024-03-14T17:51:04.386807Z",
     "iopub.status.idle": "2024-03-14T17:51:04.390908Z",
     "shell.execute_reply": "2024-03-14T17:51:04.390727Z"
    }
   },
   "outputs": [
    {
     "name": "stdout",
     "output_type": "stream",
     "text": [
      "INFO (core): Coerced guessed type for 'Cat_t' into <e,t>, to match argument 'x_e'\n",
      "INFO (core): Coerced guessed type for 'Gray_t' into <e,t>, to match argument 'x_e'\n",
      "INFO (core): Coerced guessed type for 'In_t' into <(e,e),t>, to match argument '(y_e, x_e)'\n"
     ]
    },
    {
     "data": {
      "text/markdown": [
       "$[\\![\\text{\\textbf{cat}}]\\!]^{}_{\\left\\langle{}e,t\\right\\rangle{}} \\:=\\: \\lambda{} x_{e} \\: . \\: {Cat}({x})$<br />\n",
       "$[\\![\\text{\\textbf{gray}}]\\!]^{}_{\\left\\langle{}e,t\\right\\rangle{}} \\:=\\: \\lambda{} x_{e} \\: . \\: {Gray}({x})$<br />\n",
       "$[\\![\\text{\\textbf{john}}]\\!]^{}_{e} \\:=\\: {John}_{e}$<br />\n",
       "$[\\![\\text{\\textbf{julius}}]\\!]^{}_{e} \\:=\\: {Julius}_{e}$<br />\n",
       "$[\\![\\text{\\textbf{inP}}]\\!]^{}_{\\left\\langle{}e,\\left\\langle{}e,t\\right\\rangle{}\\right\\rangle{}} \\:=\\: \\lambda{} x_{e} \\: . \\: \\lambda{} y_{e} \\: . \\: {In}({y}, {x})$<br />\n",
       "$[\\![\\text{\\textbf{texas}}]\\!]^{}_{e} \\:=\\: {Texas}_{e}$<br />\n",
       "$[\\![\\text{\\textbf{isV}}]\\!]^{}_{\\left\\langle{}\\left\\langle{}e,t\\right\\rangle{},\\left\\langle{}e,t\\right\\rangle{}\\right\\rangle{}} \\:=\\: \\lambda{} p_{\\left\\langle{}e,t\\right\\rangle{}} \\: . \\: {p}$"
      ],
      "text/plain": [
       "⟦cat⟧ = (λ x_e: Cat_<e,t>(x_e))\n",
       "⟦gray⟧ = (λ x_e: Gray_<e,t>(x_e))\n",
       "⟦john⟧ = John_e\n",
       "⟦julius⟧ = Julius_e\n",
       "⟦inP⟧ = (λ x_e: (λ y_e: In_<(e,e),t>(y_e, x_e)))\n",
       "⟦texas⟧ = Texas_e\n",
       "⟦isV⟧ = (λ p_<e,t>: p_<e,t>)"
      ]
     },
     "metadata": {},
     "output_type": "display_data"
    }
   ],
   "source": [
    "%%lamb\n",
    "||cat|| = L x_e: Cat(x)\n",
    "||gray|| = L x_e: Gray(x)\n",
    "||john|| = John_e\n",
    "||julius|| = Julius_e\n",
    "||inP|| = L x_e : L y_e : In(y, x) # `in` is a reserved word in python\n",
    "||texas|| = Texas_e\n",
    "||isV|| = L p_<e,t> : p # `is` is a reserved word in python"
   ]
  },
  {
   "cell_type": "markdown",
   "metadata": {},
   "source": [
    "In the purely type-driven mode, composition is triggered by using the '`*`' operator on a `Composable`.  This searches over the available composition operations in the system to see if any results can be had.  `inP` and `texas` above should be able to compose using the FA rule:"
   ]
  },
  {
   "cell_type": "code",
   "execution_count": 30,
   "metadata": {
    "execution": {
     "iopub.execute_input": "2024-03-14T17:51:04.392023Z",
     "iopub.status.busy": "2024-03-14T17:51:04.391939Z",
     "iopub.status.idle": "2024-03-14T17:51:04.394224Z",
     "shell.execute_reply": "2024-03-14T17:51:04.394025Z"
    }
   },
   "outputs": [
    {
     "data": {
      "text/markdown": [
       "1 composition path.  Result:<br />\n",
       "&nbsp;&nbsp;&nbsp;&nbsp;[0]: $[\\![\\text{\\textbf{[inP texas]}}]\\!]^{}_{\\left\\langle{}e,t\\right\\rangle{}} \\:=\\: \\lambda{} y_{e} \\: . \\: {In}({y}, {Texas}_{e})$"
      ],
      "text/plain": [
       "1 composition path.  Result:\n",
       "    [0]: ⟦inP⟧ * ⟦texas⟧ leads to: ⟦[inP texas]⟧ = (λ y_e: In_<(e,e),t>(y_e, Texas_e)) [by FA]"
      ]
     },
     "metadata": {},
     "output_type": "display_data"
    }
   ],
   "source": [
    "inP * texas"
   ]
  },
  {
   "cell_type": "markdown",
   "metadata": {},
   "source": [
    "On the other hand `isV` is looking for a property, so we shouldn't expect succesful composition.  Below this I have given a complete sentence and shown some introspection on that composition result."
   ]
  },
  {
   "cell_type": "code",
   "execution_count": 31,
   "metadata": {
    "execution": {
     "iopub.execute_input": "2024-03-14T17:51:04.395307Z",
     "iopub.status.busy": "2024-03-14T17:51:04.395238Z",
     "iopub.status.idle": "2024-03-14T17:51:04.397446Z",
     "shell.execute_reply": "2024-03-14T17:51:04.397251Z"
    }
   },
   "outputs": [
    {
     "data": {
      "text/markdown": [
       "Composition of \"[julius isV]\" failed:<br />\n",
       "&nbsp;&nbsp;&nbsp;&nbsp;<span style=\"color:red\">**TypeMismatch**</span>: $[\\![\\text{\\textbf{julius}}]\\!]^{}_{e} \\:=\\: {Julius}_{e}$ and $[\\![\\text{\\textbf{isV}}]\\!]^{}_{\\left\\langle{}\\left\\langle{}e,t\\right\\rangle{},\\left\\langle{}e,t\\right\\rangle{}\\right\\rangle{}} \\:=\\: \\lambda{} p_{\\left\\langle{}e,t\\right\\rangle{}} \\: . \\: {p}$ conflict (Function Application)<br />\n",
       "&nbsp;&nbsp;&nbsp;&nbsp;<span style=\"color:red\">**TypeMismatch**</span>: $[\\![\\text{\\textbf{isV}}]\\!]^{}_{\\left\\langle{}\\left\\langle{}e,t\\right\\rangle{},\\left\\langle{}e,t\\right\\rangle{}\\right\\rangle{}} \\:=\\: \\lambda{} p_{\\left\\langle{}e,t\\right\\rangle{}} \\: . \\: {p}$ and $[\\![\\text{\\textbf{julius}}]\\!]^{}_{e} \\:=\\: {Julius}_{e}$ conflict (Function Application)<br />\n",
       "&nbsp;&nbsp;&nbsp;&nbsp;<span style=\"color:red\">**TypeMismatch**</span>: $[\\![\\text{\\textbf{julius}}]\\!]^{}_{e} \\:=\\: {Julius}_{e}$ and $[\\![\\text{\\textbf{isV}}]\\!]^{}_{\\left\\langle{}\\left\\langle{}e,t\\right\\rangle{},\\left\\langle{}e,t\\right\\rangle{}\\right\\rangle{}} \\:=\\: \\lambda{} p_{\\left\\langle{}e,t\\right\\rangle{}} \\: . \\: {p}$ conflict (Predicate Modification)<br />\n",
       "&nbsp;&nbsp;&nbsp;&nbsp;<span style=\"color:red\">**TypeMismatch**</span>: $[\\![\\text{\\textbf{isV}}]\\!]^{}_{\\left\\langle{}\\left\\langle{}e,t\\right\\rangle{},\\left\\langle{}e,t\\right\\rangle{}\\right\\rangle{}} \\:=\\: \\lambda{} p_{\\left\\langle{}e,t\\right\\rangle{}} \\: . \\: {p}$ and $[\\![\\text{\\textbf{julius}}]\\!]^{}_{e} \\:=\\: {Julius}_{e}$ conflict (Predicate Modification)<br />\n",
       "&nbsp;&nbsp;&nbsp;&nbsp;<span style=\"color:red\"><b>Composition failure</b></span> (PA requires a valid binder) on: $[\\![\\text{\\textbf{julius}}]\\!]^{}_{e} \\:=\\: {Julius}_{e}$ * $[\\![\\text{\\textbf{isV}}]\\!]^{}_{\\left\\langle{}\\left\\langle{}e,t\\right\\rangle{},\\left\\langle{}e,t\\right\\rangle{}\\right\\rangle{}} \\:=\\: \\lambda{} p_{\\left\\langle{}e,t\\right\\rangle{}} \\: . \\: {p}$<br />\n",
       "&nbsp;&nbsp;&nbsp;&nbsp;<span style=\"color:red\"><b>Composition failure</b></span> (PA requires a valid binder) on: $[\\![\\text{\\textbf{isV}}]\\!]^{}_{\\left\\langle{}\\left\\langle{}e,t\\right\\rangle{},\\left\\langle{}e,t\\right\\rangle{}\\right\\rangle{}} \\:=\\: \\lambda{} p_{\\left\\langle{}e,t\\right\\rangle{}} \\: . \\: {p}$ * $[\\![\\text{\\textbf{julius}}]\\!]^{}_{e} \\:=\\: {Julius}_{e}$<br />\n"
      ],
      "text/plain": [
       "Composition of \"[julius isV]\" failed:\n",
       "    TypeMismatch: `⟦julius⟧ = Julius_e` and `⟦isV⟧ = (λ p_<e,t>: p_<e,t>)` conflict (Function Application)\n",
       "    TypeMismatch: `⟦isV⟧ = (λ p_<e,t>: p_<e,t>)` and `⟦julius⟧ = Julius_e` conflict (Function Application)\n",
       "    TypeMismatch: `⟦julius⟧ = Julius_e` and `⟦isV⟧ = (λ p_<e,t>: p_<e,t>)` conflict (Predicate Modification)\n",
       "    TypeMismatch: `⟦isV⟧ = (λ p_<e,t>: p_<e,t>)` and `⟦julius⟧ = Julius_e` conflict (Predicate Modification)\n",
       "    Composition failure (PA requires a valid binder) on: ⟦julius⟧ = Julius_e * ⟦isV⟧ = (λ p_<e,t>: p_<e,t>)\n",
       "    Composition failure (PA requires a valid binder) on: ⟦isV⟧ = (λ p_<e,t>: p_<e,t>) * ⟦julius⟧ = Julius_e"
      ]
     },
     "metadata": {},
     "output_type": "display_data"
    }
   ],
   "source": [
    "julius * isV # will fail due to type mismatches"
   ]
  },
  {
   "cell_type": "code",
   "execution_count": 32,
   "metadata": {
    "execution": {
     "iopub.execute_input": "2024-03-14T17:51:04.398505Z",
     "iopub.status.busy": "2024-03-14T17:51:04.398437Z",
     "iopub.status.idle": "2024-03-14T17:51:04.402482Z",
     "shell.execute_reply": "2024-03-14T17:51:04.402308Z"
    }
   },
   "outputs": [
    {
     "data": {
      "image/svg+xml": [
       "<svg baseProfile=\"full\" height=\"168px\" preserveAspectRatio=\"xMidYMid meet\" style=\"font-family: times, serif; font-weight: normal; font-style: normal; font-size: 16px;\" version=\"1.1\" viewBox=\"0,0,224.0,168.0\" width=\"224px\" xmlns=\"http://www.w3.org/2000/svg\" xmlns:ev=\"http://www.w3.org/2001/xml-events\" xmlns:xlink=\"http://www.w3.org/1999/xlink\"><defs /><svg width=\"100%\" x=\"0\" y=\"0px\"><defs /><text text-anchor=\"middle\" x=\"50%\" y=\"16px\">[julius [isV [inP texas]]]</text></svg><svg width=\"29.6296%\" x=\"0%\" y=\"48px\"><defs /><svg width=\"100%\" x=\"0\" y=\"0px\"><defs /><text text-anchor=\"middle\" x=\"50%\" y=\"16px\">julius</text></svg></svg><line stroke=\"black\" x1=\"50%\" x2=\"14.8148%\" y1=\"19.2px\" y2=\"48px\" /><svg width=\"70.3704%\" x=\"29.6296%\" y=\"48px\"><defs /><svg width=\"100%\" x=\"0\" y=\"0px\"><defs /><text text-anchor=\"middle\" x=\"50%\" y=\"16px\">[isV [inP texas]]</text></svg><svg width=\"27.7778%\" x=\"0%\" y=\"48px\"><defs /><svg width=\"100%\" x=\"0\" y=\"0px\"><defs /><text text-anchor=\"middle\" x=\"50%\" y=\"16px\">isV</text></svg></svg><line stroke=\"black\" x1=\"50%\" x2=\"13.8889%\" y1=\"19.2px\" y2=\"48px\" /><svg width=\"72.2222%\" x=\"27.7778%\" y=\"48px\"><defs /><svg width=\"100%\" x=\"0\" y=\"0px\"><defs /><text text-anchor=\"middle\" x=\"50%\" y=\"16px\">[inP texas]</text></svg><svg width=\"41.6667%\" x=\"0%\" y=\"48px\"><defs /><svg width=\"100%\" x=\"0\" y=\"0px\"><defs /><text text-anchor=\"middle\" x=\"50%\" y=\"16px\">inP</text></svg></svg><line stroke=\"black\" x1=\"50%\" x2=\"20.8333%\" y1=\"19.2px\" y2=\"48px\" /><svg width=\"58.3333%\" x=\"41.6667%\" y=\"48px\"><defs /><svg width=\"100%\" x=\"0\" y=\"0px\"><defs /><text text-anchor=\"middle\" x=\"50%\" y=\"16px\">texas</text></svg></svg><line stroke=\"black\" x1=\"50%\" x2=\"70.8333%\" y1=\"19.2px\" y2=\"48px\" /></svg><line stroke=\"black\" x1=\"50%\" x2=\"63.8889%\" y1=\"19.2px\" y2=\"48px\" /></svg><line stroke=\"black\" x1=\"50%\" x2=\"64.8148%\" y1=\"19.2px\" y2=\"48px\" /></svg>"
      ],
      "text/plain": [
       "Tree('[julius [isV [inP texas]]]', [Tree('julius', []), Tree('[isV [inP texas]]', [Tree('isV', []), Tree('[inP texas]', [Tree('inP', []), Tree('texas', [])])])])"
      ]
     },
     "metadata": {},
     "output_type": "display_data"
    },
    {
     "data": {
      "text/markdown": [
       "1 composition path.  Result:<br />\n",
       "&nbsp;&nbsp;&nbsp;&nbsp;[0]: $[\\![\\text{\\textbf{[julius [isV [inP texas]]]}}]\\!]^{}_{t} \\:=\\: {In}({Julius}_{e}, {Texas}_{e})$"
      ],
      "text/plain": [
       "1 composition path.  Result:\n",
       "    [0]: ⟦julius⟧ * ⟦[isV [inP texas]]⟧ leads to: ⟦[julius [isV [inP texas]]]⟧ = In_<(e,e),t>(Julius_e, Texas_e) [by FA]"
      ]
     },
     "metadata": {},
     "output_type": "display_data"
    }
   ],
   "source": [
    "sentence1 = julius * (isV * (inP * texas))\n",
    "display(sentence1[0].source_tree())\n",
    "sentence1"
   ]
  },
  {
   "cell_type": "code",
   "execution_count": 33,
   "metadata": {
    "execution": {
     "iopub.execute_input": "2024-03-14T17:51:04.403623Z",
     "iopub.status.busy": "2024-03-14T17:51:04.403541Z",
     "iopub.status.idle": "2024-03-14T17:51:04.405570Z",
     "shell.execute_reply": "2024-03-14T17:51:04.405382Z"
    }
   },
   "outputs": [
    {
     "data": {
      "text/markdown": [
       "Full composition trace.  1 path:<br />\n",
       "&nbsp;&nbsp;&nbsp;&nbsp;Step 1: $[\\![\\text{\\textbf{julius}}]\\!]^{}_{e} \\:=\\: {Julius}_{e}$<br />\n",
       "&nbsp;&nbsp;&nbsp;&nbsp;Step 2: $[\\![\\text{\\textbf{isV}}]\\!]^{}_{\\left\\langle{}\\left\\langle{}e,t\\right\\rangle{},\\left\\langle{}e,t\\right\\rangle{}\\right\\rangle{}} \\:=\\: \\lambda{} p_{\\left\\langle{}e,t\\right\\rangle{}} \\: . \\: {p}$<br />\n",
       "&nbsp;&nbsp;&nbsp;&nbsp;Step 3: $[\\![\\text{\\textbf{inP}}]\\!]^{}_{\\left\\langle{}e,\\left\\langle{}e,t\\right\\rangle{}\\right\\rangle{}} \\:=\\: \\lambda{} x_{e} \\: . \\: \\lambda{} y_{e} \\: . \\: {In}({y}, {x})$<br />\n",
       "&nbsp;&nbsp;&nbsp;&nbsp;Step 4: $[\\![\\text{\\textbf{texas}}]\\!]^{}_{e} \\:=\\: {Texas}_{e}$<br />\n",
       "&nbsp;&nbsp;&nbsp;&nbsp;Step 5: $[\\![\\text{\\textbf{inP}}]\\!]^{}_{\\left\\langle{}e,\\left\\langle{}e,t\\right\\rangle{}\\right\\rangle{}}$ * $[\\![\\text{\\textbf{texas}}]\\!]^{}_{e}$ leads to: $[\\![\\text{\\textbf{[inP texas]}}]\\!]^{}_{\\left\\langle{}e,t\\right\\rangle{}} \\:=\\: \\lambda{} y_{e} \\: . \\: {In}({y}, {Texas}_{e})$ <b>[by FA]</b><br />\n",
       "&nbsp;&nbsp;&nbsp;&nbsp;Step 6: $[\\![\\text{\\textbf{isV}}]\\!]^{}_{\\left\\langle{}\\left\\langle{}e,t\\right\\rangle{},\\left\\langle{}e,t\\right\\rangle{}\\right\\rangle{}}$ * $[\\![\\text{\\textbf{[inP texas]}}]\\!]^{}_{\\left\\langle{}e,t\\right\\rangle{}}$ leads to: $[\\![\\text{\\textbf{[isV [inP texas]]}}]\\!]^{}_{\\left\\langle{}e,t\\right\\rangle{}} \\:=\\: \\lambda{} y_{e} \\: . \\: {In}({y}, {Texas}_{e})$ <b>[by FA]</b><br />\n",
       "&nbsp;&nbsp;&nbsp;&nbsp;Step 7: $[\\![\\text{\\textbf{julius}}]\\!]^{}_{e}$ * $[\\![\\text{\\textbf{[isV [inP texas]]}}]\\!]^{}_{\\left\\langle{}e,t\\right\\rangle{}}$ leads to: $[\\![\\text{\\textbf{[julius [isV [inP texas]]]}}]\\!]^{}_{t} \\:=\\: {In}({Julius}_{e}, {Texas}_{e})$ <b>[by FA]</b><br />\n"
      ],
      "text/plain": [
       "Full composition trace.  1 path:<br />\n",
       "&nbsp;&nbsp;&nbsp;&nbsp;Step 1: $[\\![\\text{\\textbf{julius}}]\\!]^{}_{e} \\:=\\: {Julius}_{e}$<br />\n",
       "&nbsp;&nbsp;&nbsp;&nbsp;Step 2: $[\\![\\text{\\textbf{isV}}]\\!]^{}_{\\left\\langle{}\\left\\langle{}e,t\\right\\rangle{},\\left\\langle{}e,t\\right\\rangle{}\\right\\rangle{}} \\:=\\: \\lambda{} p_{\\left\\langle{}e,t\\right\\rangle{}} \\: . \\: {p}$<br />\n",
       "&nbsp;&nbsp;&nbsp;&nbsp;Step 3: $[\\![\\text{\\textbf{inP}}]\\!]^{}_{\\left\\langle{}e,\\left\\langle{}e,t\\right\\rangle{}\\right\\rangle{}} \\:=\\: \\lambda{} x_{e} \\: . \\: \\lambda{} y_{e} \\: . \\: {In}({y}, {x})$<br />\n",
       "&nbsp;&nbsp;&nbsp;&nbsp;Step 4: $[\\![\\text{\\textbf{texas}}]\\!]^{}_{e} \\:=\\: {Texas}_{e}$<br />\n",
       "&nbsp;&nbsp;&nbsp;&nbsp;Step 5: $[\\![\\text{\\textbf{inP}}]\\!]^{}_{\\left\\langle{}e,\\left\\langle{}e,t\\right\\rangle{}\\right\\rangle{}}$ * $[\\![\\text{\\textbf{texas}}]\\!]^{}_{e}$ leads to: $[\\![\\text{\\textbf{[inP texas]}}]\\!]^{}_{\\left\\langle{}e,t\\right\\rangle{}} \\:=\\: \\lambda{} y_{e} \\: . \\: {In}({y}, {Texas}_{e})$ <b>[by FA]</b><br />\n",
       "&nbsp;&nbsp;&nbsp;&nbsp;Step 6: $[\\![\\text{\\textbf{isV}}]\\!]^{}_{\\left\\langle{}\\left\\langle{}e,t\\right\\rangle{},\\left\\langle{}e,t\\right\\rangle{}\\right\\rangle{}}$ * $[\\![\\text{\\textbf{[inP texas]}}]\\!]^{}_{\\left\\langle{}e,t\\right\\rangle{}}$ leads to: $[\\![\\text{\\textbf{[isV [inP texas]]}}]\\!]^{}_{\\left\\langle{}e,t\\right\\rangle{}} \\:=\\: \\lambda{} y_{e} \\: . \\: {In}({y}, {Texas}_{e})$ <b>[by FA]</b><br />\n",
       "&nbsp;&nbsp;&nbsp;&nbsp;Step 7: $[\\![\\text{\\textbf{julius}}]\\!]^{}_{e}$ * $[\\![\\text{\\textbf{[isV [inP texas]]}}]\\!]^{}_{\\left\\langle{}e,t\\right\\rangle{}}$ leads to: $[\\![\\text{\\textbf{[julius [isV [inP texas]]]}}]\\!]^{}_{t} \\:=\\: {In}({Julius}_{e}, {Texas}_{e})$ <b>[by FA]</b><br />"
      ]
     },
     "execution_count": 33,
     "metadata": {},
     "output_type": "execute_result"
    }
   ],
   "source": [
    "sentence1.trace()"
   ]
  },
  {
   "cell_type": "markdown",
   "metadata": {},
   "source": [
    "Composition will find all possible paths (beware of combinatorial explosion).  I have temporarily disabled the fact that standard PM is symmetric/commutative (because of conjunction), to illustrate a case with multiple composition paths:"
   ]
  },
  {
   "cell_type": "code",
   "execution_count": 34,
   "metadata": {
    "execution": {
     "iopub.execute_input": "2024-03-14T17:51:04.406725Z",
     "iopub.status.busy": "2024-03-14T17:51:04.406645Z",
     "iopub.status.idle": "2024-03-14T17:51:04.410971Z",
     "shell.execute_reply": "2024-03-14T17:51:04.410783Z"
    }
   },
   "outputs": [
    {
     "data": {
      "text/markdown": [
       "1 composition path.  Result:<br />\n",
       "&nbsp;&nbsp;&nbsp;&nbsp;[0]: $[\\![\\text{\\textbf{[gray cat]}}]\\!]^{}_{\\left\\langle{}e,t\\right\\rangle{}} \\:=\\: \\lambda{} x_{e} \\: . \\: {Cat}({x}) \\wedge{} {Gray}({x})$ &nbsp;&nbsp;<span style=\"font-size:small\">(2 equivalent paths lead here)</span>"
      ],
      "text/plain": [
       "1 composition path.  Result:\n",
       "    [0]: ⟦gray⟧ * ⟦cat⟧ leads to: ⟦[gray cat]⟧ = (λ x_e: (Cat_<e,t>(x_e) & Gray_<e,t>(x_e))) [by PM] (1 equivalent paths not shown: PM) (2 equivalent paths lead here)"
      ]
     },
     "metadata": {},
     "output_type": "display_data"
    }
   ],
   "source": [
    "gray * cat"
   ]
  },
  {
   "cell_type": "code",
   "execution_count": 35,
   "metadata": {
    "execution": {
     "iopub.execute_input": "2024-03-14T17:51:04.412031Z",
     "iopub.status.busy": "2024-03-14T17:51:04.411946Z",
     "iopub.status.idle": "2024-03-14T17:51:04.418150Z",
     "shell.execute_reply": "2024-03-14T17:51:04.417965Z"
    }
   },
   "outputs": [
    {
     "data": {
      "text/markdown": [
       "1 composition path.  Result:<br />\n",
       "&nbsp;&nbsp;&nbsp;&nbsp;[0]: $[\\![\\text{\\textbf{[gray [cat [inP texas]]]}}]\\!]^{}_{\\left\\langle{}e,t\\right\\rangle{}} \\:=\\: \\lambda{} x_{e} \\: . \\: {Cat}({x}) \\wedge{} {Gray}({x}) \\wedge{} {In}({x}, {Texas}_{e})$ &nbsp;&nbsp;<span style=\"font-size:small\">(4 equivalent paths lead here)</span>"
      ],
      "text/plain": [
       "1 composition path.  Result:\n",
       "    [0]: ⟦gray⟧ * ⟦[cat [inP texas]]⟧ leads to: ⟦[gray [cat [inP texas]]]⟧ = (λ x_e: ((Cat_<e,t>(x_e) & Gray_<e,t>(x_e)) & In_<(e,e),t>(x_e, Texas_e))) [by PM] (1 equivalent paths not shown: PM) (4 equivalent paths lead here)"
      ]
     },
     "metadata": {},
     "output_type": "display_data"
    }
   ],
   "source": [
    "gray * (cat * (inP * texas))"
   ]
  },
  {
   "cell_type": "code",
   "execution_count": 36,
   "metadata": {
    "execution": {
     "iopub.execute_input": "2024-03-14T17:51:04.419222Z",
     "iopub.status.busy": "2024-03-14T17:51:04.419140Z",
     "iopub.status.idle": "2024-03-14T17:51:04.426142Z",
     "shell.execute_reply": "2024-03-14T17:51:04.425924Z"
    }
   },
   "outputs": [
    {
     "data": {
      "text/markdown": [
       "1 composition path.  Result:<br />\n",
       "&nbsp;&nbsp;&nbsp;&nbsp;[0]: $[\\![\\text{\\textbf{[isV [a [[gray cat] [inP texas]]]]}}]\\!]^{}_{\\left\\langle{}e,t\\right\\rangle{}} \\:=\\: \\lambda{} x_{e} \\: . \\: {Cat}({x}) \\wedge{} {Gray}({x}) \\wedge{} {In}({x}, {Texas}_{e})$ &nbsp;&nbsp;<span style=\"font-size:small\">(4 equivalent paths lead here)</span>"
      ],
      "text/plain": [
       "1 composition path.  Result:\n",
       "    [0]: ⟦isV⟧ * ⟦[a [[gray cat] [inP texas]]]⟧ leads to: ⟦[isV [a [[gray cat] [inP texas]]]]⟧ = (λ x_e: ((Cat_<e,t>(x_e) & Gray_<e,t>(x_e)) & In_<(e,e),t>(x_e, Texas_e))) [by FA] (4 equivalent paths lead here)"
      ]
     },
     "metadata": {},
     "output_type": "display_data"
    }
   ],
   "source": [
    "a = lang.Item(\"a\", isV.content) # identity function for copula as well\n",
    "isV * (a * (gray * cat * (inP * texas)))"
   ]
  },
  {
   "cell_type": "code",
   "execution_count": 37,
   "metadata": {
    "execution": {
     "iopub.execute_input": "2024-03-14T17:51:04.427216Z",
     "iopub.status.busy": "2024-03-14T17:51:04.427136Z",
     "iopub.status.idle": "2024-03-14T17:51:04.434518Z",
     "shell.execute_reply": "2024-03-14T17:51:04.434310Z"
    }
   },
   "outputs": [
    {
     "data": {
      "text/markdown": [
       "1 composition path.  Result:<br />\n",
       "&nbsp;&nbsp;&nbsp;&nbsp;[0]: $[\\![\\text{\\textbf{[julius [isV [a [[gray cat] [inP texas]]]]]}}]\\!]^{}_{t} \\:=\\: {Cat}({Julius}_{e}) \\wedge{} {Gray}({Julius}_{e}) \\wedge{} {In}({Julius}_{e}, {Texas}_{e})$ &nbsp;&nbsp;<span style=\"font-size:small\">(4 equivalent paths lead here)</span>"
      ],
      "text/plain": [
       "1 composition path.  Result:\n",
       "    [0]: ⟦julius⟧ * ⟦[isV [a [[gray cat] [inP texas]]]]⟧ leads to: ⟦[julius [isV [a [[gray cat] [inP texas]]]]]⟧ = ((Cat_<e,t>(Julius_e) & Gray_<e,t>(Julius_e)) & In_<(e,e),t>(Julius_e, Texas_e)) [by FA] (4 equivalent paths lead here)"
      ]
     },
     "metadata": {},
     "output_type": "display_data"
    }
   ],
   "source": [
    "np = ((gray * cat) * (inP * texas))\n",
    "vp = (isV * (a * np))\n",
    "sentence2 = julius * vp\n",
    "sentence2"
   ]
  },
  {
   "cell_type": "code",
   "execution_count": 38,
   "metadata": {
    "execution": {
     "iopub.execute_input": "2024-03-14T17:51:04.435597Z",
     "iopub.status.busy": "2024-03-14T17:51:04.435511Z",
     "iopub.status.idle": "2024-03-14T17:51:04.437461Z",
     "shell.execute_reply": "2024-03-14T17:51:04.437269Z"
    }
   },
   "outputs": [
    {
     "data": {
      "text/latex": [
       "$[\\![\\text{\\textbf{[julius [isV [inP texas]]]}}]\\!]^{}_{t} \\:=\\: {In}({Julius}_{e}, {Texas}_{e})$"
      ],
      "text/plain": [
       "⟦[julius [isV [inP texas]]]⟧ = In_<(e,e),t>(Julius_e, Texas_e)"
      ]
     },
     "execution_count": 38,
     "metadata": {},
     "output_type": "execute_result"
    }
   ],
   "source": [
    "sentence1.results[0]"
   ]
  },
  {
   "cell_type": "code",
   "execution_count": 39,
   "metadata": {
    "execution": {
     "iopub.execute_input": "2024-03-14T17:51:04.438544Z",
     "iopub.status.busy": "2024-03-14T17:51:04.438460Z",
     "iopub.status.idle": "2024-03-14T17:51:04.440767Z",
     "shell.execute_reply": "2024-03-14T17:51:04.440582Z"
    }
   },
   "outputs": [
    {
     "data": {
      "text/html": [
       "<div align=\"center\" style=\"display:table; margin:5px; border-collapse: collapse;border: 1px solid #848482;\"><div align=\"center\" style=\"display:table-row;border-bottom:1px solid #848482\"><div style=\"display:table-cell;vertical-align:middle;\"><div style=\"display: table;\"><div style=\"display:table-cell;vertical-align:middle;padding-left:5px;padding-right:5px;padding-top:5px;padding-bottom:5px;\"><div align=\"center\" style=\"display:block;padding-left:5px;padding-right:5px;padding-top:5px;padding-bottom:5px;\"><div style=\"display:table;table-layout:auto;\" align=\"center\"><div style=\"display:table-row;\"><div style=\"display:table-cell;padding-right:2px; padding-left:2px;\" align=\"center\"><div style=\"display:inline-block;\"><span>$[\\![\\text{\\textbf{julius}}]\\!]^{}_{e}$</span></div></div></div><div style=\"display:table-row;\"><div style=\"display:table-cell;padding-right:2px; padding-left:2px;\" align=\"center\"><div style=\"display:inline-block;\"><span>${Julius}_{e}$</span></div></div></div></div></div></div><div style=\"align: center; vertical-align: middle; display: table-cell;\"><span style=\"padding:1em;\">*</span></div><div style=\"display:table-cell;vertical-align:middle;padding-left:5px;padding-right:5px;padding-top:5px;padding-bottom:5px;\"><div align=\"center\" style=\"display:table; margin:5px; border-collapse: collapse;border: 1px solid #848482;\"><div align=\"center\" style=\"display:table-row;border-bottom:1px solid #848482\"><div style=\"display:table-cell;vertical-align:middle;\"><div style=\"display: table;\"><div style=\"display:table-cell;vertical-align:middle;padding-left:5px;padding-right:5px;padding-top:5px;padding-bottom:5px;\"><div align=\"center\" style=\"display:block;padding-left:5px;padding-right:5px;padding-top:5px;padding-bottom:5px;\"><div style=\"display:table;table-layout:auto;\" align=\"center\"><div style=\"display:table-row;\"><div style=\"display:table-cell;padding-right:2px; padding-left:2px;\" align=\"center\"><div style=\"display:inline-block;\"><span>$[\\![\\text{\\textbf{isV}}]\\!]^{}_{\\left\\langle{}\\left\\langle{}e,t\\right\\rangle{},\\left\\langle{}e,t\\right\\rangle{}\\right\\rangle{}}$</span></div></div></div><div style=\"display:table-row;\"><div style=\"display:table-cell;padding-right:2px; padding-left:2px;\" align=\"center\"><div style=\"display:inline-block;\"><span>$\\lambda{} p_{\\left\\langle{}e,t\\right\\rangle{}} \\: . \\: {p}$</span></div></div></div></div></div></div><div style=\"align: center; vertical-align: middle; display: table-cell;\"><span style=\"padding:1em;\">*</span></div><div style=\"display:table-cell;vertical-align:middle;padding-left:5px;padding-right:5px;padding-top:5px;padding-bottom:5px;\"><div align=\"center\" style=\"display:table; margin:5px; border-collapse: collapse;border: 1px solid #848482;\"><div align=\"center\" style=\"display:table-row;border-bottom:1px solid #848482\"><div style=\"display:table-cell;vertical-align:middle;\"><div style=\"display: table;\"><div style=\"display:table-cell;vertical-align:middle;padding-left:5px;padding-right:5px;padding-top:5px;padding-bottom:5px;\"><div align=\"center\" style=\"display:block;padding-left:5px;padding-right:5px;padding-top:5px;padding-bottom:5px;\"><div style=\"display:table;table-layout:auto;\" align=\"center\"><div style=\"display:table-row;\"><div style=\"display:table-cell;padding-right:2px; padding-left:2px;\" align=\"center\"><div style=\"display:inline-block;\"><span>$[\\![\\text{\\textbf{inP}}]\\!]^{}_{\\left\\langle{}e,\\left\\langle{}e,t\\right\\rangle{}\\right\\rangle{}}$</span></div></div></div><div style=\"display:table-row;\"><div style=\"display:table-cell;padding-right:2px; padding-left:2px;\" align=\"center\"><div style=\"display:inline-block;\"><span>$\\lambda{} x_{e} \\: . \\: \\lambda{} y_{e} \\: . \\: {In}({y}, {x})$</span></div></div></div></div></div></div><div style=\"align: center; vertical-align: middle; display: table-cell;\"><span style=\"padding:1em;\">*</span></div><div style=\"display:table-cell;vertical-align:middle;padding-left:5px;padding-right:5px;padding-top:5px;padding-bottom:5px;\"><div align=\"center\" style=\"display:block;padding-left:5px;padding-right:5px;padding-top:5px;padding-bottom:5px;\"><div style=\"display:table;table-layout:auto;\" align=\"center\"><div style=\"display:table-row;\"><div style=\"display:table-cell;padding-right:2px; padding-left:2px;\" align=\"center\"><div style=\"display:inline-block;\"><span>$[\\![\\text{\\textbf{texas}}]\\!]^{}_{e}$</span></div></div></div><div style=\"display:table-row;\"><div style=\"display:table-cell;padding-right:2px; padding-left:2px;\" align=\"center\"><div style=\"display:inline-block;\"><span>${Texas}_{e}$</span></div></div></div></div></div></div></div></div><div style=\"display:table-cell;vertical-align:middle;border-left:1px solid #848482;padding:0.5em\"><div style=\"white-space:nowrap; color:blue;\"><b>[<span>FA</span>]</b></div></div></div><div align=\"center\" style=\"display:table-row;padding-left:5px;padding-right:5px;padding-top:5px;padding-bottom:5px;\"><div align=\"center\" style=\"display:table-cell;\"><div align=\"center\" style=\"display:block;padding-left:5px;padding-right:5px;padding-top:5px;padding-bottom:5px;\"><div style=\"display:table;table-layout:auto;\" align=\"center\"><div style=\"display:table-row;\"><div style=\"display:table-cell;padding-right:2px; padding-left:2px;\" align=\"center\"><div style=\"display:inline-block;\"><span>$[\\![\\text{\\textbf{[inP texas]}}]\\!]^{}_{\\left\\langle{}e,t\\right\\rangle{}}$</span></div></div></div><div style=\"display:table-row;\"><div style=\"display:table-cell;padding-right:2px; padding-left:2px;\" align=\"center\"><div style=\"display:inline-block;\"><span>$\\lambda{} y_{e} \\: . \\: {In}({y}, {Texas}_{e})$</span></div></div></div></div></div></div><div style=\"display:table-cell;\"></div></div></div></div></div></div><div style=\"display:table-cell;vertical-align:middle;border-left:1px solid #848482;padding:0.5em\"><div style=\"white-space:nowrap; color:blue;\"><b>[<span>FA</span>]</b></div></div></div><div align=\"center\" style=\"display:table-row;padding-left:5px;padding-right:5px;padding-top:5px;padding-bottom:5px;\"><div align=\"center\" style=\"display:table-cell;\"><div align=\"center\" style=\"display:block;padding-left:5px;padding-right:5px;padding-top:5px;padding-bottom:5px;\"><div style=\"display:table;table-layout:auto;\" align=\"center\"><div style=\"display:table-row;\"><div style=\"display:table-cell;padding-right:2px; padding-left:2px;\" align=\"center\"><div style=\"display:inline-block;\"><span>$[\\![\\text{\\textbf{[isV [inP texas]]}}]\\!]^{}_{\\left\\langle{}e,t\\right\\rangle{}}$</span></div></div></div><div style=\"display:table-row;\"><div style=\"display:table-cell;padding-right:2px; padding-left:2px;\" align=\"center\"><div style=\"display:inline-block;\"><span>$\\lambda{} y_{e} \\: . \\: {In}({y}, {Texas}_{e})$</span></div></div></div></div></div></div><div style=\"display:table-cell;\"></div></div></div></div></div></div><div style=\"display:table-cell;vertical-align:middle;border-left:1px solid #848482;padding:0.5em\"><div style=\"white-space:nowrap; color:blue;\"><b>[<span>FA</span>]</b></div></div></div><div align=\"center\" style=\"display:table-row;padding-left:5px;padding-right:5px;padding-top:5px;padding-bottom:5px;\"><div align=\"center\" style=\"display:table-cell;\"><div align=\"center\" style=\"display:block;padding-left:5px;padding-right:5px;padding-top:5px;padding-bottom:5px;\"><div style=\"display:table;table-layout:auto;\" align=\"center\"><div style=\"display:table-row;\"><div style=\"display:table-cell;padding-right:2px; padding-left:2px;\" align=\"center\"><div style=\"display:inline-block;\"><span>$[\\![\\text{\\textbf{[julius [isV [inP texas]]]}}]\\!]^{}_{t}$</span></div></div></div><div style=\"display:table-row;\"><div style=\"display:table-cell;padding-right:2px; padding-left:2px;\" align=\"center\"><div style=\"display:inline-block;\"><span>${In}({Julius}_{e}, {Texas}_{e})$</span></div></div></div></div></div></div><div style=\"display:table-cell;\"></div></div></div>"
      ],
      "text/plain": [
       "<div align=\"center\" style=\"display:table; margin:5px; border-collapse: collapse;border: 1px solid #848482;\"><div align=\"center\" style=\"display:table-row;border-bottom:1px solid #848482\"><div style=\"display:table-cell;vertical-align:middle;\"><div style=\"display: table;\"><div style=\"display:table-cell;vertical-align:middle;padding-left:5px;padding-right:5px;padding-top:5px;padding-bottom:5px;\"><div align=\"center\" style=\"display:block;padding-left:5px;padding-right:5px;padding-top:5px;padding-bottom:5px;\"><div style=\"display:table;table-layout:auto;\" align=\"center\"><div style=\"display:table-row;\"><div style=\"display:table-cell;padding-right:2px; padding-left:2px;\" align=\"center\"><div style=\"display:inline-block;\"><span>$[\\![\\text{\\textbf{julius}}]\\!]^{}_{e}$</span></div></div></div><div style=\"display:table-row;\"><div style=\"display:table-cell;padding-right:2px; padding-left:2px;\" align=\"center\"><div style=\"display:inline-block;\"><span>${Julius}_{e}$</span></div></div></div></div></div></div><div style=\"align: center; vertical-align: middle; display: table-cell;\"><span style=\"padding:1em;\">*</span></div><div style=\"display:table-cell;vertical-align:middle;padding-left:5px;padding-right:5px;padding-top:5px;padding-bottom:5px;\"><div align=\"center\" style=\"display:table; margin:5px; border-collapse: collapse;border: 1px solid #848482;\"><div align=\"center\" style=\"display:table-row;border-bottom:1px solid #848482\"><div style=\"display:table-cell;vertical-align:middle;\"><div style=\"display: table;\"><div style=\"display:table-cell;vertical-align:middle;padding-left:5px;padding-right:5px;padding-top:5px;padding-bottom:5px;\"><div align=\"center\" style=\"display:block;padding-left:5px;padding-right:5px;padding-top:5px;padding-bottom:5px;\"><div style=\"display:table;table-layout:auto;\" align=\"center\"><div style=\"display:table-row;\"><div style=\"display:table-cell;padding-right:2px; padding-left:2px;\" align=\"center\"><div style=\"display:inline-block;\"><span>$[\\![\\text{\\textbf{isV}}]\\!]^{}_{\\left\\langle{}\\left\\langle{}e,t\\right\\rangle{},\\left\\langle{}e,t\\right\\rangle{}\\right\\rangle{}}$</span></div></div></div><div style=\"display:table-row;\"><div style=\"display:table-cell;padding-right:2px; padding-left:2px;\" align=\"center\"><div style=\"display:inline-block;\"><span>$\\lambda{} p_{\\left\\langle{}e,t\\right\\rangle{}} \\: . \\: {p}$</span></div></div></div></div></div></div><div style=\"align: center; vertical-align: middle; display: table-cell;\"><span style=\"padding:1em;\">*</span></div><div style=\"display:table-cell;vertical-align:middle;padding-left:5px;padding-right:5px;padding-top:5px;padding-bottom:5px;\"><div align=\"center\" style=\"display:table; margin:5px; border-collapse: collapse;border: 1px solid #848482;\"><div align=\"center\" style=\"display:table-row;border-bottom:1px solid #848482\"><div style=\"display:table-cell;vertical-align:middle;\"><div style=\"display: table;\"><div style=\"display:table-cell;vertical-align:middle;padding-left:5px;padding-right:5px;padding-top:5px;padding-bottom:5px;\"><div align=\"center\" style=\"display:block;padding-left:5px;padding-right:5px;padding-top:5px;padding-bottom:5px;\"><div style=\"display:table;table-layout:auto;\" align=\"center\"><div style=\"display:table-row;\"><div style=\"display:table-cell;padding-right:2px; padding-left:2px;\" align=\"center\"><div style=\"display:inline-block;\"><span>$[\\![\\text{\\textbf{inP}}]\\!]^{}_{\\left\\langle{}e,\\left\\langle{}e,t\\right\\rangle{}\\right\\rangle{}}$</span></div></div></div><div style=\"display:table-row;\"><div style=\"display:table-cell;padding-right:2px; padding-left:2px;\" align=\"center\"><div style=\"display:inline-block;\"><span>$\\lambda{} x_{e} \\: . \\: \\lambda{} y_{e} \\: . \\: {In}({y}, {x})$</span></div></div></div></div></div></div><div style=\"align: center; vertical-align: middle; display: table-cell;\"><span style=\"padding:1em;\">*</span></div><div style=\"display:table-cell;vertical-align:middle;padding-left:5px;padding-right:5px;padding-top:5px;padding-bottom:5px;\"><div align=\"center\" style=\"display:block;padding-left:5px;padding-right:5px;padding-top:5px;padding-bottom:5px;\"><div style=\"display:table;table-layout:auto;\" align=\"center\"><div style=\"display:table-row;\"><div style=\"display:table-cell;padding-right:2px; padding-left:2px;\" align=\"center\"><div style=\"display:inline-block;\"><span>$[\\![\\text{\\textbf{texas}}]\\!]^{}_{e}$</span></div></div></div><div style=\"display:table-row;\"><div style=\"display:table-cell;padding-right:2px; padding-left:2px;\" align=\"center\"><div style=\"display:inline-block;\"><span>${Texas}_{e}$</span></div></div></div></div></div></div></div></div><div style=\"display:table-cell;vertical-align:middle;border-left:1px solid #848482;padding:0.5em\"><div style=\"white-space:nowrap; color:blue;\"><b>[<span>FA</span>]</b></div></div></div><div align=\"center\" style=\"display:table-row;padding-left:5px;padding-right:5px;padding-top:5px;padding-bottom:5px;\"><div align=\"center\" style=\"display:table-cell;\"><div align=\"center\" style=\"display:block;padding-left:5px;padding-right:5px;padding-top:5px;padding-bottom:5px;\"><div style=\"display:table;table-layout:auto;\" align=\"center\"><div style=\"display:table-row;\"><div style=\"display:table-cell;padding-right:2px; padding-left:2px;\" align=\"center\"><div style=\"display:inline-block;\"><span>$[\\![\\text{\\textbf{[inP texas]}}]\\!]^{}_{\\left\\langle{}e,t\\right\\rangle{}}$</span></div></div></div><div style=\"display:table-row;\"><div style=\"display:table-cell;padding-right:2px; padding-left:2px;\" align=\"center\"><div style=\"display:inline-block;\"><span>$\\lambda{} y_{e} \\: . \\: {In}({y}, {Texas}_{e})$</span></div></div></div></div></div></div><div style=\"display:table-cell;\"></div></div></div></div></div></div><div style=\"display:table-cell;vertical-align:middle;border-left:1px solid #848482;padding:0.5em\"><div style=\"white-space:nowrap; color:blue;\"><b>[<span>FA</span>]</b></div></div></div><div align=\"center\" style=\"display:table-row;padding-left:5px;padding-right:5px;padding-top:5px;padding-bottom:5px;\"><div align=\"center\" style=\"display:table-cell;\"><div align=\"center\" style=\"display:block;padding-left:5px;padding-right:5px;padding-top:5px;padding-bottom:5px;\"><div style=\"display:table;table-layout:auto;\" align=\"center\"><div style=\"display:table-row;\"><div style=\"display:table-cell;padding-right:2px; padding-left:2px;\" align=\"center\"><div style=\"display:inline-block;\"><span>$[\\![\\text{\\textbf{[isV [inP texas]]}}]\\!]^{}_{\\left\\langle{}e,t\\right\\rangle{}}$</span></div></div></div><div style=\"display:table-row;\"><div style=\"display:table-cell;padding-right:2px; padding-left:2px;\" align=\"center\"><div style=\"display:inline-block;\"><span>$\\lambda{} y_{e} \\: . \\: {In}({y}, {Texas}_{e})$</span></div></div></div></div></div></div><div style=\"display:table-cell;\"></div></div></div></div></div></div><div style=\"display:table-cell;vertical-align:middle;border-left:1px solid #848482;padding:0.5em\"><div style=\"white-space:nowrap; color:blue;\"><b>[<span>FA</span>]</b></div></div></div><div align=\"center\" style=\"display:table-row;padding-left:5px;padding-right:5px;padding-top:5px;padding-bottom:5px;\"><div align=\"center\" style=\"display:table-cell;\"><div align=\"center\" style=\"display:block;padding-left:5px;padding-right:5px;padding-top:5px;padding-bottom:5px;\"><div style=\"display:table;table-layout:auto;\" align=\"center\"><div style=\"display:table-row;\"><div style=\"display:table-cell;padding-right:2px; padding-left:2px;\" align=\"center\"><div style=\"display:inline-block;\"><span>$[\\![\\text{\\textbf{[julius [isV [inP texas]]]}}]\\!]^{}_{t}$</span></div></div></div><div style=\"display:table-row;\"><div style=\"display:table-cell;padding-right:2px; padding-left:2px;\" align=\"center\"><div style=\"display:inline-block;\"><span>${In}({Julius}_{e}, {Texas}_{e})$</span></div></div></div></div></div></div><div style=\"display:table-cell;\"></div></div></div>"
      ]
     },
     "execution_count": 39,
     "metadata": {},
     "output_type": "execute_result"
    }
   ],
   "source": [
    "sentence1.results[0].tree()"
   ]
  },
  {
   "cell_type": "code",
   "execution_count": 40,
   "metadata": {
    "execution": {
     "iopub.execute_input": "2024-03-14T17:51:04.441851Z",
     "iopub.status.busy": "2024-03-14T17:51:04.441773Z",
     "iopub.status.idle": "2024-03-14T17:51:04.444434Z",
     "shell.execute_reply": "2024-03-14T17:51:04.444235Z"
    }
   },
   "outputs": [
    {
     "data": {
      "text/html": [
       "<div align=\"center\" style=\"display:table; margin:5px; border-collapse: collapse;border: 1px solid #848482;\"><div align=\"center\" style=\"display:table-row;border-bottom:1px solid #848482\"><div style=\"display:table-cell;vertical-align:middle;\"><div style=\"display: table;\"><div style=\"display:table-cell;vertical-align:middle;padding-left:5px;padding-right:5px;padding-top:5px;padding-bottom:5px;\"><div align=\"center\" style=\"display:block;padding-left:5px;padding-right:5px;padding-top:5px;padding-bottom:5px;\"><div style=\"display:table;table-layout:auto;\" align=\"center\"><div style=\"display:table-row;\"><div style=\"display:table-cell;padding-right:2px; padding-left:2px;\" align=\"center\"><div style=\"display:inline-block;\"><span>$[\\![\\text{\\textbf{julius}}]\\!]^{}_{e}$</span></div></div></div><div style=\"display:table-row;\"><div style=\"display:table-cell;padding-right:2px; padding-left:2px;\" align=\"center\"><div style=\"display:inline-block;\"><span>${Julius}_{e}$</span></div></div></div></div></div></div><div style=\"align: center; vertical-align: middle; display: table-cell;\"><span style=\"padding:1em;\">*</span></div><div style=\"display:table-cell;vertical-align:middle;padding-left:5px;padding-right:5px;padding-top:5px;padding-bottom:5px;\"><div align=\"center\" style=\"display:table; margin:5px; border-collapse: collapse;border: 1px solid #848482;\"><div align=\"center\" style=\"display:table-row;border-bottom:1px solid #848482\"><div style=\"display:table-cell;vertical-align:middle;\"><div style=\"display: table;\"><div style=\"display:table-cell;vertical-align:middle;padding-left:5px;padding-right:5px;padding-top:5px;padding-bottom:5px;\"><div align=\"center\" style=\"display:block;padding-left:5px;padding-right:5px;padding-top:5px;padding-bottom:5px;\"><div style=\"display:table;table-layout:auto;\" align=\"center\"><div style=\"display:table-row;\"><div style=\"display:table-cell;padding-right:2px; padding-left:2px;\" align=\"center\"><div style=\"display:inline-block;\"><span>$[\\![\\text{\\textbf{isV}}]\\!]^{}_{\\left\\langle{}\\left\\langle{}e,t\\right\\rangle{},\\left\\langle{}e,t\\right\\rangle{}\\right\\rangle{}}$</span></div></div></div><div style=\"display:table-row;\"><div style=\"display:table-cell;padding-right:2px; padding-left:2px;\" align=\"center\"><div style=\"display:inline-block;\"><span>$\\lambda{} p_{\\left\\langle{}e,t\\right\\rangle{}} \\: . \\: {p}$</span></div></div></div></div></div></div><div style=\"align: center; vertical-align: middle; display: table-cell;\"><span style=\"padding:1em;\">*</span></div><div style=\"display:table-cell;vertical-align:middle;padding-left:5px;padding-right:5px;padding-top:5px;padding-bottom:5px;\"><div align=\"center\" style=\"display:table; margin:5px; border-collapse: collapse;border: 1px solid #848482;\"><div align=\"center\" style=\"display:table-row;border-bottom:1px solid #848482\"><div style=\"display:table-cell;vertical-align:middle;\"><div style=\"display: table;\"><div style=\"display:table-cell;vertical-align:middle;padding-left:5px;padding-right:5px;padding-top:5px;padding-bottom:5px;\"><div align=\"center\" style=\"display:block;padding-left:5px;padding-right:5px;padding-top:5px;padding-bottom:5px;\"><div style=\"display:table;table-layout:auto;\" align=\"center\"><div style=\"display:table-row;\"><div style=\"display:table-cell;padding-right:2px; padding-left:2px;\" align=\"center\"><div style=\"display:inline-block;\"><span>$[\\![\\text{\\textbf{a}}]\\!]^{}_{\\left\\langle{}\\left\\langle{}e,t\\right\\rangle{},\\left\\langle{}e,t\\right\\rangle{}\\right\\rangle{}}$</span></div></div></div><div style=\"display:table-row;\"><div style=\"display:table-cell;padding-right:2px; padding-left:2px;\" align=\"center\"><div style=\"display:inline-block;\"><span>$\\lambda{} p_{\\left\\langle{}e,t\\right\\rangle{}} \\: . \\: {p}$</span></div></div></div></div></div></div><div style=\"align: center; vertical-align: middle; display: table-cell;\"><span style=\"padding:1em;\">*</span></div><div style=\"display:table-cell;vertical-align:middle;padding-left:5px;padding-right:5px;padding-top:5px;padding-bottom:5px;\"><div align=\"center\" style=\"display:table; margin:5px; border-collapse: collapse;border: 1px solid #848482;\"><div align=\"center\" style=\"display:table-row;border-bottom:1px solid #848482\"><div style=\"display:table-cell;vertical-align:middle;\"><div style=\"display: table;\"><div style=\"display:table-cell;vertical-align:middle;padding-left:5px;padding-right:5px;padding-top:5px;padding-bottom:5px;\"><div align=\"center\" style=\"display:table; margin:5px; border-collapse: collapse;border: 1px solid #848482;\"><div align=\"center\" style=\"display:table-row;border-bottom:1px solid #848482\"><div style=\"display:table-cell;vertical-align:middle;\"><div style=\"display: table;\"><div style=\"display:table-cell;vertical-align:middle;padding-left:5px;padding-right:5px;padding-top:5px;padding-bottom:5px;\"><div align=\"center\" style=\"display:block;padding-left:5px;padding-right:5px;padding-top:5px;padding-bottom:5px;\"><div style=\"display:table;table-layout:auto;\" align=\"center\"><div style=\"display:table-row;\"><div style=\"display:table-cell;padding-right:2px; padding-left:2px;\" align=\"center\"><div style=\"display:inline-block;\"><span>$[\\![\\text{\\textbf{gray}}]\\!]^{}_{\\left\\langle{}e,t\\right\\rangle{}}$</span></div></div></div><div style=\"display:table-row;\"><div style=\"display:table-cell;padding-right:2px; padding-left:2px;\" align=\"center\"><div style=\"display:inline-block;\"><span>$\\lambda{} x_{e} \\: . \\: {Gray}({x})$</span></div></div></div></div></div></div><div style=\"align: center; vertical-align: middle; display: table-cell;\"><span style=\"padding:1em;\">*</span></div><div style=\"display:table-cell;vertical-align:middle;padding-left:5px;padding-right:5px;padding-top:5px;padding-bottom:5px;\"><div align=\"center\" style=\"display:block;padding-left:5px;padding-right:5px;padding-top:5px;padding-bottom:5px;\"><div style=\"display:table;table-layout:auto;\" align=\"center\"><div style=\"display:table-row;\"><div style=\"display:table-cell;padding-right:2px; padding-left:2px;\" align=\"center\"><div style=\"display:inline-block;\"><span>$[\\![\\text{\\textbf{cat}}]\\!]^{}_{\\left\\langle{}e,t\\right\\rangle{}}$</span></div></div></div><div style=\"display:table-row;\"><div style=\"display:table-cell;padding-right:2px; padding-left:2px;\" align=\"center\"><div style=\"display:inline-block;\"><span>$\\lambda{} x_{e} \\: . \\: {Cat}({x})$</span></div></div></div></div></div></div></div></div><div style=\"display:table-cell;vertical-align:middle;border-left:1px solid #848482;padding:0.5em\"><div style=\"white-space:nowrap; color:blue;\"><b>[<div style=\"display: inline-block;\"><div style=\"display:inline-block;\"><span>PM</span></div><span style=\"font-size:x-small;\"> (or: PM)</span></div>]</b></div></div></div><div align=\"center\" style=\"display:table-row;padding-left:5px;padding-right:5px;padding-top:5px;padding-bottom:5px;\"><div align=\"center\" style=\"display:table-cell;\"><div align=\"center\" style=\"display:block;padding-left:5px;padding-right:5px;padding-top:5px;padding-bottom:5px;\"><div style=\"display:table;table-layout:auto;\" align=\"center\"><div style=\"display:table-row;\"><div style=\"display:table-cell;padding-right:2px; padding-left:2px;\" align=\"center\"><div style=\"display:inline-block;\"><span>$[\\![\\text{\\textbf{[gray cat]}}]\\!]^{}_{\\left\\langle{}e,t\\right\\rangle{}}$</span></div></div></div><div style=\"display:table-row;\"><div style=\"display:table-cell;padding-right:2px; padding-left:2px;\" align=\"center\"><div style=\"display:inline-block;\"><span>$\\lambda{} x_{e} \\: . \\: {Cat}({x}) \\wedge{} {Gray}({x})$</span></div></div></div></div></div></div><div style=\"display:table-cell;\"></div></div></div></div><div style=\"align: center; vertical-align: middle; display: table-cell;\"><span style=\"padding:1em;\">*</span></div><div style=\"display:table-cell;vertical-align:middle;padding-left:5px;padding-right:5px;padding-top:5px;padding-bottom:5px;\"><div align=\"center\" style=\"display:table; margin:5px; border-collapse: collapse;border: 1px solid #848482;\"><div align=\"center\" style=\"display:table-row;border-bottom:1px solid #848482\"><div style=\"display:table-cell;vertical-align:middle;\"><div style=\"display: table;\"><div style=\"display:table-cell;vertical-align:middle;padding-left:5px;padding-right:5px;padding-top:5px;padding-bottom:5px;\"><div align=\"center\" style=\"display:block;padding-left:5px;padding-right:5px;padding-top:5px;padding-bottom:5px;\"><div style=\"display:table;table-layout:auto;\" align=\"center\"><div style=\"display:table-row;\"><div style=\"display:table-cell;padding-right:2px; padding-left:2px;\" align=\"center\"><div style=\"display:inline-block;\"><span>$[\\![\\text{\\textbf{inP}}]\\!]^{}_{\\left\\langle{}e,\\left\\langle{}e,t\\right\\rangle{}\\right\\rangle{}}$</span></div></div></div><div style=\"display:table-row;\"><div style=\"display:table-cell;padding-right:2px; padding-left:2px;\" align=\"center\"><div style=\"display:inline-block;\"><span>$\\lambda{} x_{e} \\: . \\: \\lambda{} y_{e} \\: . \\: {In}({y}, {x})$</span></div></div></div></div></div></div><div style=\"align: center; vertical-align: middle; display: table-cell;\"><span style=\"padding:1em;\">*</span></div><div style=\"display:table-cell;vertical-align:middle;padding-left:5px;padding-right:5px;padding-top:5px;padding-bottom:5px;\"><div align=\"center\" style=\"display:block;padding-left:5px;padding-right:5px;padding-top:5px;padding-bottom:5px;\"><div style=\"display:table;table-layout:auto;\" align=\"center\"><div style=\"display:table-row;\"><div style=\"display:table-cell;padding-right:2px; padding-left:2px;\" align=\"center\"><div style=\"display:inline-block;\"><span>$[\\![\\text{\\textbf{texas}}]\\!]^{}_{e}$</span></div></div></div><div style=\"display:table-row;\"><div style=\"display:table-cell;padding-right:2px; padding-left:2px;\" align=\"center\"><div style=\"display:inline-block;\"><span>${Texas}_{e}$</span></div></div></div></div></div></div></div></div><div style=\"display:table-cell;vertical-align:middle;border-left:1px solid #848482;padding:0.5em\"><div style=\"white-space:nowrap; color:blue;\"><b>[<span>FA</span>]</b></div></div></div><div align=\"center\" style=\"display:table-row;padding-left:5px;padding-right:5px;padding-top:5px;padding-bottom:5px;\"><div align=\"center\" style=\"display:table-cell;\"><div align=\"center\" style=\"display:block;padding-left:5px;padding-right:5px;padding-top:5px;padding-bottom:5px;\"><div style=\"display:table;table-layout:auto;\" align=\"center\"><div style=\"display:table-row;\"><div style=\"display:table-cell;padding-right:2px; padding-left:2px;\" align=\"center\"><div style=\"display:inline-block;\"><span>$[\\![\\text{\\textbf{[inP texas]}}]\\!]^{}_{\\left\\langle{}e,t\\right\\rangle{}}$</span></div></div></div><div style=\"display:table-row;\"><div style=\"display:table-cell;padding-right:2px; padding-left:2px;\" align=\"center\"><div style=\"display:inline-block;\"><span>$\\lambda{} y_{e} \\: . \\: {In}({y}, {Texas}_{e})$</span></div></div></div></div></div></div><div style=\"display:table-cell;\"></div></div></div></div></div></div><div style=\"display:table-cell;vertical-align:middle;border-left:1px solid #848482;padding:0.5em\"><div style=\"white-space:nowrap; color:blue;\"><b>[<div style=\"display: inline-block;\"><div style=\"display:inline-block;\"><span>PM</span></div><span style=\"font-size:x-small;\"> (or: PM)</span></div>]</b></div></div></div><div align=\"center\" style=\"display:table-row;padding-left:5px;padding-right:5px;padding-top:5px;padding-bottom:5px;\"><div align=\"center\" style=\"display:table-cell;\"><div align=\"center\" style=\"display:block;padding-left:5px;padding-right:5px;padding-top:5px;padding-bottom:5px;\"><div style=\"display:table;table-layout:auto;\" align=\"center\"><div style=\"display:table-row;\"><div style=\"display:table-cell;padding-right:2px; padding-left:2px;\" align=\"center\"><div style=\"display:inline-block;\"><span>$[\\![\\text{\\textbf{[[gray cat] [inP texas]]}}]\\!]^{}_{\\left\\langle{}e,t\\right\\rangle{}}$</span></div></div></div><div style=\"display:table-row;\"><div style=\"display:table-cell;padding-right:2px; padding-left:2px;\" align=\"center\"><div style=\"display:inline-block;\"><span>$\\lambda{} x_{e} \\: . \\: {Cat}({x}) \\wedge{} {Gray}({x}) \\wedge{} {In}({x}, {Texas}_{e})$</span></div></div></div></div></div></div><div style=\"display:table-cell;\"></div></div></div></div></div></div><div style=\"display:table-cell;vertical-align:middle;border-left:1px solid #848482;padding:0.5em\"><div style=\"white-space:nowrap; color:blue;\"><b>[<span>FA</span>]</b></div></div></div><div align=\"center\" style=\"display:table-row;padding-left:5px;padding-right:5px;padding-top:5px;padding-bottom:5px;\"><div align=\"center\" style=\"display:table-cell;\"><div align=\"center\" style=\"display:block;padding-left:5px;padding-right:5px;padding-top:5px;padding-bottom:5px;\"><div style=\"display:table;table-layout:auto;\" align=\"center\"><div style=\"display:table-row;\"><div style=\"display:table-cell;padding-right:2px; padding-left:2px;\" align=\"center\"><div style=\"display:inline-block;\"><span>$[\\![\\text{\\textbf{[a [[gray cat] [inP texas]]]}}]\\!]^{}_{\\left\\langle{}e,t\\right\\rangle{}}$</span></div></div></div><div style=\"display:table-row;\"><div style=\"display:table-cell;padding-right:2px; padding-left:2px;\" align=\"center\"><div style=\"display:inline-block;\"><span>$\\lambda{} x_{e} \\: . \\: {Cat}({x}) \\wedge{} {Gray}({x}) \\wedge{} {In}({x}, {Texas}_{e})$</span></div></div></div></div></div></div><div style=\"display:table-cell;\"></div></div></div></div></div></div><div style=\"display:table-cell;vertical-align:middle;border-left:1px solid #848482;padding:0.5em\"><div style=\"white-space:nowrap; color:blue;\"><b>[<span>FA</span>]</b></div></div></div><div align=\"center\" style=\"display:table-row;padding-left:5px;padding-right:5px;padding-top:5px;padding-bottom:5px;\"><div align=\"center\" style=\"display:table-cell;\"><div align=\"center\" style=\"display:block;padding-left:5px;padding-right:5px;padding-top:5px;padding-bottom:5px;\"><div style=\"display:table;table-layout:auto;\" align=\"center\"><div style=\"display:table-row;\"><div style=\"display:table-cell;padding-right:2px; padding-left:2px;\" align=\"center\"><div style=\"display:inline-block;\"><span>$[\\![\\text{\\textbf{[isV [a [[gray cat] [inP texas]]]]}}]\\!]^{}_{\\left\\langle{}e,t\\right\\rangle{}}$</span></div></div></div><div style=\"display:table-row;\"><div style=\"display:table-cell;padding-right:2px; padding-left:2px;\" align=\"center\"><div style=\"display:inline-block;\"><span>$\\lambda{} x_{e} \\: . \\: {Cat}({x}) \\wedge{} {Gray}({x}) \\wedge{} {In}({x}, {Texas}_{e})$</span></div></div></div></div></div></div><div style=\"display:table-cell;\"></div></div></div></div></div></div><div style=\"display:table-cell;vertical-align:middle;border-left:1px solid #848482;padding:0.5em\"><div style=\"white-space:nowrap; color:blue;\"><b>[<span>FA</span>]</b></div></div></div><div align=\"center\" style=\"display:table-row;padding-left:5px;padding-right:5px;padding-top:5px;padding-bottom:5px;\"><div align=\"center\" style=\"display:table-cell;\"><div align=\"center\" style=\"display:block;padding-left:5px;padding-right:5px;padding-top:5px;padding-bottom:5px;\"><div style=\"display:table;table-layout:auto;\" align=\"center\"><div style=\"display:table-row;\"><div style=\"display:table-cell;padding-right:2px; padding-left:2px;\" align=\"center\"><div style=\"display:inline-block;\"><span>$[\\![\\text{\\textbf{[julius [isV [a [[gray cat] [inP texas]]]]]}}]\\!]^{}_{t}$</span></div></div></div><div style=\"display:table-row;\"><div style=\"display:table-cell;padding-right:2px; padding-left:2px;\" align=\"center\"><div style=\"display:inline-block;\"><span>${Cat}({Julius}_{e}) \\wedge{} {Gray}({Julius}_{e}) \\wedge{} {In}({Julius}_{e}, {Texas}_{e})$</span></div></div></div></div></div></div><div style=\"display:table-cell;\"></div></div></div>"
      ],
      "text/plain": [
       "<div align=\"center\" style=\"display:table; margin:5px; border-collapse: collapse;border: 1px solid #848482;\"><div align=\"center\" style=\"display:table-row;border-bottom:1px solid #848482\"><div style=\"display:table-cell;vertical-align:middle;\"><div style=\"display: table;\"><div style=\"display:table-cell;vertical-align:middle;padding-left:5px;padding-right:5px;padding-top:5px;padding-bottom:5px;\"><div align=\"center\" style=\"display:block;padding-left:5px;padding-right:5px;padding-top:5px;padding-bottom:5px;\"><div style=\"display:table;table-layout:auto;\" align=\"center\"><div style=\"display:table-row;\"><div style=\"display:table-cell;padding-right:2px; padding-left:2px;\" align=\"center\"><div style=\"display:inline-block;\"><span>$[\\![\\text{\\textbf{julius}}]\\!]^{}_{e}$</span></div></div></div><div style=\"display:table-row;\"><div style=\"display:table-cell;padding-right:2px; padding-left:2px;\" align=\"center\"><div style=\"display:inline-block;\"><span>${Julius}_{e}$</span></div></div></div></div></div></div><div style=\"align: center; vertical-align: middle; display: table-cell;\"><span style=\"padding:1em;\">*</span></div><div style=\"display:table-cell;vertical-align:middle;padding-left:5px;padding-right:5px;padding-top:5px;padding-bottom:5px;\"><div align=\"center\" style=\"display:table; margin:5px; border-collapse: collapse;border: 1px solid #848482;\"><div align=\"center\" style=\"display:table-row;border-bottom:1px solid #848482\"><div style=\"display:table-cell;vertical-align:middle;\"><div style=\"display: table;\"><div style=\"display:table-cell;vertical-align:middle;padding-left:5px;padding-right:5px;padding-top:5px;padding-bottom:5px;\"><div align=\"center\" style=\"display:block;padding-left:5px;padding-right:5px;padding-top:5px;padding-bottom:5px;\"><div style=\"display:table;table-layout:auto;\" align=\"center\"><div style=\"display:table-row;\"><div style=\"display:table-cell;padding-right:2px; padding-left:2px;\" align=\"center\"><div style=\"display:inline-block;\"><span>$[\\![\\text{\\textbf{isV}}]\\!]^{}_{\\left\\langle{}\\left\\langle{}e,t\\right\\rangle{},\\left\\langle{}e,t\\right\\rangle{}\\right\\rangle{}}$</span></div></div></div><div style=\"display:table-row;\"><div style=\"display:table-cell;padding-right:2px; padding-left:2px;\" align=\"center\"><div style=\"display:inline-block;\"><span>$\\lambda{} p_{\\left\\langle{}e,t\\right\\rangle{}} \\: . \\: {p}$</span></div></div></div></div></div></div><div style=\"align: center; vertical-align: middle; display: table-cell;\"><span style=\"padding:1em;\">*</span></div><div style=\"display:table-cell;vertical-align:middle;padding-left:5px;padding-right:5px;padding-top:5px;padding-bottom:5px;\"><div align=\"center\" style=\"display:table; margin:5px; border-collapse: collapse;border: 1px solid #848482;\"><div align=\"center\" style=\"display:table-row;border-bottom:1px solid #848482\"><div style=\"display:table-cell;vertical-align:middle;\"><div style=\"display: table;\"><div style=\"display:table-cell;vertical-align:middle;padding-left:5px;padding-right:5px;padding-top:5px;padding-bottom:5px;\"><div align=\"center\" style=\"display:block;padding-left:5px;padding-right:5px;padding-top:5px;padding-bottom:5px;\"><div style=\"display:table;table-layout:auto;\" align=\"center\"><div style=\"display:table-row;\"><div style=\"display:table-cell;padding-right:2px; padding-left:2px;\" align=\"center\"><div style=\"display:inline-block;\"><span>$[\\![\\text{\\textbf{a}}]\\!]^{}_{\\left\\langle{}\\left\\langle{}e,t\\right\\rangle{},\\left\\langle{}e,t\\right\\rangle{}\\right\\rangle{}}$</span></div></div></div><div style=\"display:table-row;\"><div style=\"display:table-cell;padding-right:2px; padding-left:2px;\" align=\"center\"><div style=\"display:inline-block;\"><span>$\\lambda{} p_{\\left\\langle{}e,t\\right\\rangle{}} \\: . \\: {p}$</span></div></div></div></div></div></div><div style=\"align: center; vertical-align: middle; display: table-cell;\"><span style=\"padding:1em;\">*</span></div><div style=\"display:table-cell;vertical-align:middle;padding-left:5px;padding-right:5px;padding-top:5px;padding-bottom:5px;\"><div align=\"center\" style=\"display:table; margin:5px; border-collapse: collapse;border: 1px solid #848482;\"><div align=\"center\" style=\"display:table-row;border-bottom:1px solid #848482\"><div style=\"display:table-cell;vertical-align:middle;\"><div style=\"display: table;\"><div style=\"display:table-cell;vertical-align:middle;padding-left:5px;padding-right:5px;padding-top:5px;padding-bottom:5px;\"><div align=\"center\" style=\"display:table; margin:5px; border-collapse: collapse;border: 1px solid #848482;\"><div align=\"center\" style=\"display:table-row;border-bottom:1px solid #848482\"><div style=\"display:table-cell;vertical-align:middle;\"><div style=\"display: table;\"><div style=\"display:table-cell;vertical-align:middle;padding-left:5px;padding-right:5px;padding-top:5px;padding-bottom:5px;\"><div align=\"center\" style=\"display:block;padding-left:5px;padding-right:5px;padding-top:5px;padding-bottom:5px;\"><div style=\"display:table;table-layout:auto;\" align=\"center\"><div style=\"display:table-row;\"><div style=\"display:table-cell;padding-right:2px; padding-left:2px;\" align=\"center\"><div style=\"display:inline-block;\"><span>$[\\![\\text{\\textbf{gray}}]\\!]^{}_{\\left\\langle{}e,t\\right\\rangle{}}$</span></div></div></div><div style=\"display:table-row;\"><div style=\"display:table-cell;padding-right:2px; padding-left:2px;\" align=\"center\"><div style=\"display:inline-block;\"><span>$\\lambda{} x_{e} \\: . \\: {Gray}({x})$</span></div></div></div></div></div></div><div style=\"align: center; vertical-align: middle; display: table-cell;\"><span style=\"padding:1em;\">*</span></div><div style=\"display:table-cell;vertical-align:middle;padding-left:5px;padding-right:5px;padding-top:5px;padding-bottom:5px;\"><div align=\"center\" style=\"display:block;padding-left:5px;padding-right:5px;padding-top:5px;padding-bottom:5px;\"><div style=\"display:table;table-layout:auto;\" align=\"center\"><div style=\"display:table-row;\"><div style=\"display:table-cell;padding-right:2px; padding-left:2px;\" align=\"center\"><div style=\"display:inline-block;\"><span>$[\\![\\text{\\textbf{cat}}]\\!]^{}_{\\left\\langle{}e,t\\right\\rangle{}}$</span></div></div></div><div style=\"display:table-row;\"><div style=\"display:table-cell;padding-right:2px; padding-left:2px;\" align=\"center\"><div style=\"display:inline-block;\"><span>$\\lambda{} x_{e} \\: . \\: {Cat}({x})$</span></div></div></div></div></div></div></div></div><div style=\"display:table-cell;vertical-align:middle;border-left:1px solid #848482;padding:0.5em\"><div style=\"white-space:nowrap; color:blue;\"><b>[<div style=\"display: inline-block;\"><div style=\"display:inline-block;\"><span>PM</span></div><span style=\"font-size:x-small;\"> (or: PM)</span></div>]</b></div></div></div><div align=\"center\" style=\"display:table-row;padding-left:5px;padding-right:5px;padding-top:5px;padding-bottom:5px;\"><div align=\"center\" style=\"display:table-cell;\"><div align=\"center\" style=\"display:block;padding-left:5px;padding-right:5px;padding-top:5px;padding-bottom:5px;\"><div style=\"display:table;table-layout:auto;\" align=\"center\"><div style=\"display:table-row;\"><div style=\"display:table-cell;padding-right:2px; padding-left:2px;\" align=\"center\"><div style=\"display:inline-block;\"><span>$[\\![\\text{\\textbf{[gray cat]}}]\\!]^{}_{\\left\\langle{}e,t\\right\\rangle{}}$</span></div></div></div><div style=\"display:table-row;\"><div style=\"display:table-cell;padding-right:2px; padding-left:2px;\" align=\"center\"><div style=\"display:inline-block;\"><span>$\\lambda{} x_{e} \\: . \\: {Cat}({x}) \\wedge{} {Gray}({x})$</span></div></div></div></div></div></div><div style=\"display:table-cell;\"></div></div></div></div><div style=\"align: center; vertical-align: middle; display: table-cell;\"><span style=\"padding:1em;\">*</span></div><div style=\"display:table-cell;vertical-align:middle;padding-left:5px;padding-right:5px;padding-top:5px;padding-bottom:5px;\"><div align=\"center\" style=\"display:table; margin:5px; border-collapse: collapse;border: 1px solid #848482;\"><div align=\"center\" style=\"display:table-row;border-bottom:1px solid #848482\"><div style=\"display:table-cell;vertical-align:middle;\"><div style=\"display: table;\"><div style=\"display:table-cell;vertical-align:middle;padding-left:5px;padding-right:5px;padding-top:5px;padding-bottom:5px;\"><div align=\"center\" style=\"display:block;padding-left:5px;padding-right:5px;padding-top:5px;padding-bottom:5px;\"><div style=\"display:table;table-layout:auto;\" align=\"center\"><div style=\"display:table-row;\"><div style=\"display:table-cell;padding-right:2px; padding-left:2px;\" align=\"center\"><div style=\"display:inline-block;\"><span>$[\\![\\text{\\textbf{inP}}]\\!]^{}_{\\left\\langle{}e,\\left\\langle{}e,t\\right\\rangle{}\\right\\rangle{}}$</span></div></div></div><div style=\"display:table-row;\"><div style=\"display:table-cell;padding-right:2px; padding-left:2px;\" align=\"center\"><div style=\"display:inline-block;\"><span>$\\lambda{} x_{e} \\: . \\: \\lambda{} y_{e} \\: . \\: {In}({y}, {x})$</span></div></div></div></div></div></div><div style=\"align: center; vertical-align: middle; display: table-cell;\"><span style=\"padding:1em;\">*</span></div><div style=\"display:table-cell;vertical-align:middle;padding-left:5px;padding-right:5px;padding-top:5px;padding-bottom:5px;\"><div align=\"center\" style=\"display:block;padding-left:5px;padding-right:5px;padding-top:5px;padding-bottom:5px;\"><div style=\"display:table;table-layout:auto;\" align=\"center\"><div style=\"display:table-row;\"><div style=\"display:table-cell;padding-right:2px; padding-left:2px;\" align=\"center\"><div style=\"display:inline-block;\"><span>$[\\![\\text{\\textbf{texas}}]\\!]^{}_{e}$</span></div></div></div><div style=\"display:table-row;\"><div style=\"display:table-cell;padding-right:2px; padding-left:2px;\" align=\"center\"><div style=\"display:inline-block;\"><span>${Texas}_{e}$</span></div></div></div></div></div></div></div></div><div style=\"display:table-cell;vertical-align:middle;border-left:1px solid #848482;padding:0.5em\"><div style=\"white-space:nowrap; color:blue;\"><b>[<span>FA</span>]</b></div></div></div><div align=\"center\" style=\"display:table-row;padding-left:5px;padding-right:5px;padding-top:5px;padding-bottom:5px;\"><div align=\"center\" style=\"display:table-cell;\"><div align=\"center\" style=\"display:block;padding-left:5px;padding-right:5px;padding-top:5px;padding-bottom:5px;\"><div style=\"display:table;table-layout:auto;\" align=\"center\"><div style=\"display:table-row;\"><div style=\"display:table-cell;padding-right:2px; padding-left:2px;\" align=\"center\"><div style=\"display:inline-block;\"><span>$[\\![\\text{\\textbf{[inP texas]}}]\\!]^{}_{\\left\\langle{}e,t\\right\\rangle{}}$</span></div></div></div><div style=\"display:table-row;\"><div style=\"display:table-cell;padding-right:2px; padding-left:2px;\" align=\"center\"><div style=\"display:inline-block;\"><span>$\\lambda{} y_{e} \\: . \\: {In}({y}, {Texas}_{e})$</span></div></div></div></div></div></div><div style=\"display:table-cell;\"></div></div></div></div></div></div><div style=\"display:table-cell;vertical-align:middle;border-left:1px solid #848482;padding:0.5em\"><div style=\"white-space:nowrap; color:blue;\"><b>[<div style=\"display: inline-block;\"><div style=\"display:inline-block;\"><span>PM</span></div><span style=\"font-size:x-small;\"> (or: PM)</span></div>]</b></div></div></div><div align=\"center\" style=\"display:table-row;padding-left:5px;padding-right:5px;padding-top:5px;padding-bottom:5px;\"><div align=\"center\" style=\"display:table-cell;\"><div align=\"center\" style=\"display:block;padding-left:5px;padding-right:5px;padding-top:5px;padding-bottom:5px;\"><div style=\"display:table;table-layout:auto;\" align=\"center\"><div style=\"display:table-row;\"><div style=\"display:table-cell;padding-right:2px; padding-left:2px;\" align=\"center\"><div style=\"display:inline-block;\"><span>$[\\![\\text{\\textbf{[[gray cat] [inP texas]]}}]\\!]^{}_{\\left\\langle{}e,t\\right\\rangle{}}$</span></div></div></div><div style=\"display:table-row;\"><div style=\"display:table-cell;padding-right:2px; padding-left:2px;\" align=\"center\"><div style=\"display:inline-block;\"><span>$\\lambda{} x_{e} \\: . \\: {Cat}({x}) \\wedge{} {Gray}({x}) \\wedge{} {In}({x}, {Texas}_{e})$</span></div></div></div></div></div></div><div style=\"display:table-cell;\"></div></div></div></div></div></div><div style=\"display:table-cell;vertical-align:middle;border-left:1px solid #848482;padding:0.5em\"><div style=\"white-space:nowrap; color:blue;\"><b>[<span>FA</span>]</b></div></div></div><div align=\"center\" style=\"display:table-row;padding-left:5px;padding-right:5px;padding-top:5px;padding-bottom:5px;\"><div align=\"center\" style=\"display:table-cell;\"><div align=\"center\" style=\"display:block;padding-left:5px;padding-right:5px;padding-top:5px;padding-bottom:5px;\"><div style=\"display:table;table-layout:auto;\" align=\"center\"><div style=\"display:table-row;\"><div style=\"display:table-cell;padding-right:2px; padding-left:2px;\" align=\"center\"><div style=\"display:inline-block;\"><span>$[\\![\\text{\\textbf{[a [[gray cat] [inP texas]]]}}]\\!]^{}_{\\left\\langle{}e,t\\right\\rangle{}}$</span></div></div></div><div style=\"display:table-row;\"><div style=\"display:table-cell;padding-right:2px; padding-left:2px;\" align=\"center\"><div style=\"display:inline-block;\"><span>$\\lambda{} x_{e} \\: . \\: {Cat}({x}) \\wedge{} {Gray}({x}) \\wedge{} {In}({x}, {Texas}_{e})$</span></div></div></div></div></div></div><div style=\"display:table-cell;\"></div></div></div></div></div></div><div style=\"display:table-cell;vertical-align:middle;border-left:1px solid #848482;padding:0.5em\"><div style=\"white-space:nowrap; color:blue;\"><b>[<span>FA</span>]</b></div></div></div><div align=\"center\" style=\"display:table-row;padding-left:5px;padding-right:5px;padding-top:5px;padding-bottom:5px;\"><div align=\"center\" style=\"display:table-cell;\"><div align=\"center\" style=\"display:block;padding-left:5px;padding-right:5px;padding-top:5px;padding-bottom:5px;\"><div style=\"display:table;table-layout:auto;\" align=\"center\"><div style=\"display:table-row;\"><div style=\"display:table-cell;padding-right:2px; padding-left:2px;\" align=\"center\"><div style=\"display:inline-block;\"><span>$[\\![\\text{\\textbf{[isV [a [[gray cat] [inP texas]]]]}}]\\!]^{}_{\\left\\langle{}e,t\\right\\rangle{}}$</span></div></div></div><div style=\"display:table-row;\"><div style=\"display:table-cell;padding-right:2px; padding-left:2px;\" align=\"center\"><div style=\"display:inline-block;\"><span>$\\lambda{} x_{e} \\: . \\: {Cat}({x}) \\wedge{} {Gray}({x}) \\wedge{} {In}({x}, {Texas}_{e})$</span></div></div></div></div></div></div><div style=\"display:table-cell;\"></div></div></div></div></div></div><div style=\"display:table-cell;vertical-align:middle;border-left:1px solid #848482;padding:0.5em\"><div style=\"white-space:nowrap; color:blue;\"><b>[<span>FA</span>]</b></div></div></div><div align=\"center\" style=\"display:table-row;padding-left:5px;padding-right:5px;padding-top:5px;padding-bottom:5px;\"><div align=\"center\" style=\"display:table-cell;\"><div align=\"center\" style=\"display:block;padding-left:5px;padding-right:5px;padding-top:5px;padding-bottom:5px;\"><div style=\"display:table;table-layout:auto;\" align=\"center\"><div style=\"display:table-row;\"><div style=\"display:table-cell;padding-right:2px; padding-left:2px;\" align=\"center\"><div style=\"display:inline-block;\"><span>$[\\![\\text{\\textbf{[julius [isV [a [[gray cat] [inP texas]]]]]}}]\\!]^{}_{t}$</span></div></div></div><div style=\"display:table-row;\"><div style=\"display:table-cell;padding-right:2px; padding-left:2px;\" align=\"center\"><div style=\"display:inline-block;\"><span>${Cat}({Julius}_{e}) \\wedge{} {Gray}({Julius}_{e}) \\wedge{} {In}({Julius}_{e}, {Texas}_{e})$</span></div></div></div></div></div></div><div style=\"display:table-cell;\"></div></div></div>"
      ]
     },
     "execution_count": 40,
     "metadata": {},
     "output_type": "execute_result"
    }
   ],
   "source": [
    "sentence2.results[0].tree()"
   ]
  },
  {
   "cell_type": "markdown",
   "metadata": {},
   "source": [
    "One of the infamous exercise examples from Heim and Kratzer (names different):\n",
    "\n",
    "    (1) Julius is a gray cat in Texas fond of John.\n",
    " \n",
    "First let's get rid of all the extra readings, to keep this simple."
   ]
  },
  {
   "cell_type": "code",
   "execution_count": 41,
   "metadata": {
    "execution": {
     "iopub.execute_input": "2024-03-14T17:51:04.445592Z",
     "iopub.status.busy": "2024-03-14T17:51:04.445519Z",
     "iopub.status.idle": "2024-03-14T17:51:04.447108Z",
     "shell.execute_reply": "2024-03-14T17:51:04.446912Z"
    }
   },
   "outputs": [],
   "source": [
    "demo_hk_system.get_rule(\"PM\").commutative = True"
   ]
  },
  {
   "cell_type": "code",
   "execution_count": 42,
   "metadata": {
    "execution": {
     "iopub.execute_input": "2024-03-14T17:51:04.448197Z",
     "iopub.status.busy": "2024-03-14T17:51:04.448120Z",
     "iopub.status.idle": "2024-03-14T17:51:04.459716Z",
     "shell.execute_reply": "2024-03-14T17:51:04.459523Z"
    }
   },
   "outputs": [
    {
     "name": "stdout",
     "output_type": "stream",
     "text": [
      "INFO (core): Coerced guessed type for 'Fond_t' into <e,t>, to match argument 'y_e'\n",
      "INFO (core): Coerced guessed type for 'Fond_<e,t>(y_e)' into <e,t>, to match argument 'x_e'\n"
     ]
    },
    {
     "data": {
      "image/svg+xml": [
       "<svg baseProfile=\"full\" height=\"312px\" preserveAspectRatio=\"xMidYMid meet\" style=\"font-family: times, serif; font-weight: normal; font-style: normal; font-size: 16px;\" version=\"1.1\" viewBox=\"0,0,512.0,312.0\" width=\"512px\" xmlns=\"http://www.w3.org/2000/svg\" xmlns:ev=\"http://www.w3.org/2001/xml-events\" xmlns:xlink=\"http://www.w3.org/1999/xlink\"><defs /><svg width=\"100%\" x=\"0\" y=\"0px\"><defs /><text text-anchor=\"middle\" x=\"50%\" y=\"16px\">[julius [isV [a [[[gray cat] [inP texas]] [fond [of john]]]]]]</text></svg><svg width=\"12.6984%\" x=\"0%\" y=\"48px\"><defs /><svg width=\"100%\" x=\"0\" y=\"0px\"><defs /><text text-anchor=\"middle\" x=\"50%\" y=\"16px\">julius</text></svg></svg><line stroke=\"black\" x1=\"50%\" x2=\"6.34921%\" y1=\"19.2px\" y2=\"48px\" /><svg width=\"87.3016%\" x=\"12.6984%\" y=\"48px\"><defs /><svg width=\"100%\" x=\"0\" y=\"0px\"><defs /><text text-anchor=\"middle\" x=\"50%\" y=\"16px\">[isV [a [[[gray cat] [inP texas]] [fond [of john]]]]]</text></svg><svg width=\"9.25926%\" x=\"0%\" y=\"48px\"><defs /><svg width=\"100%\" x=\"0\" y=\"0px\"><defs /><text text-anchor=\"middle\" x=\"50%\" y=\"16px\">isV</text></svg></svg><line stroke=\"black\" x1=\"50%\" x2=\"4.62963%\" y1=\"19.2px\" y2=\"48px\" /><svg width=\"90.7407%\" x=\"9.25926%\" y=\"48px\"><defs /><svg width=\"100%\" x=\"0\" y=\"0px\"><defs /><text text-anchor=\"middle\" x=\"50%\" y=\"16px\">[a [[[gray cat] [inP texas]] [fond [of john]]]]</text></svg><svg width=\"6.25%\" x=\"0%\" y=\"48px\"><defs /><svg width=\"100%\" x=\"0\" y=\"0px\"><defs /><text text-anchor=\"middle\" x=\"50%\" y=\"16px\">a</text></svg></svg><line stroke=\"black\" x1=\"50%\" x2=\"3.125%\" y1=\"19.2px\" y2=\"48px\" /><svg width=\"93.75%\" x=\"6.25%\" y=\"48px\"><defs /><svg width=\"100%\" x=\"0\" y=\"0px\"><defs /><text text-anchor=\"middle\" x=\"50%\" y=\"16px\">[[[gray cat] [inP texas]] [fond [of john]]]</text></svg><svg width=\"59.0909%\" x=\"0%\" y=\"48px\"><defs /><svg width=\"100%\" x=\"0\" y=\"0px\"><defs /><text text-anchor=\"middle\" x=\"50%\" y=\"16px\">[[gray cat] [inP texas]]</text></svg><svg width=\"48%\" x=\"0%\" y=\"48px\"><defs /><svg width=\"100%\" x=\"0\" y=\"0px\"><defs /><text text-anchor=\"middle\" x=\"50%\" y=\"16px\">[gray cat]</text></svg><svg width=\"54.5455%\" x=\"0%\" y=\"48px\"><defs /><svg width=\"100%\" x=\"0\" y=\"0px\"><defs /><text text-anchor=\"middle\" x=\"50%\" y=\"16px\">gray</text></svg></svg><line stroke=\"black\" x1=\"50%\" x2=\"27.2727%\" y1=\"19.2px\" y2=\"48px\" /><svg width=\"45.4545%\" x=\"54.5455%\" y=\"48px\"><defs /><svg width=\"100%\" x=\"0\" y=\"0px\"><defs /><text text-anchor=\"middle\" x=\"50%\" y=\"16px\">cat</text></svg></svg><line stroke=\"black\" x1=\"50%\" x2=\"77.2727%\" y1=\"19.2px\" y2=\"48px\" /></svg><line stroke=\"black\" x1=\"50%\" x2=\"24%\" y1=\"19.2px\" y2=\"48px\" /><svg width=\"52%\" x=\"48%\" y=\"48px\"><defs /><svg width=\"100%\" x=\"0\" y=\"0px\"><defs /><text text-anchor=\"middle\" x=\"50%\" y=\"16px\">[inP texas]</text></svg><svg width=\"41.6667%\" x=\"0%\" y=\"48px\"><defs /><svg width=\"100%\" x=\"0\" y=\"0px\"><defs /><text text-anchor=\"middle\" x=\"50%\" y=\"16px\">inP</text></svg></svg><line stroke=\"black\" x1=\"50%\" x2=\"20.8333%\" y1=\"19.2px\" y2=\"48px\" /><svg width=\"58.3333%\" x=\"41.6667%\" y=\"48px\"><defs /><svg width=\"100%\" x=\"0\" y=\"0px\"><defs /><text text-anchor=\"middle\" x=\"50%\" y=\"16px\">texas</text></svg></svg><line stroke=\"black\" x1=\"50%\" x2=\"70.8333%\" y1=\"19.2px\" y2=\"48px\" /></svg><line stroke=\"black\" x1=\"50%\" x2=\"74%\" y1=\"19.2px\" y2=\"48px\" /></svg><line stroke=\"black\" x1=\"50%\" x2=\"29.5455%\" y1=\"19.2px\" y2=\"48px\" /><svg width=\"40.9091%\" x=\"59.0909%\" y=\"48px\"><defs /><svg width=\"100%\" x=\"0\" y=\"0px\"><defs /><text text-anchor=\"middle\" x=\"50%\" y=\"16px\">[fond [of john]]</text></svg><svg width=\"35.2941%\" x=\"0%\" y=\"48px\"><defs /><svg width=\"100%\" x=\"0\" y=\"0px\"><defs /><text text-anchor=\"middle\" x=\"50%\" y=\"16px\">fond</text></svg></svg><line stroke=\"black\" x1=\"50%\" x2=\"17.6471%\" y1=\"19.2px\" y2=\"48px\" /><svg width=\"64.7059%\" x=\"35.2941%\" y=\"48px\"><defs /><svg width=\"100%\" x=\"0\" y=\"0px\"><defs /><text text-anchor=\"middle\" x=\"50%\" y=\"16px\">[of john]</text></svg><svg width=\"40%\" x=\"0%\" y=\"48px\"><defs /><svg width=\"100%\" x=\"0\" y=\"0px\"><defs /><text text-anchor=\"middle\" x=\"50%\" y=\"16px\">of</text></svg></svg><line stroke=\"black\" x1=\"50%\" x2=\"20%\" y1=\"19.2px\" y2=\"48px\" /><svg width=\"60%\" x=\"40%\" y=\"48px\"><defs /><svg width=\"100%\" x=\"0\" y=\"0px\"><defs /><text text-anchor=\"middle\" x=\"50%\" y=\"16px\">john</text></svg></svg><line stroke=\"black\" x1=\"50%\" x2=\"70%\" y1=\"19.2px\" y2=\"48px\" /></svg><line stroke=\"black\" x1=\"50%\" x2=\"67.6471%\" y1=\"19.2px\" y2=\"48px\" /></svg><line stroke=\"black\" x1=\"50%\" x2=\"79.5455%\" y1=\"19.2px\" y2=\"48px\" /></svg><line stroke=\"black\" x1=\"50%\" x2=\"53.125%\" y1=\"19.2px\" y2=\"48px\" /></svg><line stroke=\"black\" x1=\"50%\" x2=\"54.6296%\" y1=\"19.2px\" y2=\"48px\" /></svg><line stroke=\"black\" x1=\"50%\" x2=\"56.3492%\" y1=\"19.2px\" y2=\"48px\" /></svg>"
      ],
      "text/plain": [
       "Tree('[julius [isV [a [[[gray cat] [inP texas]] [fond [of john]]]]]]', [Tree('julius', []), Tree('[isV [a [[[gray cat] [inP texas]] [fond [of john]]]]]', [Tree('isV', []), Tree('[a [[[gray cat] [inP texas]] [fond [of john]]]]', [Tree('a', []), Tree('[[[gray cat] [inP texas]] [fond [of john]]]', [Tree('[[gray cat] [inP texas]]', [Tree('[gray cat]', [Tree('gray', []), Tree('cat', [])]), Tree('[inP texas]', [Tree('inP', []), Tree('texas', [])])]), Tree('[fond [of john]]', [Tree('fond', []), Tree('[of john]', [Tree('of', []), Tree('john', [])])])])])])])"
      ]
     },
     "metadata": {},
     "output_type": "display_data"
    },
    {
     "data": {
      "text/markdown": [
       "1 composition path.  Result:<br />\n",
       "&nbsp;&nbsp;&nbsp;&nbsp;[0]: $[\\![\\text{\\textbf{[julius [isV [a [[[gray cat] [inP texas]] [fond [of john]]]]]]}}]\\!]^{}_{t} \\:=\\: {Cat}({Julius}_{e}) \\wedge{} {Fond}_{\\left\\langle{}e,\\left\\langle{}e,t\\right\\rangle{}\\right\\rangle{}}({Julius}_{e})({John}_{e}) \\wedge{} {Gray}({Julius}_{e}) \\wedge{} {In}({Julius}_{e}, {Texas}_{e})$"
      ],
      "text/plain": [
       "1 composition path.  Result:\n",
       "    [0]: ⟦julius⟧ * ⟦[isV [a [[[gray cat] [inP texas]] [fond [of john]]]]]⟧ leads to: ⟦[julius [isV [a [[[gray cat] [inP texas]] [fond [of john]]]]]]⟧ = (((Cat_<e,t>(Julius_e) & Fond_<e,<e,t>>(Julius_e)(John_e)) & Gray_<e,t>(Julius_e)) & In_<(e,e),t>(Julius_e, Texas_e)) [by FA]"
      ]
     },
     "metadata": {},
     "output_type": "display_data"
    }
   ],
   "source": [
    "fond = lang.Item(\"fond\", \"L x_e : L y_e : Fond(y)(x)\")\n",
    "ofP = lang.Item(\"of\", \"L x_e : x\")\n",
    "sentence3 = julius * (isV * (a * (((gray * cat) * (inP * texas)) * (fond * (ofP * john)))))\n",
    "display(sentence3[0].source_tree())\n",
    "sentence3"
   ]
  },
  {
   "cell_type": "code",
   "execution_count": 43,
   "metadata": {
    "execution": {
     "iopub.execute_input": "2024-03-14T17:51:04.460822Z",
     "iopub.status.busy": "2024-03-14T17:51:04.460745Z",
     "iopub.status.idle": "2024-03-14T17:51:04.463964Z",
     "shell.execute_reply": "2024-03-14T17:51:04.463739Z"
    }
   },
   "outputs": [
    {
     "data": {
      "text/html": [
       "1 composition path:<br /><div align=\"center\" style=\"display:table; margin:5px; border-collapse: collapse;border: 1px solid #848482;\"><div align=\"center\" style=\"display:table-row;border-bottom:1px solid #848482\"><div style=\"display:table-cell;vertical-align:middle;\"><div style=\"display: table;\"><div style=\"display:table-cell;vertical-align:middle;padding-left:5px;padding-right:5px;padding-top:5px;padding-bottom:5px;\"><div align=\"center\" style=\"display:block;padding-left:5px;padding-right:5px;padding-top:5px;padding-bottom:5px;\"><div style=\"display:table;table-layout:auto;\" align=\"center\"><div style=\"display:table-row;\"><div style=\"display:table-cell;padding-right:2px; padding-left:2px;\" align=\"center\"><div style=\"display:inline-block;\"><span>$[\\![\\text{\\textbf{julius}}]\\!]^{}_{e}$</span></div></div></div><div style=\"display:table-row;\"><div style=\"display:table-cell;padding-right:2px; padding-left:2px;\" align=\"center\"><div style=\"display:inline-block;\"><span>${Julius}_{e}$</span></div></div></div></div></div></div><div style=\"align: center; vertical-align: middle; display: table-cell;\"><span style=\"padding:1em;\">*</span></div><div style=\"display:table-cell;vertical-align:middle;padding-left:5px;padding-right:5px;padding-top:5px;padding-bottom:5px;\"><div align=\"center\" style=\"display:table; margin:5px; border-collapse: collapse;border: 1px solid #848482;\"><div align=\"center\" style=\"display:table-row;border-bottom:1px solid #848482\"><div style=\"display:table-cell;vertical-align:middle;\"><div style=\"display: table;\"><div style=\"display:table-cell;vertical-align:middle;padding-left:5px;padding-right:5px;padding-top:5px;padding-bottom:5px;\"><div align=\"center\" style=\"display:block;padding-left:5px;padding-right:5px;padding-top:5px;padding-bottom:5px;\"><div style=\"display:table;table-layout:auto;\" align=\"center\"><div style=\"display:table-row;\"><div style=\"display:table-cell;padding-right:2px; padding-left:2px;\" align=\"center\"><div style=\"display:inline-block;\"><span>$[\\![\\text{\\textbf{isV}}]\\!]^{}_{\\left\\langle{}\\left\\langle{}e,t\\right\\rangle{},\\left\\langle{}e,t\\right\\rangle{}\\right\\rangle{}}$</span></div></div></div><div style=\"display:table-row;\"><div style=\"display:table-cell;padding-right:2px; padding-left:2px;\" align=\"center\"><div style=\"display:inline-block;\"><span>$\\lambda{} p_{\\left\\langle{}e,t\\right\\rangle{}} \\: . \\: {p}$</span></div></div></div></div></div></div><div style=\"align: center; vertical-align: middle; display: table-cell;\"><span style=\"padding:1em;\">*</span></div><div style=\"display:table-cell;vertical-align:middle;padding-left:5px;padding-right:5px;padding-top:5px;padding-bottom:5px;\"><div align=\"center\" style=\"display:table; margin:5px; border-collapse: collapse;border: 1px solid #848482;\"><div align=\"center\" style=\"display:table-row;border-bottom:1px solid #848482\"><div style=\"display:table-cell;vertical-align:middle;\"><div style=\"display: table;\"><div style=\"display:table-cell;vertical-align:middle;padding-left:5px;padding-right:5px;padding-top:5px;padding-bottom:5px;\"><div align=\"center\" style=\"display:block;padding-left:5px;padding-right:5px;padding-top:5px;padding-bottom:5px;\"><div style=\"display:table;table-layout:auto;\" align=\"center\"><div style=\"display:table-row;\"><div style=\"display:table-cell;padding-right:2px; padding-left:2px;\" align=\"center\"><div style=\"display:inline-block;\"><span>$[\\![\\text{\\textbf{a}}]\\!]^{}_{\\left\\langle{}\\left\\langle{}e,t\\right\\rangle{},\\left\\langle{}e,t\\right\\rangle{}\\right\\rangle{}}$</span></div></div></div><div style=\"display:table-row;\"><div style=\"display:table-cell;padding-right:2px; padding-left:2px;\" align=\"center\"><div style=\"display:inline-block;\"><span>$\\lambda{} p_{\\left\\langle{}e,t\\right\\rangle{}} \\: . \\: {p}$</span></div></div></div></div></div></div><div style=\"align: center; vertical-align: middle; display: table-cell;\"><span style=\"padding:1em;\">*</span></div><div style=\"display:table-cell;vertical-align:middle;padding-left:5px;padding-right:5px;padding-top:5px;padding-bottom:5px;\"><div align=\"center\" style=\"display:table; margin:5px; border-collapse: collapse;border: 1px solid #848482;\"><div align=\"center\" style=\"display:table-row;border-bottom:1px solid #848482\"><div style=\"display:table-cell;vertical-align:middle;\"><div style=\"display: table;\"><div style=\"display:table-cell;vertical-align:middle;padding-left:5px;padding-right:5px;padding-top:5px;padding-bottom:5px;\"><div align=\"center\" style=\"display:table; margin:5px; border-collapse: collapse;border: 1px solid #848482;\"><div align=\"center\" style=\"display:table-row;border-bottom:1px solid #848482\"><div style=\"display:table-cell;vertical-align:middle;\"><div style=\"display: table;\"><div style=\"display:table-cell;vertical-align:middle;padding-left:5px;padding-right:5px;padding-top:5px;padding-bottom:5px;\"><div align=\"center\" style=\"display:table; margin:5px; border-collapse: collapse;border: 1px solid #848482;\"><div align=\"center\" style=\"display:table-row;border-bottom:1px solid #848482\"><div style=\"display:table-cell;vertical-align:middle;\"><div style=\"display: table;\"><div style=\"display:table-cell;vertical-align:middle;padding-left:5px;padding-right:5px;padding-top:5px;padding-bottom:5px;\"><div align=\"center\" style=\"display:block;padding-left:5px;padding-right:5px;padding-top:5px;padding-bottom:5px;\"><div style=\"display:table;table-layout:auto;\" align=\"center\"><div style=\"display:table-row;\"><div style=\"display:table-cell;padding-right:2px; padding-left:2px;\" align=\"center\"><div style=\"display:inline-block;\"><span>$[\\![\\text{\\textbf{gray}}]\\!]^{}_{\\left\\langle{}e,t\\right\\rangle{}}$</span></div></div></div><div style=\"display:table-row;\"><div style=\"display:table-cell;padding-right:2px; padding-left:2px;\" align=\"center\"><div style=\"display:inline-block;\"><span>$\\lambda{} x_{e} \\: . \\: {Gray}({x})$</span></div></div></div></div></div></div><div style=\"align: center; vertical-align: middle; display: table-cell;\"><span style=\"padding:1em;\">*</span></div><div style=\"display:table-cell;vertical-align:middle;padding-left:5px;padding-right:5px;padding-top:5px;padding-bottom:5px;\"><div align=\"center\" style=\"display:block;padding-left:5px;padding-right:5px;padding-top:5px;padding-bottom:5px;\"><div style=\"display:table;table-layout:auto;\" align=\"center\"><div style=\"display:table-row;\"><div style=\"display:table-cell;padding-right:2px; padding-left:2px;\" align=\"center\"><div style=\"display:inline-block;\"><span>$[\\![\\text{\\textbf{cat}}]\\!]^{}_{\\left\\langle{}e,t\\right\\rangle{}}$</span></div></div></div><div style=\"display:table-row;\"><div style=\"display:table-cell;padding-right:2px; padding-left:2px;\" align=\"center\"><div style=\"display:inline-block;\"><span>$\\lambda{} x_{e} \\: . \\: {Cat}({x})$</span></div></div></div></div></div></div></div></div><div style=\"display:table-cell;vertical-align:middle;border-left:1px solid #848482;padding:0.5em\"><div style=\"white-space:nowrap; color:blue;\"><b>[<span>PM</span>]</b></div></div></div><div align=\"center\" style=\"display:table-row;padding-left:5px;padding-right:5px;padding-top:5px;padding-bottom:5px;\"><div align=\"center\" style=\"display:table-cell;\"><div align=\"center\" style=\"display:block;padding-left:5px;padding-right:5px;padding-top:5px;padding-bottom:5px;\"><div style=\"display:table;table-layout:auto;\" align=\"center\"><div style=\"display:table-row;\"><div style=\"display:table-cell;padding-right:2px; padding-left:2px;\" align=\"center\"><div style=\"display:inline-block;\"><span>$[\\![\\text{\\textbf{[gray cat]}}]\\!]^{}_{\\left\\langle{}e,t\\right\\rangle{}}$</span></div></div></div><div style=\"display:table-row;\"><div style=\"display:table-cell;padding-right:2px; padding-left:2px;\" align=\"center\"><div style=\"display:inline-block;\"><span>$\\lambda{} x_{e} \\: . \\: {Cat}({x}) \\wedge{} {Gray}({x})$</span></div></div></div></div></div></div><div style=\"display:table-cell;\"></div></div></div></div><div style=\"align: center; vertical-align: middle; display: table-cell;\"><span style=\"padding:1em;\">*</span></div><div style=\"display:table-cell;vertical-align:middle;padding-left:5px;padding-right:5px;padding-top:5px;padding-bottom:5px;\"><div align=\"center\" style=\"display:table; margin:5px; border-collapse: collapse;border: 1px solid #848482;\"><div align=\"center\" style=\"display:table-row;border-bottom:1px solid #848482\"><div style=\"display:table-cell;vertical-align:middle;\"><div style=\"display: table;\"><div style=\"display:table-cell;vertical-align:middle;padding-left:5px;padding-right:5px;padding-top:5px;padding-bottom:5px;\"><div align=\"center\" style=\"display:block;padding-left:5px;padding-right:5px;padding-top:5px;padding-bottom:5px;\"><div style=\"display:table;table-layout:auto;\" align=\"center\"><div style=\"display:table-row;\"><div style=\"display:table-cell;padding-right:2px; padding-left:2px;\" align=\"center\"><div style=\"display:inline-block;\"><span>$[\\![\\text{\\textbf{inP}}]\\!]^{}_{\\left\\langle{}e,\\left\\langle{}e,t\\right\\rangle{}\\right\\rangle{}}$</span></div></div></div><div style=\"display:table-row;\"><div style=\"display:table-cell;padding-right:2px; padding-left:2px;\" align=\"center\"><div style=\"display:inline-block;\"><span>$\\lambda{} x_{e} \\: . \\: \\lambda{} y_{e} \\: . \\: {In}({y}, {x})$</span></div></div></div></div></div></div><div style=\"align: center; vertical-align: middle; display: table-cell;\"><span style=\"padding:1em;\">*</span></div><div style=\"display:table-cell;vertical-align:middle;padding-left:5px;padding-right:5px;padding-top:5px;padding-bottom:5px;\"><div align=\"center\" style=\"display:block;padding-left:5px;padding-right:5px;padding-top:5px;padding-bottom:5px;\"><div style=\"display:table;table-layout:auto;\" align=\"center\"><div style=\"display:table-row;\"><div style=\"display:table-cell;padding-right:2px; padding-left:2px;\" align=\"center\"><div style=\"display:inline-block;\"><span>$[\\![\\text{\\textbf{texas}}]\\!]^{}_{e}$</span></div></div></div><div style=\"display:table-row;\"><div style=\"display:table-cell;padding-right:2px; padding-left:2px;\" align=\"center\"><div style=\"display:inline-block;\"><span>${Texas}_{e}$</span></div></div></div></div></div></div></div></div><div style=\"display:table-cell;vertical-align:middle;border-left:1px solid #848482;padding:0.5em\"><div style=\"white-space:nowrap; color:blue;\"><b>[<span>FA</span>]</b></div></div></div><div align=\"center\" style=\"display:table-row;padding-left:5px;padding-right:5px;padding-top:5px;padding-bottom:5px;\"><div align=\"center\" style=\"display:table-cell;\"><div align=\"center\" style=\"display:block;padding-left:5px;padding-right:5px;padding-top:5px;padding-bottom:5px;\"><div style=\"display:table;table-layout:auto;\" align=\"center\"><div style=\"display:table-row;\"><div style=\"display:table-cell;padding-right:2px; padding-left:2px;\" align=\"center\"><div style=\"display:inline-block;\"><span>$[\\![\\text{\\textbf{[inP texas]}}]\\!]^{}_{\\left\\langle{}e,t\\right\\rangle{}}$</span></div></div></div><div style=\"display:table-row;\"><div style=\"display:table-cell;padding-right:2px; padding-left:2px;\" align=\"center\"><div style=\"display:inline-block;\"><span>$\\lambda{} y_{e} \\: . \\: {In}({y}, {Texas}_{e})$</span></div></div></div></div></div></div><div style=\"display:table-cell;\"></div></div></div></div></div></div><div style=\"display:table-cell;vertical-align:middle;border-left:1px solid #848482;padding:0.5em\"><div style=\"white-space:nowrap; color:blue;\"><b>[<span>PM</span>]</b></div></div></div><div align=\"center\" style=\"display:table-row;padding-left:5px;padding-right:5px;padding-top:5px;padding-bottom:5px;\"><div align=\"center\" style=\"display:table-cell;\"><div align=\"center\" style=\"display:block;padding-left:5px;padding-right:5px;padding-top:5px;padding-bottom:5px;\"><div style=\"display:table;table-layout:auto;\" align=\"center\"><div style=\"display:table-row;\"><div style=\"display:table-cell;padding-right:2px; padding-left:2px;\" align=\"center\"><div style=\"display:inline-block;\"><span>$[\\![\\text{\\textbf{[[gray cat] [inP texas]]}}]\\!]^{}_{\\left\\langle{}e,t\\right\\rangle{}}$</span></div></div></div><div style=\"display:table-row;\"><div style=\"display:table-cell;padding-right:2px; padding-left:2px;\" align=\"center\"><div style=\"display:inline-block;\"><span>$\\lambda{} x_{e} \\: . \\: {Cat}({x}) \\wedge{} {Gray}({x}) \\wedge{} {In}({x}, {Texas}_{e})$</span></div></div></div></div></div></div><div style=\"display:table-cell;\"></div></div></div></div><div style=\"align: center; vertical-align: middle; display: table-cell;\"><span style=\"padding:1em;\">*</span></div><div style=\"display:table-cell;vertical-align:middle;padding-left:5px;padding-right:5px;padding-top:5px;padding-bottom:5px;\"><div align=\"center\" style=\"display:table; margin:5px; border-collapse: collapse;border: 1px solid #848482;\"><div align=\"center\" style=\"display:table-row;border-bottom:1px solid #848482\"><div style=\"display:table-cell;vertical-align:middle;\"><div style=\"display: table;\"><div style=\"display:table-cell;vertical-align:middle;padding-left:5px;padding-right:5px;padding-top:5px;padding-bottom:5px;\"><div align=\"center\" style=\"display:block;padding-left:5px;padding-right:5px;padding-top:5px;padding-bottom:5px;\"><div style=\"display:table;table-layout:auto;\" align=\"center\"><div style=\"display:table-row;\"><div style=\"display:table-cell;padding-right:2px; padding-left:2px;\" align=\"center\"><div style=\"display:inline-block;\"><span>$[\\![\\text{\\textbf{fond}}]\\!]^{}_{\\left\\langle{}e,\\left\\langle{}e,t\\right\\rangle{}\\right\\rangle{}}$</span></div></div></div><div style=\"display:table-row;\"><div style=\"display:table-cell;padding-right:2px; padding-left:2px;\" align=\"center\"><div style=\"display:inline-block;\"><span>$\\lambda{} x_{e} \\: . \\: \\lambda{} y_{e} \\: . \\: {Fond}_{\\left\\langle{}e,\\left\\langle{}e,t\\right\\rangle{}\\right\\rangle{}}({y})({x})$</span></div></div></div></div></div></div><div style=\"align: center; vertical-align: middle; display: table-cell;\"><span style=\"padding:1em;\">*</span></div><div style=\"display:table-cell;vertical-align:middle;padding-left:5px;padding-right:5px;padding-top:5px;padding-bottom:5px;\"><div align=\"center\" style=\"display:table; margin:5px; border-collapse: collapse;border: 1px solid #848482;\"><div align=\"center\" style=\"display:table-row;border-bottom:1px solid #848482\"><div style=\"display:table-cell;vertical-align:middle;\"><div style=\"display: table;\"><div style=\"display:table-cell;vertical-align:middle;padding-left:5px;padding-right:5px;padding-top:5px;padding-bottom:5px;\"><div align=\"center\" style=\"display:block;padding-left:5px;padding-right:5px;padding-top:5px;padding-bottom:5px;\"><div style=\"display:table;table-layout:auto;\" align=\"center\"><div style=\"display:table-row;\"><div style=\"display:table-cell;padding-right:2px; padding-left:2px;\" align=\"center\"><div style=\"display:inline-block;\"><span>$[\\![\\text{\\textbf{of}}]\\!]^{}_{\\left\\langle{}e,e\\right\\rangle{}}$</span></div></div></div><div style=\"display:table-row;\"><div style=\"display:table-cell;padding-right:2px; padding-left:2px;\" align=\"center\"><div style=\"display:inline-block;\"><span>$\\lambda{} x_{e} \\: . \\: {x}$</span></div></div></div></div></div></div><div style=\"align: center; vertical-align: middle; display: table-cell;\"><span style=\"padding:1em;\">*</span></div><div style=\"display:table-cell;vertical-align:middle;padding-left:5px;padding-right:5px;padding-top:5px;padding-bottom:5px;\"><div align=\"center\" style=\"display:block;padding-left:5px;padding-right:5px;padding-top:5px;padding-bottom:5px;\"><div style=\"display:table;table-layout:auto;\" align=\"center\"><div style=\"display:table-row;\"><div style=\"display:table-cell;padding-right:2px; padding-left:2px;\" align=\"center\"><div style=\"display:inline-block;\"><span>$[\\![\\text{\\textbf{john}}]\\!]^{}_{e}$</span></div></div></div><div style=\"display:table-row;\"><div style=\"display:table-cell;padding-right:2px; padding-left:2px;\" align=\"center\"><div style=\"display:inline-block;\"><span>${John}_{e}$</span></div></div></div></div></div></div></div></div><div style=\"display:table-cell;vertical-align:middle;border-left:1px solid #848482;padding:0.5em\"><div style=\"white-space:nowrap; color:blue;\"><b>[<span>FA</span>]</b></div></div></div><div align=\"center\" style=\"display:table-row;padding-left:5px;padding-right:5px;padding-top:5px;padding-bottom:5px;\"><div align=\"center\" style=\"display:table-cell;\"><div align=\"center\" style=\"display:block;padding-left:5px;padding-right:5px;padding-top:5px;padding-bottom:5px;\"><div style=\"display:table;table-layout:auto;\" align=\"center\"><div style=\"display:table-row;\"><div style=\"display:table-cell;padding-right:2px; padding-left:2px;\" align=\"center\"><div style=\"display:inline-block;\"><span>$[\\![\\text{\\textbf{[of john]}}]\\!]^{}_{e}$</span></div></div></div><div style=\"display:table-row;\"><div style=\"display:table-cell;padding-right:2px; padding-left:2px;\" align=\"center\"><div style=\"display:inline-block;\"><span>${John}_{e}$</span></div></div></div></div></div></div><div style=\"display:table-cell;\"></div></div></div></div></div></div><div style=\"display:table-cell;vertical-align:middle;border-left:1px solid #848482;padding:0.5em\"><div style=\"white-space:nowrap; color:blue;\"><b>[<span>FA</span>]</b></div></div></div><div align=\"center\" style=\"display:table-row;padding-left:5px;padding-right:5px;padding-top:5px;padding-bottom:5px;\"><div align=\"center\" style=\"display:table-cell;\"><div align=\"center\" style=\"display:block;padding-left:5px;padding-right:5px;padding-top:5px;padding-bottom:5px;\"><div style=\"display:table;table-layout:auto;\" align=\"center\"><div style=\"display:table-row;\"><div style=\"display:table-cell;padding-right:2px; padding-left:2px;\" align=\"center\"><div style=\"display:inline-block;\"><span>$[\\![\\text{\\textbf{[fond [of john]]}}]\\!]^{}_{\\left\\langle{}e,t\\right\\rangle{}}$</span></div></div></div><div style=\"display:table-row;\"><div style=\"display:table-cell;padding-right:2px; padding-left:2px;\" align=\"center\"><div style=\"display:inline-block;\"><span>$\\lambda{} y_{e} \\: . \\: {Fond}_{\\left\\langle{}e,\\left\\langle{}e,t\\right\\rangle{}\\right\\rangle{}}({y})({John}_{e})$</span></div></div></div></div></div></div><div style=\"display:table-cell;\"></div></div></div></div></div></div><div style=\"display:table-cell;vertical-align:middle;border-left:1px solid #848482;padding:0.5em\"><div style=\"white-space:nowrap; color:blue;\"><b>[<span>PM</span>]</b></div></div></div><div align=\"center\" style=\"display:table-row;padding-left:5px;padding-right:5px;padding-top:5px;padding-bottom:5px;\"><div align=\"center\" style=\"display:table-cell;\"><div align=\"center\" style=\"display:block;padding-left:5px;padding-right:5px;padding-top:5px;padding-bottom:5px;\"><div style=\"display:table;table-layout:auto;\" align=\"center\"><div style=\"display:table-row;\"><div style=\"display:table-cell;padding-right:2px; padding-left:2px;\" align=\"center\"><div style=\"display:inline-block;\"><span>$[\\![\\text{\\textbf{[[[gray cat] [inP texas]] [fond [of john]]]}}]\\!]^{}_{\\left\\langle{}e,t\\right\\rangle{}}$</span></div></div></div><div style=\"display:table-row;\"><div style=\"display:table-cell;padding-right:2px; padding-left:2px;\" align=\"center\"><div style=\"display:inline-block;\"><span>$\\lambda{} x_{e} \\: . \\: {Cat}({x}) \\wedge{} {Fond}_{\\left\\langle{}e,\\left\\langle{}e,t\\right\\rangle{}\\right\\rangle{}}({x})({John}_{e}) \\wedge{} {Gray}({x}) \\wedge{} {In}({x}, {Texas}_{e})$</span></div></div></div></div></div></div><div style=\"display:table-cell;\"></div></div></div></div></div></div><div style=\"display:table-cell;vertical-align:middle;border-left:1px solid #848482;padding:0.5em\"><div style=\"white-space:nowrap; color:blue;\"><b>[<span>FA</span>]</b></div></div></div><div align=\"center\" style=\"display:table-row;padding-left:5px;padding-right:5px;padding-top:5px;padding-bottom:5px;\"><div align=\"center\" style=\"display:table-cell;\"><div align=\"center\" style=\"display:block;padding-left:5px;padding-right:5px;padding-top:5px;padding-bottom:5px;\"><div style=\"display:table;table-layout:auto;\" align=\"center\"><div style=\"display:table-row;\"><div style=\"display:table-cell;padding-right:2px; padding-left:2px;\" align=\"center\"><div style=\"display:inline-block;\"><span>$[\\![\\text{\\textbf{[a [[[gray cat] [inP texas]] [fond [of john]]]]}}]\\!]^{}_{\\left\\langle{}e,t\\right\\rangle{}}$</span></div></div></div><div style=\"display:table-row;\"><div style=\"display:table-cell;padding-right:2px; padding-left:2px;\" align=\"center\"><div style=\"display:inline-block;\"><span>$\\lambda{} x_{e} \\: . \\: {Cat}({x}) \\wedge{} {Fond}_{\\left\\langle{}e,\\left\\langle{}e,t\\right\\rangle{}\\right\\rangle{}}({x})({John}_{e}) \\wedge{} {Gray}({x}) \\wedge{} {In}({x}, {Texas}_{e})$</span></div></div></div></div></div></div><div style=\"display:table-cell;\"></div></div></div></div></div></div><div style=\"display:table-cell;vertical-align:middle;border-left:1px solid #848482;padding:0.5em\"><div style=\"white-space:nowrap; color:blue;\"><b>[<span>FA</span>]</b></div></div></div><div align=\"center\" style=\"display:table-row;padding-left:5px;padding-right:5px;padding-top:5px;padding-bottom:5px;\"><div align=\"center\" style=\"display:table-cell;\"><div align=\"center\" style=\"display:block;padding-left:5px;padding-right:5px;padding-top:5px;padding-bottom:5px;\"><div style=\"display:table;table-layout:auto;\" align=\"center\"><div style=\"display:table-row;\"><div style=\"display:table-cell;padding-right:2px; padding-left:2px;\" align=\"center\"><div style=\"display:inline-block;\"><span>$[\\![\\text{\\textbf{[isV [a [[[gray cat] [inP texas]] [fond [of john]]]]]}}]\\!]^{}_{\\left\\langle{}e,t\\right\\rangle{}}$</span></div></div></div><div style=\"display:table-row;\"><div style=\"display:table-cell;padding-right:2px; padding-left:2px;\" align=\"center\"><div style=\"display:inline-block;\"><span>$\\lambda{} x_{e} \\: . \\: {Cat}({x}) \\wedge{} {Fond}_{\\left\\langle{}e,\\left\\langle{}e,t\\right\\rangle{}\\right\\rangle{}}({x})({John}_{e}) \\wedge{} {Gray}({x}) \\wedge{} {In}({x}, {Texas}_{e})$</span></div></div></div></div></div></div><div style=\"display:table-cell;\"></div></div></div></div></div></div><div style=\"display:table-cell;vertical-align:middle;border-left:1px solid #848482;padding:0.5em\"><div style=\"white-space:nowrap; color:blue;\"><b>[<span>FA</span>]</b></div></div></div><div align=\"center\" style=\"display:table-row;padding-left:5px;padding-right:5px;padding-top:5px;padding-bottom:5px;\"><div align=\"center\" style=\"display:table-cell;\"><div align=\"center\" style=\"display:block;padding-left:5px;padding-right:5px;padding-top:5px;padding-bottom:5px;\"><div style=\"display:table;table-layout:auto;\" align=\"center\"><div style=\"display:table-row;\"><div style=\"display:table-cell;padding-right:2px; padding-left:2px;\" align=\"center\"><div style=\"display:inline-block;\"><span>$[\\![\\text{\\textbf{[julius [isV [a [[[gray cat] [inP texas]] [fond [of john]]]]]]}}]\\!]^{}_{t}$</span></div></div></div><div style=\"display:table-row;\"><div style=\"display:table-cell;padding-right:2px; padding-left:2px;\" align=\"center\"><div style=\"display:inline-block;\"><span>${Cat}({Julius}_{e}) \\wedge{} {Fond}_{\\left\\langle{}e,\\left\\langle{}e,t\\right\\rangle{}\\right\\rangle{}}({Julius}_{e})({John}_{e}) \\wedge{} {Gray}({Julius}_{e}) \\wedge{} {In}({Julius}_{e}, {Texas}_{e})$</span></div></div></div></div></div></div><div style=\"display:table-cell;\"></div></div></div><br /><br />"
      ],
      "text/plain": [
       "1 composition path:<br /><div align=\"center\" style=\"display:table; margin:5px; border-collapse: collapse;border: 1px solid #848482;\"><div align=\"center\" style=\"display:table-row;border-bottom:1px solid #848482\"><div style=\"display:table-cell;vertical-align:middle;\"><div style=\"display: table;\"><div style=\"display:table-cell;vertical-align:middle;padding-left:5px;padding-right:5px;padding-top:5px;padding-bottom:5px;\"><div align=\"center\" style=\"display:block;padding-left:5px;padding-right:5px;padding-top:5px;padding-bottom:5px;\"><div style=\"display:table;table-layout:auto;\" align=\"center\"><div style=\"display:table-row;\"><div style=\"display:table-cell;padding-right:2px; padding-left:2px;\" align=\"center\"><div style=\"display:inline-block;\"><span>$[\\![\\text{\\textbf{julius}}]\\!]^{}_{e}$</span></div></div></div><div style=\"display:table-row;\"><div style=\"display:table-cell;padding-right:2px; padding-left:2px;\" align=\"center\"><div style=\"display:inline-block;\"><span>${Julius}_{e}$</span></div></div></div></div></div></div><div style=\"align: center; vertical-align: middle; display: table-cell;\"><span style=\"padding:1em;\">*</span></div><div style=\"display:table-cell;vertical-align:middle;padding-left:5px;padding-right:5px;padding-top:5px;padding-bottom:5px;\"><div align=\"center\" style=\"display:table; margin:5px; border-collapse: collapse;border: 1px solid #848482;\"><div align=\"center\" style=\"display:table-row;border-bottom:1px solid #848482\"><div style=\"display:table-cell;vertical-align:middle;\"><div style=\"display: table;\"><div style=\"display:table-cell;vertical-align:middle;padding-left:5px;padding-right:5px;padding-top:5px;padding-bottom:5px;\"><div align=\"center\" style=\"display:block;padding-left:5px;padding-right:5px;padding-top:5px;padding-bottom:5px;\"><div style=\"display:table;table-layout:auto;\" align=\"center\"><div style=\"display:table-row;\"><div style=\"display:table-cell;padding-right:2px; padding-left:2px;\" align=\"center\"><div style=\"display:inline-block;\"><span>$[\\![\\text{\\textbf{isV}}]\\!]^{}_{\\left\\langle{}\\left\\langle{}e,t\\right\\rangle{},\\left\\langle{}e,t\\right\\rangle{}\\right\\rangle{}}$</span></div></div></div><div style=\"display:table-row;\"><div style=\"display:table-cell;padding-right:2px; padding-left:2px;\" align=\"center\"><div style=\"display:inline-block;\"><span>$\\lambda{} p_{\\left\\langle{}e,t\\right\\rangle{}} \\: . \\: {p}$</span></div></div></div></div></div></div><div style=\"align: center; vertical-align: middle; display: table-cell;\"><span style=\"padding:1em;\">*</span></div><div style=\"display:table-cell;vertical-align:middle;padding-left:5px;padding-right:5px;padding-top:5px;padding-bottom:5px;\"><div align=\"center\" style=\"display:table; margin:5px; border-collapse: collapse;border: 1px solid #848482;\"><div align=\"center\" style=\"display:table-row;border-bottom:1px solid #848482\"><div style=\"display:table-cell;vertical-align:middle;\"><div style=\"display: table;\"><div style=\"display:table-cell;vertical-align:middle;padding-left:5px;padding-right:5px;padding-top:5px;padding-bottom:5px;\"><div align=\"center\" style=\"display:block;padding-left:5px;padding-right:5px;padding-top:5px;padding-bottom:5px;\"><div style=\"display:table;table-layout:auto;\" align=\"center\"><div style=\"display:table-row;\"><div style=\"display:table-cell;padding-right:2px; padding-left:2px;\" align=\"center\"><div style=\"display:inline-block;\"><span>$[\\![\\text{\\textbf{a}}]\\!]^{}_{\\left\\langle{}\\left\\langle{}e,t\\right\\rangle{},\\left\\langle{}e,t\\right\\rangle{}\\right\\rangle{}}$</span></div></div></div><div style=\"display:table-row;\"><div style=\"display:table-cell;padding-right:2px; padding-left:2px;\" align=\"center\"><div style=\"display:inline-block;\"><span>$\\lambda{} p_{\\left\\langle{}e,t\\right\\rangle{}} \\: . \\: {p}$</span></div></div></div></div></div></div><div style=\"align: center; vertical-align: middle; display: table-cell;\"><span style=\"padding:1em;\">*</span></div><div style=\"display:table-cell;vertical-align:middle;padding-left:5px;padding-right:5px;padding-top:5px;padding-bottom:5px;\"><div align=\"center\" style=\"display:table; margin:5px; border-collapse: collapse;border: 1px solid #848482;\"><div align=\"center\" style=\"display:table-row;border-bottom:1px solid #848482\"><div style=\"display:table-cell;vertical-align:middle;\"><div style=\"display: table;\"><div style=\"display:table-cell;vertical-align:middle;padding-left:5px;padding-right:5px;padding-top:5px;padding-bottom:5px;\"><div align=\"center\" style=\"display:table; margin:5px; border-collapse: collapse;border: 1px solid #848482;\"><div align=\"center\" style=\"display:table-row;border-bottom:1px solid #848482\"><div style=\"display:table-cell;vertical-align:middle;\"><div style=\"display: table;\"><div style=\"display:table-cell;vertical-align:middle;padding-left:5px;padding-right:5px;padding-top:5px;padding-bottom:5px;\"><div align=\"center\" style=\"display:table; margin:5px; border-collapse: collapse;border: 1px solid #848482;\"><div align=\"center\" style=\"display:table-row;border-bottom:1px solid #848482\"><div style=\"display:table-cell;vertical-align:middle;\"><div style=\"display: table;\"><div style=\"display:table-cell;vertical-align:middle;padding-left:5px;padding-right:5px;padding-top:5px;padding-bottom:5px;\"><div align=\"center\" style=\"display:block;padding-left:5px;padding-right:5px;padding-top:5px;padding-bottom:5px;\"><div style=\"display:table;table-layout:auto;\" align=\"center\"><div style=\"display:table-row;\"><div style=\"display:table-cell;padding-right:2px; padding-left:2px;\" align=\"center\"><div style=\"display:inline-block;\"><span>$[\\![\\text{\\textbf{gray}}]\\!]^{}_{\\left\\langle{}e,t\\right\\rangle{}}$</span></div></div></div><div style=\"display:table-row;\"><div style=\"display:table-cell;padding-right:2px; padding-left:2px;\" align=\"center\"><div style=\"display:inline-block;\"><span>$\\lambda{} x_{e} \\: . \\: {Gray}({x})$</span></div></div></div></div></div></div><div style=\"align: center; vertical-align: middle; display: table-cell;\"><span style=\"padding:1em;\">*</span></div><div style=\"display:table-cell;vertical-align:middle;padding-left:5px;padding-right:5px;padding-top:5px;padding-bottom:5px;\"><div align=\"center\" style=\"display:block;padding-left:5px;padding-right:5px;padding-top:5px;padding-bottom:5px;\"><div style=\"display:table;table-layout:auto;\" align=\"center\"><div style=\"display:table-row;\"><div style=\"display:table-cell;padding-right:2px; padding-left:2px;\" align=\"center\"><div style=\"display:inline-block;\"><span>$[\\![\\text{\\textbf{cat}}]\\!]^{}_{\\left\\langle{}e,t\\right\\rangle{}}$</span></div></div></div><div style=\"display:table-row;\"><div style=\"display:table-cell;padding-right:2px; padding-left:2px;\" align=\"center\"><div style=\"display:inline-block;\"><span>$\\lambda{} x_{e} \\: . \\: {Cat}({x})$</span></div></div></div></div></div></div></div></div><div style=\"display:table-cell;vertical-align:middle;border-left:1px solid #848482;padding:0.5em\"><div style=\"white-space:nowrap; color:blue;\"><b>[<span>PM</span>]</b></div></div></div><div align=\"center\" style=\"display:table-row;padding-left:5px;padding-right:5px;padding-top:5px;padding-bottom:5px;\"><div align=\"center\" style=\"display:table-cell;\"><div align=\"center\" style=\"display:block;padding-left:5px;padding-right:5px;padding-top:5px;padding-bottom:5px;\"><div style=\"display:table;table-layout:auto;\" align=\"center\"><div style=\"display:table-row;\"><div style=\"display:table-cell;padding-right:2px; padding-left:2px;\" align=\"center\"><div style=\"display:inline-block;\"><span>$[\\![\\text{\\textbf{[gray cat]}}]\\!]^{}_{\\left\\langle{}e,t\\right\\rangle{}}$</span></div></div></div><div style=\"display:table-row;\"><div style=\"display:table-cell;padding-right:2px; padding-left:2px;\" align=\"center\"><div style=\"display:inline-block;\"><span>$\\lambda{} x_{e} \\: . \\: {Cat}({x}) \\wedge{} {Gray}({x})$</span></div></div></div></div></div></div><div style=\"display:table-cell;\"></div></div></div></div><div style=\"align: center; vertical-align: middle; display: table-cell;\"><span style=\"padding:1em;\">*</span></div><div style=\"display:table-cell;vertical-align:middle;padding-left:5px;padding-right:5px;padding-top:5px;padding-bottom:5px;\"><div align=\"center\" style=\"display:table; margin:5px; border-collapse: collapse;border: 1px solid #848482;\"><div align=\"center\" style=\"display:table-row;border-bottom:1px solid #848482\"><div style=\"display:table-cell;vertical-align:middle;\"><div style=\"display: table;\"><div style=\"display:table-cell;vertical-align:middle;padding-left:5px;padding-right:5px;padding-top:5px;padding-bottom:5px;\"><div align=\"center\" style=\"display:block;padding-left:5px;padding-right:5px;padding-top:5px;padding-bottom:5px;\"><div style=\"display:table;table-layout:auto;\" align=\"center\"><div style=\"display:table-row;\"><div style=\"display:table-cell;padding-right:2px; padding-left:2px;\" align=\"center\"><div style=\"display:inline-block;\"><span>$[\\![\\text{\\textbf{inP}}]\\!]^{}_{\\left\\langle{}e,\\left\\langle{}e,t\\right\\rangle{}\\right\\rangle{}}$</span></div></div></div><div style=\"display:table-row;\"><div style=\"display:table-cell;padding-right:2px; padding-left:2px;\" align=\"center\"><div style=\"display:inline-block;\"><span>$\\lambda{} x_{e} \\: . \\: \\lambda{} y_{e} \\: . \\: {In}({y}, {x})$</span></div></div></div></div></div></div><div style=\"align: center; vertical-align: middle; display: table-cell;\"><span style=\"padding:1em;\">*</span></div><div style=\"display:table-cell;vertical-align:middle;padding-left:5px;padding-right:5px;padding-top:5px;padding-bottom:5px;\"><div align=\"center\" style=\"display:block;padding-left:5px;padding-right:5px;padding-top:5px;padding-bottom:5px;\"><div style=\"display:table;table-layout:auto;\" align=\"center\"><div style=\"display:table-row;\"><div style=\"display:table-cell;padding-right:2px; padding-left:2px;\" align=\"center\"><div style=\"display:inline-block;\"><span>$[\\![\\text{\\textbf{texas}}]\\!]^{}_{e}$</span></div></div></div><div style=\"display:table-row;\"><div style=\"display:table-cell;padding-right:2px; padding-left:2px;\" align=\"center\"><div style=\"display:inline-block;\"><span>${Texas}_{e}$</span></div></div></div></div></div></div></div></div><div style=\"display:table-cell;vertical-align:middle;border-left:1px solid #848482;padding:0.5em\"><div style=\"white-space:nowrap; color:blue;\"><b>[<span>FA</span>]</b></div></div></div><div align=\"center\" style=\"display:table-row;padding-left:5px;padding-right:5px;padding-top:5px;padding-bottom:5px;\"><div align=\"center\" style=\"display:table-cell;\"><div align=\"center\" style=\"display:block;padding-left:5px;padding-right:5px;padding-top:5px;padding-bottom:5px;\"><div style=\"display:table;table-layout:auto;\" align=\"center\"><div style=\"display:table-row;\"><div style=\"display:table-cell;padding-right:2px; padding-left:2px;\" align=\"center\"><div style=\"display:inline-block;\"><span>$[\\![\\text{\\textbf{[inP texas]}}]\\!]^{}_{\\left\\langle{}e,t\\right\\rangle{}}$</span></div></div></div><div style=\"display:table-row;\"><div style=\"display:table-cell;padding-right:2px; padding-left:2px;\" align=\"center\"><div style=\"display:inline-block;\"><span>$\\lambda{} y_{e} \\: . \\: {In}({y}, {Texas}_{e})$</span></div></div></div></div></div></div><div style=\"display:table-cell;\"></div></div></div></div></div></div><div style=\"display:table-cell;vertical-align:middle;border-left:1px solid #848482;padding:0.5em\"><div style=\"white-space:nowrap; color:blue;\"><b>[<span>PM</span>]</b></div></div></div><div align=\"center\" style=\"display:table-row;padding-left:5px;padding-right:5px;padding-top:5px;padding-bottom:5px;\"><div align=\"center\" style=\"display:table-cell;\"><div align=\"center\" style=\"display:block;padding-left:5px;padding-right:5px;padding-top:5px;padding-bottom:5px;\"><div style=\"display:table;table-layout:auto;\" align=\"center\"><div style=\"display:table-row;\"><div style=\"display:table-cell;padding-right:2px; padding-left:2px;\" align=\"center\"><div style=\"display:inline-block;\"><span>$[\\![\\text{\\textbf{[[gray cat] [inP texas]]}}]\\!]^{}_{\\left\\langle{}e,t\\right\\rangle{}}$</span></div></div></div><div style=\"display:table-row;\"><div style=\"display:table-cell;padding-right:2px; padding-left:2px;\" align=\"center\"><div style=\"display:inline-block;\"><span>$\\lambda{} x_{e} \\: . \\: {Cat}({x}) \\wedge{} {Gray}({x}) \\wedge{} {In}({x}, {Texas}_{e})$</span></div></div></div></div></div></div><div style=\"display:table-cell;\"></div></div></div></div><div style=\"align: center; vertical-align: middle; display: table-cell;\"><span style=\"padding:1em;\">*</span></div><div style=\"display:table-cell;vertical-align:middle;padding-left:5px;padding-right:5px;padding-top:5px;padding-bottom:5px;\"><div align=\"center\" style=\"display:table; margin:5px; border-collapse: collapse;border: 1px solid #848482;\"><div align=\"center\" style=\"display:table-row;border-bottom:1px solid #848482\"><div style=\"display:table-cell;vertical-align:middle;\"><div style=\"display: table;\"><div style=\"display:table-cell;vertical-align:middle;padding-left:5px;padding-right:5px;padding-top:5px;padding-bottom:5px;\"><div align=\"center\" style=\"display:block;padding-left:5px;padding-right:5px;padding-top:5px;padding-bottom:5px;\"><div style=\"display:table;table-layout:auto;\" align=\"center\"><div style=\"display:table-row;\"><div style=\"display:table-cell;padding-right:2px; padding-left:2px;\" align=\"center\"><div style=\"display:inline-block;\"><span>$[\\![\\text{\\textbf{fond}}]\\!]^{}_{\\left\\langle{}e,\\left\\langle{}e,t\\right\\rangle{}\\right\\rangle{}}$</span></div></div></div><div style=\"display:table-row;\"><div style=\"display:table-cell;padding-right:2px; padding-left:2px;\" align=\"center\"><div style=\"display:inline-block;\"><span>$\\lambda{} x_{e} \\: . \\: \\lambda{} y_{e} \\: . \\: {Fond}_{\\left\\langle{}e,\\left\\langle{}e,t\\right\\rangle{}\\right\\rangle{}}({y})({x})$</span></div></div></div></div></div></div><div style=\"align: center; vertical-align: middle; display: table-cell;\"><span style=\"padding:1em;\">*</span></div><div style=\"display:table-cell;vertical-align:middle;padding-left:5px;padding-right:5px;padding-top:5px;padding-bottom:5px;\"><div align=\"center\" style=\"display:table; margin:5px; border-collapse: collapse;border: 1px solid #848482;\"><div align=\"center\" style=\"display:table-row;border-bottom:1px solid #848482\"><div style=\"display:table-cell;vertical-align:middle;\"><div style=\"display: table;\"><div style=\"display:table-cell;vertical-align:middle;padding-left:5px;padding-right:5px;padding-top:5px;padding-bottom:5px;\"><div align=\"center\" style=\"display:block;padding-left:5px;padding-right:5px;padding-top:5px;padding-bottom:5px;\"><div style=\"display:table;table-layout:auto;\" align=\"center\"><div style=\"display:table-row;\"><div style=\"display:table-cell;padding-right:2px; padding-left:2px;\" align=\"center\"><div style=\"display:inline-block;\"><span>$[\\![\\text{\\textbf{of}}]\\!]^{}_{\\left\\langle{}e,e\\right\\rangle{}}$</span></div></div></div><div style=\"display:table-row;\"><div style=\"display:table-cell;padding-right:2px; padding-left:2px;\" align=\"center\"><div style=\"display:inline-block;\"><span>$\\lambda{} x_{e} \\: . \\: {x}$</span></div></div></div></div></div></div><div style=\"align: center; vertical-align: middle; display: table-cell;\"><span style=\"padding:1em;\">*</span></div><div style=\"display:table-cell;vertical-align:middle;padding-left:5px;padding-right:5px;padding-top:5px;padding-bottom:5px;\"><div align=\"center\" style=\"display:block;padding-left:5px;padding-right:5px;padding-top:5px;padding-bottom:5px;\"><div style=\"display:table;table-layout:auto;\" align=\"center\"><div style=\"display:table-row;\"><div style=\"display:table-cell;padding-right:2px; padding-left:2px;\" align=\"center\"><div style=\"display:inline-block;\"><span>$[\\![\\text{\\textbf{john}}]\\!]^{}_{e}$</span></div></div></div><div style=\"display:table-row;\"><div style=\"display:table-cell;padding-right:2px; padding-left:2px;\" align=\"center\"><div style=\"display:inline-block;\"><span>${John}_{e}$</span></div></div></div></div></div></div></div></div><div style=\"display:table-cell;vertical-align:middle;border-left:1px solid #848482;padding:0.5em\"><div style=\"white-space:nowrap; color:blue;\"><b>[<span>FA</span>]</b></div></div></div><div align=\"center\" style=\"display:table-row;padding-left:5px;padding-right:5px;padding-top:5px;padding-bottom:5px;\"><div align=\"center\" style=\"display:table-cell;\"><div align=\"center\" style=\"display:block;padding-left:5px;padding-right:5px;padding-top:5px;padding-bottom:5px;\"><div style=\"display:table;table-layout:auto;\" align=\"center\"><div style=\"display:table-row;\"><div style=\"display:table-cell;padding-right:2px; padding-left:2px;\" align=\"center\"><div style=\"display:inline-block;\"><span>$[\\![\\text{\\textbf{[of john]}}]\\!]^{}_{e}$</span></div></div></div><div style=\"display:table-row;\"><div style=\"display:table-cell;padding-right:2px; padding-left:2px;\" align=\"center\"><div style=\"display:inline-block;\"><span>${John}_{e}$</span></div></div></div></div></div></div><div style=\"display:table-cell;\"></div></div></div></div></div></div><div style=\"display:table-cell;vertical-align:middle;border-left:1px solid #848482;padding:0.5em\"><div style=\"white-space:nowrap; color:blue;\"><b>[<span>FA</span>]</b></div></div></div><div align=\"center\" style=\"display:table-row;padding-left:5px;padding-right:5px;padding-top:5px;padding-bottom:5px;\"><div align=\"center\" style=\"display:table-cell;\"><div align=\"center\" style=\"display:block;padding-left:5px;padding-right:5px;padding-top:5px;padding-bottom:5px;\"><div style=\"display:table;table-layout:auto;\" align=\"center\"><div style=\"display:table-row;\"><div style=\"display:table-cell;padding-right:2px; padding-left:2px;\" align=\"center\"><div style=\"display:inline-block;\"><span>$[\\![\\text{\\textbf{[fond [of john]]}}]\\!]^{}_{\\left\\langle{}e,t\\right\\rangle{}}$</span></div></div></div><div style=\"display:table-row;\"><div style=\"display:table-cell;padding-right:2px; padding-left:2px;\" align=\"center\"><div style=\"display:inline-block;\"><span>$\\lambda{} y_{e} \\: . \\: {Fond}_{\\left\\langle{}e,\\left\\langle{}e,t\\right\\rangle{}\\right\\rangle{}}({y})({John}_{e})$</span></div></div></div></div></div></div><div style=\"display:table-cell;\"></div></div></div></div></div></div><div style=\"display:table-cell;vertical-align:middle;border-left:1px solid #848482;padding:0.5em\"><div style=\"white-space:nowrap; color:blue;\"><b>[<span>PM</span>]</b></div></div></div><div align=\"center\" style=\"display:table-row;padding-left:5px;padding-right:5px;padding-top:5px;padding-bottom:5px;\"><div align=\"center\" style=\"display:table-cell;\"><div align=\"center\" style=\"display:block;padding-left:5px;padding-right:5px;padding-top:5px;padding-bottom:5px;\"><div style=\"display:table;table-layout:auto;\" align=\"center\"><div style=\"display:table-row;\"><div style=\"display:table-cell;padding-right:2px; padding-left:2px;\" align=\"center\"><div style=\"display:inline-block;\"><span>$[\\![\\text{\\textbf{[[[gray cat] [inP texas]] [fond [of john]]]}}]\\!]^{}_{\\left\\langle{}e,t\\right\\rangle{}}$</span></div></div></div><div style=\"display:table-row;\"><div style=\"display:table-cell;padding-right:2px; padding-left:2px;\" align=\"center\"><div style=\"display:inline-block;\"><span>$\\lambda{} x_{e} \\: . \\: {Cat}({x}) \\wedge{} {Fond}_{\\left\\langle{}e,\\left\\langle{}e,t\\right\\rangle{}\\right\\rangle{}}({x})({John}_{e}) \\wedge{} {Gray}({x}) \\wedge{} {In}({x}, {Texas}_{e})$</span></div></div></div></div></div></div><div style=\"display:table-cell;\"></div></div></div></div></div></div><div style=\"display:table-cell;vertical-align:middle;border-left:1px solid #848482;padding:0.5em\"><div style=\"white-space:nowrap; color:blue;\"><b>[<span>FA</span>]</b></div></div></div><div align=\"center\" style=\"display:table-row;padding-left:5px;padding-right:5px;padding-top:5px;padding-bottom:5px;\"><div align=\"center\" style=\"display:table-cell;\"><div align=\"center\" style=\"display:block;padding-left:5px;padding-right:5px;padding-top:5px;padding-bottom:5px;\"><div style=\"display:table;table-layout:auto;\" align=\"center\"><div style=\"display:table-row;\"><div style=\"display:table-cell;padding-right:2px; padding-left:2px;\" align=\"center\"><div style=\"display:inline-block;\"><span>$[\\![\\text{\\textbf{[a [[[gray cat] [inP texas]] [fond [of john]]]]}}]\\!]^{}_{\\left\\langle{}e,t\\right\\rangle{}}$</span></div></div></div><div style=\"display:table-row;\"><div style=\"display:table-cell;padding-right:2px; padding-left:2px;\" align=\"center\"><div style=\"display:inline-block;\"><span>$\\lambda{} x_{e} \\: . \\: {Cat}({x}) \\wedge{} {Fond}_{\\left\\langle{}e,\\left\\langle{}e,t\\right\\rangle{}\\right\\rangle{}}({x})({John}_{e}) \\wedge{} {Gray}({x}) \\wedge{} {In}({x}, {Texas}_{e})$</span></div></div></div></div></div></div><div style=\"display:table-cell;\"></div></div></div></div></div></div><div style=\"display:table-cell;vertical-align:middle;border-left:1px solid #848482;padding:0.5em\"><div style=\"white-space:nowrap; color:blue;\"><b>[<span>FA</span>]</b></div></div></div><div align=\"center\" style=\"display:table-row;padding-left:5px;padding-right:5px;padding-top:5px;padding-bottom:5px;\"><div align=\"center\" style=\"display:table-cell;\"><div align=\"center\" style=\"display:block;padding-left:5px;padding-right:5px;padding-top:5px;padding-bottom:5px;\"><div style=\"display:table;table-layout:auto;\" align=\"center\"><div style=\"display:table-row;\"><div style=\"display:table-cell;padding-right:2px; padding-left:2px;\" align=\"center\"><div style=\"display:inline-block;\"><span>$[\\![\\text{\\textbf{[isV [a [[[gray cat] [inP texas]] [fond [of john]]]]]}}]\\!]^{}_{\\left\\langle{}e,t\\right\\rangle{}}$</span></div></div></div><div style=\"display:table-row;\"><div style=\"display:table-cell;padding-right:2px; padding-left:2px;\" align=\"center\"><div style=\"display:inline-block;\"><span>$\\lambda{} x_{e} \\: . \\: {Cat}({x}) \\wedge{} {Fond}_{\\left\\langle{}e,\\left\\langle{}e,t\\right\\rangle{}\\right\\rangle{}}({x})({John}_{e}) \\wedge{} {Gray}({x}) \\wedge{} {In}({x}, {Texas}_{e})$</span></div></div></div></div></div></div><div style=\"display:table-cell;\"></div></div></div></div></div></div><div style=\"display:table-cell;vertical-align:middle;border-left:1px solid #848482;padding:0.5em\"><div style=\"white-space:nowrap; color:blue;\"><b>[<span>FA</span>]</b></div></div></div><div align=\"center\" style=\"display:table-row;padding-left:5px;padding-right:5px;padding-top:5px;padding-bottom:5px;\"><div align=\"center\" style=\"display:table-cell;\"><div align=\"center\" style=\"display:block;padding-left:5px;padding-right:5px;padding-top:5px;padding-bottom:5px;\"><div style=\"display:table;table-layout:auto;\" align=\"center\"><div style=\"display:table-row;\"><div style=\"display:table-cell;padding-right:2px; padding-left:2px;\" align=\"center\"><div style=\"display:inline-block;\"><span>$[\\![\\text{\\textbf{[julius [isV [a [[[gray cat] [inP texas]] [fond [of john]]]]]]}}]\\!]^{}_{t}$</span></div></div></div><div style=\"display:table-row;\"><div style=\"display:table-cell;padding-right:2px; padding-left:2px;\" align=\"center\"><div style=\"display:inline-block;\"><span>${Cat}({Julius}_{e}) \\wedge{} {Fond}_{\\left\\langle{}e,\\left\\langle{}e,t\\right\\rangle{}\\right\\rangle{}}({Julius}_{e})({John}_{e}) \\wedge{} {Gray}({Julius}_{e}) \\wedge{} {In}({Julius}_{e}, {Texas}_{e})$</span></div></div></div></div></div></div><div style=\"display:table-cell;\"></div></div></div><br /><br />"
      ]
     },
     "execution_count": 43,
     "metadata": {},
     "output_type": "execute_result"
    }
   ],
   "source": [
    "sentence3.tree()"
   ]
  },
  {
   "cell_type": "markdown",
   "metadata": {},
   "source": [
    "The _Composite_ class subclasses _nltk.Tree_, and so supports the things that class does.  E.g. []-based paths:"
   ]
  },
  {
   "cell_type": "code",
   "execution_count": 44,
   "metadata": {
    "execution": {
     "iopub.execute_input": "2024-03-14T17:51:04.465148Z",
     "iopub.status.busy": "2024-03-14T17:51:04.465069Z",
     "iopub.status.idle": "2024-03-14T17:51:04.467836Z",
     "shell.execute_reply": "2024-03-14T17:51:04.467630Z"
    }
   },
   "outputs": [
    {
     "data": {
      "text/html": [
       "<div align=\"center\" style=\"display:table; margin:5px; border-collapse: collapse;border: 1px solid #848482;\"><div align=\"center\" style=\"display:table-row;border-bottom:1px solid #848482\"><div style=\"display:table-cell;vertical-align:middle;\"><div style=\"display: table;\"><div style=\"display:table-cell;vertical-align:middle;padding-left:5px;padding-right:5px;padding-top:5px;padding-bottom:5px;\"><div align=\"center\" style=\"display:table; margin:5px; border-collapse: collapse;border: 1px solid #848482;\"><div align=\"center\" style=\"display:table-row;border-bottom:1px solid #848482\"><div style=\"display:table-cell;vertical-align:middle;\"><div style=\"display: table;\"><div style=\"display:table-cell;vertical-align:middle;padding-left:5px;padding-right:5px;padding-top:5px;padding-bottom:5px;\"><div align=\"center\" style=\"display:table; margin:5px; border-collapse: collapse;border: 1px solid #848482;\"><div align=\"center\" style=\"display:table-row;border-bottom:1px solid #848482\"><div style=\"display:table-cell;vertical-align:middle;\"><div style=\"display: table;\"><div style=\"display:table-cell;vertical-align:middle;padding-left:5px;padding-right:5px;padding-top:5px;padding-bottom:5px;\"><div align=\"center\" style=\"display:block;padding-left:5px;padding-right:5px;padding-top:5px;padding-bottom:5px;\"><div style=\"display:table;table-layout:auto;\" align=\"center\"><div style=\"display:table-row;\"><div style=\"display:table-cell;padding-right:2px; padding-left:2px;\" align=\"center\"><div style=\"display:inline-block;\"><span>$[\\![\\text{\\textbf{gray}}]\\!]^{}_{\\left\\langle{}e,t\\right\\rangle{}}$</span></div></div></div><div style=\"display:table-row;\"><div style=\"display:table-cell;padding-right:2px; padding-left:2px;\" align=\"center\"><div style=\"display:inline-block;\"><span>$\\lambda{} x_{e} \\: . \\: {Gray}({x})$</span></div></div></div></div></div></div><div style=\"align: center; vertical-align: middle; display: table-cell;\"><span style=\"padding:1em;\">*</span></div><div style=\"display:table-cell;vertical-align:middle;padding-left:5px;padding-right:5px;padding-top:5px;padding-bottom:5px;\"><div align=\"center\" style=\"display:block;padding-left:5px;padding-right:5px;padding-top:5px;padding-bottom:5px;\"><div style=\"display:table;table-layout:auto;\" align=\"center\"><div style=\"display:table-row;\"><div style=\"display:table-cell;padding-right:2px; padding-left:2px;\" align=\"center\"><div style=\"display:inline-block;\"><span>$[\\![\\text{\\textbf{cat}}]\\!]^{}_{\\left\\langle{}e,t\\right\\rangle{}}$</span></div></div></div><div style=\"display:table-row;\"><div style=\"display:table-cell;padding-right:2px; padding-left:2px;\" align=\"center\"><div style=\"display:inline-block;\"><span>$\\lambda{} x_{e} \\: . \\: {Cat}({x})$</span></div></div></div></div></div></div></div></div><div style=\"display:table-cell;vertical-align:middle;border-left:1px solid #848482;padding:0.5em\"><div style=\"white-space:nowrap; color:blue;\"><b>[<span>PM</span>]</b></div></div></div><div align=\"center\" style=\"display:table-row;padding-left:5px;padding-right:5px;padding-top:5px;padding-bottom:5px;\"><div align=\"center\" style=\"display:table-cell;\"><div align=\"center\" style=\"display:block;padding-left:5px;padding-right:5px;padding-top:5px;padding-bottom:5px;\"><div style=\"display:table;table-layout:auto;\" align=\"center\"><div style=\"display:table-row;\"><div style=\"display:table-cell;padding-right:2px; padding-left:2px;\" align=\"center\"><div style=\"display:inline-block;\"><span>$[\\![\\text{\\textbf{[gray cat]}}]\\!]^{}_{\\left\\langle{}e,t\\right\\rangle{}}$</span></div></div></div><div style=\"display:table-row;\"><div style=\"display:table-cell;padding-right:2px; padding-left:2px;\" align=\"center\"><div style=\"display:inline-block;\"><span>$\\lambda{} x_{e} \\: . \\: {Cat}({x}) \\wedge{} {Gray}({x})$</span></div></div></div></div></div></div><div style=\"display:table-cell;\"></div></div></div></div><div style=\"align: center; vertical-align: middle; display: table-cell;\"><span style=\"padding:1em;\">*</span></div><div style=\"display:table-cell;vertical-align:middle;padding-left:5px;padding-right:5px;padding-top:5px;padding-bottom:5px;\"><div align=\"center\" style=\"display:table; margin:5px; border-collapse: collapse;border: 1px solid #848482;\"><div align=\"center\" style=\"display:table-row;border-bottom:1px solid #848482\"><div style=\"display:table-cell;vertical-align:middle;\"><div style=\"display: table;\"><div style=\"display:table-cell;vertical-align:middle;padding-left:5px;padding-right:5px;padding-top:5px;padding-bottom:5px;\"><div align=\"center\" style=\"display:block;padding-left:5px;padding-right:5px;padding-top:5px;padding-bottom:5px;\"><div style=\"display:table;table-layout:auto;\" align=\"center\"><div style=\"display:table-row;\"><div style=\"display:table-cell;padding-right:2px; padding-left:2px;\" align=\"center\"><div style=\"display:inline-block;\"><span>$[\\![\\text{\\textbf{inP}}]\\!]^{}_{\\left\\langle{}e,\\left\\langle{}e,t\\right\\rangle{}\\right\\rangle{}}$</span></div></div></div><div style=\"display:table-row;\"><div style=\"display:table-cell;padding-right:2px; padding-left:2px;\" align=\"center\"><div style=\"display:inline-block;\"><span>$\\lambda{} x_{e} \\: . \\: \\lambda{} y_{e} \\: . \\: {In}({y}, {x})$</span></div></div></div></div></div></div><div style=\"align: center; vertical-align: middle; display: table-cell;\"><span style=\"padding:1em;\">*</span></div><div style=\"display:table-cell;vertical-align:middle;padding-left:5px;padding-right:5px;padding-top:5px;padding-bottom:5px;\"><div align=\"center\" style=\"display:block;padding-left:5px;padding-right:5px;padding-top:5px;padding-bottom:5px;\"><div style=\"display:table;table-layout:auto;\" align=\"center\"><div style=\"display:table-row;\"><div style=\"display:table-cell;padding-right:2px; padding-left:2px;\" align=\"center\"><div style=\"display:inline-block;\"><span>$[\\![\\text{\\textbf{texas}}]\\!]^{}_{e}$</span></div></div></div><div style=\"display:table-row;\"><div style=\"display:table-cell;padding-right:2px; padding-left:2px;\" align=\"center\"><div style=\"display:inline-block;\"><span>${Texas}_{e}$</span></div></div></div></div></div></div></div></div><div style=\"display:table-cell;vertical-align:middle;border-left:1px solid #848482;padding:0.5em\"><div style=\"white-space:nowrap; color:blue;\"><b>[<span>FA</span>]</b></div></div></div><div align=\"center\" style=\"display:table-row;padding-left:5px;padding-right:5px;padding-top:5px;padding-bottom:5px;\"><div align=\"center\" style=\"display:table-cell;\"><div align=\"center\" style=\"display:block;padding-left:5px;padding-right:5px;padding-top:5px;padding-bottom:5px;\"><div style=\"display:table;table-layout:auto;\" align=\"center\"><div style=\"display:table-row;\"><div style=\"display:table-cell;padding-right:2px; padding-left:2px;\" align=\"center\"><div style=\"display:inline-block;\"><span>$[\\![\\text{\\textbf{[inP texas]}}]\\!]^{}_{\\left\\langle{}e,t\\right\\rangle{}}$</span></div></div></div><div style=\"display:table-row;\"><div style=\"display:table-cell;padding-right:2px; padding-left:2px;\" align=\"center\"><div style=\"display:inline-block;\"><span>$\\lambda{} y_{e} \\: . \\: {In}({y}, {Texas}_{e})$</span></div></div></div></div></div></div><div style=\"display:table-cell;\"></div></div></div></div></div></div><div style=\"display:table-cell;vertical-align:middle;border-left:1px solid #848482;padding:0.5em\"><div style=\"white-space:nowrap; color:blue;\"><b>[<span>PM</span>]</b></div></div></div><div align=\"center\" style=\"display:table-row;padding-left:5px;padding-right:5px;padding-top:5px;padding-bottom:5px;\"><div align=\"center\" style=\"display:table-cell;\"><div align=\"center\" style=\"display:block;padding-left:5px;padding-right:5px;padding-top:5px;padding-bottom:5px;\"><div style=\"display:table;table-layout:auto;\" align=\"center\"><div style=\"display:table-row;\"><div style=\"display:table-cell;padding-right:2px; padding-left:2px;\" align=\"center\"><div style=\"display:inline-block;\"><span>$[\\![\\text{\\textbf{[[gray cat] [inP texas]]}}]\\!]^{}_{\\left\\langle{}e,t\\right\\rangle{}}$</span></div></div></div><div style=\"display:table-row;\"><div style=\"display:table-cell;padding-right:2px; padding-left:2px;\" align=\"center\"><div style=\"display:inline-block;\"><span>$\\lambda{} x_{e} \\: . \\: {Cat}({x}) \\wedge{} {Gray}({x}) \\wedge{} {In}({x}, {Texas}_{e})$</span></div></div></div></div></div></div><div style=\"display:table-cell;\"></div></div></div></div><div style=\"align: center; vertical-align: middle; display: table-cell;\"><span style=\"padding:1em;\">*</span></div><div style=\"display:table-cell;vertical-align:middle;padding-left:5px;padding-right:5px;padding-top:5px;padding-bottom:5px;\"><div align=\"center\" style=\"display:table; margin:5px; border-collapse: collapse;border: 1px solid #848482;\"><div align=\"center\" style=\"display:table-row;border-bottom:1px solid #848482\"><div style=\"display:table-cell;vertical-align:middle;\"><div style=\"display: table;\"><div style=\"display:table-cell;vertical-align:middle;padding-left:5px;padding-right:5px;padding-top:5px;padding-bottom:5px;\"><div align=\"center\" style=\"display:block;padding-left:5px;padding-right:5px;padding-top:5px;padding-bottom:5px;\"><div style=\"display:table;table-layout:auto;\" align=\"center\"><div style=\"display:table-row;\"><div style=\"display:table-cell;padding-right:2px; padding-left:2px;\" align=\"center\"><div style=\"display:inline-block;\"><span>$[\\![\\text{\\textbf{fond}}]\\!]^{}_{\\left\\langle{}e,\\left\\langle{}e,t\\right\\rangle{}\\right\\rangle{}}$</span></div></div></div><div style=\"display:table-row;\"><div style=\"display:table-cell;padding-right:2px; padding-left:2px;\" align=\"center\"><div style=\"display:inline-block;\"><span>$\\lambda{} x_{e} \\: . \\: \\lambda{} y_{e} \\: . \\: {Fond}_{\\left\\langle{}e,\\left\\langle{}e,t\\right\\rangle{}\\right\\rangle{}}({y})({x})$</span></div></div></div></div></div></div><div style=\"align: center; vertical-align: middle; display: table-cell;\"><span style=\"padding:1em;\">*</span></div><div style=\"display:table-cell;vertical-align:middle;padding-left:5px;padding-right:5px;padding-top:5px;padding-bottom:5px;\"><div align=\"center\" style=\"display:table; margin:5px; border-collapse: collapse;border: 1px solid #848482;\"><div align=\"center\" style=\"display:table-row;border-bottom:1px solid #848482\"><div style=\"display:table-cell;vertical-align:middle;\"><div style=\"display: table;\"><div style=\"display:table-cell;vertical-align:middle;padding-left:5px;padding-right:5px;padding-top:5px;padding-bottom:5px;\"><div align=\"center\" style=\"display:block;padding-left:5px;padding-right:5px;padding-top:5px;padding-bottom:5px;\"><div style=\"display:table;table-layout:auto;\" align=\"center\"><div style=\"display:table-row;\"><div style=\"display:table-cell;padding-right:2px; padding-left:2px;\" align=\"center\"><div style=\"display:inline-block;\"><span>$[\\![\\text{\\textbf{of}}]\\!]^{}_{\\left\\langle{}e,e\\right\\rangle{}}$</span></div></div></div><div style=\"display:table-row;\"><div style=\"display:table-cell;padding-right:2px; padding-left:2px;\" align=\"center\"><div style=\"display:inline-block;\"><span>$\\lambda{} x_{e} \\: . \\: {x}$</span></div></div></div></div></div></div><div style=\"align: center; vertical-align: middle; display: table-cell;\"><span style=\"padding:1em;\">*</span></div><div style=\"display:table-cell;vertical-align:middle;padding-left:5px;padding-right:5px;padding-top:5px;padding-bottom:5px;\"><div align=\"center\" style=\"display:block;padding-left:5px;padding-right:5px;padding-top:5px;padding-bottom:5px;\"><div style=\"display:table;table-layout:auto;\" align=\"center\"><div style=\"display:table-row;\"><div style=\"display:table-cell;padding-right:2px; padding-left:2px;\" align=\"center\"><div style=\"display:inline-block;\"><span>$[\\![\\text{\\textbf{john}}]\\!]^{}_{e}$</span></div></div></div><div style=\"display:table-row;\"><div style=\"display:table-cell;padding-right:2px; padding-left:2px;\" align=\"center\"><div style=\"display:inline-block;\"><span>${John}_{e}$</span></div></div></div></div></div></div></div></div><div style=\"display:table-cell;vertical-align:middle;border-left:1px solid #848482;padding:0.5em\"><div style=\"white-space:nowrap; color:blue;\"><b>[<span>FA</span>]</b></div></div></div><div align=\"center\" style=\"display:table-row;padding-left:5px;padding-right:5px;padding-top:5px;padding-bottom:5px;\"><div align=\"center\" style=\"display:table-cell;\"><div align=\"center\" style=\"display:block;padding-left:5px;padding-right:5px;padding-top:5px;padding-bottom:5px;\"><div style=\"display:table;table-layout:auto;\" align=\"center\"><div style=\"display:table-row;\"><div style=\"display:table-cell;padding-right:2px; padding-left:2px;\" align=\"center\"><div style=\"display:inline-block;\"><span>$[\\![\\text{\\textbf{[of john]}}]\\!]^{}_{e}$</span></div></div></div><div style=\"display:table-row;\"><div style=\"display:table-cell;padding-right:2px; padding-left:2px;\" align=\"center\"><div style=\"display:inline-block;\"><span>${John}_{e}$</span></div></div></div></div></div></div><div style=\"display:table-cell;\"></div></div></div></div></div></div><div style=\"display:table-cell;vertical-align:middle;border-left:1px solid #848482;padding:0.5em\"><div style=\"white-space:nowrap; color:blue;\"><b>[<span>FA</span>]</b></div></div></div><div align=\"center\" style=\"display:table-row;padding-left:5px;padding-right:5px;padding-top:5px;padding-bottom:5px;\"><div align=\"center\" style=\"display:table-cell;\"><div align=\"center\" style=\"display:block;padding-left:5px;padding-right:5px;padding-top:5px;padding-bottom:5px;\"><div style=\"display:table;table-layout:auto;\" align=\"center\"><div style=\"display:table-row;\"><div style=\"display:table-cell;padding-right:2px; padding-left:2px;\" align=\"center\"><div style=\"display:inline-block;\"><span>$[\\![\\text{\\textbf{[fond [of john]]}}]\\!]^{}_{\\left\\langle{}e,t\\right\\rangle{}}$</span></div></div></div><div style=\"display:table-row;\"><div style=\"display:table-cell;padding-right:2px; padding-left:2px;\" align=\"center\"><div style=\"display:inline-block;\"><span>$\\lambda{} y_{e} \\: . \\: {Fond}_{\\left\\langle{}e,\\left\\langle{}e,t\\right\\rangle{}\\right\\rangle{}}({y})({John}_{e})$</span></div></div></div></div></div></div><div style=\"display:table-cell;\"></div></div></div></div></div></div><div style=\"display:table-cell;vertical-align:middle;border-left:1px solid #848482;padding:0.5em\"><div style=\"white-space:nowrap; color:blue;\"><b>[<span>PM</span>]</b></div></div></div><div align=\"center\" style=\"display:table-row;padding-left:5px;padding-right:5px;padding-top:5px;padding-bottom:5px;\"><div align=\"center\" style=\"display:table-cell;\"><div align=\"center\" style=\"display:block;padding-left:5px;padding-right:5px;padding-top:5px;padding-bottom:5px;\"><div style=\"display:table;table-layout:auto;\" align=\"center\"><div style=\"display:table-row;\"><div style=\"display:table-cell;padding-right:2px; padding-left:2px;\" align=\"center\"><div style=\"display:inline-block;\"><span>$[\\![\\text{\\textbf{[[[gray cat] [inP texas]] [fond [of john]]]}}]\\!]^{}_{\\left\\langle{}e,t\\right\\rangle{}}$</span></div></div></div><div style=\"display:table-row;\"><div style=\"display:table-cell;padding-right:2px; padding-left:2px;\" align=\"center\"><div style=\"display:inline-block;\"><span>$\\lambda{} x_{e} \\: . \\: {Cat}({x}) \\wedge{} {Fond}_{\\left\\langle{}e,\\left\\langle{}e,t\\right\\rangle{}\\right\\rangle{}}({x})({John}_{e}) \\wedge{} {Gray}({x}) \\wedge{} {In}({x}, {Texas}_{e})$</span></div></div></div></div></div></div><div style=\"display:table-cell;\"></div></div></div>"
      ],
      "text/plain": [
       "<div align=\"center\" style=\"display:table; margin:5px; border-collapse: collapse;border: 1px solid #848482;\"><div align=\"center\" style=\"display:table-row;border-bottom:1px solid #848482\"><div style=\"display:table-cell;vertical-align:middle;\"><div style=\"display: table;\"><div style=\"display:table-cell;vertical-align:middle;padding-left:5px;padding-right:5px;padding-top:5px;padding-bottom:5px;\"><div align=\"center\" style=\"display:table; margin:5px; border-collapse: collapse;border: 1px solid #848482;\"><div align=\"center\" style=\"display:table-row;border-bottom:1px solid #848482\"><div style=\"display:table-cell;vertical-align:middle;\"><div style=\"display: table;\"><div style=\"display:table-cell;vertical-align:middle;padding-left:5px;padding-right:5px;padding-top:5px;padding-bottom:5px;\"><div align=\"center\" style=\"display:table; margin:5px; border-collapse: collapse;border: 1px solid #848482;\"><div align=\"center\" style=\"display:table-row;border-bottom:1px solid #848482\"><div style=\"display:table-cell;vertical-align:middle;\"><div style=\"display: table;\"><div style=\"display:table-cell;vertical-align:middle;padding-left:5px;padding-right:5px;padding-top:5px;padding-bottom:5px;\"><div align=\"center\" style=\"display:block;padding-left:5px;padding-right:5px;padding-top:5px;padding-bottom:5px;\"><div style=\"display:table;table-layout:auto;\" align=\"center\"><div style=\"display:table-row;\"><div style=\"display:table-cell;padding-right:2px; padding-left:2px;\" align=\"center\"><div style=\"display:inline-block;\"><span>$[\\![\\text{\\textbf{gray}}]\\!]^{}_{\\left\\langle{}e,t\\right\\rangle{}}$</span></div></div></div><div style=\"display:table-row;\"><div style=\"display:table-cell;padding-right:2px; padding-left:2px;\" align=\"center\"><div style=\"display:inline-block;\"><span>$\\lambda{} x_{e} \\: . \\: {Gray}({x})$</span></div></div></div></div></div></div><div style=\"align: center; vertical-align: middle; display: table-cell;\"><span style=\"padding:1em;\">*</span></div><div style=\"display:table-cell;vertical-align:middle;padding-left:5px;padding-right:5px;padding-top:5px;padding-bottom:5px;\"><div align=\"center\" style=\"display:block;padding-left:5px;padding-right:5px;padding-top:5px;padding-bottom:5px;\"><div style=\"display:table;table-layout:auto;\" align=\"center\"><div style=\"display:table-row;\"><div style=\"display:table-cell;padding-right:2px; padding-left:2px;\" align=\"center\"><div style=\"display:inline-block;\"><span>$[\\![\\text{\\textbf{cat}}]\\!]^{}_{\\left\\langle{}e,t\\right\\rangle{}}$</span></div></div></div><div style=\"display:table-row;\"><div style=\"display:table-cell;padding-right:2px; padding-left:2px;\" align=\"center\"><div style=\"display:inline-block;\"><span>$\\lambda{} x_{e} \\: . \\: {Cat}({x})$</span></div></div></div></div></div></div></div></div><div style=\"display:table-cell;vertical-align:middle;border-left:1px solid #848482;padding:0.5em\"><div style=\"white-space:nowrap; color:blue;\"><b>[<span>PM</span>]</b></div></div></div><div align=\"center\" style=\"display:table-row;padding-left:5px;padding-right:5px;padding-top:5px;padding-bottom:5px;\"><div align=\"center\" style=\"display:table-cell;\"><div align=\"center\" style=\"display:block;padding-left:5px;padding-right:5px;padding-top:5px;padding-bottom:5px;\"><div style=\"display:table;table-layout:auto;\" align=\"center\"><div style=\"display:table-row;\"><div style=\"display:table-cell;padding-right:2px; padding-left:2px;\" align=\"center\"><div style=\"display:inline-block;\"><span>$[\\![\\text{\\textbf{[gray cat]}}]\\!]^{}_{\\left\\langle{}e,t\\right\\rangle{}}$</span></div></div></div><div style=\"display:table-row;\"><div style=\"display:table-cell;padding-right:2px; padding-left:2px;\" align=\"center\"><div style=\"display:inline-block;\"><span>$\\lambda{} x_{e} \\: . \\: {Cat}({x}) \\wedge{} {Gray}({x})$</span></div></div></div></div></div></div><div style=\"display:table-cell;\"></div></div></div></div><div style=\"align: center; vertical-align: middle; display: table-cell;\"><span style=\"padding:1em;\">*</span></div><div style=\"display:table-cell;vertical-align:middle;padding-left:5px;padding-right:5px;padding-top:5px;padding-bottom:5px;\"><div align=\"center\" style=\"display:table; margin:5px; border-collapse: collapse;border: 1px solid #848482;\"><div align=\"center\" style=\"display:table-row;border-bottom:1px solid #848482\"><div style=\"display:table-cell;vertical-align:middle;\"><div style=\"display: table;\"><div style=\"display:table-cell;vertical-align:middle;padding-left:5px;padding-right:5px;padding-top:5px;padding-bottom:5px;\"><div align=\"center\" style=\"display:block;padding-left:5px;padding-right:5px;padding-top:5px;padding-bottom:5px;\"><div style=\"display:table;table-layout:auto;\" align=\"center\"><div style=\"display:table-row;\"><div style=\"display:table-cell;padding-right:2px; padding-left:2px;\" align=\"center\"><div style=\"display:inline-block;\"><span>$[\\![\\text{\\textbf{inP}}]\\!]^{}_{\\left\\langle{}e,\\left\\langle{}e,t\\right\\rangle{}\\right\\rangle{}}$</span></div></div></div><div style=\"display:table-row;\"><div style=\"display:table-cell;padding-right:2px; padding-left:2px;\" align=\"center\"><div style=\"display:inline-block;\"><span>$\\lambda{} x_{e} \\: . \\: \\lambda{} y_{e} \\: . \\: {In}({y}, {x})$</span></div></div></div></div></div></div><div style=\"align: center; vertical-align: middle; display: table-cell;\"><span style=\"padding:1em;\">*</span></div><div style=\"display:table-cell;vertical-align:middle;padding-left:5px;padding-right:5px;padding-top:5px;padding-bottom:5px;\"><div align=\"center\" style=\"display:block;padding-left:5px;padding-right:5px;padding-top:5px;padding-bottom:5px;\"><div style=\"display:table;table-layout:auto;\" align=\"center\"><div style=\"display:table-row;\"><div style=\"display:table-cell;padding-right:2px; padding-left:2px;\" align=\"center\"><div style=\"display:inline-block;\"><span>$[\\![\\text{\\textbf{texas}}]\\!]^{}_{e}$</span></div></div></div><div style=\"display:table-row;\"><div style=\"display:table-cell;padding-right:2px; padding-left:2px;\" align=\"center\"><div style=\"display:inline-block;\"><span>${Texas}_{e}$</span></div></div></div></div></div></div></div></div><div style=\"display:table-cell;vertical-align:middle;border-left:1px solid #848482;padding:0.5em\"><div style=\"white-space:nowrap; color:blue;\"><b>[<span>FA</span>]</b></div></div></div><div align=\"center\" style=\"display:table-row;padding-left:5px;padding-right:5px;padding-top:5px;padding-bottom:5px;\"><div align=\"center\" style=\"display:table-cell;\"><div align=\"center\" style=\"display:block;padding-left:5px;padding-right:5px;padding-top:5px;padding-bottom:5px;\"><div style=\"display:table;table-layout:auto;\" align=\"center\"><div style=\"display:table-row;\"><div style=\"display:table-cell;padding-right:2px; padding-left:2px;\" align=\"center\"><div style=\"display:inline-block;\"><span>$[\\![\\text{\\textbf{[inP texas]}}]\\!]^{}_{\\left\\langle{}e,t\\right\\rangle{}}$</span></div></div></div><div style=\"display:table-row;\"><div style=\"display:table-cell;padding-right:2px; padding-left:2px;\" align=\"center\"><div style=\"display:inline-block;\"><span>$\\lambda{} y_{e} \\: . \\: {In}({y}, {Texas}_{e})$</span></div></div></div></div></div></div><div style=\"display:table-cell;\"></div></div></div></div></div></div><div style=\"display:table-cell;vertical-align:middle;border-left:1px solid #848482;padding:0.5em\"><div style=\"white-space:nowrap; color:blue;\"><b>[<span>PM</span>]</b></div></div></div><div align=\"center\" style=\"display:table-row;padding-left:5px;padding-right:5px;padding-top:5px;padding-bottom:5px;\"><div align=\"center\" style=\"display:table-cell;\"><div align=\"center\" style=\"display:block;padding-left:5px;padding-right:5px;padding-top:5px;padding-bottom:5px;\"><div style=\"display:table;table-layout:auto;\" align=\"center\"><div style=\"display:table-row;\"><div style=\"display:table-cell;padding-right:2px; padding-left:2px;\" align=\"center\"><div style=\"display:inline-block;\"><span>$[\\![\\text{\\textbf{[[gray cat] [inP texas]]}}]\\!]^{}_{\\left\\langle{}e,t\\right\\rangle{}}$</span></div></div></div><div style=\"display:table-row;\"><div style=\"display:table-cell;padding-right:2px; padding-left:2px;\" align=\"center\"><div style=\"display:inline-block;\"><span>$\\lambda{} x_{e} \\: . \\: {Cat}({x}) \\wedge{} {Gray}({x}) \\wedge{} {In}({x}, {Texas}_{e})$</span></div></div></div></div></div></div><div style=\"display:table-cell;\"></div></div></div></div><div style=\"align: center; vertical-align: middle; display: table-cell;\"><span style=\"padding:1em;\">*</span></div><div style=\"display:table-cell;vertical-align:middle;padding-left:5px;padding-right:5px;padding-top:5px;padding-bottom:5px;\"><div align=\"center\" style=\"display:table; margin:5px; border-collapse: collapse;border: 1px solid #848482;\"><div align=\"center\" style=\"display:table-row;border-bottom:1px solid #848482\"><div style=\"display:table-cell;vertical-align:middle;\"><div style=\"display: table;\"><div style=\"display:table-cell;vertical-align:middle;padding-left:5px;padding-right:5px;padding-top:5px;padding-bottom:5px;\"><div align=\"center\" style=\"display:block;padding-left:5px;padding-right:5px;padding-top:5px;padding-bottom:5px;\"><div style=\"display:table;table-layout:auto;\" align=\"center\"><div style=\"display:table-row;\"><div style=\"display:table-cell;padding-right:2px; padding-left:2px;\" align=\"center\"><div style=\"display:inline-block;\"><span>$[\\![\\text{\\textbf{fond}}]\\!]^{}_{\\left\\langle{}e,\\left\\langle{}e,t\\right\\rangle{}\\right\\rangle{}}$</span></div></div></div><div style=\"display:table-row;\"><div style=\"display:table-cell;padding-right:2px; padding-left:2px;\" align=\"center\"><div style=\"display:inline-block;\"><span>$\\lambda{} x_{e} \\: . \\: \\lambda{} y_{e} \\: . \\: {Fond}_{\\left\\langle{}e,\\left\\langle{}e,t\\right\\rangle{}\\right\\rangle{}}({y})({x})$</span></div></div></div></div></div></div><div style=\"align: center; vertical-align: middle; display: table-cell;\"><span style=\"padding:1em;\">*</span></div><div style=\"display:table-cell;vertical-align:middle;padding-left:5px;padding-right:5px;padding-top:5px;padding-bottom:5px;\"><div align=\"center\" style=\"display:table; margin:5px; border-collapse: collapse;border: 1px solid #848482;\"><div align=\"center\" style=\"display:table-row;border-bottom:1px solid #848482\"><div style=\"display:table-cell;vertical-align:middle;\"><div style=\"display: table;\"><div style=\"display:table-cell;vertical-align:middle;padding-left:5px;padding-right:5px;padding-top:5px;padding-bottom:5px;\"><div align=\"center\" style=\"display:block;padding-left:5px;padding-right:5px;padding-top:5px;padding-bottom:5px;\"><div style=\"display:table;table-layout:auto;\" align=\"center\"><div style=\"display:table-row;\"><div style=\"display:table-cell;padding-right:2px; padding-left:2px;\" align=\"center\"><div style=\"display:inline-block;\"><span>$[\\![\\text{\\textbf{of}}]\\!]^{}_{\\left\\langle{}e,e\\right\\rangle{}}$</span></div></div></div><div style=\"display:table-row;\"><div style=\"display:table-cell;padding-right:2px; padding-left:2px;\" align=\"center\"><div style=\"display:inline-block;\"><span>$\\lambda{} x_{e} \\: . \\: {x}$</span></div></div></div></div></div></div><div style=\"align: center; vertical-align: middle; display: table-cell;\"><span style=\"padding:1em;\">*</span></div><div style=\"display:table-cell;vertical-align:middle;padding-left:5px;padding-right:5px;padding-top:5px;padding-bottom:5px;\"><div align=\"center\" style=\"display:block;padding-left:5px;padding-right:5px;padding-top:5px;padding-bottom:5px;\"><div style=\"display:table;table-layout:auto;\" align=\"center\"><div style=\"display:table-row;\"><div style=\"display:table-cell;padding-right:2px; padding-left:2px;\" align=\"center\"><div style=\"display:inline-block;\"><span>$[\\![\\text{\\textbf{john}}]\\!]^{}_{e}$</span></div></div></div><div style=\"display:table-row;\"><div style=\"display:table-cell;padding-right:2px; padding-left:2px;\" align=\"center\"><div style=\"display:inline-block;\"><span>${John}_{e}$</span></div></div></div></div></div></div></div></div><div style=\"display:table-cell;vertical-align:middle;border-left:1px solid #848482;padding:0.5em\"><div style=\"white-space:nowrap; color:blue;\"><b>[<span>FA</span>]</b></div></div></div><div align=\"center\" style=\"display:table-row;padding-left:5px;padding-right:5px;padding-top:5px;padding-bottom:5px;\"><div align=\"center\" style=\"display:table-cell;\"><div align=\"center\" style=\"display:block;padding-left:5px;padding-right:5px;padding-top:5px;padding-bottom:5px;\"><div style=\"display:table;table-layout:auto;\" align=\"center\"><div style=\"display:table-row;\"><div style=\"display:table-cell;padding-right:2px; padding-left:2px;\" align=\"center\"><div style=\"display:inline-block;\"><span>$[\\![\\text{\\textbf{[of john]}}]\\!]^{}_{e}$</span></div></div></div><div style=\"display:table-row;\"><div style=\"display:table-cell;padding-right:2px; padding-left:2px;\" align=\"center\"><div style=\"display:inline-block;\"><span>${John}_{e}$</span></div></div></div></div></div></div><div style=\"display:table-cell;\"></div></div></div></div></div></div><div style=\"display:table-cell;vertical-align:middle;border-left:1px solid #848482;padding:0.5em\"><div style=\"white-space:nowrap; color:blue;\"><b>[<span>FA</span>]</b></div></div></div><div align=\"center\" style=\"display:table-row;padding-left:5px;padding-right:5px;padding-top:5px;padding-bottom:5px;\"><div align=\"center\" style=\"display:table-cell;\"><div align=\"center\" style=\"display:block;padding-left:5px;padding-right:5px;padding-top:5px;padding-bottom:5px;\"><div style=\"display:table;table-layout:auto;\" align=\"center\"><div style=\"display:table-row;\"><div style=\"display:table-cell;padding-right:2px; padding-left:2px;\" align=\"center\"><div style=\"display:inline-block;\"><span>$[\\![\\text{\\textbf{[fond [of john]]}}]\\!]^{}_{\\left\\langle{}e,t\\right\\rangle{}}$</span></div></div></div><div style=\"display:table-row;\"><div style=\"display:table-cell;padding-right:2px; padding-left:2px;\" align=\"center\"><div style=\"display:inline-block;\"><span>$\\lambda{} y_{e} \\: . \\: {Fond}_{\\left\\langle{}e,\\left\\langle{}e,t\\right\\rangle{}\\right\\rangle{}}({y})({John}_{e})$</span></div></div></div></div></div></div><div style=\"display:table-cell;\"></div></div></div></div></div></div><div style=\"display:table-cell;vertical-align:middle;border-left:1px solid #848482;padding:0.5em\"><div style=\"white-space:nowrap; color:blue;\"><b>[<span>PM</span>]</b></div></div></div><div align=\"center\" style=\"display:table-row;padding-left:5px;padding-right:5px;padding-top:5px;padding-bottom:5px;\"><div align=\"center\" style=\"display:table-cell;\"><div align=\"center\" style=\"display:block;padding-left:5px;padding-right:5px;padding-top:5px;padding-bottom:5px;\"><div style=\"display:table;table-layout:auto;\" align=\"center\"><div style=\"display:table-row;\"><div style=\"display:table-cell;padding-right:2px; padding-left:2px;\" align=\"center\"><div style=\"display:inline-block;\"><span>$[\\![\\text{\\textbf{[[[gray cat] [inP texas]] [fond [of john]]]}}]\\!]^{}_{\\left\\langle{}e,t\\right\\rangle{}}$</span></div></div></div><div style=\"display:table-row;\"><div style=\"display:table-cell;padding-right:2px; padding-left:2px;\" align=\"center\"><div style=\"display:inline-block;\"><span>$\\lambda{} x_{e} \\: . \\: {Cat}({x}) \\wedge{} {Fond}_{\\left\\langle{}e,\\left\\langle{}e,t\\right\\rangle{}\\right\\rangle{}}({x})({John}_{e}) \\wedge{} {Gray}({x}) \\wedge{} {In}({x}, {Texas}_{e})$</span></div></div></div></div></div></div><div style=\"display:table-cell;\"></div></div></div>"
      ]
     },
     "execution_count": 44,
     "metadata": {},
     "output_type": "execute_result"
    }
   ],
   "source": [
    "parse_tree3 = sentence3.results[0]\n",
    "parse_tree3[1][1][1].tree()"
   ]
  },
  {
   "cell_type": "markdown",
   "metadata": {},
   "source": [
    "There is support for traces and indexed pronouns, using the PA rule.  (The implementation may not be what you expect.)"
   ]
  },
  {
   "cell_type": "code",
   "execution_count": 45,
   "metadata": {
    "execution": {
     "iopub.execute_input": "2024-03-14T17:51:04.468955Z",
     "iopub.status.busy": "2024-03-14T17:51:04.468869Z",
     "iopub.status.idle": "2024-03-14T17:51:04.471999Z",
     "shell.execute_reply": "2024-03-14T17:51:04.471807Z"
    }
   },
   "outputs": [
    {
     "data": {
      "image/svg+xml": [
       "<svg baseProfile=\"full\" height=\"8px\" preserveAspectRatio=\"xMidYMid meet\" style=\"font-family: times, serif; font-weight: normal; font-style: normal; font-size: 16px;\" version=\"1.1\" viewBox=\"0,0,16.0,8.0\" width=\"16px\" xmlns=\"http://www.w3.org/2000/svg\" xmlns:ev=\"http://www.w3.org/2001/xml-events\" xmlns:xlink=\"http://www.w3.org/1999/xlink\"><defs /><svg width=\"100%\" x=\"0\" y=\"0px\"><defs /></svg></svg>"
      ],
      "text/latex": [
       "$[\\![\\text{\\textbf{t}}_{23}]\\!]^{}_{e} \\:=\\: {var23}_{e}$"
      ],
      "text/plain": [
       "⟦t23⟧ = var23_e"
      ]
     },
     "metadata": {},
     "output_type": "display_data"
    },
    {
     "data": {
      "image/svg+xml": [
       "<svg baseProfile=\"full\" height=\"8px\" preserveAspectRatio=\"xMidYMid meet\" style=\"font-family: times, serif; font-weight: normal; font-style: normal; font-size: 16px;\" version=\"1.1\" viewBox=\"0,0,16.0,8.0\" width=\"16px\" xmlns=\"http://www.w3.org/2000/svg\" xmlns:ev=\"http://www.w3.org/2001/xml-events\" xmlns:xlink=\"http://www.w3.org/1999/xlink\"><defs /><svg width=\"100%\" x=\"0\" y=\"0px\"><defs /></svg></svg>"
      ],
      "text/latex": [
       "$[\\![\\text{\\textbf{t}}_{5}]\\!]^{}_{e} \\:=\\: {var5}_{e}$"
      ],
      "text/plain": [
       "⟦t5⟧ = var5_e"
      ]
     },
     "metadata": {},
     "output_type": "display_data"
    },
    {
     "data": {
      "image/svg+xml": [
       "<svg baseProfile=\"full\" height=\"8px\" preserveAspectRatio=\"xMidYMid meet\" style=\"font-family: times, serif; font-weight: normal; font-style: normal; font-size: 16px;\" version=\"1.1\" viewBox=\"0,0,16.0,8.0\" width=\"16px\" xmlns=\"http://www.w3.org/2000/svg\" xmlns:ev=\"http://www.w3.org/2001/xml-events\" xmlns:xlink=\"http://www.w3.org/1999/xlink\"><defs /><svg width=\"100%\" x=\"0\" y=\"0px\"><defs /></svg></svg>"
      ],
      "text/latex": [
       "$[\\![\\text{\\textbf{23}}]\\!]^{}\\text{ [vacuous]}$"
      ],
      "text/plain": [
       "⟦23⟧ = None"
      ]
     },
     "metadata": {},
     "output_type": "display_data"
    }
   ],
   "source": [
    "binder = lang.Binder(23)\n",
    "binder2 = lang.Binder(5)\n",
    "t = lang.Trace(23, types.type_e)\n",
    "t2 = lang.Trace(5)\n",
    "display(t, t2, binder)"
   ]
  },
  {
   "cell_type": "code",
   "execution_count": 46,
   "metadata": {
    "execution": {
     "iopub.execute_input": "2024-03-14T17:51:04.473082Z",
     "iopub.status.busy": "2024-03-14T17:51:04.473002Z",
     "iopub.status.idle": "2024-03-14T17:51:04.475088Z",
     "shell.execute_reply": "2024-03-14T17:51:04.474882Z"
    }
   },
   "outputs": [
    {
     "data": {
      "text/markdown": [
       "1 composition path.  Result:<br />\n",
       "&nbsp;&nbsp;&nbsp;&nbsp;[0]: $[\\![\\text{\\textbf{[t23 gray]}}]\\!]^{}_{t} \\:=\\: {Gray}({var23}_{e})$"
      ],
      "text/plain": [
       "1 composition path.  Result:\n",
       "    [0]: ⟦t23⟧ * ⟦gray⟧ leads to: ⟦[t23 gray]⟧ = Gray_<e,t>(var23_e) [by FA]"
      ]
     },
     "metadata": {},
     "output_type": "display_data"
    }
   ],
   "source": [
    "((t * gray))"
   ]
  },
  {
   "cell_type": "code",
   "execution_count": 47,
   "metadata": {
    "execution": {
     "iopub.execute_input": "2024-03-14T17:51:04.476180Z",
     "iopub.status.busy": "2024-03-14T17:51:04.476099Z",
     "iopub.status.idle": "2024-03-14T17:51:04.480453Z",
     "shell.execute_reply": "2024-03-14T17:51:04.480253Z"
    }
   },
   "outputs": [
    {
     "data": {
      "text/markdown": [
       "1 composition path.  Result:<br />\n",
       "&nbsp;&nbsp;&nbsp;&nbsp;[0]: $[\\![\\text{\\textbf{[23 [5 [t23 [inP t5]]]]}}]\\!]^{}_{\\left\\langle{}e,\\left\\langle{}e,t\\right\\rangle{}\\right\\rangle{}} \\:=\\: \\lambda{} x1_{e} \\: . \\: \\lambda{} x_{e} \\: . \\: {In}({x1}, {x})$"
      ],
      "text/plain": [
       "1 composition path.  Result:\n",
       "    [0]: ⟦23⟧ * ⟦[5 [t23 [inP t5]]]⟧ leads to: ⟦[23 [5 [t23 [inP t5]]]]⟧ = (λ x1_e: (λ x_e: In_<(e,e),t>(x1_e, x_e))) [by PA]"
      ]
     },
     "metadata": {},
     "output_type": "display_data"
    },
    {
     "data": {
      "text/markdown": [
       "1 composition path.  Result:<br />\n",
       "&nbsp;&nbsp;&nbsp;&nbsp;[0]: $[\\![\\text{\\textbf{[5 [23 [t23 [inP t5]]]]}}]\\!]^{}_{\\left\\langle{}e,\\left\\langle{}e,t\\right\\rangle{}\\right\\rangle{}} \\:=\\: \\lambda{} x1_{e} \\: . \\: \\lambda{} x_{e} \\: . \\: {In}({x}, {x1})$"
      ],
      "text/plain": [
       "1 composition path.  Result:\n",
       "    [0]: ⟦5⟧ * ⟦[23 [t23 [inP t5]]]⟧ leads to: ⟦[5 [23 [t23 [inP t5]]]]⟧ = (λ x1_e: (λ x_e: In_<(e,e),t>(x_e, x1_e))) [by PA]"
      ]
     },
     "metadata": {},
     "output_type": "display_data"
    }
   ],
   "source": [
    "b1 = (binder * (binder2 * (t * (inP * t2))))\n",
    "b2 = (binder2 * (binder * (t * (inP * t2))))\n",
    "display(b1, b2)"
   ]
  },
  {
   "cell_type": "code",
   "execution_count": 48,
   "metadata": {
    "execution": {
     "iopub.execute_input": "2024-03-14T17:51:04.481483Z",
     "iopub.status.busy": "2024-03-14T17:51:04.481403Z",
     "iopub.status.idle": "2024-03-14T17:51:04.483356Z",
     "shell.execute_reply": "2024-03-14T17:51:04.483164Z"
    }
   },
   "outputs": [
    {
     "data": {
      "text/markdown": [
       "Full composition trace.  1 path:<br />\n",
       "&nbsp;&nbsp;&nbsp;&nbsp;Step 1: $[\\![\\text{\\textbf{23}}]\\!]^{}\\text{ [vacuous]}$<br />\n",
       "&nbsp;&nbsp;&nbsp;&nbsp;Step 2: $[\\![\\text{\\textbf{5}}]\\!]^{}\\text{ [vacuous]}$<br />\n",
       "&nbsp;&nbsp;&nbsp;&nbsp;Step 3: $[\\![\\text{\\textbf{t}}_{23}]\\!]^{}_{e} \\:=\\: {var23}_{e}$<br />\n",
       "&nbsp;&nbsp;&nbsp;&nbsp;Step 4: $[\\![\\text{\\textbf{inP}}]\\!]^{}_{\\left\\langle{}e,\\left\\langle{}e,t\\right\\rangle{}\\right\\rangle{}} \\:=\\: \\lambda{} x_{e} \\: . \\: \\lambda{} y_{e} \\: . \\: {In}({y}, {x})$<br />\n",
       "&nbsp;&nbsp;&nbsp;&nbsp;Step 5: $[\\![\\text{\\textbf{t}}_{5}]\\!]^{}_{e} \\:=\\: {var5}_{e}$<br />\n",
       "&nbsp;&nbsp;&nbsp;&nbsp;Step 6: $[\\![\\text{\\textbf{inP}}]\\!]^{}_{\\left\\langle{}e,\\left\\langle{}e,t\\right\\rangle{}\\right\\rangle{}}$ * $[\\![\\text{\\textbf{t}}_{5}]\\!]^{}_{e}$ leads to: $[\\![\\text{\\textbf{[inP t5]}}]\\!]^{}_{\\left\\langle{}e,t\\right\\rangle{}} \\:=\\: \\lambda{} y_{e} \\: . \\: {In}({y}, {var5}_{e})$ <b>[by FA]</b><br />\n",
       "&nbsp;&nbsp;&nbsp;&nbsp;Step 7: $[\\![\\text{\\textbf{t}}_{23}]\\!]^{}_{e}$ * $[\\![\\text{\\textbf{[inP t5]}}]\\!]^{}_{\\left\\langle{}e,t\\right\\rangle{}}$ leads to: $[\\![\\text{\\textbf{[t23 [inP t5]]}}]\\!]^{}_{t} \\:=\\: {In}({var23}_{e}, {var5}_{e})$ <b>[by FA]</b><br />\n",
       "&nbsp;&nbsp;&nbsp;&nbsp;Step 8: $[\\![\\text{\\textbf{5}}]\\!]^{}$ * $[\\![\\text{\\textbf{[t23 [inP t5]]}}]\\!]^{}_{t}$ leads to: $[\\![\\text{\\textbf{[5 [t23 [inP t5]]]}}]\\!]^{}_{\\left\\langle{}e,t\\right\\rangle{}} \\:=\\: \\lambda{} x_{e} \\: . \\: {In}({var23}_{e}, {x})$ <b>[by PA]</b><br />\n",
       "&nbsp;&nbsp;&nbsp;&nbsp;Step 9: $[\\![\\text{\\textbf{23}}]\\!]^{}$ * $[\\![\\text{\\textbf{[5 [t23 [inP t5]]]}}]\\!]^{}_{\\left\\langle{}e,t\\right\\rangle{}}$ leads to: $[\\![\\text{\\textbf{[23 [5 [t23 [inP t5]]]]}}]\\!]^{}_{\\left\\langle{}e,\\left\\langle{}e,t\\right\\rangle{}\\right\\rangle{}} \\:=\\: \\lambda{} x1_{e} \\: . \\: \\lambda{} x_{e} \\: . \\: {In}({x1}, {x})$ <b>[by PA]</b><br />\n"
      ],
      "text/plain": [
       "Full composition trace.  1 path:<br />\n",
       "&nbsp;&nbsp;&nbsp;&nbsp;Step 1: $[\\![\\text{\\textbf{23}}]\\!]^{}\\text{ [vacuous]}$<br />\n",
       "&nbsp;&nbsp;&nbsp;&nbsp;Step 2: $[\\![\\text{\\textbf{5}}]\\!]^{}\\text{ [vacuous]}$<br />\n",
       "&nbsp;&nbsp;&nbsp;&nbsp;Step 3: $[\\![\\text{\\textbf{t}}_{23}]\\!]^{}_{e} \\:=\\: {var23}_{e}$<br />\n",
       "&nbsp;&nbsp;&nbsp;&nbsp;Step 4: $[\\![\\text{\\textbf{inP}}]\\!]^{}_{\\left\\langle{}e,\\left\\langle{}e,t\\right\\rangle{}\\right\\rangle{}} \\:=\\: \\lambda{} x_{e} \\: . \\: \\lambda{} y_{e} \\: . \\: {In}({y}, {x})$<br />\n",
       "&nbsp;&nbsp;&nbsp;&nbsp;Step 5: $[\\![\\text{\\textbf{t}}_{5}]\\!]^{}_{e} \\:=\\: {var5}_{e}$<br />\n",
       "&nbsp;&nbsp;&nbsp;&nbsp;Step 6: $[\\![\\text{\\textbf{inP}}]\\!]^{}_{\\left\\langle{}e,\\left\\langle{}e,t\\right\\rangle{}\\right\\rangle{}}$ * $[\\![\\text{\\textbf{t}}_{5}]\\!]^{}_{e}$ leads to: $[\\![\\text{\\textbf{[inP t5]}}]\\!]^{}_{\\left\\langle{}e,t\\right\\rangle{}} \\:=\\: \\lambda{} y_{e} \\: . \\: {In}({y}, {var5}_{e})$ <b>[by FA]</b><br />\n",
       "&nbsp;&nbsp;&nbsp;&nbsp;Step 7: $[\\![\\text{\\textbf{t}}_{23}]\\!]^{}_{e}$ * $[\\![\\text{\\textbf{[inP t5]}}]\\!]^{}_{\\left\\langle{}e,t\\right\\rangle{}}$ leads to: $[\\![\\text{\\textbf{[t23 [inP t5]]}}]\\!]^{}_{t} \\:=\\: {In}({var23}_{e}, {var5}_{e})$ <b>[by FA]</b><br />\n",
       "&nbsp;&nbsp;&nbsp;&nbsp;Step 8: $[\\![\\text{\\textbf{5}}]\\!]^{}$ * $[\\![\\text{\\textbf{[t23 [inP t5]]}}]\\!]^{}_{t}$ leads to: $[\\![\\text{\\textbf{[5 [t23 [inP t5]]]}}]\\!]^{}_{\\left\\langle{}e,t\\right\\rangle{}} \\:=\\: \\lambda{} x_{e} \\: . \\: {In}({var23}_{e}, {x})$ <b>[by PA]</b><br />\n",
       "&nbsp;&nbsp;&nbsp;&nbsp;Step 9: $[\\![\\text{\\textbf{23}}]\\!]^{}$ * $[\\![\\text{\\textbf{[5 [t23 [inP t5]]]}}]\\!]^{}_{\\left\\langle{}e,t\\right\\rangle{}}$ leads to: $[\\![\\text{\\textbf{[23 [5 [t23 [inP t5]]]]}}]\\!]^{}_{\\left\\langle{}e,\\left\\langle{}e,t\\right\\rangle{}\\right\\rangle{}} \\:=\\: \\lambda{} x1_{e} \\: . \\: \\lambda{} x_{e} \\: . \\: {In}({x1}, {x})$ <b>[by PA]</b><br />"
      ]
     },
     "execution_count": 48,
     "metadata": {},
     "output_type": "execute_result"
    }
   ],
   "source": [
    "b1.trace()"
   ]
  },
  {
   "cell_type": "code",
   "execution_count": 49,
   "metadata": {
    "execution": {
     "iopub.execute_input": "2024-03-14T17:51:04.484396Z",
     "iopub.status.busy": "2024-03-14T17:51:04.484323Z",
     "iopub.status.idle": "2024-03-14T17:51:04.486694Z",
     "shell.execute_reply": "2024-03-14T17:51:04.486504Z"
    }
   },
   "outputs": [
    {
     "data": {
      "text/html": [
       "<div align=\"center\" style=\"display:table; margin:5px; border-collapse: collapse;border: 1px solid #848482;\"><div align=\"center\" style=\"display:table-row;border-bottom:1px solid #848482\"><div style=\"display:table-cell;vertical-align:middle;\"><div style=\"display: table;\"><div style=\"display:table-cell;vertical-align:middle;padding-left:5px;padding-right:5px;padding-top:5px;padding-bottom:5px;\"><div align=\"center\" style=\"display:block;padding-left:5px;padding-right:5px;padding-top:5px;padding-bottom:5px;\"><div style=\"display:table;table-layout:auto;\" align=\"center\"><div style=\"display:table-row;\"><div style=\"display:table-cell;padding-right:2px; padding-left:2px;\" align=\"center\"><div style=\"display:inline-block;\"><span>$[\\![\\text{\\textbf{23}}]\\!]^{}$</span></div></div></div><div style=\"display:table-row;\"><div style=\"display:table-cell;padding-right:2px; padding-left:2px;\" align=\"center\"><div style=\"display:inline-block;\"><span>[idx: 23]</span></div></div></div></div></div></div><div style=\"align: center; vertical-align: middle; display: table-cell;\"><span style=\"padding:1em;\">*</span></div><div style=\"display:table-cell;vertical-align:middle;padding-left:5px;padding-right:5px;padding-top:5px;padding-bottom:5px;\"><div align=\"center\" style=\"display:table; margin:5px; border-collapse: collapse;border: 1px solid #848482;\"><div align=\"center\" style=\"display:table-row;border-bottom:1px solid #848482\"><div style=\"display:table-cell;vertical-align:middle;\"><div style=\"display: table;\"><div style=\"display:table-cell;vertical-align:middle;padding-left:5px;padding-right:5px;padding-top:5px;padding-bottom:5px;\"><div align=\"center\" style=\"display:block;padding-left:5px;padding-right:5px;padding-top:5px;padding-bottom:5px;\"><div style=\"display:table;table-layout:auto;\" align=\"center\"><div style=\"display:table-row;\"><div style=\"display:table-cell;padding-right:2px; padding-left:2px;\" align=\"center\"><div style=\"display:inline-block;\"><span>$[\\![\\text{\\textbf{5}}]\\!]^{}$</span></div></div></div><div style=\"display:table-row;\"><div style=\"display:table-cell;padding-right:2px; padding-left:2px;\" align=\"center\"><div style=\"display:inline-block;\"><span>[idx: 5]</span></div></div></div></div></div></div><div style=\"align: center; vertical-align: middle; display: table-cell;\"><span style=\"padding:1em;\">*</span></div><div style=\"display:table-cell;vertical-align:middle;padding-left:5px;padding-right:5px;padding-top:5px;padding-bottom:5px;\"><div align=\"center\" style=\"display:table; margin:5px; border-collapse: collapse;border: 1px solid #848482;\"><div align=\"center\" style=\"display:table-row;border-bottom:1px solid #848482\"><div style=\"display:table-cell;vertical-align:middle;\"><div style=\"display: table;\"><div style=\"display:table-cell;vertical-align:middle;padding-left:5px;padding-right:5px;padding-top:5px;padding-bottom:5px;\"><div align=\"center\" style=\"display:block;padding-left:5px;padding-right:5px;padding-top:5px;padding-bottom:5px;\"><div style=\"display:table;table-layout:auto;\" align=\"center\"><div style=\"display:table-row;\"><div style=\"display:table-cell;padding-right:2px; padding-left:2px;\" align=\"center\"><div style=\"display:inline-block;\"><span>$[\\![\\text{\\textbf{t}}_{23}]\\!]^{}_{e}$</span></div></div></div><div style=\"display:table-row;\"><div style=\"display:table-cell;padding-right:2px; padding-left:2px;\" align=\"center\"><div style=\"display:inline-block;\"><span>${var23}_{e}$</span></div></div></div></div></div></div><div style=\"align: center; vertical-align: middle; display: table-cell;\"><span style=\"padding:1em;\">*</span></div><div style=\"display:table-cell;vertical-align:middle;padding-left:5px;padding-right:5px;padding-top:5px;padding-bottom:5px;\"><div align=\"center\" style=\"display:table; margin:5px; border-collapse: collapse;border: 1px solid #848482;\"><div align=\"center\" style=\"display:table-row;border-bottom:1px solid #848482\"><div style=\"display:table-cell;vertical-align:middle;\"><div style=\"display: table;\"><div style=\"display:table-cell;vertical-align:middle;padding-left:5px;padding-right:5px;padding-top:5px;padding-bottom:5px;\"><div align=\"center\" style=\"display:block;padding-left:5px;padding-right:5px;padding-top:5px;padding-bottom:5px;\"><div style=\"display:table;table-layout:auto;\" align=\"center\"><div style=\"display:table-row;\"><div style=\"display:table-cell;padding-right:2px; padding-left:2px;\" align=\"center\"><div style=\"display:inline-block;\"><span>$[\\![\\text{\\textbf{inP}}]\\!]^{}_{\\left\\langle{}e,\\left\\langle{}e,t\\right\\rangle{}\\right\\rangle{}}$</span></div></div></div><div style=\"display:table-row;\"><div style=\"display:table-cell;padding-right:2px; padding-left:2px;\" align=\"center\"><div style=\"display:inline-block;\"><span>$\\lambda{} x_{e} \\: . \\: \\lambda{} y_{e} \\: . \\: {In}({y}, {x})$</span></div></div></div></div></div></div><div style=\"align: center; vertical-align: middle; display: table-cell;\"><span style=\"padding:1em;\">*</span></div><div style=\"display:table-cell;vertical-align:middle;padding-left:5px;padding-right:5px;padding-top:5px;padding-bottom:5px;\"><div align=\"center\" style=\"display:block;padding-left:5px;padding-right:5px;padding-top:5px;padding-bottom:5px;\"><div style=\"display:table;table-layout:auto;\" align=\"center\"><div style=\"display:table-row;\"><div style=\"display:table-cell;padding-right:2px; padding-left:2px;\" align=\"center\"><div style=\"display:inline-block;\"><span>$[\\![\\text{\\textbf{t}}_{5}]\\!]^{}_{e}$</span></div></div></div><div style=\"display:table-row;\"><div style=\"display:table-cell;padding-right:2px; padding-left:2px;\" align=\"center\"><div style=\"display:inline-block;\"><span>${var5}_{e}$</span></div></div></div></div></div></div></div></div><div style=\"display:table-cell;vertical-align:middle;border-left:1px solid #848482;padding:0.5em\"><div style=\"white-space:nowrap; color:blue;\"><b>[<span>FA</span>]</b></div></div></div><div align=\"center\" style=\"display:table-row;padding-left:5px;padding-right:5px;padding-top:5px;padding-bottom:5px;\"><div align=\"center\" style=\"display:table-cell;\"><div align=\"center\" style=\"display:block;padding-left:5px;padding-right:5px;padding-top:5px;padding-bottom:5px;\"><div style=\"display:table;table-layout:auto;\" align=\"center\"><div style=\"display:table-row;\"><div style=\"display:table-cell;padding-right:2px; padding-left:2px;\" align=\"center\"><div style=\"display:inline-block;\"><span>$[\\![\\text{\\textbf{[inP t5]}}]\\!]^{}_{\\left\\langle{}e,t\\right\\rangle{}}$</span></div></div></div><div style=\"display:table-row;\"><div style=\"display:table-cell;padding-right:2px; padding-left:2px;\" align=\"center\"><div style=\"display:inline-block;\"><span>$\\lambda{} y_{e} \\: . \\: {In}({y}, {var5}_{e})$</span></div></div></div></div></div></div><div style=\"display:table-cell;\"></div></div></div></div></div></div><div style=\"display:table-cell;vertical-align:middle;border-left:1px solid #848482;padding:0.5em\"><div style=\"white-space:nowrap; color:blue;\"><b>[<span>FA</span>]</b></div></div></div><div align=\"center\" style=\"display:table-row;padding-left:5px;padding-right:5px;padding-top:5px;padding-bottom:5px;\"><div align=\"center\" style=\"display:table-cell;\"><div align=\"center\" style=\"display:block;padding-left:5px;padding-right:5px;padding-top:5px;padding-bottom:5px;\"><div style=\"display:table;table-layout:auto;\" align=\"center\"><div style=\"display:table-row;\"><div style=\"display:table-cell;padding-right:2px; padding-left:2px;\" align=\"center\"><div style=\"display:inline-block;\"><span>$[\\![\\text{\\textbf{[t23 [inP t5]]}}]\\!]^{}_{t}$</span></div></div></div><div style=\"display:table-row;\"><div style=\"display:table-cell;padding-right:2px; padding-left:2px;\" align=\"center\"><div style=\"display:inline-block;\"><span>${In}({var23}_{e}, {var5}_{e})$</span></div></div></div></div></div></div><div style=\"display:table-cell;\"></div></div></div></div></div></div><div style=\"display:table-cell;vertical-align:middle;border-left:1px solid #848482;padding:0.5em\"><div style=\"white-space:nowrap; color:blue;\"><b>[<span>PA</span>]</b></div></div></div><div align=\"center\" style=\"display:table-row;padding-left:5px;padding-right:5px;padding-top:5px;padding-bottom:5px;\"><div align=\"center\" style=\"display:table-cell;\"><div align=\"center\" style=\"display:block;padding-left:5px;padding-right:5px;padding-top:5px;padding-bottom:5px;\"><div style=\"display:table;table-layout:auto;\" align=\"center\"><div style=\"display:table-row;\"><div style=\"display:table-cell;padding-right:2px; padding-left:2px;\" align=\"center\"><div style=\"display:inline-block;\"><span>$[\\![\\text{\\textbf{[5 [t23 [inP t5]]]}}]\\!]^{}_{\\left\\langle{}e,t\\right\\rangle{}}$</span></div></div></div><div style=\"display:table-row;\"><div style=\"display:table-cell;padding-right:2px; padding-left:2px;\" align=\"center\"><div style=\"display:inline-block;\"><span>$\\lambda{} x_{e} \\: . \\: {In}({var23}_{e}, {x})$</span></div></div></div></div></div></div><div style=\"display:table-cell;\"></div></div></div></div></div></div><div style=\"display:table-cell;vertical-align:middle;border-left:1px solid #848482;padding:0.5em\"><div style=\"white-space:nowrap; color:blue;\"><b>[<span>PA</span>]</b></div></div></div><div align=\"center\" style=\"display:table-row;padding-left:5px;padding-right:5px;padding-top:5px;padding-bottom:5px;\"><div align=\"center\" style=\"display:table-cell;\"><div align=\"center\" style=\"display:block;padding-left:5px;padding-right:5px;padding-top:5px;padding-bottom:5px;\"><div style=\"display:table;table-layout:auto;\" align=\"center\"><div style=\"display:table-row;\"><div style=\"display:table-cell;padding-right:2px; padding-left:2px;\" align=\"center\"><div style=\"display:inline-block;\"><span>$[\\![\\text{\\textbf{[23 [5 [t23 [inP t5]]]]}}]\\!]^{}_{\\left\\langle{}e,\\left\\langle{}e,t\\right\\rangle{}\\right\\rangle{}}$</span></div></div></div><div style=\"display:table-row;\"><div style=\"display:table-cell;padding-right:2px; padding-left:2px;\" align=\"center\"><div style=\"display:inline-block;\"><span>$\\lambda{} x1_{e} \\: . \\: \\lambda{} x_{e} \\: . \\: {In}({x1}, {x})$</span></div></div></div></div></div></div><div style=\"display:table-cell;\"></div></div></div>"
      ],
      "text/plain": [
       "<div align=\"center\" style=\"display:table; margin:5px; border-collapse: collapse;border: 1px solid #848482;\"><div align=\"center\" style=\"display:table-row;border-bottom:1px solid #848482\"><div style=\"display:table-cell;vertical-align:middle;\"><div style=\"display: table;\"><div style=\"display:table-cell;vertical-align:middle;padding-left:5px;padding-right:5px;padding-top:5px;padding-bottom:5px;\"><div align=\"center\" style=\"display:block;padding-left:5px;padding-right:5px;padding-top:5px;padding-bottom:5px;\"><div style=\"display:table;table-layout:auto;\" align=\"center\"><div style=\"display:table-row;\"><div style=\"display:table-cell;padding-right:2px; padding-left:2px;\" align=\"center\"><div style=\"display:inline-block;\"><span>$[\\![\\text{\\textbf{23}}]\\!]^{}$</span></div></div></div><div style=\"display:table-row;\"><div style=\"display:table-cell;padding-right:2px; padding-left:2px;\" align=\"center\"><div style=\"display:inline-block;\"><span>[idx: 23]</span></div></div></div></div></div></div><div style=\"align: center; vertical-align: middle; display: table-cell;\"><span style=\"padding:1em;\">*</span></div><div style=\"display:table-cell;vertical-align:middle;padding-left:5px;padding-right:5px;padding-top:5px;padding-bottom:5px;\"><div align=\"center\" style=\"display:table; margin:5px; border-collapse: collapse;border: 1px solid #848482;\"><div align=\"center\" style=\"display:table-row;border-bottom:1px solid #848482\"><div style=\"display:table-cell;vertical-align:middle;\"><div style=\"display: table;\"><div style=\"display:table-cell;vertical-align:middle;padding-left:5px;padding-right:5px;padding-top:5px;padding-bottom:5px;\"><div align=\"center\" style=\"display:block;padding-left:5px;padding-right:5px;padding-top:5px;padding-bottom:5px;\"><div style=\"display:table;table-layout:auto;\" align=\"center\"><div style=\"display:table-row;\"><div style=\"display:table-cell;padding-right:2px; padding-left:2px;\" align=\"center\"><div style=\"display:inline-block;\"><span>$[\\![\\text{\\textbf{5}}]\\!]^{}$</span></div></div></div><div style=\"display:table-row;\"><div style=\"display:table-cell;padding-right:2px; padding-left:2px;\" align=\"center\"><div style=\"display:inline-block;\"><span>[idx: 5]</span></div></div></div></div></div></div><div style=\"align: center; vertical-align: middle; display: table-cell;\"><span style=\"padding:1em;\">*</span></div><div style=\"display:table-cell;vertical-align:middle;padding-left:5px;padding-right:5px;padding-top:5px;padding-bottom:5px;\"><div align=\"center\" style=\"display:table; margin:5px; border-collapse: collapse;border: 1px solid #848482;\"><div align=\"center\" style=\"display:table-row;border-bottom:1px solid #848482\"><div style=\"display:table-cell;vertical-align:middle;\"><div style=\"display: table;\"><div style=\"display:table-cell;vertical-align:middle;padding-left:5px;padding-right:5px;padding-top:5px;padding-bottom:5px;\"><div align=\"center\" style=\"display:block;padding-left:5px;padding-right:5px;padding-top:5px;padding-bottom:5px;\"><div style=\"display:table;table-layout:auto;\" align=\"center\"><div style=\"display:table-row;\"><div style=\"display:table-cell;padding-right:2px; padding-left:2px;\" align=\"center\"><div style=\"display:inline-block;\"><span>$[\\![\\text{\\textbf{t}}_{23}]\\!]^{}_{e}$</span></div></div></div><div style=\"display:table-row;\"><div style=\"display:table-cell;padding-right:2px; padding-left:2px;\" align=\"center\"><div style=\"display:inline-block;\"><span>${var23}_{e}$</span></div></div></div></div></div></div><div style=\"align: center; vertical-align: middle; display: table-cell;\"><span style=\"padding:1em;\">*</span></div><div style=\"display:table-cell;vertical-align:middle;padding-left:5px;padding-right:5px;padding-top:5px;padding-bottom:5px;\"><div align=\"center\" style=\"display:table; margin:5px; border-collapse: collapse;border: 1px solid #848482;\"><div align=\"center\" style=\"display:table-row;border-bottom:1px solid #848482\"><div style=\"display:table-cell;vertical-align:middle;\"><div style=\"display: table;\"><div style=\"display:table-cell;vertical-align:middle;padding-left:5px;padding-right:5px;padding-top:5px;padding-bottom:5px;\"><div align=\"center\" style=\"display:block;padding-left:5px;padding-right:5px;padding-top:5px;padding-bottom:5px;\"><div style=\"display:table;table-layout:auto;\" align=\"center\"><div style=\"display:table-row;\"><div style=\"display:table-cell;padding-right:2px; padding-left:2px;\" align=\"center\"><div style=\"display:inline-block;\"><span>$[\\![\\text{\\textbf{inP}}]\\!]^{}_{\\left\\langle{}e,\\left\\langle{}e,t\\right\\rangle{}\\right\\rangle{}}$</span></div></div></div><div style=\"display:table-row;\"><div style=\"display:table-cell;padding-right:2px; padding-left:2px;\" align=\"center\"><div style=\"display:inline-block;\"><span>$\\lambda{} x_{e} \\: . \\: \\lambda{} y_{e} \\: . \\: {In}({y}, {x})$</span></div></div></div></div></div></div><div style=\"align: center; vertical-align: middle; display: table-cell;\"><span style=\"padding:1em;\">*</span></div><div style=\"display:table-cell;vertical-align:middle;padding-left:5px;padding-right:5px;padding-top:5px;padding-bottom:5px;\"><div align=\"center\" style=\"display:block;padding-left:5px;padding-right:5px;padding-top:5px;padding-bottom:5px;\"><div style=\"display:table;table-layout:auto;\" align=\"center\"><div style=\"display:table-row;\"><div style=\"display:table-cell;padding-right:2px; padding-left:2px;\" align=\"center\"><div style=\"display:inline-block;\"><span>$[\\![\\text{\\textbf{t}}_{5}]\\!]^{}_{e}$</span></div></div></div><div style=\"display:table-row;\"><div style=\"display:table-cell;padding-right:2px; padding-left:2px;\" align=\"center\"><div style=\"display:inline-block;\"><span>${var5}_{e}$</span></div></div></div></div></div></div></div></div><div style=\"display:table-cell;vertical-align:middle;border-left:1px solid #848482;padding:0.5em\"><div style=\"white-space:nowrap; color:blue;\"><b>[<span>FA</span>]</b></div></div></div><div align=\"center\" style=\"display:table-row;padding-left:5px;padding-right:5px;padding-top:5px;padding-bottom:5px;\"><div align=\"center\" style=\"display:table-cell;\"><div align=\"center\" style=\"display:block;padding-left:5px;padding-right:5px;padding-top:5px;padding-bottom:5px;\"><div style=\"display:table;table-layout:auto;\" align=\"center\"><div style=\"display:table-row;\"><div style=\"display:table-cell;padding-right:2px; padding-left:2px;\" align=\"center\"><div style=\"display:inline-block;\"><span>$[\\![\\text{\\textbf{[inP t5]}}]\\!]^{}_{\\left\\langle{}e,t\\right\\rangle{}}$</span></div></div></div><div style=\"display:table-row;\"><div style=\"display:table-cell;padding-right:2px; padding-left:2px;\" align=\"center\"><div style=\"display:inline-block;\"><span>$\\lambda{} y_{e} \\: . \\: {In}({y}, {var5}_{e})$</span></div></div></div></div></div></div><div style=\"display:table-cell;\"></div></div></div></div></div></div><div style=\"display:table-cell;vertical-align:middle;border-left:1px solid #848482;padding:0.5em\"><div style=\"white-space:nowrap; color:blue;\"><b>[<span>FA</span>]</b></div></div></div><div align=\"center\" style=\"display:table-row;padding-left:5px;padding-right:5px;padding-top:5px;padding-bottom:5px;\"><div align=\"center\" style=\"display:table-cell;\"><div align=\"center\" style=\"display:block;padding-left:5px;padding-right:5px;padding-top:5px;padding-bottom:5px;\"><div style=\"display:table;table-layout:auto;\" align=\"center\"><div style=\"display:table-row;\"><div style=\"display:table-cell;padding-right:2px; padding-left:2px;\" align=\"center\"><div style=\"display:inline-block;\"><span>$[\\![\\text{\\textbf{[t23 [inP t5]]}}]\\!]^{}_{t}$</span></div></div></div><div style=\"display:table-row;\"><div style=\"display:table-cell;padding-right:2px; padding-left:2px;\" align=\"center\"><div style=\"display:inline-block;\"><span>${In}({var23}_{e}, {var5}_{e})$</span></div></div></div></div></div></div><div style=\"display:table-cell;\"></div></div></div></div></div></div><div style=\"display:table-cell;vertical-align:middle;border-left:1px solid #848482;padding:0.5em\"><div style=\"white-space:nowrap; color:blue;\"><b>[<span>PA</span>]</b></div></div></div><div align=\"center\" style=\"display:table-row;padding-left:5px;padding-right:5px;padding-top:5px;padding-bottom:5px;\"><div align=\"center\" style=\"display:table-cell;\"><div align=\"center\" style=\"display:block;padding-left:5px;padding-right:5px;padding-top:5px;padding-bottom:5px;\"><div style=\"display:table;table-layout:auto;\" align=\"center\"><div style=\"display:table-row;\"><div style=\"display:table-cell;padding-right:2px; padding-left:2px;\" align=\"center\"><div style=\"display:inline-block;\"><span>$[\\![\\text{\\textbf{[5 [t23 [inP t5]]]}}]\\!]^{}_{\\left\\langle{}e,t\\right\\rangle{}}$</span></div></div></div><div style=\"display:table-row;\"><div style=\"display:table-cell;padding-right:2px; padding-left:2px;\" align=\"center\"><div style=\"display:inline-block;\"><span>$\\lambda{} x_{e} \\: . \\: {In}({var23}_{e}, {x})$</span></div></div></div></div></div></div><div style=\"display:table-cell;\"></div></div></div></div></div></div><div style=\"display:table-cell;vertical-align:middle;border-left:1px solid #848482;padding:0.5em\"><div style=\"white-space:nowrap; color:blue;\"><b>[<span>PA</span>]</b></div></div></div><div align=\"center\" style=\"display:table-row;padding-left:5px;padding-right:5px;padding-top:5px;padding-bottom:5px;\"><div align=\"center\" style=\"display:table-cell;\"><div align=\"center\" style=\"display:block;padding-left:5px;padding-right:5px;padding-top:5px;padding-bottom:5px;\"><div style=\"display:table;table-layout:auto;\" align=\"center\"><div style=\"display:table-row;\"><div style=\"display:table-cell;padding-right:2px; padding-left:2px;\" align=\"center\"><div style=\"display:inline-block;\"><span>$[\\![\\text{\\textbf{[23 [5 [t23 [inP t5]]]]}}]\\!]^{}_{\\left\\langle{}e,\\left\\langle{}e,t\\right\\rangle{}\\right\\rangle{}}$</span></div></div></div><div style=\"display:table-row;\"><div style=\"display:table-cell;padding-right:2px; padding-left:2px;\" align=\"center\"><div style=\"display:inline-block;\"><span>$\\lambda{} x1_{e} \\: . \\: \\lambda{} x_{e} \\: . \\: {In}({x1}, {x})$</span></div></div></div></div></div></div><div style=\"display:table-cell;\"></div></div></div>"
      ]
     },
     "execution_count": 49,
     "metadata": {},
     "output_type": "execute_result"
    }
   ],
   "source": [
    "b1.results[0].tree()"
   ]
  },
  {
   "cell_type": "markdown",
   "metadata": {},
   "source": [
    "### Composition in tree structures\n",
    "\n",
    "Some in-progress work: implementing tree-based computation, and top-down/deferred computation\n",
    "\n",
    "* using nltk Tree objects.\n",
    "* system for deferred / uncertain types -- basic inference over unknown types\n",
    "* arbitrary order of composition expansion.  (Of course, some orders will be far less efficient!)"
   ]
  },
  {
   "cell_type": "code",
   "execution_count": 50,
   "metadata": {
    "execution": {
     "iopub.execute_input": "2024-03-14T17:51:04.487834Z",
     "iopub.status.busy": "2024-03-14T17:51:04.487760Z",
     "iopub.status.idle": "2024-03-14T17:51:04.489262Z",
     "shell.execute_reply": "2024-03-14T17:51:04.489073Z"
    }
   },
   "outputs": [],
   "source": [
    "lang.set_system(lang.hk3_system)"
   ]
  },
  {
   "cell_type": "code",
   "execution_count": 51,
   "metadata": {
    "execution": {
     "iopub.execute_input": "2024-03-14T17:51:04.490291Z",
     "iopub.status.busy": "2024-03-14T17:51:04.490208Z",
     "iopub.status.idle": "2024-03-14T17:51:04.492696Z",
     "shell.execute_reply": "2024-03-14T17:51:04.492497Z"
    }
   },
   "outputs": [
    {
     "data": {
      "text/markdown": [
       "$[\\![\\text{\\textbf{gray}}]\\!]^{}_{\\left\\langle{}e,t\\right\\rangle{}} \\:=\\: \\lambda{} x_{e} \\: . \\: {Gray}({x})$<br />\n",
       "$[\\![\\text{\\textbf{cat}}]\\!]^{}_{\\left\\langle{}e,t\\right\\rangle{}} \\:=\\: \\lambda{} x_{e} \\: . \\: {Cat}({x})$"
      ],
      "text/plain": [
       "⟦gray⟧ = (λ x_e: Gray_<e,t>(x_e))\n",
       "⟦cat⟧ = (λ x_e: Cat_<e,t>(x_e))"
      ]
     },
     "metadata": {},
     "output_type": "display_data"
    }
   ],
   "source": [
    "%%lamb\n",
    "||gray|| = L x_e : Gray_<e,t>(x)\n",
    "||cat|| = L x_e : Cat_<e,t>(x)"
   ]
  },
  {
   "cell_type": "code",
   "execution_count": 52,
   "metadata": {
    "execution": {
     "iopub.execute_input": "2024-03-14T17:51:04.493752Z",
     "iopub.status.busy": "2024-03-14T17:51:04.493675Z",
     "iopub.status.idle": "2024-03-14T17:51:04.496016Z",
     "shell.execute_reply": "2024-03-14T17:51:04.495808Z"
    }
   },
   "outputs": [
    {
     "data": {
      "image/svg+xml": [
       "<svg baseProfile=\"full\" height=\"72px\" preserveAspectRatio=\"xMidYMid meet\" style=\"font-family: times, serif; font-weight: normal; font-style: normal; font-size: 16px;\" version=\"1.1\" viewBox=\"0,0,64.0,72.0\" width=\"64px\" xmlns=\"http://www.w3.org/2000/svg\" xmlns:ev=\"http://www.w3.org/2001/xml-events\" xmlns:xlink=\"http://www.w3.org/1999/xlink\"><defs /><svg width=\"100%\" x=\"0\" y=\"0px\"><defs /><text text-anchor=\"middle\" x=\"50%\" y=\"16px\">S</text></svg><svg width=\"50%\" x=\"0%\" y=\"48px\"><defs /><svg width=\"100%\" x=\"0\" y=\"0px\"><defs /><text text-anchor=\"middle\" x=\"50%\" y=\"16px\">NP</text></svg></svg><line stroke=\"black\" x1=\"50%\" x2=\"25%\" y1=\"19.2px\" y2=\"48px\" /><svg width=\"50%\" x=\"50%\" y=\"48px\"><defs /><svg width=\"100%\" x=\"0\" y=\"0px\"><defs /><text text-anchor=\"middle\" x=\"50%\" y=\"16px\">VP</text></svg></svg><line stroke=\"black\" x1=\"50%\" x2=\"75%\" y1=\"19.2px\" y2=\"48px\" /></svg>"
      ],
      "text/plain": [
       "Tree('S', ['NP', 'VP'])"
      ]
     },
     "execution_count": 52,
     "metadata": {},
     "output_type": "execute_result"
    }
   ],
   "source": [
    "t2 = Tree(\"S\", [\"NP\", \"VP\"])\n",
    "t2"
   ]
  },
  {
   "cell_type": "code",
   "execution_count": 53,
   "metadata": {
    "execution": {
     "iopub.execute_input": "2024-03-14T17:51:04.497075Z",
     "iopub.status.busy": "2024-03-14T17:51:04.496983Z",
     "iopub.status.idle": "2024-03-14T17:51:04.501544Z",
     "shell.execute_reply": "2024-03-14T17:51:04.501331Z"
    }
   },
   "outputs": [
    {
     "data": {
      "text/html": [
       "3 composition paths:<br />\n",
       "Path [0]:<br />\n",
       "<div align=\"center\" style=\"display:table; margin:5px; border-collapse: collapse;border: 1px solid #848482;\"><div align=\"center\" style=\"display:table-row;border-bottom:1px solid #848482\"><div style=\"display:table-cell;vertical-align:middle;\"><div style=\"display: table;\"><div style=\"display:table-cell;vertical-align:middle;padding-left:5px;padding-right:5px;padding-top:5px;padding-bottom:5px;\"><div align=\"center\" style=\"display:block;padding-left:5px;padding-right:5px;padding-top:5px;padding-bottom:5px;\"><div style=\"display:inline-block;\"><span>$[\\![\\text{\\textbf{NP}}]\\!]^{}_{?_{13}}$</span></div></div></div><div style=\"align: center; vertical-align: middle; display: table-cell;\"><span style=\"padding:1em;\">*</span></div><div style=\"display:table-cell;vertical-align:middle;padding-left:5px;padding-right:5px;padding-top:5px;padding-bottom:5px;\"><div align=\"center\" style=\"display:block;padding-left:5px;padding-right:5px;padding-top:5px;padding-bottom:5px;\"><div style=\"display:inline-block;\"><span>$[\\![\\text{\\textbf{VP}}]\\!]^{}_{?_{14}}$</span></div></div></div></div></div><div style=\"display:table-cell;vertical-align:middle;border-left:1px solid #848482;padding:0.5em\"><div style=\"white-space:nowrap; color:blue;\"><b>[<span>FA/left</span>]</b></div></div></div><div align=\"center\" style=\"display:table-row;padding-left:5px;padding-right:5px;padding-top:5px;padding-bottom:5px;\"><div align=\"center\" style=\"display:table-cell;\"><div align=\"center\" style=\"display:block;padding-left:5px;padding-right:5px;padding-top:5px;padding-bottom:5px;\"><div style=\"display:table;table-layout:auto;\" align=\"center\"><div style=\"display:table-row;\"><div style=\"display:table-cell;padding-right:2px; padding-left:2px;\" align=\"center\"><div style=\"display:inline-block;\"><span>$[\\![\\text{\\textbf{S}}]\\!]^{}_{X'}$</span></div></div></div><div style=\"display:table-row;\"><div style=\"display:table-cell;padding-right:2px; padding-left:2px;\" align=\"center\"><div style=\"display:inline-block;\"><span>$[\\![\\text{\\textbf{NP}}]\\!]^{}_{\\left\\langle{}X,X'\\right\\rangle{}}([\\![\\text{\\textbf{VP}}]\\!]^{}_{X})$</span></div></div></div></div></div></div><div style=\"display:table-cell;\"></div></div></div><br /><br />Path [1]:<br />\n",
       "<div align=\"center\" style=\"display:table; margin:5px; border-collapse: collapse;border: 1px solid #848482;\"><div align=\"center\" style=\"display:table-row;border-bottom:1px solid #848482\"><div style=\"display:table-cell;vertical-align:middle;\"><div style=\"display: table;\"><div style=\"display:table-cell;vertical-align:middle;padding-left:5px;padding-right:5px;padding-top:5px;padding-bottom:5px;\"><div align=\"center\" style=\"display:block;padding-left:5px;padding-right:5px;padding-top:5px;padding-bottom:5px;\"><div style=\"display:inline-block;\"><span>$[\\![\\text{\\textbf{NP}}]\\!]^{}_{?_{13}}$</span></div></div></div><div style=\"align: center; vertical-align: middle; display: table-cell;\"><span style=\"padding:1em;\">*</span></div><div style=\"display:table-cell;vertical-align:middle;padding-left:5px;padding-right:5px;padding-top:5px;padding-bottom:5px;\"><div align=\"center\" style=\"display:block;padding-left:5px;padding-right:5px;padding-top:5px;padding-bottom:5px;\"><div style=\"display:inline-block;\"><span>$[\\![\\text{\\textbf{VP}}]\\!]^{}_{?_{14}}$</span></div></div></div></div></div><div style=\"display:table-cell;vertical-align:middle;border-left:1px solid #848482;padding:0.5em\"><div style=\"white-space:nowrap; color:blue;\"><b>[<span>FA/right</span>]</b></div></div></div><div align=\"center\" style=\"display:table-row;padding-left:5px;padding-right:5px;padding-top:5px;padding-bottom:5px;\"><div align=\"center\" style=\"display:table-cell;\"><div align=\"center\" style=\"display:block;padding-left:5px;padding-right:5px;padding-top:5px;padding-bottom:5px;\"><div style=\"display:table;table-layout:auto;\" align=\"center\"><div style=\"display:table-row;\"><div style=\"display:table-cell;padding-right:2px; padding-left:2px;\" align=\"center\"><div style=\"display:inline-block;\"><span>$[\\![\\text{\\textbf{S}}]\\!]^{}_{X'}$</span></div></div></div><div style=\"display:table-row;\"><div style=\"display:table-cell;padding-right:2px; padding-left:2px;\" align=\"center\"><div style=\"display:inline-block;\"><span>$[\\![\\text{\\textbf{VP}}]\\!]^{}_{\\left\\langle{}X,X'\\right\\rangle{}}([\\![\\text{\\textbf{NP}}]\\!]^{}_{X})$</span></div></div></div></div></div></div><div style=\"display:table-cell;\"></div></div></div><br /><br />Path [2]:<br />\n",
       "<div align=\"center\" style=\"display:table; margin:5px; border-collapse: collapse;border: 1px solid #848482;\"><div align=\"center\" style=\"display:table-row;border-bottom:1px solid #848482\"><div style=\"display:table-cell;vertical-align:middle;\"><div style=\"display: table;\"><div style=\"display:table-cell;vertical-align:middle;padding-left:5px;padding-right:5px;padding-top:5px;padding-bottom:5px;\"><div align=\"center\" style=\"display:block;padding-left:5px;padding-right:5px;padding-top:5px;padding-bottom:5px;\"><div style=\"display:inline-block;\"><span>$[\\![\\text{\\textbf{NP}}]\\!]^{}_{?_{13}}$</span></div></div></div><div style=\"align: center; vertical-align: middle; display: table-cell;\"><span style=\"padding:1em;\">*</span></div><div style=\"display:table-cell;vertical-align:middle;padding-left:5px;padding-right:5px;padding-top:5px;padding-bottom:5px;\"><div align=\"center\" style=\"display:block;padding-left:5px;padding-right:5px;padding-top:5px;padding-bottom:5px;\"><div style=\"display:inline-block;\"><span>$[\\![\\text{\\textbf{VP}}]\\!]^{}_{?_{14}}$</span></div></div></div></div></div><div style=\"display:table-cell;vertical-align:middle;border-left:1px solid #848482;padding:0.5em\"><div style=\"white-space:nowrap; color:blue;\"><b>[<span>PM</span>]</b></div></div></div><div align=\"center\" style=\"display:table-row;padding-left:5px;padding-right:5px;padding-top:5px;padding-bottom:5px;\"><div align=\"center\" style=\"display:table-cell;\"><div align=\"center\" style=\"display:block;padding-left:5px;padding-right:5px;padding-top:5px;padding-bottom:5px;\"><div style=\"display:table;table-layout:auto;\" align=\"center\"><div style=\"display:table-row;\"><div style=\"display:table-cell;padding-right:2px; padding-left:2px;\" align=\"center\"><div style=\"display:inline-block;\"><span>$[\\![\\text{\\textbf{S}}]\\!]^{}_{\\left\\langle{}e,t\\right\\rangle{}}$</span></div></div></div><div style=\"display:table-row;\"><div style=\"display:table-cell;padding-right:2px; padding-left:2px;\" align=\"center\"><div style=\"display:inline-block;\"><span>$\\lambda{} x_{e} \\: . \\: [\\![\\text{\\textbf{NP}}]\\!]^{}_{\\left\\langle{}e,t\\right\\rangle{}}({x}) \\wedge{} [\\![\\text{\\textbf{VP}}]\\!]^{}_{\\left\\langle{}e,t\\right\\rangle{}}({x})$</span></div></div></div></div></div></div><div style=\"display:table-cell;\"></div></div></div><br /><br />"
      ],
      "text/plain": [
       "3 composition paths:<br />\n",
       "Path [0]:<br />\n",
       "<div align=\"center\" style=\"display:table; margin:5px; border-collapse: collapse;border: 1px solid #848482;\"><div align=\"center\" style=\"display:table-row;border-bottom:1px solid #848482\"><div style=\"display:table-cell;vertical-align:middle;\"><div style=\"display: table;\"><div style=\"display:table-cell;vertical-align:middle;padding-left:5px;padding-right:5px;padding-top:5px;padding-bottom:5px;\"><div align=\"center\" style=\"display:block;padding-left:5px;padding-right:5px;padding-top:5px;padding-bottom:5px;\"><div style=\"display:inline-block;\"><span>$[\\![\\text{\\textbf{NP}}]\\!]^{}_{?_{13}}$</span></div></div></div><div style=\"align: center; vertical-align: middle; display: table-cell;\"><span style=\"padding:1em;\">*</span></div><div style=\"display:table-cell;vertical-align:middle;padding-left:5px;padding-right:5px;padding-top:5px;padding-bottom:5px;\"><div align=\"center\" style=\"display:block;padding-left:5px;padding-right:5px;padding-top:5px;padding-bottom:5px;\"><div style=\"display:inline-block;\"><span>$[\\![\\text{\\textbf{VP}}]\\!]^{}_{?_{14}}$</span></div></div></div></div></div><div style=\"display:table-cell;vertical-align:middle;border-left:1px solid #848482;padding:0.5em\"><div style=\"white-space:nowrap; color:blue;\"><b>[<span>FA/left</span>]</b></div></div></div><div align=\"center\" style=\"display:table-row;padding-left:5px;padding-right:5px;padding-top:5px;padding-bottom:5px;\"><div align=\"center\" style=\"display:table-cell;\"><div align=\"center\" style=\"display:block;padding-left:5px;padding-right:5px;padding-top:5px;padding-bottom:5px;\"><div style=\"display:table;table-layout:auto;\" align=\"center\"><div style=\"display:table-row;\"><div style=\"display:table-cell;padding-right:2px; padding-left:2px;\" align=\"center\"><div style=\"display:inline-block;\"><span>$[\\![\\text{\\textbf{S}}]\\!]^{}_{X'}$</span></div></div></div><div style=\"display:table-row;\"><div style=\"display:table-cell;padding-right:2px; padding-left:2px;\" align=\"center\"><div style=\"display:inline-block;\"><span>$[\\![\\text{\\textbf{NP}}]\\!]^{}_{\\left\\langle{}X,X'\\right\\rangle{}}([\\![\\text{\\textbf{VP}}]\\!]^{}_{X})$</span></div></div></div></div></div></div><div style=\"display:table-cell;\"></div></div></div><br /><br />Path [1]:<br />\n",
       "<div align=\"center\" style=\"display:table; margin:5px; border-collapse: collapse;border: 1px solid #848482;\"><div align=\"center\" style=\"display:table-row;border-bottom:1px solid #848482\"><div style=\"display:table-cell;vertical-align:middle;\"><div style=\"display: table;\"><div style=\"display:table-cell;vertical-align:middle;padding-left:5px;padding-right:5px;padding-top:5px;padding-bottom:5px;\"><div align=\"center\" style=\"display:block;padding-left:5px;padding-right:5px;padding-top:5px;padding-bottom:5px;\"><div style=\"display:inline-block;\"><span>$[\\![\\text{\\textbf{NP}}]\\!]^{}_{?_{13}}$</span></div></div></div><div style=\"align: center; vertical-align: middle; display: table-cell;\"><span style=\"padding:1em;\">*</span></div><div style=\"display:table-cell;vertical-align:middle;padding-left:5px;padding-right:5px;padding-top:5px;padding-bottom:5px;\"><div align=\"center\" style=\"display:block;padding-left:5px;padding-right:5px;padding-top:5px;padding-bottom:5px;\"><div style=\"display:inline-block;\"><span>$[\\![\\text{\\textbf{VP}}]\\!]^{}_{?_{14}}$</span></div></div></div></div></div><div style=\"display:table-cell;vertical-align:middle;border-left:1px solid #848482;padding:0.5em\"><div style=\"white-space:nowrap; color:blue;\"><b>[<span>FA/right</span>]</b></div></div></div><div align=\"center\" style=\"display:table-row;padding-left:5px;padding-right:5px;padding-top:5px;padding-bottom:5px;\"><div align=\"center\" style=\"display:table-cell;\"><div align=\"center\" style=\"display:block;padding-left:5px;padding-right:5px;padding-top:5px;padding-bottom:5px;\"><div style=\"display:table;table-layout:auto;\" align=\"center\"><div style=\"display:table-row;\"><div style=\"display:table-cell;padding-right:2px; padding-left:2px;\" align=\"center\"><div style=\"display:inline-block;\"><span>$[\\![\\text{\\textbf{S}}]\\!]^{}_{X'}$</span></div></div></div><div style=\"display:table-row;\"><div style=\"display:table-cell;padding-right:2px; padding-left:2px;\" align=\"center\"><div style=\"display:inline-block;\"><span>$[\\![\\text{\\textbf{VP}}]\\!]^{}_{\\left\\langle{}X,X'\\right\\rangle{}}([\\![\\text{\\textbf{NP}}]\\!]^{}_{X})$</span></div></div></div></div></div></div><div style=\"display:table-cell;\"></div></div></div><br /><br />Path [2]:<br />\n",
       "<div align=\"center\" style=\"display:table; margin:5px; border-collapse: collapse;border: 1px solid #848482;\"><div align=\"center\" style=\"display:table-row;border-bottom:1px solid #848482\"><div style=\"display:table-cell;vertical-align:middle;\"><div style=\"display: table;\"><div style=\"display:table-cell;vertical-align:middle;padding-left:5px;padding-right:5px;padding-top:5px;padding-bottom:5px;\"><div align=\"center\" style=\"display:block;padding-left:5px;padding-right:5px;padding-top:5px;padding-bottom:5px;\"><div style=\"display:inline-block;\"><span>$[\\![\\text{\\textbf{NP}}]\\!]^{}_{?_{13}}$</span></div></div></div><div style=\"align: center; vertical-align: middle; display: table-cell;\"><span style=\"padding:1em;\">*</span></div><div style=\"display:table-cell;vertical-align:middle;padding-left:5px;padding-right:5px;padding-top:5px;padding-bottom:5px;\"><div align=\"center\" style=\"display:block;padding-left:5px;padding-right:5px;padding-top:5px;padding-bottom:5px;\"><div style=\"display:inline-block;\"><span>$[\\![\\text{\\textbf{VP}}]\\!]^{}_{?_{14}}$</span></div></div></div></div></div><div style=\"display:table-cell;vertical-align:middle;border-left:1px solid #848482;padding:0.5em\"><div style=\"white-space:nowrap; color:blue;\"><b>[<span>PM</span>]</b></div></div></div><div align=\"center\" style=\"display:table-row;padding-left:5px;padding-right:5px;padding-top:5px;padding-bottom:5px;\"><div align=\"center\" style=\"display:table-cell;\"><div align=\"center\" style=\"display:block;padding-left:5px;padding-right:5px;padding-top:5px;padding-bottom:5px;\"><div style=\"display:table;table-layout:auto;\" align=\"center\"><div style=\"display:table-row;\"><div style=\"display:table-cell;padding-right:2px; padding-left:2px;\" align=\"center\"><div style=\"display:inline-block;\"><span>$[\\![\\text{\\textbf{S}}]\\!]^{}_{\\left\\langle{}e,t\\right\\rangle{}}$</span></div></div></div><div style=\"display:table-row;\"><div style=\"display:table-cell;padding-right:2px; padding-left:2px;\" align=\"center\"><div style=\"display:inline-block;\"><span>$\\lambda{} x_{e} \\: . \\: [\\![\\text{\\textbf{NP}}]\\!]^{}_{\\left\\langle{}e,t\\right\\rangle{}}({x}) \\wedge{} [\\![\\text{\\textbf{VP}}]\\!]^{}_{\\left\\langle{}e,t\\right\\rangle{}}({x})$</span></div></div></div></div></div></div><div style=\"display:table-cell;\"></div></div></div><br /><br />"
      ]
     },
     "execution_count": 53,
     "metadata": {},
     "output_type": "execute_result"
    }
   ],
   "source": [
    "t2 = Tree(\"S\", [\"NP\", \"VP\"])\n",
    "r2 = lang.hk3_system.compose(t2)\n",
    "r2.tree()\n",
    "r2.paths()"
   ]
  },
  {
   "cell_type": "code",
   "execution_count": 54,
   "metadata": {
    "execution": {
     "iopub.execute_input": "2024-03-14T17:51:04.502616Z",
     "iopub.status.busy": "2024-03-14T17:51:04.502535Z",
     "iopub.status.idle": "2024-03-14T17:51:04.505001Z",
     "shell.execute_reply": "2024-03-14T17:51:04.504806Z"
    }
   },
   "outputs": [
    {
     "data": {
      "image/svg+xml": [
       "<svg baseProfile=\"full\" height=\"120px\" preserveAspectRatio=\"xMidYMid meet\" style=\"font-family: times, serif; font-weight: normal; font-style: normal; font-size: 16px;\" version=\"1.1\" viewBox=\"0,0,88.0,120.0\" width=\"88px\" xmlns=\"http://www.w3.org/2000/svg\" xmlns:ev=\"http://www.w3.org/2001/xml-events\" xmlns:xlink=\"http://www.w3.org/1999/xlink\"><defs /><svg width=\"100%\" x=\"0\" y=\"0px\"><defs /><text text-anchor=\"middle\" x=\"50%\" y=\"16px\">NP</text></svg><svg width=\"54.5455%\" x=\"0%\" y=\"48px\"><defs /><svg width=\"100%\" x=\"0\" y=\"0px\"><defs /><text text-anchor=\"middle\" x=\"50%\" y=\"16px\">gray</text></svg></svg><line stroke=\"black\" x1=\"50%\" x2=\"27.2727%\" y1=\"19.2px\" y2=\"48px\" /><svg width=\"45.4545%\" x=\"54.5455%\" y=\"48px\"><defs /><svg width=\"100%\" x=\"0\" y=\"0px\"><defs /><text text-anchor=\"middle\" x=\"50%\" y=\"16px\">N</text></svg><svg width=\"100%\" x=\"0%\" y=\"48px\"><defs /><svg width=\"100%\" x=\"0\" y=\"0px\"><defs /><text text-anchor=\"middle\" x=\"50%\" y=\"16px\">cat</text></svg></svg><line stroke=\"black\" x1=\"50%\" x2=\"50%\" y1=\"19.2px\" y2=\"48px\" /></svg><line stroke=\"black\" x1=\"50%\" x2=\"77.2727%\" y1=\"19.2px\" y2=\"48px\" /></svg>"
      ],
      "text/plain": [
       "Tree('NP', ['gray', Tree('N', ['cat'])])"
      ]
     },
     "execution_count": 54,
     "metadata": {},
     "output_type": "execute_result"
    }
   ],
   "source": [
    "Tree = lamb.utils.get_tree_class()\n",
    "t = Tree(\"NP\", [\"gray\", Tree(\"N\", [\"cat\"])])\n",
    "t"
   ]
  },
  {
   "cell_type": "code",
   "execution_count": 55,
   "metadata": {
    "execution": {
     "iopub.execute_input": "2024-03-14T17:51:04.506050Z",
     "iopub.status.busy": "2024-03-14T17:51:04.505962Z",
     "iopub.status.idle": "2024-03-14T17:51:04.509860Z",
     "shell.execute_reply": "2024-03-14T17:51:04.509677Z"
    }
   },
   "outputs": [
    {
     "data": {
      "text/markdown": [
       "3 composition paths. Results:<br />\n",
       "&nbsp;&nbsp;&nbsp;&nbsp;[0]: $[\\![\\text{\\textbf{NP}}]\\!]^{}_{X'} \\:=\\: [\\![\\text{\\textbf{gray}}]\\!]^{}_{\\left\\langle{}X,X'\\right\\rangle{}}([\\![\\text{\\textbf{N}}]\\!]^{}_{X})$<br />\n",
       "&nbsp;&nbsp;&nbsp;&nbsp;[1]: $[\\![\\text{\\textbf{NP}}]\\!]^{}_{X'} \\:=\\: [\\![\\text{\\textbf{N}}]\\!]^{}_{\\left\\langle{}X,X'\\right\\rangle{}}([\\![\\text{\\textbf{gray}}]\\!]^{}_{X})$<br />\n",
       "&nbsp;&nbsp;&nbsp;&nbsp;[2]: $[\\![\\text{\\textbf{NP}}]\\!]^{}_{\\left\\langle{}e,t\\right\\rangle{}} \\:=\\: \\lambda{} x_{e} \\: . \\: [\\![\\text{\\textbf{N}}]\\!]^{}_{\\left\\langle{}e,t\\right\\rangle{}}({x}) \\wedge{} [\\![\\text{\\textbf{gray}}]\\!]^{}_{\\left\\langle{}e,t\\right\\rangle{}}({x})$"
      ],
      "text/plain": [
       "3 composition paths. Results:\n",
       "    [0]: ⟦gray⟧ * ⟦N⟧ leads to: ⟦NP⟧ = ⟦gray⟧(⟦N⟧) [by FA/left]\n",
       "    [1]: ⟦gray⟧ * ⟦N⟧ leads to: ⟦NP⟧ = ⟦N⟧(⟦gray⟧) [by FA/right]\n",
       "    [2]: ⟦gray⟧ * ⟦N⟧ leads to: ⟦NP⟧ = (λ x_e: (⟦N⟧(x_e) & ⟦gray⟧(x_e))) [by PM]"
      ]
     },
     "metadata": {},
     "output_type": "display_data"
    }
   ],
   "source": [
    "t2 = lang.CompositionTree.tree_factory(t)\n",
    "r = lang.hk3_system.compose(t2)\n",
    "r"
   ]
  },
  {
   "cell_type": "code",
   "execution_count": 56,
   "metadata": {
    "execution": {
     "iopub.execute_input": "2024-03-14T17:51:04.510950Z",
     "iopub.status.busy": "2024-03-14T17:51:04.510864Z",
     "iopub.status.idle": "2024-03-14T17:51:04.513060Z",
     "shell.execute_reply": "2024-03-14T17:51:04.512858Z"
    }
   },
   "outputs": [
    {
     "data": {
      "text/html": [
       "<div align=\"center\" style=\"display:table; margin:5px; border-collapse: collapse;border: 1px solid #848482;\"><div align=\"center\" style=\"display:table-row;border-bottom:1px solid #848482\"><div style=\"display:table-cell;vertical-align:middle;\"><div style=\"display: table;\"><div style=\"display:table-cell;vertical-align:middle;padding-left:5px;padding-right:5px;padding-top:5px;padding-bottom:5px;\"><div align=\"center\" style=\"display:block;padding-left:5px;padding-right:5px;padding-top:5px;padding-bottom:5px;\"><div align=\"center\" style=\"display:block;padding-left:5px;padding-right:5px;padding-top:5px;padding-bottom:5px;\"><div style=\"display:inline-block;\"><span>$[\\![\\text{\\textbf{gray}}]\\!]^{}_{?_{46}}$</span></div></div></div></div><div style=\"align: center; vertical-align: middle; display: table-cell;\"><span style=\"padding:1em;\">*</span></div><div style=\"display:table-cell;vertical-align:middle;padding-left:5px;padding-right:5px;padding-top:5px;padding-bottom:5px;\"><div align=\"center\" style=\"display:block;padding-left:5px;padding-right:5px;padding-top:5px;padding-bottom:5px;\"><div align=\"center\" style=\"display:block;padding-left:5px;padding-right:5px;padding-top:5px;padding-bottom:5px;\"><div style=\"display:inline-block;\"><span>$[\\![\\text{\\textbf{N}}]\\!]^{}_{?_{47}}$</span></div></div></div></div></div></div></div><div align=\"center\" style=\"display:table-row;padding-left:5px;padding-right:5px;padding-top:5px;padding-bottom:5px;\"><div align=\"center\" style=\"display:table-cell;\"><div align=\"center\" style=\"display:block;padding-left:5px;padding-right:5px;padding-top:5px;padding-bottom:5px;\"><div style=\"display:table;table-layout:auto;\" align=\"center\"><div style=\"display:table-row;\"><div style=\"display:table-cell;padding-right:2px; padding-left:2px;\" align=\"center\"><div style=\"display:inline-block;\"><span>$[\\![\\text{\\textbf{NP}}]\\!]$</span></div></div></div><div style=\"display:table-row;\"><div style=\"display:table-cell;padding-right:2px; padding-left:2px;\" align=\"center\"><div align=\"left\" style=\"display:block;padding-left:5px;padding-right:5px;padding-top:5px;padding-bottom:5px;\"><div style=\"display:table;table-layout:auto;\" align=\"left\"><div style=\"display:table-row;\"><div style=\"display:table-cell;padding-right:2px; padding-left:2px;\" align=\"left\"><span style=\"color:blue; white-space:nowrap; display:inline-block;\">[path 0]: </span></div><div style=\"display:table-cell;padding-right:2px; padding-left:2px;\" align=\"left\"><div style=\"display:inline-block;\"><span>$[\\![\\text{\\textbf{NP}}]\\!]^{}_{X'} \\:=\\: [\\![\\text{\\textbf{gray}}]\\!]^{}_{\\left\\langle{}X,X'\\right\\rangle{}}([\\![\\text{\\textbf{N}}]\\!]^{}_{X})$</span></div></div></div><div style=\"display:table-row;\"><div style=\"display:table-cell;padding-right:2px; padding-left:2px;\" align=\"left\"><span style=\"color:blue; white-space:nowrap; display:inline-block;\">[path 1]: </span></div><div style=\"display:table-cell;padding-right:2px; padding-left:2px;\" align=\"left\"><div style=\"display:inline-block;\"><span>$[\\![\\text{\\textbf{NP}}]\\!]^{}_{X'} \\:=\\: [\\![\\text{\\textbf{N}}]\\!]^{}_{\\left\\langle{}X,X'\\right\\rangle{}}([\\![\\text{\\textbf{gray}}]\\!]^{}_{X})$</span></div></div></div><div style=\"display:table-row;\"><div style=\"display:table-cell;padding-right:2px; padding-left:2px;\" align=\"left\"><span style=\"color:blue; white-space:nowrap; display:inline-block;\">[path 2]: </span></div><div style=\"display:table-cell;padding-right:2px; padding-left:2px;\" align=\"left\"><div style=\"display:inline-block;\"><span>$[\\![\\text{\\textbf{NP}}]\\!]^{}_{\\left\\langle{}e,t\\right\\rangle{}} \\:=\\: \\lambda{} x_{e} \\: . \\: [\\![\\text{\\textbf{N}}]\\!]^{}_{\\left\\langle{}e,t\\right\\rangle{}}({x}) \\wedge{} [\\![\\text{\\textbf{gray}}]\\!]^{}_{\\left\\langle{}e,t\\right\\rangle{}}({x})$</span></div></div></div></div></div></div></div></div></div></div></div></div>"
      ],
      "text/plain": [
       "<div align=\"center\" style=\"display:table; margin:5px; border-collapse: collapse;border: 1px solid #848482;\"><div align=\"center\" style=\"display:table-row;border-bottom:1px solid #848482\"><div style=\"display:table-cell;vertical-align:middle;\"><div style=\"display: table;\"><div style=\"display:table-cell;vertical-align:middle;padding-left:5px;padding-right:5px;padding-top:5px;padding-bottom:5px;\"><div align=\"center\" style=\"display:block;padding-left:5px;padding-right:5px;padding-top:5px;padding-bottom:5px;\"><div align=\"center\" style=\"display:block;padding-left:5px;padding-right:5px;padding-top:5px;padding-bottom:5px;\"><div style=\"display:inline-block;\"><span>$[\\![\\text{\\textbf{gray}}]\\!]^{}_{?_{46}}$</span></div></div></div></div><div style=\"align: center; vertical-align: middle; display: table-cell;\"><span style=\"padding:1em;\">*</span></div><div style=\"display:table-cell;vertical-align:middle;padding-left:5px;padding-right:5px;padding-top:5px;padding-bottom:5px;\"><div align=\"center\" style=\"display:block;padding-left:5px;padding-right:5px;padding-top:5px;padding-bottom:5px;\"><div align=\"center\" style=\"display:block;padding-left:5px;padding-right:5px;padding-top:5px;padding-bottom:5px;\"><div style=\"display:inline-block;\"><span>$[\\![\\text{\\textbf{N}}]\\!]^{}_{?_{47}}$</span></div></div></div></div></div></div></div><div align=\"center\" style=\"display:table-row;padding-left:5px;padding-right:5px;padding-top:5px;padding-bottom:5px;\"><div align=\"center\" style=\"display:table-cell;\"><div align=\"center\" style=\"display:block;padding-left:5px;padding-right:5px;padding-top:5px;padding-bottom:5px;\"><div style=\"display:table;table-layout:auto;\" align=\"center\"><div style=\"display:table-row;\"><div style=\"display:table-cell;padding-right:2px; padding-left:2px;\" align=\"center\"><div style=\"display:inline-block;\"><span>$[\\![\\text{\\textbf{NP}}]\\!]$</span></div></div></div><div style=\"display:table-row;\"><div style=\"display:table-cell;padding-right:2px; padding-left:2px;\" align=\"center\"><div align=\"left\" style=\"display:block;padding-left:5px;padding-right:5px;padding-top:5px;padding-bottom:5px;\"><div style=\"display:table;table-layout:auto;\" align=\"left\"><div style=\"display:table-row;\"><div style=\"display:table-cell;padding-right:2px; padding-left:2px;\" align=\"left\"><span style=\"color:blue; white-space:nowrap; display:inline-block;\">[path 0]: </span></div><div style=\"display:table-cell;padding-right:2px; padding-left:2px;\" align=\"left\"><div style=\"display:inline-block;\"><span>$[\\![\\text{\\textbf{NP}}]\\!]^{}_{X'} \\:=\\: [\\![\\text{\\textbf{gray}}]\\!]^{}_{\\left\\langle{}X,X'\\right\\rangle{}}([\\![\\text{\\textbf{N}}]\\!]^{}_{X})$</span></div></div></div><div style=\"display:table-row;\"><div style=\"display:table-cell;padding-right:2px; padding-left:2px;\" align=\"left\"><span style=\"color:blue; white-space:nowrap; display:inline-block;\">[path 1]: </span></div><div style=\"display:table-cell;padding-right:2px; padding-left:2px;\" align=\"left\"><div style=\"display:inline-block;\"><span>$[\\![\\text{\\textbf{NP}}]\\!]^{}_{X'} \\:=\\: [\\![\\text{\\textbf{N}}]\\!]^{}_{\\left\\langle{}X,X'\\right\\rangle{}}([\\![\\text{\\textbf{gray}}]\\!]^{}_{X})$</span></div></div></div><div style=\"display:table-row;\"><div style=\"display:table-cell;padding-right:2px; padding-left:2px;\" align=\"left\"><span style=\"color:blue; white-space:nowrap; display:inline-block;\">[path 2]: </span></div><div style=\"display:table-cell;padding-right:2px; padding-left:2px;\" align=\"left\"><div style=\"display:inline-block;\"><span>$[\\![\\text{\\textbf{NP}}]\\!]^{}_{\\left\\langle{}e,t\\right\\rangle{}} \\:=\\: \\lambda{} x_{e} \\: . \\: [\\![\\text{\\textbf{N}}]\\!]^{}_{\\left\\langle{}e,t\\right\\rangle{}}({x}) \\wedge{} [\\![\\text{\\textbf{gray}}]\\!]^{}_{\\left\\langle{}e,t\\right\\rangle{}}({x})$</span></div></div></div></div></div></div></div></div></div></div></div></div>"
      ]
     },
     "execution_count": 56,
     "metadata": {},
     "output_type": "execute_result"
    }
   ],
   "source": [
    "r.tree()"
   ]
  },
  {
   "cell_type": "code",
   "execution_count": 57,
   "metadata": {
    "execution": {
     "iopub.execute_input": "2024-03-14T17:51:04.514145Z",
     "iopub.status.busy": "2024-03-14T17:51:04.514061Z",
     "iopub.status.idle": "2024-03-14T17:51:04.519359Z",
     "shell.execute_reply": "2024-03-14T17:51:04.519161Z"
    }
   },
   "outputs": [
    {
     "data": {
      "text/markdown": [
       "1 composition path.  Result:<br />\n",
       "&nbsp;&nbsp;&nbsp;&nbsp;[0]: $[\\![\\text{\\textbf{NP}}]\\!]^{}_{\\left\\langle{}e,t\\right\\rangle{}} \\:=\\: \\lambda{} x_{e} \\: . \\: {Cat}({x}) \\wedge{} {Gray}({x})$"
      ],
      "text/plain": [
       "1 composition path.  Result:\n",
       "    [0]: ⟦gray⟧ * ⟦N⟧ leads to: ⟦NP⟧ = (λ x_e: (Cat_<e,t>(x_e) & Gray_<e,t>(x_e))) [by PM]"
      ]
     },
     "metadata": {},
     "output_type": "display_data"
    }
   ],
   "source": [
    "r = lang.hk3_system.expand_all(t2)\n",
    "r"
   ]
  },
  {
   "cell_type": "code",
   "execution_count": 58,
   "metadata": {
    "execution": {
     "iopub.execute_input": "2024-03-14T17:51:04.520438Z",
     "iopub.status.busy": "2024-03-14T17:51:04.520358Z",
     "iopub.status.idle": "2024-03-14T17:51:04.522483Z",
     "shell.execute_reply": "2024-03-14T17:51:04.522273Z"
    }
   },
   "outputs": [
    {
     "data": {
      "text/html": [
       "<div align=\"center\" style=\"display:table; margin:5px; border-collapse: collapse;border: 1px solid #848482;\"><div align=\"center\" style=\"display:table-row;border-bottom:1px solid #848482\"><div style=\"display:table-cell;vertical-align:middle;\"><div style=\"display: table;\"><div style=\"display:table-cell;vertical-align:middle;padding-left:5px;padding-right:5px;padding-top:5px;padding-bottom:5px;\"><div align=\"center\" style=\"display:table; margin:5px; border-collapse: collapse;border: 1px solid #848482;\"><div align=\"center\" style=\"display:table-row;border-bottom:1px solid #848482\"><div style=\"display:table-cell;vertical-align:middle;\"><div style=\"display: table;\"></div></div></div><div align=\"center\" style=\"display:table-row;padding-left:5px;padding-right:5px;padding-top:5px;padding-bottom:5px;\"><div align=\"center\" style=\"display:table-cell;\"><div align=\"center\" style=\"display:block;padding-left:5px;padding-right:5px;padding-top:5px;padding-bottom:5px;\"><div style=\"display:table;table-layout:auto;\" align=\"center\"><div style=\"display:table-row;\"><div style=\"display:table-cell;padding-right:2px; padding-left:2px;\" align=\"center\"><div style=\"display:inline-block;\"><span>$[\\![\\text{\\textbf{gray}}]\\!]$</span></div></div></div><div style=\"display:table-row;\"><div style=\"display:table-cell;padding-right:2px; padding-left:2px;\" align=\"center\"><div align=\"left\" style=\"display:block;padding-left:5px;padding-right:5px;padding-top:5px;padding-bottom:5px;\"><div style=\"display:table;table-layout:auto;\" align=\"left\"><div style=\"display:table-row;\"><div style=\"display:table-cell;padding-right:2px; padding-left:2px;\" align=\"left\"><span style=\"color:blue; white-space:nowrap; display:inline-block;\">[path 0]: </span></div><div style=\"display:table-cell;padding-right:2px; padding-left:2px;\" align=\"left\"><div style=\"display:inline-block;\"><span>$[\\![\\text{\\textbf{gray}}]\\!]^{}_{\\left\\langle{}e,t\\right\\rangle{}} \\:=\\: \\lambda{} x_{e} \\: . \\: {Gray}({x})$</span></div></div></div></div></div></div></div></div></div></div></div></div></div><div style=\"align: center; vertical-align: middle; display: table-cell;\"><span style=\"padding:1em;\">*</span></div><div style=\"display:table-cell;vertical-align:middle;padding-left:5px;padding-right:5px;padding-top:5px;padding-bottom:5px;\"><div align=\"center\" style=\"display:table; margin:5px; border-collapse: collapse;border: 1px solid #848482;\"><div align=\"center\" style=\"display:table-row;border-bottom:1px solid #848482\"><div style=\"display:table-cell;vertical-align:middle;\"><div style=\"display: table;\"><div style=\"display:table-cell;vertical-align:middle;padding-left:5px;padding-right:5px;padding-top:5px;padding-bottom:5px;\"><div align=\"center\" style=\"display:table; margin:5px; border-collapse: collapse;border: 1px solid #848482;\"><div align=\"center\" style=\"display:table-row;border-bottom:1px solid #848482\"><div style=\"display:table-cell;vertical-align:middle;\"><div style=\"display: table;\"></div></div></div><div align=\"center\" style=\"display:table-row;padding-left:5px;padding-right:5px;padding-top:5px;padding-bottom:5px;\"><div align=\"center\" style=\"display:table-cell;\"><div align=\"center\" style=\"display:block;padding-left:5px;padding-right:5px;padding-top:5px;padding-bottom:5px;\"><div style=\"display:table;table-layout:auto;\" align=\"center\"><div style=\"display:table-row;\"><div style=\"display:table-cell;padding-right:2px; padding-left:2px;\" align=\"center\"><div style=\"display:inline-block;\"><span>$[\\![\\text{\\textbf{cat}}]\\!]$</span></div></div></div><div style=\"display:table-row;\"><div style=\"display:table-cell;padding-right:2px; padding-left:2px;\" align=\"center\"><div align=\"left\" style=\"display:block;padding-left:5px;padding-right:5px;padding-top:5px;padding-bottom:5px;\"><div style=\"display:table;table-layout:auto;\" align=\"left\"><div style=\"display:table-row;\"><div style=\"display:table-cell;padding-right:2px; padding-left:2px;\" align=\"left\"><span style=\"color:blue; white-space:nowrap; display:inline-block;\">[path 0]: </span></div><div style=\"display:table-cell;padding-right:2px; padding-left:2px;\" align=\"left\"><div style=\"display:inline-block;\"><span>$[\\![\\text{\\textbf{cat}}]\\!]^{}_{\\left\\langle{}e,t\\right\\rangle{}} \\:=\\: \\lambda{} x_{e} \\: . \\: {Cat}({x})$</span></div></div></div></div></div></div></div></div></div></div></div></div></div></div></div></div><div align=\"center\" style=\"display:table-row;padding-left:5px;padding-right:5px;padding-top:5px;padding-bottom:5px;\"><div align=\"center\" style=\"display:table-cell;\"><div align=\"center\" style=\"display:block;padding-left:5px;padding-right:5px;padding-top:5px;padding-bottom:5px;\"><div style=\"display:table;table-layout:auto;\" align=\"center\"><div style=\"display:table-row;\"><div style=\"display:table-cell;padding-right:2px; padding-left:2px;\" align=\"center\"><div style=\"display:inline-block;\"><span>$[\\![\\text{\\textbf{N}}]\\!]$</span></div></div></div><div style=\"display:table-row;\"><div style=\"display:table-cell;padding-right:2px; padding-left:2px;\" align=\"center\"><div align=\"left\" style=\"display:block;padding-left:5px;padding-right:5px;padding-top:5px;padding-bottom:5px;\"><div style=\"display:table;table-layout:auto;\" align=\"left\"><div style=\"display:table-row;\"><div style=\"display:table-cell;padding-right:2px; padding-left:2px;\" align=\"left\"><span style=\"color:blue; white-space:nowrap; display:inline-block;\">[path 0]: </span></div><div style=\"display:table-cell;padding-right:2px; padding-left:2px;\" align=\"left\"><div style=\"display:inline-block;\"><span>$[\\![\\text{\\textbf{N}}]\\!]^{}_{\\left\\langle{}e,t\\right\\rangle{}} \\:=\\: \\lambda{} x_{e} \\: . \\: {Cat}({x})$</span></div></div></div></div></div></div></div></div></div></div></div></div></div></div></div></div><div align=\"center\" style=\"display:table-row;padding-left:5px;padding-right:5px;padding-top:5px;padding-bottom:5px;\"><div align=\"center\" style=\"display:table-cell;\"><div align=\"center\" style=\"display:block;padding-left:5px;padding-right:5px;padding-top:5px;padding-bottom:5px;\"><div style=\"display:table;table-layout:auto;\" align=\"center\"><div style=\"display:table-row;\"><div style=\"display:table-cell;padding-right:2px; padding-left:2px;\" align=\"center\"><div style=\"display:inline-block;\"><span>$[\\![\\text{\\textbf{NP}}]\\!]$</span></div></div></div><div style=\"display:table-row;\"><div style=\"display:table-cell;padding-right:2px; padding-left:2px;\" align=\"center\"><div align=\"left\" style=\"display:block;padding-left:5px;padding-right:5px;padding-top:5px;padding-bottom:5px;\"><div style=\"display:table;table-layout:auto;\" align=\"left\"><div style=\"display:table-row;\"><div style=\"display:table-cell;padding-right:2px; padding-left:2px;\" align=\"left\"><span style=\"color:blue; white-space:nowrap; display:inline-block;\">[path 0]: </span></div><div style=\"display:table-cell;padding-right:2px; padding-left:2px;\" align=\"left\"><div style=\"display:inline-block;\"><span>$[\\![\\text{\\textbf{NP}}]\\!]^{}_{\\left\\langle{}e,t\\right\\rangle{}} \\:=\\: \\lambda{} x_{e} \\: . \\: {Cat}({x}) \\wedge{} {Gray}({x})$</span></div></div></div></div></div></div></div></div></div></div></div></div>"
      ],
      "text/plain": [
       "<div align=\"center\" style=\"display:table; margin:5px; border-collapse: collapse;border: 1px solid #848482;\"><div align=\"center\" style=\"display:table-row;border-bottom:1px solid #848482\"><div style=\"display:table-cell;vertical-align:middle;\"><div style=\"display: table;\"><div style=\"display:table-cell;vertical-align:middle;padding-left:5px;padding-right:5px;padding-top:5px;padding-bottom:5px;\"><div align=\"center\" style=\"display:table; margin:5px; border-collapse: collapse;border: 1px solid #848482;\"><div align=\"center\" style=\"display:table-row;border-bottom:1px solid #848482\"><div style=\"display:table-cell;vertical-align:middle;\"><div style=\"display: table;\"></div></div></div><div align=\"center\" style=\"display:table-row;padding-left:5px;padding-right:5px;padding-top:5px;padding-bottom:5px;\"><div align=\"center\" style=\"display:table-cell;\"><div align=\"center\" style=\"display:block;padding-left:5px;padding-right:5px;padding-top:5px;padding-bottom:5px;\"><div style=\"display:table;table-layout:auto;\" align=\"center\"><div style=\"display:table-row;\"><div style=\"display:table-cell;padding-right:2px; padding-left:2px;\" align=\"center\"><div style=\"display:inline-block;\"><span>$[\\![\\text{\\textbf{gray}}]\\!]$</span></div></div></div><div style=\"display:table-row;\"><div style=\"display:table-cell;padding-right:2px; padding-left:2px;\" align=\"center\"><div align=\"left\" style=\"display:block;padding-left:5px;padding-right:5px;padding-top:5px;padding-bottom:5px;\"><div style=\"display:table;table-layout:auto;\" align=\"left\"><div style=\"display:table-row;\"><div style=\"display:table-cell;padding-right:2px; padding-left:2px;\" align=\"left\"><span style=\"color:blue; white-space:nowrap; display:inline-block;\">[path 0]: </span></div><div style=\"display:table-cell;padding-right:2px; padding-left:2px;\" align=\"left\"><div style=\"display:inline-block;\"><span>$[\\![\\text{\\textbf{gray}}]\\!]^{}_{\\left\\langle{}e,t\\right\\rangle{}} \\:=\\: \\lambda{} x_{e} \\: . \\: {Gray}({x})$</span></div></div></div></div></div></div></div></div></div></div></div></div></div><div style=\"align: center; vertical-align: middle; display: table-cell;\"><span style=\"padding:1em;\">*</span></div><div style=\"display:table-cell;vertical-align:middle;padding-left:5px;padding-right:5px;padding-top:5px;padding-bottom:5px;\"><div align=\"center\" style=\"display:table; margin:5px; border-collapse: collapse;border: 1px solid #848482;\"><div align=\"center\" style=\"display:table-row;border-bottom:1px solid #848482\"><div style=\"display:table-cell;vertical-align:middle;\"><div style=\"display: table;\"><div style=\"display:table-cell;vertical-align:middle;padding-left:5px;padding-right:5px;padding-top:5px;padding-bottom:5px;\"><div align=\"center\" style=\"display:table; margin:5px; border-collapse: collapse;border: 1px solid #848482;\"><div align=\"center\" style=\"display:table-row;border-bottom:1px solid #848482\"><div style=\"display:table-cell;vertical-align:middle;\"><div style=\"display: table;\"></div></div></div><div align=\"center\" style=\"display:table-row;padding-left:5px;padding-right:5px;padding-top:5px;padding-bottom:5px;\"><div align=\"center\" style=\"display:table-cell;\"><div align=\"center\" style=\"display:block;padding-left:5px;padding-right:5px;padding-top:5px;padding-bottom:5px;\"><div style=\"display:table;table-layout:auto;\" align=\"center\"><div style=\"display:table-row;\"><div style=\"display:table-cell;padding-right:2px; padding-left:2px;\" align=\"center\"><div style=\"display:inline-block;\"><span>$[\\![\\text{\\textbf{cat}}]\\!]$</span></div></div></div><div style=\"display:table-row;\"><div style=\"display:table-cell;padding-right:2px; padding-left:2px;\" align=\"center\"><div align=\"left\" style=\"display:block;padding-left:5px;padding-right:5px;padding-top:5px;padding-bottom:5px;\"><div style=\"display:table;table-layout:auto;\" align=\"left\"><div style=\"display:table-row;\"><div style=\"display:table-cell;padding-right:2px; padding-left:2px;\" align=\"left\"><span style=\"color:blue; white-space:nowrap; display:inline-block;\">[path 0]: </span></div><div style=\"display:table-cell;padding-right:2px; padding-left:2px;\" align=\"left\"><div style=\"display:inline-block;\"><span>$[\\![\\text{\\textbf{cat}}]\\!]^{}_{\\left\\langle{}e,t\\right\\rangle{}} \\:=\\: \\lambda{} x_{e} \\: . \\: {Cat}({x})$</span></div></div></div></div></div></div></div></div></div></div></div></div></div></div></div></div><div align=\"center\" style=\"display:table-row;padding-left:5px;padding-right:5px;padding-top:5px;padding-bottom:5px;\"><div align=\"center\" style=\"display:table-cell;\"><div align=\"center\" style=\"display:block;padding-left:5px;padding-right:5px;padding-top:5px;padding-bottom:5px;\"><div style=\"display:table;table-layout:auto;\" align=\"center\"><div style=\"display:table-row;\"><div style=\"display:table-cell;padding-right:2px; padding-left:2px;\" align=\"center\"><div style=\"display:inline-block;\"><span>$[\\![\\text{\\textbf{N}}]\\!]$</span></div></div></div><div style=\"display:table-row;\"><div style=\"display:table-cell;padding-right:2px; padding-left:2px;\" align=\"center\"><div align=\"left\" style=\"display:block;padding-left:5px;padding-right:5px;padding-top:5px;padding-bottom:5px;\"><div style=\"display:table;table-layout:auto;\" align=\"left\"><div style=\"display:table-row;\"><div style=\"display:table-cell;padding-right:2px; padding-left:2px;\" align=\"left\"><span style=\"color:blue; white-space:nowrap; display:inline-block;\">[path 0]: </span></div><div style=\"display:table-cell;padding-right:2px; padding-left:2px;\" align=\"left\"><div style=\"display:inline-block;\"><span>$[\\![\\text{\\textbf{N}}]\\!]^{}_{\\left\\langle{}e,t\\right\\rangle{}} \\:=\\: \\lambda{} x_{e} \\: . \\: {Cat}({x})$</span></div></div></div></div></div></div></div></div></div></div></div></div></div></div></div></div><div align=\"center\" style=\"display:table-row;padding-left:5px;padding-right:5px;padding-top:5px;padding-bottom:5px;\"><div align=\"center\" style=\"display:table-cell;\"><div align=\"center\" style=\"display:block;padding-left:5px;padding-right:5px;padding-top:5px;padding-bottom:5px;\"><div style=\"display:table;table-layout:auto;\" align=\"center\"><div style=\"display:table-row;\"><div style=\"display:table-cell;padding-right:2px; padding-left:2px;\" align=\"center\"><div style=\"display:inline-block;\"><span>$[\\![\\text{\\textbf{NP}}]\\!]$</span></div></div></div><div style=\"display:table-row;\"><div style=\"display:table-cell;padding-right:2px; padding-left:2px;\" align=\"center\"><div align=\"left\" style=\"display:block;padding-left:5px;padding-right:5px;padding-top:5px;padding-bottom:5px;\"><div style=\"display:table;table-layout:auto;\" align=\"left\"><div style=\"display:table-row;\"><div style=\"display:table-cell;padding-right:2px; padding-left:2px;\" align=\"left\"><span style=\"color:blue; white-space:nowrap; display:inline-block;\">[path 0]: </span></div><div style=\"display:table-cell;padding-right:2px; padding-left:2px;\" align=\"left\"><div style=\"display:inline-block;\"><span>$[\\![\\text{\\textbf{NP}}]\\!]^{}_{\\left\\langle{}e,t\\right\\rangle{}} \\:=\\: \\lambda{} x_{e} \\: . \\: {Cat}({x}) \\wedge{} {Gray}({x})$</span></div></div></div></div></div></div></div></div></div></div></div></div>"
      ]
     },
     "execution_count": 58,
     "metadata": {},
     "output_type": "execute_result"
    }
   ],
   "source": [
    "r.tree()"
   ]
  },
  {
   "cell_type": "code",
   "execution_count": 59,
   "metadata": {
    "execution": {
     "iopub.execute_input": "2024-03-14T17:51:04.523556Z",
     "iopub.status.busy": "2024-03-14T17:51:04.523474Z",
     "iopub.status.idle": "2024-03-14T17:51:04.525603Z",
     "shell.execute_reply": "2024-03-14T17:51:04.525412Z"
    }
   },
   "outputs": [
    {
     "data": {
      "text/html": [
       "1 composition path:<br /><div align=\"center\" style=\"display:table; margin:5px; border-collapse: collapse;border: 1px solid #848482;\"><div align=\"center\" style=\"display:table-row;border-bottom:1px solid #848482\"><div style=\"display:table-cell;vertical-align:middle;\"><div style=\"display: table;\"><div style=\"display:table-cell;vertical-align:middle;padding-left:5px;padding-right:5px;padding-top:5px;padding-bottom:5px;\"><div align=\"center\" style=\"display:table; margin:5px; border-collapse: collapse;border: 1px solid #848482;\"><div align=\"center\" style=\"display:table-row;border-bottom:1px solid #848482\"><div style=\"display:table-cell;vertical-align:middle;\"><div style=\"display: table;\"><div style=\"display:table-cell;vertical-align:middle;padding-left:5px;padding-right:5px;padding-top:5px;padding-bottom:5px;\"><div align=\"center\" style=\"display:block;padding-left:5px;padding-right:5px;padding-top:5px;padding-bottom:5px;\"><div style=\"display:inline-block;\"><span>$[\\![\\text{\\textbf{gray}}]\\!]^{}_{\\left\\langle{}e,t\\right\\rangle{}}$</span></div></div></div></div></div><div style=\"display:table-cell;vertical-align:middle;border-left:1px solid #848482;padding:0.5em\"><div style=\"white-space:nowrap; color:blue;\"><b>[<span>Lexicon</span>]</b></div></div></div><div align=\"center\" style=\"display:table-row;padding-left:5px;padding-right:5px;padding-top:5px;padding-bottom:5px;\"><div align=\"center\" style=\"display:table-cell;\"><div align=\"center\" style=\"display:block;padding-left:5px;padding-right:5px;padding-top:5px;padding-bottom:5px;\"><div style=\"display:inline-block;\"><span>$\\lambda{} x_{e} \\: . \\: {Gray}({x})$</span></div></div></div><div style=\"display:table-cell;\"></div></div></div></div><div style=\"align: center; vertical-align: middle; display: table-cell;\"><span style=\"padding:1em;\">*</span></div><div style=\"display:table-cell;vertical-align:middle;padding-left:5px;padding-right:5px;padding-top:5px;padding-bottom:5px;\"><div align=\"center\" style=\"display:table; margin:5px; border-collapse: collapse;border: 1px solid #848482;\"><div align=\"center\" style=\"display:table-row;border-bottom:1px solid #848482\"><div style=\"display:table-cell;vertical-align:middle;\"><div style=\"display: table;\"><div style=\"display:table-cell;vertical-align:middle;padding-left:5px;padding-right:5px;padding-top:5px;padding-bottom:5px;\"><div align=\"center\" style=\"display:table; margin:5px; border-collapse: collapse;border: 1px solid #848482;\"><div align=\"center\" style=\"display:table-row;border-bottom:1px solid #848482\"><div style=\"display:table-cell;vertical-align:middle;\"><div style=\"display: table;\"><div style=\"display:table-cell;vertical-align:middle;padding-left:5px;padding-right:5px;padding-top:5px;padding-bottom:5px;\"><div align=\"center\" style=\"display:block;padding-left:5px;padding-right:5px;padding-top:5px;padding-bottom:5px;\"><div style=\"display:inline-block;\"><span>$[\\![\\text{\\textbf{cat}}]\\!]^{}_{\\left\\langle{}e,t\\right\\rangle{}}$</span></div></div></div></div></div><div style=\"display:table-cell;vertical-align:middle;border-left:1px solid #848482;padding:0.5em\"><div style=\"white-space:nowrap; color:blue;\"><b>[<span>Lexicon</span>]</b></div></div></div><div align=\"center\" style=\"display:table-row;padding-left:5px;padding-right:5px;padding-top:5px;padding-bottom:5px;\"><div align=\"center\" style=\"display:table-cell;\"><div align=\"center\" style=\"display:block;padding-left:5px;padding-right:5px;padding-top:5px;padding-bottom:5px;\"><div style=\"display:inline-block;\"><span>$\\lambda{} x_{e} \\: . \\: {Cat}({x})$</span></div></div></div><div style=\"display:table-cell;\"></div></div></div></div></div></div><div style=\"display:table-cell;vertical-align:middle;border-left:1px solid #848482;padding:0.5em\"><div style=\"white-space:nowrap; color:blue;\"><b>[<span>NN</span>]</b></div></div></div><div align=\"center\" style=\"display:table-row;padding-left:5px;padding-right:5px;padding-top:5px;padding-bottom:5px;\"><div align=\"center\" style=\"display:table-cell;\"><div align=\"center\" style=\"display:block;padding-left:5px;padding-right:5px;padding-top:5px;padding-bottom:5px;\"><div style=\"display:table;table-layout:auto;\" align=\"center\"><div style=\"display:table-row;\"><div style=\"display:table-cell;padding-right:2px; padding-left:2px;\" align=\"center\"><div style=\"display:inline-block;\"><span>$[\\![\\text{\\textbf{N}}]\\!]^{}_{\\left\\langle{}e,t\\right\\rangle{}}$</span></div></div></div><div style=\"display:table-row;\"><div style=\"display:table-cell;padding-right:2px; padding-left:2px;\" align=\"center\"><div style=\"display:inline-block;\"><span>$\\lambda{} x_{e} \\: . \\: {Cat}({x})$</span></div></div></div></div></div></div><div style=\"display:table-cell;\"></div></div></div></div></div></div><div style=\"display:table-cell;vertical-align:middle;border-left:1px solid #848482;padding:0.5em\"><div style=\"white-space:nowrap; color:blue;\"><b>[<span>PM</span>]</b></div></div></div><div align=\"center\" style=\"display:table-row;padding-left:5px;padding-right:5px;padding-top:5px;padding-bottom:5px;\"><div align=\"center\" style=\"display:table-cell;\"><div align=\"center\" style=\"display:block;padding-left:5px;padding-right:5px;padding-top:5px;padding-bottom:5px;\"><div style=\"display:table;table-layout:auto;\" align=\"center\"><div style=\"display:table-row;\"><div style=\"display:table-cell;padding-right:2px; padding-left:2px;\" align=\"center\"><div style=\"display:inline-block;\"><span>$[\\![\\text{\\textbf{NP}}]\\!]^{}_{\\left\\langle{}e,t\\right\\rangle{}}$</span></div></div></div><div style=\"display:table-row;\"><div style=\"display:table-cell;padding-right:2px; padding-left:2px;\" align=\"center\"><div style=\"display:inline-block;\"><span>$\\lambda{} x_{e} \\: . \\: {Cat}({x}) \\wedge{} {Gray}({x})$</span></div></div></div></div></div></div><div style=\"display:table-cell;\"></div></div></div><br /><br />"
      ],
      "text/plain": [
       "1 composition path:<br /><div align=\"center\" style=\"display:table; margin:5px; border-collapse: collapse;border: 1px solid #848482;\"><div align=\"center\" style=\"display:table-row;border-bottom:1px solid #848482\"><div style=\"display:table-cell;vertical-align:middle;\"><div style=\"display: table;\"><div style=\"display:table-cell;vertical-align:middle;padding-left:5px;padding-right:5px;padding-top:5px;padding-bottom:5px;\"><div align=\"center\" style=\"display:table; margin:5px; border-collapse: collapse;border: 1px solid #848482;\"><div align=\"center\" style=\"display:table-row;border-bottom:1px solid #848482\"><div style=\"display:table-cell;vertical-align:middle;\"><div style=\"display: table;\"><div style=\"display:table-cell;vertical-align:middle;padding-left:5px;padding-right:5px;padding-top:5px;padding-bottom:5px;\"><div align=\"center\" style=\"display:block;padding-left:5px;padding-right:5px;padding-top:5px;padding-bottom:5px;\"><div style=\"display:inline-block;\"><span>$[\\![\\text{\\textbf{gray}}]\\!]^{}_{\\left\\langle{}e,t\\right\\rangle{}}$</span></div></div></div></div></div><div style=\"display:table-cell;vertical-align:middle;border-left:1px solid #848482;padding:0.5em\"><div style=\"white-space:nowrap; color:blue;\"><b>[<span>Lexicon</span>]</b></div></div></div><div align=\"center\" style=\"display:table-row;padding-left:5px;padding-right:5px;padding-top:5px;padding-bottom:5px;\"><div align=\"center\" style=\"display:table-cell;\"><div align=\"center\" style=\"display:block;padding-left:5px;padding-right:5px;padding-top:5px;padding-bottom:5px;\"><div style=\"display:inline-block;\"><span>$\\lambda{} x_{e} \\: . \\: {Gray}({x})$</span></div></div></div><div style=\"display:table-cell;\"></div></div></div></div><div style=\"align: center; vertical-align: middle; display: table-cell;\"><span style=\"padding:1em;\">*</span></div><div style=\"display:table-cell;vertical-align:middle;padding-left:5px;padding-right:5px;padding-top:5px;padding-bottom:5px;\"><div align=\"center\" style=\"display:table; margin:5px; border-collapse: collapse;border: 1px solid #848482;\"><div align=\"center\" style=\"display:table-row;border-bottom:1px solid #848482\"><div style=\"display:table-cell;vertical-align:middle;\"><div style=\"display: table;\"><div style=\"display:table-cell;vertical-align:middle;padding-left:5px;padding-right:5px;padding-top:5px;padding-bottom:5px;\"><div align=\"center\" style=\"display:table; margin:5px; border-collapse: collapse;border: 1px solid #848482;\"><div align=\"center\" style=\"display:table-row;border-bottom:1px solid #848482\"><div style=\"display:table-cell;vertical-align:middle;\"><div style=\"display: table;\"><div style=\"display:table-cell;vertical-align:middle;padding-left:5px;padding-right:5px;padding-top:5px;padding-bottom:5px;\"><div align=\"center\" style=\"display:block;padding-left:5px;padding-right:5px;padding-top:5px;padding-bottom:5px;\"><div style=\"display:inline-block;\"><span>$[\\![\\text{\\textbf{cat}}]\\!]^{}_{\\left\\langle{}e,t\\right\\rangle{}}$</span></div></div></div></div></div><div style=\"display:table-cell;vertical-align:middle;border-left:1px solid #848482;padding:0.5em\"><div style=\"white-space:nowrap; color:blue;\"><b>[<span>Lexicon</span>]</b></div></div></div><div align=\"center\" style=\"display:table-row;padding-left:5px;padding-right:5px;padding-top:5px;padding-bottom:5px;\"><div align=\"center\" style=\"display:table-cell;\"><div align=\"center\" style=\"display:block;padding-left:5px;padding-right:5px;padding-top:5px;padding-bottom:5px;\"><div style=\"display:inline-block;\"><span>$\\lambda{} x_{e} \\: . \\: {Cat}({x})$</span></div></div></div><div style=\"display:table-cell;\"></div></div></div></div></div></div><div style=\"display:table-cell;vertical-align:middle;border-left:1px solid #848482;padding:0.5em\"><div style=\"white-space:nowrap; color:blue;\"><b>[<span>NN</span>]</b></div></div></div><div align=\"center\" style=\"display:table-row;padding-left:5px;padding-right:5px;padding-top:5px;padding-bottom:5px;\"><div align=\"center\" style=\"display:table-cell;\"><div align=\"center\" style=\"display:block;padding-left:5px;padding-right:5px;padding-top:5px;padding-bottom:5px;\"><div style=\"display:table;table-layout:auto;\" align=\"center\"><div style=\"display:table-row;\"><div style=\"display:table-cell;padding-right:2px; padding-left:2px;\" align=\"center\"><div style=\"display:inline-block;\"><span>$[\\![\\text{\\textbf{N}}]\\!]^{}_{\\left\\langle{}e,t\\right\\rangle{}}$</span></div></div></div><div style=\"display:table-row;\"><div style=\"display:table-cell;padding-right:2px; padding-left:2px;\" align=\"center\"><div style=\"display:inline-block;\"><span>$\\lambda{} x_{e} \\: . \\: {Cat}({x})$</span></div></div></div></div></div></div><div style=\"display:table-cell;\"></div></div></div></div></div></div><div style=\"display:table-cell;vertical-align:middle;border-left:1px solid #848482;padding:0.5em\"><div style=\"white-space:nowrap; color:blue;\"><b>[<span>PM</span>]</b></div></div></div><div align=\"center\" style=\"display:table-row;padding-left:5px;padding-right:5px;padding-top:5px;padding-bottom:5px;\"><div align=\"center\" style=\"display:table-cell;\"><div align=\"center\" style=\"display:block;padding-left:5px;padding-right:5px;padding-top:5px;padding-bottom:5px;\"><div style=\"display:table;table-layout:auto;\" align=\"center\"><div style=\"display:table-row;\"><div style=\"display:table-cell;padding-right:2px; padding-left:2px;\" align=\"center\"><div style=\"display:inline-block;\"><span>$[\\![\\text{\\textbf{NP}}]\\!]^{}_{\\left\\langle{}e,t\\right\\rangle{}}$</span></div></div></div><div style=\"display:table-row;\"><div style=\"display:table-cell;padding-right:2px; padding-left:2px;\" align=\"center\"><div style=\"display:inline-block;\"><span>$\\lambda{} x_{e} \\: . \\: {Cat}({x}) \\wedge{} {Gray}({x})$</span></div></div></div></div></div></div><div style=\"display:table-cell;\"></div></div></div><br /><br />"
      ]
     },
     "execution_count": 59,
     "metadata": {},
     "output_type": "execute_result"
    }
   ],
   "source": [
    "r.paths()"
   ]
  },
  {
   "cell_type": "markdown",
   "metadata": {},
   "source": [
    "&nbsp;\n",
    "\n",
    "## Some future projects, non-exhaustive ##\n",
    "\n",
    "* complete fragment of Heim and Kratzer\n",
    "* In general: more fragments!\n",
    "* extend fragment coverage.  Some interesting targets where interactivity would be useful to understanding:\n",
    "  * Compositional hamblin semantics (partial)\n",
    "  * Compositional DRT (partial)\n",
    "  * QR\n",
    "* underlying model theory.\n",
    "* various improvements to the graphics -- trees (d3? graphviz?), interactive widgets, ...\n",
    "* full latex output (trees in tikz-qtree and so on).\n",
    "\n",
    "Longer term:\n",
    "\n",
    "* integration with SymPy (?)\n",
    "* deeper integration with nltk.\n",
    "* parsing that makes less use of python `eval`, and is generally less ad-hoc.\n",
    "  * this is an issue where in principle, a language like Haskell is a better choice than python.  But I think the usability / robustness of python and its libraries has the edge here overall, not to mention ipython notebook...\n",
    "* toy spatial language system\n",
    "* side-by-side comparison of e.g. multiple analyses of presupposition projection"
   ]
  },
  {
   "cell_type": "code",
   "execution_count": null,
   "metadata": {},
   "outputs": [],
   "source": []
  }
 ],
 "metadata": {
  "kernelspec": {
   "display_name": "Lambda Notebook (Python 3)",
   "language": "python",
   "name": "lambda-notebook"
  },
  "language_info": {
   "codemirror_mode": {
    "name": "ipython",
    "version": 3
   },
   "file_extension": ".py",
   "mimetype": "text/x-python",
   "name": "python",
   "nbconvert_exporter": "python",
   "pygments_lexer": "ipython3",
   "version": "3.12.0"
  }
 },
 "nbformat": 4,
 "nbformat_minor": 4
}
