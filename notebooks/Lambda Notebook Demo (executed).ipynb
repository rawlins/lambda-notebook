{
 "cells": [
  {
   "cell_type": "markdown",
   "metadata": {},
   "source": [
    "# Lambda notebook demo v. 1.0.1\n",
    "## Author: Kyle Rawlins\n",
    "\n",
    "This notebook provides a demo of the core capabilities of the lambda notebook, aimed at linguists who already have training in semantics (but not necessarily implemented semantics).\n",
    "\n",
    "Last updated Dec 2018. Version history:\n",
    "\n",
    " * 0.5: first version\n",
    " * 0.6: updated to work with refactored class hierarchy (Apr 2013)\n",
    " * 0.6.1: small fixes to adapt to changes in various places (Sep 2013)\n",
    " * 0.7: various fixes to work with alpha release (Jan 2014)\n",
    " * 0.9: substantial updates, merge content from LSA poster (Apr 2014)\n",
    " * 0.95: substantial updates for a series of demos in Apr-May 2014\n",
    " * 1.0: various changes / fixes, more stand-alone text (2017)\n",
    " * 1.0.1: small tweaks (Nov/Dec 2018)\n",
    " \n",
    "To run through this demo incrementally, use shift-enter (runs and moves to next cell).  If you run things out of order, you may encounter problems (missing variables etc.)"
   ]
  },
  {
   "cell_type": "code",
   "execution_count": 1,
   "metadata": {
    "execution": {
     "iopub.execute_input": "2022-07-19T19:25:45.888629Z",
     "iopub.status.busy": "2022-07-19T19:25:45.888173Z",
     "iopub.status.idle": "2022-07-19T19:25:45.916991Z",
     "shell.execute_reply": "2022-07-19T19:25:45.915800Z"
    }
   },
   "outputs": [],
   "source": [
    "reload_lamb()\n",
    "from lamb.types import TypeMismatch, type_e, type_t, type_property\n",
    "from lamb.meta import TypedTerm, TypedExpr, LFun, CustomTerm\n",
    "from IPython.display import display"
   ]
  },
  {
   "cell_type": "code",
   "execution_count": 2,
   "metadata": {
    "execution": {
     "iopub.execute_input": "2022-07-19T19:25:45.919898Z",
     "iopub.status.busy": "2022-07-19T19:25:45.919668Z",
     "iopub.status.idle": "2022-07-19T19:25:45.923364Z",
     "shell.execute_reply": "2022-07-19T19:25:45.922653Z"
    }
   },
   "outputs": [],
   "source": [
    "# Just some basic configuration\n",
    "meta.constants_use_custom(False)\n",
    "lang.bracket_setting = lang.BRACKET_FANCY\n",
    "lamb.display.default(style=lamb.display.DerivStyle.BOXES) # you can also try lamb.display.DerivStyle.PROOF"
   ]
  },
  {
   "cell_type": "markdown",
   "metadata": {},
   "source": [
    "# First pitch\n",
    "\n",
    "Have you ever wanted to type something like this in, and have it actually do something?"
   ]
  },
  {
   "cell_type": "code",
   "execution_count": 3,
   "metadata": {
    "execution": {
     "iopub.execute_input": "2022-07-19T19:25:45.925955Z",
     "iopub.status.busy": "2022-07-19T19:25:45.925752Z",
     "iopub.status.idle": "2022-07-19T19:25:45.939208Z",
     "shell.execute_reply": "2022-07-19T19:25:45.938641Z"
    }
   },
   "outputs": [
    {
     "name": "stdout",
     "output_type": "stream",
     "text": [
      "INFO (core): Coerced guessed type for 'Student_t' into <e,t>, to match argument 'x_e'\n",
      "INFO (core): Coerced guessed type for 'Danced_t' into <e,t>, to match argument 'x_e'\n"
     ]
    },
    {
     "data": {
      "text/html": [
       "$[\\![\\mathbf{\\text{every}}]\\!]^{}_{\\left\\langle{}\\left\\langle{}e,t\\right\\rangle{},\\left\\langle{}\\left\\langle{}e,t\\right\\rangle{},t\\right\\rangle{}\\right\\rangle{}} \\:=\\: $$\\lambda{} f_{\\left\\langle{}e,t\\right\\rangle{}} \\: . \\: \\lambda{} g_{\\left\\langle{}e,t\\right\\rangle{}} \\: . \\: \\forall{} x_{e} \\: . \\: ({f}({x}) \\rightarrow{} {g}({x}))$<br />\n",
       "$[\\![\\mathbf{\\text{student}}]\\!]^{}_{\\left\\langle{}e,t\\right\\rangle{}} \\:=\\: $$\\lambda{} x_{e} \\: . \\: {Student}({x})$<br />\n",
       "$[\\![\\mathbf{\\text{danced}}]\\!]^{}_{\\left\\langle{}e,t\\right\\rangle{}} \\:=\\: $$\\lambda{} x_{e} \\: . \\: {Danced}({x})$"
      ],
      "text/latex": [
       "$[\\![\\mathbf{\\text{every}}]\\!]^{}_{\\left\\langle{}\\left\\langle{}e,t\\right\\rangle{},\\left\\langle{}\\left\\langle{}e,t\\right\\rangle{},t\\right\\rangle{}\\right\\rangle{}} \\:=\\: $$\\lambda{} f_{\\left\\langle{}e,t\\right\\rangle{}} \\: . \\: \\lambda{} g_{\\left\\langle{}e,t\\right\\rangle{}} \\: . \\: \\forall{} x_{e} \\: . \\: ({f}({x}) \\rightarrow{} {g}({x}))$<br />\n",
       "$[\\![\\mathbf{\\text{student}}]\\!]^{}_{\\left\\langle{}e,t\\right\\rangle{}} \\:=\\: $$\\lambda{} x_{e} \\: . \\: {Student}({x})$<br />\n",
       "$[\\![\\mathbf{\\text{danced}}]\\!]^{}_{\\left\\langle{}e,t\\right\\rangle{}} \\:=\\: $$\\lambda{} x_{e} \\: . \\: {Danced}({x})$"
      ],
      "text/plain": [
       "$[\\![\\mathbf{\\text{every}}]\\!]^{}_{\\left\\langle{}\\left\\langle{}e,t\\right\\rangle{},\\left\\langle{}\\left\\langle{}e,t\\right\\rangle{},t\\right\\rangle{}\\right\\rangle{}} \\:=\\: $$\\lambda{} f_{\\left\\langle{}e,t\\right\\rangle{}} \\: . \\: \\lambda{} g_{\\left\\langle{}e,t\\right\\rangle{}} \\: . \\: \\forall{} x_{e} \\: . \\: ({f}({x}) \\rightarrow{} {g}({x}))$<br />\n",
       "$[\\![\\mathbf{\\text{student}}]\\!]^{}_{\\left\\langle{}e,t\\right\\rangle{}} \\:=\\: $$\\lambda{} x_{e} \\: . \\: {Student}({x})$<br />\n",
       "$[\\![\\mathbf{\\text{danced}}]\\!]^{}_{\\left\\langle{}e,t\\right\\rangle{}} \\:=\\: $$\\lambda{} x_{e} \\: . \\: {Danced}({x})$"
      ]
     },
     "metadata": {},
     "output_type": "display_data"
    }
   ],
   "source": [
    "%%lamb\n",
    "||every|| = λ f_<e,t> : λ g_<e,t> : Forall x_e : f(x) >> g(x)\n",
    "||student|| = L x_e : Student(x)\n",
    "||danced|| = L x_e : Danced(x)"
   ]
  },
  {
   "cell_type": "code",
   "execution_count": 4,
   "metadata": {
    "execution": {
     "iopub.execute_input": "2022-07-19T19:25:45.956696Z",
     "iopub.status.busy": "2022-07-19T19:25:45.956486Z",
     "iopub.status.idle": "2022-07-19T19:25:45.964056Z",
     "shell.execute_reply": "2022-07-19T19:25:45.963453Z"
    }
   },
   "outputs": [
    {
     "data": {
      "text/html": [
       "1 composition path.  Result:\n",
       "<br />&nbsp;&nbsp;&nbsp;&nbsp;[0]: $[\\![\\mathbf{\\text{[[every student] danced]}}]\\!]^{}_{t} \\:=\\: $$\\forall{} x_{e} \\: . \\: ({Student}({x}) \\rightarrow{} {Danced}({x}))$"
      ],
      "text/plain": [
       "CompositionResult(results=[⟦[[every student] danced]⟧ = (Forall x_e: (Student_<e,t>(x_e) >> Danced_<e,t>(x_e)))], failures=[⟦[danced [every student]]⟧ = Type mismatch: '⟦danced⟧ = (λ x_e: Danced_<e,t>(x_e))'/<e,t> and '⟦[every student]⟧ = (λ g_<e,t>: (Forall x_e: (Student_<e,t>(x_e) >> g_<e,t>(x_e))))'/<<e,t>,t> conflict (Function Application), ⟦[[every student] danced]⟧ = Type mismatch: '⟦[every student]⟧ = (λ g_<e,t>: (Forall x_e: (Student_<e,t>(x_e) >> g_<e,t>(x_e))))'/<<e,t>,t> and '⟦danced⟧ = (λ x_e: Danced_<e,t>(x_e))'/<e,t> conflict (Predicate Modification), ⟦[[every student] danced]⟧ = Composition failure (PA requires a valid binder) on: ⟦[every student]⟧ = (λ g_<e,t>: (Forall x_e: (Student_<e,t>(x_e) >> g_<e,t>(x_e)))) * ⟦danced⟧ = (λ x_e: Danced_<e,t>(x_e)), ⟦[danced [every student]]⟧ = Composition failure (PA requires a valid binder) on: ⟦danced⟧ = (λ x_e: Danced_<e,t>(x_e)) * ⟦[every student]⟧ = (λ g_<e,t>: (Forall x_e: (Student_<e,t>(x_e) >> g_<e,t>(x_e)))), ⟦[[every student] danced]⟧ = Type mismatch: '⟦[every student]⟧ = (λ g_<e,t>: (Forall x_e: (Student_<e,t>(x_e) >> g_<e,t>(x_e))))'/<<e,t>,t> and '⟦danced⟧ = (λ x_e: Danced_<e,t>(x_e))'/<e,t> conflict (Need at least one fully vacuous element)])"
      ]
     },
     "execution_count": 4,
     "metadata": {},
     "output_type": "execute_result"
    }
   ],
   "source": [
    "r = ((every * student) * danced)\n",
    "r"
   ]
  },
  {
   "cell_type": "code",
   "execution_count": 5,
   "metadata": {
    "execution": {
     "iopub.execute_input": "2022-07-19T19:25:45.966462Z",
     "iopub.status.busy": "2022-07-19T19:25:45.966260Z",
     "iopub.status.idle": "2022-07-19T19:25:45.971691Z",
     "shell.execute_reply": "2022-07-19T19:25:45.971000Z"
    }
   },
   "outputs": [
    {
     "data": {
      "text/html": [
       "1 composition path:<br /><div align=\"center\" style=\"display:table; margin:5px; border-collapse: collapse;border: 1px solid #848482;\"><div align=\"center\" style=\"display:table-row;border-bottom:1px solid #848482\"><div style=\"display:table-cell;vertical-align:middle;\"><div style=\"display: table;\"><div style=\"display:table-cell;vertical-align:middle;padding-left:5px;padding-right:5px;padding-top:5px;padding-bottom:5px;\"><div align=\"center\" style=\"display:table; margin:5px; border-collapse: collapse;border: 1px solid #848482;\"><div align=\"center\" style=\"display:table-row;border-bottom:1px solid #848482\"><div style=\"display:table-cell;vertical-align:middle;\"><div style=\"display: table;\"><div style=\"display:table-cell;vertical-align:middle;padding-left:5px;padding-right:5px;padding-top:5px;padding-bottom:5px;\"><div align=\"center\" style=\"display:block;padding-left:5px;padding-right:5px;padding-top:5px;padding-bottom:5px;\"><div style=\"display:table;table-layout:auto;\" align=\"center\"><div style=\"display:table-row;\"><div style=\"display:table-cell;padding-right:2px; padding-left:2px;\" align=\"center\"><div style=\"display:inline-block;\"><span>$[\\![\\mathbf{\\text{every}}]\\!]^{}_{\\left\\langle{}\\left\\langle{}e,t\\right\\rangle{},\\left\\langle{}\\left\\langle{}e,t\\right\\rangle{},t\\right\\rangle{}\\right\\rangle{}}$</span></div></div></div><div style=\"display:table-row;\"><div style=\"display:table-cell;padding-right:2px; padding-left:2px;\" align=\"center\"><div style=\"display:inline-block;\"><span>$\\lambda{} f_{\\left\\langle{}e,t\\right\\rangle{}} \\: . \\: \\lambda{} g_{\\left\\langle{}e,t\\right\\rangle{}} \\: . \\: \\forall{} x_{e} \\: . \\: ({f}({x}) \\rightarrow{} {g}({x}))$</span></div></div></div></div></div></div><div style=\"align: center; vertical-align: middle; display: table-cell;\"><span style=\"padding:1em;\">*</span></div><div style=\"display:table-cell;vertical-align:middle;padding-left:5px;padding-right:5px;padding-top:5px;padding-bottom:5px;\"><div align=\"center\" style=\"display:block;padding-left:5px;padding-right:5px;padding-top:5px;padding-bottom:5px;\"><div style=\"display:table;table-layout:auto;\" align=\"center\"><div style=\"display:table-row;\"><div style=\"display:table-cell;padding-right:2px; padding-left:2px;\" align=\"center\"><div style=\"display:inline-block;\"><span>$[\\![\\mathbf{\\text{student}}]\\!]^{}_{\\left\\langle{}e,t\\right\\rangle{}}$</span></div></div></div><div style=\"display:table-row;\"><div style=\"display:table-cell;padding-right:2px; padding-left:2px;\" align=\"center\"><div style=\"display:inline-block;\"><span>$\\lambda{} x_{e} \\: . \\: {Student}({x})$</span></div></div></div></div></div></div></div></div><div style=\"display:table-cell;vertical-align:middle;border-left:1px solid #848482;padding:0.5em\"><div style=\"white-space:nowrap; color:blue;\"><b>[<div style=\"display:inline-block;\"><span>FA</span></div>]</b></div></div></div><div align=\"center\" style=\"display:table-row;padding-left:5px;padding-right:5px;padding-top:5px;padding-bottom:5px;\"><div align=\"center\" style=\"display:table-cell;\"><div align=\"center\" style=\"display:block;padding-left:5px;padding-right:5px;padding-top:5px;padding-bottom:5px;\"><div style=\"display:table;table-layout:auto;\" align=\"center\"><div style=\"display:table-row;\"><div style=\"display:table-cell;padding-right:2px; padding-left:2px;\" align=\"center\"><div style=\"display:inline-block;\"><span>$[\\![\\mathbf{\\text{[every student]}}]\\!]^{}_{\\left\\langle{}\\left\\langle{}e,t\\right\\rangle{},t\\right\\rangle{}}$</span></div></div></div><div style=\"display:table-row;\"><div style=\"display:table-cell;padding-right:2px; padding-left:2px;\" align=\"center\"><div style=\"display:inline-block;\"><span>$\\lambda{} g_{\\left\\langle{}e,t\\right\\rangle{}} \\: . \\: \\forall{} x_{e} \\: . \\: ({Student}({x}) \\rightarrow{} {g}({x}))$</span></div></div></div></div></div></div><div style=\"display:table-cell;\"></div></div></div></div><div style=\"align: center; vertical-align: middle; display: table-cell;\"><span style=\"padding:1em;\">*</span></div><div style=\"display:table-cell;vertical-align:middle;padding-left:5px;padding-right:5px;padding-top:5px;padding-bottom:5px;\"><div align=\"center\" style=\"display:block;padding-left:5px;padding-right:5px;padding-top:5px;padding-bottom:5px;\"><div style=\"display:table;table-layout:auto;\" align=\"center\"><div style=\"display:table-row;\"><div style=\"display:table-cell;padding-right:2px; padding-left:2px;\" align=\"center\"><div style=\"display:inline-block;\"><span>$[\\![\\mathbf{\\text{danced}}]\\!]^{}_{\\left\\langle{}e,t\\right\\rangle{}}$</span></div></div></div><div style=\"display:table-row;\"><div style=\"display:table-cell;padding-right:2px; padding-left:2px;\" align=\"center\"><div style=\"display:inline-block;\"><span>$\\lambda{} x_{e} \\: . \\: {Danced}({x})$</span></div></div></div></div></div></div></div></div><div style=\"display:table-cell;vertical-align:middle;border-left:1px solid #848482;padding:0.5em\"><div style=\"white-space:nowrap; color:blue;\"><b>[<div style=\"display:inline-block;\"><span>FA</span></div>]</b></div></div></div><div align=\"center\" style=\"display:table-row;padding-left:5px;padding-right:5px;padding-top:5px;padding-bottom:5px;\"><div align=\"center\" style=\"display:table-cell;\"><div align=\"center\" style=\"display:block;padding-left:5px;padding-right:5px;padding-top:5px;padding-bottom:5px;\"><div style=\"display:table;table-layout:auto;\" align=\"center\"><div style=\"display:table-row;\"><div style=\"display:table-cell;padding-right:2px; padding-left:2px;\" align=\"center\"><div style=\"display:inline-block;\"><span>$[\\![\\mathbf{\\text{[[every student] danced]}}]\\!]^{}_{t}$</span></div></div></div><div style=\"display:table-row;\"><div style=\"display:table-cell;padding-right:2px; padding-left:2px;\" align=\"center\"><div style=\"display:inline-block;\"><span>$\\forall{} x_{e} \\: . \\: ({Student}({x}) \\rightarrow{} {Danced}({x}))$</span></div></div></div></div></div></div><div style=\"display:table-cell;\"></div></div></div><br /><br />"
      ],
      "text/latex": [
       "1 composition path:<br /><div align=\"center\" style=\"display:table; margin:5px; border-collapse: collapse;border: 1px solid #848482;\"><div align=\"center\" style=\"display:table-row;border-bottom:1px solid #848482\"><div style=\"display:table-cell;vertical-align:middle;\"><div style=\"display: table;\"><div style=\"display:table-cell;vertical-align:middle;padding-left:5px;padding-right:5px;padding-top:5px;padding-bottom:5px;\"><div align=\"center\" style=\"display:table; margin:5px; border-collapse: collapse;border: 1px solid #848482;\"><div align=\"center\" style=\"display:table-row;border-bottom:1px solid #848482\"><div style=\"display:table-cell;vertical-align:middle;\"><div style=\"display: table;\"><div style=\"display:table-cell;vertical-align:middle;padding-left:5px;padding-right:5px;padding-top:5px;padding-bottom:5px;\"><div align=\"center\" style=\"display:block;padding-left:5px;padding-right:5px;padding-top:5px;padding-bottom:5px;\"><div style=\"display:table;table-layout:auto;\" align=\"center\"><div style=\"display:table-row;\"><div style=\"display:table-cell;padding-right:2px; padding-left:2px;\" align=\"center\"><div style=\"display:inline-block;\"><span>$[\\![\\mathbf{\\text{every}}]\\!]^{}_{\\left\\langle{}\\left\\langle{}e,t\\right\\rangle{},\\left\\langle{}\\left\\langle{}e,t\\right\\rangle{},t\\right\\rangle{}\\right\\rangle{}}$</span></div></div></div><div style=\"display:table-row;\"><div style=\"display:table-cell;padding-right:2px; padding-left:2px;\" align=\"center\"><div style=\"display:inline-block;\"><span>$\\lambda{} f_{\\left\\langle{}e,t\\right\\rangle{}} \\: . \\: \\lambda{} g_{\\left\\langle{}e,t\\right\\rangle{}} \\: . \\: \\forall{} x_{e} \\: . \\: ({f}({x}) \\rightarrow{} {g}({x}))$</span></div></div></div></div></div></div><div style=\"align: center; vertical-align: middle; display: table-cell;\"><span style=\"padding:1em;\">*</span></div><div style=\"display:table-cell;vertical-align:middle;padding-left:5px;padding-right:5px;padding-top:5px;padding-bottom:5px;\"><div align=\"center\" style=\"display:block;padding-left:5px;padding-right:5px;padding-top:5px;padding-bottom:5px;\"><div style=\"display:table;table-layout:auto;\" align=\"center\"><div style=\"display:table-row;\"><div style=\"display:table-cell;padding-right:2px; padding-left:2px;\" align=\"center\"><div style=\"display:inline-block;\"><span>$[\\![\\mathbf{\\text{student}}]\\!]^{}_{\\left\\langle{}e,t\\right\\rangle{}}$</span></div></div></div><div style=\"display:table-row;\"><div style=\"display:table-cell;padding-right:2px; padding-left:2px;\" align=\"center\"><div style=\"display:inline-block;\"><span>$\\lambda{} x_{e} \\: . \\: {Student}({x})$</span></div></div></div></div></div></div></div></div><div style=\"display:table-cell;vertical-align:middle;border-left:1px solid #848482;padding:0.5em\"><div style=\"white-space:nowrap; color:blue;\"><b>[<div style=\"display:inline-block;\"><span>FA</span></div>]</b></div></div></div><div align=\"center\" style=\"display:table-row;padding-left:5px;padding-right:5px;padding-top:5px;padding-bottom:5px;\"><div align=\"center\" style=\"display:table-cell;\"><div align=\"center\" style=\"display:block;padding-left:5px;padding-right:5px;padding-top:5px;padding-bottom:5px;\"><div style=\"display:table;table-layout:auto;\" align=\"center\"><div style=\"display:table-row;\"><div style=\"display:table-cell;padding-right:2px; padding-left:2px;\" align=\"center\"><div style=\"display:inline-block;\"><span>$[\\![\\mathbf{\\text{[every student]}}]\\!]^{}_{\\left\\langle{}\\left\\langle{}e,t\\right\\rangle{},t\\right\\rangle{}}$</span></div></div></div><div style=\"display:table-row;\"><div style=\"display:table-cell;padding-right:2px; padding-left:2px;\" align=\"center\"><div style=\"display:inline-block;\"><span>$\\lambda{} g_{\\left\\langle{}e,t\\right\\rangle{}} \\: . \\: \\forall{} x_{e} \\: . \\: ({Student}({x}) \\rightarrow{} {g}({x}))$</span></div></div></div></div></div></div><div style=\"display:table-cell;\"></div></div></div></div><div style=\"align: center; vertical-align: middle; display: table-cell;\"><span style=\"padding:1em;\">*</span></div><div style=\"display:table-cell;vertical-align:middle;padding-left:5px;padding-right:5px;padding-top:5px;padding-bottom:5px;\"><div align=\"center\" style=\"display:block;padding-left:5px;padding-right:5px;padding-top:5px;padding-bottom:5px;\"><div style=\"display:table;table-layout:auto;\" align=\"center\"><div style=\"display:table-row;\"><div style=\"display:table-cell;padding-right:2px; padding-left:2px;\" align=\"center\"><div style=\"display:inline-block;\"><span>$[\\![\\mathbf{\\text{danced}}]\\!]^{}_{\\left\\langle{}e,t\\right\\rangle{}}$</span></div></div></div><div style=\"display:table-row;\"><div style=\"display:table-cell;padding-right:2px; padding-left:2px;\" align=\"center\"><div style=\"display:inline-block;\"><span>$\\lambda{} x_{e} \\: . \\: {Danced}({x})$</span></div></div></div></div></div></div></div></div><div style=\"display:table-cell;vertical-align:middle;border-left:1px solid #848482;padding:0.5em\"><div style=\"white-space:nowrap; color:blue;\"><b>[<div style=\"display:inline-block;\"><span>FA</span></div>]</b></div></div></div><div align=\"center\" style=\"display:table-row;padding-left:5px;padding-right:5px;padding-top:5px;padding-bottom:5px;\"><div align=\"center\" style=\"display:table-cell;\"><div align=\"center\" style=\"display:block;padding-left:5px;padding-right:5px;padding-top:5px;padding-bottom:5px;\"><div style=\"display:table;table-layout:auto;\" align=\"center\"><div style=\"display:table-row;\"><div style=\"display:table-cell;padding-right:2px; padding-left:2px;\" align=\"center\"><div style=\"display:inline-block;\"><span>$[\\![\\mathbf{\\text{[[every student] danced]}}]\\!]^{}_{t}$</span></div></div></div><div style=\"display:table-row;\"><div style=\"display:table-cell;padding-right:2px; padding-left:2px;\" align=\"center\"><div style=\"display:inline-block;\"><span>$\\forall{} x_{e} \\: . \\: ({Student}({x}) \\rightarrow{} {Danced}({x}))$</span></div></div></div></div></div></div><div style=\"display:table-cell;\"></div></div></div><br /><br />"
      ],
      "text/plain": [
       "1 composition path:<br /><div align=\"center\" style=\"display:table; margin:5px; border-collapse: collapse;border: 1px solid #848482;\"><div align=\"center\" style=\"display:table-row;border-bottom:1px solid #848482\"><div style=\"display:table-cell;vertical-align:middle;\"><div style=\"display: table;\"><div style=\"display:table-cell;vertical-align:middle;padding-left:5px;padding-right:5px;padding-top:5px;padding-bottom:5px;\"><div align=\"center\" style=\"display:table; margin:5px; border-collapse: collapse;border: 1px solid #848482;\"><div align=\"center\" style=\"display:table-row;border-bottom:1px solid #848482\"><div style=\"display:table-cell;vertical-align:middle;\"><div style=\"display: table;\"><div style=\"display:table-cell;vertical-align:middle;padding-left:5px;padding-right:5px;padding-top:5px;padding-bottom:5px;\"><div align=\"center\" style=\"display:block;padding-left:5px;padding-right:5px;padding-top:5px;padding-bottom:5px;\"><div style=\"display:table;table-layout:auto;\" align=\"center\"><div style=\"display:table-row;\"><div style=\"display:table-cell;padding-right:2px; padding-left:2px;\" align=\"center\"><div style=\"display:inline-block;\"><span>$[\\![\\mathbf{\\text{every}}]\\!]^{}_{\\left\\langle{}\\left\\langle{}e,t\\right\\rangle{},\\left\\langle{}\\left\\langle{}e,t\\right\\rangle{},t\\right\\rangle{}\\right\\rangle{}}$</span></div></div></div><div style=\"display:table-row;\"><div style=\"display:table-cell;padding-right:2px; padding-left:2px;\" align=\"center\"><div style=\"display:inline-block;\"><span>$\\lambda{} f_{\\left\\langle{}e,t\\right\\rangle{}} \\: . \\: \\lambda{} g_{\\left\\langle{}e,t\\right\\rangle{}} \\: . \\: \\forall{} x_{e} \\: . \\: ({f}({x}) \\rightarrow{} {g}({x}))$</span></div></div></div></div></div></div><div style=\"align: center; vertical-align: middle; display: table-cell;\"><span style=\"padding:1em;\">*</span></div><div style=\"display:table-cell;vertical-align:middle;padding-left:5px;padding-right:5px;padding-top:5px;padding-bottom:5px;\"><div align=\"center\" style=\"display:block;padding-left:5px;padding-right:5px;padding-top:5px;padding-bottom:5px;\"><div style=\"display:table;table-layout:auto;\" align=\"center\"><div style=\"display:table-row;\"><div style=\"display:table-cell;padding-right:2px; padding-left:2px;\" align=\"center\"><div style=\"display:inline-block;\"><span>$[\\![\\mathbf{\\text{student}}]\\!]^{}_{\\left\\langle{}e,t\\right\\rangle{}}$</span></div></div></div><div style=\"display:table-row;\"><div style=\"display:table-cell;padding-right:2px; padding-left:2px;\" align=\"center\"><div style=\"display:inline-block;\"><span>$\\lambda{} x_{e} \\: . \\: {Student}({x})$</span></div></div></div></div></div></div></div></div><div style=\"display:table-cell;vertical-align:middle;border-left:1px solid #848482;padding:0.5em\"><div style=\"white-space:nowrap; color:blue;\"><b>[<div style=\"display:inline-block;\"><span>FA</span></div>]</b></div></div></div><div align=\"center\" style=\"display:table-row;padding-left:5px;padding-right:5px;padding-top:5px;padding-bottom:5px;\"><div align=\"center\" style=\"display:table-cell;\"><div align=\"center\" style=\"display:block;padding-left:5px;padding-right:5px;padding-top:5px;padding-bottom:5px;\"><div style=\"display:table;table-layout:auto;\" align=\"center\"><div style=\"display:table-row;\"><div style=\"display:table-cell;padding-right:2px; padding-left:2px;\" align=\"center\"><div style=\"display:inline-block;\"><span>$[\\![\\mathbf{\\text{[every student]}}]\\!]^{}_{\\left\\langle{}\\left\\langle{}e,t\\right\\rangle{},t\\right\\rangle{}}$</span></div></div></div><div style=\"display:table-row;\"><div style=\"display:table-cell;padding-right:2px; padding-left:2px;\" align=\"center\"><div style=\"display:inline-block;\"><span>$\\lambda{} g_{\\left\\langle{}e,t\\right\\rangle{}} \\: . \\: \\forall{} x_{e} \\: . \\: ({Student}({x}) \\rightarrow{} {g}({x}))$</span></div></div></div></div></div></div><div style=\"display:table-cell;\"></div></div></div></div><div style=\"align: center; vertical-align: middle; display: table-cell;\"><span style=\"padding:1em;\">*</span></div><div style=\"display:table-cell;vertical-align:middle;padding-left:5px;padding-right:5px;padding-top:5px;padding-bottom:5px;\"><div align=\"center\" style=\"display:block;padding-left:5px;padding-right:5px;padding-top:5px;padding-bottom:5px;\"><div style=\"display:table;table-layout:auto;\" align=\"center\"><div style=\"display:table-row;\"><div style=\"display:table-cell;padding-right:2px; padding-left:2px;\" align=\"center\"><div style=\"display:inline-block;\"><span>$[\\![\\mathbf{\\text{danced}}]\\!]^{}_{\\left\\langle{}e,t\\right\\rangle{}}$</span></div></div></div><div style=\"display:table-row;\"><div style=\"display:table-cell;padding-right:2px; padding-left:2px;\" align=\"center\"><div style=\"display:inline-block;\"><span>$\\lambda{} x_{e} \\: . \\: {Danced}({x})$</span></div></div></div></div></div></div></div></div><div style=\"display:table-cell;vertical-align:middle;border-left:1px solid #848482;padding:0.5em\"><div style=\"white-space:nowrap; color:blue;\"><b>[<div style=\"display:inline-block;\"><span>FA</span></div>]</b></div></div></div><div align=\"center\" style=\"display:table-row;padding-left:5px;padding-right:5px;padding-top:5px;padding-bottom:5px;\"><div align=\"center\" style=\"display:table-cell;\"><div align=\"center\" style=\"display:block;padding-left:5px;padding-right:5px;padding-top:5px;padding-bottom:5px;\"><div style=\"display:table;table-layout:auto;\" align=\"center\"><div style=\"display:table-row;\"><div style=\"display:table-cell;padding-right:2px; padding-left:2px;\" align=\"center\"><div style=\"display:inline-block;\"><span>$[\\![\\mathbf{\\text{[[every student] danced]}}]\\!]^{}_{t}$</span></div></div></div><div style=\"display:table-row;\"><div style=\"display:table-cell;padding-right:2px; padding-left:2px;\" align=\"center\"><div style=\"display:inline-block;\"><span>$\\forall{} x_{e} \\: . \\: ({Student}({x}) \\rightarrow{} {Danced}({x}))$</span></div></div></div></div></div></div><div style=\"display:table-cell;\"></div></div></div><br /><br />"
      ]
     },
     "execution_count": 5,
     "metadata": {},
     "output_type": "execute_result"
    }
   ],
   "source": [
    "r.tree()"
   ]
  },
  {
   "cell_type": "markdown",
   "metadata": {},
   "source": [
    "# Two problems in formal semantics #\n",
    "\n",
    "1. Type-driven computation could be a lot easier to visualize and check.  (Q: could it be made too easy?)\n",
    "\n",
    "2. Grammar fragments as in Montague Grammar: good idea in principle, hard to use in practice.\n",
    "\n",
    "  * A **fragment** is a *complete* formalization of *sublanguage* consisting of the *key relevant phenomena* for the problem at hand.  (Potential problem-points italicized.)\n",
    "\n",
    "Solution: a system for developing interactive fragments: \"*IPython Lambda Notebook*\"\n",
    "\n",
    "* Creator can work interactively with analysis -- accelerate development, limit time spent on tedious details.\n",
    "* Reader can explore derivations in ways that are not typically possible in typical paper format.\n",
    "* Creator and reader can be certain that derivations work, verified by the system.\n",
    "* Bring closer together formal semantics and computational modeling.\n",
    "\n",
    "Inspired by:\n",
    "\n",
    " * Von Eijck and Unger (2013): implementation of compositional semantics in Haskell.  No interface (beyond standard Haskell terminal); great if you like Haskell.  Introduced the idea of a fragment in digital form.\n",
    " * UPenn Lambda calculator (Champollion, Tauberer, and Romero 2007): teaching oriented.  (Now under development again.)\n",
    " * `nltk.sem`: implementation of the lambda calculus with a typed metalanguage, interface with theorem provers.  No interactive interface.\n",
    " * Jealousy of R studio, Matlab, Mathematica, etc.\n",
    "\n",
    "### The role of formalism & fragments ###\n",
    "\n",
    "What does *formal* mean in semantics?  What properties should a theory have?\n",
    "\n",
    " 1. Mathematically precise (lambda calculus, type theory, logic, model theory(?), ...)\n",
    " 2. Complete (covers \"all\" the relevant data).\n",
    " 3. Predictive (like any scientific theory).\n",
    " 4. Consistent, or at least compatible (with itself, analyses of other phenomena, some unifying conception of the grammar).\n",
    " \n",
    "The *method of fragments* (Partee 1979, Partee and Hendriks 1997) provides a structure for meeting these criteria.\n",
    "\n",
    " * Paper with a fragment provides a working system.  (Probably.)\n",
    " * Explicit outer bound for empirical coverage.\n",
    " * Integration with a particular theory of grammar.  (To some extent.)\n",
    " * Explicit answer to many detailed questions not necessarily dealt with in the text.\n",
    " \n",
    "**Claim**: fragments are a method of replicability, similar to a computational modeller providing their model.\n",
    "\n",
    " * To be clear, a fragment is neither necessary nor sufficient for having a good theory / analysis / paper...\n",
    "\n",
    "Additional benefit: useful internal check for researcher.\n",
    "\n",
    ">\"...But I feel strongly that it is important to try to [work with fully explicit fragments] periodically, because otherwise it is extremely easy to think that you have a solution to a problem when in fact you don't.\" (Partee 1979, p. 41)\n",
    "\n",
    "### The challenges of fragments\n",
    "\n",
    "Part 1 of the above quote:\n",
    "\n",
    ">\"It can be very frustrating to try to specify frameworks and fragments explicitly; this project has not been entirely rewarding.  I would not recommend that one always work with the constraint of full explicitness.\" (Ibid.)\n",
    "\n",
    " * Fragments can be tedious and time-consuming to write (not to mention hard).\n",
    " * Fragments as traditionally written are in practice not easy for a reader to use.\n",
    " \n",
    "   - Dense/unapproachable.  With exactness can come a huge chunk of hard-to-digest formalism.  E.g. Partee (1979), about 10% of the paper.\n",
    "   - Monolithic/non-modular.  For the specified sublanguage, everything specified.  Outside the bounds of the sublanguage, nothing specified.  How does the theory fit in with others?\n",
    "   - Exact opposite of the modern method -- researchers typically hold most aspects of the grammar constant (implicitly) while changing a few key points.  (*Portner and Partee intro*)\n",
    "\n",
    "**Summary:** In practice, the typical payoff for neither the reader nor the writer of a fragment exceeded the effort.\n"
   ]
  },
  {
   "cell_type": "markdown",
   "metadata": {},
   "source": [
    "# A solution: digital fragments\n",
    "\n",
    "Von Eijck and Unger 2010: specify a fragment in digital form.\n",
    "\n",
    "* They use Haskell.  Type system of Haskell extremely well-suited to natural language semantics.\n",
    "* (Provocative statement) Interface, learning curve of Haskell not well suited to semanticists (or most people)?\n",
    "\n",
    "### Benefits of digital fragments (in principle)\n",
    "\n",
    "* Interactive.\n",
    "* Easy to distribute, adapt, modify.\n",
    "* Possibility of modularity.  (E.g. abstract a 'library' for compositional systems away from the analysis of a particular phenomenon.)\n",
    "* Bring closer together the CogSci idea of a 'computational model' to the project of natural language semantics.\n",
    "* Connections to computational semantics. (weak..)\n",
    "\n",
    "### What sorts of things might we want in a fragment / system for fragments?\n",
    "\n",
    "* Typed lambda calculus.\n",
    "* Logic / logical metalanguage.\n",
    "* Framework for semantic composition.  (Broad...)\n",
    "* Model theory? (x)\n",
    "* Interface with theorem provers? (x)\n",
    "\n",
    "IPython Lambda Notebook aims to provide these tools in a usable, interactive, format.\n",
    "\n",
    "* Choose Python, rather than Haskell/Java.  Easy learning curve, rapid prototyping, existence of IPython.\n",
    "\n",
    "**Layer 1**: interface using IPython Notebook.\n",
    "\n",
    "**Layer 2**: flexible typed metalanguage.\n",
    "\n",
    "**Layer 3**: composition system for object language, building on layer 2."
   ]
  },
  {
   "cell_type": "markdown",
   "metadata": {},
   "source": [
    "## Layer 1: an interface using IPython/Jupyter Notebook (Perez and Granger 2007) ##\n",
    "\n",
    " * Client-server system where a specialized IPython \"kernel\" is running in the background. This kernel implements various tools for formal semantics (see parts 2-3).\n",
    " * Page broken down into cells in which can be entered python code, markdown code, raw text, other formats.\n",
    " * Jupyter: supports display of graphical representations of python objects.\n",
    " * Notebook format uses the \"MathJax\" framework to enable it to render most math-mode latex.  Can have python objects automatically generate decent-looking formulas.  Can use latex math mode in documentation as well (e.g. $\\lambda x \\in D_e : \\mathit{CAT}(x)$)\n",
    "\n",
    "This all basically worked off-the-shelf.\n",
    "\n",
    "* Bulk of interface work so far: rendering code for logical and compositional representations.\n",
    "* Future: interactive widgets, etc."
   ]
  },
  {
   "cell_type": "code",
   "execution_count": 6,
   "metadata": {
    "execution": {
     "iopub.execute_input": "2022-07-19T19:25:45.974745Z",
     "iopub.status.busy": "2022-07-19T19:25:45.974537Z",
     "iopub.status.idle": "2022-07-19T19:25:45.978857Z",
     "shell.execute_reply": "2022-07-19T19:25:45.978265Z"
    }
   },
   "outputs": [
    {
     "data": {
      "text/latex": [
       "$\\lambda{} p_{t} \\: . \\: \\lambda{} x_{e} \\: . \\: ({P}({x}) \\wedge{} {p})$"
      ],
      "text/plain": [
       "(λ p_t: (λ x_e: (P_<e,t>(x_e) & p_t)))"
      ]
     },
     "execution_count": 6,
     "metadata": {},
     "output_type": "execute_result"
    }
   ],
   "source": [
    "meta.pmw_test1"
   ]
  },
  {
   "cell_type": "code",
   "execution_count": 7,
   "metadata": {
    "execution": {
     "iopub.execute_input": "2022-07-19T19:25:45.981336Z",
     "iopub.status.busy": "2022-07-19T19:25:45.981129Z",
     "iopub.status.idle": "2022-07-19T19:25:45.986025Z",
     "shell.execute_reply": "2022-07-19T19:25:45.985315Z"
    }
   },
   "outputs": [
    {
     "data": {
      "text/plain": [
       "'$\\\\lambda{} p_{t} \\\\: . \\\\: \\\\lambda{} x_{e} \\\\: . \\\\: ({P}({x}) \\\\wedge{} {p})$'"
      ]
     },
     "execution_count": 7,
     "metadata": {},
     "output_type": "execute_result"
    }
   ],
   "source": [
    "meta.pmw_test1._repr_latex_()"
   ]
  },
  {
   "cell_type": "markdown",
   "metadata": {},
   "source": [
    "&nbsp;\n",
    "\n",
    "## Part 2: a typed metalanguage ##"
   ]
  },
  {
   "cell_type": "markdown",
   "metadata": {},
   "source": [
    "The **metalanguage** infrastructure is a set of classes that implement the building blocks of logical expressions, lambda terms, and various combinations combinations. This rests on an implementation of a **type system** that matches what semanticists tend to assume.\n",
    "\n",
    "Starting point (2012): a few implementations of things like predicate logic do exist, this is an intro AI exercise sometimes.  I started with the [AIMA python](http://code.google.com/p/aima-python/) _Expr_ class, based on the standard Russell and Norvig AI text.  But, had to scrap most of it.  Another starting point would have been `nltk.sem` (I was unaware of its existence at the time.)\n",
    "\n",
    "Preface cell with `%%lamb` to enter metalanguage formulas directly.  The following cell defines a variable `x` that has type e, and exports it to the notebook's environment."
   ]
  },
  {
   "cell_type": "code",
   "execution_count": 8,
   "metadata": {
    "execution": {
     "iopub.execute_input": "2022-07-19T19:25:45.989285Z",
     "iopub.status.busy": "2022-07-19T19:25:45.989054Z",
     "iopub.status.idle": "2022-07-19T19:25:45.993822Z",
     "shell.execute_reply": "2022-07-19T19:25:45.993211Z"
    }
   },
   "outputs": [
    {
     "data": {
      "text/html": [
       "${x}_{e}\\:=\\:{x}_{e}$"
      ],
      "text/latex": [
       "${x}_{e}\\:=\\:{x}_{e}$"
      ],
      "text/plain": [
       "${x}_{e}\\:=\\:{x}_{e}$"
      ]
     },
     "metadata": {},
     "output_type": "display_data"
    }
   ],
   "source": [
    "%%lamb reset\n",
    "x = x_e # define x to have this type"
   ]
  },
  {
   "cell_type": "code",
   "execution_count": 9,
   "metadata": {
    "execution": {
     "iopub.execute_input": "2022-07-19T19:25:45.996320Z",
     "iopub.status.busy": "2022-07-19T19:25:45.996121Z",
     "iopub.status.idle": "2022-07-19T19:25:46.000560Z",
     "shell.execute_reply": "2022-07-19T19:25:45.999986Z"
    }
   },
   "outputs": [
    {
     "data": {
      "text/latex": [
       "$e$"
      ],
      "text/plain": [
       "e"
      ]
     },
     "execution_count": 9,
     "metadata": {},
     "output_type": "execute_result"
    }
   ],
   "source": [
    "x.type"
   ]
  },
  {
   "cell_type": "markdown",
   "metadata": {},
   "source": [
    "This next cell defines some variables whose values are more complex object -- in fact, functions in the typed lambda calculus."
   ]
  },
  {
   "cell_type": "code",
   "execution_count": 10,
   "metadata": {
    "execution": {
     "iopub.execute_input": "2022-07-19T19:25:46.003444Z",
     "iopub.status.busy": "2022-07-19T19:25:46.003225Z",
     "iopub.status.idle": "2022-07-19T19:25:46.012563Z",
     "shell.execute_reply": "2022-07-19T19:25:46.011952Z"
    }
   },
   "outputs": [
    {
     "name": "stdout",
     "output_type": "stream",
     "text": [
      "INFO (core): Coerced guessed type for 'P_t' into <e,t>, to match argument 'x_e'\n",
      "INFO (core): Coerced guessed type for 'P_t' into <e,t>, to match argument 'x_e'\n",
      "INFO (core): Coerced guessed type for 'Q_t' into <e,t>, to match argument 'x_e'\n",
      "INFO (core): Coerced guessed type for 'Q_t' into <e,t>, to match argument 'x_e'\n"
     ]
    },
    {
     "data": {
      "text/html": [
       "${test1}_{\\left\\langle{}t,\\left\\langle{}e,t\\right\\rangle{}\\right\\rangle{}}\\:=\\:\\lambda{} p_{t} \\: . \\: \\lambda{} x_{e} \\: . \\: ({P}({x}) \\wedge{} {p})$<br />\n",
       "${test1b}_{\\left\\langle{}e,t\\right\\rangle{}}\\:=\\:\\lambda{} x_{e} \\: . \\: ({P}({x}) \\wedge{} {Q}({x}))$<br />\n",
       "${t2}_{t}\\:=\\:{Q}({x}_{e})$"
      ],
      "text/latex": [
       "${test1}_{\\left\\langle{}t,\\left\\langle{}e,t\\right\\rangle{}\\right\\rangle{}}\\:=\\:\\lambda{} p_{t} \\: . \\: \\lambda{} x_{e} \\: . \\: ({P}({x}) \\wedge{} {p})$<br />\n",
       "${test1b}_{\\left\\langle{}e,t\\right\\rangle{}}\\:=\\:\\lambda{} x_{e} \\: . \\: ({P}({x}) \\wedge{} {Q}({x}))$<br />\n",
       "${t2}_{t}\\:=\\:{Q}({x}_{e})$"
      ],
      "text/plain": [
       "${test1}_{\\left\\langle{}t,\\left\\langle{}e,t\\right\\rangle{}\\right\\rangle{}}\\:=\\:\\lambda{} p_{t} \\: . \\: \\lambda{} x_{e} \\: . \\: ({P}({x}) \\wedge{} {p})$<br />\n",
       "${test1b}_{\\left\\langle{}e,t\\right\\rangle{}}\\:=\\:\\lambda{} x_{e} \\: . \\: ({P}({x}) \\wedge{} {Q}({x}))$<br />\n",
       "${t2}_{t}\\:=\\:{Q}({x}_{e})$"
      ]
     },
     "metadata": {},
     "output_type": "display_data"
    }
   ],
   "source": [
    "%%lamb\n",
    "test1 = L p_t : L x_e : P(x) & p # based on a Partee et al example\n",
    "test1b = L x_e : P(x) & Q(x)\n",
    "t2 = Q(x_e)"
   ]
  },
  {
   "cell_type": "markdown",
   "metadata": {},
   "source": [
    "These are now registered as variables in the python namespace and can be manipulated directly.  A typed lambda calculus is fully implemented with all that that entails -- e.g. the value of `test1` includes the whole syntactic structure of the formula, its type, etc. and can be used in constructing new formulas.  The following cells build a complex function-argument formula, and following that, does the reduction.\n",
    "\n",
    "(Notice that beta reduction works properly, i.e. bound $x$ in the function is renamed in order to avoid collision with the free `x` in the argument.)"
   ]
  },
  {
   "cell_type": "code",
   "execution_count": 11,
   "metadata": {
    "execution": {
     "iopub.execute_input": "2022-07-19T19:25:46.015446Z",
     "iopub.status.busy": "2022-07-19T19:25:46.015161Z",
     "iopub.status.idle": "2022-07-19T19:25:46.019912Z",
     "shell.execute_reply": "2022-07-19T19:25:46.019289Z"
    }
   },
   "outputs": [
    {
     "data": {
      "text/latex": [
       "${[\\lambda{} p_{t} \\: . \\: \\lambda{} x_{e} \\: . \\: ({P}({x}) \\wedge{} {p})]}({Q}({x}_{e}))$"
      ],
      "text/plain": [
       "((λ p_t: (λ x_e: (P_<e,t>(x_e) & p_t))))(Q_<e,t>(x_e))"
      ]
     },
     "execution_count": 11,
     "metadata": {},
     "output_type": "execute_result"
    }
   ],
   "source": [
    "test1(t2)"
   ]
  },
  {
   "cell_type": "code",
   "execution_count": 12,
   "metadata": {
    "execution": {
     "iopub.execute_input": "2022-07-19T19:25:46.022330Z",
     "iopub.status.busy": "2022-07-19T19:25:46.022119Z",
     "iopub.status.idle": "2022-07-19T19:25:46.027375Z",
     "shell.execute_reply": "2022-07-19T19:25:46.026754Z"
    }
   },
   "outputs": [
    {
     "data": {
      "text/latex": [
       "$\\lambda{} x1_{e} \\: . \\: ({P}({x1}) \\wedge{} {Q}({x}_{e}))$"
      ],
      "text/plain": [
       "(λ x1_e: (P_<e,t>(x1_e) & Q_<e,t>(x_e)))"
      ]
     },
     "execution_count": 12,
     "metadata": {},
     "output_type": "execute_result"
    }
   ],
   "source": [
    "test1(t2).reduce()"
   ]
  },
  {
   "cell_type": "code",
   "execution_count": 13,
   "metadata": {
    "execution": {
     "iopub.execute_input": "2022-07-19T19:25:46.031706Z",
     "iopub.status.busy": "2022-07-19T19:25:46.031493Z",
     "iopub.status.idle": "2022-07-19T19:25:46.038994Z",
     "shell.execute_reply": "2022-07-19T19:25:46.038362Z"
    }
   },
   "outputs": [
    {
     "name": "stdout",
     "output_type": "stream",
     "text": [
      "INFO (core): Coerced guessed type for 'Cat_t' into <e,t>, to match argument 'x_e'\n",
      "INFO (core): Coerced guessed type for 'Dog_t' into <e,t>, to match argument 'x_e'\n"
     ]
    },
    {
     "data": {
      "text/html": [
       "${catf}_{\\left\\langle{}e,t\\right\\rangle{}}\\:=\\:\\lambda{} x_{e} \\: . \\: {Cat}({x})$<br />\n",
       "${dogf}_{\\left\\langle{}e,t\\right\\rangle{}}\\:=\\:\\lambda{} x_{e} \\: . \\: {Dog}({x})$"
      ],
      "text/latex": [
       "${catf}_{\\left\\langle{}e,t\\right\\rangle{}}\\:=\\:\\lambda{} x_{e} \\: . \\: {Cat}({x})$<br />\n",
       "${dogf}_{\\left\\langle{}e,t\\right\\rangle{}}\\:=\\:\\lambda{} x_{e} \\: . \\: {Dog}({x})$"
      ],
      "text/plain": [
       "${catf}_{\\left\\langle{}e,t\\right\\rangle{}}\\:=\\:\\lambda{} x_{e} \\: . \\: {Cat}({x})$<br />\n",
       "${dogf}_{\\left\\langle{}e,t\\right\\rangle{}}\\:=\\:\\lambda{} x_{e} \\: . \\: {Dog}({x})$"
      ]
     },
     "metadata": {},
     "output_type": "display_data"
    }
   ],
   "source": [
    "%%lamb\n",
    "catf = L x_e: Cat(x)\n",
    "dogf = λx: Dog(x_e)"
   ]
  },
  {
   "cell_type": "code",
   "execution_count": 14,
   "metadata": {
    "execution": {
     "iopub.execute_input": "2022-07-19T19:25:46.041741Z",
     "iopub.status.busy": "2022-07-19T19:25:46.041475Z",
     "iopub.status.idle": "2022-07-19T19:25:46.046276Z",
     "shell.execute_reply": "2022-07-19T19:25:46.045415Z"
    }
   },
   "outputs": [
    {
     "data": {
      "text/latex": [
       "$t$"
      ],
      "text/plain": [
       "t"
      ]
     },
     "execution_count": 14,
     "metadata": {},
     "output_type": "execute_result"
    }
   ],
   "source": [
    "(catf(x)).type"
   ]
  },
  {
   "cell_type": "code",
   "execution_count": 15,
   "metadata": {
    "execution": {
     "iopub.execute_input": "2022-07-19T19:25:46.048756Z",
     "iopub.status.busy": "2022-07-19T19:25:46.048552Z",
     "iopub.status.idle": "2022-07-19T19:25:46.052885Z",
     "shell.execute_reply": "2022-07-19T19:25:46.052320Z"
    }
   },
   "outputs": [
    {
     "data": {
      "text/latex": [
       "$\\left\\langle{}e,t\\right\\rangle{}$"
      ],
      "text/plain": [
       "<e,t>"
      ]
     },
     "execution_count": 15,
     "metadata": {},
     "output_type": "execute_result"
    }
   ],
   "source": [
    "catf.type"
   ]
  },
  {
   "cell_type": "markdown",
   "metadata": {},
   "source": [
    "Type checking of course is a part of all this.  If the types don't match, the computation will throw a `TypeMismatch` exception.  The following cell uses python syntax to catch and print such errors."
   ]
  },
  {
   "cell_type": "code",
   "execution_count": 16,
   "metadata": {
    "execution": {
     "iopub.execute_input": "2022-07-19T19:25:46.055422Z",
     "iopub.status.busy": "2022-07-19T19:25:46.055220Z",
     "iopub.status.idle": "2022-07-19T19:25:46.060241Z",
     "shell.execute_reply": "2022-07-19T19:25:46.059650Z"
    }
   },
   "outputs": [
    {
     "data": {
      "text/html": [
       "<span style=\"color:red\">Type mismatch</span>: '$\\lambda{} p_{t} \\: . \\: \\lambda{} x_{e} \\: . \\: ({P}({x}) \\wedge{} {p})$'/$\\left\\langle{}t,\\left\\langle{}e,t\\right\\rangle{}\\right\\rangle{}$ and '${x}_{e}$'/$e$ conflict (Function-argument expression: mismatched types)"
      ],
      "text/plain": [
       "Type mismatch: '(λ p_t: (λ x_e: (P_<e,t>(x_e) & p_t)))'/<t,<e,t>> and 'x_e'/e conflict (Function-argument expression: mismatched types)"
      ]
     },
     "execution_count": 16,
     "metadata": {},
     "output_type": "execute_result"
    }
   ],
   "source": [
    "result = None\n",
    "try:\n",
    "    result = test1(x) # function is type <t<et>> so will trigger a type mismatch.  This is a python exception so adds all sorts of extraneous stuff, but look to the bottom\n",
    "except TypeMismatch as e:\n",
    "    result = e\n",
    "result"
   ]
  },
  {
   "cell_type": "markdown",
   "metadata": {},
   "source": [
    "A more complex expression:"
   ]
  },
  {
   "cell_type": "code",
   "execution_count": 17,
   "metadata": {
    "execution": {
     "iopub.execute_input": "2022-07-19T19:25:46.063867Z",
     "iopub.status.busy": "2022-07-19T19:25:46.063346Z",
     "iopub.status.idle": "2022-07-19T19:25:46.069180Z",
     "shell.execute_reply": "2022-07-19T19:25:46.068623Z"
    }
   },
   "outputs": [
    {
     "data": {
      "text/html": [
       "${p2}_{t}\\:=\\:(({Cat}({x}_{e}) \\wedge{} {p}_{t}) \\rightarrow{} \\exists{} y_{e} \\: . \\: {Dog}({y}))$"
      ],
      "text/latex": [
       "${p2}_{t}\\:=\\:(({Cat}({x}_{e}) \\wedge{} {p}_{t}) \\rightarrow{} \\exists{} y_{e} \\: . \\: {Dog}({y}))$"
      ],
      "text/plain": [
       "${p2}_{t}\\:=\\:(({Cat}({x}_{e}) \\wedge{} {p}_{t}) \\rightarrow{} \\exists{} y_{e} \\: . \\: {Dog}({y}))$"
      ]
     },
     "metadata": {},
     "output_type": "display_data"
    }
   ],
   "source": [
    "%%lamb\n",
    "p2 = (Cat_<e,t>(x_e) & p_t) >> (Exists y: Dog_<e,t>(y_e))"
   ]
  },
  {
   "cell_type": "markdown",
   "metadata": {},
   "source": [
    "What is going on behind the scenes?  The objects manipulated are recursively structured python objects of class TypedExpr.\n",
    "\n",
    "Class _TypedExpr_: parent class for typed expressions.  Key subclasses:\n",
    "\n",
    "* BinaryOpExpr: parent class for things like conjunction.\n",
    "* TypedTerm: variables, constants of arbitrary type\n",
    "* BindingOp: operators that bind a single variable\n",
    "  * LFun: lambda expression\n",
    "\n",
    "Many straightforward expressions can be parsed.  Most expressions are created using a call to TypedExpr.factory, which is abbreviated as \"te\" in the following examples.  The `%%lamb` magic is calling this behind the scenes.\n",
    "\n",
    "Three ways of instantiating a variable `x` of type `e`:"
   ]
  },
  {
   "cell_type": "code",
   "execution_count": 18,
   "metadata": {
    "execution": {
     "iopub.execute_input": "2022-07-19T19:25:46.071765Z",
     "iopub.status.busy": "2022-07-19T19:25:46.071552Z",
     "iopub.status.idle": "2022-07-19T19:25:46.076341Z",
     "shell.execute_reply": "2022-07-19T19:25:46.075808Z"
    }
   },
   "outputs": [
    {
     "data": {
      "text/html": [
       "${x}_{e}\\:=\\:{x}_{e}$"
      ],
      "text/latex": [
       "${x}_{e}\\:=\\:{x}_{e}$"
      ],
      "text/plain": [
       "${x}_{e}\\:=\\:{x}_{e}$"
      ]
     },
     "metadata": {},
     "output_type": "display_data"
    }
   ],
   "source": [
    "%%lamb \n",
    "x = x_e # use cell magic"
   ]
  },
  {
   "cell_type": "code",
   "execution_count": 19,
   "metadata": {
    "execution": {
     "iopub.execute_input": "2022-07-19T19:25:46.079182Z",
     "iopub.status.busy": "2022-07-19T19:25:46.078943Z",
     "iopub.status.idle": "2022-07-19T19:25:46.083786Z",
     "shell.execute_reply": "2022-07-19T19:25:46.083198Z"
    }
   },
   "outputs": [
    {
     "data": {
      "text/latex": [
       "${x}_{e}$"
      ],
      "text/plain": [
       "x_e"
      ]
     },
     "execution_count": 19,
     "metadata": {},
     "output_type": "execute_result"
    }
   ],
   "source": [
    "x = te(\"x_e\") # use factory function to parse string\n",
    "x"
   ]
  },
  {
   "cell_type": "code",
   "execution_count": 20,
   "metadata": {
    "execution": {
     "iopub.execute_input": "2022-07-19T19:25:46.086285Z",
     "iopub.status.busy": "2022-07-19T19:25:46.086083Z",
     "iopub.status.idle": "2022-07-19T19:25:46.090485Z",
     "shell.execute_reply": "2022-07-19T19:25:46.089917Z"
    }
   },
   "outputs": [
    {
     "data": {
      "text/latex": [
       "${x}_{e}$"
      ],
      "text/plain": [
       "x_e"
      ]
     },
     "execution_count": 20,
     "metadata": {},
     "output_type": "execute_result"
    }
   ],
   "source": [
    "x = meta.TypedTerm(\"x\", types.type_e) # use object constructer\n",
    "x"
   ]
  },
  {
   "cell_type": "markdown",
   "metadata": {},
   "source": [
    "Various convenience python operators are overloaded, including functional calls.  Here is an example repeated from earlier in two forms:"
   ]
  },
  {
   "cell_type": "code",
   "execution_count": 21,
   "metadata": {
    "execution": {
     "iopub.execute_input": "2022-07-19T19:25:46.093435Z",
     "iopub.status.busy": "2022-07-19T19:25:46.093223Z",
     "iopub.status.idle": "2022-07-19T19:25:46.099172Z",
     "shell.execute_reply": "2022-07-19T19:25:46.098559Z"
    }
   },
   "outputs": [
    {
     "data": {
      "text/html": [
       "${p2}_{t}\\:=\\:(({Cat}({x}_{e}) \\wedge{} {p}_{t}) \\rightarrow{} \\exists{} y_{e} \\: . \\: {Dog}({y}))$"
      ],
      "text/latex": [
       "${p2}_{t}\\:=\\:(({Cat}({x}_{e}) \\wedge{} {p}_{t}) \\rightarrow{} \\exists{} y_{e} \\: . \\: {Dog}({y}))$"
      ],
      "text/plain": [
       "${p2}_{t}\\:=\\:(({Cat}({x}_{e}) \\wedge{} {p}_{t}) \\rightarrow{} \\exists{} y_{e} \\: . \\: {Dog}({y}))$"
      ]
     },
     "metadata": {},
     "output_type": "display_data"
    }
   ],
   "source": [
    "%%lamb\n",
    "p2 = (Cat_<e,t>(x_e) & p_t) >> (Exists y: Dog_<e,t>(y_e))"
   ]
  },
  {
   "cell_type": "code",
   "execution_count": 22,
   "metadata": {
    "execution": {
     "iopub.execute_input": "2022-07-19T19:25:46.101565Z",
     "iopub.status.busy": "2022-07-19T19:25:46.101361Z",
     "iopub.status.idle": "2022-07-19T19:25:46.107346Z",
     "shell.execute_reply": "2022-07-19T19:25:46.106554Z"
    }
   },
   "outputs": [
    {
     "data": {
      "text/latex": [
       "$(({Cat}({x}_{e}) \\wedge{} {p}_{t}) \\rightarrow{} \\exists{} y_{e} \\: . \\: {Dog}({y}))$"
      ],
      "text/plain": [
       "((Cat_<e,t>(x_e) ∧ p_t) → (Exists y_e: Dog_<e,t>(y_e)))"
      ]
     },
     "execution_count": 22,
     "metadata": {},
     "output_type": "execute_result"
    }
   ],
   "source": [
    "p2 = (te(\"Cat_<e,t>(x)\") & te(\"p_t\")) >> te(\"(Exists y: Dog_<e,t>(y_e))\")\n",
    "p2"
   ]
  },
  {
   "cell_type": "markdown",
   "metadata": {},
   "source": [
    "Let's examine in detail what happens when a function and argument combine."
   ]
  },
  {
   "cell_type": "code",
   "execution_count": 23,
   "metadata": {
    "execution": {
     "iopub.execute_input": "2022-07-19T19:25:46.110115Z",
     "iopub.status.busy": "2022-07-19T19:25:46.109905Z",
     "iopub.status.idle": "2022-07-19T19:25:46.115791Z",
     "shell.execute_reply": "2022-07-19T19:25:46.115174Z"
    }
   },
   "outputs": [
    {
     "name": "stdout",
     "output_type": "stream",
     "text": [
      "INFO (core): Coerced guessed type for 'Cat_t' into <e,t>, to match argument 'x_e'\n"
     ]
    },
    {
     "data": {
      "text/latex": [
       "$\\lambda{} x_{e} \\: . \\: {Cat}({x})$"
      ],
      "text/plain": [
       "(λ x_e: Cat_<e,t>(x_e))"
      ]
     },
     "execution_count": 23,
     "metadata": {},
     "output_type": "execute_result"
    }
   ],
   "source": [
    "catf = meta.LFun(types.type_e, te(\"Cat(x_e)\"), \"x\")\n",
    "catf"
   ]
  },
  {
   "cell_type": "code",
   "execution_count": 24,
   "metadata": {
    "execution": {
     "iopub.execute_input": "2022-07-19T19:25:46.118989Z",
     "iopub.status.busy": "2022-07-19T19:25:46.118784Z",
     "iopub.status.idle": "2022-07-19T19:25:46.123830Z",
     "shell.execute_reply": "2022-07-19T19:25:46.123227Z"
    }
   },
   "outputs": [
    {
     "data": {
      "text/latex": [
       "${[\\lambda{} x_{e} \\: . \\: {Cat}({x})]}({y}_{e})$"
      ],
      "text/plain": [
       "((λ x_e: Cat_<e,t>(x_e)))(y_e)"
      ]
     },
     "execution_count": 24,
     "metadata": {},
     "output_type": "execute_result"
    }
   ],
   "source": [
    "catf(te(\"y_e\"))"
   ]
  },
  {
   "cell_type": "markdown",
   "metadata": {},
   "source": [
    "Building a function-argument expression builds a complex, unreduced expression.  This can be explicitly reduced (note that the `reduce_all()` function would be used to apply reduction  recursively):"
   ]
  },
  {
   "cell_type": "code",
   "execution_count": 25,
   "metadata": {
    "execution": {
     "iopub.execute_input": "2022-07-19T19:25:46.126586Z",
     "iopub.status.busy": "2022-07-19T19:25:46.126230Z",
     "iopub.status.idle": "2022-07-19T19:25:46.131066Z",
     "shell.execute_reply": "2022-07-19T19:25:46.130521Z"
    }
   },
   "outputs": [
    {
     "data": {
      "text/latex": [
       "${Cat}({y}_{e})$"
      ],
      "text/plain": [
       "Cat_<e,t>(y_e)"
      ]
     },
     "execution_count": 25,
     "metadata": {},
     "output_type": "execute_result"
    }
   ],
   "source": [
    "catf(te(\"y_e\")).reduce()"
   ]
  },
  {
   "cell_type": "code",
   "execution_count": 26,
   "metadata": {
    "execution": {
     "iopub.execute_input": "2022-07-19T19:25:46.133716Z",
     "iopub.status.busy": "2022-07-19T19:25:46.133477Z",
     "iopub.status.idle": "2022-07-19T19:25:46.138896Z",
     "shell.execute_reply": "2022-07-19T19:25:46.138348Z"
    }
   },
   "outputs": [
    {
     "data": {
      "text/html": [
       "<div align=\"left\" style=\"display:table;\"><div style=\"display:table-cell;vertical-align:bottom;padding-left:5px;padding-right:5px;padding-top:0.5em\"><div style=\"display:table;\"><div style=\"display:table-row;vertical-align:bottom;\"><div align=\"left\" style=\"display:table;border-collapse:collapse;\"><div style=\"display:table-row;border-bottom:1px solid #848482;\"><div style=\"display:table-cell;padding-right:5px;vertical-align:bottom;\"> 1. </div><div style=\"display:table-cell;vertical-align:bottom;border-right:1px solid #848482;padding-right:5px;\"><div style=\"display:inline-block;\"><span>${[\\lambda{} x_{e} \\: . \\: {Cat}({x})]}({y}_{e})$</span></div></div></div><div style=\"display:table-row;\"><div style=\"display:table-cell;padding-right:5px;vertical-align:bottom;\"> 2. </div><div style=\"display:table-cell;vertical-align:bottom;border-right:1px solid #848482;padding-right:5px;\"><div style=\"display:inline-block;\"><span>${Cat}({y}_{e})$</span></div></div><div style=\"display:table-cell;vertical-align:bottom;padding-left:5px;padding-right:5px;padding-top:0.5em\"><div style=\"display:table;\"><div style=\"display:table-row;\"><div style=\"white-space:nowrap; color:blue;\"><div style=\"display:inline-block;\"><span>Reduction</span></div></div></div></div></div></div></div></div></div></div></div>"
      ],
      "text/plain": [
       " 1. ((λ x_e: Cat_<e,t>(x_e)))(y_e)\n",
       " 2. Cat_<e,t>(y_e)    (Reduction)"
      ]
     },
     "execution_count": 26,
     "metadata": {},
     "output_type": "execute_result"
    }
   ],
   "source": [
    "(catf(te(\"y_e\")).reduce()).derivation"
   ]
  },
  {
   "cell_type": "markdown",
   "metadata": {},
   "source": [
    "The metalanguage supports some basic type inference.  Type inference happens already on combination of a function and argument into an unreduced expression, not on beta-reduction."
   ]
  },
  {
   "cell_type": "code",
   "execution_count": 27,
   "metadata": {
    "execution": {
     "iopub.execute_input": "2022-07-19T19:25:46.141403Z",
     "iopub.status.busy": "2022-07-19T19:25:46.141197Z",
     "iopub.status.idle": "2022-07-19T19:25:46.150733Z",
     "shell.execute_reply": "2022-07-19T19:25:46.150166Z"
    }
   },
   "outputs": [
    {
     "data": {
      "text/html": [
       "${ttest}_{\\left\\langle{}X,t\\right\\rangle{}}\\:=\\:\\lambda{} x_{X} \\: . \\: {P}_{\\left\\langle{}X',t\\right\\rangle{}}({x})$"
      ],
      "text/latex": [
       "${ttest}_{\\left\\langle{}X,t\\right\\rangle{}}\\:=\\:\\lambda{} x_{X} \\: . \\: {P}_{\\left\\langle{}X',t\\right\\rangle{}}({x})$"
      ],
      "text/plain": [
       "${ttest}_{\\left\\langle{}X,t\\right\\rangle{}}\\:=\\:\\lambda{} x_{X} \\: . \\: {P}_{\\left\\langle{}X',t\\right\\rangle{}}({x})$"
      ]
     },
     "metadata": {},
     "output_type": "display_data"
    },
    {
     "data": {
      "text/html": [
       "${tvar}_{t}\\:=\\:{y}_{t}$"
      ],
      "text/latex": [
       "${tvar}_{t}\\:=\\:{y}_{t}$"
      ],
      "text/plain": [
       "${tvar}_{t}\\:=\\:{y}_{t}$"
      ]
     },
     "metadata": {},
     "output_type": "display_data"
    },
    {
     "data": {
      "text/latex": [
       "${[\\lambda{} x_{t} \\: . \\: {P}_{\\left\\langle{}t,t\\right\\rangle{}}({x})]}({y}_{t})$"
      ],
      "text/plain": [
       "((λ x_t: P_<t,t>(x_t)))(y_t)"
      ]
     },
     "execution_count": 27,
     "metadata": {},
     "output_type": "execute_result"
    }
   ],
   "source": [
    "%lamb ttest = L x_X : P_<?,t>(x) # type <?,t>\n",
    "%lamb tvar = y_t\n",
    "ttest(tvar)"
   ]
  },
  {
   "cell_type": "markdown",
   "metadata": {},
   "source": [
    "&nbsp;\n",
    "\n",
    "## Part 3: composition systems for an object language ##\n",
    "\n",
    "On top of the metalanguage are '**composition systems**' for modeling (step-by-step) semantic composition in an object language such as English.  This is the part of the lambda notebook that tracks and manipulates mappings between object language elements (words, trees, etc) and denotations in the metalanguage.  \n",
    "\n",
    "A composition at its core consists of a set of composition rules; the following cell defines a simple composition system that will be familiar to anyone who has taken a basic course in compositional semantics.  (This example is just a redefinition of the default composition system.)"
   ]
  },
  {
   "cell_type": "code",
   "execution_count": 28,
   "metadata": {
    "execution": {
     "iopub.execute_input": "2022-07-19T19:25:46.153291Z",
     "iopub.status.busy": "2022-07-19T19:25:46.153083Z",
     "iopub.status.idle": "2022-07-19T19:25:46.158577Z",
     "shell.execute_reply": "2022-07-19T19:25:46.158004Z"
    }
   },
   "outputs": [
    {
     "data": {
      "text/html": [
       "Composition system 'demo system'<br />Operations: {<br />&nbsp;&nbsp;&nbsp;&nbsp;Binary composition rule <i>FA</i>, built on python function 'lamb.lang.fa_fun'<br />&nbsp;&nbsp;&nbsp;&nbsp;Binary composition rule <i>PM</i>, built on python function 'lamb.lang.pm_fun'<br />&nbsp;&nbsp;&nbsp;&nbsp;Binary composition rule <i>PA</i>, built on python function 'lamb.lang.pa_fun'<br />}"
      ],
      "text/plain": [
       "Composition system: demo system"
      ]
     },
     "execution_count": 28,
     "metadata": {},
     "output_type": "execute_result"
    }
   ],
   "source": [
    "# none of this is strictly necessary, the built-in library already provides effectively this system.\n",
    "fa = lang.BinaryCompositionOp(\"FA\", lang.fa_fun, reduce=True)\n",
    "pm = lang.BinaryCompositionOp(\"PM\", lang.pm_fun, commutative=False, reduce=True)\n",
    "pa = lang.BinaryCompositionOp(\"PA\", lang.pa_fun, allow_none=True)\n",
    "demo_hk_system = lang.CompositionSystem(name=\"demo system\", rules=[fa, pm, pa])\n",
    "lang.set_system(demo_hk_system)\n",
    "demo_hk_system"
   ]
  },
  {
   "cell_type": "markdown",
   "metadata": {},
   "source": [
    "Expressing denotations is done in a `%%lamb` cell, and almost always begins with lexical items.  The following cell defines several lexical items that will be familiar from introductory exercises in the Heim & Kratzer 1998 textbook \"Semantics in Generative Grammar\".  These definitions produce items that are subclasses of the class `Composable`."
   ]
  },
  {
   "cell_type": "code",
   "execution_count": 29,
   "metadata": {
    "execution": {
     "iopub.execute_input": "2022-07-19T19:25:46.161139Z",
     "iopub.status.busy": "2022-07-19T19:25:46.160933Z",
     "iopub.status.idle": "2022-07-19T19:25:46.171182Z",
     "shell.execute_reply": "2022-07-19T19:25:46.170617Z"
    }
   },
   "outputs": [
    {
     "name": "stdout",
     "output_type": "stream",
     "text": [
      "INFO (core): Coerced guessed type for 'Cat_t' into <e,t>, to match argument 'x_e'\n",
      "INFO (core): Coerced guessed type for 'Gray_t' into <e,t>, to match argument 'x_e'\n",
      "INFO (core): Coerced guessed type for 'In_t' into <(e,e),t>, to match argument '(y_e, x_e)'\n"
     ]
    },
    {
     "data": {
      "text/html": [
       "$[\\![\\mathbf{\\text{cat}}]\\!]^{}_{\\left\\langle{}e,t\\right\\rangle{}} \\:=\\: $$\\lambda{} x_{e} \\: . \\: {Cat}({x})$<br />\n",
       "$[\\![\\mathbf{\\text{gray}}]\\!]^{}_{\\left\\langle{}e,t\\right\\rangle{}} \\:=\\: $$\\lambda{} x_{e} \\: . \\: {Gray}({x})$<br />\n",
       "$[\\![\\mathbf{\\text{john}}]\\!]^{}_{e} \\:=\\: $${John}_{e}$<br />\n",
       "$[\\![\\mathbf{\\text{julius}}]\\!]^{}_{e} \\:=\\: $${Julius}_{e}$<br />\n",
       "$[\\![\\mathbf{\\text{inP}}]\\!]^{}_{\\left\\langle{}e,\\left\\langle{}e,t\\right\\rangle{}\\right\\rangle{}} \\:=\\: $$\\lambda{} x_{e} \\: . \\: \\lambda{} y_{e} \\: . \\: {In}({y}, {x})$<br />\n",
       "$[\\![\\mathbf{\\text{texas}}]\\!]^{}_{e} \\:=\\: $${Texas}_{e}$<br />\n",
       "$[\\![\\mathbf{\\text{isV}}]\\!]^{}_{\\left\\langle{}\\left\\langle{}e,t\\right\\rangle{},\\left\\langle{}e,t\\right\\rangle{}\\right\\rangle{}} \\:=\\: $$\\lambda{} p_{\\left\\langle{}e,t\\right\\rangle{}} \\: . \\: {p}$"
      ],
      "text/latex": [
       "$[\\![\\mathbf{\\text{cat}}]\\!]^{}_{\\left\\langle{}e,t\\right\\rangle{}} \\:=\\: $$\\lambda{} x_{e} \\: . \\: {Cat}({x})$<br />\n",
       "$[\\![\\mathbf{\\text{gray}}]\\!]^{}_{\\left\\langle{}e,t\\right\\rangle{}} \\:=\\: $$\\lambda{} x_{e} \\: . \\: {Gray}({x})$<br />\n",
       "$[\\![\\mathbf{\\text{john}}]\\!]^{}_{e} \\:=\\: $${John}_{e}$<br />\n",
       "$[\\![\\mathbf{\\text{julius}}]\\!]^{}_{e} \\:=\\: $${Julius}_{e}$<br />\n",
       "$[\\![\\mathbf{\\text{inP}}]\\!]^{}_{\\left\\langle{}e,\\left\\langle{}e,t\\right\\rangle{}\\right\\rangle{}} \\:=\\: $$\\lambda{} x_{e} \\: . \\: \\lambda{} y_{e} \\: . \\: {In}({y}, {x})$<br />\n",
       "$[\\![\\mathbf{\\text{texas}}]\\!]^{}_{e} \\:=\\: $${Texas}_{e}$<br />\n",
       "$[\\![\\mathbf{\\text{isV}}]\\!]^{}_{\\left\\langle{}\\left\\langle{}e,t\\right\\rangle{},\\left\\langle{}e,t\\right\\rangle{}\\right\\rangle{}} \\:=\\: $$\\lambda{} p_{\\left\\langle{}e,t\\right\\rangle{}} \\: . \\: {p}$"
      ],
      "text/plain": [
       "$[\\![\\mathbf{\\text{cat}}]\\!]^{}_{\\left\\langle{}e,t\\right\\rangle{}} \\:=\\: $$\\lambda{} x_{e} \\: . \\: {Cat}({x})$<br />\n",
       "$[\\![\\mathbf{\\text{gray}}]\\!]^{}_{\\left\\langle{}e,t\\right\\rangle{}} \\:=\\: $$\\lambda{} x_{e} \\: . \\: {Gray}({x})$<br />\n",
       "$[\\![\\mathbf{\\text{john}}]\\!]^{}_{e} \\:=\\: $${John}_{e}$<br />\n",
       "$[\\![\\mathbf{\\text{julius}}]\\!]^{}_{e} \\:=\\: $${Julius}_{e}$<br />\n",
       "$[\\![\\mathbf{\\text{inP}}]\\!]^{}_{\\left\\langle{}e,\\left\\langle{}e,t\\right\\rangle{}\\right\\rangle{}} \\:=\\: $$\\lambda{} x_{e} \\: . \\: \\lambda{} y_{e} \\: . \\: {In}({y}, {x})$<br />\n",
       "$[\\![\\mathbf{\\text{texas}}]\\!]^{}_{e} \\:=\\: $${Texas}_{e}$<br />\n",
       "$[\\![\\mathbf{\\text{isV}}]\\!]^{}_{\\left\\langle{}\\left\\langle{}e,t\\right\\rangle{},\\left\\langle{}e,t\\right\\rangle{}\\right\\rangle{}} \\:=\\: $$\\lambda{} p_{\\left\\langle{}e,t\\right\\rangle{}} \\: . \\: {p}$"
      ]
     },
     "metadata": {},
     "output_type": "display_data"
    }
   ],
   "source": [
    "%%lamb\n",
    "||cat|| = L x_e: Cat(x)\n",
    "||gray|| = L x_e: Gray(x)\n",
    "||john|| = John_e\n",
    "||julius|| = Julius_e\n",
    "||inP|| = L x_e : L y_e : In(y, x) # `in` is a reserved word in python\n",
    "||texas|| = Texas_e\n",
    "||isV|| = L p_<e,t> : p # `is` is a reserved word in python"
   ]
  },
  {
   "cell_type": "markdown",
   "metadata": {},
   "source": [
    "In the purely type-driven mode, composition is triggered by using the '`*`' operator on a `Composable`.  This searches over the available composition operations in the system to see if any results can be had.  `inP` and `texas` above should be able to compose using the FA rule:"
   ]
  },
  {
   "cell_type": "code",
   "execution_count": 30,
   "metadata": {
    "execution": {
     "iopub.execute_input": "2022-07-19T19:25:46.173850Z",
     "iopub.status.busy": "2022-07-19T19:25:46.173646Z",
     "iopub.status.idle": "2022-07-19T19:25:46.178911Z",
     "shell.execute_reply": "2022-07-19T19:25:46.178342Z"
    }
   },
   "outputs": [
    {
     "data": {
      "text/html": [
       "1 composition path.  Result:\n",
       "<br />&nbsp;&nbsp;&nbsp;&nbsp;[0]: $[\\![\\mathbf{\\text{[inP texas]}}]\\!]^{}_{\\left\\langle{}e,t\\right\\rangle{}} \\:=\\: $$\\lambda{} y_{e} \\: . \\: {In}({y}, {Texas}_{e})$"
      ],
      "text/plain": [
       "CompositionResult(results=[⟦[inP texas]⟧ = (λ y_e: In_<(e,e),t>(y_e, Texas_e))], failures=[⟦[texas inP]⟧ = Type mismatch: '⟦texas⟧ = Texas_e'/e and '⟦inP⟧ = (λ x_e: (λ y_e: In_<(e,e),t>(y_e, x_e)))'/<e,<e,t>> conflict (Function Application), ⟦[inP texas]⟧ = Type mismatch: '⟦inP⟧ = (λ x_e: (λ y_e: In_<(e,e),t>(y_e, x_e)))'/<e,<e,t>> and '⟦texas⟧ = Texas_e'/e conflict (Predicate Modification), ⟦[texas inP]⟧ = Type mismatch: '⟦texas⟧ = Texas_e'/e and '⟦inP⟧ = (λ x_e: (λ y_e: In_<(e,e),t>(y_e, x_e)))'/<e,<e,t>> conflict (Predicate Modification), ⟦[inP texas]⟧ = Composition failure (PA requires a valid binder) on: ⟦inP⟧ = (λ x_e: (λ y_e: In_<(e,e),t>(y_e, x_e))) * ⟦texas⟧ = Texas_e, ⟦[texas inP]⟧ = Composition failure (PA requires a valid binder) on: ⟦texas⟧ = Texas_e * ⟦inP⟧ = (λ x_e: (λ y_e: In_<(e,e),t>(y_e, x_e)))])"
      ]
     },
     "execution_count": 30,
     "metadata": {},
     "output_type": "execute_result"
    }
   ],
   "source": [
    "inP * texas"
   ]
  },
  {
   "cell_type": "markdown",
   "metadata": {},
   "source": [
    "On the other hand `isV` is looking for a property, so we shouldn't expect succesful composition.  Below this I have given a complete sentence and shown some introspection on that composition result."
   ]
  },
  {
   "cell_type": "code",
   "execution_count": 31,
   "metadata": {
    "execution": {
     "iopub.execute_input": "2022-07-19T19:25:46.181568Z",
     "iopub.status.busy": "2022-07-19T19:25:46.181349Z",
     "iopub.status.idle": "2022-07-19T19:25:46.186626Z",
     "shell.execute_reply": "2022-07-19T19:25:46.185959Z"
    }
   },
   "outputs": [
    {
     "data": {
      "text/html": [
       "Composition of [julius isV] failed:<br />\n",
       "&nbsp;&nbsp;&nbsp;&nbsp;<span style=\"color:red\">Type mismatch</span>: '$[\\![\\mathbf{\\text{julius}}]\\!]^{}_{e} \\:=\\: $${Julius}_{e}$'/$e$ and '$[\\![\\mathbf{\\text{isV}}]\\!]^{}_{\\left\\langle{}\\left\\langle{}e,t\\right\\rangle{},\\left\\langle{}e,t\\right\\rangle{}\\right\\rangle{}} \\:=\\: $$\\lambda{} p_{\\left\\langle{}e,t\\right\\rangle{}} \\: . \\: {p}$'/$\\left\\langle{}\\left\\langle{}e,t\\right\\rangle{},\\left\\langle{}e,t\\right\\rangle{}\\right\\rangle{}$ conflict (Function Application)<br />\n",
       "&nbsp;&nbsp;&nbsp;&nbsp;<span style=\"color:red\">Type mismatch</span>: '$[\\![\\mathbf{\\text{isV}}]\\!]^{}_{\\left\\langle{}\\left\\langle{}e,t\\right\\rangle{},\\left\\langle{}e,t\\right\\rangle{}\\right\\rangle{}} \\:=\\: $$\\lambda{} p_{\\left\\langle{}e,t\\right\\rangle{}} \\: . \\: {p}$'/$\\left\\langle{}\\left\\langle{}e,t\\right\\rangle{},\\left\\langle{}e,t\\right\\rangle{}\\right\\rangle{}$ and '$[\\![\\mathbf{\\text{julius}}]\\!]^{}_{e} \\:=\\: $${Julius}_{e}$'/$e$ conflict (Function Application)<br />\n",
       "&nbsp;&nbsp;&nbsp;&nbsp;<span style=\"color:red\">Type mismatch</span>: '$[\\![\\mathbf{\\text{julius}}]\\!]^{}_{e} \\:=\\: $${Julius}_{e}$'/$e$ and '$[\\![\\mathbf{\\text{isV}}]\\!]^{}_{\\left\\langle{}\\left\\langle{}e,t\\right\\rangle{},\\left\\langle{}e,t\\right\\rangle{}\\right\\rangle{}} \\:=\\: $$\\lambda{} p_{\\left\\langle{}e,t\\right\\rangle{}} \\: . \\: {p}$'/$\\left\\langle{}\\left\\langle{}e,t\\right\\rangle{},\\left\\langle{}e,t\\right\\rangle{}\\right\\rangle{}$ conflict (Predicate Modification)<br />\n",
       "&nbsp;&nbsp;&nbsp;&nbsp;<span style=\"color:red\">Type mismatch</span>: '$[\\![\\mathbf{\\text{isV}}]\\!]^{}_{\\left\\langle{}\\left\\langle{}e,t\\right\\rangle{},\\left\\langle{}e,t\\right\\rangle{}\\right\\rangle{}} \\:=\\: $$\\lambda{} p_{\\left\\langle{}e,t\\right\\rangle{}} \\: . \\: {p}$'/$\\left\\langle{}\\left\\langle{}e,t\\right\\rangle{},\\left\\langle{}e,t\\right\\rangle{}\\right\\rangle{}$ and '$[\\![\\mathbf{\\text{julius}}]\\!]^{}_{e} \\:=\\: $${Julius}_{e}$'/$e$ conflict (Predicate Modification)<br />\n",
       "&nbsp;&nbsp;&nbsp;&nbsp;<span style=\"color:red\">Composition failure</span> (PA requires a valid binder) on: $[\\![\\mathbf{\\text{julius}}]\\!]^{}_{e} \\:=\\: $${Julius}_{e}$ * $[\\![\\mathbf{\\text{isV}}]\\!]^{}_{\\left\\langle{}\\left\\langle{}e,t\\right\\rangle{},\\left\\langle{}e,t\\right\\rangle{}\\right\\rangle{}} \\:=\\: $$\\lambda{} p_{\\left\\langle{}e,t\\right\\rangle{}} \\: . \\: {p}$<br />\n",
       "&nbsp;&nbsp;&nbsp;&nbsp;<span style=\"color:red\">Composition failure</span> (PA requires a valid binder) on: $[\\![\\mathbf{\\text{isV}}]\\!]^{}_{\\left\\langle{}\\left\\langle{}e,t\\right\\rangle{},\\left\\langle{}e,t\\right\\rangle{}\\right\\rangle{}} \\:=\\: $$\\lambda{} p_{\\left\\langle{}e,t\\right\\rangle{}} \\: . \\: {p}$ * $[\\![\\mathbf{\\text{julius}}]\\!]^{}_{e} \\:=\\: $${Julius}_{e}$<br />\n"
      ],
      "text/plain": [
       "CompositionResult(results=[], failures=[⟦[julius isV]⟧ = Type mismatch: '⟦julius⟧ = Julius_e'/e and '⟦isV⟧ = (λ p_<e,t>: p_<e,t>)'/<<e,t>,<e,t>> conflict (Function Application), ⟦[isV julius]⟧ = Type mismatch: '⟦isV⟧ = (λ p_<e,t>: p_<e,t>)'/<<e,t>,<e,t>> and '⟦julius⟧ = Julius_e'/e conflict (Function Application), ⟦[julius isV]⟧ = Type mismatch: '⟦julius⟧ = Julius_e'/e and '⟦isV⟧ = (λ p_<e,t>: p_<e,t>)'/<<e,t>,<e,t>> conflict (Predicate Modification), ⟦[isV julius]⟧ = Type mismatch: '⟦isV⟧ = (λ p_<e,t>: p_<e,t>)'/<<e,t>,<e,t>> and '⟦julius⟧ = Julius_e'/e conflict (Predicate Modification), ⟦[julius isV]⟧ = Composition failure (PA requires a valid binder) on: ⟦julius⟧ = Julius_e * ⟦isV⟧ = (λ p_<e,t>: p_<e,t>), ⟦[isV julius]⟧ = Composition failure (PA requires a valid binder) on: ⟦isV⟧ = (λ p_<e,t>: p_<e,t>) * ⟦julius⟧ = Julius_e])"
      ]
     },
     "execution_count": 31,
     "metadata": {},
     "output_type": "execute_result"
    }
   ],
   "source": [
    "julius * isV # will fail due to type mismatches"
   ]
  },
  {
   "cell_type": "code",
   "execution_count": 32,
   "metadata": {
    "execution": {
     "iopub.execute_input": "2022-07-19T19:25:46.189368Z",
     "iopub.status.busy": "2022-07-19T19:25:46.189129Z",
     "iopub.status.idle": "2022-07-19T19:25:46.195494Z",
     "shell.execute_reply": "2022-07-19T19:25:46.194921Z"
    }
   },
   "outputs": [
    {
     "data": {
      "text/html": [
       "1 composition path.  Result:\n",
       "<br />&nbsp;&nbsp;&nbsp;&nbsp;[0]: $[\\![\\mathbf{\\text{[[isV [inP texas]] julius]}}]\\!]^{}_{t} \\:=\\: $${In}({Julius}_{e}, {Texas}_{e})$"
      ],
      "text/plain": [
       "CompositionResult(results=[⟦[[isV [inP texas]] julius]⟧ = In_<(e,e),t>(Julius_e, Texas_e)], failures=[⟦[julius [isV [inP texas]]]⟧ = Type mismatch: '⟦julius⟧ = Julius_e'/e and '⟦[isV [inP texas]]⟧ = (λ y_e: In_<(e,e),t>(y_e, Texas_e))'/<e,t> conflict (Function Application), ⟦[julius [isV [inP texas]]]⟧ = Type mismatch: '⟦julius⟧ = Julius_e'/e and '⟦[isV [inP texas]]⟧ = (λ y_e: In_<(e,e),t>(y_e, Texas_e))'/<e,t> conflict (Predicate Modification), ⟦[[isV [inP texas]] julius]⟧ = Type mismatch: '⟦[isV [inP texas]]⟧ = (λ y_e: In_<(e,e),t>(y_e, Texas_e))'/<e,t> and '⟦julius⟧ = Julius_e'/e conflict (Predicate Modification), ⟦[julius [isV [inP texas]]]⟧ = Composition failure (PA requires a valid binder) on: ⟦julius⟧ = Julius_e * ⟦[isV [inP texas]]⟧ = (λ y_e: In_<(e,e),t>(y_e, Texas_e)), ⟦[[isV [inP texas]] julius]⟧ = Composition failure (PA requires a valid binder) on: ⟦[isV [inP texas]]⟧ = (λ y_e: In_<(e,e),t>(y_e, Texas_e)) * ⟦julius⟧ = Julius_e])"
      ]
     },
     "execution_count": 32,
     "metadata": {},
     "output_type": "execute_result"
    }
   ],
   "source": [
    "sentence1 = julius * (isV * (inP * texas))\n",
    "sentence1"
   ]
  },
  {
   "cell_type": "code",
   "execution_count": 33,
   "metadata": {
    "execution": {
     "iopub.execute_input": "2022-07-19T19:25:46.197851Z",
     "iopub.status.busy": "2022-07-19T19:25:46.197647Z",
     "iopub.status.idle": "2022-07-19T19:25:46.202646Z",
     "shell.execute_reply": "2022-07-19T19:25:46.202068Z"
    }
   },
   "outputs": [
    {
     "data": {
      "text/html": [
       "Full composition trace.  1 path:<br />\n",
       "&nbsp;&nbsp;&nbsp;&nbsp;Step 1: $[\\![\\mathbf{\\text{isV}}]\\!]^{}_{\\left\\langle{}\\left\\langle{}e,t\\right\\rangle{},\\left\\langle{}e,t\\right\\rangle{}\\right\\rangle{}} \\:=\\: $$\\lambda{} p_{\\left\\langle{}e,t\\right\\rangle{}} \\: . \\: {p}$<br />\n",
       "&nbsp;&nbsp;&nbsp;&nbsp;Step 2: $[\\![\\mathbf{\\text{inP}}]\\!]^{}_{\\left\\langle{}e,\\left\\langle{}e,t\\right\\rangle{}\\right\\rangle{}} \\:=\\: $$\\lambda{} x_{e} \\: . \\: \\lambda{} y_{e} \\: . \\: {In}({y}, {x})$<br />\n",
       "&nbsp;&nbsp;&nbsp;&nbsp;Step 3: $[\\![\\mathbf{\\text{texas}}]\\!]^{}_{e} \\:=\\: $${Texas}_{e}$<br />\n",
       "&nbsp;&nbsp;&nbsp;&nbsp;Step 4: $[\\![\\mathbf{\\text{inP}}]\\!]^{}_{\\left\\langle{}e,\\left\\langle{}e,t\\right\\rangle{}\\right\\rangle{}}$ * $[\\![\\mathbf{\\text{texas}}]\\!]^{}_{e}$ leads to: $[\\![\\mathbf{\\text{[inP texas]}}]\\!]^{}_{\\left\\langle{}e,t\\right\\rangle{}} \\:=\\: $$\\lambda{} y_{e} \\: . \\: {In}({y}, {Texas}_{e})$ <b>[by FA]</b><br />\n",
       "&nbsp;&nbsp;&nbsp;&nbsp;Step 5: $[\\![\\mathbf{\\text{isV}}]\\!]^{}_{\\left\\langle{}\\left\\langle{}e,t\\right\\rangle{},\\left\\langle{}e,t\\right\\rangle{}\\right\\rangle{}}$ * $[\\![\\mathbf{\\text{[inP texas]}}]\\!]^{}_{\\left\\langle{}e,t\\right\\rangle{}}$ leads to: $[\\![\\mathbf{\\text{[isV [inP texas]]}}]\\!]^{}_{\\left\\langle{}e,t\\right\\rangle{}} \\:=\\: $$\\lambda{} y_{e} \\: . \\: {In}({y}, {Texas}_{e})$ <b>[by FA]</b><br />\n",
       "&nbsp;&nbsp;&nbsp;&nbsp;Step 6: $[\\![\\mathbf{\\text{julius}}]\\!]^{}_{e} \\:=\\: $${Julius}_{e}$<br />\n",
       "&nbsp;&nbsp;&nbsp;&nbsp;Step 7: $[\\![\\mathbf{\\text{[isV [inP texas]]}}]\\!]^{}_{\\left\\langle{}e,t\\right\\rangle{}}$ * $[\\![\\mathbf{\\text{julius}}]\\!]^{}_{e}$ leads to: $[\\![\\mathbf{\\text{[[isV [inP texas]] julius]}}]\\!]^{}_{t} \\:=\\: $${In}({Julius}_{e}, {Texas}_{e})$ <b>[by FA]</b><br />\n"
      ],
      "text/latex": [
       "Full composition trace.  1 path:<br />\n",
       "&nbsp;&nbsp;&nbsp;&nbsp;Step 1: $[\\![\\mathbf{\\text{isV}}]\\!]^{}_{\\left\\langle{}\\left\\langle{}e,t\\right\\rangle{},\\left\\langle{}e,t\\right\\rangle{}\\right\\rangle{}} \\:=\\: $$\\lambda{} p_{\\left\\langle{}e,t\\right\\rangle{}} \\: . \\: {p}$<br />\n",
       "&nbsp;&nbsp;&nbsp;&nbsp;Step 2: $[\\![\\mathbf{\\text{inP}}]\\!]^{}_{\\left\\langle{}e,\\left\\langle{}e,t\\right\\rangle{}\\right\\rangle{}} \\:=\\: $$\\lambda{} x_{e} \\: . \\: \\lambda{} y_{e} \\: . \\: {In}({y}, {x})$<br />\n",
       "&nbsp;&nbsp;&nbsp;&nbsp;Step 3: $[\\![\\mathbf{\\text{texas}}]\\!]^{}_{e} \\:=\\: $${Texas}_{e}$<br />\n",
       "&nbsp;&nbsp;&nbsp;&nbsp;Step 4: $[\\![\\mathbf{\\text{inP}}]\\!]^{}_{\\left\\langle{}e,\\left\\langle{}e,t\\right\\rangle{}\\right\\rangle{}}$ * $[\\![\\mathbf{\\text{texas}}]\\!]^{}_{e}$ leads to: $[\\![\\mathbf{\\text{[inP texas]}}]\\!]^{}_{\\left\\langle{}e,t\\right\\rangle{}} \\:=\\: $$\\lambda{} y_{e} \\: . \\: {In}({y}, {Texas}_{e})$ <b>[by FA]</b><br />\n",
       "&nbsp;&nbsp;&nbsp;&nbsp;Step 5: $[\\![\\mathbf{\\text{isV}}]\\!]^{}_{\\left\\langle{}\\left\\langle{}e,t\\right\\rangle{},\\left\\langle{}e,t\\right\\rangle{}\\right\\rangle{}}$ * $[\\![\\mathbf{\\text{[inP texas]}}]\\!]^{}_{\\left\\langle{}e,t\\right\\rangle{}}$ leads to: $[\\![\\mathbf{\\text{[isV [inP texas]]}}]\\!]^{}_{\\left\\langle{}e,t\\right\\rangle{}} \\:=\\: $$\\lambda{} y_{e} \\: . \\: {In}({y}, {Texas}_{e})$ <b>[by FA]</b><br />\n",
       "&nbsp;&nbsp;&nbsp;&nbsp;Step 6: $[\\![\\mathbf{\\text{julius}}]\\!]^{}_{e} \\:=\\: $${Julius}_{e}$<br />\n",
       "&nbsp;&nbsp;&nbsp;&nbsp;Step 7: $[\\![\\mathbf{\\text{[isV [inP texas]]}}]\\!]^{}_{\\left\\langle{}e,t\\right\\rangle{}}$ * $[\\![\\mathbf{\\text{julius}}]\\!]^{}_{e}$ leads to: $[\\![\\mathbf{\\text{[[isV [inP texas]] julius]}}]\\!]^{}_{t} \\:=\\: $${In}({Julius}_{e}, {Texas}_{e})$ <b>[by FA]</b><br />\n"
      ],
      "text/plain": [
       "Full composition trace.  1 path:<br />\n",
       "&nbsp;&nbsp;&nbsp;&nbsp;Step 1: $[\\![\\mathbf{\\text{isV}}]\\!]^{}_{\\left\\langle{}\\left\\langle{}e,t\\right\\rangle{},\\left\\langle{}e,t\\right\\rangle{}\\right\\rangle{}} \\:=\\: $$\\lambda{} p_{\\left\\langle{}e,t\\right\\rangle{}} \\: . \\: {p}$<br />\n",
       "&nbsp;&nbsp;&nbsp;&nbsp;Step 2: $[\\![\\mathbf{\\text{inP}}]\\!]^{}_{\\left\\langle{}e,\\left\\langle{}e,t\\right\\rangle{}\\right\\rangle{}} \\:=\\: $$\\lambda{} x_{e} \\: . \\: \\lambda{} y_{e} \\: . \\: {In}({y}, {x})$<br />\n",
       "&nbsp;&nbsp;&nbsp;&nbsp;Step 3: $[\\![\\mathbf{\\text{texas}}]\\!]^{}_{e} \\:=\\: $${Texas}_{e}$<br />\n",
       "&nbsp;&nbsp;&nbsp;&nbsp;Step 4: $[\\![\\mathbf{\\text{inP}}]\\!]^{}_{\\left\\langle{}e,\\left\\langle{}e,t\\right\\rangle{}\\right\\rangle{}}$ * $[\\![\\mathbf{\\text{texas}}]\\!]^{}_{e}$ leads to: $[\\![\\mathbf{\\text{[inP texas]}}]\\!]^{}_{\\left\\langle{}e,t\\right\\rangle{}} \\:=\\: $$\\lambda{} y_{e} \\: . \\: {In}({y}, {Texas}_{e})$ <b>[by FA]</b><br />\n",
       "&nbsp;&nbsp;&nbsp;&nbsp;Step 5: $[\\![\\mathbf{\\text{isV}}]\\!]^{}_{\\left\\langle{}\\left\\langle{}e,t\\right\\rangle{},\\left\\langle{}e,t\\right\\rangle{}\\right\\rangle{}}$ * $[\\![\\mathbf{\\text{[inP texas]}}]\\!]^{}_{\\left\\langle{}e,t\\right\\rangle{}}$ leads to: $[\\![\\mathbf{\\text{[isV [inP texas]]}}]\\!]^{}_{\\left\\langle{}e,t\\right\\rangle{}} \\:=\\: $$\\lambda{} y_{e} \\: . \\: {In}({y}, {Texas}_{e})$ <b>[by FA]</b><br />\n",
       "&nbsp;&nbsp;&nbsp;&nbsp;Step 6: $[\\![\\mathbf{\\text{julius}}]\\!]^{}_{e} \\:=\\: $${Julius}_{e}$<br />\n",
       "&nbsp;&nbsp;&nbsp;&nbsp;Step 7: $[\\![\\mathbf{\\text{[isV [inP texas]]}}]\\!]^{}_{\\left\\langle{}e,t\\right\\rangle{}}$ * $[\\![\\mathbf{\\text{julius}}]\\!]^{}_{e}$ leads to: $[\\![\\mathbf{\\text{[[isV [inP texas]] julius]}}]\\!]^{}_{t} \\:=\\: $${In}({Julius}_{e}, {Texas}_{e})$ <b>[by FA]</b><br />"
      ]
     },
     "execution_count": 33,
     "metadata": {},
     "output_type": "execute_result"
    }
   ],
   "source": [
    "sentence1.trace()"
   ]
  },
  {
   "cell_type": "markdown",
   "metadata": {},
   "source": [
    "Composition will find all possible paths (beware of combinatorial explosion).  I have temporarily disabled the fact that standard PM is symmetric/commutative (because of conjunction), to illustrate a case with multiple composition paths:"
   ]
  },
  {
   "cell_type": "code",
   "execution_count": 34,
   "metadata": {
    "execution": {
     "iopub.execute_input": "2022-07-19T19:25:46.207103Z",
     "iopub.status.busy": "2022-07-19T19:25:46.206892Z",
     "iopub.status.idle": "2022-07-19T19:25:46.215972Z",
     "shell.execute_reply": "2022-07-19T19:25:46.215387Z"
    }
   },
   "outputs": [
    {
     "data": {
      "text/html": [
       "2 composition paths. Results:\n",
       "<br />&nbsp;&nbsp;&nbsp;&nbsp;[0]: $[\\![\\mathbf{\\text{[gray cat]}}]\\!]^{}_{\\left\\langle{}e,t\\right\\rangle{}} \\:=\\: $$\\lambda{} x_{e} \\: . \\: ({Gray}({x}) \\wedge{} {Cat}({x}))$\n",
       "<br />&nbsp;&nbsp;&nbsp;&nbsp;[1]: $[\\![\\mathbf{\\text{[cat gray]}}]\\!]^{}_{\\left\\langle{}e,t\\right\\rangle{}} \\:=\\: $$\\lambda{} x_{e} \\: . \\: ({Cat}({x}) \\wedge{} {Gray}({x}))$"
      ],
      "text/plain": [
       "CompositionResult(results=[⟦[gray cat]⟧ = (λ x_e: (Gray_<e,t>(x_e) & Cat_<e,t>(x_e))), ⟦[cat gray]⟧ = (λ x_e: (Cat_<e,t>(x_e) & Gray_<e,t>(x_e)))], failures=[⟦[gray cat]⟧ = Type mismatch: '⟦gray⟧ = (λ x_e: Gray_<e,t>(x_e))'/<e,t> and '⟦cat⟧ = (λ x_e: Cat_<e,t>(x_e))'/<e,t> conflict (Function Application), ⟦[cat gray]⟧ = Type mismatch: '⟦cat⟧ = (λ x_e: Cat_<e,t>(x_e))'/<e,t> and '⟦gray⟧ = (λ x_e: Gray_<e,t>(x_e))'/<e,t> conflict (Function Application), ⟦[gray cat]⟧ = Composition failure (PA requires a valid binder) on: ⟦gray⟧ = (λ x_e: Gray_<e,t>(x_e)) * ⟦cat⟧ = (λ x_e: Cat_<e,t>(x_e)), ⟦[cat gray]⟧ = Composition failure (PA requires a valid binder) on: ⟦cat⟧ = (λ x_e: Cat_<e,t>(x_e)) * ⟦gray⟧ = (λ x_e: Gray_<e,t>(x_e))])"
      ]
     },
     "execution_count": 34,
     "metadata": {},
     "output_type": "execute_result"
    }
   ],
   "source": [
    "gray * cat"
   ]
  },
  {
   "cell_type": "code",
   "execution_count": 35,
   "metadata": {
    "execution": {
     "iopub.execute_input": "2022-07-19T19:25:46.218302Z",
     "iopub.status.busy": "2022-07-19T19:25:46.218094Z",
     "iopub.status.idle": "2022-07-19T19:25:46.240084Z",
     "shell.execute_reply": "2022-07-19T19:25:46.239591Z"
    }
   },
   "outputs": [
    {
     "data": {
      "text/html": [
       "4 composition paths. Results:\n",
       "<br />&nbsp;&nbsp;&nbsp;&nbsp;[0]: $[\\![\\mathbf{\\text{[gray [cat [inP texas]]]}}]\\!]^{}_{\\left\\langle{}e,t\\right\\rangle{}} \\:=\\: $$\\lambda{} x_{e} \\: . \\: ({Gray}({x}) \\wedge{} ({Cat}({x}) \\wedge{} {In}({x}, {Texas}_{e})))$\n",
       "<br />&nbsp;&nbsp;&nbsp;&nbsp;[1]: $[\\![\\mathbf{\\text{[[cat [inP texas]] gray]}}]\\!]^{}_{\\left\\langle{}e,t\\right\\rangle{}} \\:=\\: $$\\lambda{} x_{e} \\: . \\: (({Cat}({x}) \\wedge{} {In}({x}, {Texas}_{e})) \\wedge{} {Gray}({x}))$\n",
       "<br />&nbsp;&nbsp;&nbsp;&nbsp;[2]: $[\\![\\mathbf{\\text{[gray [[inP texas] cat]]}}]\\!]^{}_{\\left\\langle{}e,t\\right\\rangle{}} \\:=\\: $$\\lambda{} x_{e} \\: . \\: ({Gray}({x}) \\wedge{} ({In}({x}, {Texas}_{e}) \\wedge{} {Cat}({x})))$\n",
       "<br />&nbsp;&nbsp;&nbsp;&nbsp;[3]: $[\\![\\mathbf{\\text{[[[inP texas] cat] gray]}}]\\!]^{}_{\\left\\langle{}e,t\\right\\rangle{}} \\:=\\: $$\\lambda{} x_{e} \\: . \\: (({In}({x}, {Texas}_{e}) \\wedge{} {Cat}({x})) \\wedge{} {Gray}({x}))$"
      ],
      "text/plain": [
       "CompositionResult(results=[⟦[gray [cat [inP texas]]]⟧ = (λ x_e: (Gray_<e,t>(x_e) & (Cat_<e,t>(x_e) & In_<(e,e),t>(x_e, Texas_e)))), ⟦[[cat [inP texas]] gray]⟧ = (λ x_e: ((Cat_<e,t>(x_e) & In_<(e,e),t>(x_e, Texas_e)) & Gray_<e,t>(x_e))), ⟦[gray [[inP texas] cat]]⟧ = (λ x_e: (Gray_<e,t>(x_e) & (In_<(e,e),t>(x_e, Texas_e) & Cat_<e,t>(x_e)))), ⟦[[[inP texas] cat] gray]⟧ = (λ x_e: ((In_<(e,e),t>(x_e, Texas_e) & Cat_<e,t>(x_e)) & Gray_<e,t>(x_e)))], failures=[⟦[gray [cat [inP texas]]]⟧ = Type mismatch: '⟦gray⟧ = (λ x_e: Gray_<e,t>(x_e))'/<e,t> and '⟦[cat [inP texas]]⟧ = (λ x_e: (Cat_<e,t>(x_e) & In_<(e,e),t>(x_e, Texas_e)))'/<e,t> conflict (Function Application), ⟦[[cat [inP texas]] gray]⟧ = Type mismatch: '⟦[cat [inP texas]]⟧ = (λ x_e: (Cat_<e,t>(x_e) & In_<(e,e),t>(x_e, Texas_e)))'/<e,t> and '⟦gray⟧ = (λ x_e: Gray_<e,t>(x_e))'/<e,t> conflict (Function Application), ⟦[gray [cat [inP texas]]]⟧ = Composition failure (PA requires a valid binder) on: ⟦gray⟧ = (λ x_e: Gray_<e,t>(x_e)) * ⟦[cat [inP texas]]⟧ = (λ x_e: (Cat_<e,t>(x_e) & In_<(e,e),t>(x_e, Texas_e))), ⟦[[cat [inP texas]] gray]⟧ = Composition failure (PA requires a valid binder) on: ⟦[cat [inP texas]]⟧ = (λ x_e: (Cat_<e,t>(x_e) & In_<(e,e),t>(x_e, Texas_e))) * ⟦gray⟧ = (λ x_e: Gray_<e,t>(x_e)), ⟦[gray [[inP texas] cat]]⟧ = Type mismatch: '⟦gray⟧ = (λ x_e: Gray_<e,t>(x_e))'/<e,t> and '⟦[[inP texas] cat]⟧ = (λ x_e: (In_<(e,e),t>(x_e, Texas_e) & Cat_<e,t>(x_e)))'/<e,t> conflict (Function Application), ⟦[[[inP texas] cat] gray]⟧ = Type mismatch: '⟦[[inP texas] cat]⟧ = (λ x_e: (In_<(e,e),t>(x_e, Texas_e) & Cat_<e,t>(x_e)))'/<e,t> and '⟦gray⟧ = (λ x_e: Gray_<e,t>(x_e))'/<e,t> conflict (Function Application), ⟦[gray [[inP texas] cat]]⟧ = Composition failure (PA requires a valid binder) on: ⟦gray⟧ = (λ x_e: Gray_<e,t>(x_e)) * ⟦[[inP texas] cat]⟧ = (λ x_e: (In_<(e,e),t>(x_e, Texas_e) & Cat_<e,t>(x_e))), ⟦[[[inP texas] cat] gray]⟧ = Composition failure (PA requires a valid binder) on: ⟦[[inP texas] cat]⟧ = (λ x_e: (In_<(e,e),t>(x_e, Texas_e) & Cat_<e,t>(x_e))) * ⟦gray⟧ = (λ x_e: Gray_<e,t>(x_e))])"
      ]
     },
     "execution_count": 35,
     "metadata": {},
     "output_type": "execute_result"
    }
   ],
   "source": [
    "gray * (cat * (inP * texas))"
   ]
  },
  {
   "cell_type": "code",
   "execution_count": 36,
   "metadata": {
    "execution": {
     "iopub.execute_input": "2022-07-19T19:25:46.242451Z",
     "iopub.status.busy": "2022-07-19T19:25:46.242242Z",
     "iopub.status.idle": "2022-07-19T19:25:46.295350Z",
     "shell.execute_reply": "2022-07-19T19:25:46.294642Z"
    }
   },
   "outputs": [
    {
     "data": {
      "text/html": [
       "4 composition paths. Results:\n",
       "<br />&nbsp;&nbsp;&nbsp;&nbsp;[0]: $[\\![\\mathbf{\\text{[isV [a [[gray cat] [inP texas]]]]}}]\\!]^{}_{\\left\\langle{}e,t\\right\\rangle{}} \\:=\\: $$\\lambda{} x_{e} \\: . \\: (({Gray}({x}) \\wedge{} {Cat}({x})) \\wedge{} {In}({x}, {Texas}_{e}))$\n",
       "<br />&nbsp;&nbsp;&nbsp;&nbsp;[1]: $[\\![\\mathbf{\\text{[isV [a [[inP texas] [gray cat]]]]}}]\\!]^{}_{\\left\\langle{}e,t\\right\\rangle{}} \\:=\\: $$\\lambda{} x_{e} \\: . \\: ({In}({x}, {Texas}_{e}) \\wedge{} ({Gray}({x}) \\wedge{} {Cat}({x})))$\n",
       "<br />&nbsp;&nbsp;&nbsp;&nbsp;[2]: $[\\![\\mathbf{\\text{[isV [a [[cat gray] [inP texas]]]]}}]\\!]^{}_{\\left\\langle{}e,t\\right\\rangle{}} \\:=\\: $$\\lambda{} x_{e} \\: . \\: (({Cat}({x}) \\wedge{} {Gray}({x})) \\wedge{} {In}({x}, {Texas}_{e}))$\n",
       "<br />&nbsp;&nbsp;&nbsp;&nbsp;[3]: $[\\![\\mathbf{\\text{[isV [a [[inP texas] [cat gray]]]]}}]\\!]^{}_{\\left\\langle{}e,t\\right\\rangle{}} \\:=\\: $$\\lambda{} x_{e} \\: . \\: ({In}({x}, {Texas}_{e}) \\wedge{} ({Cat}({x}) \\wedge{} {Gray}({x})))$"
      ],
      "text/plain": [
       "CompositionResult(results=[⟦[isV [a [[gray cat] [inP texas]]]]⟧ = (λ x_e: ((Gray_<e,t>(x_e) & Cat_<e,t>(x_e)) & In_<(e,e),t>(x_e, Texas_e))), ⟦[isV [a [[inP texas] [gray cat]]]]⟧ = (λ x_e: (In_<(e,e),t>(x_e, Texas_e) & (Gray_<e,t>(x_e) & Cat_<e,t>(x_e)))), ⟦[isV [a [[cat gray] [inP texas]]]]⟧ = (λ x_e: ((Cat_<e,t>(x_e) & Gray_<e,t>(x_e)) & In_<(e,e),t>(x_e, Texas_e))), ⟦[isV [a [[inP texas] [cat gray]]]]⟧ = (λ x_e: (In_<(e,e),t>(x_e, Texas_e) & (Cat_<e,t>(x_e) & Gray_<e,t>(x_e))))], failures=[⟦[[a [[gray cat] [inP texas]]] isV]⟧ = Type mismatch: '⟦[a [[gray cat] [inP texas]]]⟧ = (λ x_e: ((Gray_<e,t>(x_e) & Cat_<e,t>(x_e)) & In_<(e,e),t>(x_e, Texas_e)))'/<e,t> and '⟦isV⟧ = (λ p_<e,t>: p_<e,t>)'/<<e,t>,<e,t>> conflict (Function Application), ⟦[isV [a [[gray cat] [inP texas]]]]⟧ = Type mismatch: '⟦isV⟧ = (λ p_<e,t>: p_<e,t>)'/<<e,t>,<e,t>> and '⟦[a [[gray cat] [inP texas]]]⟧ = (λ x_e: ((Gray_<e,t>(x_e) & Cat_<e,t>(x_e)) & In_<(e,e),t>(x_e, Texas_e)))'/<e,t> conflict (Predicate Modification), ⟦[[a [[gray cat] [inP texas]]] isV]⟧ = Type mismatch: '⟦[a [[gray cat] [inP texas]]]⟧ = (λ x_e: ((Gray_<e,t>(x_e) & Cat_<e,t>(x_e)) & In_<(e,e),t>(x_e, Texas_e)))'/<e,t> and '⟦isV⟧ = (λ p_<e,t>: p_<e,t>)'/<<e,t>,<e,t>> conflict (Predicate Modification), ⟦[isV [a [[gray cat] [inP texas]]]]⟧ = Composition failure (PA requires a valid binder) on: ⟦isV⟧ = (λ p_<e,t>: p_<e,t>) * ⟦[a [[gray cat] [inP texas]]]⟧ = (λ x_e: ((Gray_<e,t>(x_e) & Cat_<e,t>(x_e)) & In_<(e,e),t>(x_e, Texas_e))), ⟦[[a [[gray cat] [inP texas]]] isV]⟧ = Composition failure (PA requires a valid binder) on: ⟦[a [[gray cat] [inP texas]]]⟧ = (λ x_e: ((Gray_<e,t>(x_e) & Cat_<e,t>(x_e)) & In_<(e,e),t>(x_e, Texas_e))) * ⟦isV⟧ = (λ p_<e,t>: p_<e,t>), ⟦[[a [[inP texas] [gray cat]]] isV]⟧ = Type mismatch: '⟦[a [[inP texas] [gray cat]]]⟧ = (λ x_e: (In_<(e,e),t>(x_e, Texas_e) & (Gray_<e,t>(x_e) & Cat_<e,t>(x_e))))'/<e,t> and '⟦isV⟧ = (λ p_<e,t>: p_<e,t>)'/<<e,t>,<e,t>> conflict (Function Application), ⟦[isV [a [[inP texas] [gray cat]]]]⟧ = Type mismatch: '⟦isV⟧ = (λ p_<e,t>: p_<e,t>)'/<<e,t>,<e,t>> and '⟦[a [[inP texas] [gray cat]]]⟧ = (λ x_e: (In_<(e,e),t>(x_e, Texas_e) & (Gray_<e,t>(x_e) & Cat_<e,t>(x_e))))'/<e,t> conflict (Predicate Modification), ⟦[[a [[inP texas] [gray cat]]] isV]⟧ = Type mismatch: '⟦[a [[inP texas] [gray cat]]]⟧ = (λ x_e: (In_<(e,e),t>(x_e, Texas_e) & (Gray_<e,t>(x_e) & Cat_<e,t>(x_e))))'/<e,t> and '⟦isV⟧ = (λ p_<e,t>: p_<e,t>)'/<<e,t>,<e,t>> conflict (Predicate Modification), ⟦[isV [a [[inP texas] [gray cat]]]]⟧ = Composition failure (PA requires a valid binder) on: ⟦isV⟧ = (λ p_<e,t>: p_<e,t>) * ⟦[a [[inP texas] [gray cat]]]⟧ = (λ x_e: (In_<(e,e),t>(x_e, Texas_e) & (Gray_<e,t>(x_e) & Cat_<e,t>(x_e)))), ⟦[[a [[inP texas] [gray cat]]] isV]⟧ = Composition failure (PA requires a valid binder) on: ⟦[a [[inP texas] [gray cat]]]⟧ = (λ x_e: (In_<(e,e),t>(x_e, Texas_e) & (Gray_<e,t>(x_e) & Cat_<e,t>(x_e)))) * ⟦isV⟧ = (λ p_<e,t>: p_<e,t>), ⟦[[a [[cat gray] [inP texas]]] isV]⟧ = Type mismatch: '⟦[a [[cat gray] [inP texas]]]⟧ = (λ x_e: ((Cat_<e,t>(x_e) & Gray_<e,t>(x_e)) & In_<(e,e),t>(x_e, Texas_e)))'/<e,t> and '⟦isV⟧ = (λ p_<e,t>: p_<e,t>)'/<<e,t>,<e,t>> conflict (Function Application), ⟦[isV [a [[cat gray] [inP texas]]]]⟧ = Type mismatch: '⟦isV⟧ = (λ p_<e,t>: p_<e,t>)'/<<e,t>,<e,t>> and '⟦[a [[cat gray] [inP texas]]]⟧ = (λ x_e: ((Cat_<e,t>(x_e) & Gray_<e,t>(x_e)) & In_<(e,e),t>(x_e, Texas_e)))'/<e,t> conflict (Predicate Modification), ⟦[[a [[cat gray] [inP texas]]] isV]⟧ = Type mismatch: '⟦[a [[cat gray] [inP texas]]]⟧ = (λ x_e: ((Cat_<e,t>(x_e) & Gray_<e,t>(x_e)) & In_<(e,e),t>(x_e, Texas_e)))'/<e,t> and '⟦isV⟧ = (λ p_<e,t>: p_<e,t>)'/<<e,t>,<e,t>> conflict (Predicate Modification), ⟦[isV [a [[cat gray] [inP texas]]]]⟧ = Composition failure (PA requires a valid binder) on: ⟦isV⟧ = (λ p_<e,t>: p_<e,t>) * ⟦[a [[cat gray] [inP texas]]]⟧ = (λ x_e: ((Cat_<e,t>(x_e) & Gray_<e,t>(x_e)) & In_<(e,e),t>(x_e, Texas_e))), ⟦[[a [[cat gray] [inP texas]]] isV]⟧ = Composition failure (PA requires a valid binder) on: ⟦[a [[cat gray] [inP texas]]]⟧ = (λ x_e: ((Cat_<e,t>(x_e) & Gray_<e,t>(x_e)) & In_<(e,e),t>(x_e, Texas_e))) * ⟦isV⟧ = (λ p_<e,t>: p_<e,t>), ⟦[[a [[inP texas] [cat gray]]] isV]⟧ = Type mismatch: '⟦[a [[inP texas] [cat gray]]]⟧ = (λ x_e: (In_<(e,e),t>(x_e, Texas_e) & (Cat_<e,t>(x_e) & Gray_<e,t>(x_e))))'/<e,t> and '⟦isV⟧ = (λ p_<e,t>: p_<e,t>)'/<<e,t>,<e,t>> conflict (Function Application), ⟦[isV [a [[inP texas] [cat gray]]]]⟧ = Type mismatch: '⟦isV⟧ = (λ p_<e,t>: p_<e,t>)'/<<e,t>,<e,t>> and '⟦[a [[inP texas] [cat gray]]]⟧ = (λ x_e: (In_<(e,e),t>(x_e, Texas_e) & (Cat_<e,t>(x_e) & Gray_<e,t>(x_e))))'/<e,t> conflict (Predicate Modification), ⟦[[a [[inP texas] [cat gray]]] isV]⟧ = Type mismatch: '⟦[a [[inP texas] [cat gray]]]⟧ = (λ x_e: (In_<(e,e),t>(x_e, Texas_e) & (Cat_<e,t>(x_e) & Gray_<e,t>(x_e))))'/<e,t> and '⟦isV⟧ = (λ p_<e,t>: p_<e,t>)'/<<e,t>,<e,t>> conflict (Predicate Modification), ⟦[isV [a [[inP texas] [cat gray]]]]⟧ = Composition failure (PA requires a valid binder) on: ⟦isV⟧ = (λ p_<e,t>: p_<e,t>) * ⟦[a [[inP texas] [cat gray]]]⟧ = (λ x_e: (In_<(e,e),t>(x_e, Texas_e) & (Cat_<e,t>(x_e) & Gray_<e,t>(x_e)))), ⟦[[a [[inP texas] [cat gray]]] isV]⟧ = Composition failure (PA requires a valid binder) on: ⟦[a [[inP texas] [cat gray]]]⟧ = (λ x_e: (In_<(e,e),t>(x_e, Texas_e) & (Cat_<e,t>(x_e) & Gray_<e,t>(x_e)))) * ⟦isV⟧ = (λ p_<e,t>: p_<e,t>)])"
      ]
     },
     "execution_count": 36,
     "metadata": {},
     "output_type": "execute_result"
    }
   ],
   "source": [
    "a = lang.Item(\"a\", isV.content) # identity function for copula as well\n",
    "isV * (a * (gray * cat * (inP * texas)))"
   ]
  },
  {
   "cell_type": "code",
   "execution_count": 37,
   "metadata": {
    "execution": {
     "iopub.execute_input": "2022-07-19T19:25:46.297727Z",
     "iopub.status.busy": "2022-07-19T19:25:46.297525Z",
     "iopub.status.idle": "2022-07-19T19:25:46.325045Z",
     "shell.execute_reply": "2022-07-19T19:25:46.324519Z"
    }
   },
   "outputs": [
    {
     "data": {
      "text/html": [
       "4 composition paths. Results:\n",
       "<br />&nbsp;&nbsp;&nbsp;&nbsp;[0]: $[\\![\\mathbf{\\text{[[isV [a [[gray cat] [inP texas]]]] julius]}}]\\!]^{}_{t} \\:=\\: $$(({Gray}({Julius}_{e}) \\wedge{} {Cat}({Julius}_{e})) \\wedge{} {In}({Julius}_{e}, {Texas}_{e}))$\n",
       "<br />&nbsp;&nbsp;&nbsp;&nbsp;[1]: $[\\![\\mathbf{\\text{[[isV [a [[inP texas] [gray cat]]]] julius]}}]\\!]^{}_{t} \\:=\\: $$({In}({Julius}_{e}, {Texas}_{e}) \\wedge{} ({Gray}({Julius}_{e}) \\wedge{} {Cat}({Julius}_{e})))$\n",
       "<br />&nbsp;&nbsp;&nbsp;&nbsp;[2]: $[\\![\\mathbf{\\text{[[isV [a [[cat gray] [inP texas]]]] julius]}}]\\!]^{}_{t} \\:=\\: $$(({Cat}({Julius}_{e}) \\wedge{} {Gray}({Julius}_{e})) \\wedge{} {In}({Julius}_{e}, {Texas}_{e}))$\n",
       "<br />&nbsp;&nbsp;&nbsp;&nbsp;[3]: $[\\![\\mathbf{\\text{[[isV [a [[inP texas] [cat gray]]]] julius]}}]\\!]^{}_{t} \\:=\\: $$({In}({Julius}_{e}, {Texas}_{e}) \\wedge{} ({Cat}({Julius}_{e}) \\wedge{} {Gray}({Julius}_{e})))$"
      ],
      "text/plain": [
       "CompositionResult(results=[⟦[[isV [a [[gray cat] [inP texas]]]] julius]⟧ = ((Gray_<e,t>(Julius_e) & Cat_<e,t>(Julius_e)) & In_<(e,e),t>(Julius_e, Texas_e)), ⟦[[isV [a [[inP texas] [gray cat]]]] julius]⟧ = (In_<(e,e),t>(Julius_e, Texas_e) & (Gray_<e,t>(Julius_e) & Cat_<e,t>(Julius_e))), ⟦[[isV [a [[cat gray] [inP texas]]]] julius]⟧ = ((Cat_<e,t>(Julius_e) & Gray_<e,t>(Julius_e)) & In_<(e,e),t>(Julius_e, Texas_e)), ⟦[[isV [a [[inP texas] [cat gray]]]] julius]⟧ = (In_<(e,e),t>(Julius_e, Texas_e) & (Cat_<e,t>(Julius_e) & Gray_<e,t>(Julius_e)))], failures=[⟦[julius [isV [a [[gray cat] [inP texas]]]]]⟧ = Type mismatch: '⟦julius⟧ = Julius_e'/e and '⟦[isV [a [[gray cat] [inP texas]]]]⟧ = (λ x_e: ((Gray_<e,t>(x_e) & Cat_<e,t>(x_e)) & In_<(e,e),t>(x_e, Texas_e)))'/<e,t> conflict (Function Application), ⟦[julius [isV [a [[gray cat] [inP texas]]]]]⟧ = Type mismatch: '⟦julius⟧ = Julius_e'/e and '⟦[isV [a [[gray cat] [inP texas]]]]⟧ = (λ x_e: ((Gray_<e,t>(x_e) & Cat_<e,t>(x_e)) & In_<(e,e),t>(x_e, Texas_e)))'/<e,t> conflict (Predicate Modification), ⟦[[isV [a [[gray cat] [inP texas]]]] julius]⟧ = Type mismatch: '⟦[isV [a [[gray cat] [inP texas]]]]⟧ = (λ x_e: ((Gray_<e,t>(x_e) & Cat_<e,t>(x_e)) & In_<(e,e),t>(x_e, Texas_e)))'/<e,t> and '⟦julius⟧ = Julius_e'/e conflict (Predicate Modification), ⟦[julius [isV [a [[gray cat] [inP texas]]]]]⟧ = Composition failure (PA requires a valid binder) on: ⟦julius⟧ = Julius_e * ⟦[isV [a [[gray cat] [inP texas]]]]⟧ = (λ x_e: ((Gray_<e,t>(x_e) & Cat_<e,t>(x_e)) & In_<(e,e),t>(x_e, Texas_e))), ⟦[[isV [a [[gray cat] [inP texas]]]] julius]⟧ = Composition failure (PA requires a valid binder) on: ⟦[isV [a [[gray cat] [inP texas]]]]⟧ = (λ x_e: ((Gray_<e,t>(x_e) & Cat_<e,t>(x_e)) & In_<(e,e),t>(x_e, Texas_e))) * ⟦julius⟧ = Julius_e, ⟦[julius [isV [a [[inP texas] [gray cat]]]]]⟧ = Type mismatch: '⟦julius⟧ = Julius_e'/e and '⟦[isV [a [[inP texas] [gray cat]]]]⟧ = (λ x_e: (In_<(e,e),t>(x_e, Texas_e) & (Gray_<e,t>(x_e) & Cat_<e,t>(x_e))))'/<e,t> conflict (Function Application), ⟦[julius [isV [a [[inP texas] [gray cat]]]]]⟧ = Type mismatch: '⟦julius⟧ = Julius_e'/e and '⟦[isV [a [[inP texas] [gray cat]]]]⟧ = (λ x_e: (In_<(e,e),t>(x_e, Texas_e) & (Gray_<e,t>(x_e) & Cat_<e,t>(x_e))))'/<e,t> conflict (Predicate Modification), ⟦[[isV [a [[inP texas] [gray cat]]]] julius]⟧ = Type mismatch: '⟦[isV [a [[inP texas] [gray cat]]]]⟧ = (λ x_e: (In_<(e,e),t>(x_e, Texas_e) & (Gray_<e,t>(x_e) & Cat_<e,t>(x_e))))'/<e,t> and '⟦julius⟧ = Julius_e'/e conflict (Predicate Modification), ⟦[julius [isV [a [[inP texas] [gray cat]]]]]⟧ = Composition failure (PA requires a valid binder) on: ⟦julius⟧ = Julius_e * ⟦[isV [a [[inP texas] [gray cat]]]]⟧ = (λ x_e: (In_<(e,e),t>(x_e, Texas_e) & (Gray_<e,t>(x_e) & Cat_<e,t>(x_e)))), ⟦[[isV [a [[inP texas] [gray cat]]]] julius]⟧ = Composition failure (PA requires a valid binder) on: ⟦[isV [a [[inP texas] [gray cat]]]]⟧ = (λ x_e: (In_<(e,e),t>(x_e, Texas_e) & (Gray_<e,t>(x_e) & Cat_<e,t>(x_e)))) * ⟦julius⟧ = Julius_e, ⟦[julius [isV [a [[cat gray] [inP texas]]]]]⟧ = Type mismatch: '⟦julius⟧ = Julius_e'/e and '⟦[isV [a [[cat gray] [inP texas]]]]⟧ = (λ x_e: ((Cat_<e,t>(x_e) & Gray_<e,t>(x_e)) & In_<(e,e),t>(x_e, Texas_e)))'/<e,t> conflict (Function Application), ⟦[julius [isV [a [[cat gray] [inP texas]]]]]⟧ = Type mismatch: '⟦julius⟧ = Julius_e'/e and '⟦[isV [a [[cat gray] [inP texas]]]]⟧ = (λ x_e: ((Cat_<e,t>(x_e) & Gray_<e,t>(x_e)) & In_<(e,e),t>(x_e, Texas_e)))'/<e,t> conflict (Predicate Modification), ⟦[[isV [a [[cat gray] [inP texas]]]] julius]⟧ = Type mismatch: '⟦[isV [a [[cat gray] [inP texas]]]]⟧ = (λ x_e: ((Cat_<e,t>(x_e) & Gray_<e,t>(x_e)) & In_<(e,e),t>(x_e, Texas_e)))'/<e,t> and '⟦julius⟧ = Julius_e'/e conflict (Predicate Modification), ⟦[julius [isV [a [[cat gray] [inP texas]]]]]⟧ = Composition failure (PA requires a valid binder) on: ⟦julius⟧ = Julius_e * ⟦[isV [a [[cat gray] [inP texas]]]]⟧ = (λ x_e: ((Cat_<e,t>(x_e) & Gray_<e,t>(x_e)) & In_<(e,e),t>(x_e, Texas_e))), ⟦[[isV [a [[cat gray] [inP texas]]]] julius]⟧ = Composition failure (PA requires a valid binder) on: ⟦[isV [a [[cat gray] [inP texas]]]]⟧ = (λ x_e: ((Cat_<e,t>(x_e) & Gray_<e,t>(x_e)) & In_<(e,e),t>(x_e, Texas_e))) * ⟦julius⟧ = Julius_e, ⟦[julius [isV [a [[inP texas] [cat gray]]]]]⟧ = Type mismatch: '⟦julius⟧ = Julius_e'/e and '⟦[isV [a [[inP texas] [cat gray]]]]⟧ = (λ x_e: (In_<(e,e),t>(x_e, Texas_e) & (Cat_<e,t>(x_e) & Gray_<e,t>(x_e))))'/<e,t> conflict (Function Application), ⟦[julius [isV [a [[inP texas] [cat gray]]]]]⟧ = Type mismatch: '⟦julius⟧ = Julius_e'/e and '⟦[isV [a [[inP texas] [cat gray]]]]⟧ = (λ x_e: (In_<(e,e),t>(x_e, Texas_e) & (Cat_<e,t>(x_e) & Gray_<e,t>(x_e))))'/<e,t> conflict (Predicate Modification), ⟦[[isV [a [[inP texas] [cat gray]]]] julius]⟧ = Type mismatch: '⟦[isV [a [[inP texas] [cat gray]]]]⟧ = (λ x_e: (In_<(e,e),t>(x_e, Texas_e) & (Cat_<e,t>(x_e) & Gray_<e,t>(x_e))))'/<e,t> and '⟦julius⟧ = Julius_e'/e conflict (Predicate Modification), ⟦[julius [isV [a [[inP texas] [cat gray]]]]]⟧ = Composition failure (PA requires a valid binder) on: ⟦julius⟧ = Julius_e * ⟦[isV [a [[inP texas] [cat gray]]]]⟧ = (λ x_e: (In_<(e,e),t>(x_e, Texas_e) & (Cat_<e,t>(x_e) & Gray_<e,t>(x_e)))), ⟦[[isV [a [[inP texas] [cat gray]]]] julius]⟧ = Composition failure (PA requires a valid binder) on: ⟦[isV [a [[inP texas] [cat gray]]]]⟧ = (λ x_e: (In_<(e,e),t>(x_e, Texas_e) & (Cat_<e,t>(x_e) & Gray_<e,t>(x_e)))) * ⟦julius⟧ = Julius_e])"
      ]
     },
     "execution_count": 37,
     "metadata": {},
     "output_type": "execute_result"
    }
   ],
   "source": [
    "np = ((gray * cat) * (inP * texas))\n",
    "vp = (isV * (a * np))\n",
    "sentence2 = julius * vp\n",
    "sentence2"
   ]
  },
  {
   "cell_type": "code",
   "execution_count": 38,
   "metadata": {
    "execution": {
     "iopub.execute_input": "2022-07-19T19:25:46.327595Z",
     "iopub.status.busy": "2022-07-19T19:25:46.327385Z",
     "iopub.status.idle": "2022-07-19T19:25:46.332145Z",
     "shell.execute_reply": "2022-07-19T19:25:46.331571Z"
    }
   },
   "outputs": [
    {
     "data": {
      "text/html": [
       "$[\\![\\mathbf{\\text{[[isV [inP texas]] julius]}}]\\!]^{}_{t} \\:=\\: $${In}({Julius}_{e}, {Texas}_{e})$"
      ],
      "text/latex": [
       "$[\\![\\mathbf{\\text{[[isV [inP texas]] julius]}}]\\!]^{}_{t} \\:=\\: $${In}({Julius}_{e}, {Texas}_{e})$"
      ],
      "text/plain": [
       "⟦[[isV [inP texas]] julius]⟧ = In_<(e,e),t>(Julius_e, Texas_e)"
      ]
     },
     "execution_count": 38,
     "metadata": {},
     "output_type": "execute_result"
    }
   ],
   "source": [
    "sentence1.results[0]"
   ]
  },
  {
   "cell_type": "code",
   "execution_count": 39,
   "metadata": {
    "execution": {
     "iopub.execute_input": "2022-07-19T19:25:46.334557Z",
     "iopub.status.busy": "2022-07-19T19:25:46.334306Z",
     "iopub.status.idle": "2022-07-19T19:25:46.340133Z",
     "shell.execute_reply": "2022-07-19T19:25:46.339281Z"
    }
   },
   "outputs": [
    {
     "data": {
      "text/html": [
       "<div align=\"center\" style=\"display:table; margin:5px; border-collapse: collapse;border: 1px solid #848482;\"><div align=\"center\" style=\"display:table-row;border-bottom:1px solid #848482\"><div style=\"display:table-cell;vertical-align:middle;\"><div style=\"display: table;\"><div style=\"display:table-cell;vertical-align:middle;padding-left:5px;padding-right:5px;padding-top:5px;padding-bottom:5px;\"><div align=\"center\" style=\"display:table; margin:5px; border-collapse: collapse;border: 1px solid #848482;\"><div align=\"center\" style=\"display:table-row;border-bottom:1px solid #848482\"><div style=\"display:table-cell;vertical-align:middle;\"><div style=\"display: table;\"><div style=\"display:table-cell;vertical-align:middle;padding-left:5px;padding-right:5px;padding-top:5px;padding-bottom:5px;\"><div align=\"center\" style=\"display:block;padding-left:5px;padding-right:5px;padding-top:5px;padding-bottom:5px;\"><div style=\"display:table;table-layout:auto;\" align=\"center\"><div style=\"display:table-row;\"><div style=\"display:table-cell;padding-right:2px; padding-left:2px;\" align=\"center\"><div style=\"display:inline-block;\"><span>$[\\![\\mathbf{\\text{isV}}]\\!]^{}_{\\left\\langle{}\\left\\langle{}e,t\\right\\rangle{},\\left\\langle{}e,t\\right\\rangle{}\\right\\rangle{}}$</span></div></div></div><div style=\"display:table-row;\"><div style=\"display:table-cell;padding-right:2px; padding-left:2px;\" align=\"center\"><div style=\"display:inline-block;\"><span>$\\lambda{} p_{\\left\\langle{}e,t\\right\\rangle{}} \\: . \\: {p}$</span></div></div></div></div></div></div><div style=\"align: center; vertical-align: middle; display: table-cell;\"><span style=\"padding:1em;\">*</span></div><div style=\"display:table-cell;vertical-align:middle;padding-left:5px;padding-right:5px;padding-top:5px;padding-bottom:5px;\"><div align=\"center\" style=\"display:table; margin:5px; border-collapse: collapse;border: 1px solid #848482;\"><div align=\"center\" style=\"display:table-row;border-bottom:1px solid #848482\"><div style=\"display:table-cell;vertical-align:middle;\"><div style=\"display: table;\"><div style=\"display:table-cell;vertical-align:middle;padding-left:5px;padding-right:5px;padding-top:5px;padding-bottom:5px;\"><div align=\"center\" style=\"display:block;padding-left:5px;padding-right:5px;padding-top:5px;padding-bottom:5px;\"><div style=\"display:table;table-layout:auto;\" align=\"center\"><div style=\"display:table-row;\"><div style=\"display:table-cell;padding-right:2px; padding-left:2px;\" align=\"center\"><div style=\"display:inline-block;\"><span>$[\\![\\mathbf{\\text{inP}}]\\!]^{}_{\\left\\langle{}e,\\left\\langle{}e,t\\right\\rangle{}\\right\\rangle{}}$</span></div></div></div><div style=\"display:table-row;\"><div style=\"display:table-cell;padding-right:2px; padding-left:2px;\" align=\"center\"><div style=\"display:inline-block;\"><span>$\\lambda{} x_{e} \\: . \\: \\lambda{} y_{e} \\: . \\: {In}({y}, {x})$</span></div></div></div></div></div></div><div style=\"align: center; vertical-align: middle; display: table-cell;\"><span style=\"padding:1em;\">*</span></div><div style=\"display:table-cell;vertical-align:middle;padding-left:5px;padding-right:5px;padding-top:5px;padding-bottom:5px;\"><div align=\"center\" style=\"display:block;padding-left:5px;padding-right:5px;padding-top:5px;padding-bottom:5px;\"><div style=\"display:table;table-layout:auto;\" align=\"center\"><div style=\"display:table-row;\"><div style=\"display:table-cell;padding-right:2px; padding-left:2px;\" align=\"center\"><div style=\"display:inline-block;\"><span>$[\\![\\mathbf{\\text{texas}}]\\!]^{}_{e}$</span></div></div></div><div style=\"display:table-row;\"><div style=\"display:table-cell;padding-right:2px; padding-left:2px;\" align=\"center\"><div style=\"display:inline-block;\"><span>${Texas}_{e}$</span></div></div></div></div></div></div></div></div><div style=\"display:table-cell;vertical-align:middle;border-left:1px solid #848482;padding:0.5em\"><div style=\"white-space:nowrap; color:blue;\"><b>[<div style=\"display:inline-block;\"><span>FA</span></div>]</b></div></div></div><div align=\"center\" style=\"display:table-row;padding-left:5px;padding-right:5px;padding-top:5px;padding-bottom:5px;\"><div align=\"center\" style=\"display:table-cell;\"><div align=\"center\" style=\"display:block;padding-left:5px;padding-right:5px;padding-top:5px;padding-bottom:5px;\"><div style=\"display:table;table-layout:auto;\" align=\"center\"><div style=\"display:table-row;\"><div style=\"display:table-cell;padding-right:2px; padding-left:2px;\" align=\"center\"><div style=\"display:inline-block;\"><span>$[\\![\\mathbf{\\text{[inP texas]}}]\\!]^{}_{\\left\\langle{}e,t\\right\\rangle{}}$</span></div></div></div><div style=\"display:table-row;\"><div style=\"display:table-cell;padding-right:2px; padding-left:2px;\" align=\"center\"><div style=\"display:inline-block;\"><span>$\\lambda{} y_{e} \\: . \\: {In}({y}, {Texas}_{e})$</span></div></div></div></div></div></div><div style=\"display:table-cell;\"></div></div></div></div></div></div><div style=\"display:table-cell;vertical-align:middle;border-left:1px solid #848482;padding:0.5em\"><div style=\"white-space:nowrap; color:blue;\"><b>[<div style=\"display:inline-block;\"><span>FA</span></div>]</b></div></div></div><div align=\"center\" style=\"display:table-row;padding-left:5px;padding-right:5px;padding-top:5px;padding-bottom:5px;\"><div align=\"center\" style=\"display:table-cell;\"><div align=\"center\" style=\"display:block;padding-left:5px;padding-right:5px;padding-top:5px;padding-bottom:5px;\"><div style=\"display:table;table-layout:auto;\" align=\"center\"><div style=\"display:table-row;\"><div style=\"display:table-cell;padding-right:2px; padding-left:2px;\" align=\"center\"><div style=\"display:inline-block;\"><span>$[\\![\\mathbf{\\text{[isV [inP texas]]}}]\\!]^{}_{\\left\\langle{}e,t\\right\\rangle{}}$</span></div></div></div><div style=\"display:table-row;\"><div style=\"display:table-cell;padding-right:2px; padding-left:2px;\" align=\"center\"><div style=\"display:inline-block;\"><span>$\\lambda{} y_{e} \\: . \\: {In}({y}, {Texas}_{e})$</span></div></div></div></div></div></div><div style=\"display:table-cell;\"></div></div></div></div><div style=\"align: center; vertical-align: middle; display: table-cell;\"><span style=\"padding:1em;\">*</span></div><div style=\"display:table-cell;vertical-align:middle;padding-left:5px;padding-right:5px;padding-top:5px;padding-bottom:5px;\"><div align=\"center\" style=\"display:block;padding-left:5px;padding-right:5px;padding-top:5px;padding-bottom:5px;\"><div style=\"display:table;table-layout:auto;\" align=\"center\"><div style=\"display:table-row;\"><div style=\"display:table-cell;padding-right:2px; padding-left:2px;\" align=\"center\"><div style=\"display:inline-block;\"><span>$[\\![\\mathbf{\\text{julius}}]\\!]^{}_{e}$</span></div></div></div><div style=\"display:table-row;\"><div style=\"display:table-cell;padding-right:2px; padding-left:2px;\" align=\"center\"><div style=\"display:inline-block;\"><span>${Julius}_{e}$</span></div></div></div></div></div></div></div></div><div style=\"display:table-cell;vertical-align:middle;border-left:1px solid #848482;padding:0.5em\"><div style=\"white-space:nowrap; color:blue;\"><b>[<div style=\"display:inline-block;\"><span>FA</span></div>]</b></div></div></div><div align=\"center\" style=\"display:table-row;padding-left:5px;padding-right:5px;padding-top:5px;padding-bottom:5px;\"><div align=\"center\" style=\"display:table-cell;\"><div align=\"center\" style=\"display:block;padding-left:5px;padding-right:5px;padding-top:5px;padding-bottom:5px;\"><div style=\"display:table;table-layout:auto;\" align=\"center\"><div style=\"display:table-row;\"><div style=\"display:table-cell;padding-right:2px; padding-left:2px;\" align=\"center\"><div style=\"display:inline-block;\"><span>$[\\![\\mathbf{\\text{[[isV [inP texas]] julius]}}]\\!]^{}_{t}$</span></div></div></div><div style=\"display:table-row;\"><div style=\"display:table-cell;padding-right:2px; padding-left:2px;\" align=\"center\"><div style=\"display:inline-block;\"><span>${In}({Julius}_{e}, {Texas}_{e})$</span></div></div></div></div></div></div><div style=\"display:table-cell;\"></div></div></div>"
      ],
      "text/plain": [
       "DisplayNode instance: HTML rendering only"
      ]
     },
     "execution_count": 39,
     "metadata": {},
     "output_type": "execute_result"
    }
   ],
   "source": [
    "sentence1.results[0].tree()"
   ]
  },
  {
   "cell_type": "code",
   "execution_count": 40,
   "metadata": {
    "execution": {
     "iopub.execute_input": "2022-07-19T19:25:46.342674Z",
     "iopub.status.busy": "2022-07-19T19:25:46.342467Z",
     "iopub.status.idle": "2022-07-19T19:25:46.348627Z",
     "shell.execute_reply": "2022-07-19T19:25:46.348053Z"
    }
   },
   "outputs": [
    {
     "data": {
      "text/html": [
       "<div align=\"center\" style=\"display:table; margin:5px; border-collapse: collapse;border: 1px solid #848482;\"><div align=\"center\" style=\"display:table-row;border-bottom:1px solid #848482\"><div style=\"display:table-cell;vertical-align:middle;\"><div style=\"display: table;\"><div style=\"display:table-cell;vertical-align:middle;padding-left:5px;padding-right:5px;padding-top:5px;padding-bottom:5px;\"><div align=\"center\" style=\"display:table; margin:5px; border-collapse: collapse;border: 1px solid #848482;\"><div align=\"center\" style=\"display:table-row;border-bottom:1px solid #848482\"><div style=\"display:table-cell;vertical-align:middle;\"><div style=\"display: table;\"><div style=\"display:table-cell;vertical-align:middle;padding-left:5px;padding-right:5px;padding-top:5px;padding-bottom:5px;\"><div align=\"center\" style=\"display:block;padding-left:5px;padding-right:5px;padding-top:5px;padding-bottom:5px;\"><div style=\"display:table;table-layout:auto;\" align=\"center\"><div style=\"display:table-row;\"><div style=\"display:table-cell;padding-right:2px; padding-left:2px;\" align=\"center\"><div style=\"display:inline-block;\"><span>$[\\![\\mathbf{\\text{isV}}]\\!]^{}_{\\left\\langle{}\\left\\langle{}e,t\\right\\rangle{},\\left\\langle{}e,t\\right\\rangle{}\\right\\rangle{}}$</span></div></div></div><div style=\"display:table-row;\"><div style=\"display:table-cell;padding-right:2px; padding-left:2px;\" align=\"center\"><div style=\"display:inline-block;\"><span>$\\lambda{} p_{\\left\\langle{}e,t\\right\\rangle{}} \\: . \\: {p}$</span></div></div></div></div></div></div><div style=\"align: center; vertical-align: middle; display: table-cell;\"><span style=\"padding:1em;\">*</span></div><div style=\"display:table-cell;vertical-align:middle;padding-left:5px;padding-right:5px;padding-top:5px;padding-bottom:5px;\"><div align=\"center\" style=\"display:table; margin:5px; border-collapse: collapse;border: 1px solid #848482;\"><div align=\"center\" style=\"display:table-row;border-bottom:1px solid #848482\"><div style=\"display:table-cell;vertical-align:middle;\"><div style=\"display: table;\"><div style=\"display:table-cell;vertical-align:middle;padding-left:5px;padding-right:5px;padding-top:5px;padding-bottom:5px;\"><div align=\"center\" style=\"display:block;padding-left:5px;padding-right:5px;padding-top:5px;padding-bottom:5px;\"><div style=\"display:table;table-layout:auto;\" align=\"center\"><div style=\"display:table-row;\"><div style=\"display:table-cell;padding-right:2px; padding-left:2px;\" align=\"center\"><div style=\"display:inline-block;\"><span>$[\\![\\mathbf{\\text{a}}]\\!]^{}_{\\left\\langle{}\\left\\langle{}e,t\\right\\rangle{},\\left\\langle{}e,t\\right\\rangle{}\\right\\rangle{}}$</span></div></div></div><div style=\"display:table-row;\"><div style=\"display:table-cell;padding-right:2px; padding-left:2px;\" align=\"center\"><div style=\"display:inline-block;\"><span>$\\lambda{} p_{\\left\\langle{}e,t\\right\\rangle{}} \\: . \\: {p}$</span></div></div></div></div></div></div><div style=\"align: center; vertical-align: middle; display: table-cell;\"><span style=\"padding:1em;\">*</span></div><div style=\"display:table-cell;vertical-align:middle;padding-left:5px;padding-right:5px;padding-top:5px;padding-bottom:5px;\"><div align=\"center\" style=\"display:table; margin:5px; border-collapse: collapse;border: 1px solid #848482;\"><div align=\"center\" style=\"display:table-row;border-bottom:1px solid #848482\"><div style=\"display:table-cell;vertical-align:middle;\"><div style=\"display: table;\"><div style=\"display:table-cell;vertical-align:middle;padding-left:5px;padding-right:5px;padding-top:5px;padding-bottom:5px;\"><div align=\"center\" style=\"display:table; margin:5px; border-collapse: collapse;border: 1px solid #848482;\"><div align=\"center\" style=\"display:table-row;border-bottom:1px solid #848482\"><div style=\"display:table-cell;vertical-align:middle;\"><div style=\"display: table;\"><div style=\"display:table-cell;vertical-align:middle;padding-left:5px;padding-right:5px;padding-top:5px;padding-bottom:5px;\"><div align=\"center\" style=\"display:block;padding-left:5px;padding-right:5px;padding-top:5px;padding-bottom:5px;\"><div style=\"display:table;table-layout:auto;\" align=\"center\"><div style=\"display:table-row;\"><div style=\"display:table-cell;padding-right:2px; padding-left:2px;\" align=\"center\"><div style=\"display:inline-block;\"><span>$[\\![\\mathbf{\\text{gray}}]\\!]^{}_{\\left\\langle{}e,t\\right\\rangle{}}$</span></div></div></div><div style=\"display:table-row;\"><div style=\"display:table-cell;padding-right:2px; padding-left:2px;\" align=\"center\"><div style=\"display:inline-block;\"><span>$\\lambda{} x_{e} \\: . \\: {Gray}({x})$</span></div></div></div></div></div></div><div style=\"align: center; vertical-align: middle; display: table-cell;\"><span style=\"padding:1em;\">*</span></div><div style=\"display:table-cell;vertical-align:middle;padding-left:5px;padding-right:5px;padding-top:5px;padding-bottom:5px;\"><div align=\"center\" style=\"display:block;padding-left:5px;padding-right:5px;padding-top:5px;padding-bottom:5px;\"><div style=\"display:table;table-layout:auto;\" align=\"center\"><div style=\"display:table-row;\"><div style=\"display:table-cell;padding-right:2px; padding-left:2px;\" align=\"center\"><div style=\"display:inline-block;\"><span>$[\\![\\mathbf{\\text{cat}}]\\!]^{}_{\\left\\langle{}e,t\\right\\rangle{}}$</span></div></div></div><div style=\"display:table-row;\"><div style=\"display:table-cell;padding-right:2px; padding-left:2px;\" align=\"center\"><div style=\"display:inline-block;\"><span>$\\lambda{} x_{e} \\: . \\: {Cat}({x})$</span></div></div></div></div></div></div></div></div><div style=\"display:table-cell;vertical-align:middle;border-left:1px solid #848482;padding:0.5em\"><div style=\"white-space:nowrap; color:blue;\"><b>[<div style=\"display:inline-block;\"><span>PM</span></div>]</b></div></div></div><div align=\"center\" style=\"display:table-row;padding-left:5px;padding-right:5px;padding-top:5px;padding-bottom:5px;\"><div align=\"center\" style=\"display:table-cell;\"><div align=\"center\" style=\"display:block;padding-left:5px;padding-right:5px;padding-top:5px;padding-bottom:5px;\"><div style=\"display:table;table-layout:auto;\" align=\"center\"><div style=\"display:table-row;\"><div style=\"display:table-cell;padding-right:2px; padding-left:2px;\" align=\"center\"><div style=\"display:inline-block;\"><span>$[\\![\\mathbf{\\text{[gray cat]}}]\\!]^{}_{\\left\\langle{}e,t\\right\\rangle{}}$</span></div></div></div><div style=\"display:table-row;\"><div style=\"display:table-cell;padding-right:2px; padding-left:2px;\" align=\"center\"><div style=\"display:inline-block;\"><span>$\\lambda{} x_{e} \\: . \\: ({Gray}({x}) \\wedge{} {Cat}({x}))$</span></div></div></div></div></div></div><div style=\"display:table-cell;\"></div></div></div></div><div style=\"align: center; vertical-align: middle; display: table-cell;\"><span style=\"padding:1em;\">*</span></div><div style=\"display:table-cell;vertical-align:middle;padding-left:5px;padding-right:5px;padding-top:5px;padding-bottom:5px;\"><div align=\"center\" style=\"display:table; margin:5px; border-collapse: collapse;border: 1px solid #848482;\"><div align=\"center\" style=\"display:table-row;border-bottom:1px solid #848482\"><div style=\"display:table-cell;vertical-align:middle;\"><div style=\"display: table;\"><div style=\"display:table-cell;vertical-align:middle;padding-left:5px;padding-right:5px;padding-top:5px;padding-bottom:5px;\"><div align=\"center\" style=\"display:block;padding-left:5px;padding-right:5px;padding-top:5px;padding-bottom:5px;\"><div style=\"display:table;table-layout:auto;\" align=\"center\"><div style=\"display:table-row;\"><div style=\"display:table-cell;padding-right:2px; padding-left:2px;\" align=\"center\"><div style=\"display:inline-block;\"><span>$[\\![\\mathbf{\\text{inP}}]\\!]^{}_{\\left\\langle{}e,\\left\\langle{}e,t\\right\\rangle{}\\right\\rangle{}}$</span></div></div></div><div style=\"display:table-row;\"><div style=\"display:table-cell;padding-right:2px; padding-left:2px;\" align=\"center\"><div style=\"display:inline-block;\"><span>$\\lambda{} x_{e} \\: . \\: \\lambda{} y_{e} \\: . \\: {In}({y}, {x})$</span></div></div></div></div></div></div><div style=\"align: center; vertical-align: middle; display: table-cell;\"><span style=\"padding:1em;\">*</span></div><div style=\"display:table-cell;vertical-align:middle;padding-left:5px;padding-right:5px;padding-top:5px;padding-bottom:5px;\"><div align=\"center\" style=\"display:block;padding-left:5px;padding-right:5px;padding-top:5px;padding-bottom:5px;\"><div style=\"display:table;table-layout:auto;\" align=\"center\"><div style=\"display:table-row;\"><div style=\"display:table-cell;padding-right:2px; padding-left:2px;\" align=\"center\"><div style=\"display:inline-block;\"><span>$[\\![\\mathbf{\\text{texas}}]\\!]^{}_{e}$</span></div></div></div><div style=\"display:table-row;\"><div style=\"display:table-cell;padding-right:2px; padding-left:2px;\" align=\"center\"><div style=\"display:inline-block;\"><span>${Texas}_{e}$</span></div></div></div></div></div></div></div></div><div style=\"display:table-cell;vertical-align:middle;border-left:1px solid #848482;padding:0.5em\"><div style=\"white-space:nowrap; color:blue;\"><b>[<div style=\"display:inline-block;\"><span>FA</span></div>]</b></div></div></div><div align=\"center\" style=\"display:table-row;padding-left:5px;padding-right:5px;padding-top:5px;padding-bottom:5px;\"><div align=\"center\" style=\"display:table-cell;\"><div align=\"center\" style=\"display:block;padding-left:5px;padding-right:5px;padding-top:5px;padding-bottom:5px;\"><div style=\"display:table;table-layout:auto;\" align=\"center\"><div style=\"display:table-row;\"><div style=\"display:table-cell;padding-right:2px; padding-left:2px;\" align=\"center\"><div style=\"display:inline-block;\"><span>$[\\![\\mathbf{\\text{[inP texas]}}]\\!]^{}_{\\left\\langle{}e,t\\right\\rangle{}}$</span></div></div></div><div style=\"display:table-row;\"><div style=\"display:table-cell;padding-right:2px; padding-left:2px;\" align=\"center\"><div style=\"display:inline-block;\"><span>$\\lambda{} y_{e} \\: . \\: {In}({y}, {Texas}_{e})$</span></div></div></div></div></div></div><div style=\"display:table-cell;\"></div></div></div></div></div></div><div style=\"display:table-cell;vertical-align:middle;border-left:1px solid #848482;padding:0.5em\"><div style=\"white-space:nowrap; color:blue;\"><b>[<div style=\"display:inline-block;\"><span>PM</span></div>]</b></div></div></div><div align=\"center\" style=\"display:table-row;padding-left:5px;padding-right:5px;padding-top:5px;padding-bottom:5px;\"><div align=\"center\" style=\"display:table-cell;\"><div align=\"center\" style=\"display:block;padding-left:5px;padding-right:5px;padding-top:5px;padding-bottom:5px;\"><div style=\"display:table;table-layout:auto;\" align=\"center\"><div style=\"display:table-row;\"><div style=\"display:table-cell;padding-right:2px; padding-left:2px;\" align=\"center\"><div style=\"display:inline-block;\"><span>$[\\![\\mathbf{\\text{[[gray cat] [inP texas]]}}]\\!]^{}_{\\left\\langle{}e,t\\right\\rangle{}}$</span></div></div></div><div style=\"display:table-row;\"><div style=\"display:table-cell;padding-right:2px; padding-left:2px;\" align=\"center\"><div style=\"display:inline-block;\"><span>$\\lambda{} x_{e} \\: . \\: (({Gray}({x}) \\wedge{} {Cat}({x})) \\wedge{} {In}({x}, {Texas}_{e}))$</span></div></div></div></div></div></div><div style=\"display:table-cell;\"></div></div></div></div></div></div><div style=\"display:table-cell;vertical-align:middle;border-left:1px solid #848482;padding:0.5em\"><div style=\"white-space:nowrap; color:blue;\"><b>[<div style=\"display:inline-block;\"><span>FA</span></div>]</b></div></div></div><div align=\"center\" style=\"display:table-row;padding-left:5px;padding-right:5px;padding-top:5px;padding-bottom:5px;\"><div align=\"center\" style=\"display:table-cell;\"><div align=\"center\" style=\"display:block;padding-left:5px;padding-right:5px;padding-top:5px;padding-bottom:5px;\"><div style=\"display:table;table-layout:auto;\" align=\"center\"><div style=\"display:table-row;\"><div style=\"display:table-cell;padding-right:2px; padding-left:2px;\" align=\"center\"><div style=\"display:inline-block;\"><span>$[\\![\\mathbf{\\text{[a [[gray cat] [inP texas]]]}}]\\!]^{}_{\\left\\langle{}e,t\\right\\rangle{}}$</span></div></div></div><div style=\"display:table-row;\"><div style=\"display:table-cell;padding-right:2px; padding-left:2px;\" align=\"center\"><div style=\"display:inline-block;\"><span>$\\lambda{} x_{e} \\: . \\: (({Gray}({x}) \\wedge{} {Cat}({x})) \\wedge{} {In}({x}, {Texas}_{e}))$</span></div></div></div></div></div></div><div style=\"display:table-cell;\"></div></div></div></div></div></div><div style=\"display:table-cell;vertical-align:middle;border-left:1px solid #848482;padding:0.5em\"><div style=\"white-space:nowrap; color:blue;\"><b>[<div style=\"display:inline-block;\"><span>FA</span></div>]</b></div></div></div><div align=\"center\" style=\"display:table-row;padding-left:5px;padding-right:5px;padding-top:5px;padding-bottom:5px;\"><div align=\"center\" style=\"display:table-cell;\"><div align=\"center\" style=\"display:block;padding-left:5px;padding-right:5px;padding-top:5px;padding-bottom:5px;\"><div style=\"display:table;table-layout:auto;\" align=\"center\"><div style=\"display:table-row;\"><div style=\"display:table-cell;padding-right:2px; padding-left:2px;\" align=\"center\"><div style=\"display:inline-block;\"><span>$[\\![\\mathbf{\\text{[isV [a [[gray cat] [inP texas]]]]}}]\\!]^{}_{\\left\\langle{}e,t\\right\\rangle{}}$</span></div></div></div><div style=\"display:table-row;\"><div style=\"display:table-cell;padding-right:2px; padding-left:2px;\" align=\"center\"><div style=\"display:inline-block;\"><span>$\\lambda{} x_{e} \\: . \\: (({Gray}({x}) \\wedge{} {Cat}({x})) \\wedge{} {In}({x}, {Texas}_{e}))$</span></div></div></div></div></div></div><div style=\"display:table-cell;\"></div></div></div></div><div style=\"align: center; vertical-align: middle; display: table-cell;\"><span style=\"padding:1em;\">*</span></div><div style=\"display:table-cell;vertical-align:middle;padding-left:5px;padding-right:5px;padding-top:5px;padding-bottom:5px;\"><div align=\"center\" style=\"display:block;padding-left:5px;padding-right:5px;padding-top:5px;padding-bottom:5px;\"><div style=\"display:table;table-layout:auto;\" align=\"center\"><div style=\"display:table-row;\"><div style=\"display:table-cell;padding-right:2px; padding-left:2px;\" align=\"center\"><div style=\"display:inline-block;\"><span>$[\\![\\mathbf{\\text{julius}}]\\!]^{}_{e}$</span></div></div></div><div style=\"display:table-row;\"><div style=\"display:table-cell;padding-right:2px; padding-left:2px;\" align=\"center\"><div style=\"display:inline-block;\"><span>${Julius}_{e}$</span></div></div></div></div></div></div></div></div><div style=\"display:table-cell;vertical-align:middle;border-left:1px solid #848482;padding:0.5em\"><div style=\"white-space:nowrap; color:blue;\"><b>[<div style=\"display:inline-block;\"><span>FA</span></div>]</b></div></div></div><div align=\"center\" style=\"display:table-row;padding-left:5px;padding-right:5px;padding-top:5px;padding-bottom:5px;\"><div align=\"center\" style=\"display:table-cell;\"><div align=\"center\" style=\"display:block;padding-left:5px;padding-right:5px;padding-top:5px;padding-bottom:5px;\"><div style=\"display:table;table-layout:auto;\" align=\"center\"><div style=\"display:table-row;\"><div style=\"display:table-cell;padding-right:2px; padding-left:2px;\" align=\"center\"><div style=\"display:inline-block;\"><span>$[\\![\\mathbf{\\text{[[isV [a [[gray cat] [inP texas]]]] julius]}}]\\!]^{}_{t}$</span></div></div></div><div style=\"display:table-row;\"><div style=\"display:table-cell;padding-right:2px; padding-left:2px;\" align=\"center\"><div style=\"display:inline-block;\"><span>$(({Gray}({Julius}_{e}) \\wedge{} {Cat}({Julius}_{e})) \\wedge{} {In}({Julius}_{e}, {Texas}_{e}))$</span></div></div></div></div></div></div><div style=\"display:table-cell;\"></div></div></div>"
      ],
      "text/plain": [
       "DisplayNode instance: HTML rendering only"
      ]
     },
     "execution_count": 40,
     "metadata": {},
     "output_type": "execute_result"
    }
   ],
   "source": [
    "sentence2.results[0].tree()"
   ]
  },
  {
   "cell_type": "markdown",
   "metadata": {},
   "source": [
    "One of the infamous exercise examples from Heim and Kratzer (names different):\n",
    "\n",
    "    (1) Julius is a gray cat in Texas fond of John.\n",
    " \n",
    "First let's get rid of all the extra readings, to keep this simple."
   ]
  },
  {
   "cell_type": "code",
   "execution_count": 41,
   "metadata": {
    "execution": {
     "iopub.execute_input": "2022-07-19T19:25:46.351112Z",
     "iopub.status.busy": "2022-07-19T19:25:46.350909Z",
     "iopub.status.idle": "2022-07-19T19:25:46.354178Z",
     "shell.execute_reply": "2022-07-19T19:25:46.353571Z"
    }
   },
   "outputs": [],
   "source": [
    "demo_hk_system.get_rule(\"PM\").commutative = True"
   ]
  },
  {
   "cell_type": "code",
   "execution_count": 42,
   "metadata": {
    "execution": {
     "iopub.execute_input": "2022-07-19T19:25:46.356910Z",
     "iopub.status.busy": "2022-07-19T19:25:46.356666Z",
     "iopub.status.idle": "2022-07-19T19:25:46.377020Z",
     "shell.execute_reply": "2022-07-19T19:25:46.376471Z"
    }
   },
   "outputs": [
    {
     "name": "stdout",
     "output_type": "stream",
     "text": [
      "INFO (core): Coerced guessed type for 'Fond_t' into <e,t>, to match argument 'y_e'\n",
      "INFO (core): Coerced guessed type for 'Fond_<e,t>(y_e)' into <e,t>, to match argument 'x_e'\n"
     ]
    },
    {
     "data": {
      "text/html": [
       "1 composition path.  Result:\n",
       "<br />&nbsp;&nbsp;&nbsp;&nbsp;[0]: $[\\![\\mathbf{\\text{[[isV [a [[[gray cat] [inP texas]] [fond [of john]]]]] julius]}}]\\!]^{}_{t} \\:=\\: $$((({Gray}({Julius}_{e}) \\wedge{} {Cat}({Julius}_{e})) \\wedge{} {In}({Julius}_{e}, {Texas}_{e})) \\wedge{} {Fond}_{\\left\\langle{}e,\\left\\langle{}e,t\\right\\rangle{}\\right\\rangle{}}({Julius}_{e})({John}_{e}))$"
      ],
      "text/plain": [
       "CompositionResult(results=[⟦[[isV [a [[[gray cat] [inP texas]] [fond [of john]]]]] julius]⟧ = (((Gray_<e,t>(Julius_e) & Cat_<e,t>(Julius_e)) & In_<(e,e),t>(Julius_e, Texas_e)) & Fond_<e,<e,t>>(Julius_e)(John_e))], failures=[⟦[julius [isV [a [[[gray cat] [inP texas]] [fond [of john]]]]]]⟧ = Type mismatch: '⟦julius⟧ = Julius_e'/e and '⟦[isV [a [[[gray cat] [inP texas]] [fond [of john]]]]]⟧ = (λ x_e: (((Gray_<e,t>(x_e) & Cat_<e,t>(x_e)) & In_<(e,e),t>(x_e, Texas_e)) & Fond_<e,<e,t>>(x_e)(John_e)))'/<e,t> conflict (Function Application), ⟦[julius [isV [a [[[gray cat] [inP texas]] [fond [of john]]]]]]⟧ = Type mismatch: '⟦julius⟧ = Julius_e'/e and '⟦[isV [a [[[gray cat] [inP texas]] [fond [of john]]]]]⟧ = (λ x_e: (((Gray_<e,t>(x_e) & Cat_<e,t>(x_e)) & In_<(e,e),t>(x_e, Texas_e)) & Fond_<e,<e,t>>(x_e)(John_e)))'/<e,t> conflict (Predicate Modification), ⟦[julius [isV [a [[[gray cat] [inP texas]] [fond [of john]]]]]]⟧ = Composition failure (PA requires a valid binder) on: ⟦julius⟧ = Julius_e * ⟦[isV [a [[[gray cat] [inP texas]] [fond [of john]]]]]⟧ = (λ x_e: (((Gray_<e,t>(x_e) & Cat_<e,t>(x_e)) & In_<(e,e),t>(x_e, Texas_e)) & Fond_<e,<e,t>>(x_e)(John_e))), ⟦[[isV [a [[[gray cat] [inP texas]] [fond [of john]]]]] julius]⟧ = Composition failure (PA requires a valid binder) on: ⟦[isV [a [[[gray cat] [inP texas]] [fond [of john]]]]]⟧ = (λ x_e: (((Gray_<e,t>(x_e) & Cat_<e,t>(x_e)) & In_<(e,e),t>(x_e, Texas_e)) & Fond_<e,<e,t>>(x_e)(John_e))) * ⟦julius⟧ = Julius_e])"
      ]
     },
     "execution_count": 42,
     "metadata": {},
     "output_type": "execute_result"
    }
   ],
   "source": [
    "fond = lang.Item(\"fond\", \"L x_e : L y_e : Fond(y)(x)\")\n",
    "ofP = lang.Item(\"of\", \"L x_e : x\")\n",
    "sentence3 = julius * (isV * (a * (((gray * cat) * (inP * texas)) * (fond * (ofP * john)))))\n",
    "sentence3"
   ]
  },
  {
   "cell_type": "code",
   "execution_count": 43,
   "metadata": {
    "execution": {
     "iopub.execute_input": "2022-07-19T19:25:46.379425Z",
     "iopub.status.busy": "2022-07-19T19:25:46.379183Z",
     "iopub.status.idle": "2022-07-19T19:25:46.387792Z",
     "shell.execute_reply": "2022-07-19T19:25:46.387212Z"
    }
   },
   "outputs": [
    {
     "data": {
      "text/html": [
       "1 composition path:<br /><div align=\"center\" style=\"display:table; margin:5px; border-collapse: collapse;border: 1px solid #848482;\"><div align=\"center\" style=\"display:table-row;border-bottom:1px solid #848482\"><div style=\"display:table-cell;vertical-align:middle;\"><div style=\"display: table;\"><div style=\"display:table-cell;vertical-align:middle;padding-left:5px;padding-right:5px;padding-top:5px;padding-bottom:5px;\"><div align=\"center\" style=\"display:table; margin:5px; border-collapse: collapse;border: 1px solid #848482;\"><div align=\"center\" style=\"display:table-row;border-bottom:1px solid #848482\"><div style=\"display:table-cell;vertical-align:middle;\"><div style=\"display: table;\"><div style=\"display:table-cell;vertical-align:middle;padding-left:5px;padding-right:5px;padding-top:5px;padding-bottom:5px;\"><div align=\"center\" style=\"display:block;padding-left:5px;padding-right:5px;padding-top:5px;padding-bottom:5px;\"><div style=\"display:table;table-layout:auto;\" align=\"center\"><div style=\"display:table-row;\"><div style=\"display:table-cell;padding-right:2px; padding-left:2px;\" align=\"center\"><div style=\"display:inline-block;\"><span>$[\\![\\mathbf{\\text{isV}}]\\!]^{}_{\\left\\langle{}\\left\\langle{}e,t\\right\\rangle{},\\left\\langle{}e,t\\right\\rangle{}\\right\\rangle{}}$</span></div></div></div><div style=\"display:table-row;\"><div style=\"display:table-cell;padding-right:2px; padding-left:2px;\" align=\"center\"><div style=\"display:inline-block;\"><span>$\\lambda{} p_{\\left\\langle{}e,t\\right\\rangle{}} \\: . \\: {p}$</span></div></div></div></div></div></div><div style=\"align: center; vertical-align: middle; display: table-cell;\"><span style=\"padding:1em;\">*</span></div><div style=\"display:table-cell;vertical-align:middle;padding-left:5px;padding-right:5px;padding-top:5px;padding-bottom:5px;\"><div align=\"center\" style=\"display:table; margin:5px; border-collapse: collapse;border: 1px solid #848482;\"><div align=\"center\" style=\"display:table-row;border-bottom:1px solid #848482\"><div style=\"display:table-cell;vertical-align:middle;\"><div style=\"display: table;\"><div style=\"display:table-cell;vertical-align:middle;padding-left:5px;padding-right:5px;padding-top:5px;padding-bottom:5px;\"><div align=\"center\" style=\"display:block;padding-left:5px;padding-right:5px;padding-top:5px;padding-bottom:5px;\"><div style=\"display:table;table-layout:auto;\" align=\"center\"><div style=\"display:table-row;\"><div style=\"display:table-cell;padding-right:2px; padding-left:2px;\" align=\"center\"><div style=\"display:inline-block;\"><span>$[\\![\\mathbf{\\text{a}}]\\!]^{}_{\\left\\langle{}\\left\\langle{}e,t\\right\\rangle{},\\left\\langle{}e,t\\right\\rangle{}\\right\\rangle{}}$</span></div></div></div><div style=\"display:table-row;\"><div style=\"display:table-cell;padding-right:2px; padding-left:2px;\" align=\"center\"><div style=\"display:inline-block;\"><span>$\\lambda{} p_{\\left\\langle{}e,t\\right\\rangle{}} \\: . \\: {p}$</span></div></div></div></div></div></div><div style=\"align: center; vertical-align: middle; display: table-cell;\"><span style=\"padding:1em;\">*</span></div><div style=\"display:table-cell;vertical-align:middle;padding-left:5px;padding-right:5px;padding-top:5px;padding-bottom:5px;\"><div align=\"center\" style=\"display:table; margin:5px; border-collapse: collapse;border: 1px solid #848482;\"><div align=\"center\" style=\"display:table-row;border-bottom:1px solid #848482\"><div style=\"display:table-cell;vertical-align:middle;\"><div style=\"display: table;\"><div style=\"display:table-cell;vertical-align:middle;padding-left:5px;padding-right:5px;padding-top:5px;padding-bottom:5px;\"><div align=\"center\" style=\"display:table; margin:5px; border-collapse: collapse;border: 1px solid #848482;\"><div align=\"center\" style=\"display:table-row;border-bottom:1px solid #848482\"><div style=\"display:table-cell;vertical-align:middle;\"><div style=\"display: table;\"><div style=\"display:table-cell;vertical-align:middle;padding-left:5px;padding-right:5px;padding-top:5px;padding-bottom:5px;\"><div align=\"center\" style=\"display:table; margin:5px; border-collapse: collapse;border: 1px solid #848482;\"><div align=\"center\" style=\"display:table-row;border-bottom:1px solid #848482\"><div style=\"display:table-cell;vertical-align:middle;\"><div style=\"display: table;\"><div style=\"display:table-cell;vertical-align:middle;padding-left:5px;padding-right:5px;padding-top:5px;padding-bottom:5px;\"><div align=\"center\" style=\"display:block;padding-left:5px;padding-right:5px;padding-top:5px;padding-bottom:5px;\"><div style=\"display:table;table-layout:auto;\" align=\"center\"><div style=\"display:table-row;\"><div style=\"display:table-cell;padding-right:2px; padding-left:2px;\" align=\"center\"><div style=\"display:inline-block;\"><span>$[\\![\\mathbf{\\text{gray}}]\\!]^{}_{\\left\\langle{}e,t\\right\\rangle{}}$</span></div></div></div><div style=\"display:table-row;\"><div style=\"display:table-cell;padding-right:2px; padding-left:2px;\" align=\"center\"><div style=\"display:inline-block;\"><span>$\\lambda{} x_{e} \\: . \\: {Gray}({x})$</span></div></div></div></div></div></div><div style=\"align: center; vertical-align: middle; display: table-cell;\"><span style=\"padding:1em;\">*</span></div><div style=\"display:table-cell;vertical-align:middle;padding-left:5px;padding-right:5px;padding-top:5px;padding-bottom:5px;\"><div align=\"center\" style=\"display:block;padding-left:5px;padding-right:5px;padding-top:5px;padding-bottom:5px;\"><div style=\"display:table;table-layout:auto;\" align=\"center\"><div style=\"display:table-row;\"><div style=\"display:table-cell;padding-right:2px; padding-left:2px;\" align=\"center\"><div style=\"display:inline-block;\"><span>$[\\![\\mathbf{\\text{cat}}]\\!]^{}_{\\left\\langle{}e,t\\right\\rangle{}}$</span></div></div></div><div style=\"display:table-row;\"><div style=\"display:table-cell;padding-right:2px; padding-left:2px;\" align=\"center\"><div style=\"display:inline-block;\"><span>$\\lambda{} x_{e} \\: . \\: {Cat}({x})$</span></div></div></div></div></div></div></div></div><div style=\"display:table-cell;vertical-align:middle;border-left:1px solid #848482;padding:0.5em\"><div style=\"white-space:nowrap; color:blue;\"><b>[<div style=\"display:inline-block;\"><span>PM</span></div>]</b></div></div></div><div align=\"center\" style=\"display:table-row;padding-left:5px;padding-right:5px;padding-top:5px;padding-bottom:5px;\"><div align=\"center\" style=\"display:table-cell;\"><div align=\"center\" style=\"display:block;padding-left:5px;padding-right:5px;padding-top:5px;padding-bottom:5px;\"><div style=\"display:table;table-layout:auto;\" align=\"center\"><div style=\"display:table-row;\"><div style=\"display:table-cell;padding-right:2px; padding-left:2px;\" align=\"center\"><div style=\"display:inline-block;\"><span>$[\\![\\mathbf{\\text{[gray cat]}}]\\!]^{}_{\\left\\langle{}e,t\\right\\rangle{}}$</span></div></div></div><div style=\"display:table-row;\"><div style=\"display:table-cell;padding-right:2px; padding-left:2px;\" align=\"center\"><div style=\"display:inline-block;\"><span>$\\lambda{} x_{e} \\: . \\: ({Gray}({x}) \\wedge{} {Cat}({x}))$</span></div></div></div></div></div></div><div style=\"display:table-cell;\"></div></div></div></div><div style=\"align: center; vertical-align: middle; display: table-cell;\"><span style=\"padding:1em;\">*</span></div><div style=\"display:table-cell;vertical-align:middle;padding-left:5px;padding-right:5px;padding-top:5px;padding-bottom:5px;\"><div align=\"center\" style=\"display:table; margin:5px; border-collapse: collapse;border: 1px solid #848482;\"><div align=\"center\" style=\"display:table-row;border-bottom:1px solid #848482\"><div style=\"display:table-cell;vertical-align:middle;\"><div style=\"display: table;\"><div style=\"display:table-cell;vertical-align:middle;padding-left:5px;padding-right:5px;padding-top:5px;padding-bottom:5px;\"><div align=\"center\" style=\"display:block;padding-left:5px;padding-right:5px;padding-top:5px;padding-bottom:5px;\"><div style=\"display:table;table-layout:auto;\" align=\"center\"><div style=\"display:table-row;\"><div style=\"display:table-cell;padding-right:2px; padding-left:2px;\" align=\"center\"><div style=\"display:inline-block;\"><span>$[\\![\\mathbf{\\text{inP}}]\\!]^{}_{\\left\\langle{}e,\\left\\langle{}e,t\\right\\rangle{}\\right\\rangle{}}$</span></div></div></div><div style=\"display:table-row;\"><div style=\"display:table-cell;padding-right:2px; padding-left:2px;\" align=\"center\"><div style=\"display:inline-block;\"><span>$\\lambda{} x_{e} \\: . \\: \\lambda{} y_{e} \\: . \\: {In}({y}, {x})$</span></div></div></div></div></div></div><div style=\"align: center; vertical-align: middle; display: table-cell;\"><span style=\"padding:1em;\">*</span></div><div style=\"display:table-cell;vertical-align:middle;padding-left:5px;padding-right:5px;padding-top:5px;padding-bottom:5px;\"><div align=\"center\" style=\"display:block;padding-left:5px;padding-right:5px;padding-top:5px;padding-bottom:5px;\"><div style=\"display:table;table-layout:auto;\" align=\"center\"><div style=\"display:table-row;\"><div style=\"display:table-cell;padding-right:2px; padding-left:2px;\" align=\"center\"><div style=\"display:inline-block;\"><span>$[\\![\\mathbf{\\text{texas}}]\\!]^{}_{e}$</span></div></div></div><div style=\"display:table-row;\"><div style=\"display:table-cell;padding-right:2px; padding-left:2px;\" align=\"center\"><div style=\"display:inline-block;\"><span>${Texas}_{e}$</span></div></div></div></div></div></div></div></div><div style=\"display:table-cell;vertical-align:middle;border-left:1px solid #848482;padding:0.5em\"><div style=\"white-space:nowrap; color:blue;\"><b>[<div style=\"display:inline-block;\"><span>FA</span></div>]</b></div></div></div><div align=\"center\" style=\"display:table-row;padding-left:5px;padding-right:5px;padding-top:5px;padding-bottom:5px;\"><div align=\"center\" style=\"display:table-cell;\"><div align=\"center\" style=\"display:block;padding-left:5px;padding-right:5px;padding-top:5px;padding-bottom:5px;\"><div style=\"display:table;table-layout:auto;\" align=\"center\"><div style=\"display:table-row;\"><div style=\"display:table-cell;padding-right:2px; padding-left:2px;\" align=\"center\"><div style=\"display:inline-block;\"><span>$[\\![\\mathbf{\\text{[inP texas]}}]\\!]^{}_{\\left\\langle{}e,t\\right\\rangle{}}$</span></div></div></div><div style=\"display:table-row;\"><div style=\"display:table-cell;padding-right:2px; padding-left:2px;\" align=\"center\"><div style=\"display:inline-block;\"><span>$\\lambda{} y_{e} \\: . \\: {In}({y}, {Texas}_{e})$</span></div></div></div></div></div></div><div style=\"display:table-cell;\"></div></div></div></div></div></div><div style=\"display:table-cell;vertical-align:middle;border-left:1px solid #848482;padding:0.5em\"><div style=\"white-space:nowrap; color:blue;\"><b>[<div style=\"display:inline-block;\"><span>PM</span></div>]</b></div></div></div><div align=\"center\" style=\"display:table-row;padding-left:5px;padding-right:5px;padding-top:5px;padding-bottom:5px;\"><div align=\"center\" style=\"display:table-cell;\"><div align=\"center\" style=\"display:block;padding-left:5px;padding-right:5px;padding-top:5px;padding-bottom:5px;\"><div style=\"display:table;table-layout:auto;\" align=\"center\"><div style=\"display:table-row;\"><div style=\"display:table-cell;padding-right:2px; padding-left:2px;\" align=\"center\"><div style=\"display:inline-block;\"><span>$[\\![\\mathbf{\\text{[[gray cat] [inP texas]]}}]\\!]^{}_{\\left\\langle{}e,t\\right\\rangle{}}$</span></div></div></div><div style=\"display:table-row;\"><div style=\"display:table-cell;padding-right:2px; padding-left:2px;\" align=\"center\"><div style=\"display:inline-block;\"><span>$\\lambda{} x_{e} \\: . \\: (({Gray}({x}) \\wedge{} {Cat}({x})) \\wedge{} {In}({x}, {Texas}_{e}))$</span></div></div></div></div></div></div><div style=\"display:table-cell;\"></div></div></div></div><div style=\"align: center; vertical-align: middle; display: table-cell;\"><span style=\"padding:1em;\">*</span></div><div style=\"display:table-cell;vertical-align:middle;padding-left:5px;padding-right:5px;padding-top:5px;padding-bottom:5px;\"><div align=\"center\" style=\"display:table; margin:5px; border-collapse: collapse;border: 1px solid #848482;\"><div align=\"center\" style=\"display:table-row;border-bottom:1px solid #848482\"><div style=\"display:table-cell;vertical-align:middle;\"><div style=\"display: table;\"><div style=\"display:table-cell;vertical-align:middle;padding-left:5px;padding-right:5px;padding-top:5px;padding-bottom:5px;\"><div align=\"center\" style=\"display:block;padding-left:5px;padding-right:5px;padding-top:5px;padding-bottom:5px;\"><div style=\"display:table;table-layout:auto;\" align=\"center\"><div style=\"display:table-row;\"><div style=\"display:table-cell;padding-right:2px; padding-left:2px;\" align=\"center\"><div style=\"display:inline-block;\"><span>$[\\![\\mathbf{\\text{fond}}]\\!]^{}_{\\left\\langle{}e,\\left\\langle{}e,t\\right\\rangle{}\\right\\rangle{}}$</span></div></div></div><div style=\"display:table-row;\"><div style=\"display:table-cell;padding-right:2px; padding-left:2px;\" align=\"center\"><div style=\"display:inline-block;\"><span>$\\lambda{} x_{e} \\: . \\: \\lambda{} y_{e} \\: . \\: {Fond}_{\\left\\langle{}e,\\left\\langle{}e,t\\right\\rangle{}\\right\\rangle{}}({y})({x})$</span></div></div></div></div></div></div><div style=\"align: center; vertical-align: middle; display: table-cell;\"><span style=\"padding:1em;\">*</span></div><div style=\"display:table-cell;vertical-align:middle;padding-left:5px;padding-right:5px;padding-top:5px;padding-bottom:5px;\"><div align=\"center\" style=\"display:table; margin:5px; border-collapse: collapse;border: 1px solid #848482;\"><div align=\"center\" style=\"display:table-row;border-bottom:1px solid #848482\"><div style=\"display:table-cell;vertical-align:middle;\"><div style=\"display: table;\"><div style=\"display:table-cell;vertical-align:middle;padding-left:5px;padding-right:5px;padding-top:5px;padding-bottom:5px;\"><div align=\"center\" style=\"display:block;padding-left:5px;padding-right:5px;padding-top:5px;padding-bottom:5px;\"><div style=\"display:table;table-layout:auto;\" align=\"center\"><div style=\"display:table-row;\"><div style=\"display:table-cell;padding-right:2px; padding-left:2px;\" align=\"center\"><div style=\"display:inline-block;\"><span>$[\\![\\mathbf{\\text{of}}]\\!]^{}_{\\left\\langle{}e,e\\right\\rangle{}}$</span></div></div></div><div style=\"display:table-row;\"><div style=\"display:table-cell;padding-right:2px; padding-left:2px;\" align=\"center\"><div style=\"display:inline-block;\"><span>$\\lambda{} x_{e} \\: . \\: {x}$</span></div></div></div></div></div></div><div style=\"align: center; vertical-align: middle; display: table-cell;\"><span style=\"padding:1em;\">*</span></div><div style=\"display:table-cell;vertical-align:middle;padding-left:5px;padding-right:5px;padding-top:5px;padding-bottom:5px;\"><div align=\"center\" style=\"display:block;padding-left:5px;padding-right:5px;padding-top:5px;padding-bottom:5px;\"><div style=\"display:table;table-layout:auto;\" align=\"center\"><div style=\"display:table-row;\"><div style=\"display:table-cell;padding-right:2px; padding-left:2px;\" align=\"center\"><div style=\"display:inline-block;\"><span>$[\\![\\mathbf{\\text{john}}]\\!]^{}_{e}$</span></div></div></div><div style=\"display:table-row;\"><div style=\"display:table-cell;padding-right:2px; padding-left:2px;\" align=\"center\"><div style=\"display:inline-block;\"><span>${John}_{e}$</span></div></div></div></div></div></div></div></div><div style=\"display:table-cell;vertical-align:middle;border-left:1px solid #848482;padding:0.5em\"><div style=\"white-space:nowrap; color:blue;\"><b>[<div style=\"display:inline-block;\"><span>FA</span></div>]</b></div></div></div><div align=\"center\" style=\"display:table-row;padding-left:5px;padding-right:5px;padding-top:5px;padding-bottom:5px;\"><div align=\"center\" style=\"display:table-cell;\"><div align=\"center\" style=\"display:block;padding-left:5px;padding-right:5px;padding-top:5px;padding-bottom:5px;\"><div style=\"display:table;table-layout:auto;\" align=\"center\"><div style=\"display:table-row;\"><div style=\"display:table-cell;padding-right:2px; padding-left:2px;\" align=\"center\"><div style=\"display:inline-block;\"><span>$[\\![\\mathbf{\\text{[of john]}}]\\!]^{}_{e}$</span></div></div></div><div style=\"display:table-row;\"><div style=\"display:table-cell;padding-right:2px; padding-left:2px;\" align=\"center\"><div style=\"display:inline-block;\"><span>${John}_{e}$</span></div></div></div></div></div></div><div style=\"display:table-cell;\"></div></div></div></div></div></div><div style=\"display:table-cell;vertical-align:middle;border-left:1px solid #848482;padding:0.5em\"><div style=\"white-space:nowrap; color:blue;\"><b>[<div style=\"display:inline-block;\"><span>FA</span></div>]</b></div></div></div><div align=\"center\" style=\"display:table-row;padding-left:5px;padding-right:5px;padding-top:5px;padding-bottom:5px;\"><div align=\"center\" style=\"display:table-cell;\"><div align=\"center\" style=\"display:block;padding-left:5px;padding-right:5px;padding-top:5px;padding-bottom:5px;\"><div style=\"display:table;table-layout:auto;\" align=\"center\"><div style=\"display:table-row;\"><div style=\"display:table-cell;padding-right:2px; padding-left:2px;\" align=\"center\"><div style=\"display:inline-block;\"><span>$[\\![\\mathbf{\\text{[fond [of john]]}}]\\!]^{}_{\\left\\langle{}e,t\\right\\rangle{}}$</span></div></div></div><div style=\"display:table-row;\"><div style=\"display:table-cell;padding-right:2px; padding-left:2px;\" align=\"center\"><div style=\"display:inline-block;\"><span>$\\lambda{} y_{e} \\: . \\: {Fond}_{\\left\\langle{}e,\\left\\langle{}e,t\\right\\rangle{}\\right\\rangle{}}({y})({John}_{e})$</span></div></div></div></div></div></div><div style=\"display:table-cell;\"></div></div></div></div></div></div><div style=\"display:table-cell;vertical-align:middle;border-left:1px solid #848482;padding:0.5em\"><div style=\"white-space:nowrap; color:blue;\"><b>[<div style=\"display:inline-block;\"><span>PM</span></div>]</b></div></div></div><div align=\"center\" style=\"display:table-row;padding-left:5px;padding-right:5px;padding-top:5px;padding-bottom:5px;\"><div align=\"center\" style=\"display:table-cell;\"><div align=\"center\" style=\"display:block;padding-left:5px;padding-right:5px;padding-top:5px;padding-bottom:5px;\"><div style=\"display:table;table-layout:auto;\" align=\"center\"><div style=\"display:table-row;\"><div style=\"display:table-cell;padding-right:2px; padding-left:2px;\" align=\"center\"><div style=\"display:inline-block;\"><span>$[\\![\\mathbf{\\text{[[[gray cat] [inP texas]] [fond [of john]]]}}]\\!]^{}_{\\left\\langle{}e,t\\right\\rangle{}}$</span></div></div></div><div style=\"display:table-row;\"><div style=\"display:table-cell;padding-right:2px; padding-left:2px;\" align=\"center\"><div style=\"display:inline-block;\"><span>$\\lambda{} x_{e} \\: . \\: ((({Gray}({x}) \\wedge{} {Cat}({x})) \\wedge{} {In}({x}, {Texas}_{e})) \\wedge{} {Fond}_{\\left\\langle{}e,\\left\\langle{}e,t\\right\\rangle{}\\right\\rangle{}}({x})({John}_{e}))$</span></div></div></div></div></div></div><div style=\"display:table-cell;\"></div></div></div></div></div></div><div style=\"display:table-cell;vertical-align:middle;border-left:1px solid #848482;padding:0.5em\"><div style=\"white-space:nowrap; color:blue;\"><b>[<div style=\"display:inline-block;\"><span>FA</span></div>]</b></div></div></div><div align=\"center\" style=\"display:table-row;padding-left:5px;padding-right:5px;padding-top:5px;padding-bottom:5px;\"><div align=\"center\" style=\"display:table-cell;\"><div align=\"center\" style=\"display:block;padding-left:5px;padding-right:5px;padding-top:5px;padding-bottom:5px;\"><div style=\"display:table;table-layout:auto;\" align=\"center\"><div style=\"display:table-row;\"><div style=\"display:table-cell;padding-right:2px; padding-left:2px;\" align=\"center\"><div style=\"display:inline-block;\"><span>$[\\![\\mathbf{\\text{[a [[[gray cat] [inP texas]] [fond [of john]]]]}}]\\!]^{}_{\\left\\langle{}e,t\\right\\rangle{}}$</span></div></div></div><div style=\"display:table-row;\"><div style=\"display:table-cell;padding-right:2px; padding-left:2px;\" align=\"center\"><div style=\"display:inline-block;\"><span>$\\lambda{} x_{e} \\: . \\: ((({Gray}({x}) \\wedge{} {Cat}({x})) \\wedge{} {In}({x}, {Texas}_{e})) \\wedge{} {Fond}_{\\left\\langle{}e,\\left\\langle{}e,t\\right\\rangle{}\\right\\rangle{}}({x})({John}_{e}))$</span></div></div></div></div></div></div><div style=\"display:table-cell;\"></div></div></div></div></div></div><div style=\"display:table-cell;vertical-align:middle;border-left:1px solid #848482;padding:0.5em\"><div style=\"white-space:nowrap; color:blue;\"><b>[<div style=\"display:inline-block;\"><span>FA</span></div>]</b></div></div></div><div align=\"center\" style=\"display:table-row;padding-left:5px;padding-right:5px;padding-top:5px;padding-bottom:5px;\"><div align=\"center\" style=\"display:table-cell;\"><div align=\"center\" style=\"display:block;padding-left:5px;padding-right:5px;padding-top:5px;padding-bottom:5px;\"><div style=\"display:table;table-layout:auto;\" align=\"center\"><div style=\"display:table-row;\"><div style=\"display:table-cell;padding-right:2px; padding-left:2px;\" align=\"center\"><div style=\"display:inline-block;\"><span>$[\\![\\mathbf{\\text{[isV [a [[[gray cat] [inP texas]] [fond [of john]]]]]}}]\\!]^{}_{\\left\\langle{}e,t\\right\\rangle{}}$</span></div></div></div><div style=\"display:table-row;\"><div style=\"display:table-cell;padding-right:2px; padding-left:2px;\" align=\"center\"><div style=\"display:inline-block;\"><span>$\\lambda{} x_{e} \\: . \\: ((({Gray}({x}) \\wedge{} {Cat}({x})) \\wedge{} {In}({x}, {Texas}_{e})) \\wedge{} {Fond}_{\\left\\langle{}e,\\left\\langle{}e,t\\right\\rangle{}\\right\\rangle{}}({x})({John}_{e}))$</span></div></div></div></div></div></div><div style=\"display:table-cell;\"></div></div></div></div><div style=\"align: center; vertical-align: middle; display: table-cell;\"><span style=\"padding:1em;\">*</span></div><div style=\"display:table-cell;vertical-align:middle;padding-left:5px;padding-right:5px;padding-top:5px;padding-bottom:5px;\"><div align=\"center\" style=\"display:block;padding-left:5px;padding-right:5px;padding-top:5px;padding-bottom:5px;\"><div style=\"display:table;table-layout:auto;\" align=\"center\"><div style=\"display:table-row;\"><div style=\"display:table-cell;padding-right:2px; padding-left:2px;\" align=\"center\"><div style=\"display:inline-block;\"><span>$[\\![\\mathbf{\\text{julius}}]\\!]^{}_{e}$</span></div></div></div><div style=\"display:table-row;\"><div style=\"display:table-cell;padding-right:2px; padding-left:2px;\" align=\"center\"><div style=\"display:inline-block;\"><span>${Julius}_{e}$</span></div></div></div></div></div></div></div></div><div style=\"display:table-cell;vertical-align:middle;border-left:1px solid #848482;padding:0.5em\"><div style=\"white-space:nowrap; color:blue;\"><b>[<div style=\"display:inline-block;\"><span>FA</span></div>]</b></div></div></div><div align=\"center\" style=\"display:table-row;padding-left:5px;padding-right:5px;padding-top:5px;padding-bottom:5px;\"><div align=\"center\" style=\"display:table-cell;\"><div align=\"center\" style=\"display:block;padding-left:5px;padding-right:5px;padding-top:5px;padding-bottom:5px;\"><div style=\"display:table;table-layout:auto;\" align=\"center\"><div style=\"display:table-row;\"><div style=\"display:table-cell;padding-right:2px; padding-left:2px;\" align=\"center\"><div style=\"display:inline-block;\"><span>$[\\![\\mathbf{\\text{[[isV [a [[[gray cat] [inP texas]] [fond [of john]]]]] julius]}}]\\!]^{}_{t}$</span></div></div></div><div style=\"display:table-row;\"><div style=\"display:table-cell;padding-right:2px; padding-left:2px;\" align=\"center\"><div style=\"display:inline-block;\"><span>$((({Gray}({Julius}_{e}) \\wedge{} {Cat}({Julius}_{e})) \\wedge{} {In}({Julius}_{e}, {Texas}_{e})) \\wedge{} {Fond}_{\\left\\langle{}e,\\left\\langle{}e,t\\right\\rangle{}\\right\\rangle{}}({Julius}_{e})({John}_{e}))$</span></div></div></div></div></div></div><div style=\"display:table-cell;\"></div></div></div><br /><br />"
      ],
      "text/latex": [
       "1 composition path:<br /><div align=\"center\" style=\"display:table; margin:5px; border-collapse: collapse;border: 1px solid #848482;\"><div align=\"center\" style=\"display:table-row;border-bottom:1px solid #848482\"><div style=\"display:table-cell;vertical-align:middle;\"><div style=\"display: table;\"><div style=\"display:table-cell;vertical-align:middle;padding-left:5px;padding-right:5px;padding-top:5px;padding-bottom:5px;\"><div align=\"center\" style=\"display:table; margin:5px; border-collapse: collapse;border: 1px solid #848482;\"><div align=\"center\" style=\"display:table-row;border-bottom:1px solid #848482\"><div style=\"display:table-cell;vertical-align:middle;\"><div style=\"display: table;\"><div style=\"display:table-cell;vertical-align:middle;padding-left:5px;padding-right:5px;padding-top:5px;padding-bottom:5px;\"><div align=\"center\" style=\"display:block;padding-left:5px;padding-right:5px;padding-top:5px;padding-bottom:5px;\"><div style=\"display:table;table-layout:auto;\" align=\"center\"><div style=\"display:table-row;\"><div style=\"display:table-cell;padding-right:2px; padding-left:2px;\" align=\"center\"><div style=\"display:inline-block;\"><span>$[\\![\\mathbf{\\text{isV}}]\\!]^{}_{\\left\\langle{}\\left\\langle{}e,t\\right\\rangle{},\\left\\langle{}e,t\\right\\rangle{}\\right\\rangle{}}$</span></div></div></div><div style=\"display:table-row;\"><div style=\"display:table-cell;padding-right:2px; padding-left:2px;\" align=\"center\"><div style=\"display:inline-block;\"><span>$\\lambda{} p_{\\left\\langle{}e,t\\right\\rangle{}} \\: . \\: {p}$</span></div></div></div></div></div></div><div style=\"align: center; vertical-align: middle; display: table-cell;\"><span style=\"padding:1em;\">*</span></div><div style=\"display:table-cell;vertical-align:middle;padding-left:5px;padding-right:5px;padding-top:5px;padding-bottom:5px;\"><div align=\"center\" style=\"display:table; margin:5px; border-collapse: collapse;border: 1px solid #848482;\"><div align=\"center\" style=\"display:table-row;border-bottom:1px solid #848482\"><div style=\"display:table-cell;vertical-align:middle;\"><div style=\"display: table;\"><div style=\"display:table-cell;vertical-align:middle;padding-left:5px;padding-right:5px;padding-top:5px;padding-bottom:5px;\"><div align=\"center\" style=\"display:block;padding-left:5px;padding-right:5px;padding-top:5px;padding-bottom:5px;\"><div style=\"display:table;table-layout:auto;\" align=\"center\"><div style=\"display:table-row;\"><div style=\"display:table-cell;padding-right:2px; padding-left:2px;\" align=\"center\"><div style=\"display:inline-block;\"><span>$[\\![\\mathbf{\\text{a}}]\\!]^{}_{\\left\\langle{}\\left\\langle{}e,t\\right\\rangle{},\\left\\langle{}e,t\\right\\rangle{}\\right\\rangle{}}$</span></div></div></div><div style=\"display:table-row;\"><div style=\"display:table-cell;padding-right:2px; padding-left:2px;\" align=\"center\"><div style=\"display:inline-block;\"><span>$\\lambda{} p_{\\left\\langle{}e,t\\right\\rangle{}} \\: . \\: {p}$</span></div></div></div></div></div></div><div style=\"align: center; vertical-align: middle; display: table-cell;\"><span style=\"padding:1em;\">*</span></div><div style=\"display:table-cell;vertical-align:middle;padding-left:5px;padding-right:5px;padding-top:5px;padding-bottom:5px;\"><div align=\"center\" style=\"display:table; margin:5px; border-collapse: collapse;border: 1px solid #848482;\"><div align=\"center\" style=\"display:table-row;border-bottom:1px solid #848482\"><div style=\"display:table-cell;vertical-align:middle;\"><div style=\"display: table;\"><div style=\"display:table-cell;vertical-align:middle;padding-left:5px;padding-right:5px;padding-top:5px;padding-bottom:5px;\"><div align=\"center\" style=\"display:table; margin:5px; border-collapse: collapse;border: 1px solid #848482;\"><div align=\"center\" style=\"display:table-row;border-bottom:1px solid #848482\"><div style=\"display:table-cell;vertical-align:middle;\"><div style=\"display: table;\"><div style=\"display:table-cell;vertical-align:middle;padding-left:5px;padding-right:5px;padding-top:5px;padding-bottom:5px;\"><div align=\"center\" style=\"display:table; margin:5px; border-collapse: collapse;border: 1px solid #848482;\"><div align=\"center\" style=\"display:table-row;border-bottom:1px solid #848482\"><div style=\"display:table-cell;vertical-align:middle;\"><div style=\"display: table;\"><div style=\"display:table-cell;vertical-align:middle;padding-left:5px;padding-right:5px;padding-top:5px;padding-bottom:5px;\"><div align=\"center\" style=\"display:block;padding-left:5px;padding-right:5px;padding-top:5px;padding-bottom:5px;\"><div style=\"display:table;table-layout:auto;\" align=\"center\"><div style=\"display:table-row;\"><div style=\"display:table-cell;padding-right:2px; padding-left:2px;\" align=\"center\"><div style=\"display:inline-block;\"><span>$[\\![\\mathbf{\\text{gray}}]\\!]^{}_{\\left\\langle{}e,t\\right\\rangle{}}$</span></div></div></div><div style=\"display:table-row;\"><div style=\"display:table-cell;padding-right:2px; padding-left:2px;\" align=\"center\"><div style=\"display:inline-block;\"><span>$\\lambda{} x_{e} \\: . \\: {Gray}({x})$</span></div></div></div></div></div></div><div style=\"align: center; vertical-align: middle; display: table-cell;\"><span style=\"padding:1em;\">*</span></div><div style=\"display:table-cell;vertical-align:middle;padding-left:5px;padding-right:5px;padding-top:5px;padding-bottom:5px;\"><div align=\"center\" style=\"display:block;padding-left:5px;padding-right:5px;padding-top:5px;padding-bottom:5px;\"><div style=\"display:table;table-layout:auto;\" align=\"center\"><div style=\"display:table-row;\"><div style=\"display:table-cell;padding-right:2px; padding-left:2px;\" align=\"center\"><div style=\"display:inline-block;\"><span>$[\\![\\mathbf{\\text{cat}}]\\!]^{}_{\\left\\langle{}e,t\\right\\rangle{}}$</span></div></div></div><div style=\"display:table-row;\"><div style=\"display:table-cell;padding-right:2px; padding-left:2px;\" align=\"center\"><div style=\"display:inline-block;\"><span>$\\lambda{} x_{e} \\: . \\: {Cat}({x})$</span></div></div></div></div></div></div></div></div><div style=\"display:table-cell;vertical-align:middle;border-left:1px solid #848482;padding:0.5em\"><div style=\"white-space:nowrap; color:blue;\"><b>[<div style=\"display:inline-block;\"><span>PM</span></div>]</b></div></div></div><div align=\"center\" style=\"display:table-row;padding-left:5px;padding-right:5px;padding-top:5px;padding-bottom:5px;\"><div align=\"center\" style=\"display:table-cell;\"><div align=\"center\" style=\"display:block;padding-left:5px;padding-right:5px;padding-top:5px;padding-bottom:5px;\"><div style=\"display:table;table-layout:auto;\" align=\"center\"><div style=\"display:table-row;\"><div style=\"display:table-cell;padding-right:2px; padding-left:2px;\" align=\"center\"><div style=\"display:inline-block;\"><span>$[\\![\\mathbf{\\text{[gray cat]}}]\\!]^{}_{\\left\\langle{}e,t\\right\\rangle{}}$</span></div></div></div><div style=\"display:table-row;\"><div style=\"display:table-cell;padding-right:2px; padding-left:2px;\" align=\"center\"><div style=\"display:inline-block;\"><span>$\\lambda{} x_{e} \\: . \\: ({Gray}({x}) \\wedge{} {Cat}({x}))$</span></div></div></div></div></div></div><div style=\"display:table-cell;\"></div></div></div></div><div style=\"align: center; vertical-align: middle; display: table-cell;\"><span style=\"padding:1em;\">*</span></div><div style=\"display:table-cell;vertical-align:middle;padding-left:5px;padding-right:5px;padding-top:5px;padding-bottom:5px;\"><div align=\"center\" style=\"display:table; margin:5px; border-collapse: collapse;border: 1px solid #848482;\"><div align=\"center\" style=\"display:table-row;border-bottom:1px solid #848482\"><div style=\"display:table-cell;vertical-align:middle;\"><div style=\"display: table;\"><div style=\"display:table-cell;vertical-align:middle;padding-left:5px;padding-right:5px;padding-top:5px;padding-bottom:5px;\"><div align=\"center\" style=\"display:block;padding-left:5px;padding-right:5px;padding-top:5px;padding-bottom:5px;\"><div style=\"display:table;table-layout:auto;\" align=\"center\"><div style=\"display:table-row;\"><div style=\"display:table-cell;padding-right:2px; padding-left:2px;\" align=\"center\"><div style=\"display:inline-block;\"><span>$[\\![\\mathbf{\\text{inP}}]\\!]^{}_{\\left\\langle{}e,\\left\\langle{}e,t\\right\\rangle{}\\right\\rangle{}}$</span></div></div></div><div style=\"display:table-row;\"><div style=\"display:table-cell;padding-right:2px; padding-left:2px;\" align=\"center\"><div style=\"display:inline-block;\"><span>$\\lambda{} x_{e} \\: . \\: \\lambda{} y_{e} \\: . \\: {In}({y}, {x})$</span></div></div></div></div></div></div><div style=\"align: center; vertical-align: middle; display: table-cell;\"><span style=\"padding:1em;\">*</span></div><div style=\"display:table-cell;vertical-align:middle;padding-left:5px;padding-right:5px;padding-top:5px;padding-bottom:5px;\"><div align=\"center\" style=\"display:block;padding-left:5px;padding-right:5px;padding-top:5px;padding-bottom:5px;\"><div style=\"display:table;table-layout:auto;\" align=\"center\"><div style=\"display:table-row;\"><div style=\"display:table-cell;padding-right:2px; padding-left:2px;\" align=\"center\"><div style=\"display:inline-block;\"><span>$[\\![\\mathbf{\\text{texas}}]\\!]^{}_{e}$</span></div></div></div><div style=\"display:table-row;\"><div style=\"display:table-cell;padding-right:2px; padding-left:2px;\" align=\"center\"><div style=\"display:inline-block;\"><span>${Texas}_{e}$</span></div></div></div></div></div></div></div></div><div style=\"display:table-cell;vertical-align:middle;border-left:1px solid #848482;padding:0.5em\"><div style=\"white-space:nowrap; color:blue;\"><b>[<div style=\"display:inline-block;\"><span>FA</span></div>]</b></div></div></div><div align=\"center\" style=\"display:table-row;padding-left:5px;padding-right:5px;padding-top:5px;padding-bottom:5px;\"><div align=\"center\" style=\"display:table-cell;\"><div align=\"center\" style=\"display:block;padding-left:5px;padding-right:5px;padding-top:5px;padding-bottom:5px;\"><div style=\"display:table;table-layout:auto;\" align=\"center\"><div style=\"display:table-row;\"><div style=\"display:table-cell;padding-right:2px; padding-left:2px;\" align=\"center\"><div style=\"display:inline-block;\"><span>$[\\![\\mathbf{\\text{[inP texas]}}]\\!]^{}_{\\left\\langle{}e,t\\right\\rangle{}}$</span></div></div></div><div style=\"display:table-row;\"><div style=\"display:table-cell;padding-right:2px; padding-left:2px;\" align=\"center\"><div style=\"display:inline-block;\"><span>$\\lambda{} y_{e} \\: . \\: {In}({y}, {Texas}_{e})$</span></div></div></div></div></div></div><div style=\"display:table-cell;\"></div></div></div></div></div></div><div style=\"display:table-cell;vertical-align:middle;border-left:1px solid #848482;padding:0.5em\"><div style=\"white-space:nowrap; color:blue;\"><b>[<div style=\"display:inline-block;\"><span>PM</span></div>]</b></div></div></div><div align=\"center\" style=\"display:table-row;padding-left:5px;padding-right:5px;padding-top:5px;padding-bottom:5px;\"><div align=\"center\" style=\"display:table-cell;\"><div align=\"center\" style=\"display:block;padding-left:5px;padding-right:5px;padding-top:5px;padding-bottom:5px;\"><div style=\"display:table;table-layout:auto;\" align=\"center\"><div style=\"display:table-row;\"><div style=\"display:table-cell;padding-right:2px; padding-left:2px;\" align=\"center\"><div style=\"display:inline-block;\"><span>$[\\![\\mathbf{\\text{[[gray cat] [inP texas]]}}]\\!]^{}_{\\left\\langle{}e,t\\right\\rangle{}}$</span></div></div></div><div style=\"display:table-row;\"><div style=\"display:table-cell;padding-right:2px; padding-left:2px;\" align=\"center\"><div style=\"display:inline-block;\"><span>$\\lambda{} x_{e} \\: . \\: (({Gray}({x}) \\wedge{} {Cat}({x})) \\wedge{} {In}({x}, {Texas}_{e}))$</span></div></div></div></div></div></div><div style=\"display:table-cell;\"></div></div></div></div><div style=\"align: center; vertical-align: middle; display: table-cell;\"><span style=\"padding:1em;\">*</span></div><div style=\"display:table-cell;vertical-align:middle;padding-left:5px;padding-right:5px;padding-top:5px;padding-bottom:5px;\"><div align=\"center\" style=\"display:table; margin:5px; border-collapse: collapse;border: 1px solid #848482;\"><div align=\"center\" style=\"display:table-row;border-bottom:1px solid #848482\"><div style=\"display:table-cell;vertical-align:middle;\"><div style=\"display: table;\"><div style=\"display:table-cell;vertical-align:middle;padding-left:5px;padding-right:5px;padding-top:5px;padding-bottom:5px;\"><div align=\"center\" style=\"display:block;padding-left:5px;padding-right:5px;padding-top:5px;padding-bottom:5px;\"><div style=\"display:table;table-layout:auto;\" align=\"center\"><div style=\"display:table-row;\"><div style=\"display:table-cell;padding-right:2px; padding-left:2px;\" align=\"center\"><div style=\"display:inline-block;\"><span>$[\\![\\mathbf{\\text{fond}}]\\!]^{}_{\\left\\langle{}e,\\left\\langle{}e,t\\right\\rangle{}\\right\\rangle{}}$</span></div></div></div><div style=\"display:table-row;\"><div style=\"display:table-cell;padding-right:2px; padding-left:2px;\" align=\"center\"><div style=\"display:inline-block;\"><span>$\\lambda{} x_{e} \\: . \\: \\lambda{} y_{e} \\: . \\: {Fond}_{\\left\\langle{}e,\\left\\langle{}e,t\\right\\rangle{}\\right\\rangle{}}({y})({x})$</span></div></div></div></div></div></div><div style=\"align: center; vertical-align: middle; display: table-cell;\"><span style=\"padding:1em;\">*</span></div><div style=\"display:table-cell;vertical-align:middle;padding-left:5px;padding-right:5px;padding-top:5px;padding-bottom:5px;\"><div align=\"center\" style=\"display:table; margin:5px; border-collapse: collapse;border: 1px solid #848482;\"><div align=\"center\" style=\"display:table-row;border-bottom:1px solid #848482\"><div style=\"display:table-cell;vertical-align:middle;\"><div style=\"display: table;\"><div style=\"display:table-cell;vertical-align:middle;padding-left:5px;padding-right:5px;padding-top:5px;padding-bottom:5px;\"><div align=\"center\" style=\"display:block;padding-left:5px;padding-right:5px;padding-top:5px;padding-bottom:5px;\"><div style=\"display:table;table-layout:auto;\" align=\"center\"><div style=\"display:table-row;\"><div style=\"display:table-cell;padding-right:2px; padding-left:2px;\" align=\"center\"><div style=\"display:inline-block;\"><span>$[\\![\\mathbf{\\text{of}}]\\!]^{}_{\\left\\langle{}e,e\\right\\rangle{}}$</span></div></div></div><div style=\"display:table-row;\"><div style=\"display:table-cell;padding-right:2px; padding-left:2px;\" align=\"center\"><div style=\"display:inline-block;\"><span>$\\lambda{} x_{e} \\: . \\: {x}$</span></div></div></div></div></div></div><div style=\"align: center; vertical-align: middle; display: table-cell;\"><span style=\"padding:1em;\">*</span></div><div style=\"display:table-cell;vertical-align:middle;padding-left:5px;padding-right:5px;padding-top:5px;padding-bottom:5px;\"><div align=\"center\" style=\"display:block;padding-left:5px;padding-right:5px;padding-top:5px;padding-bottom:5px;\"><div style=\"display:table;table-layout:auto;\" align=\"center\"><div style=\"display:table-row;\"><div style=\"display:table-cell;padding-right:2px; padding-left:2px;\" align=\"center\"><div style=\"display:inline-block;\"><span>$[\\![\\mathbf{\\text{john}}]\\!]^{}_{e}$</span></div></div></div><div style=\"display:table-row;\"><div style=\"display:table-cell;padding-right:2px; padding-left:2px;\" align=\"center\"><div style=\"display:inline-block;\"><span>${John}_{e}$</span></div></div></div></div></div></div></div></div><div style=\"display:table-cell;vertical-align:middle;border-left:1px solid #848482;padding:0.5em\"><div style=\"white-space:nowrap; color:blue;\"><b>[<div style=\"display:inline-block;\"><span>FA</span></div>]</b></div></div></div><div align=\"center\" style=\"display:table-row;padding-left:5px;padding-right:5px;padding-top:5px;padding-bottom:5px;\"><div align=\"center\" style=\"display:table-cell;\"><div align=\"center\" style=\"display:block;padding-left:5px;padding-right:5px;padding-top:5px;padding-bottom:5px;\"><div style=\"display:table;table-layout:auto;\" align=\"center\"><div style=\"display:table-row;\"><div style=\"display:table-cell;padding-right:2px; padding-left:2px;\" align=\"center\"><div style=\"display:inline-block;\"><span>$[\\![\\mathbf{\\text{[of john]}}]\\!]^{}_{e}$</span></div></div></div><div style=\"display:table-row;\"><div style=\"display:table-cell;padding-right:2px; padding-left:2px;\" align=\"center\"><div style=\"display:inline-block;\"><span>${John}_{e}$</span></div></div></div></div></div></div><div style=\"display:table-cell;\"></div></div></div></div></div></div><div style=\"display:table-cell;vertical-align:middle;border-left:1px solid #848482;padding:0.5em\"><div style=\"white-space:nowrap; color:blue;\"><b>[<div style=\"display:inline-block;\"><span>FA</span></div>]</b></div></div></div><div align=\"center\" style=\"display:table-row;padding-left:5px;padding-right:5px;padding-top:5px;padding-bottom:5px;\"><div align=\"center\" style=\"display:table-cell;\"><div align=\"center\" style=\"display:block;padding-left:5px;padding-right:5px;padding-top:5px;padding-bottom:5px;\"><div style=\"display:table;table-layout:auto;\" align=\"center\"><div style=\"display:table-row;\"><div style=\"display:table-cell;padding-right:2px; padding-left:2px;\" align=\"center\"><div style=\"display:inline-block;\"><span>$[\\![\\mathbf{\\text{[fond [of john]]}}]\\!]^{}_{\\left\\langle{}e,t\\right\\rangle{}}$</span></div></div></div><div style=\"display:table-row;\"><div style=\"display:table-cell;padding-right:2px; padding-left:2px;\" align=\"center\"><div style=\"display:inline-block;\"><span>$\\lambda{} y_{e} \\: . \\: {Fond}_{\\left\\langle{}e,\\left\\langle{}e,t\\right\\rangle{}\\right\\rangle{}}({y})({John}_{e})$</span></div></div></div></div></div></div><div style=\"display:table-cell;\"></div></div></div></div></div></div><div style=\"display:table-cell;vertical-align:middle;border-left:1px solid #848482;padding:0.5em\"><div style=\"white-space:nowrap; color:blue;\"><b>[<div style=\"display:inline-block;\"><span>PM</span></div>]</b></div></div></div><div align=\"center\" style=\"display:table-row;padding-left:5px;padding-right:5px;padding-top:5px;padding-bottom:5px;\"><div align=\"center\" style=\"display:table-cell;\"><div align=\"center\" style=\"display:block;padding-left:5px;padding-right:5px;padding-top:5px;padding-bottom:5px;\"><div style=\"display:table;table-layout:auto;\" align=\"center\"><div style=\"display:table-row;\"><div style=\"display:table-cell;padding-right:2px; padding-left:2px;\" align=\"center\"><div style=\"display:inline-block;\"><span>$[\\![\\mathbf{\\text{[[[gray cat] [inP texas]] [fond [of john]]]}}]\\!]^{}_{\\left\\langle{}e,t\\right\\rangle{}}$</span></div></div></div><div style=\"display:table-row;\"><div style=\"display:table-cell;padding-right:2px; padding-left:2px;\" align=\"center\"><div style=\"display:inline-block;\"><span>$\\lambda{} x_{e} \\: . \\: ((({Gray}({x}) \\wedge{} {Cat}({x})) \\wedge{} {In}({x}, {Texas}_{e})) \\wedge{} {Fond}_{\\left\\langle{}e,\\left\\langle{}e,t\\right\\rangle{}\\right\\rangle{}}({x})({John}_{e}))$</span></div></div></div></div></div></div><div style=\"display:table-cell;\"></div></div></div></div></div></div><div style=\"display:table-cell;vertical-align:middle;border-left:1px solid #848482;padding:0.5em\"><div style=\"white-space:nowrap; color:blue;\"><b>[<div style=\"display:inline-block;\"><span>FA</span></div>]</b></div></div></div><div align=\"center\" style=\"display:table-row;padding-left:5px;padding-right:5px;padding-top:5px;padding-bottom:5px;\"><div align=\"center\" style=\"display:table-cell;\"><div align=\"center\" style=\"display:block;padding-left:5px;padding-right:5px;padding-top:5px;padding-bottom:5px;\"><div style=\"display:table;table-layout:auto;\" align=\"center\"><div style=\"display:table-row;\"><div style=\"display:table-cell;padding-right:2px; padding-left:2px;\" align=\"center\"><div style=\"display:inline-block;\"><span>$[\\![\\mathbf{\\text{[a [[[gray cat] [inP texas]] [fond [of john]]]]}}]\\!]^{}_{\\left\\langle{}e,t\\right\\rangle{}}$</span></div></div></div><div style=\"display:table-row;\"><div style=\"display:table-cell;padding-right:2px; padding-left:2px;\" align=\"center\"><div style=\"display:inline-block;\"><span>$\\lambda{} x_{e} \\: . \\: ((({Gray}({x}) \\wedge{} {Cat}({x})) \\wedge{} {In}({x}, {Texas}_{e})) \\wedge{} {Fond}_{\\left\\langle{}e,\\left\\langle{}e,t\\right\\rangle{}\\right\\rangle{}}({x})({John}_{e}))$</span></div></div></div></div></div></div><div style=\"display:table-cell;\"></div></div></div></div></div></div><div style=\"display:table-cell;vertical-align:middle;border-left:1px solid #848482;padding:0.5em\"><div style=\"white-space:nowrap; color:blue;\"><b>[<div style=\"display:inline-block;\"><span>FA</span></div>]</b></div></div></div><div align=\"center\" style=\"display:table-row;padding-left:5px;padding-right:5px;padding-top:5px;padding-bottom:5px;\"><div align=\"center\" style=\"display:table-cell;\"><div align=\"center\" style=\"display:block;padding-left:5px;padding-right:5px;padding-top:5px;padding-bottom:5px;\"><div style=\"display:table;table-layout:auto;\" align=\"center\"><div style=\"display:table-row;\"><div style=\"display:table-cell;padding-right:2px; padding-left:2px;\" align=\"center\"><div style=\"display:inline-block;\"><span>$[\\![\\mathbf{\\text{[isV [a [[[gray cat] [inP texas]] [fond [of john]]]]]}}]\\!]^{}_{\\left\\langle{}e,t\\right\\rangle{}}$</span></div></div></div><div style=\"display:table-row;\"><div style=\"display:table-cell;padding-right:2px; padding-left:2px;\" align=\"center\"><div style=\"display:inline-block;\"><span>$\\lambda{} x_{e} \\: . \\: ((({Gray}({x}) \\wedge{} {Cat}({x})) \\wedge{} {In}({x}, {Texas}_{e})) \\wedge{} {Fond}_{\\left\\langle{}e,\\left\\langle{}e,t\\right\\rangle{}\\right\\rangle{}}({x})({John}_{e}))$</span></div></div></div></div></div></div><div style=\"display:table-cell;\"></div></div></div></div><div style=\"align: center; vertical-align: middle; display: table-cell;\"><span style=\"padding:1em;\">*</span></div><div style=\"display:table-cell;vertical-align:middle;padding-left:5px;padding-right:5px;padding-top:5px;padding-bottom:5px;\"><div align=\"center\" style=\"display:block;padding-left:5px;padding-right:5px;padding-top:5px;padding-bottom:5px;\"><div style=\"display:table;table-layout:auto;\" align=\"center\"><div style=\"display:table-row;\"><div style=\"display:table-cell;padding-right:2px; padding-left:2px;\" align=\"center\"><div style=\"display:inline-block;\"><span>$[\\![\\mathbf{\\text{julius}}]\\!]^{}_{e}$</span></div></div></div><div style=\"display:table-row;\"><div style=\"display:table-cell;padding-right:2px; padding-left:2px;\" align=\"center\"><div style=\"display:inline-block;\"><span>${Julius}_{e}$</span></div></div></div></div></div></div></div></div><div style=\"display:table-cell;vertical-align:middle;border-left:1px solid #848482;padding:0.5em\"><div style=\"white-space:nowrap; color:blue;\"><b>[<div style=\"display:inline-block;\"><span>FA</span></div>]</b></div></div></div><div align=\"center\" style=\"display:table-row;padding-left:5px;padding-right:5px;padding-top:5px;padding-bottom:5px;\"><div align=\"center\" style=\"display:table-cell;\"><div align=\"center\" style=\"display:block;padding-left:5px;padding-right:5px;padding-top:5px;padding-bottom:5px;\"><div style=\"display:table;table-layout:auto;\" align=\"center\"><div style=\"display:table-row;\"><div style=\"display:table-cell;padding-right:2px; padding-left:2px;\" align=\"center\"><div style=\"display:inline-block;\"><span>$[\\![\\mathbf{\\text{[[isV [a [[[gray cat] [inP texas]] [fond [of john]]]]] julius]}}]\\!]^{}_{t}$</span></div></div></div><div style=\"display:table-row;\"><div style=\"display:table-cell;padding-right:2px; padding-left:2px;\" align=\"center\"><div style=\"display:inline-block;\"><span>$((({Gray}({Julius}_{e}) \\wedge{} {Cat}({Julius}_{e})) \\wedge{} {In}({Julius}_{e}, {Texas}_{e})) \\wedge{} {Fond}_{\\left\\langle{}e,\\left\\langle{}e,t\\right\\rangle{}\\right\\rangle{}}({Julius}_{e})({John}_{e}))$</span></div></div></div></div></div></div><div style=\"display:table-cell;\"></div></div></div><br /><br />"
      ],
      "text/plain": [
       "1 composition path:<br /><div align=\"center\" style=\"display:table; margin:5px; border-collapse: collapse;border: 1px solid #848482;\"><div align=\"center\" style=\"display:table-row;border-bottom:1px solid #848482\"><div style=\"display:table-cell;vertical-align:middle;\"><div style=\"display: table;\"><div style=\"display:table-cell;vertical-align:middle;padding-left:5px;padding-right:5px;padding-top:5px;padding-bottom:5px;\"><div align=\"center\" style=\"display:table; margin:5px; border-collapse: collapse;border: 1px solid #848482;\"><div align=\"center\" style=\"display:table-row;border-bottom:1px solid #848482\"><div style=\"display:table-cell;vertical-align:middle;\"><div style=\"display: table;\"><div style=\"display:table-cell;vertical-align:middle;padding-left:5px;padding-right:5px;padding-top:5px;padding-bottom:5px;\"><div align=\"center\" style=\"display:block;padding-left:5px;padding-right:5px;padding-top:5px;padding-bottom:5px;\"><div style=\"display:table;table-layout:auto;\" align=\"center\"><div style=\"display:table-row;\"><div style=\"display:table-cell;padding-right:2px; padding-left:2px;\" align=\"center\"><div style=\"display:inline-block;\"><span>$[\\![\\mathbf{\\text{isV}}]\\!]^{}_{\\left\\langle{}\\left\\langle{}e,t\\right\\rangle{},\\left\\langle{}e,t\\right\\rangle{}\\right\\rangle{}}$</span></div></div></div><div style=\"display:table-row;\"><div style=\"display:table-cell;padding-right:2px; padding-left:2px;\" align=\"center\"><div style=\"display:inline-block;\"><span>$\\lambda{} p_{\\left\\langle{}e,t\\right\\rangle{}} \\: . \\: {p}$</span></div></div></div></div></div></div><div style=\"align: center; vertical-align: middle; display: table-cell;\"><span style=\"padding:1em;\">*</span></div><div style=\"display:table-cell;vertical-align:middle;padding-left:5px;padding-right:5px;padding-top:5px;padding-bottom:5px;\"><div align=\"center\" style=\"display:table; margin:5px; border-collapse: collapse;border: 1px solid #848482;\"><div align=\"center\" style=\"display:table-row;border-bottom:1px solid #848482\"><div style=\"display:table-cell;vertical-align:middle;\"><div style=\"display: table;\"><div style=\"display:table-cell;vertical-align:middle;padding-left:5px;padding-right:5px;padding-top:5px;padding-bottom:5px;\"><div align=\"center\" style=\"display:block;padding-left:5px;padding-right:5px;padding-top:5px;padding-bottom:5px;\"><div style=\"display:table;table-layout:auto;\" align=\"center\"><div style=\"display:table-row;\"><div style=\"display:table-cell;padding-right:2px; padding-left:2px;\" align=\"center\"><div style=\"display:inline-block;\"><span>$[\\![\\mathbf{\\text{a}}]\\!]^{}_{\\left\\langle{}\\left\\langle{}e,t\\right\\rangle{},\\left\\langle{}e,t\\right\\rangle{}\\right\\rangle{}}$</span></div></div></div><div style=\"display:table-row;\"><div style=\"display:table-cell;padding-right:2px; padding-left:2px;\" align=\"center\"><div style=\"display:inline-block;\"><span>$\\lambda{} p_{\\left\\langle{}e,t\\right\\rangle{}} \\: . \\: {p}$</span></div></div></div></div></div></div><div style=\"align: center; vertical-align: middle; display: table-cell;\"><span style=\"padding:1em;\">*</span></div><div style=\"display:table-cell;vertical-align:middle;padding-left:5px;padding-right:5px;padding-top:5px;padding-bottom:5px;\"><div align=\"center\" style=\"display:table; margin:5px; border-collapse: collapse;border: 1px solid #848482;\"><div align=\"center\" style=\"display:table-row;border-bottom:1px solid #848482\"><div style=\"display:table-cell;vertical-align:middle;\"><div style=\"display: table;\"><div style=\"display:table-cell;vertical-align:middle;padding-left:5px;padding-right:5px;padding-top:5px;padding-bottom:5px;\"><div align=\"center\" style=\"display:table; margin:5px; border-collapse: collapse;border: 1px solid #848482;\"><div align=\"center\" style=\"display:table-row;border-bottom:1px solid #848482\"><div style=\"display:table-cell;vertical-align:middle;\"><div style=\"display: table;\"><div style=\"display:table-cell;vertical-align:middle;padding-left:5px;padding-right:5px;padding-top:5px;padding-bottom:5px;\"><div align=\"center\" style=\"display:table; margin:5px; border-collapse: collapse;border: 1px solid #848482;\"><div align=\"center\" style=\"display:table-row;border-bottom:1px solid #848482\"><div style=\"display:table-cell;vertical-align:middle;\"><div style=\"display: table;\"><div style=\"display:table-cell;vertical-align:middle;padding-left:5px;padding-right:5px;padding-top:5px;padding-bottom:5px;\"><div align=\"center\" style=\"display:block;padding-left:5px;padding-right:5px;padding-top:5px;padding-bottom:5px;\"><div style=\"display:table;table-layout:auto;\" align=\"center\"><div style=\"display:table-row;\"><div style=\"display:table-cell;padding-right:2px; padding-left:2px;\" align=\"center\"><div style=\"display:inline-block;\"><span>$[\\![\\mathbf{\\text{gray}}]\\!]^{}_{\\left\\langle{}e,t\\right\\rangle{}}$</span></div></div></div><div style=\"display:table-row;\"><div style=\"display:table-cell;padding-right:2px; padding-left:2px;\" align=\"center\"><div style=\"display:inline-block;\"><span>$\\lambda{} x_{e} \\: . \\: {Gray}({x})$</span></div></div></div></div></div></div><div style=\"align: center; vertical-align: middle; display: table-cell;\"><span style=\"padding:1em;\">*</span></div><div style=\"display:table-cell;vertical-align:middle;padding-left:5px;padding-right:5px;padding-top:5px;padding-bottom:5px;\"><div align=\"center\" style=\"display:block;padding-left:5px;padding-right:5px;padding-top:5px;padding-bottom:5px;\"><div style=\"display:table;table-layout:auto;\" align=\"center\"><div style=\"display:table-row;\"><div style=\"display:table-cell;padding-right:2px; padding-left:2px;\" align=\"center\"><div style=\"display:inline-block;\"><span>$[\\![\\mathbf{\\text{cat}}]\\!]^{}_{\\left\\langle{}e,t\\right\\rangle{}}$</span></div></div></div><div style=\"display:table-row;\"><div style=\"display:table-cell;padding-right:2px; padding-left:2px;\" align=\"center\"><div style=\"display:inline-block;\"><span>$\\lambda{} x_{e} \\: . \\: {Cat}({x})$</span></div></div></div></div></div></div></div></div><div style=\"display:table-cell;vertical-align:middle;border-left:1px solid #848482;padding:0.5em\"><div style=\"white-space:nowrap; color:blue;\"><b>[<div style=\"display:inline-block;\"><span>PM</span></div>]</b></div></div></div><div align=\"center\" style=\"display:table-row;padding-left:5px;padding-right:5px;padding-top:5px;padding-bottom:5px;\"><div align=\"center\" style=\"display:table-cell;\"><div align=\"center\" style=\"display:block;padding-left:5px;padding-right:5px;padding-top:5px;padding-bottom:5px;\"><div style=\"display:table;table-layout:auto;\" align=\"center\"><div style=\"display:table-row;\"><div style=\"display:table-cell;padding-right:2px; padding-left:2px;\" align=\"center\"><div style=\"display:inline-block;\"><span>$[\\![\\mathbf{\\text{[gray cat]}}]\\!]^{}_{\\left\\langle{}e,t\\right\\rangle{}}$</span></div></div></div><div style=\"display:table-row;\"><div style=\"display:table-cell;padding-right:2px; padding-left:2px;\" align=\"center\"><div style=\"display:inline-block;\"><span>$\\lambda{} x_{e} \\: . \\: ({Gray}({x}) \\wedge{} {Cat}({x}))$</span></div></div></div></div></div></div><div style=\"display:table-cell;\"></div></div></div></div><div style=\"align: center; vertical-align: middle; display: table-cell;\"><span style=\"padding:1em;\">*</span></div><div style=\"display:table-cell;vertical-align:middle;padding-left:5px;padding-right:5px;padding-top:5px;padding-bottom:5px;\"><div align=\"center\" style=\"display:table; margin:5px; border-collapse: collapse;border: 1px solid #848482;\"><div align=\"center\" style=\"display:table-row;border-bottom:1px solid #848482\"><div style=\"display:table-cell;vertical-align:middle;\"><div style=\"display: table;\"><div style=\"display:table-cell;vertical-align:middle;padding-left:5px;padding-right:5px;padding-top:5px;padding-bottom:5px;\"><div align=\"center\" style=\"display:block;padding-left:5px;padding-right:5px;padding-top:5px;padding-bottom:5px;\"><div style=\"display:table;table-layout:auto;\" align=\"center\"><div style=\"display:table-row;\"><div style=\"display:table-cell;padding-right:2px; padding-left:2px;\" align=\"center\"><div style=\"display:inline-block;\"><span>$[\\![\\mathbf{\\text{inP}}]\\!]^{}_{\\left\\langle{}e,\\left\\langle{}e,t\\right\\rangle{}\\right\\rangle{}}$</span></div></div></div><div style=\"display:table-row;\"><div style=\"display:table-cell;padding-right:2px; padding-left:2px;\" align=\"center\"><div style=\"display:inline-block;\"><span>$\\lambda{} x_{e} \\: . \\: \\lambda{} y_{e} \\: . \\: {In}({y}, {x})$</span></div></div></div></div></div></div><div style=\"align: center; vertical-align: middle; display: table-cell;\"><span style=\"padding:1em;\">*</span></div><div style=\"display:table-cell;vertical-align:middle;padding-left:5px;padding-right:5px;padding-top:5px;padding-bottom:5px;\"><div align=\"center\" style=\"display:block;padding-left:5px;padding-right:5px;padding-top:5px;padding-bottom:5px;\"><div style=\"display:table;table-layout:auto;\" align=\"center\"><div style=\"display:table-row;\"><div style=\"display:table-cell;padding-right:2px; padding-left:2px;\" align=\"center\"><div style=\"display:inline-block;\"><span>$[\\![\\mathbf{\\text{texas}}]\\!]^{}_{e}$</span></div></div></div><div style=\"display:table-row;\"><div style=\"display:table-cell;padding-right:2px; padding-left:2px;\" align=\"center\"><div style=\"display:inline-block;\"><span>${Texas}_{e}$</span></div></div></div></div></div></div></div></div><div style=\"display:table-cell;vertical-align:middle;border-left:1px solid #848482;padding:0.5em\"><div style=\"white-space:nowrap; color:blue;\"><b>[<div style=\"display:inline-block;\"><span>FA</span></div>]</b></div></div></div><div align=\"center\" style=\"display:table-row;padding-left:5px;padding-right:5px;padding-top:5px;padding-bottom:5px;\"><div align=\"center\" style=\"display:table-cell;\"><div align=\"center\" style=\"display:block;padding-left:5px;padding-right:5px;padding-top:5px;padding-bottom:5px;\"><div style=\"display:table;table-layout:auto;\" align=\"center\"><div style=\"display:table-row;\"><div style=\"display:table-cell;padding-right:2px; padding-left:2px;\" align=\"center\"><div style=\"display:inline-block;\"><span>$[\\![\\mathbf{\\text{[inP texas]}}]\\!]^{}_{\\left\\langle{}e,t\\right\\rangle{}}$</span></div></div></div><div style=\"display:table-row;\"><div style=\"display:table-cell;padding-right:2px; padding-left:2px;\" align=\"center\"><div style=\"display:inline-block;\"><span>$\\lambda{} y_{e} \\: . \\: {In}({y}, {Texas}_{e})$</span></div></div></div></div></div></div><div style=\"display:table-cell;\"></div></div></div></div></div></div><div style=\"display:table-cell;vertical-align:middle;border-left:1px solid #848482;padding:0.5em\"><div style=\"white-space:nowrap; color:blue;\"><b>[<div style=\"display:inline-block;\"><span>PM</span></div>]</b></div></div></div><div align=\"center\" style=\"display:table-row;padding-left:5px;padding-right:5px;padding-top:5px;padding-bottom:5px;\"><div align=\"center\" style=\"display:table-cell;\"><div align=\"center\" style=\"display:block;padding-left:5px;padding-right:5px;padding-top:5px;padding-bottom:5px;\"><div style=\"display:table;table-layout:auto;\" align=\"center\"><div style=\"display:table-row;\"><div style=\"display:table-cell;padding-right:2px; padding-left:2px;\" align=\"center\"><div style=\"display:inline-block;\"><span>$[\\![\\mathbf{\\text{[[gray cat] [inP texas]]}}]\\!]^{}_{\\left\\langle{}e,t\\right\\rangle{}}$</span></div></div></div><div style=\"display:table-row;\"><div style=\"display:table-cell;padding-right:2px; padding-left:2px;\" align=\"center\"><div style=\"display:inline-block;\"><span>$\\lambda{} x_{e} \\: . \\: (({Gray}({x}) \\wedge{} {Cat}({x})) \\wedge{} {In}({x}, {Texas}_{e}))$</span></div></div></div></div></div></div><div style=\"display:table-cell;\"></div></div></div></div><div style=\"align: center; vertical-align: middle; display: table-cell;\"><span style=\"padding:1em;\">*</span></div><div style=\"display:table-cell;vertical-align:middle;padding-left:5px;padding-right:5px;padding-top:5px;padding-bottom:5px;\"><div align=\"center\" style=\"display:table; margin:5px; border-collapse: collapse;border: 1px solid #848482;\"><div align=\"center\" style=\"display:table-row;border-bottom:1px solid #848482\"><div style=\"display:table-cell;vertical-align:middle;\"><div style=\"display: table;\"><div style=\"display:table-cell;vertical-align:middle;padding-left:5px;padding-right:5px;padding-top:5px;padding-bottom:5px;\"><div align=\"center\" style=\"display:block;padding-left:5px;padding-right:5px;padding-top:5px;padding-bottom:5px;\"><div style=\"display:table;table-layout:auto;\" align=\"center\"><div style=\"display:table-row;\"><div style=\"display:table-cell;padding-right:2px; padding-left:2px;\" align=\"center\"><div style=\"display:inline-block;\"><span>$[\\![\\mathbf{\\text{fond}}]\\!]^{}_{\\left\\langle{}e,\\left\\langle{}e,t\\right\\rangle{}\\right\\rangle{}}$</span></div></div></div><div style=\"display:table-row;\"><div style=\"display:table-cell;padding-right:2px; padding-left:2px;\" align=\"center\"><div style=\"display:inline-block;\"><span>$\\lambda{} x_{e} \\: . \\: \\lambda{} y_{e} \\: . \\: {Fond}_{\\left\\langle{}e,\\left\\langle{}e,t\\right\\rangle{}\\right\\rangle{}}({y})({x})$</span></div></div></div></div></div></div><div style=\"align: center; vertical-align: middle; display: table-cell;\"><span style=\"padding:1em;\">*</span></div><div style=\"display:table-cell;vertical-align:middle;padding-left:5px;padding-right:5px;padding-top:5px;padding-bottom:5px;\"><div align=\"center\" style=\"display:table; margin:5px; border-collapse: collapse;border: 1px solid #848482;\"><div align=\"center\" style=\"display:table-row;border-bottom:1px solid #848482\"><div style=\"display:table-cell;vertical-align:middle;\"><div style=\"display: table;\"><div style=\"display:table-cell;vertical-align:middle;padding-left:5px;padding-right:5px;padding-top:5px;padding-bottom:5px;\"><div align=\"center\" style=\"display:block;padding-left:5px;padding-right:5px;padding-top:5px;padding-bottom:5px;\"><div style=\"display:table;table-layout:auto;\" align=\"center\"><div style=\"display:table-row;\"><div style=\"display:table-cell;padding-right:2px; padding-left:2px;\" align=\"center\"><div style=\"display:inline-block;\"><span>$[\\![\\mathbf{\\text{of}}]\\!]^{}_{\\left\\langle{}e,e\\right\\rangle{}}$</span></div></div></div><div style=\"display:table-row;\"><div style=\"display:table-cell;padding-right:2px; padding-left:2px;\" align=\"center\"><div style=\"display:inline-block;\"><span>$\\lambda{} x_{e} \\: . \\: {x}$</span></div></div></div></div></div></div><div style=\"align: center; vertical-align: middle; display: table-cell;\"><span style=\"padding:1em;\">*</span></div><div style=\"display:table-cell;vertical-align:middle;padding-left:5px;padding-right:5px;padding-top:5px;padding-bottom:5px;\"><div align=\"center\" style=\"display:block;padding-left:5px;padding-right:5px;padding-top:5px;padding-bottom:5px;\"><div style=\"display:table;table-layout:auto;\" align=\"center\"><div style=\"display:table-row;\"><div style=\"display:table-cell;padding-right:2px; padding-left:2px;\" align=\"center\"><div style=\"display:inline-block;\"><span>$[\\![\\mathbf{\\text{john}}]\\!]^{}_{e}$</span></div></div></div><div style=\"display:table-row;\"><div style=\"display:table-cell;padding-right:2px; padding-left:2px;\" align=\"center\"><div style=\"display:inline-block;\"><span>${John}_{e}$</span></div></div></div></div></div></div></div></div><div style=\"display:table-cell;vertical-align:middle;border-left:1px solid #848482;padding:0.5em\"><div style=\"white-space:nowrap; color:blue;\"><b>[<div style=\"display:inline-block;\"><span>FA</span></div>]</b></div></div></div><div align=\"center\" style=\"display:table-row;padding-left:5px;padding-right:5px;padding-top:5px;padding-bottom:5px;\"><div align=\"center\" style=\"display:table-cell;\"><div align=\"center\" style=\"display:block;padding-left:5px;padding-right:5px;padding-top:5px;padding-bottom:5px;\"><div style=\"display:table;table-layout:auto;\" align=\"center\"><div style=\"display:table-row;\"><div style=\"display:table-cell;padding-right:2px; padding-left:2px;\" align=\"center\"><div style=\"display:inline-block;\"><span>$[\\![\\mathbf{\\text{[of john]}}]\\!]^{}_{e}$</span></div></div></div><div style=\"display:table-row;\"><div style=\"display:table-cell;padding-right:2px; padding-left:2px;\" align=\"center\"><div style=\"display:inline-block;\"><span>${John}_{e}$</span></div></div></div></div></div></div><div style=\"display:table-cell;\"></div></div></div></div></div></div><div style=\"display:table-cell;vertical-align:middle;border-left:1px solid #848482;padding:0.5em\"><div style=\"white-space:nowrap; color:blue;\"><b>[<div style=\"display:inline-block;\"><span>FA</span></div>]</b></div></div></div><div align=\"center\" style=\"display:table-row;padding-left:5px;padding-right:5px;padding-top:5px;padding-bottom:5px;\"><div align=\"center\" style=\"display:table-cell;\"><div align=\"center\" style=\"display:block;padding-left:5px;padding-right:5px;padding-top:5px;padding-bottom:5px;\"><div style=\"display:table;table-layout:auto;\" align=\"center\"><div style=\"display:table-row;\"><div style=\"display:table-cell;padding-right:2px; padding-left:2px;\" align=\"center\"><div style=\"display:inline-block;\"><span>$[\\![\\mathbf{\\text{[fond [of john]]}}]\\!]^{}_{\\left\\langle{}e,t\\right\\rangle{}}$</span></div></div></div><div style=\"display:table-row;\"><div style=\"display:table-cell;padding-right:2px; padding-left:2px;\" align=\"center\"><div style=\"display:inline-block;\"><span>$\\lambda{} y_{e} \\: . \\: {Fond}_{\\left\\langle{}e,\\left\\langle{}e,t\\right\\rangle{}\\right\\rangle{}}({y})({John}_{e})$</span></div></div></div></div></div></div><div style=\"display:table-cell;\"></div></div></div></div></div></div><div style=\"display:table-cell;vertical-align:middle;border-left:1px solid #848482;padding:0.5em\"><div style=\"white-space:nowrap; color:blue;\"><b>[<div style=\"display:inline-block;\"><span>PM</span></div>]</b></div></div></div><div align=\"center\" style=\"display:table-row;padding-left:5px;padding-right:5px;padding-top:5px;padding-bottom:5px;\"><div align=\"center\" style=\"display:table-cell;\"><div align=\"center\" style=\"display:block;padding-left:5px;padding-right:5px;padding-top:5px;padding-bottom:5px;\"><div style=\"display:table;table-layout:auto;\" align=\"center\"><div style=\"display:table-row;\"><div style=\"display:table-cell;padding-right:2px; padding-left:2px;\" align=\"center\"><div style=\"display:inline-block;\"><span>$[\\![\\mathbf{\\text{[[[gray cat] [inP texas]] [fond [of john]]]}}]\\!]^{}_{\\left\\langle{}e,t\\right\\rangle{}}$</span></div></div></div><div style=\"display:table-row;\"><div style=\"display:table-cell;padding-right:2px; padding-left:2px;\" align=\"center\"><div style=\"display:inline-block;\"><span>$\\lambda{} x_{e} \\: . \\: ((({Gray}({x}) \\wedge{} {Cat}({x})) \\wedge{} {In}({x}, {Texas}_{e})) \\wedge{} {Fond}_{\\left\\langle{}e,\\left\\langle{}e,t\\right\\rangle{}\\right\\rangle{}}({x})({John}_{e}))$</span></div></div></div></div></div></div><div style=\"display:table-cell;\"></div></div></div></div></div></div><div style=\"display:table-cell;vertical-align:middle;border-left:1px solid #848482;padding:0.5em\"><div style=\"white-space:nowrap; color:blue;\"><b>[<div style=\"display:inline-block;\"><span>FA</span></div>]</b></div></div></div><div align=\"center\" style=\"display:table-row;padding-left:5px;padding-right:5px;padding-top:5px;padding-bottom:5px;\"><div align=\"center\" style=\"display:table-cell;\"><div align=\"center\" style=\"display:block;padding-left:5px;padding-right:5px;padding-top:5px;padding-bottom:5px;\"><div style=\"display:table;table-layout:auto;\" align=\"center\"><div style=\"display:table-row;\"><div style=\"display:table-cell;padding-right:2px; padding-left:2px;\" align=\"center\"><div style=\"display:inline-block;\"><span>$[\\![\\mathbf{\\text{[a [[[gray cat] [inP texas]] [fond [of john]]]]}}]\\!]^{}_{\\left\\langle{}e,t\\right\\rangle{}}$</span></div></div></div><div style=\"display:table-row;\"><div style=\"display:table-cell;padding-right:2px; padding-left:2px;\" align=\"center\"><div style=\"display:inline-block;\"><span>$\\lambda{} x_{e} \\: . \\: ((({Gray}({x}) \\wedge{} {Cat}({x})) \\wedge{} {In}({x}, {Texas}_{e})) \\wedge{} {Fond}_{\\left\\langle{}e,\\left\\langle{}e,t\\right\\rangle{}\\right\\rangle{}}({x})({John}_{e}))$</span></div></div></div></div></div></div><div style=\"display:table-cell;\"></div></div></div></div></div></div><div style=\"display:table-cell;vertical-align:middle;border-left:1px solid #848482;padding:0.5em\"><div style=\"white-space:nowrap; color:blue;\"><b>[<div style=\"display:inline-block;\"><span>FA</span></div>]</b></div></div></div><div align=\"center\" style=\"display:table-row;padding-left:5px;padding-right:5px;padding-top:5px;padding-bottom:5px;\"><div align=\"center\" style=\"display:table-cell;\"><div align=\"center\" style=\"display:block;padding-left:5px;padding-right:5px;padding-top:5px;padding-bottom:5px;\"><div style=\"display:table;table-layout:auto;\" align=\"center\"><div style=\"display:table-row;\"><div style=\"display:table-cell;padding-right:2px; padding-left:2px;\" align=\"center\"><div style=\"display:inline-block;\"><span>$[\\![\\mathbf{\\text{[isV [a [[[gray cat] [inP texas]] [fond [of john]]]]]}}]\\!]^{}_{\\left\\langle{}e,t\\right\\rangle{}}$</span></div></div></div><div style=\"display:table-row;\"><div style=\"display:table-cell;padding-right:2px; padding-left:2px;\" align=\"center\"><div style=\"display:inline-block;\"><span>$\\lambda{} x_{e} \\: . \\: ((({Gray}({x}) \\wedge{} {Cat}({x})) \\wedge{} {In}({x}, {Texas}_{e})) \\wedge{} {Fond}_{\\left\\langle{}e,\\left\\langle{}e,t\\right\\rangle{}\\right\\rangle{}}({x})({John}_{e}))$</span></div></div></div></div></div></div><div style=\"display:table-cell;\"></div></div></div></div><div style=\"align: center; vertical-align: middle; display: table-cell;\"><span style=\"padding:1em;\">*</span></div><div style=\"display:table-cell;vertical-align:middle;padding-left:5px;padding-right:5px;padding-top:5px;padding-bottom:5px;\"><div align=\"center\" style=\"display:block;padding-left:5px;padding-right:5px;padding-top:5px;padding-bottom:5px;\"><div style=\"display:table;table-layout:auto;\" align=\"center\"><div style=\"display:table-row;\"><div style=\"display:table-cell;padding-right:2px; padding-left:2px;\" align=\"center\"><div style=\"display:inline-block;\"><span>$[\\![\\mathbf{\\text{julius}}]\\!]^{}_{e}$</span></div></div></div><div style=\"display:table-row;\"><div style=\"display:table-cell;padding-right:2px; padding-left:2px;\" align=\"center\"><div style=\"display:inline-block;\"><span>${Julius}_{e}$</span></div></div></div></div></div></div></div></div><div style=\"display:table-cell;vertical-align:middle;border-left:1px solid #848482;padding:0.5em\"><div style=\"white-space:nowrap; color:blue;\"><b>[<div style=\"display:inline-block;\"><span>FA</span></div>]</b></div></div></div><div align=\"center\" style=\"display:table-row;padding-left:5px;padding-right:5px;padding-top:5px;padding-bottom:5px;\"><div align=\"center\" style=\"display:table-cell;\"><div align=\"center\" style=\"display:block;padding-left:5px;padding-right:5px;padding-top:5px;padding-bottom:5px;\"><div style=\"display:table;table-layout:auto;\" align=\"center\"><div style=\"display:table-row;\"><div style=\"display:table-cell;padding-right:2px; padding-left:2px;\" align=\"center\"><div style=\"display:inline-block;\"><span>$[\\![\\mathbf{\\text{[[isV [a [[[gray cat] [inP texas]] [fond [of john]]]]] julius]}}]\\!]^{}_{t}$</span></div></div></div><div style=\"display:table-row;\"><div style=\"display:table-cell;padding-right:2px; padding-left:2px;\" align=\"center\"><div style=\"display:inline-block;\"><span>$((({Gray}({Julius}_{e}) \\wedge{} {Cat}({Julius}_{e})) \\wedge{} {In}({Julius}_{e}, {Texas}_{e})) \\wedge{} {Fond}_{\\left\\langle{}e,\\left\\langle{}e,t\\right\\rangle{}\\right\\rangle{}}({Julius}_{e})({John}_{e}))$</span></div></div></div></div></div></div><div style=\"display:table-cell;\"></div></div></div><br /><br />"
      ]
     },
     "execution_count": 43,
     "metadata": {},
     "output_type": "execute_result"
    }
   ],
   "source": [
    "sentence3.tree()"
   ]
  },
  {
   "cell_type": "markdown",
   "metadata": {},
   "source": [
    "The _Composite_ class subclasses _nltk.Tree_, and so supports the things that class does.  E.g. []-based paths:"
   ]
  },
  {
   "cell_type": "code",
   "execution_count": 44,
   "metadata": {
    "execution": {
     "iopub.execute_input": "2022-07-19T19:25:46.390334Z",
     "iopub.status.busy": "2022-07-19T19:25:46.390128Z",
     "iopub.status.idle": "2022-07-19T19:25:46.396863Z",
     "shell.execute_reply": "2022-07-19T19:25:46.396288Z"
    }
   },
   "outputs": [
    {
     "data": {
      "text/html": [
       "<div align=\"center\" style=\"display:table; margin:5px; border-collapse: collapse;border: 1px solid #848482;\"><div align=\"center\" style=\"display:table-row;border-bottom:1px solid #848482\"><div style=\"display:table-cell;vertical-align:middle;\"><div style=\"display: table;\"><div style=\"display:table-cell;vertical-align:middle;padding-left:5px;padding-right:5px;padding-top:5px;padding-bottom:5px;\"><div align=\"center\" style=\"display:table; margin:5px; border-collapse: collapse;border: 1px solid #848482;\"><div align=\"center\" style=\"display:table-row;border-bottom:1px solid #848482\"><div style=\"display:table-cell;vertical-align:middle;\"><div style=\"display: table;\"><div style=\"display:table-cell;vertical-align:middle;padding-left:5px;padding-right:5px;padding-top:5px;padding-bottom:5px;\"><div align=\"center\" style=\"display:table; margin:5px; border-collapse: collapse;border: 1px solid #848482;\"><div align=\"center\" style=\"display:table-row;border-bottom:1px solid #848482\"><div style=\"display:table-cell;vertical-align:middle;\"><div style=\"display: table;\"><div style=\"display:table-cell;vertical-align:middle;padding-left:5px;padding-right:5px;padding-top:5px;padding-bottom:5px;\"><div align=\"center\" style=\"display:block;padding-left:5px;padding-right:5px;padding-top:5px;padding-bottom:5px;\"><div style=\"display:table;table-layout:auto;\" align=\"center\"><div style=\"display:table-row;\"><div style=\"display:table-cell;padding-right:2px; padding-left:2px;\" align=\"center\"><div style=\"display:inline-block;\"><span>$[\\![\\mathbf{\\text{gray}}]\\!]^{}_{\\left\\langle{}e,t\\right\\rangle{}}$</span></div></div></div><div style=\"display:table-row;\"><div style=\"display:table-cell;padding-right:2px; padding-left:2px;\" align=\"center\"><div style=\"display:inline-block;\"><span>$\\lambda{} x_{e} \\: . \\: {Gray}({x})$</span></div></div></div></div></div></div><div style=\"align: center; vertical-align: middle; display: table-cell;\"><span style=\"padding:1em;\">*</span></div><div style=\"display:table-cell;vertical-align:middle;padding-left:5px;padding-right:5px;padding-top:5px;padding-bottom:5px;\"><div align=\"center\" style=\"display:block;padding-left:5px;padding-right:5px;padding-top:5px;padding-bottom:5px;\"><div style=\"display:table;table-layout:auto;\" align=\"center\"><div style=\"display:table-row;\"><div style=\"display:table-cell;padding-right:2px; padding-left:2px;\" align=\"center\"><div style=\"display:inline-block;\"><span>$[\\![\\mathbf{\\text{cat}}]\\!]^{}_{\\left\\langle{}e,t\\right\\rangle{}}$</span></div></div></div><div style=\"display:table-row;\"><div style=\"display:table-cell;padding-right:2px; padding-left:2px;\" align=\"center\"><div style=\"display:inline-block;\"><span>$\\lambda{} x_{e} \\: . \\: {Cat}({x})$</span></div></div></div></div></div></div></div></div><div style=\"display:table-cell;vertical-align:middle;border-left:1px solid #848482;padding:0.5em\"><div style=\"white-space:nowrap; color:blue;\"><b>[<div style=\"display:inline-block;\"><span>PM</span></div>]</b></div></div></div><div align=\"center\" style=\"display:table-row;padding-left:5px;padding-right:5px;padding-top:5px;padding-bottom:5px;\"><div align=\"center\" style=\"display:table-cell;\"><div align=\"center\" style=\"display:block;padding-left:5px;padding-right:5px;padding-top:5px;padding-bottom:5px;\"><div style=\"display:table;table-layout:auto;\" align=\"center\"><div style=\"display:table-row;\"><div style=\"display:table-cell;padding-right:2px; padding-left:2px;\" align=\"center\"><div style=\"display:inline-block;\"><span>$[\\![\\mathbf{\\text{[gray cat]}}]\\!]^{}_{\\left\\langle{}e,t\\right\\rangle{}}$</span></div></div></div><div style=\"display:table-row;\"><div style=\"display:table-cell;padding-right:2px; padding-left:2px;\" align=\"center\"><div style=\"display:inline-block;\"><span>$\\lambda{} x_{e} \\: . \\: ({Gray}({x}) \\wedge{} {Cat}({x}))$</span></div></div></div></div></div></div><div style=\"display:table-cell;\"></div></div></div></div><div style=\"align: center; vertical-align: middle; display: table-cell;\"><span style=\"padding:1em;\">*</span></div><div style=\"display:table-cell;vertical-align:middle;padding-left:5px;padding-right:5px;padding-top:5px;padding-bottom:5px;\"><div align=\"center\" style=\"display:table; margin:5px; border-collapse: collapse;border: 1px solid #848482;\"><div align=\"center\" style=\"display:table-row;border-bottom:1px solid #848482\"><div style=\"display:table-cell;vertical-align:middle;\"><div style=\"display: table;\"><div style=\"display:table-cell;vertical-align:middle;padding-left:5px;padding-right:5px;padding-top:5px;padding-bottom:5px;\"><div align=\"center\" style=\"display:block;padding-left:5px;padding-right:5px;padding-top:5px;padding-bottom:5px;\"><div style=\"display:table;table-layout:auto;\" align=\"center\"><div style=\"display:table-row;\"><div style=\"display:table-cell;padding-right:2px; padding-left:2px;\" align=\"center\"><div style=\"display:inline-block;\"><span>$[\\![\\mathbf{\\text{inP}}]\\!]^{}_{\\left\\langle{}e,\\left\\langle{}e,t\\right\\rangle{}\\right\\rangle{}}$</span></div></div></div><div style=\"display:table-row;\"><div style=\"display:table-cell;padding-right:2px; padding-left:2px;\" align=\"center\"><div style=\"display:inline-block;\"><span>$\\lambda{} x_{e} \\: . \\: \\lambda{} y_{e} \\: . \\: {In}({y}, {x})$</span></div></div></div></div></div></div><div style=\"align: center; vertical-align: middle; display: table-cell;\"><span style=\"padding:1em;\">*</span></div><div style=\"display:table-cell;vertical-align:middle;padding-left:5px;padding-right:5px;padding-top:5px;padding-bottom:5px;\"><div align=\"center\" style=\"display:block;padding-left:5px;padding-right:5px;padding-top:5px;padding-bottom:5px;\"><div style=\"display:table;table-layout:auto;\" align=\"center\"><div style=\"display:table-row;\"><div style=\"display:table-cell;padding-right:2px; padding-left:2px;\" align=\"center\"><div style=\"display:inline-block;\"><span>$[\\![\\mathbf{\\text{texas}}]\\!]^{}_{e}$</span></div></div></div><div style=\"display:table-row;\"><div style=\"display:table-cell;padding-right:2px; padding-left:2px;\" align=\"center\"><div style=\"display:inline-block;\"><span>${Texas}_{e}$</span></div></div></div></div></div></div></div></div><div style=\"display:table-cell;vertical-align:middle;border-left:1px solid #848482;padding:0.5em\"><div style=\"white-space:nowrap; color:blue;\"><b>[<div style=\"display:inline-block;\"><span>FA</span></div>]</b></div></div></div><div align=\"center\" style=\"display:table-row;padding-left:5px;padding-right:5px;padding-top:5px;padding-bottom:5px;\"><div align=\"center\" style=\"display:table-cell;\"><div align=\"center\" style=\"display:block;padding-left:5px;padding-right:5px;padding-top:5px;padding-bottom:5px;\"><div style=\"display:table;table-layout:auto;\" align=\"center\"><div style=\"display:table-row;\"><div style=\"display:table-cell;padding-right:2px; padding-left:2px;\" align=\"center\"><div style=\"display:inline-block;\"><span>$[\\![\\mathbf{\\text{[inP texas]}}]\\!]^{}_{\\left\\langle{}e,t\\right\\rangle{}}$</span></div></div></div><div style=\"display:table-row;\"><div style=\"display:table-cell;padding-right:2px; padding-left:2px;\" align=\"center\"><div style=\"display:inline-block;\"><span>$\\lambda{} y_{e} \\: . \\: {In}({y}, {Texas}_{e})$</span></div></div></div></div></div></div><div style=\"display:table-cell;\"></div></div></div></div></div></div><div style=\"display:table-cell;vertical-align:middle;border-left:1px solid #848482;padding:0.5em\"><div style=\"white-space:nowrap; color:blue;\"><b>[<div style=\"display:inline-block;\"><span>PM</span></div>]</b></div></div></div><div align=\"center\" style=\"display:table-row;padding-left:5px;padding-right:5px;padding-top:5px;padding-bottom:5px;\"><div align=\"center\" style=\"display:table-cell;\"><div align=\"center\" style=\"display:block;padding-left:5px;padding-right:5px;padding-top:5px;padding-bottom:5px;\"><div style=\"display:table;table-layout:auto;\" align=\"center\"><div style=\"display:table-row;\"><div style=\"display:table-cell;padding-right:2px; padding-left:2px;\" align=\"center\"><div style=\"display:inline-block;\"><span>$[\\![\\mathbf{\\text{[[gray cat] [inP texas]]}}]\\!]^{}_{\\left\\langle{}e,t\\right\\rangle{}}$</span></div></div></div><div style=\"display:table-row;\"><div style=\"display:table-cell;padding-right:2px; padding-left:2px;\" align=\"center\"><div style=\"display:inline-block;\"><span>$\\lambda{} x_{e} \\: . \\: (({Gray}({x}) \\wedge{} {Cat}({x})) \\wedge{} {In}({x}, {Texas}_{e}))$</span></div></div></div></div></div></div><div style=\"display:table-cell;\"></div></div></div></div><div style=\"align: center; vertical-align: middle; display: table-cell;\"><span style=\"padding:1em;\">*</span></div><div style=\"display:table-cell;vertical-align:middle;padding-left:5px;padding-right:5px;padding-top:5px;padding-bottom:5px;\"><div align=\"center\" style=\"display:table; margin:5px; border-collapse: collapse;border: 1px solid #848482;\"><div align=\"center\" style=\"display:table-row;border-bottom:1px solid #848482\"><div style=\"display:table-cell;vertical-align:middle;\"><div style=\"display: table;\"><div style=\"display:table-cell;vertical-align:middle;padding-left:5px;padding-right:5px;padding-top:5px;padding-bottom:5px;\"><div align=\"center\" style=\"display:block;padding-left:5px;padding-right:5px;padding-top:5px;padding-bottom:5px;\"><div style=\"display:table;table-layout:auto;\" align=\"center\"><div style=\"display:table-row;\"><div style=\"display:table-cell;padding-right:2px; padding-left:2px;\" align=\"center\"><div style=\"display:inline-block;\"><span>$[\\![\\mathbf{\\text{fond}}]\\!]^{}_{\\left\\langle{}e,\\left\\langle{}e,t\\right\\rangle{}\\right\\rangle{}}$</span></div></div></div><div style=\"display:table-row;\"><div style=\"display:table-cell;padding-right:2px; padding-left:2px;\" align=\"center\"><div style=\"display:inline-block;\"><span>$\\lambda{} x_{e} \\: . \\: \\lambda{} y_{e} \\: . \\: {Fond}_{\\left\\langle{}e,\\left\\langle{}e,t\\right\\rangle{}\\right\\rangle{}}({y})({x})$</span></div></div></div></div></div></div><div style=\"align: center; vertical-align: middle; display: table-cell;\"><span style=\"padding:1em;\">*</span></div><div style=\"display:table-cell;vertical-align:middle;padding-left:5px;padding-right:5px;padding-top:5px;padding-bottom:5px;\"><div align=\"center\" style=\"display:table; margin:5px; border-collapse: collapse;border: 1px solid #848482;\"><div align=\"center\" style=\"display:table-row;border-bottom:1px solid #848482\"><div style=\"display:table-cell;vertical-align:middle;\"><div style=\"display: table;\"><div style=\"display:table-cell;vertical-align:middle;padding-left:5px;padding-right:5px;padding-top:5px;padding-bottom:5px;\"><div align=\"center\" style=\"display:block;padding-left:5px;padding-right:5px;padding-top:5px;padding-bottom:5px;\"><div style=\"display:table;table-layout:auto;\" align=\"center\"><div style=\"display:table-row;\"><div style=\"display:table-cell;padding-right:2px; padding-left:2px;\" align=\"center\"><div style=\"display:inline-block;\"><span>$[\\![\\mathbf{\\text{of}}]\\!]^{}_{\\left\\langle{}e,e\\right\\rangle{}}$</span></div></div></div><div style=\"display:table-row;\"><div style=\"display:table-cell;padding-right:2px; padding-left:2px;\" align=\"center\"><div style=\"display:inline-block;\"><span>$\\lambda{} x_{e} \\: . \\: {x}$</span></div></div></div></div></div></div><div style=\"align: center; vertical-align: middle; display: table-cell;\"><span style=\"padding:1em;\">*</span></div><div style=\"display:table-cell;vertical-align:middle;padding-left:5px;padding-right:5px;padding-top:5px;padding-bottom:5px;\"><div align=\"center\" style=\"display:block;padding-left:5px;padding-right:5px;padding-top:5px;padding-bottom:5px;\"><div style=\"display:table;table-layout:auto;\" align=\"center\"><div style=\"display:table-row;\"><div style=\"display:table-cell;padding-right:2px; padding-left:2px;\" align=\"center\"><div style=\"display:inline-block;\"><span>$[\\![\\mathbf{\\text{john}}]\\!]^{}_{e}$</span></div></div></div><div style=\"display:table-row;\"><div style=\"display:table-cell;padding-right:2px; padding-left:2px;\" align=\"center\"><div style=\"display:inline-block;\"><span>${John}_{e}$</span></div></div></div></div></div></div></div></div><div style=\"display:table-cell;vertical-align:middle;border-left:1px solid #848482;padding:0.5em\"><div style=\"white-space:nowrap; color:blue;\"><b>[<div style=\"display:inline-block;\"><span>FA</span></div>]</b></div></div></div><div align=\"center\" style=\"display:table-row;padding-left:5px;padding-right:5px;padding-top:5px;padding-bottom:5px;\"><div align=\"center\" style=\"display:table-cell;\"><div align=\"center\" style=\"display:block;padding-left:5px;padding-right:5px;padding-top:5px;padding-bottom:5px;\"><div style=\"display:table;table-layout:auto;\" align=\"center\"><div style=\"display:table-row;\"><div style=\"display:table-cell;padding-right:2px; padding-left:2px;\" align=\"center\"><div style=\"display:inline-block;\"><span>$[\\![\\mathbf{\\text{[of john]}}]\\!]^{}_{e}$</span></div></div></div><div style=\"display:table-row;\"><div style=\"display:table-cell;padding-right:2px; padding-left:2px;\" align=\"center\"><div style=\"display:inline-block;\"><span>${John}_{e}$</span></div></div></div></div></div></div><div style=\"display:table-cell;\"></div></div></div></div></div></div><div style=\"display:table-cell;vertical-align:middle;border-left:1px solid #848482;padding:0.5em\"><div style=\"white-space:nowrap; color:blue;\"><b>[<div style=\"display:inline-block;\"><span>FA</span></div>]</b></div></div></div><div align=\"center\" style=\"display:table-row;padding-left:5px;padding-right:5px;padding-top:5px;padding-bottom:5px;\"><div align=\"center\" style=\"display:table-cell;\"><div align=\"center\" style=\"display:block;padding-left:5px;padding-right:5px;padding-top:5px;padding-bottom:5px;\"><div style=\"display:table;table-layout:auto;\" align=\"center\"><div style=\"display:table-row;\"><div style=\"display:table-cell;padding-right:2px; padding-left:2px;\" align=\"center\"><div style=\"display:inline-block;\"><span>$[\\![\\mathbf{\\text{[fond [of john]]}}]\\!]^{}_{\\left\\langle{}e,t\\right\\rangle{}}$</span></div></div></div><div style=\"display:table-row;\"><div style=\"display:table-cell;padding-right:2px; padding-left:2px;\" align=\"center\"><div style=\"display:inline-block;\"><span>$\\lambda{} y_{e} \\: . \\: {Fond}_{\\left\\langle{}e,\\left\\langle{}e,t\\right\\rangle{}\\right\\rangle{}}({y})({John}_{e})$</span></div></div></div></div></div></div><div style=\"display:table-cell;\"></div></div></div></div></div></div><div style=\"display:table-cell;vertical-align:middle;border-left:1px solid #848482;padding:0.5em\"><div style=\"white-space:nowrap; color:blue;\"><b>[<div style=\"display:inline-block;\"><span>PM</span></div>]</b></div></div></div><div align=\"center\" style=\"display:table-row;padding-left:5px;padding-right:5px;padding-top:5px;padding-bottom:5px;\"><div align=\"center\" style=\"display:table-cell;\"><div align=\"center\" style=\"display:block;padding-left:5px;padding-right:5px;padding-top:5px;padding-bottom:5px;\"><div style=\"display:table;table-layout:auto;\" align=\"center\"><div style=\"display:table-row;\"><div style=\"display:table-cell;padding-right:2px; padding-left:2px;\" align=\"center\"><div style=\"display:inline-block;\"><span>$[\\![\\mathbf{\\text{[[[gray cat] [inP texas]] [fond [of john]]]}}]\\!]^{}_{\\left\\langle{}e,t\\right\\rangle{}}$</span></div></div></div><div style=\"display:table-row;\"><div style=\"display:table-cell;padding-right:2px; padding-left:2px;\" align=\"center\"><div style=\"display:inline-block;\"><span>$\\lambda{} x_{e} \\: . \\: ((({Gray}({x}) \\wedge{} {Cat}({x})) \\wedge{} {In}({x}, {Texas}_{e})) \\wedge{} {Fond}_{\\left\\langle{}e,\\left\\langle{}e,t\\right\\rangle{}\\right\\rangle{}}({x})({John}_{e}))$</span></div></div></div></div></div></div><div style=\"display:table-cell;\"></div></div></div>"
      ],
      "text/plain": [
       "DisplayNode instance: HTML rendering only"
      ]
     },
     "execution_count": 44,
     "metadata": {},
     "output_type": "execute_result"
    }
   ],
   "source": [
    "parse_tree3 = sentence3.results[0]\n",
    "parse_tree3[0][1][1].tree()"
   ]
  },
  {
   "cell_type": "markdown",
   "metadata": {},
   "source": [
    "There is support for traces and indexed pronouns, using the PA rule.  (The implementation may not be what you expect.)"
   ]
  },
  {
   "cell_type": "code",
   "execution_count": 45,
   "metadata": {
    "execution": {
     "iopub.execute_input": "2022-07-19T19:25:46.399628Z",
     "iopub.status.busy": "2022-07-19T19:25:46.399316Z",
     "iopub.status.idle": "2022-07-19T19:25:46.408066Z",
     "shell.execute_reply": "2022-07-19T19:25:46.407505Z"
    }
   },
   "outputs": [
    {
     "data": {
      "image/svg+xml": [
       "<svg baseProfile=\"full\" height=\"8px\" preserveAspectRatio=\"xMidYMid meet\" style=\"font-family: times, serif; font-weight:normal; font-style: normal; font-size: 16px;\" version=\"1.1\" viewBox=\"0,0,16.0,8.0\" width=\"16px\" xmlns=\"http://www.w3.org/2000/svg\" xmlns:ev=\"http://www.w3.org/2001/xml-events\" xmlns:xlink=\"http://www.w3.org/1999/xlink\"><defs /><svg width=\"100%\" x=\"0\" y=\"0em\"><defs /></svg></svg>"
      ],
      "text/html": [
       "$[\\![\\mathbf{\\text{t}}_{23}]\\!]^{}_{e} \\:=\\: $${var23}_{e}$"
      ],
      "text/latex": [
       "$[\\![\\mathbf{\\text{t}}_{23}]\\!]^{}_{e} \\:=\\: $${var23}_{e}$"
      ],
      "text/plain": [
       "⟦t23⟧ = var23_e"
      ]
     },
     "metadata": {},
     "output_type": "display_data"
    },
    {
     "data": {
      "image/svg+xml": [
       "<svg baseProfile=\"full\" height=\"8px\" preserveAspectRatio=\"xMidYMid meet\" style=\"font-family: times, serif; font-weight:normal; font-style: normal; font-size: 16px;\" version=\"1.1\" viewBox=\"0,0,16.0,8.0\" width=\"16px\" xmlns=\"http://www.w3.org/2000/svg\" xmlns:ev=\"http://www.w3.org/2001/xml-events\" xmlns:xlink=\"http://www.w3.org/1999/xlink\"><defs /><svg width=\"100%\" x=\"0\" y=\"0em\"><defs /></svg></svg>"
      ],
      "text/html": [
       "$[\\![\\mathbf{\\text{t}}_{5}]\\!]^{}_{e} \\:=\\: $${var5}_{e}$"
      ],
      "text/latex": [
       "$[\\![\\mathbf{\\text{t}}_{5}]\\!]^{}_{e} \\:=\\: $${var5}_{e}$"
      ],
      "text/plain": [
       "⟦t5⟧ = var5_e"
      ]
     },
     "metadata": {},
     "output_type": "display_data"
    },
    {
     "data": {
      "image/svg+xml": [
       "<svg baseProfile=\"full\" height=\"8px\" preserveAspectRatio=\"xMidYMid meet\" style=\"font-family: times, serif; font-weight:normal; font-style: normal; font-size: 16px;\" version=\"1.1\" viewBox=\"0,0,16.0,8.0\" width=\"16px\" xmlns=\"http://www.w3.org/2000/svg\" xmlns:ev=\"http://www.w3.org/2001/xml-events\" xmlns:xlink=\"http://www.w3.org/1999/xlink\"><defs /><svg width=\"100%\" x=\"0\" y=\"0em\"><defs /></svg></svg>"
      ],
      "text/html": [
       "$[\\![\\mathbf{\\text{23}}]\\!]^{}\\text{ [vacuous]}$"
      ],
      "text/latex": [
       "$[\\![\\mathbf{\\text{23}}]\\!]^{}\\text{ [vacuous]}$"
      ],
      "text/plain": [
       "⟦23⟧ = None"
      ]
     },
     "metadata": {},
     "output_type": "display_data"
    }
   ],
   "source": [
    "binder = lang.Binder(23)\n",
    "binder2 = lang.Binder(5)\n",
    "t = lang.Trace(23, types.type_e)\n",
    "t2 = lang.Trace(5)\n",
    "display(t, t2, binder)"
   ]
  },
  {
   "cell_type": "code",
   "execution_count": 46,
   "metadata": {
    "execution": {
     "iopub.execute_input": "2022-07-19T19:25:46.410468Z",
     "iopub.status.busy": "2022-07-19T19:25:46.410265Z",
     "iopub.status.idle": "2022-07-19T19:25:46.415216Z",
     "shell.execute_reply": "2022-07-19T19:25:46.414659Z"
    }
   },
   "outputs": [
    {
     "data": {
      "text/html": [
       "1 composition path.  Result:\n",
       "<br />&nbsp;&nbsp;&nbsp;&nbsp;[0]: $[\\![\\mathbf{\\text{[gray t23]}}]\\!]^{}_{t} \\:=\\: $${Gray}({var23}_{e})$"
      ],
      "text/plain": [
       "CompositionResult(results=[⟦[gray t23]⟧ = Gray_<e,t>(var23_e)], failures=[⟦[t23 gray]⟧ = Type mismatch: '⟦t23⟧ = var23_e'/e and '⟦gray⟧ = (λ x_e: Gray_<e,t>(x_e))'/<e,t> conflict (Function Application), ⟦[t23 gray]⟧ = Type mismatch: '⟦t23⟧ = var23_e'/e and '⟦gray⟧ = (λ x_e: Gray_<e,t>(x_e))'/<e,t> conflict (Predicate Modification), ⟦[t23 gray]⟧ = Composition failure (PA requires a valid binder) on: ⟦t23⟧ = var23_e * ⟦gray⟧ = (λ x_e: Gray_<e,t>(x_e)), ⟦[gray t23]⟧ = Composition failure (PA requires a valid binder) on: ⟦gray⟧ = (λ x_e: Gray_<e,t>(x_e)) * ⟦t23⟧ = var23_e])"
      ]
     },
     "execution_count": 46,
     "metadata": {},
     "output_type": "execute_result"
    }
   ],
   "source": [
    "((t * gray))"
   ]
  },
  {
   "cell_type": "code",
   "execution_count": 47,
   "metadata": {
    "execution": {
     "iopub.execute_input": "2022-07-19T19:25:46.417571Z",
     "iopub.status.busy": "2022-07-19T19:25:46.417370Z",
     "iopub.status.idle": "2022-07-19T19:25:46.429418Z",
     "shell.execute_reply": "2022-07-19T19:25:46.428692Z"
    }
   },
   "outputs": [
    {
     "data": {
      "text/html": [
       "1 composition path.  Result:\n",
       "<br />&nbsp;&nbsp;&nbsp;&nbsp;[0]: $[\\![\\mathbf{\\text{[23 [5 [[inP t5] t23]]]}}]\\!]^{}_{\\left\\langle{}e,\\left\\langle{}e,t\\right\\rangle{}\\right\\rangle{}} \\:=\\: $$\\lambda{} x1_{e} \\: . \\: \\lambda{} x_{e} \\: . \\: {In}({x1}, {x})$"
      ],
      "text/plain": [
       "CompositionResult(results=[⟦[23 [5 [[inP t5] t23]]]⟧ = (λ x1_e: (λ x_e: In_<(e,e),t>(x1_e, x_e)))], failures=[⟦[23 [5 [[inP t5] t23]]]⟧ = Composition failure (FA disallows None) on: ⟦23⟧ = None * ⟦[5 [[inP t5] t23]]⟧ = (λ x_e: In_<(e,e),t>(var23_e, x_e)), ⟦[[5 [[inP t5] t23]] 23]⟧ = Composition failure (FA disallows None) on: ⟦[5 [[inP t5] t23]]⟧ = (λ x_e: In_<(e,e),t>(var23_e, x_e)) * ⟦23⟧ = None, ⟦[23 [5 [[inP t5] t23]]]⟧ = Composition failure (PM disallows None) on: ⟦23⟧ = None * ⟦[5 [[inP t5] t23]]⟧ = (λ x_e: In_<(e,e),t>(var23_e, x_e)), ⟦[[5 [[inP t5] t23]] 23]⟧ = Composition failure (PA requires a valid binder) on: ⟦[5 [[inP t5] t23]]⟧ = (λ x_e: In_<(e,e),t>(var23_e, x_e)) * ⟦23⟧ = None])"
      ]
     },
     "metadata": {},
     "output_type": "display_data"
    },
    {
     "data": {
      "text/html": [
       "1 composition path.  Result:\n",
       "<br />&nbsp;&nbsp;&nbsp;&nbsp;[0]: $[\\![\\mathbf{\\text{[5 [23 [[inP t5] t23]]]}}]\\!]^{}_{\\left\\langle{}e,\\left\\langle{}e,t\\right\\rangle{}\\right\\rangle{}} \\:=\\: $$\\lambda{} x1_{e} \\: . \\: \\lambda{} x_{e} \\: . \\: {In}({x}, {x1})$"
      ],
      "text/plain": [
       "CompositionResult(results=[⟦[5 [23 [[inP t5] t23]]]⟧ = (λ x1_e: (λ x_e: In_<(e,e),t>(x_e, x1_e)))], failures=[⟦[5 [23 [[inP t5] t23]]]⟧ = Composition failure (FA disallows None) on: ⟦5⟧ = None * ⟦[23 [[inP t5] t23]]⟧ = (λ x_e: In_<(e,e),t>(x_e, var5_e)), ⟦[[23 [[inP t5] t23]] 5]⟧ = Composition failure (FA disallows None) on: ⟦[23 [[inP t5] t23]]⟧ = (λ x_e: In_<(e,e),t>(x_e, var5_e)) * ⟦5⟧ = None, ⟦[5 [23 [[inP t5] t23]]]⟧ = Composition failure (PM disallows None) on: ⟦5⟧ = None * ⟦[23 [[inP t5] t23]]⟧ = (λ x_e: In_<(e,e),t>(x_e, var5_e)), ⟦[[23 [[inP t5] t23]] 5]⟧ = Composition failure (PA requires a valid binder) on: ⟦[23 [[inP t5] t23]]⟧ = (λ x_e: In_<(e,e),t>(x_e, var5_e)) * ⟦5⟧ = None])"
      ]
     },
     "metadata": {},
     "output_type": "display_data"
    }
   ],
   "source": [
    "b1 = (binder * (binder2 * (t * (inP * t2))))\n",
    "b2 = (binder2 * (binder * (t * (inP * t2))))\n",
    "display(b1, b2)"
   ]
  },
  {
   "cell_type": "code",
   "execution_count": 48,
   "metadata": {
    "execution": {
     "iopub.execute_input": "2022-07-19T19:25:46.432199Z",
     "iopub.status.busy": "2022-07-19T19:25:46.431979Z",
     "iopub.status.idle": "2022-07-19T19:25:46.437238Z",
     "shell.execute_reply": "2022-07-19T19:25:46.436585Z"
    }
   },
   "outputs": [
    {
     "data": {
      "text/html": [
       "Full composition trace.  1 path:<br />\n",
       "&nbsp;&nbsp;&nbsp;&nbsp;Step 1: $[\\![\\mathbf{\\text{23}}]\\!]^{}\\text{ [vacuous]}$<br />\n",
       "&nbsp;&nbsp;&nbsp;&nbsp;Step 2: $[\\![\\mathbf{\\text{5}}]\\!]^{}\\text{ [vacuous]}$<br />\n",
       "&nbsp;&nbsp;&nbsp;&nbsp;Step 3: $[\\![\\mathbf{\\text{inP}}]\\!]^{}_{\\left\\langle{}e,\\left\\langle{}e,t\\right\\rangle{}\\right\\rangle{}} \\:=\\: $$\\lambda{} x_{e} \\: . \\: \\lambda{} y_{e} \\: . \\: {In}({y}, {x})$<br />\n",
       "&nbsp;&nbsp;&nbsp;&nbsp;Step 4: $[\\![\\mathbf{\\text{t}}_{5}]\\!]^{}_{e} \\:=\\: $${var5}_{e}$<br />\n",
       "&nbsp;&nbsp;&nbsp;&nbsp;Step 5: $[\\![\\mathbf{\\text{inP}}]\\!]^{}_{\\left\\langle{}e,\\left\\langle{}e,t\\right\\rangle{}\\right\\rangle{}}$ * $[\\![\\mathbf{\\text{t}}_{5}]\\!]^{}_{e}$ leads to: $[\\![\\mathbf{\\text{[inP t5]}}]\\!]^{}_{\\left\\langle{}e,t\\right\\rangle{}} \\:=\\: $$\\lambda{} y_{e} \\: . \\: {In}({y}, {var5}_{e})$ <b>[by FA]</b><br />\n",
       "&nbsp;&nbsp;&nbsp;&nbsp;Step 6: $[\\![\\mathbf{\\text{t}}_{23}]\\!]^{}_{e} \\:=\\: $${var23}_{e}$<br />\n",
       "&nbsp;&nbsp;&nbsp;&nbsp;Step 7: $[\\![\\mathbf{\\text{[inP t5]}}]\\!]^{}_{\\left\\langle{}e,t\\right\\rangle{}}$ * $[\\![\\mathbf{\\text{t}}_{23}]\\!]^{}_{e}$ leads to: $[\\![\\mathbf{\\text{[[inP t5] t23]}}]\\!]^{}_{t} \\:=\\: $${In}({var23}_{e}, {var5}_{e})$ <b>[by FA]</b><br />\n",
       "&nbsp;&nbsp;&nbsp;&nbsp;Step 8: $[\\![\\mathbf{\\text{5}}]\\!]^{}$ * $[\\![\\mathbf{\\text{[[inP t5] t23]}}]\\!]^{}_{t}$ leads to: $[\\![\\mathbf{\\text{[5 [[inP t5] t23]]}}]\\!]^{}_{\\left\\langle{}e,t\\right\\rangle{}} \\:=\\: $$\\lambda{} x_{e} \\: . \\: {In}({var23}_{e}, {x})$ <b>[by PA]</b><br />\n",
       "&nbsp;&nbsp;&nbsp;&nbsp;Step 9: $[\\![\\mathbf{\\text{23}}]\\!]^{}$ * $[\\![\\mathbf{\\text{[5 [[inP t5] t23]]}}]\\!]^{}_{\\left\\langle{}e,t\\right\\rangle{}}$ leads to: $[\\![\\mathbf{\\text{[23 [5 [[inP t5] t23]]]}}]\\!]^{}_{\\left\\langle{}e,\\left\\langle{}e,t\\right\\rangle{}\\right\\rangle{}} \\:=\\: $$\\lambda{} x1_{e} \\: . \\: \\lambda{} x_{e} \\: . \\: {In}({x1}, {x})$ <b>[by PA]</b><br />\n"
      ],
      "text/latex": [
       "Full composition trace.  1 path:<br />\n",
       "&nbsp;&nbsp;&nbsp;&nbsp;Step 1: $[\\![\\mathbf{\\text{23}}]\\!]^{}\\text{ [vacuous]}$<br />\n",
       "&nbsp;&nbsp;&nbsp;&nbsp;Step 2: $[\\![\\mathbf{\\text{5}}]\\!]^{}\\text{ [vacuous]}$<br />\n",
       "&nbsp;&nbsp;&nbsp;&nbsp;Step 3: $[\\![\\mathbf{\\text{inP}}]\\!]^{}_{\\left\\langle{}e,\\left\\langle{}e,t\\right\\rangle{}\\right\\rangle{}} \\:=\\: $$\\lambda{} x_{e} \\: . \\: \\lambda{} y_{e} \\: . \\: {In}({y}, {x})$<br />\n",
       "&nbsp;&nbsp;&nbsp;&nbsp;Step 4: $[\\![\\mathbf{\\text{t}}_{5}]\\!]^{}_{e} \\:=\\: $${var5}_{e}$<br />\n",
       "&nbsp;&nbsp;&nbsp;&nbsp;Step 5: $[\\![\\mathbf{\\text{inP}}]\\!]^{}_{\\left\\langle{}e,\\left\\langle{}e,t\\right\\rangle{}\\right\\rangle{}}$ * $[\\![\\mathbf{\\text{t}}_{5}]\\!]^{}_{e}$ leads to: $[\\![\\mathbf{\\text{[inP t5]}}]\\!]^{}_{\\left\\langle{}e,t\\right\\rangle{}} \\:=\\: $$\\lambda{} y_{e} \\: . \\: {In}({y}, {var5}_{e})$ <b>[by FA]</b><br />\n",
       "&nbsp;&nbsp;&nbsp;&nbsp;Step 6: $[\\![\\mathbf{\\text{t}}_{23}]\\!]^{}_{e} \\:=\\: $${var23}_{e}$<br />\n",
       "&nbsp;&nbsp;&nbsp;&nbsp;Step 7: $[\\![\\mathbf{\\text{[inP t5]}}]\\!]^{}_{\\left\\langle{}e,t\\right\\rangle{}}$ * $[\\![\\mathbf{\\text{t}}_{23}]\\!]^{}_{e}$ leads to: $[\\![\\mathbf{\\text{[[inP t5] t23]}}]\\!]^{}_{t} \\:=\\: $${In}({var23}_{e}, {var5}_{e})$ <b>[by FA]</b><br />\n",
       "&nbsp;&nbsp;&nbsp;&nbsp;Step 8: $[\\![\\mathbf{\\text{5}}]\\!]^{}$ * $[\\![\\mathbf{\\text{[[inP t5] t23]}}]\\!]^{}_{t}$ leads to: $[\\![\\mathbf{\\text{[5 [[inP t5] t23]]}}]\\!]^{}_{\\left\\langle{}e,t\\right\\rangle{}} \\:=\\: $$\\lambda{} x_{e} \\: . \\: {In}({var23}_{e}, {x})$ <b>[by PA]</b><br />\n",
       "&nbsp;&nbsp;&nbsp;&nbsp;Step 9: $[\\![\\mathbf{\\text{23}}]\\!]^{}$ * $[\\![\\mathbf{\\text{[5 [[inP t5] t23]]}}]\\!]^{}_{\\left\\langle{}e,t\\right\\rangle{}}$ leads to: $[\\![\\mathbf{\\text{[23 [5 [[inP t5] t23]]]}}]\\!]^{}_{\\left\\langle{}e,\\left\\langle{}e,t\\right\\rangle{}\\right\\rangle{}} \\:=\\: $$\\lambda{} x1_{e} \\: . \\: \\lambda{} x_{e} \\: . \\: {In}({x1}, {x})$ <b>[by PA]</b><br />\n"
      ],
      "text/plain": [
       "Full composition trace.  1 path:<br />\n",
       "&nbsp;&nbsp;&nbsp;&nbsp;Step 1: $[\\![\\mathbf{\\text{23}}]\\!]^{}\\text{ [vacuous]}$<br />\n",
       "&nbsp;&nbsp;&nbsp;&nbsp;Step 2: $[\\![\\mathbf{\\text{5}}]\\!]^{}\\text{ [vacuous]}$<br />\n",
       "&nbsp;&nbsp;&nbsp;&nbsp;Step 3: $[\\![\\mathbf{\\text{inP}}]\\!]^{}_{\\left\\langle{}e,\\left\\langle{}e,t\\right\\rangle{}\\right\\rangle{}} \\:=\\: $$\\lambda{} x_{e} \\: . \\: \\lambda{} y_{e} \\: . \\: {In}({y}, {x})$<br />\n",
       "&nbsp;&nbsp;&nbsp;&nbsp;Step 4: $[\\![\\mathbf{\\text{t}}_{5}]\\!]^{}_{e} \\:=\\: $${var5}_{e}$<br />\n",
       "&nbsp;&nbsp;&nbsp;&nbsp;Step 5: $[\\![\\mathbf{\\text{inP}}]\\!]^{}_{\\left\\langle{}e,\\left\\langle{}e,t\\right\\rangle{}\\right\\rangle{}}$ * $[\\![\\mathbf{\\text{t}}_{5}]\\!]^{}_{e}$ leads to: $[\\![\\mathbf{\\text{[inP t5]}}]\\!]^{}_{\\left\\langle{}e,t\\right\\rangle{}} \\:=\\: $$\\lambda{} y_{e} \\: . \\: {In}({y}, {var5}_{e})$ <b>[by FA]</b><br />\n",
       "&nbsp;&nbsp;&nbsp;&nbsp;Step 6: $[\\![\\mathbf{\\text{t}}_{23}]\\!]^{}_{e} \\:=\\: $${var23}_{e}$<br />\n",
       "&nbsp;&nbsp;&nbsp;&nbsp;Step 7: $[\\![\\mathbf{\\text{[inP t5]}}]\\!]^{}_{\\left\\langle{}e,t\\right\\rangle{}}$ * $[\\![\\mathbf{\\text{t}}_{23}]\\!]^{}_{e}$ leads to: $[\\![\\mathbf{\\text{[[inP t5] t23]}}]\\!]^{}_{t} \\:=\\: $${In}({var23}_{e}, {var5}_{e})$ <b>[by FA]</b><br />\n",
       "&nbsp;&nbsp;&nbsp;&nbsp;Step 8: $[\\![\\mathbf{\\text{5}}]\\!]^{}$ * $[\\![\\mathbf{\\text{[[inP t5] t23]}}]\\!]^{}_{t}$ leads to: $[\\![\\mathbf{\\text{[5 [[inP t5] t23]]}}]\\!]^{}_{\\left\\langle{}e,t\\right\\rangle{}} \\:=\\: $$\\lambda{} x_{e} \\: . \\: {In}({var23}_{e}, {x})$ <b>[by PA]</b><br />\n",
       "&nbsp;&nbsp;&nbsp;&nbsp;Step 9: $[\\![\\mathbf{\\text{23}}]\\!]^{}$ * $[\\![\\mathbf{\\text{[5 [[inP t5] t23]]}}]\\!]^{}_{\\left\\langle{}e,t\\right\\rangle{}}$ leads to: $[\\![\\mathbf{\\text{[23 [5 [[inP t5] t23]]]}}]\\!]^{}_{\\left\\langle{}e,\\left\\langle{}e,t\\right\\rangle{}\\right\\rangle{}} \\:=\\: $$\\lambda{} x1_{e} \\: . \\: \\lambda{} x_{e} \\: . \\: {In}({x1}, {x})$ <b>[by PA]</b><br />"
      ]
     },
     "execution_count": 48,
     "metadata": {},
     "output_type": "execute_result"
    }
   ],
   "source": [
    "b1.trace()"
   ]
  },
  {
   "cell_type": "code",
   "execution_count": 49,
   "metadata": {
    "execution": {
     "iopub.execute_input": "2022-07-19T19:25:46.439610Z",
     "iopub.status.busy": "2022-07-19T19:25:46.439409Z",
     "iopub.status.idle": "2022-07-19T19:25:46.445072Z",
     "shell.execute_reply": "2022-07-19T19:25:46.444490Z"
    }
   },
   "outputs": [
    {
     "data": {
      "text/html": [
       "<div align=\"center\" style=\"display:table; margin:5px; border-collapse: collapse;border: 1px solid #848482;\"><div align=\"center\" style=\"display:table-row;border-bottom:1px solid #848482\"><div style=\"display:table-cell;vertical-align:middle;\"><div style=\"display: table;\"><div style=\"display:table-cell;vertical-align:middle;padding-left:5px;padding-right:5px;padding-top:5px;padding-bottom:5px;\"><div align=\"center\" style=\"display:block;padding-left:5px;padding-right:5px;padding-top:5px;padding-bottom:5px;\"><div style=\"display:table;table-layout:auto;\" align=\"center\"><div style=\"display:table-row;\"><div style=\"display:table-cell;padding-right:2px; padding-left:2px;\" align=\"center\"><div style=\"display:inline-block;\"><span>$[\\![\\mathbf{\\text{23}}]\\!]^{}$</span></div></div></div><div style=\"display:table-row;\"><div style=\"display:table-cell;padding-right:2px; padding-left:2px;\" align=\"center\"><div style=\"display:inline-block;\"><span>[idx: 23]</span></div></div></div></div></div></div><div style=\"align: center; vertical-align: middle; display: table-cell;\"><span style=\"padding:1em;\">*</span></div><div style=\"display:table-cell;vertical-align:middle;padding-left:5px;padding-right:5px;padding-top:5px;padding-bottom:5px;\"><div align=\"center\" style=\"display:table; margin:5px; border-collapse: collapse;border: 1px solid #848482;\"><div align=\"center\" style=\"display:table-row;border-bottom:1px solid #848482\"><div style=\"display:table-cell;vertical-align:middle;\"><div style=\"display: table;\"><div style=\"display:table-cell;vertical-align:middle;padding-left:5px;padding-right:5px;padding-top:5px;padding-bottom:5px;\"><div align=\"center\" style=\"display:block;padding-left:5px;padding-right:5px;padding-top:5px;padding-bottom:5px;\"><div style=\"display:table;table-layout:auto;\" align=\"center\"><div style=\"display:table-row;\"><div style=\"display:table-cell;padding-right:2px; padding-left:2px;\" align=\"center\"><div style=\"display:inline-block;\"><span>$[\\![\\mathbf{\\text{5}}]\\!]^{}$</span></div></div></div><div style=\"display:table-row;\"><div style=\"display:table-cell;padding-right:2px; padding-left:2px;\" align=\"center\"><div style=\"display:inline-block;\"><span>[idx: 5]</span></div></div></div></div></div></div><div style=\"align: center; vertical-align: middle; display: table-cell;\"><span style=\"padding:1em;\">*</span></div><div style=\"display:table-cell;vertical-align:middle;padding-left:5px;padding-right:5px;padding-top:5px;padding-bottom:5px;\"><div align=\"center\" style=\"display:table; margin:5px; border-collapse: collapse;border: 1px solid #848482;\"><div align=\"center\" style=\"display:table-row;border-bottom:1px solid #848482\"><div style=\"display:table-cell;vertical-align:middle;\"><div style=\"display: table;\"><div style=\"display:table-cell;vertical-align:middle;padding-left:5px;padding-right:5px;padding-top:5px;padding-bottom:5px;\"><div align=\"center\" style=\"display:table; margin:5px; border-collapse: collapse;border: 1px solid #848482;\"><div align=\"center\" style=\"display:table-row;border-bottom:1px solid #848482\"><div style=\"display:table-cell;vertical-align:middle;\"><div style=\"display: table;\"><div style=\"display:table-cell;vertical-align:middle;padding-left:5px;padding-right:5px;padding-top:5px;padding-bottom:5px;\"><div align=\"center\" style=\"display:block;padding-left:5px;padding-right:5px;padding-top:5px;padding-bottom:5px;\"><div style=\"display:table;table-layout:auto;\" align=\"center\"><div style=\"display:table-row;\"><div style=\"display:table-cell;padding-right:2px; padding-left:2px;\" align=\"center\"><div style=\"display:inline-block;\"><span>$[\\![\\mathbf{\\text{inP}}]\\!]^{}_{\\left\\langle{}e,\\left\\langle{}e,t\\right\\rangle{}\\right\\rangle{}}$</span></div></div></div><div style=\"display:table-row;\"><div style=\"display:table-cell;padding-right:2px; padding-left:2px;\" align=\"center\"><div style=\"display:inline-block;\"><span>$\\lambda{} x_{e} \\: . \\: \\lambda{} y_{e} \\: . \\: {In}({y}, {x})$</span></div></div></div></div></div></div><div style=\"align: center; vertical-align: middle; display: table-cell;\"><span style=\"padding:1em;\">*</span></div><div style=\"display:table-cell;vertical-align:middle;padding-left:5px;padding-right:5px;padding-top:5px;padding-bottom:5px;\"><div align=\"center\" style=\"display:block;padding-left:5px;padding-right:5px;padding-top:5px;padding-bottom:5px;\"><div style=\"display:table;table-layout:auto;\" align=\"center\"><div style=\"display:table-row;\"><div style=\"display:table-cell;padding-right:2px; padding-left:2px;\" align=\"center\"><div style=\"display:inline-block;\"><span>$[\\![\\mathbf{\\text{t}}_{5}]\\!]^{}_{e}$</span></div></div></div><div style=\"display:table-row;\"><div style=\"display:table-cell;padding-right:2px; padding-left:2px;\" align=\"center\"><div style=\"display:inline-block;\"><span>${var5}_{e}$</span></div></div></div></div></div></div></div></div><div style=\"display:table-cell;vertical-align:middle;border-left:1px solid #848482;padding:0.5em\"><div style=\"white-space:nowrap; color:blue;\"><b>[<div style=\"display:inline-block;\"><span>FA</span></div>]</b></div></div></div><div align=\"center\" style=\"display:table-row;padding-left:5px;padding-right:5px;padding-top:5px;padding-bottom:5px;\"><div align=\"center\" style=\"display:table-cell;\"><div align=\"center\" style=\"display:block;padding-left:5px;padding-right:5px;padding-top:5px;padding-bottom:5px;\"><div style=\"display:table;table-layout:auto;\" align=\"center\"><div style=\"display:table-row;\"><div style=\"display:table-cell;padding-right:2px; padding-left:2px;\" align=\"center\"><div style=\"display:inline-block;\"><span>$[\\![\\mathbf{\\text{[inP t5]}}]\\!]^{}_{\\left\\langle{}e,t\\right\\rangle{}}$</span></div></div></div><div style=\"display:table-row;\"><div style=\"display:table-cell;padding-right:2px; padding-left:2px;\" align=\"center\"><div style=\"display:inline-block;\"><span>$\\lambda{} y_{e} \\: . \\: {In}({y}, {var5}_{e})$</span></div></div></div></div></div></div><div style=\"display:table-cell;\"></div></div></div></div><div style=\"align: center; vertical-align: middle; display: table-cell;\"><span style=\"padding:1em;\">*</span></div><div style=\"display:table-cell;vertical-align:middle;padding-left:5px;padding-right:5px;padding-top:5px;padding-bottom:5px;\"><div align=\"center\" style=\"display:block;padding-left:5px;padding-right:5px;padding-top:5px;padding-bottom:5px;\"><div style=\"display:table;table-layout:auto;\" align=\"center\"><div style=\"display:table-row;\"><div style=\"display:table-cell;padding-right:2px; padding-left:2px;\" align=\"center\"><div style=\"display:inline-block;\"><span>$[\\![\\mathbf{\\text{t}}_{23}]\\!]^{}_{e}$</span></div></div></div><div style=\"display:table-row;\"><div style=\"display:table-cell;padding-right:2px; padding-left:2px;\" align=\"center\"><div style=\"display:inline-block;\"><span>${var23}_{e}$</span></div></div></div></div></div></div></div></div><div style=\"display:table-cell;vertical-align:middle;border-left:1px solid #848482;padding:0.5em\"><div style=\"white-space:nowrap; color:blue;\"><b>[<div style=\"display:inline-block;\"><span>FA</span></div>]</b></div></div></div><div align=\"center\" style=\"display:table-row;padding-left:5px;padding-right:5px;padding-top:5px;padding-bottom:5px;\"><div align=\"center\" style=\"display:table-cell;\"><div align=\"center\" style=\"display:block;padding-left:5px;padding-right:5px;padding-top:5px;padding-bottom:5px;\"><div style=\"display:table;table-layout:auto;\" align=\"center\"><div style=\"display:table-row;\"><div style=\"display:table-cell;padding-right:2px; padding-left:2px;\" align=\"center\"><div style=\"display:inline-block;\"><span>$[\\![\\mathbf{\\text{[[inP t5] t23]}}]\\!]^{}_{t}$</span></div></div></div><div style=\"display:table-row;\"><div style=\"display:table-cell;padding-right:2px; padding-left:2px;\" align=\"center\"><div style=\"display:inline-block;\"><span>${In}({var23}_{e}, {var5}_{e})$</span></div></div></div></div></div></div><div style=\"display:table-cell;\"></div></div></div></div></div></div><div style=\"display:table-cell;vertical-align:middle;border-left:1px solid #848482;padding:0.5em\"><div style=\"white-space:nowrap; color:blue;\"><b>[<div style=\"display:inline-block;\"><span>PA</span></div>]</b></div></div></div><div align=\"center\" style=\"display:table-row;padding-left:5px;padding-right:5px;padding-top:5px;padding-bottom:5px;\"><div align=\"center\" style=\"display:table-cell;\"><div align=\"center\" style=\"display:block;padding-left:5px;padding-right:5px;padding-top:5px;padding-bottom:5px;\"><div style=\"display:table;table-layout:auto;\" align=\"center\"><div style=\"display:table-row;\"><div style=\"display:table-cell;padding-right:2px; padding-left:2px;\" align=\"center\"><div style=\"display:inline-block;\"><span>$[\\![\\mathbf{\\text{[5 [[inP t5] t23]]}}]\\!]^{}_{\\left\\langle{}e,t\\right\\rangle{}}$</span></div></div></div><div style=\"display:table-row;\"><div style=\"display:table-cell;padding-right:2px; padding-left:2px;\" align=\"center\"><div style=\"display:inline-block;\"><span>$\\lambda{} x_{e} \\: . \\: {In}({var23}_{e}, {x})$</span></div></div></div></div></div></div><div style=\"display:table-cell;\"></div></div></div></div></div></div><div style=\"display:table-cell;vertical-align:middle;border-left:1px solid #848482;padding:0.5em\"><div style=\"white-space:nowrap; color:blue;\"><b>[<div style=\"display:inline-block;\"><span>PA</span></div>]</b></div></div></div><div align=\"center\" style=\"display:table-row;padding-left:5px;padding-right:5px;padding-top:5px;padding-bottom:5px;\"><div align=\"center\" style=\"display:table-cell;\"><div align=\"center\" style=\"display:block;padding-left:5px;padding-right:5px;padding-top:5px;padding-bottom:5px;\"><div style=\"display:table;table-layout:auto;\" align=\"center\"><div style=\"display:table-row;\"><div style=\"display:table-cell;padding-right:2px; padding-left:2px;\" align=\"center\"><div style=\"display:inline-block;\"><span>$[\\![\\mathbf{\\text{[23 [5 [[inP t5] t23]]]}}]\\!]^{}_{\\left\\langle{}e,\\left\\langle{}e,t\\right\\rangle{}\\right\\rangle{}}$</span></div></div></div><div style=\"display:table-row;\"><div style=\"display:table-cell;padding-right:2px; padding-left:2px;\" align=\"center\"><div style=\"display:inline-block;\"><span>$\\lambda{} x1_{e} \\: . \\: \\lambda{} x_{e} \\: . \\: {In}({x1}, {x})$</span></div></div></div></div></div></div><div style=\"display:table-cell;\"></div></div></div>"
      ],
      "text/plain": [
       "DisplayNode instance: HTML rendering only"
      ]
     },
     "execution_count": 49,
     "metadata": {},
     "output_type": "execute_result"
    }
   ],
   "source": [
    "b1.results[0].tree()"
   ]
  },
  {
   "cell_type": "markdown",
   "metadata": {},
   "source": [
    "### Composition in tree structures\n",
    "\n",
    "Some in-progress work: implementing tree-based computation, and top-down/deferred computation\n",
    "\n",
    "* using nltk Tree objects.\n",
    "* system for deferred / uncertain types -- basic inference over unknown types\n",
    "* arbitrary order of composition expansion.  (Of course, some orders will be far less efficient!)"
   ]
  },
  {
   "cell_type": "code",
   "execution_count": 50,
   "metadata": {
    "execution": {
     "iopub.execute_input": "2022-07-19T19:25:46.448125Z",
     "iopub.status.busy": "2022-07-19T19:25:46.447900Z",
     "iopub.status.idle": "2022-07-19T19:25:46.473158Z",
     "shell.execute_reply": "2022-07-19T19:25:46.471930Z"
    }
   },
   "outputs": [],
   "source": [
    "reload_lamb()\n",
    "lang.set_system(lang.hk3_system)"
   ]
  },
  {
   "cell_type": "code",
   "execution_count": 51,
   "metadata": {
    "execution": {
     "iopub.execute_input": "2022-07-19T19:25:46.476331Z",
     "iopub.status.busy": "2022-07-19T19:25:46.475881Z",
     "iopub.status.idle": "2022-07-19T19:25:46.481822Z",
     "shell.execute_reply": "2022-07-19T19:25:46.481276Z"
    }
   },
   "outputs": [
    {
     "data": {
      "text/html": [
       "$[\\![\\mathbf{\\text{gray}}]\\!]^{}_{\\left\\langle{}e,t\\right\\rangle{}} \\:=\\: $$\\lambda{} x_{e} \\: . \\: {Gray}({x})$<br />\n",
       "$[\\![\\mathbf{\\text{cat}}]\\!]^{}_{\\left\\langle{}e,t\\right\\rangle{}} \\:=\\: $$\\lambda{} x_{e} \\: . \\: {Cat}({x})$"
      ],
      "text/latex": [
       "$[\\![\\mathbf{\\text{gray}}]\\!]^{}_{\\left\\langle{}e,t\\right\\rangle{}} \\:=\\: $$\\lambda{} x_{e} \\: . \\: {Gray}({x})$<br />\n",
       "$[\\![\\mathbf{\\text{cat}}]\\!]^{}_{\\left\\langle{}e,t\\right\\rangle{}} \\:=\\: $$\\lambda{} x_{e} \\: . \\: {Cat}({x})$"
      ],
      "text/plain": [
       "$[\\![\\mathbf{\\text{gray}}]\\!]^{}_{\\left\\langle{}e,t\\right\\rangle{}} \\:=\\: $$\\lambda{} x_{e} \\: . \\: {Gray}({x})$<br />\n",
       "$[\\![\\mathbf{\\text{cat}}]\\!]^{}_{\\left\\langle{}e,t\\right\\rangle{}} \\:=\\: $$\\lambda{} x_{e} \\: . \\: {Cat}({x})$"
      ]
     },
     "metadata": {},
     "output_type": "display_data"
    }
   ],
   "source": [
    "%%lamb\n",
    "||gray|| = L x_e : Gray_<e,t>(x)\n",
    "||cat|| = L x_e : Cat_<e,t>(x)"
   ]
  },
  {
   "cell_type": "code",
   "execution_count": 52,
   "metadata": {
    "execution": {
     "iopub.execute_input": "2022-07-19T19:25:46.484510Z",
     "iopub.status.busy": "2022-07-19T19:25:46.484089Z",
     "iopub.status.idle": "2022-07-19T19:25:46.489943Z",
     "shell.execute_reply": "2022-07-19T19:25:46.489046Z"
    }
   },
   "outputs": [
    {
     "data": {
      "image/svg+xml": [
       "<svg baseProfile=\"full\" height=\"72px\" preserveAspectRatio=\"xMidYMid meet\" style=\"font-family: times, serif; font-weight:normal; font-style: normal; font-size: 16px;\" version=\"1.1\" viewBox=\"0,0,64.0,72.0\" width=\"64px\" xmlns=\"http://www.w3.org/2000/svg\" xmlns:ev=\"http://www.w3.org/2001/xml-events\" xmlns:xlink=\"http://www.w3.org/1999/xlink\"><defs /><svg width=\"100%\" x=\"0\" y=\"0em\"><defs /><text text-anchor=\"middle\" x=\"50%\" y=\"1em\">S</text></svg><svg width=\"50%\" x=\"0%\" y=\"3em\"><defs /><svg width=\"100%\" x=\"0\" y=\"0em\"><defs /><text text-anchor=\"middle\" x=\"50%\" y=\"1em\">NP</text></svg></svg><line stroke=\"black\" x1=\"50%\" x2=\"25%\" y1=\"1.2em\" y2=\"3em\" /><svg width=\"50%\" x=\"50%\" y=\"3em\"><defs /><svg width=\"100%\" x=\"0\" y=\"0em\"><defs /><text text-anchor=\"middle\" x=\"50%\" y=\"1em\">VP</text></svg></svg><line stroke=\"black\" x1=\"50%\" x2=\"75%\" y1=\"1.2em\" y2=\"3em\" /></svg>"
      ],
      "text/plain": [
       "Tree('S', ['NP', 'VP'])"
      ]
     },
     "execution_count": 52,
     "metadata": {},
     "output_type": "execute_result"
    }
   ],
   "source": [
    "t2 = Tree(\"S\", [\"NP\", \"VP\"])\n",
    "t2"
   ]
  },
  {
   "cell_type": "code",
   "execution_count": 53,
   "metadata": {
    "execution": {
     "iopub.execute_input": "2022-07-19T19:25:46.492611Z",
     "iopub.status.busy": "2022-07-19T19:25:46.492352Z",
     "iopub.status.idle": "2022-07-19T19:25:46.501808Z",
     "shell.execute_reply": "2022-07-19T19:25:46.501226Z"
    }
   },
   "outputs": [
    {
     "data": {
      "text/html": [
       "3 composition paths:<br />\n",
       "Path [0]:<br />\n",
       "<div align=\"center\" style=\"display:table; margin:5px; border-collapse: collapse;border: 1px solid #848482;\"><div align=\"center\" style=\"display:table-row;border-bottom:1px solid #848482\"><div style=\"display:table-cell;vertical-align:middle;\"><div style=\"display: table;\"><div style=\"display:table-cell;vertical-align:middle;padding-left:5px;padding-right:5px;padding-top:5px;padding-bottom:5px;\"><div align=\"center\" style=\"display:block;padding-left:5px;padding-right:5px;padding-top:5px;padding-bottom:5px;\"><div style=\"display:inline-block;\"><span>$[\\![\\mathbf{\\text{NP}}]\\!]^{}_{?}$</span></div></div></div><div style=\"align: center; vertical-align: middle; display: table-cell;\"><span style=\"padding:1em;\">*</span></div><div style=\"display:table-cell;vertical-align:middle;padding-left:5px;padding-right:5px;padding-top:5px;padding-bottom:5px;\"><div align=\"center\" style=\"display:block;padding-left:5px;padding-right:5px;padding-top:5px;padding-bottom:5px;\"><div style=\"display:inline-block;\"><span>$[\\![\\mathbf{\\text{VP}}]\\!]^{}_{?}$</span></div></div></div></div></div><div style=\"display:table-cell;vertical-align:middle;border-left:1px solid #848482;padding:0.5em\"><div style=\"white-space:nowrap; color:blue;\"><b>[<div style=\"display:inline-block;\"><span>FA/left</span></div>]</b></div></div></div><div align=\"center\" style=\"display:table-row;padding-left:5px;padding-right:5px;padding-top:5px;padding-bottom:5px;\"><div align=\"center\" style=\"display:table-cell;\"><div align=\"center\" style=\"display:block;padding-left:5px;padding-right:5px;padding-top:5px;padding-bottom:5px;\"><div style=\"display:table;table-layout:auto;\" align=\"center\"><div style=\"display:table-row;\"><div style=\"display:table-cell;padding-right:2px; padding-left:2px;\" align=\"center\"><div style=\"display:inline-block;\"><span>$[\\![\\mathbf{\\text{S}}]\\!]^{}_{X'}$</span></div></div></div><div style=\"display:table-row;\"><div style=\"display:table-cell;padding-right:2px; padding-left:2px;\" align=\"center\"><div style=\"display:inline-block;\"><span>$[\\![\\mathbf{\\text{NP}}]\\!]^{}_{\\left\\langle{}X,X'\\right\\rangle{}}([\\![\\mathbf{\\text{VP}}]\\!]^{}_{X})$</span></div></div></div></div></div></div><div style=\"display:table-cell;\"></div></div></div><br /><br />Path [1]:<br />\n",
       "<div align=\"center\" style=\"display:table; margin:5px; border-collapse: collapse;border: 1px solid #848482;\"><div align=\"center\" style=\"display:table-row;border-bottom:1px solid #848482\"><div style=\"display:table-cell;vertical-align:middle;\"><div style=\"display: table;\"><div style=\"display:table-cell;vertical-align:middle;padding-left:5px;padding-right:5px;padding-top:5px;padding-bottom:5px;\"><div align=\"center\" style=\"display:block;padding-left:5px;padding-right:5px;padding-top:5px;padding-bottom:5px;\"><div style=\"display:inline-block;\"><span>$[\\![\\mathbf{\\text{NP}}]\\!]^{}_{?}$</span></div></div></div><div style=\"align: center; vertical-align: middle; display: table-cell;\"><span style=\"padding:1em;\">*</span></div><div style=\"display:table-cell;vertical-align:middle;padding-left:5px;padding-right:5px;padding-top:5px;padding-bottom:5px;\"><div align=\"center\" style=\"display:block;padding-left:5px;padding-right:5px;padding-top:5px;padding-bottom:5px;\"><div style=\"display:inline-block;\"><span>$[\\![\\mathbf{\\text{VP}}]\\!]^{}_{?}$</span></div></div></div></div></div><div style=\"display:table-cell;vertical-align:middle;border-left:1px solid #848482;padding:0.5em\"><div style=\"white-space:nowrap; color:blue;\"><b>[<div style=\"display:inline-block;\"><span>FA/right</span></div>]</b></div></div></div><div align=\"center\" style=\"display:table-row;padding-left:5px;padding-right:5px;padding-top:5px;padding-bottom:5px;\"><div align=\"center\" style=\"display:table-cell;\"><div align=\"center\" style=\"display:block;padding-left:5px;padding-right:5px;padding-top:5px;padding-bottom:5px;\"><div style=\"display:table;table-layout:auto;\" align=\"center\"><div style=\"display:table-row;\"><div style=\"display:table-cell;padding-right:2px; padding-left:2px;\" align=\"center\"><div style=\"display:inline-block;\"><span>$[\\![\\mathbf{\\text{S}}]\\!]^{}_{X'}$</span></div></div></div><div style=\"display:table-row;\"><div style=\"display:table-cell;padding-right:2px; padding-left:2px;\" align=\"center\"><div style=\"display:inline-block;\"><span>$[\\![\\mathbf{\\text{VP}}]\\!]^{}_{\\left\\langle{}X,X'\\right\\rangle{}}([\\![\\mathbf{\\text{NP}}]\\!]^{}_{X})$</span></div></div></div></div></div></div><div style=\"display:table-cell;\"></div></div></div><br /><br />Path [2]:<br />\n",
       "<div align=\"center\" style=\"display:table; margin:5px; border-collapse: collapse;border: 1px solid #848482;\"><div align=\"center\" style=\"display:table-row;border-bottom:1px solid #848482\"><div style=\"display:table-cell;vertical-align:middle;\"><div style=\"display: table;\"><div style=\"display:table-cell;vertical-align:middle;padding-left:5px;padding-right:5px;padding-top:5px;padding-bottom:5px;\"><div align=\"center\" style=\"display:block;padding-left:5px;padding-right:5px;padding-top:5px;padding-bottom:5px;\"><div style=\"display:inline-block;\"><span>$[\\![\\mathbf{\\text{NP}}]\\!]^{}_{?}$</span></div></div></div><div style=\"align: center; vertical-align: middle; display: table-cell;\"><span style=\"padding:1em;\">*</span></div><div style=\"display:table-cell;vertical-align:middle;padding-left:5px;padding-right:5px;padding-top:5px;padding-bottom:5px;\"><div align=\"center\" style=\"display:block;padding-left:5px;padding-right:5px;padding-top:5px;padding-bottom:5px;\"><div style=\"display:inline-block;\"><span>$[\\![\\mathbf{\\text{VP}}]\\!]^{}_{?}$</span></div></div></div></div></div><div style=\"display:table-cell;vertical-align:middle;border-left:1px solid #848482;padding:0.5em\"><div style=\"white-space:nowrap; color:blue;\"><b>[<div style=\"display:inline-block;\"><span>PM</span></div>]</b></div></div></div><div align=\"center\" style=\"display:table-row;padding-left:5px;padding-right:5px;padding-top:5px;padding-bottom:5px;\"><div align=\"center\" style=\"display:table-cell;\"><div align=\"center\" style=\"display:block;padding-left:5px;padding-right:5px;padding-top:5px;padding-bottom:5px;\"><div style=\"display:table;table-layout:auto;\" align=\"center\"><div style=\"display:table-row;\"><div style=\"display:table-cell;padding-right:2px; padding-left:2px;\" align=\"center\"><div style=\"display:inline-block;\"><span>$[\\![\\mathbf{\\text{S}}]\\!]^{}_{\\left\\langle{}e,t\\right\\rangle{}}$</span></div></div></div><div style=\"display:table-row;\"><div style=\"display:table-cell;padding-right:2px; padding-left:2px;\" align=\"center\"><div style=\"display:inline-block;\"><span>$\\lambda{} x_{e} \\: . \\: ([\\![\\mathbf{\\text{NP}}]\\!]^{}_{\\left\\langle{}e,t\\right\\rangle{}}({x}) \\wedge{} [\\![\\mathbf{\\text{VP}}]\\!]^{}_{\\left\\langle{}e,t\\right\\rangle{}}({x}))$</span></div></div></div></div></div></div><div style=\"display:table-cell;\"></div></div></div><br /><br />"
      ],
      "text/latex": [
       "3 composition paths:<br />\n",
       "Path [0]:<br />\n",
       "<div align=\"center\" style=\"display:table; margin:5px; border-collapse: collapse;border: 1px solid #848482;\"><div align=\"center\" style=\"display:table-row;border-bottom:1px solid #848482\"><div style=\"display:table-cell;vertical-align:middle;\"><div style=\"display: table;\"><div style=\"display:table-cell;vertical-align:middle;padding-left:5px;padding-right:5px;padding-top:5px;padding-bottom:5px;\"><div align=\"center\" style=\"display:block;padding-left:5px;padding-right:5px;padding-top:5px;padding-bottom:5px;\"><div style=\"display:inline-block;\"><span>$[\\![\\mathbf{\\text{NP}}]\\!]^{}_{?}$</span></div></div></div><div style=\"align: center; vertical-align: middle; display: table-cell;\"><span style=\"padding:1em;\">*</span></div><div style=\"display:table-cell;vertical-align:middle;padding-left:5px;padding-right:5px;padding-top:5px;padding-bottom:5px;\"><div align=\"center\" style=\"display:block;padding-left:5px;padding-right:5px;padding-top:5px;padding-bottom:5px;\"><div style=\"display:inline-block;\"><span>$[\\![\\mathbf{\\text{VP}}]\\!]^{}_{?}$</span></div></div></div></div></div><div style=\"display:table-cell;vertical-align:middle;border-left:1px solid #848482;padding:0.5em\"><div style=\"white-space:nowrap; color:blue;\"><b>[<div style=\"display:inline-block;\"><span>FA/left</span></div>]</b></div></div></div><div align=\"center\" style=\"display:table-row;padding-left:5px;padding-right:5px;padding-top:5px;padding-bottom:5px;\"><div align=\"center\" style=\"display:table-cell;\"><div align=\"center\" style=\"display:block;padding-left:5px;padding-right:5px;padding-top:5px;padding-bottom:5px;\"><div style=\"display:table;table-layout:auto;\" align=\"center\"><div style=\"display:table-row;\"><div style=\"display:table-cell;padding-right:2px; padding-left:2px;\" align=\"center\"><div style=\"display:inline-block;\"><span>$[\\![\\mathbf{\\text{S}}]\\!]^{}_{X'}$</span></div></div></div><div style=\"display:table-row;\"><div style=\"display:table-cell;padding-right:2px; padding-left:2px;\" align=\"center\"><div style=\"display:inline-block;\"><span>$[\\![\\mathbf{\\text{NP}}]\\!]^{}_{\\left\\langle{}X,X'\\right\\rangle{}}([\\![\\mathbf{\\text{VP}}]\\!]^{}_{X})$</span></div></div></div></div></div></div><div style=\"display:table-cell;\"></div></div></div><br /><br />Path [1]:<br />\n",
       "<div align=\"center\" style=\"display:table; margin:5px; border-collapse: collapse;border: 1px solid #848482;\"><div align=\"center\" style=\"display:table-row;border-bottom:1px solid #848482\"><div style=\"display:table-cell;vertical-align:middle;\"><div style=\"display: table;\"><div style=\"display:table-cell;vertical-align:middle;padding-left:5px;padding-right:5px;padding-top:5px;padding-bottom:5px;\"><div align=\"center\" style=\"display:block;padding-left:5px;padding-right:5px;padding-top:5px;padding-bottom:5px;\"><div style=\"display:inline-block;\"><span>$[\\![\\mathbf{\\text{NP}}]\\!]^{}_{?}$</span></div></div></div><div style=\"align: center; vertical-align: middle; display: table-cell;\"><span style=\"padding:1em;\">*</span></div><div style=\"display:table-cell;vertical-align:middle;padding-left:5px;padding-right:5px;padding-top:5px;padding-bottom:5px;\"><div align=\"center\" style=\"display:block;padding-left:5px;padding-right:5px;padding-top:5px;padding-bottom:5px;\"><div style=\"display:inline-block;\"><span>$[\\![\\mathbf{\\text{VP}}]\\!]^{}_{?}$</span></div></div></div></div></div><div style=\"display:table-cell;vertical-align:middle;border-left:1px solid #848482;padding:0.5em\"><div style=\"white-space:nowrap; color:blue;\"><b>[<div style=\"display:inline-block;\"><span>FA/right</span></div>]</b></div></div></div><div align=\"center\" style=\"display:table-row;padding-left:5px;padding-right:5px;padding-top:5px;padding-bottom:5px;\"><div align=\"center\" style=\"display:table-cell;\"><div align=\"center\" style=\"display:block;padding-left:5px;padding-right:5px;padding-top:5px;padding-bottom:5px;\"><div style=\"display:table;table-layout:auto;\" align=\"center\"><div style=\"display:table-row;\"><div style=\"display:table-cell;padding-right:2px; padding-left:2px;\" align=\"center\"><div style=\"display:inline-block;\"><span>$[\\![\\mathbf{\\text{S}}]\\!]^{}_{X'}$</span></div></div></div><div style=\"display:table-row;\"><div style=\"display:table-cell;padding-right:2px; padding-left:2px;\" align=\"center\"><div style=\"display:inline-block;\"><span>$[\\![\\mathbf{\\text{VP}}]\\!]^{}_{\\left\\langle{}X,X'\\right\\rangle{}}([\\![\\mathbf{\\text{NP}}]\\!]^{}_{X})$</span></div></div></div></div></div></div><div style=\"display:table-cell;\"></div></div></div><br /><br />Path [2]:<br />\n",
       "<div align=\"center\" style=\"display:table; margin:5px; border-collapse: collapse;border: 1px solid #848482;\"><div align=\"center\" style=\"display:table-row;border-bottom:1px solid #848482\"><div style=\"display:table-cell;vertical-align:middle;\"><div style=\"display: table;\"><div style=\"display:table-cell;vertical-align:middle;padding-left:5px;padding-right:5px;padding-top:5px;padding-bottom:5px;\"><div align=\"center\" style=\"display:block;padding-left:5px;padding-right:5px;padding-top:5px;padding-bottom:5px;\"><div style=\"display:inline-block;\"><span>$[\\![\\mathbf{\\text{NP}}]\\!]^{}_{?}$</span></div></div></div><div style=\"align: center; vertical-align: middle; display: table-cell;\"><span style=\"padding:1em;\">*</span></div><div style=\"display:table-cell;vertical-align:middle;padding-left:5px;padding-right:5px;padding-top:5px;padding-bottom:5px;\"><div align=\"center\" style=\"display:block;padding-left:5px;padding-right:5px;padding-top:5px;padding-bottom:5px;\"><div style=\"display:inline-block;\"><span>$[\\![\\mathbf{\\text{VP}}]\\!]^{}_{?}$</span></div></div></div></div></div><div style=\"display:table-cell;vertical-align:middle;border-left:1px solid #848482;padding:0.5em\"><div style=\"white-space:nowrap; color:blue;\"><b>[<div style=\"display:inline-block;\"><span>PM</span></div>]</b></div></div></div><div align=\"center\" style=\"display:table-row;padding-left:5px;padding-right:5px;padding-top:5px;padding-bottom:5px;\"><div align=\"center\" style=\"display:table-cell;\"><div align=\"center\" style=\"display:block;padding-left:5px;padding-right:5px;padding-top:5px;padding-bottom:5px;\"><div style=\"display:table;table-layout:auto;\" align=\"center\"><div style=\"display:table-row;\"><div style=\"display:table-cell;padding-right:2px; padding-left:2px;\" align=\"center\"><div style=\"display:inline-block;\"><span>$[\\![\\mathbf{\\text{S}}]\\!]^{}_{\\left\\langle{}e,t\\right\\rangle{}}$</span></div></div></div><div style=\"display:table-row;\"><div style=\"display:table-cell;padding-right:2px; padding-left:2px;\" align=\"center\"><div style=\"display:inline-block;\"><span>$\\lambda{} x_{e} \\: . \\: ([\\![\\mathbf{\\text{NP}}]\\!]^{}_{\\left\\langle{}e,t\\right\\rangle{}}({x}) \\wedge{} [\\![\\mathbf{\\text{VP}}]\\!]^{}_{\\left\\langle{}e,t\\right\\rangle{}}({x}))$</span></div></div></div></div></div></div><div style=\"display:table-cell;\"></div></div></div><br /><br />"
      ],
      "text/plain": [
       "3 composition paths:<br />\n",
       "Path [0]:<br />\n",
       "<div align=\"center\" style=\"display:table; margin:5px; border-collapse: collapse;border: 1px solid #848482;\"><div align=\"center\" style=\"display:table-row;border-bottom:1px solid #848482\"><div style=\"display:table-cell;vertical-align:middle;\"><div style=\"display: table;\"><div style=\"display:table-cell;vertical-align:middle;padding-left:5px;padding-right:5px;padding-top:5px;padding-bottom:5px;\"><div align=\"center\" style=\"display:block;padding-left:5px;padding-right:5px;padding-top:5px;padding-bottom:5px;\"><div style=\"display:inline-block;\"><span>$[\\![\\mathbf{\\text{NP}}]\\!]^{}_{?}$</span></div></div></div><div style=\"align: center; vertical-align: middle; display: table-cell;\"><span style=\"padding:1em;\">*</span></div><div style=\"display:table-cell;vertical-align:middle;padding-left:5px;padding-right:5px;padding-top:5px;padding-bottom:5px;\"><div align=\"center\" style=\"display:block;padding-left:5px;padding-right:5px;padding-top:5px;padding-bottom:5px;\"><div style=\"display:inline-block;\"><span>$[\\![\\mathbf{\\text{VP}}]\\!]^{}_{?}$</span></div></div></div></div></div><div style=\"display:table-cell;vertical-align:middle;border-left:1px solid #848482;padding:0.5em\"><div style=\"white-space:nowrap; color:blue;\"><b>[<div style=\"display:inline-block;\"><span>FA/left</span></div>]</b></div></div></div><div align=\"center\" style=\"display:table-row;padding-left:5px;padding-right:5px;padding-top:5px;padding-bottom:5px;\"><div align=\"center\" style=\"display:table-cell;\"><div align=\"center\" style=\"display:block;padding-left:5px;padding-right:5px;padding-top:5px;padding-bottom:5px;\"><div style=\"display:table;table-layout:auto;\" align=\"center\"><div style=\"display:table-row;\"><div style=\"display:table-cell;padding-right:2px; padding-left:2px;\" align=\"center\"><div style=\"display:inline-block;\"><span>$[\\![\\mathbf{\\text{S}}]\\!]^{}_{X'}$</span></div></div></div><div style=\"display:table-row;\"><div style=\"display:table-cell;padding-right:2px; padding-left:2px;\" align=\"center\"><div style=\"display:inline-block;\"><span>$[\\![\\mathbf{\\text{NP}}]\\!]^{}_{\\left\\langle{}X,X'\\right\\rangle{}}([\\![\\mathbf{\\text{VP}}]\\!]^{}_{X})$</span></div></div></div></div></div></div><div style=\"display:table-cell;\"></div></div></div><br /><br />Path [1]:<br />\n",
       "<div align=\"center\" style=\"display:table; margin:5px; border-collapse: collapse;border: 1px solid #848482;\"><div align=\"center\" style=\"display:table-row;border-bottom:1px solid #848482\"><div style=\"display:table-cell;vertical-align:middle;\"><div style=\"display: table;\"><div style=\"display:table-cell;vertical-align:middle;padding-left:5px;padding-right:5px;padding-top:5px;padding-bottom:5px;\"><div align=\"center\" style=\"display:block;padding-left:5px;padding-right:5px;padding-top:5px;padding-bottom:5px;\"><div style=\"display:inline-block;\"><span>$[\\![\\mathbf{\\text{NP}}]\\!]^{}_{?}$</span></div></div></div><div style=\"align: center; vertical-align: middle; display: table-cell;\"><span style=\"padding:1em;\">*</span></div><div style=\"display:table-cell;vertical-align:middle;padding-left:5px;padding-right:5px;padding-top:5px;padding-bottom:5px;\"><div align=\"center\" style=\"display:block;padding-left:5px;padding-right:5px;padding-top:5px;padding-bottom:5px;\"><div style=\"display:inline-block;\"><span>$[\\![\\mathbf{\\text{VP}}]\\!]^{}_{?}$</span></div></div></div></div></div><div style=\"display:table-cell;vertical-align:middle;border-left:1px solid #848482;padding:0.5em\"><div style=\"white-space:nowrap; color:blue;\"><b>[<div style=\"display:inline-block;\"><span>FA/right</span></div>]</b></div></div></div><div align=\"center\" style=\"display:table-row;padding-left:5px;padding-right:5px;padding-top:5px;padding-bottom:5px;\"><div align=\"center\" style=\"display:table-cell;\"><div align=\"center\" style=\"display:block;padding-left:5px;padding-right:5px;padding-top:5px;padding-bottom:5px;\"><div style=\"display:table;table-layout:auto;\" align=\"center\"><div style=\"display:table-row;\"><div style=\"display:table-cell;padding-right:2px; padding-left:2px;\" align=\"center\"><div style=\"display:inline-block;\"><span>$[\\![\\mathbf{\\text{S}}]\\!]^{}_{X'}$</span></div></div></div><div style=\"display:table-row;\"><div style=\"display:table-cell;padding-right:2px; padding-left:2px;\" align=\"center\"><div style=\"display:inline-block;\"><span>$[\\![\\mathbf{\\text{VP}}]\\!]^{}_{\\left\\langle{}X,X'\\right\\rangle{}}([\\![\\mathbf{\\text{NP}}]\\!]^{}_{X})$</span></div></div></div></div></div></div><div style=\"display:table-cell;\"></div></div></div><br /><br />Path [2]:<br />\n",
       "<div align=\"center\" style=\"display:table; margin:5px; border-collapse: collapse;border: 1px solid #848482;\"><div align=\"center\" style=\"display:table-row;border-bottom:1px solid #848482\"><div style=\"display:table-cell;vertical-align:middle;\"><div style=\"display: table;\"><div style=\"display:table-cell;vertical-align:middle;padding-left:5px;padding-right:5px;padding-top:5px;padding-bottom:5px;\"><div align=\"center\" style=\"display:block;padding-left:5px;padding-right:5px;padding-top:5px;padding-bottom:5px;\"><div style=\"display:inline-block;\"><span>$[\\![\\mathbf{\\text{NP}}]\\!]^{}_{?}$</span></div></div></div><div style=\"align: center; vertical-align: middle; display: table-cell;\"><span style=\"padding:1em;\">*</span></div><div style=\"display:table-cell;vertical-align:middle;padding-left:5px;padding-right:5px;padding-top:5px;padding-bottom:5px;\"><div align=\"center\" style=\"display:block;padding-left:5px;padding-right:5px;padding-top:5px;padding-bottom:5px;\"><div style=\"display:inline-block;\"><span>$[\\![\\mathbf{\\text{VP}}]\\!]^{}_{?}$</span></div></div></div></div></div><div style=\"display:table-cell;vertical-align:middle;border-left:1px solid #848482;padding:0.5em\"><div style=\"white-space:nowrap; color:blue;\"><b>[<div style=\"display:inline-block;\"><span>PM</span></div>]</b></div></div></div><div align=\"center\" style=\"display:table-row;padding-left:5px;padding-right:5px;padding-top:5px;padding-bottom:5px;\"><div align=\"center\" style=\"display:table-cell;\"><div align=\"center\" style=\"display:block;padding-left:5px;padding-right:5px;padding-top:5px;padding-bottom:5px;\"><div style=\"display:table;table-layout:auto;\" align=\"center\"><div style=\"display:table-row;\"><div style=\"display:table-cell;padding-right:2px; padding-left:2px;\" align=\"center\"><div style=\"display:inline-block;\"><span>$[\\![\\mathbf{\\text{S}}]\\!]^{}_{\\left\\langle{}e,t\\right\\rangle{}}$</span></div></div></div><div style=\"display:table-row;\"><div style=\"display:table-cell;padding-right:2px; padding-left:2px;\" align=\"center\"><div style=\"display:inline-block;\"><span>$\\lambda{} x_{e} \\: . \\: ([\\![\\mathbf{\\text{NP}}]\\!]^{}_{\\left\\langle{}e,t\\right\\rangle{}}({x}) \\wedge{} [\\![\\mathbf{\\text{VP}}]\\!]^{}_{\\left\\langle{}e,t\\right\\rangle{}}({x}))$</span></div></div></div></div></div></div><div style=\"display:table-cell;\"></div></div></div><br /><br />"
      ]
     },
     "execution_count": 53,
     "metadata": {},
     "output_type": "execute_result"
    }
   ],
   "source": [
    "t2 = Tree(\"S\", [\"NP\", \"VP\"])\n",
    "r2 = lang.hk3_system.compose(t2)\n",
    "r2.tree()\n",
    "r2.paths()"
   ]
  },
  {
   "cell_type": "code",
   "execution_count": 54,
   "metadata": {
    "execution": {
     "iopub.execute_input": "2022-07-19T19:25:46.504513Z",
     "iopub.status.busy": "2022-07-19T19:25:46.504048Z",
     "iopub.status.idle": "2022-07-19T19:25:46.510487Z",
     "shell.execute_reply": "2022-07-19T19:25:46.509589Z"
    }
   },
   "outputs": [
    {
     "data": {
      "image/svg+xml": [
       "<svg baseProfile=\"full\" height=\"120px\" preserveAspectRatio=\"xMidYMid meet\" style=\"font-family: times, serif; font-weight:normal; font-style: normal; font-size: 16px;\" version=\"1.1\" viewBox=\"0,0,88.0,120.0\" width=\"88px\" xmlns=\"http://www.w3.org/2000/svg\" xmlns:ev=\"http://www.w3.org/2001/xml-events\" xmlns:xlink=\"http://www.w3.org/1999/xlink\"><defs /><svg width=\"100%\" x=\"0\" y=\"0em\"><defs /><text text-anchor=\"middle\" x=\"50%\" y=\"1em\">NP</text></svg><svg width=\"54.5455%\" x=\"0%\" y=\"3em\"><defs /><svg width=\"100%\" x=\"0\" y=\"0em\"><defs /><text text-anchor=\"middle\" x=\"50%\" y=\"1em\">gray</text></svg></svg><line stroke=\"black\" x1=\"50%\" x2=\"27.2727%\" y1=\"1.2em\" y2=\"3em\" /><svg width=\"45.4545%\" x=\"54.5455%\" y=\"3em\"><defs /><svg width=\"100%\" x=\"0\" y=\"0em\"><defs /><text text-anchor=\"middle\" x=\"50%\" y=\"1em\">N</text></svg><svg width=\"100%\" x=\"0%\" y=\"3em\"><defs /><svg width=\"100%\" x=\"0\" y=\"0em\"><defs /><text text-anchor=\"middle\" x=\"50%\" y=\"1em\">cat</text></svg></svg><line stroke=\"black\" x1=\"50%\" x2=\"50%\" y1=\"1.2em\" y2=\"3em\" /></svg><line stroke=\"black\" x1=\"50%\" x2=\"77.2727%\" y1=\"1.2em\" y2=\"3em\" /></svg>"
      ],
      "text/plain": [
       "Tree('NP', ['gray', Tree('N', ['cat'])])"
      ]
     },
     "execution_count": 54,
     "metadata": {},
     "output_type": "execute_result"
    }
   ],
   "source": [
    "Tree = lamb.utils.get_tree_class()\n",
    "t = Tree(\"NP\", [\"gray\", Tree(\"N\", [\"cat\"])])\n",
    "t"
   ]
  },
  {
   "cell_type": "code",
   "execution_count": 55,
   "metadata": {
    "execution": {
     "iopub.execute_input": "2022-07-19T19:25:46.513301Z",
     "iopub.status.busy": "2022-07-19T19:25:46.512762Z",
     "iopub.status.idle": "2022-07-19T19:25:46.521879Z",
     "shell.execute_reply": "2022-07-19T19:25:46.521305Z"
    }
   },
   "outputs": [
    {
     "data": {
      "image/svg+xml": [
       "<svg baseProfile=\"full\" height=\"120px\" preserveAspectRatio=\"xMidYMid meet\" style=\"font-family: times, serif; font-weight:normal; font-style: normal; font-size: 16px;\" version=\"1.1\" viewBox=\"0,0,88.0,120.0\" width=\"88px\" xmlns=\"http://www.w3.org/2000/svg\" xmlns:ev=\"http://www.w3.org/2001/xml-events\" xmlns:xlink=\"http://www.w3.org/1999/xlink\"><defs /><svg width=\"100%\" x=\"0\" y=\"0em\"><defs /><text text-anchor=\"middle\" x=\"50%\" y=\"1em\">NP</text></svg><svg width=\"54.5455%\" x=\"0%\" y=\"3em\"><defs /><svg width=\"100%\" x=\"0\" y=\"0em\"><defs /><text text-anchor=\"middle\" x=\"50%\" y=\"1em\">gray</text></svg></svg><line stroke=\"black\" x1=\"50%\" x2=\"27.2727%\" y1=\"1.2em\" y2=\"3em\" /><svg width=\"45.4545%\" x=\"54.5455%\" y=\"3em\"><defs /><svg width=\"100%\" x=\"0\" y=\"0em\"><defs /><text text-anchor=\"middle\" x=\"50%\" y=\"1em\">N</text></svg><svg width=\"100%\" x=\"0%\" y=\"3em\"><defs /><svg width=\"100%\" x=\"0\" y=\"0em\"><defs /><text text-anchor=\"middle\" x=\"50%\" y=\"1em\">cat</text></svg></svg><line stroke=\"black\" x1=\"50%\" x2=\"50%\" y1=\"1.2em\" y2=\"3em\" /></svg><line stroke=\"black\" x1=\"50%\" x2=\"77.2727%\" y1=\"1.2em\" y2=\"3em\" /></svg>"
      ],
      "text/html": [
       "3 composition paths. Results:\n",
       "<br />&nbsp;&nbsp;&nbsp;&nbsp;[0]: $[\\![\\mathbf{\\text{NP}}]\\!]^{}_{X'} \\:=\\: $$[\\![\\mathbf{\\text{gray}}]\\!]^{}_{\\left\\langle{}X,X'\\right\\rangle{}}([\\![\\mathbf{\\text{N}}]\\!]^{}_{X})$\n",
       "<br />&nbsp;&nbsp;&nbsp;&nbsp;[1]: $[\\![\\mathbf{\\text{NP}}]\\!]^{}_{X'} \\:=\\: $$[\\![\\mathbf{\\text{N}}]\\!]^{}_{\\left\\langle{}X,X'\\right\\rangle{}}([\\![\\mathbf{\\text{gray}}]\\!]^{}_{X})$\n",
       "<br />&nbsp;&nbsp;&nbsp;&nbsp;[2]: $[\\![\\mathbf{\\text{NP}}]\\!]^{}_{\\left\\langle{}e,t\\right\\rangle{}} \\:=\\: $$\\lambda{} x_{e} \\: . \\: ([\\![\\mathbf{\\text{gray}}]\\!]^{}_{\\left\\langle{}e,t\\right\\rangle{}}({x}) \\wedge{} [\\![\\mathbf{\\text{N}}]\\!]^{}_{\\left\\langle{}e,t\\right\\rangle{}}({x}))$"
      ],
      "text/plain": [
       "CompositionTree('NP', [CompositionTree('gray', []), CompositionTree('N', ['cat'])])"
      ]
     },
     "execution_count": 55,
     "metadata": {},
     "output_type": "execute_result"
    }
   ],
   "source": [
    "t2 = lang.CompositionTree.tree_factory(t)\n",
    "r = lang.hk3_system.compose(t2)\n",
    "r"
   ]
  },
  {
   "cell_type": "code",
   "execution_count": 56,
   "metadata": {
    "execution": {
     "iopub.execute_input": "2022-07-19T19:25:46.524502Z",
     "iopub.status.busy": "2022-07-19T19:25:46.524233Z",
     "iopub.status.idle": "2022-07-19T19:25:46.529765Z",
     "shell.execute_reply": "2022-07-19T19:25:46.528959Z"
    }
   },
   "outputs": [
    {
     "data": {
      "text/html": [
       "<div align=\"center\" style=\"display:table; margin:5px; border-collapse: collapse;border: 1px solid #848482;\"><div align=\"center\" style=\"display:table-row;border-bottom:1px solid #848482\"><div style=\"display:table-cell;vertical-align:middle;\"><div style=\"display: table;\"><div style=\"display:table-cell;vertical-align:middle;padding-left:5px;padding-right:5px;padding-top:5px;padding-bottom:5px;\"><div align=\"center\" style=\"display:block;padding-left:5px;padding-right:5px;padding-top:5px;padding-bottom:5px;\"><div align=\"center\" style=\"display:block;padding-left:5px;padding-right:5px;padding-top:5px;padding-bottom:5px;\"><div style=\"display:inline-block;\"><span>$[\\![\\mathbf{\\text{gray}}]\\!]^{}_{?}$</span></div></div></div></div><div style=\"align: center; vertical-align: middle; display: table-cell;\"><span style=\"padding:1em;\">*</span></div><div style=\"display:table-cell;vertical-align:middle;padding-left:5px;padding-right:5px;padding-top:5px;padding-bottom:5px;\"><div align=\"center\" style=\"display:block;padding-left:5px;padding-right:5px;padding-top:5px;padding-bottom:5px;\"><div align=\"center\" style=\"display:block;padding-left:5px;padding-right:5px;padding-top:5px;padding-bottom:5px;\"><div style=\"display:inline-block;\"><span>$[\\![\\mathbf{\\text{N}}]\\!]^{}_{?}$</span></div></div></div></div></div></div></div><div align=\"center\" style=\"display:table-row;padding-left:5px;padding-right:5px;padding-top:5px;padding-bottom:5px;\"><div align=\"center\" style=\"display:table-cell;\"><div align=\"center\" style=\"display:block;padding-left:5px;padding-right:5px;padding-top:5px;padding-bottom:5px;\"><div style=\"display:table;table-layout:auto;\" align=\"center\"><div style=\"display:table-row;\"><div style=\"display:table-cell;padding-right:2px; padding-left:2px;\" align=\"center\"><div style=\"display:inline-block;\"><span>$[\\![\\mathbf{\\text{NP}}]\\!]$</span></div></div></div><div style=\"display:table-row;\"><div style=\"display:table-cell;padding-right:2px; padding-left:2px;\" align=\"center\"><div align=\"left\" style=\"display:block;padding-left:5px;padding-right:5px;padding-top:5px;padding-bottom:5px;\"><div style=\"display:table;table-layout:auto;\" align=\"left\"><div style=\"display:table-row;\"><div style=\"display:table-cell;padding-right:2px; padding-left:2px;\" align=\"left\"><span style=\"color:blue; white-space:nowrap; display:inline-block;\">[path 0]: </span></div><div style=\"display:table-cell;padding-right:2px; padding-left:2px;\" align=\"left\"><div style=\"display:inline-block;\"><span>$[\\![\\mathbf{\\text{NP}}]\\!]^{}_{X'} \\:=\\: $$[\\![\\mathbf{\\text{gray}}]\\!]^{}_{\\left\\langle{}X,X'\\right\\rangle{}}([\\![\\mathbf{\\text{N}}]\\!]^{}_{X})$</span></div></div></div><div style=\"display:table-row;\"><div style=\"display:table-cell;padding-right:2px; padding-left:2px;\" align=\"left\"><span style=\"color:blue; white-space:nowrap; display:inline-block;\">[path 1]: </span></div><div style=\"display:table-cell;padding-right:2px; padding-left:2px;\" align=\"left\"><div style=\"display:inline-block;\"><span>$[\\![\\mathbf{\\text{NP}}]\\!]^{}_{X'} \\:=\\: $$[\\![\\mathbf{\\text{N}}]\\!]^{}_{\\left\\langle{}X,X'\\right\\rangle{}}([\\![\\mathbf{\\text{gray}}]\\!]^{}_{X})$</span></div></div></div><div style=\"display:table-row;\"><div style=\"display:table-cell;padding-right:2px; padding-left:2px;\" align=\"left\"><span style=\"color:blue; white-space:nowrap; display:inline-block;\">[path 2]: </span></div><div style=\"display:table-cell;padding-right:2px; padding-left:2px;\" align=\"left\"><div style=\"display:inline-block;\"><span>$[\\![\\mathbf{\\text{NP}}]\\!]^{}_{\\left\\langle{}e,t\\right\\rangle{}} \\:=\\: $$\\lambda{} x_{e} \\: . \\: ([\\![\\mathbf{\\text{gray}}]\\!]^{}_{\\left\\langle{}e,t\\right\\rangle{}}({x}) \\wedge{} [\\![\\mathbf{\\text{N}}]\\!]^{}_{\\left\\langle{}e,t\\right\\rangle{}}({x}))$</span></div></div></div></div></div></div></div></div></div></div></div></div>"
      ],
      "text/plain": [
       "DisplayNode instance: HTML rendering only"
      ]
     },
     "execution_count": 56,
     "metadata": {},
     "output_type": "execute_result"
    }
   ],
   "source": [
    "r.tree()"
   ]
  },
  {
   "cell_type": "code",
   "execution_count": 57,
   "metadata": {
    "execution": {
     "iopub.execute_input": "2022-07-19T19:25:46.532484Z",
     "iopub.status.busy": "2022-07-19T19:25:46.532226Z",
     "iopub.status.idle": "2022-07-19T19:25:46.544073Z",
     "shell.execute_reply": "2022-07-19T19:25:46.543471Z"
    }
   },
   "outputs": [
    {
     "data": {
      "image/svg+xml": [
       "<svg baseProfile=\"full\" height=\"120px\" preserveAspectRatio=\"xMidYMid meet\" style=\"font-family: times, serif; font-weight:normal; font-style: normal; font-size: 16px;\" version=\"1.1\" viewBox=\"0,0,88.0,120.0\" width=\"88px\" xmlns=\"http://www.w3.org/2000/svg\" xmlns:ev=\"http://www.w3.org/2001/xml-events\" xmlns:xlink=\"http://www.w3.org/1999/xlink\"><defs /><svg width=\"100%\" x=\"0\" y=\"0em\"><defs /><text text-anchor=\"middle\" x=\"50%\" y=\"1em\">NP</text></svg><svg width=\"54.5455%\" x=\"0%\" y=\"3em\"><defs /><svg width=\"100%\" x=\"0\" y=\"0em\"><defs /><text text-anchor=\"middle\" x=\"50%\" y=\"1em\">gray</text></svg></svg><line stroke=\"black\" x1=\"50%\" x2=\"27.2727%\" y1=\"1.2em\" y2=\"3em\" /><svg width=\"45.4545%\" x=\"54.5455%\" y=\"3em\"><defs /><svg width=\"100%\" x=\"0\" y=\"0em\"><defs /><text text-anchor=\"middle\" x=\"50%\" y=\"1em\">N</text></svg><svg width=\"100%\" x=\"0%\" y=\"3em\"><defs /><svg width=\"100%\" x=\"0\" y=\"0em\"><defs /><text text-anchor=\"middle\" x=\"50%\" y=\"1em\">cat</text></svg></svg><line stroke=\"black\" x1=\"50%\" x2=\"50%\" y1=\"1.2em\" y2=\"3em\" /></svg><line stroke=\"black\" x1=\"50%\" x2=\"77.2727%\" y1=\"1.2em\" y2=\"3em\" /></svg>"
      ],
      "text/html": [
       "1 composition path.  Result:\n",
       "<br />&nbsp;&nbsp;&nbsp;&nbsp;[0]: $[\\![\\mathbf{\\text{NP}}]\\!]^{}_{\\left\\langle{}e,t\\right\\rangle{}} \\:=\\: $$\\lambda{} x_{e} \\: . \\: ({Gray}({x}) \\wedge{} {Cat}({x}))$"
      ],
      "text/plain": [
       "CompositionTree('NP', [CompositionTree('gray', []), CompositionTree('N', [CompositionTree('cat', [])])])"
      ]
     },
     "execution_count": 57,
     "metadata": {},
     "output_type": "execute_result"
    }
   ],
   "source": [
    "r = lang.hk3_system.expand_all(t2)\n",
    "r"
   ]
  },
  {
   "cell_type": "code",
   "execution_count": 58,
   "metadata": {
    "execution": {
     "iopub.execute_input": "2022-07-19T19:25:46.546639Z",
     "iopub.status.busy": "2022-07-19T19:25:46.546279Z",
     "iopub.status.idle": "2022-07-19T19:25:46.551659Z",
     "shell.execute_reply": "2022-07-19T19:25:46.551055Z"
    }
   },
   "outputs": [
    {
     "data": {
      "text/html": [
       "<div align=\"center\" style=\"display:table; margin:5px; border-collapse: collapse;border: 1px solid #848482;\"><div align=\"center\" style=\"display:table-row;border-bottom:1px solid #848482\"><div style=\"display:table-cell;vertical-align:middle;\"><div style=\"display: table;\"><div style=\"display:table-cell;vertical-align:middle;padding-left:5px;padding-right:5px;padding-top:5px;padding-bottom:5px;\"><div align=\"center\" style=\"display:table; margin:5px; border-collapse: collapse;border: 1px solid #848482;\"><div align=\"center\" style=\"display:table-row;border-bottom:1px solid #848482\"><div style=\"display:table-cell;vertical-align:middle;\"><div style=\"display: table;\"></div></div></div><div align=\"center\" style=\"display:table-row;padding-left:5px;padding-right:5px;padding-top:5px;padding-bottom:5px;\"><div align=\"center\" style=\"display:table-cell;\"><div align=\"center\" style=\"display:block;padding-left:5px;padding-right:5px;padding-top:5px;padding-bottom:5px;\"><div style=\"display:table;table-layout:auto;\" align=\"center\"><div style=\"display:table-row;\"><div style=\"display:table-cell;padding-right:2px; padding-left:2px;\" align=\"center\"><div style=\"display:inline-block;\"><span>$[\\![\\mathbf{\\text{gray}}]\\!]$</span></div></div></div><div style=\"display:table-row;\"><div style=\"display:table-cell;padding-right:2px; padding-left:2px;\" align=\"center\"><div align=\"left\" style=\"display:block;padding-left:5px;padding-right:5px;padding-top:5px;padding-bottom:5px;\"><div style=\"display:table;table-layout:auto;\" align=\"left\"><div style=\"display:table-row;\"><div style=\"display:table-cell;padding-right:2px; padding-left:2px;\" align=\"left\"><span style=\"color:blue; white-space:nowrap; display:inline-block;\">[path 0]: </span></div><div style=\"display:table-cell;padding-right:2px; padding-left:2px;\" align=\"left\"><div style=\"display:inline-block;\"><span>$[\\![\\mathbf{\\text{gray}}]\\!]^{}_{\\left\\langle{}e,t\\right\\rangle{}} \\:=\\: $$\\lambda{} x_{e} \\: . \\: {Gray}({x})$</span></div></div></div></div></div></div></div></div></div></div></div></div></div><div style=\"align: center; vertical-align: middle; display: table-cell;\"><span style=\"padding:1em;\">*</span></div><div style=\"display:table-cell;vertical-align:middle;padding-left:5px;padding-right:5px;padding-top:5px;padding-bottom:5px;\"><div align=\"center\" style=\"display:table; margin:5px; border-collapse: collapse;border: 1px solid #848482;\"><div align=\"center\" style=\"display:table-row;border-bottom:1px solid #848482\"><div style=\"display:table-cell;vertical-align:middle;\"><div style=\"display: table;\"><div style=\"display:table-cell;vertical-align:middle;padding-left:5px;padding-right:5px;padding-top:5px;padding-bottom:5px;\"><div align=\"center\" style=\"display:table; margin:5px; border-collapse: collapse;border: 1px solid #848482;\"><div align=\"center\" style=\"display:table-row;border-bottom:1px solid #848482\"><div style=\"display:table-cell;vertical-align:middle;\"><div style=\"display: table;\"></div></div></div><div align=\"center\" style=\"display:table-row;padding-left:5px;padding-right:5px;padding-top:5px;padding-bottom:5px;\"><div align=\"center\" style=\"display:table-cell;\"><div align=\"center\" style=\"display:block;padding-left:5px;padding-right:5px;padding-top:5px;padding-bottom:5px;\"><div style=\"display:table;table-layout:auto;\" align=\"center\"><div style=\"display:table-row;\"><div style=\"display:table-cell;padding-right:2px; padding-left:2px;\" align=\"center\"><div style=\"display:inline-block;\"><span>$[\\![\\mathbf{\\text{cat}}]\\!]$</span></div></div></div><div style=\"display:table-row;\"><div style=\"display:table-cell;padding-right:2px; padding-left:2px;\" align=\"center\"><div align=\"left\" style=\"display:block;padding-left:5px;padding-right:5px;padding-top:5px;padding-bottom:5px;\"><div style=\"display:table;table-layout:auto;\" align=\"left\"><div style=\"display:table-row;\"><div style=\"display:table-cell;padding-right:2px; padding-left:2px;\" align=\"left\"><span style=\"color:blue; white-space:nowrap; display:inline-block;\">[path 0]: </span></div><div style=\"display:table-cell;padding-right:2px; padding-left:2px;\" align=\"left\"><div style=\"display:inline-block;\"><span>$[\\![\\mathbf{\\text{cat}}]\\!]^{}_{\\left\\langle{}e,t\\right\\rangle{}} \\:=\\: $$\\lambda{} x_{e} \\: . \\: {Cat}({x})$</span></div></div></div></div></div></div></div></div></div></div></div></div></div></div></div></div><div align=\"center\" style=\"display:table-row;padding-left:5px;padding-right:5px;padding-top:5px;padding-bottom:5px;\"><div align=\"center\" style=\"display:table-cell;\"><div align=\"center\" style=\"display:block;padding-left:5px;padding-right:5px;padding-top:5px;padding-bottom:5px;\"><div style=\"display:table;table-layout:auto;\" align=\"center\"><div style=\"display:table-row;\"><div style=\"display:table-cell;padding-right:2px; padding-left:2px;\" align=\"center\"><div style=\"display:inline-block;\"><span>$[\\![\\mathbf{\\text{N}}]\\!]$</span></div></div></div><div style=\"display:table-row;\"><div style=\"display:table-cell;padding-right:2px; padding-left:2px;\" align=\"center\"><div align=\"left\" style=\"display:block;padding-left:5px;padding-right:5px;padding-top:5px;padding-bottom:5px;\"><div style=\"display:table;table-layout:auto;\" align=\"left\"><div style=\"display:table-row;\"><div style=\"display:table-cell;padding-right:2px; padding-left:2px;\" align=\"left\"><span style=\"color:blue; white-space:nowrap; display:inline-block;\">[path 0]: </span></div><div style=\"display:table-cell;padding-right:2px; padding-left:2px;\" align=\"left\"><div style=\"display:inline-block;\"><span>$[\\![\\mathbf{\\text{N}}]\\!]^{}_{\\left\\langle{}e,t\\right\\rangle{}} \\:=\\: $$\\lambda{} x_{e} \\: . \\: {Cat}({x})$</span></div></div></div></div></div></div></div></div></div></div></div></div></div></div></div></div><div align=\"center\" style=\"display:table-row;padding-left:5px;padding-right:5px;padding-top:5px;padding-bottom:5px;\"><div align=\"center\" style=\"display:table-cell;\"><div align=\"center\" style=\"display:block;padding-left:5px;padding-right:5px;padding-top:5px;padding-bottom:5px;\"><div style=\"display:table;table-layout:auto;\" align=\"center\"><div style=\"display:table-row;\"><div style=\"display:table-cell;padding-right:2px; padding-left:2px;\" align=\"center\"><div style=\"display:inline-block;\"><span>$[\\![\\mathbf{\\text{NP}}]\\!]$</span></div></div></div><div style=\"display:table-row;\"><div style=\"display:table-cell;padding-right:2px; padding-left:2px;\" align=\"center\"><div align=\"left\" style=\"display:block;padding-left:5px;padding-right:5px;padding-top:5px;padding-bottom:5px;\"><div style=\"display:table;table-layout:auto;\" align=\"left\"><div style=\"display:table-row;\"><div style=\"display:table-cell;padding-right:2px; padding-left:2px;\" align=\"left\"><span style=\"color:blue; white-space:nowrap; display:inline-block;\">[path 0]: </span></div><div style=\"display:table-cell;padding-right:2px; padding-left:2px;\" align=\"left\"><div style=\"display:inline-block;\"><span>$[\\![\\mathbf{\\text{NP}}]\\!]^{}_{\\left\\langle{}e,t\\right\\rangle{}} \\:=\\: $$\\lambda{} x_{e} \\: . \\: ({Gray}({x}) \\wedge{} {Cat}({x}))$</span></div></div></div></div></div></div></div></div></div></div></div></div>"
      ],
      "text/plain": [
       "DisplayNode instance: HTML rendering only"
      ]
     },
     "execution_count": 58,
     "metadata": {},
     "output_type": "execute_result"
    }
   ],
   "source": [
    "r.tree()"
   ]
  },
  {
   "cell_type": "code",
   "execution_count": 59,
   "metadata": {
    "execution": {
     "iopub.execute_input": "2022-07-19T19:25:46.556150Z",
     "iopub.status.busy": "2022-07-19T19:25:46.555883Z",
     "iopub.status.idle": "2022-07-19T19:25:46.561207Z",
     "shell.execute_reply": "2022-07-19T19:25:46.560586Z"
    }
   },
   "outputs": [
    {
     "data": {
      "text/html": [
       "1 composition path:<br /><div align=\"center\" style=\"display:table; margin:5px; border-collapse: collapse;border: 1px solid #848482;\"><div align=\"center\" style=\"display:table-row;border-bottom:1px solid #848482\"><div style=\"display:table-cell;vertical-align:middle;\"><div style=\"display: table;\"><div style=\"display:table-cell;vertical-align:middle;padding-left:5px;padding-right:5px;padding-top:5px;padding-bottom:5px;\"><div align=\"center\" style=\"display:table; margin:5px; border-collapse: collapse;border: 1px solid #848482;\"><div align=\"center\" style=\"display:table-row;border-bottom:1px solid #848482\"><div style=\"display:table-cell;vertical-align:middle;\"><div style=\"display: table;\"><div style=\"display:table-cell;vertical-align:middle;padding-left:5px;padding-right:5px;padding-top:5px;padding-bottom:5px;\"><div align=\"center\" style=\"display:block;padding-left:5px;padding-right:5px;padding-top:5px;padding-bottom:5px;\"><div style=\"display:inline-block;\"><span>$[\\![\\mathbf{\\text{gray}}]\\!]^{}_{\\left\\langle{}e,t\\right\\rangle{}}$</span></div></div></div></div></div><div style=\"display:table-cell;vertical-align:middle;border-left:1px solid #848482;padding:0.5em\"><div style=\"white-space:nowrap; color:blue;\"><b>[<div style=\"display:inline-block;\"><span>Lexicon</span></div>]</b></div></div></div><div align=\"center\" style=\"display:table-row;padding-left:5px;padding-right:5px;padding-top:5px;padding-bottom:5px;\"><div align=\"center\" style=\"display:table-cell;\"><div align=\"center\" style=\"display:block;padding-left:5px;padding-right:5px;padding-top:5px;padding-bottom:5px;\"><div style=\"display:inline-block;\"><span>$\\lambda{} x_{e} \\: . \\: {Gray}({x})$</span></div></div></div><div style=\"display:table-cell;\"></div></div></div></div><div style=\"align: center; vertical-align: middle; display: table-cell;\"><span style=\"padding:1em;\">*</span></div><div style=\"display:table-cell;vertical-align:middle;padding-left:5px;padding-right:5px;padding-top:5px;padding-bottom:5px;\"><div align=\"center\" style=\"display:table; margin:5px; border-collapse: collapse;border: 1px solid #848482;\"><div align=\"center\" style=\"display:table-row;border-bottom:1px solid #848482\"><div style=\"display:table-cell;vertical-align:middle;\"><div style=\"display: table;\"><div style=\"display:table-cell;vertical-align:middle;padding-left:5px;padding-right:5px;padding-top:5px;padding-bottom:5px;\"><div align=\"center\" style=\"display:table; margin:5px; border-collapse: collapse;border: 1px solid #848482;\"><div align=\"center\" style=\"display:table-row;border-bottom:1px solid #848482\"><div style=\"display:table-cell;vertical-align:middle;\"><div style=\"display: table;\"><div style=\"display:table-cell;vertical-align:middle;padding-left:5px;padding-right:5px;padding-top:5px;padding-bottom:5px;\"><div align=\"center\" style=\"display:block;padding-left:5px;padding-right:5px;padding-top:5px;padding-bottom:5px;\"><div style=\"display:inline-block;\"><span>$[\\![\\mathbf{\\text{cat}}]\\!]^{}_{\\left\\langle{}e,t\\right\\rangle{}}$</span></div></div></div></div></div><div style=\"display:table-cell;vertical-align:middle;border-left:1px solid #848482;padding:0.5em\"><div style=\"white-space:nowrap; color:blue;\"><b>[<div style=\"display:inline-block;\"><span>Lexicon</span></div>]</b></div></div></div><div align=\"center\" style=\"display:table-row;padding-left:5px;padding-right:5px;padding-top:5px;padding-bottom:5px;\"><div align=\"center\" style=\"display:table-cell;\"><div align=\"center\" style=\"display:block;padding-left:5px;padding-right:5px;padding-top:5px;padding-bottom:5px;\"><div style=\"display:inline-block;\"><span>$\\lambda{} x_{e} \\: . \\: {Cat}({x})$</span></div></div></div><div style=\"display:table-cell;\"></div></div></div></div></div></div><div style=\"display:table-cell;vertical-align:middle;border-left:1px solid #848482;padding:0.5em\"><div style=\"white-space:nowrap; color:blue;\"><b>[<div style=\"display:inline-block;\"><span>NN</span></div>]</b></div></div></div><div align=\"center\" style=\"display:table-row;padding-left:5px;padding-right:5px;padding-top:5px;padding-bottom:5px;\"><div align=\"center\" style=\"display:table-cell;\"><div align=\"center\" style=\"display:block;padding-left:5px;padding-right:5px;padding-top:5px;padding-bottom:5px;\"><div style=\"display:table;table-layout:auto;\" align=\"center\"><div style=\"display:table-row;\"><div style=\"display:table-cell;padding-right:2px; padding-left:2px;\" align=\"center\"><div style=\"display:inline-block;\"><span>$[\\![\\mathbf{\\text{N}}]\\!]^{}_{\\left\\langle{}e,t\\right\\rangle{}}$</span></div></div></div><div style=\"display:table-row;\"><div style=\"display:table-cell;padding-right:2px; padding-left:2px;\" align=\"center\"><div style=\"display:inline-block;\"><span>$\\lambda{} x_{e} \\: . \\: {Cat}({x})$</span></div></div></div></div></div></div><div style=\"display:table-cell;\"></div></div></div></div></div></div><div style=\"display:table-cell;vertical-align:middle;border-left:1px solid #848482;padding:0.5em\"><div style=\"white-space:nowrap; color:blue;\"><b>[<div style=\"display:inline-block;\"><span>PM</span></div>]</b></div></div></div><div align=\"center\" style=\"display:table-row;padding-left:5px;padding-right:5px;padding-top:5px;padding-bottom:5px;\"><div align=\"center\" style=\"display:table-cell;\"><div align=\"center\" style=\"display:block;padding-left:5px;padding-right:5px;padding-top:5px;padding-bottom:5px;\"><div style=\"display:table;table-layout:auto;\" align=\"center\"><div style=\"display:table-row;\"><div style=\"display:table-cell;padding-right:2px; padding-left:2px;\" align=\"center\"><div style=\"display:inline-block;\"><span>$[\\![\\mathbf{\\text{NP}}]\\!]^{}_{\\left\\langle{}e,t\\right\\rangle{}}$</span></div></div></div><div style=\"display:table-row;\"><div style=\"display:table-cell;padding-right:2px; padding-left:2px;\" align=\"center\"><div style=\"display:inline-block;\"><span>$\\lambda{} x_{e} \\: . \\: ({Gray}({x}) \\wedge{} {Cat}({x}))$</span></div></div></div></div></div></div><div style=\"display:table-cell;\"></div></div></div><br /><br />"
      ],
      "text/latex": [
       "1 composition path:<br /><div align=\"center\" style=\"display:table; margin:5px; border-collapse: collapse;border: 1px solid #848482;\"><div align=\"center\" style=\"display:table-row;border-bottom:1px solid #848482\"><div style=\"display:table-cell;vertical-align:middle;\"><div style=\"display: table;\"><div style=\"display:table-cell;vertical-align:middle;padding-left:5px;padding-right:5px;padding-top:5px;padding-bottom:5px;\"><div align=\"center\" style=\"display:table; margin:5px; border-collapse: collapse;border: 1px solid #848482;\"><div align=\"center\" style=\"display:table-row;border-bottom:1px solid #848482\"><div style=\"display:table-cell;vertical-align:middle;\"><div style=\"display: table;\"><div style=\"display:table-cell;vertical-align:middle;padding-left:5px;padding-right:5px;padding-top:5px;padding-bottom:5px;\"><div align=\"center\" style=\"display:block;padding-left:5px;padding-right:5px;padding-top:5px;padding-bottom:5px;\"><div style=\"display:inline-block;\"><span>$[\\![\\mathbf{\\text{gray}}]\\!]^{}_{\\left\\langle{}e,t\\right\\rangle{}}$</span></div></div></div></div></div><div style=\"display:table-cell;vertical-align:middle;border-left:1px solid #848482;padding:0.5em\"><div style=\"white-space:nowrap; color:blue;\"><b>[<div style=\"display:inline-block;\"><span>Lexicon</span></div>]</b></div></div></div><div align=\"center\" style=\"display:table-row;padding-left:5px;padding-right:5px;padding-top:5px;padding-bottom:5px;\"><div align=\"center\" style=\"display:table-cell;\"><div align=\"center\" style=\"display:block;padding-left:5px;padding-right:5px;padding-top:5px;padding-bottom:5px;\"><div style=\"display:inline-block;\"><span>$\\lambda{} x_{e} \\: . \\: {Gray}({x})$</span></div></div></div><div style=\"display:table-cell;\"></div></div></div></div><div style=\"align: center; vertical-align: middle; display: table-cell;\"><span style=\"padding:1em;\">*</span></div><div style=\"display:table-cell;vertical-align:middle;padding-left:5px;padding-right:5px;padding-top:5px;padding-bottom:5px;\"><div align=\"center\" style=\"display:table; margin:5px; border-collapse: collapse;border: 1px solid #848482;\"><div align=\"center\" style=\"display:table-row;border-bottom:1px solid #848482\"><div style=\"display:table-cell;vertical-align:middle;\"><div style=\"display: table;\"><div style=\"display:table-cell;vertical-align:middle;padding-left:5px;padding-right:5px;padding-top:5px;padding-bottom:5px;\"><div align=\"center\" style=\"display:table; margin:5px; border-collapse: collapse;border: 1px solid #848482;\"><div align=\"center\" style=\"display:table-row;border-bottom:1px solid #848482\"><div style=\"display:table-cell;vertical-align:middle;\"><div style=\"display: table;\"><div style=\"display:table-cell;vertical-align:middle;padding-left:5px;padding-right:5px;padding-top:5px;padding-bottom:5px;\"><div align=\"center\" style=\"display:block;padding-left:5px;padding-right:5px;padding-top:5px;padding-bottom:5px;\"><div style=\"display:inline-block;\"><span>$[\\![\\mathbf{\\text{cat}}]\\!]^{}_{\\left\\langle{}e,t\\right\\rangle{}}$</span></div></div></div></div></div><div style=\"display:table-cell;vertical-align:middle;border-left:1px solid #848482;padding:0.5em\"><div style=\"white-space:nowrap; color:blue;\"><b>[<div style=\"display:inline-block;\"><span>Lexicon</span></div>]</b></div></div></div><div align=\"center\" style=\"display:table-row;padding-left:5px;padding-right:5px;padding-top:5px;padding-bottom:5px;\"><div align=\"center\" style=\"display:table-cell;\"><div align=\"center\" style=\"display:block;padding-left:5px;padding-right:5px;padding-top:5px;padding-bottom:5px;\"><div style=\"display:inline-block;\"><span>$\\lambda{} x_{e} \\: . \\: {Cat}({x})$</span></div></div></div><div style=\"display:table-cell;\"></div></div></div></div></div></div><div style=\"display:table-cell;vertical-align:middle;border-left:1px solid #848482;padding:0.5em\"><div style=\"white-space:nowrap; color:blue;\"><b>[<div style=\"display:inline-block;\"><span>NN</span></div>]</b></div></div></div><div align=\"center\" style=\"display:table-row;padding-left:5px;padding-right:5px;padding-top:5px;padding-bottom:5px;\"><div align=\"center\" style=\"display:table-cell;\"><div align=\"center\" style=\"display:block;padding-left:5px;padding-right:5px;padding-top:5px;padding-bottom:5px;\"><div style=\"display:table;table-layout:auto;\" align=\"center\"><div style=\"display:table-row;\"><div style=\"display:table-cell;padding-right:2px; padding-left:2px;\" align=\"center\"><div style=\"display:inline-block;\"><span>$[\\![\\mathbf{\\text{N}}]\\!]^{}_{\\left\\langle{}e,t\\right\\rangle{}}$</span></div></div></div><div style=\"display:table-row;\"><div style=\"display:table-cell;padding-right:2px; padding-left:2px;\" align=\"center\"><div style=\"display:inline-block;\"><span>$\\lambda{} x_{e} \\: . \\: {Cat}({x})$</span></div></div></div></div></div></div><div style=\"display:table-cell;\"></div></div></div></div></div></div><div style=\"display:table-cell;vertical-align:middle;border-left:1px solid #848482;padding:0.5em\"><div style=\"white-space:nowrap; color:blue;\"><b>[<div style=\"display:inline-block;\"><span>PM</span></div>]</b></div></div></div><div align=\"center\" style=\"display:table-row;padding-left:5px;padding-right:5px;padding-top:5px;padding-bottom:5px;\"><div align=\"center\" style=\"display:table-cell;\"><div align=\"center\" style=\"display:block;padding-left:5px;padding-right:5px;padding-top:5px;padding-bottom:5px;\"><div style=\"display:table;table-layout:auto;\" align=\"center\"><div style=\"display:table-row;\"><div style=\"display:table-cell;padding-right:2px; padding-left:2px;\" align=\"center\"><div style=\"display:inline-block;\"><span>$[\\![\\mathbf{\\text{NP}}]\\!]^{}_{\\left\\langle{}e,t\\right\\rangle{}}$</span></div></div></div><div style=\"display:table-row;\"><div style=\"display:table-cell;padding-right:2px; padding-left:2px;\" align=\"center\"><div style=\"display:inline-block;\"><span>$\\lambda{} x_{e} \\: . \\: ({Gray}({x}) \\wedge{} {Cat}({x}))$</span></div></div></div></div></div></div><div style=\"display:table-cell;\"></div></div></div><br /><br />"
      ],
      "text/plain": [
       "1 composition path:<br /><div align=\"center\" style=\"display:table; margin:5px; border-collapse: collapse;border: 1px solid #848482;\"><div align=\"center\" style=\"display:table-row;border-bottom:1px solid #848482\"><div style=\"display:table-cell;vertical-align:middle;\"><div style=\"display: table;\"><div style=\"display:table-cell;vertical-align:middle;padding-left:5px;padding-right:5px;padding-top:5px;padding-bottom:5px;\"><div align=\"center\" style=\"display:table; margin:5px; border-collapse: collapse;border: 1px solid #848482;\"><div align=\"center\" style=\"display:table-row;border-bottom:1px solid #848482\"><div style=\"display:table-cell;vertical-align:middle;\"><div style=\"display: table;\"><div style=\"display:table-cell;vertical-align:middle;padding-left:5px;padding-right:5px;padding-top:5px;padding-bottom:5px;\"><div align=\"center\" style=\"display:block;padding-left:5px;padding-right:5px;padding-top:5px;padding-bottom:5px;\"><div style=\"display:inline-block;\"><span>$[\\![\\mathbf{\\text{gray}}]\\!]^{}_{\\left\\langle{}e,t\\right\\rangle{}}$</span></div></div></div></div></div><div style=\"display:table-cell;vertical-align:middle;border-left:1px solid #848482;padding:0.5em\"><div style=\"white-space:nowrap; color:blue;\"><b>[<div style=\"display:inline-block;\"><span>Lexicon</span></div>]</b></div></div></div><div align=\"center\" style=\"display:table-row;padding-left:5px;padding-right:5px;padding-top:5px;padding-bottom:5px;\"><div align=\"center\" style=\"display:table-cell;\"><div align=\"center\" style=\"display:block;padding-left:5px;padding-right:5px;padding-top:5px;padding-bottom:5px;\"><div style=\"display:inline-block;\"><span>$\\lambda{} x_{e} \\: . \\: {Gray}({x})$</span></div></div></div><div style=\"display:table-cell;\"></div></div></div></div><div style=\"align: center; vertical-align: middle; display: table-cell;\"><span style=\"padding:1em;\">*</span></div><div style=\"display:table-cell;vertical-align:middle;padding-left:5px;padding-right:5px;padding-top:5px;padding-bottom:5px;\"><div align=\"center\" style=\"display:table; margin:5px; border-collapse: collapse;border: 1px solid #848482;\"><div align=\"center\" style=\"display:table-row;border-bottom:1px solid #848482\"><div style=\"display:table-cell;vertical-align:middle;\"><div style=\"display: table;\"><div style=\"display:table-cell;vertical-align:middle;padding-left:5px;padding-right:5px;padding-top:5px;padding-bottom:5px;\"><div align=\"center\" style=\"display:table; margin:5px; border-collapse: collapse;border: 1px solid #848482;\"><div align=\"center\" style=\"display:table-row;border-bottom:1px solid #848482\"><div style=\"display:table-cell;vertical-align:middle;\"><div style=\"display: table;\"><div style=\"display:table-cell;vertical-align:middle;padding-left:5px;padding-right:5px;padding-top:5px;padding-bottom:5px;\"><div align=\"center\" style=\"display:block;padding-left:5px;padding-right:5px;padding-top:5px;padding-bottom:5px;\"><div style=\"display:inline-block;\"><span>$[\\![\\mathbf{\\text{cat}}]\\!]^{}_{\\left\\langle{}e,t\\right\\rangle{}}$</span></div></div></div></div></div><div style=\"display:table-cell;vertical-align:middle;border-left:1px solid #848482;padding:0.5em\"><div style=\"white-space:nowrap; color:blue;\"><b>[<div style=\"display:inline-block;\"><span>Lexicon</span></div>]</b></div></div></div><div align=\"center\" style=\"display:table-row;padding-left:5px;padding-right:5px;padding-top:5px;padding-bottom:5px;\"><div align=\"center\" style=\"display:table-cell;\"><div align=\"center\" style=\"display:block;padding-left:5px;padding-right:5px;padding-top:5px;padding-bottom:5px;\"><div style=\"display:inline-block;\"><span>$\\lambda{} x_{e} \\: . \\: {Cat}({x})$</span></div></div></div><div style=\"display:table-cell;\"></div></div></div></div></div></div><div style=\"display:table-cell;vertical-align:middle;border-left:1px solid #848482;padding:0.5em\"><div style=\"white-space:nowrap; color:blue;\"><b>[<div style=\"display:inline-block;\"><span>NN</span></div>]</b></div></div></div><div align=\"center\" style=\"display:table-row;padding-left:5px;padding-right:5px;padding-top:5px;padding-bottom:5px;\"><div align=\"center\" style=\"display:table-cell;\"><div align=\"center\" style=\"display:block;padding-left:5px;padding-right:5px;padding-top:5px;padding-bottom:5px;\"><div style=\"display:table;table-layout:auto;\" align=\"center\"><div style=\"display:table-row;\"><div style=\"display:table-cell;padding-right:2px; padding-left:2px;\" align=\"center\"><div style=\"display:inline-block;\"><span>$[\\![\\mathbf{\\text{N}}]\\!]^{}_{\\left\\langle{}e,t\\right\\rangle{}}$</span></div></div></div><div style=\"display:table-row;\"><div style=\"display:table-cell;padding-right:2px; padding-left:2px;\" align=\"center\"><div style=\"display:inline-block;\"><span>$\\lambda{} x_{e} \\: . \\: {Cat}({x})$</span></div></div></div></div></div></div><div style=\"display:table-cell;\"></div></div></div></div></div></div><div style=\"display:table-cell;vertical-align:middle;border-left:1px solid #848482;padding:0.5em\"><div style=\"white-space:nowrap; color:blue;\"><b>[<div style=\"display:inline-block;\"><span>PM</span></div>]</b></div></div></div><div align=\"center\" style=\"display:table-row;padding-left:5px;padding-right:5px;padding-top:5px;padding-bottom:5px;\"><div align=\"center\" style=\"display:table-cell;\"><div align=\"center\" style=\"display:block;padding-left:5px;padding-right:5px;padding-top:5px;padding-bottom:5px;\"><div style=\"display:table;table-layout:auto;\" align=\"center\"><div style=\"display:table-row;\"><div style=\"display:table-cell;padding-right:2px; padding-left:2px;\" align=\"center\"><div style=\"display:inline-block;\"><span>$[\\![\\mathbf{\\text{NP}}]\\!]^{}_{\\left\\langle{}e,t\\right\\rangle{}}$</span></div></div></div><div style=\"display:table-row;\"><div style=\"display:table-cell;padding-right:2px; padding-left:2px;\" align=\"center\"><div style=\"display:inline-block;\"><span>$\\lambda{} x_{e} \\: . \\: ({Gray}({x}) \\wedge{} {Cat}({x}))$</span></div></div></div></div></div></div><div style=\"display:table-cell;\"></div></div></div><br /><br />"
      ]
     },
     "execution_count": 59,
     "metadata": {},
     "output_type": "execute_result"
    }
   ],
   "source": [
    "r.paths()"
   ]
  },
  {
   "cell_type": "markdown",
   "metadata": {},
   "source": [
    "&nbsp;\n",
    "\n",
    "## Some future projects, non-exhaustive ##\n",
    "\n",
    "* complete fragment of Heim and Kratzer\n",
    "* In general: more fragments!\n",
    "* extend fragment coverage.  Some interesting targets where interactivity would be useful to understanding:\n",
    "  * Compositional hamblin semantics (partial)\n",
    "  * Compositional DRT (partial)\n",
    "  * QR\n",
    "* underlying model theory.\n",
    "* various improvements to the graphics -- trees (d3? graphviz?), interactive widgets, ...\n",
    "* full latex output (trees in tikz-qtree and so on).\n",
    "\n",
    "Longer term:\n",
    "\n",
    "* integration with SymPy (?)\n",
    "* deeper integration with nltk.\n",
    "* parsing that makes less use of python `eval`, and is generally less ad-hoc.\n",
    "  * this is an issue where in principle, a language like Haskell is a better choice than python.  But I think the usability / robustness of python and its libraries has the edge here overall, not to mention ipython notebook...\n",
    "* toy spatial language system\n",
    "* side-by-side comparison of e.g. multiple analyses of presupposition projection"
   ]
  },
  {
   "cell_type": "code",
   "execution_count": null,
   "metadata": {},
   "outputs": [],
   "source": []
  }
 ],
 "metadata": {
  "kernelspec": {
   "display_name": "Lambda Notebook (Python 3)",
   "language": "python",
   "name": "lambda-notebook"
  },
  "language_info": {
   "codemirror_mode": {
    "name": "ipython",
    "version": 3
   },
   "file_extension": ".py",
   "mimetype": "text/x-python",
   "name": "python",
   "nbconvert_exporter": "python",
   "pygments_lexer": "ipython3",
   "version": "3.10.5"
  }
 },
 "nbformat": 4,
 "nbformat_minor": 4
}
