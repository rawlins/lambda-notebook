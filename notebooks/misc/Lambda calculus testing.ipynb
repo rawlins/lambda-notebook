{
 "cells": [
  {
   "cell_type": "markdown",
   "metadata": {},
   "source": [
    "# Lambda calculus testing\n",
    "## Author: Kyle Rawlins\n",
    "\n",
    "This notebook contains various examples that can be useful for testing that beta reduction is working correctly (among other things).  They also may be helpful for understanding how variable renaming works in the lambda notebook."
   ]
  },
  {
   "cell_type": "code",
   "execution_count": null,
   "metadata": {},
   "outputs": [],
   "source": [
    "lamb.reload_all()"
   ]
  },
  {
   "cell_type": "code",
   "execution_count": null,
   "metadata": {},
   "outputs": [],
   "source": [
    "x = lang.te(\"x_e\")\n",
    "y = lang.te(\"y_e\")\n",
    "z = lang.te(\"z_e\")"
   ]
  },
  {
   "cell_type": "code",
   "execution_count": null,
   "metadata": {},
   "outputs": [],
   "source": [
    "test2 = lang.te(\"L y_e : L x_e : y_e\")\n",
    "test2(x)"
   ]
  },
  {
   "cell_type": "code",
   "execution_count": null,
   "metadata": {},
   "outputs": [],
   "source": [
    "test2.apply(x)"
   ]
  },
  {
   "cell_type": "code",
   "execution_count": null,
   "metadata": {},
   "outputs": [],
   "source": [
    "meta.core.alpha_convert(test2, {\"y\"})"
   ]
  },
  {
   "cell_type": "code",
   "execution_count": null,
   "metadata": {},
   "outputs": [],
   "source": [
    "test3 = lang.te(\"L y_e : L y1_e : P(y_e) & q_t\")\n",
    "test3"
   ]
  },
  {
   "cell_type": "code",
   "execution_count": null,
   "metadata": {},
   "outputs": [],
   "source": [
    "meta.core.alpha_convert(test3, {\"x\", \"y\", \"q\"})"
   ]
  },
  {
   "cell_type": "code",
   "execution_count": null,
   "metadata": {},
   "outputs": [],
   "source": [
    "from lamb.meta.core import TypedExpr, TypedTerm, LFun\n",
    "from lamb.types import FunType, type_e, type_t\n",
    "P = TypedTerm(\"P\", FunType(type_e, type_t))\n",
    "Q = TypedTerm(\"Q\", FunType(type_e, type_t))\n",
    "x = TypedTerm(\"x\", type_e)\n",
    "y = TypedTerm(\"y\", type_e)\n",
    "t = TypedExpr.factory(P, x)\n",
    "t2 = TypedExpr.factory(Q, x)\n",
    "body = TypedExpr.factory(\"&\", t, t) | t\n",
    "p = TypedTerm(\"p\", type_t)\n",
    "testf = LFun(type_e, body)\n",
    "\n",
    "pmw_test1 = LFun(type_t, LFun(type_e, t & p, \"x\"), \"p\")\n",
    "pmw_test1b = LFun(type_e, t & t2, \"x\")\n",
    "# test: when a free variable in a function scopes under an operator, do not\n",
    "# bind the variable on application\n",
    "assert pmw_test1.apply(t2) != pmw_test1b"
   ]
  },
  {
   "cell_type": "code",
   "execution_count": null,
   "metadata": {},
   "outputs": [],
   "source": [
    "pmw_test1"
   ]
  },
  {
   "cell_type": "code",
   "execution_count": null,
   "metadata": {},
   "outputs": [],
   "source": [
    "pmw_test1b"
   ]
  },
  {
   "cell_type": "code",
   "execution_count": null,
   "metadata": {},
   "outputs": [],
   "source": [
    "pmw_test1(t2)"
   ]
  },
  {
   "cell_type": "code",
   "execution_count": null,
   "metadata": {},
   "outputs": [],
   "source": [
    "pmw_test1(t2).reduce().derivation"
   ]
  },
  {
   "cell_type": "code",
   "execution_count": null,
   "metadata": {},
   "outputs": [],
   "source": [
    "test4 = lang.te(\"L x_e : x\")\n",
    "test4"
   ]
  },
  {
   "cell_type": "code",
   "execution_count": null,
   "metadata": {},
   "outputs": [],
   "source": [
    "test4(x)"
   ]
  },
  {
   "cell_type": "code",
   "execution_count": null,
   "metadata": {},
   "outputs": [],
   "source": [
    "r = pmw_test1(t2).reduce()\n",
    "r.derivation"
   ]
  },
  {
   "cell_type": "code",
   "execution_count": null,
   "metadata": {},
   "outputs": [],
   "source": [
    "%%lamb\n",
    "collision = lambda x_e : (lambda f_<e,t> : lambda x_e : f(x))(lambda y_e : y <=> x)"
   ]
  },
  {
   "cell_type": "code",
   "execution_count": null,
   "metadata": {},
   "outputs": [],
   "source": [
    "collision.reduce_all().derivation"
   ]
  },
  {
   "cell_type": "code",
   "execution_count": null,
   "metadata": {},
   "outputs": [],
   "source": [
    "collision.reduce_all().derivation.trace()"
   ]
  },
  {
   "cell_type": "code",
   "execution_count": null,
   "metadata": {},
   "outputs": [],
   "source": [
    "lang.te(\"L y_e : Exists x_e : P(x_e)(y)\")(lang.te(\"x_e\")).reduce().derivation"
   ]
  },
  {
   "cell_type": "code",
   "execution_count": null,
   "metadata": {},
   "outputs": [],
   "source": [
    "%lamb test = (lambda w_n  : Exists q_<n,t> : q(w))"
   ]
  },
  {
   "cell_type": "code",
   "execution_count": null,
   "metadata": {},
   "outputs": [],
   "source": [
    "%lamb test = (Lambda w_n  : w)"
   ]
  },
  {
   "cell_type": "code",
   "execution_count": null,
   "metadata": {},
   "outputs": [],
   "source": [
    "%%lamb\n",
    "id = ((lambda f_<<e,e>,<e,e>> : lambda g_<e,e> : lambda x_e : (f(g))(x))(lambda h_<e,e> : h))(lambda i_e : i)"
   ]
  },
  {
   "cell_type": "code",
   "execution_count": null,
   "metadata": {},
   "outputs": [],
   "source": [
    "id.reduce_all()"
   ]
  },
  {
   "cell_type": "code",
   "execution_count": null,
   "metadata": {},
   "outputs": [],
   "source": [
    "id.reduce_all().derivation"
   ]
  },
  {
   "cell_type": "code",
   "execution_count": null,
   "metadata": {},
   "outputs": [],
   "source": [
    "id.reduce_all().derivation.trace()"
   ]
  },
  {
   "cell_type": "code",
   "execution_count": null,
   "metadata": {},
   "outputs": [],
   "source": []
  }
 ],
 "metadata": {
  "kernelspec": {
   "display_name": "Lambda Notebook (Python 3)",
   "language": "python",
   "name": "lambda-notebook"
  },
  "language_info": {
   "codemirror_mode": {
    "name": "ipython",
    "version": 3
   },
   "file_extension": ".py",
   "mimetype": "text/x-python",
   "name": "python",
   "nbconvert_exporter": "python",
   "pygments_lexer": "ipython3",
   "version": "3.12.0"
  }
 },
 "nbformat": 4,
 "nbformat_minor": 4
}
