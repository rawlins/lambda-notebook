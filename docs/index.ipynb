{
 "cells": [
  {
   "cell_type": "raw",
   "id": "a3771e8a-c2f6-412f-8564-654951dff816",
   "metadata": {},
   "source": [
    "---\n",
    "title: \"The lambda notebook package: linguistic semantics in Python and Jupyter\"\n",
    "date: 2024-08-25\n",
    "author:\n",
    "  - name: Kyle Rawlins\n",
    "    email: kgr@jhu.edu\n",
    "toc: true\n",
    "toc-expand: 2\n",
    "number-sections: true\n",
    "format:\n",
    "  html:\n",
    "    code-fold: false\n",
    "jupyter: python3\n",
    "---"
   ]
  },
  {
   "cell_type": "markdown",
   "id": "2a240e0d-eef0-4719-b2c8-9a605859bbfb",
   "metadata": {},
   "source": [
    "::: {.content-hidden}\n",
    "\n",
    "Note! This document in is partly in `quarto`-flavored markdown and can be used with the `quarto` package to generate a rendered version overview. For this reason you will see occasional raw cells and things like the first line of this cell that will render oddly as a plain jupyter notebook.\n",
    "\n",
    "# The lambda notebook package: linguistic semantics in Python and Jupyter\n",
    "\n",
    "Author: **Kyle Rawlins, [kgr@jhu.edu](kgr@jhu.edu)**\n",
    ":::"
   ]
  },
  {
   "cell_type": "code",
   "execution_count": null,
   "id": "cc6a4a99-5744-4d3f-8ab1-6da0f063c6dc",
   "metadata": {},
   "outputs": [],
   "source": [
    "#| echo: false\n",
    "import lamb.auto"
   ]
  },
  {
   "cell_type": "code",
   "execution_count": null,
   "id": "1f8c49e4-2524-4dbf-94bd-e24229491f21",
   "metadata": {},
   "outputs": [],
   "source": [
    "%%lamb\n",
    "||every|| = L f_<e,t> : L g_<e,t> : Forall x_e : f(x) >> g(x)\n",
    "||cat|| = L x_e : Cat_<e,t>(x)\n",
    "||meowed|| = L x_e : Meowed_<e,t>(x)"
   ]
  },
  {
   "cell_type": "code",
   "execution_count": null,
   "id": "075868a8-2cc3-470d-879f-9c0ddd7dadff",
   "metadata": {},
   "outputs": [],
   "source": [
    "((every * cat) * meowed).tree()"
   ]
  },
  {
   "cell_type": "markdown",
   "id": "89a6902a-1f26-4b3c-a732-b5fd1841a49f",
   "metadata": {},
   "source": [
    "# Package overview"
   ]
  },
  {
   "cell_type": "markdown",
   "id": "a42b15fe-fa15-4a78-94ed-f7dd0e920f09",
   "metadata": {},
   "source": [
    "The lambda notebook is a package and framework for doing linguistic semantics (especially compositional semantics) in Python and Jupyter, as well as for working with the standard underlying formal systems used in this field. Some use cases for the lambda notebook include:\n",
    "\n",
    "* doing and verifying calculations involving typed lambda calculus\n",
    "* doing and verifying calculations involving (mostly first-order) logics (including propositional / predicate logic, but also variants and enhanced systems)\n",
    "* implementing a research paper's analysis in order to understand it better\n",
    "* writing '*digital fragments*' -- working implementations of a compositional analysis or system developed in the course of linguistics research. These could form an appendix or supplementary materials to a paper\n",
    "* implementing a computational semantics model that makes use of core linguistic theory\n",
    "* Using tools like [quarto](https://quarto.org/) to render linguistic semantics for the web\n",
    "* ...\n",
    "\n",
    "The package consists of several pieces:\n",
    "\n",
    "1. A flexible and detailed implementation of metalanguage elements used in linguistics\n",
    "2. An implementation of the standard tools for type theory in this field, as well as underlying \"natural language ontology\"\n",
    "3. A framework for building \"composition systems\" using these metalanguage tools\n",
    "4. Tools for rendering objects involved in 1-3 in a way that will be familiar and readable to theoretical linguists, in the context of a Jupyter Notebook\n",
    "\n"
   ]
  },
  {
   "cell_type": "markdown",
   "id": "1b6a6f34-386e-4062-bd3a-35350d7fa954",
   "metadata": {},
   "source": [
    "# Installation and logistics\n",
    "\n",
    "To install the [release version](https://pypi.org/project/lambda-notebook/) from PyPI, use the `pip` command line tool: `pip install lambda-notebook`. On managed jupyter-based systems such as google colab, you can install by entering `!pip install lambda-notebook` into a notebook cell. The current unreleased version of the package can also be installed from source via the github repository: [https://github.com/rawlins/lambda-notebook](https://github.com/rawlins/lambda-notebook). On a managed system, the simplest way to do this is to run `!pip install git+https://github.com/rawlins/lambda-notebook`. Please **report bugs** on that repository via [the issue tracker on github](https://github.com/rawlins/lambda-notebook/issues) if you encounter any!\n",
    "\n",
    "Once it is installed, to activate the package, you can either open a notebook with the newly installed kernal named \"Lambda Notebook (Python 3)\", or in a regular Python 3 kernel, equivalently run:"
   ]
  },
  {
   "cell_type": "code",
   "execution_count": null,
   "id": "371bb5ae-903d-4079-8e57-1b567c43c29a",
   "metadata": {},
   "outputs": [],
   "source": [
    "import lamb.auto"
   ]
  },
  {
   "cell_type": "markdown",
   "id": "9ce55c0d-032b-4806-b7b0-5a6802ca3b52",
   "metadata": {},
   "source": [
    "The above command or kernel installs several \"IPython magics\" that are a key part of working with a lambda notebook document interactively, and injects some useful functions into an IPython namespace. However, if you'd like to import the package without automatically installing these, `import lamb` will of course work as expected.\n",
    "\n",
    "To use the package from the command line, assuming the IPython interpreter is installed, you can also run:\n",
    "\n",
    "    $ python -m lamb.console\n",
    "\n",
    "This will start a version of the IPython command line interpreter that has the lambda notebook kernel active, and supports lambda notebook magics."
   ]
  },
  {
   "cell_type": "markdown",
   "id": "8223e322-30cf-4988-9dbd-a5aa861ec83d",
   "metadata": {},
   "source": [
    "# Basic usage"
   ]
  },
  {
   "cell_type": "markdown",
   "id": "640ffda6-be16-4430-91d8-3fb481ee729c",
   "metadata": {},
   "source": [
    "This package has quite a lot of moving parts; this section just gives a brief overview.\n",
    "\n",
    "## Working with the metalanguage\n",
    "\n",
    "The lambda notebook metalanguage is flexible, python-esque typed language that is parsed into structured python objects. One way of instantiating metalanguage objects is to use the `%te` line magic. The following example builds and renders a universally quantified logical expression:"
   ]
  },
  {
   "cell_type": "code",
   "execution_count": null,
   "id": "6e177f2b-2211-47d8-9e9c-f16c77bad23f",
   "metadata": {},
   "outputs": [],
   "source": [
    "%te Forall x_e : P_<e,t>(x)"
   ]
  },
  {
   "cell_type": "markdown",
   "id": "e1e1dfa0-d3d1-4cb2-9316-b4df74618f4e",
   "metadata": {},
   "source": [
    "The following example builds and renders a lambda expression containing a quantified expression. In addition, it assigns the value of this expression to the python variable `f`:"
   ]
  },
  {
   "cell_type": "code",
   "execution_count": null,
   "id": "bfa3c462-c1be-4696-9ab3-f77bc98d5187",
   "metadata": {},
   "outputs": [],
   "source": [
    "f = %te L x_e : Forall y_e : Q(x,y)\n",
    "f"
   ]
  },
  {
   "cell_type": "markdown",
   "id": "5fd81198-d7dd-4c24-a138-5b49879109f4",
   "metadata": {},
   "source": [
    "`f` can now be examined and manipulated in various ways, for example by using indexing to inspect its structure, or looking at its `type` property."
   ]
  },
  {
   "cell_type": "code",
   "execution_count": null,
   "id": "a9bb634e-c67b-440d-b639-a3800aca5d8d",
   "metadata": {},
   "outputs": [],
   "source": [
    "f[1]"
   ]
  },
  {
   "cell_type": "code",
   "execution_count": null,
   "id": "6c5c0400-52c9-49ce-b988-ec56480e0036",
   "metadata": {},
   "outputs": [],
   "source": [
    "f.type"
   ]
  },
  {
   "cell_type": "markdown",
   "id": "a3c6bc32-8ef8-4802-8b75-dbb71daa012a",
   "metadata": {},
   "source": [
    "**More info**: For more information on the metalanguage and its capabilities, see the various [documentation notebooks](https://github.com/rawlins/lambda-notebook/tree/master/notebooks/documentation) in the source repository."
   ]
  },
  {
   "cell_type": "markdown",
   "id": "27bebebc-907b-4ba2-b90e-fe0c38c75b71",
   "metadata": {},
   "source": [
    "## Working with composition systems\n",
    "\n",
    "You can use metalanguage objects to define lexical entries that can the be composed with a \"composition system\" -- a collection of composition operations. The default composition system is a standard one with Function Application and several other rules familiar from e.g. Heim and Kratzer 1998.\n",
    "\n",
    "To replicate the starting example in this document, we can first define lexical entries for the three words using metalanguage code in the `%%lamb` cell magic:"
   ]
  },
  {
   "cell_type": "code",
   "execution_count": null,
   "id": "b13e9d42-ad72-4cc7-a394-9788c30b8aec",
   "metadata": {},
   "outputs": [],
   "source": [
    "%%lamb\n",
    "||every|| = L f_<e,t> : L g_<e,t> : Forall x_e : f(x) >> g(x)\n",
    "||cat|| = L x_e : Cat_<e,t>(x)\n",
    "||meowed|| = L x_e : Meowed_<e,t>(x)"
   ]
  },
  {
   "cell_type": "markdown",
   "id": "0230ecd9-6928-4053-9e15-6041d6b6d04b",
   "metadata": {},
   "source": [
    "The rendered outputs will look relatively familiar from an introductory semantics class. Lexical entries defined this way are also exported to the outer namespace in a jupyter context, so we can refer to the entries via their names in python as well. Now that these entries are defined, the python `*` operator is overloaded to do composition according to the current composition system. For example, to compose \"every\" and \"cat\" above, we can simply write:"
   ]
  },
  {
   "cell_type": "code",
   "execution_count": null,
   "id": "250aaa92-dffb-4d94-8463-b64958cfbc13",
   "metadata": {},
   "outputs": [],
   "source": [
    "every * cat"
   ]
  },
  {
   "cell_type": "markdown",
   "id": "5610dd7a-ee2f-4ec8-87a2-a92ac3a11be9",
   "metadata": {},
   "source": [
    "There's quite a lot of manipulation and introspection that can be done with composition objects, but for example, the following shows a step by step breakdown with the rules indicated:"
   ]
  },
  {
   "cell_type": "code",
   "execution_count": null,
   "id": "4ca78775-e8bb-488c-a294-2af56043795e",
   "metadata": {},
   "outputs": [],
   "source": [
    "(every * cat).trace()"
   ]
  },
  {
   "cell_type": "markdown",
   "id": "7f8558ec-aa0a-406c-999f-13cfead6f4cf",
   "metadata": {},
   "source": [
    "The following (which adds the main verb as well) shows a more complex sequence with a tree-like visualization:"
   ]
  },
  {
   "cell_type": "code",
   "execution_count": null,
   "id": "0481629b-a898-4dcb-984e-9d860d8e7e04",
   "metadata": {},
   "outputs": [],
   "source": [
    "((every * cat) * meowed).tree()"
   ]
  },
  {
   "cell_type": "markdown",
   "id": "6db56ef0-311a-4310-87aa-66ba9023e05f",
   "metadata": {},
   "source": [
    "Of course, Function Application (and other composition rules) will ensure that types are verified, and composition won't succeed if the types are mismatched. For example, \"every\" wouldn't be able to compose directly with a two-place (type $\\langle e, \\langle e,t \\rangle \\rangle$) predicate:"
   ]
  },
  {
   "cell_type": "code",
   "execution_count": null,
   "id": "6bd05db7-d130-41d7-bf65-68be597f838e",
   "metadata": {},
   "outputs": [],
   "source": [
    "%%lamb\n",
    "||sister|| = L x_e  : L y_e : SisterOf(y,x)"
   ]
  },
  {
   "cell_type": "code",
   "execution_count": null,
   "id": "e2d2e44a-4e1a-4c11-bf72-92e863c068b8",
   "metadata": {},
   "outputs": [],
   "source": [
    "every * sister"
   ]
  },
  {
   "cell_type": "markdown",
   "id": "7b5906df-ac07-491e-97b4-68613e6265e3",
   "metadata": {},
   "source": [
    "You can see from the above that the default composition system has a number of other rules that are tried in addition to standard FA, but of course none of them work in this case.\n",
    "\n",
    "**More info**: For more on composition systems and composition, see the interactive [documentation notebook](https://github.com/rawlins/lambda-notebook/blob/master/notebooks/documentation/Composition.ipynb) as well as many example [fragments](https://github.com/rawlins/lambda-notebook/tree/master/notebooks/fragments) that illustrate how to do things like modify a composition system."
   ]
  },
  {
   "cell_type": "markdown",
   "id": "19ca4d6f-6649-4a5a-bd19-b9e19c9ce917",
   "metadata": {},
   "source": [
    "# Further resources\n",
    "\n",
    "The easiest way to get started is to look at examples. As linked above, the package provides [many example and documentation notebooks](https://github.com/rawlins/lambda-notebook/tree/master/notebooks). Note: these are saved in the repository unexecuted (with no output), and meant to be used interactively.\n",
    "\n",
    "In 2022 I taught a [class at the North American Summer School on Logic, Language and Information](https://rawlins.io/teaching/nasslli2022/) on the lambda notebook (as it was at the time, of course). The slides and demos provided there may be useful to semanticists and logicians who have minimal computational background."
   ]
  },
  {
   "cell_type": "code",
   "execution_count": null,
   "id": "f6a3c870-ead1-4f3d-8c27-faccbed63fa2",
   "metadata": {},
   "outputs": [],
   "source": []
  }
 ],
 "metadata": {
  "kernelspec": {
   "display_name": "Python 3 (ipykernel)",
   "language": "python",
   "name": "python3"
  },
  "language_info": {
   "codemirror_mode": {
    "name": "ipython",
    "version": 3
   },
   "file_extension": ".py",
   "mimetype": "text/x-python",
   "name": "python",
   "nbconvert_exporter": "python",
   "pygments_lexer": "ipython3",
   "version": "3.11.9"
  }
 },
 "nbformat": 4,
 "nbformat_minor": 5
}
